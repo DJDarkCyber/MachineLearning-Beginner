{
  "nbformat": 4,
  "nbformat_minor": 0,
  "metadata": {
    "colab": {
      "provenance": [],
      "toc_visible": true
    },
    "kernelspec": {
      "name": "python3",
      "display_name": "Python 3"
    },
    "language_info": {
      "name": "python"
    },
    "gpuClass": "standard"
  },
  "cells": [
    {
      "cell_type": "code",
      "execution_count": 1,
      "metadata": {
        "colab": {
          "base_uri": "https://localhost:8080/"
        },
        "id": "5uzTiR_LJ8HI",
        "outputId": "077395ad-7165-4051-b6f6-de08167a2032"
      },
      "outputs": [
        {
          "output_type": "stream",
          "name": "stdout",
          "text": [
            "Downloading china-covid-cases-and-deaths.zip to /content\n",
            "\n"
          ]
        },
        {
          "output_type": "stream",
          "name": "stderr",
          "text": [
            "\r  0%|          | 0.00/7.62k [00:00<?, ?B/s]\r100%|██████████| 7.62k/7.62k [00:00<00:00, 8.41MB/s]\n"
          ]
        }
      ],
      "source": [
        "%%bash\n",
        "\n",
        "pip install -q kaggle\n",
        "mkdir -p ~/.kaggle\n",
        "cp drive/MyDrive/kaggle.json ~/.kaggle/\n",
        "chmod 600 /root/.kaggle/kaggle.json\n",
        "kaggle datasets download -d sandhyakrishnan02/china-covid-cases-and-deaths"
      ]
    },
    {
      "cell_type": "code",
      "source": [
        "!unzip china-covid-cases-and-deaths.zip"
      ],
      "metadata": {
        "id": "k4shSK6sqZam",
        "colab": {
          "base_uri": "https://localhost:8080/"
        },
        "outputId": "4b0fc941-90e7-440d-f4fe-4635afaa0d06"
      },
      "execution_count": 2,
      "outputs": [
        {
          "output_type": "stream",
          "name": "stdout",
          "text": [
            "Archive:  china-covid-cases-and-deaths.zip\n",
            "  inflating: China_Covid.csv         \n"
          ]
        }
      ]
    },
    {
      "cell_type": "markdown",
      "source": [
        "# China Covid Cases using RNN\n",
        "\n",
        "## Getting data"
      ],
      "metadata": {
        "id": "licatU8EL1Ez"
      }
    },
    {
      "cell_type": "code",
      "source": [
        "import pandas as pd\n",
        "import numpy as np "
      ],
      "metadata": {
        "id": "iDfzUe1hF5Nk"
      },
      "execution_count": 7,
      "outputs": []
    },
    {
      "cell_type": "code",
      "source": [
        "df = pd.read_csv(\"China_Covid.csv\")\n",
        "df.head()"
      ],
      "metadata": {
        "colab": {
          "base_uri": "https://localhost:8080/",
          "height": 206
        },
        "id": "TR_Cq3LKGAEF",
        "outputId": "15d5526b-e705-448c-b068-049161ba29a6"
      },
      "execution_count": 8,
      "outputs": [
        {
          "output_type": "execute_result",
          "data": {
            "text/plain": [
              "        Date  Total Cases  Total Death\n",
              "0  05 Jan 23      4613307        17336\n",
              "1  04 Jan 23      4596884        17273\n",
              "2  03 Jan 23      4580698        17198\n",
              "3  02 Jan 23      4560468        17124\n",
              "4  01 Jan 23      4537107        17062"
            ],
            "text/html": [
              "\n",
              "  <div id=\"df-6a89df16-6b1d-4654-813b-9a8b72d700b5\">\n",
              "    <div class=\"colab-df-container\">\n",
              "      <div>\n",
              "<style scoped>\n",
              "    .dataframe tbody tr th:only-of-type {\n",
              "        vertical-align: middle;\n",
              "    }\n",
              "\n",
              "    .dataframe tbody tr th {\n",
              "        vertical-align: top;\n",
              "    }\n",
              "\n",
              "    .dataframe thead th {\n",
              "        text-align: right;\n",
              "    }\n",
              "</style>\n",
              "<table border=\"1\" class=\"dataframe\">\n",
              "  <thead>\n",
              "    <tr style=\"text-align: right;\">\n",
              "      <th></th>\n",
              "      <th>Date</th>\n",
              "      <th>Total Cases</th>\n",
              "      <th>Total Death</th>\n",
              "    </tr>\n",
              "  </thead>\n",
              "  <tbody>\n",
              "    <tr>\n",
              "      <th>0</th>\n",
              "      <td>05 Jan 23</td>\n",
              "      <td>4613307</td>\n",
              "      <td>17336</td>\n",
              "    </tr>\n",
              "    <tr>\n",
              "      <th>1</th>\n",
              "      <td>04 Jan 23</td>\n",
              "      <td>4596884</td>\n",
              "      <td>17273</td>\n",
              "    </tr>\n",
              "    <tr>\n",
              "      <th>2</th>\n",
              "      <td>03 Jan 23</td>\n",
              "      <td>4580698</td>\n",
              "      <td>17198</td>\n",
              "    </tr>\n",
              "    <tr>\n",
              "      <th>3</th>\n",
              "      <td>02 Jan 23</td>\n",
              "      <td>4560468</td>\n",
              "      <td>17124</td>\n",
              "    </tr>\n",
              "    <tr>\n",
              "      <th>4</th>\n",
              "      <td>01 Jan 23</td>\n",
              "      <td>4537107</td>\n",
              "      <td>17062</td>\n",
              "    </tr>\n",
              "  </tbody>\n",
              "</table>\n",
              "</div>\n",
              "      <button class=\"colab-df-convert\" onclick=\"convertToInteractive('df-6a89df16-6b1d-4654-813b-9a8b72d700b5')\"\n",
              "              title=\"Convert this dataframe to an interactive table.\"\n",
              "              style=\"display:none;\">\n",
              "        \n",
              "  <svg xmlns=\"http://www.w3.org/2000/svg\" height=\"24px\"viewBox=\"0 0 24 24\"\n",
              "       width=\"24px\">\n",
              "    <path d=\"M0 0h24v24H0V0z\" fill=\"none\"/>\n",
              "    <path d=\"M18.56 5.44l.94 2.06.94-2.06 2.06-.94-2.06-.94-.94-2.06-.94 2.06-2.06.94zm-11 1L8.5 8.5l.94-2.06 2.06-.94-2.06-.94L8.5 2.5l-.94 2.06-2.06.94zm10 10l.94 2.06.94-2.06 2.06-.94-2.06-.94-.94-2.06-.94 2.06-2.06.94z\"/><path d=\"M17.41 7.96l-1.37-1.37c-.4-.4-.92-.59-1.43-.59-.52 0-1.04.2-1.43.59L10.3 9.45l-7.72 7.72c-.78.78-.78 2.05 0 2.83L4 21.41c.39.39.9.59 1.41.59.51 0 1.02-.2 1.41-.59l7.78-7.78 2.81-2.81c.8-.78.8-2.07 0-2.86zM5.41 20L4 18.59l7.72-7.72 1.47 1.35L5.41 20z\"/>\n",
              "  </svg>\n",
              "      </button>\n",
              "      \n",
              "  <style>\n",
              "    .colab-df-container {\n",
              "      display:flex;\n",
              "      flex-wrap:wrap;\n",
              "      gap: 12px;\n",
              "    }\n",
              "\n",
              "    .colab-df-convert {\n",
              "      background-color: #E8F0FE;\n",
              "      border: none;\n",
              "      border-radius: 50%;\n",
              "      cursor: pointer;\n",
              "      display: none;\n",
              "      fill: #1967D2;\n",
              "      height: 32px;\n",
              "      padding: 0 0 0 0;\n",
              "      width: 32px;\n",
              "    }\n",
              "\n",
              "    .colab-df-convert:hover {\n",
              "      background-color: #E2EBFA;\n",
              "      box-shadow: 0px 1px 2px rgba(60, 64, 67, 0.3), 0px 1px 3px 1px rgba(60, 64, 67, 0.15);\n",
              "      fill: #174EA6;\n",
              "    }\n",
              "\n",
              "    [theme=dark] .colab-df-convert {\n",
              "      background-color: #3B4455;\n",
              "      fill: #D2E3FC;\n",
              "    }\n",
              "\n",
              "    [theme=dark] .colab-df-convert:hover {\n",
              "      background-color: #434B5C;\n",
              "      box-shadow: 0px 1px 3px 1px rgba(0, 0, 0, 0.15);\n",
              "      filter: drop-shadow(0px 1px 2px rgba(0, 0, 0, 0.3));\n",
              "      fill: #FFFFFF;\n",
              "    }\n",
              "  </style>\n",
              "\n",
              "      <script>\n",
              "        const buttonEl =\n",
              "          document.querySelector('#df-6a89df16-6b1d-4654-813b-9a8b72d700b5 button.colab-df-convert');\n",
              "        buttonEl.style.display =\n",
              "          google.colab.kernel.accessAllowed ? 'block' : 'none';\n",
              "\n",
              "        async function convertToInteractive(key) {\n",
              "          const element = document.querySelector('#df-6a89df16-6b1d-4654-813b-9a8b72d700b5');\n",
              "          const dataTable =\n",
              "            await google.colab.kernel.invokeFunction('convertToInteractive',\n",
              "                                                     [key], {});\n",
              "          if (!dataTable) return;\n",
              "\n",
              "          const docLinkHtml = 'Like what you see? Visit the ' +\n",
              "            '<a target=\"_blank\" href=https://colab.research.google.com/notebooks/data_table.ipynb>data table notebook</a>'\n",
              "            + ' to learn more about interactive tables.';\n",
              "          element.innerHTML = '';\n",
              "          dataTable['output_type'] = 'display_data';\n",
              "          await google.colab.output.renderOutput(dataTable, element);\n",
              "          const docLink = document.createElement('div');\n",
              "          docLink.innerHTML = docLinkHtml;\n",
              "          element.appendChild(docLink);\n",
              "        }\n",
              "      </script>\n",
              "    </div>\n",
              "  </div>\n",
              "  "
            ]
          },
          "metadata": {},
          "execution_count": 8
        }
      ]
    },
    {
      "cell_type": "markdown",
      "source": [
        "## Cleaning Data"
      ],
      "metadata": {
        "id": "FpvC4v7TGRZt"
      }
    },
    {
      "cell_type": "code",
      "source": [
        "df.drop(\"Date\", axis=1, inplace=True) \n"
      ],
      "metadata": {
        "id": "XD45mepqGY0-"
      },
      "execution_count": 9,
      "outputs": []
    },
    {
      "cell_type": "code",
      "source": [
        "df.isna().sum()"
      ],
      "metadata": {
        "colab": {
          "base_uri": "https://localhost:8080/"
        },
        "id": "HDR_qOMEGkED",
        "outputId": "4e5b7900-2378-4adb-a547-0ddd7e42055e"
      },
      "execution_count": 10,
      "outputs": [
        {
          "output_type": "execute_result",
          "data": {
            "text/plain": [
              "Total Cases    0\n",
              "Total Death    0\n",
              "dtype: int64"
            ]
          },
          "metadata": {},
          "execution_count": 10
        }
      ]
    },
    {
      "cell_type": "markdown",
      "source": [
        "## Preprocessing Data"
      ],
      "metadata": {
        "id": "goc0NZziG4Rd"
      }
    },
    {
      "cell_type": "code",
      "source": [
        "training_set = df.iloc[:, 0:1].values\n",
        "training_set"
      ],
      "metadata": {
        "colab": {
          "base_uri": "https://localhost:8080/"
        },
        "id": "_uoTDgh6L6ks",
        "outputId": "8a3d7ce2-5f40-4b6b-c871-f8100be61238"
      },
      "execution_count": 50,
      "outputs": [
        {
          "output_type": "execute_result",
          "data": {
            "text/plain": [
              "array([[   17],\n",
              "       [   18],\n",
              "       [   26],\n",
              "       ...,\n",
              "       [17198],\n",
              "       [17273],\n",
              "       [17336]])"
            ]
          },
          "metadata": {},
          "execution_count": 50
        }
      ]
    },
    {
      "cell_type": "code",
      "source": [
        "from sklearn.preprocessing import MinMaxScaler\n",
        "\n",
        "sc = MinMaxScaler(feature_range=(0, 1))\n",
        "training_set_scaled = sc.fit_transform(training_set)\n",
        "training_set_scaled"
      ],
      "metadata": {
        "colab": {
          "base_uri": "https://localhost:8080/"
        },
        "id": "DXoDudvnOj5Y",
        "outputId": "0f26bc6d-33b6-480d-aa6c-2f987e9ea245"
      },
      "execution_count": 52,
      "outputs": [
        {
          "output_type": "execute_result",
          "data": {
            "text/plain": [
              "array([[0.00000000e+00],\n",
              "       [5.77400543e-05],\n",
              "       [5.19660488e-04],\n",
              "       ...,\n",
              "       [9.92031873e-01],\n",
              "       [9.96362377e-01],\n",
              "       [1.00000000e+00]])"
            ]
          },
          "metadata": {},
          "execution_count": 52
        }
      ]
    },
    {
      "cell_type": "code",
      "source": [
        "X = []\n",
        "y = []\n",
        "\n",
        "for i in range(60, len(df)):\n",
        "  X.append(training_set_scaled[i-60:i, 0])\n",
        "  y.append(training_set_scaled[i, 0])\n",
        "\n",
        "X ,y = np.array(X), np.array(y)"
      ],
      "metadata": {
        "id": "gvrxta_2Parw"
      },
      "execution_count": 53,
      "outputs": []
    },
    {
      "cell_type": "code",
      "source": [
        "X"
      ],
      "metadata": {
        "colab": {
          "base_uri": "https://localhost:8080/"
        },
        "id": "BuQ3D2kpQi9y",
        "outputId": "83147e0f-3172-4db4-8cb1-f7ea556a3778"
      },
      "execution_count": 54,
      "outputs": [
        {
          "output_type": "execute_result",
          "data": {
            "text/plain": [
              "array([[0.00000000e+00, 5.77400543e-05, 5.19660488e-04, ...,\n",
              "        1.86615855e-01, 1.86846816e-01, 1.87193256e-01],\n",
              "       [5.77400543e-05, 5.19660488e-04, 1.44350136e-03, ...,\n",
              "        1.86846816e-01, 1.87193256e-01, 1.88059357e-01],\n",
              "       [5.19660488e-04, 1.44350136e-03, 2.25186212e-03, ...,\n",
              "        1.87193256e-01, 1.88059357e-01, 1.88059357e-01],\n",
              "       ...,\n",
              "       [9.03227669e-01, 9.03862810e-01, 9.04902131e-01, ...,\n",
              "        9.81176742e-01, 9.84179225e-01, 9.87759108e-01],\n",
              "       [9.03862810e-01, 9.04902131e-01, 9.05652751e-01, ...,\n",
              "        9.84179225e-01, 9.87759108e-01, 9.92031873e-01],\n",
              "       [9.04902131e-01, 9.05652751e-01, 9.05941452e-01, ...,\n",
              "        9.87759108e-01, 9.92031873e-01, 9.96362377e-01]])"
            ]
          },
          "metadata": {},
          "execution_count": 54
        }
      ]
    },
    {
      "cell_type": "code",
      "source": [
        "X = np.reshape(X, (X.shape[0], X.shape[1], 1))\n",
        "X"
      ],
      "metadata": {
        "colab": {
          "base_uri": "https://localhost:8080/"
        },
        "id": "KAMrCDEHQjn1",
        "outputId": "3ce21462-fb0c-4650-b986-cc69069b681c"
      },
      "execution_count": 55,
      "outputs": [
        {
          "output_type": "execute_result",
          "data": {
            "text/plain": [
              "array([[[0.00000000e+00],\n",
              "        [5.77400543e-05],\n",
              "        [5.19660488e-04],\n",
              "        ...,\n",
              "        [1.86615855e-01],\n",
              "        [1.86846816e-01],\n",
              "        [1.87193256e-01]],\n",
              "\n",
              "       [[5.77400543e-05],\n",
              "        [5.19660488e-04],\n",
              "        [1.44350136e-03],\n",
              "        ...,\n",
              "        [1.86846816e-01],\n",
              "        [1.87193256e-01],\n",
              "        [1.88059357e-01]],\n",
              "\n",
              "       [[5.19660488e-04],\n",
              "        [1.44350136e-03],\n",
              "        [2.25186212e-03],\n",
              "        ...,\n",
              "        [1.87193256e-01],\n",
              "        [1.88059357e-01],\n",
              "        [1.88059357e-01]],\n",
              "\n",
              "       ...,\n",
              "\n",
              "       [[9.03227669e-01],\n",
              "        [9.03862810e-01],\n",
              "        [9.04902131e-01],\n",
              "        ...,\n",
              "        [9.81176742e-01],\n",
              "        [9.84179225e-01],\n",
              "        [9.87759108e-01]],\n",
              "\n",
              "       [[9.03862810e-01],\n",
              "        [9.04902131e-01],\n",
              "        [9.05652751e-01],\n",
              "        ...,\n",
              "        [9.84179225e-01],\n",
              "        [9.87759108e-01],\n",
              "        [9.92031873e-01]],\n",
              "\n",
              "       [[9.04902131e-01],\n",
              "        [9.05652751e-01],\n",
              "        [9.05941452e-01],\n",
              "        ...,\n",
              "        [9.87759108e-01],\n",
              "        [9.92031873e-01],\n",
              "        [9.96362377e-01]]])"
            ]
          },
          "metadata": {},
          "execution_count": 55
        }
      ]
    },
    {
      "cell_type": "markdown",
      "source": [
        "## Traning Model"
      ],
      "metadata": {
        "id": "eavQlYTAVOa6"
      }
    },
    {
      "cell_type": "code",
      "source": [
        "from keras.models import Sequential\n",
        "from keras.layers import Dense\n",
        "from keras.layers import LSTM\n",
        "from keras.layers import Dropout"
      ],
      "metadata": {
        "id": "ufnDHnJ_RAMM"
      },
      "execution_count": 56,
      "outputs": []
    },
    {
      "cell_type": "code",
      "source": [
        "regressor = Sequential()"
      ],
      "metadata": {
        "id": "3hoBsr09RR0o"
      },
      "execution_count": 61,
      "outputs": []
    },
    {
      "cell_type": "code",
      "source": [
        "regressor.add(LSTM(units=50, return_sequences=True, input_shape=(X.shape[1], 1)))\n",
        "regressor.add(Dropout(0.2))\n",
        "regressor.add(LSTM(units=50, return_sequences=True))\n",
        "regressor.add(Dropout(0.2))\n",
        "regressor.add(LSTM(units=50, return_sequences=True))\n",
        "regressor.add(Dropout(0.2))\n",
        "regressor.add(LSTM(units=50, return_sequences=True))\n",
        "regressor.add(Dropout(0.2))\n",
        "regressor.add(Dense(units=1))\n",
        "regressor.compile(optimizer='adam', loss='mean_squared_error')"
      ],
      "metadata": {
        "id": "FmiGTt8NRVx4"
      },
      "execution_count": 62,
      "outputs": []
    },
    {
      "cell_type": "code",
      "source": [
        "regressor.fit(X, y, epochs=100, batch_size=32)"
      ],
      "metadata": {
        "colab": {
          "base_uri": "https://localhost:8080/"
        },
        "id": "bp70aWPwSi5n",
        "outputId": "ce99c7e4-9517-4966-c23f-eac272f6d40f"
      },
      "execution_count": 63,
      "outputs": [
        {
          "output_type": "stream",
          "name": "stdout",
          "text": [
            "Epoch 1/100\n",
            "32/32 [==============================] - 9s 99ms/step - loss: 0.1189\n",
            "Epoch 2/100\n",
            "32/32 [==============================] - 3s 97ms/step - loss: 0.0816\n",
            "Epoch 3/100\n",
            "32/32 [==============================] - 3s 106ms/step - loss: 0.0779\n",
            "Epoch 4/100\n",
            "32/32 [==============================] - 3s 99ms/step - loss: 0.0785\n",
            "Epoch 5/100\n",
            "32/32 [==============================] - 3s 99ms/step - loss: 0.0770\n",
            "Epoch 6/100\n",
            "32/32 [==============================] - 3s 99ms/step - loss: 0.0758\n",
            "Epoch 7/100\n",
            "32/32 [==============================] - 3s 98ms/step - loss: 0.0752\n",
            "Epoch 8/100\n",
            "32/32 [==============================] - 3s 99ms/step - loss: 0.0750\n",
            "Epoch 9/100\n",
            "32/32 [==============================] - 3s 99ms/step - loss: 0.0747\n",
            "Epoch 10/100\n",
            "32/32 [==============================] - 3s 99ms/step - loss: 0.0747\n",
            "Epoch 11/100\n",
            "32/32 [==============================] - 3s 100ms/step - loss: 0.0745\n",
            "Epoch 12/100\n",
            "32/32 [==============================] - 3s 98ms/step - loss: 0.0742\n",
            "Epoch 13/100\n",
            "32/32 [==============================] - 3s 99ms/step - loss: 0.0737\n",
            "Epoch 14/100\n",
            "32/32 [==============================] - 3s 98ms/step - loss: 0.0733\n",
            "Epoch 15/100\n",
            "32/32 [==============================] - 3s 98ms/step - loss: 0.0736\n",
            "Epoch 16/100\n",
            "32/32 [==============================] - 4s 113ms/step - loss: 0.0734\n",
            "Epoch 17/100\n",
            "32/32 [==============================] - 3s 96ms/step - loss: 0.0746\n",
            "Epoch 18/100\n",
            "32/32 [==============================] - 3s 97ms/step - loss: 0.0733\n",
            "Epoch 19/100\n",
            "32/32 [==============================] - 3s 98ms/step - loss: 0.0735\n",
            "Epoch 20/100\n",
            "32/32 [==============================] - 3s 100ms/step - loss: 0.0732\n",
            "Epoch 21/100\n",
            "32/32 [==============================] - 3s 100ms/step - loss: 0.0732\n",
            "Epoch 22/100\n",
            "32/32 [==============================] - 3s 100ms/step - loss: 0.0728\n",
            "Epoch 23/100\n",
            "32/32 [==============================] - 3s 99ms/step - loss: 0.0731\n",
            "Epoch 24/100\n",
            "32/32 [==============================] - 3s 98ms/step - loss: 0.0726\n",
            "Epoch 25/100\n",
            "32/32 [==============================] - 3s 98ms/step - loss: 0.0726\n",
            "Epoch 26/100\n",
            "32/32 [==============================] - 3s 100ms/step - loss: 0.0729\n",
            "Epoch 27/100\n",
            "32/32 [==============================] - 5s 146ms/step - loss: 0.0729\n",
            "Epoch 28/100\n",
            "32/32 [==============================] - 4s 116ms/step - loss: 0.0726\n",
            "Epoch 29/100\n",
            "32/32 [==============================] - 3s 101ms/step - loss: 0.0726\n",
            "Epoch 30/100\n",
            "32/32 [==============================] - 3s 97ms/step - loss: 0.0729\n",
            "Epoch 31/100\n",
            "32/32 [==============================] - 3s 96ms/step - loss: 0.0726\n",
            "Epoch 32/100\n",
            "32/32 [==============================] - 3s 98ms/step - loss: 0.0723\n",
            "Epoch 33/100\n",
            "32/32 [==============================] - 3s 97ms/step - loss: 0.0724\n",
            "Epoch 34/100\n",
            "32/32 [==============================] - 3s 98ms/step - loss: 0.0725\n",
            "Epoch 35/100\n",
            "32/32 [==============================] - 3s 98ms/step - loss: 0.0724\n",
            "Epoch 36/100\n",
            "32/32 [==============================] - 3s 98ms/step - loss: 0.0727\n",
            "Epoch 37/100\n",
            "32/32 [==============================] - 3s 99ms/step - loss: 0.0721\n",
            "Epoch 38/100\n",
            "32/32 [==============================] - 3s 101ms/step - loss: 0.0722\n",
            "Epoch 39/100\n",
            "32/32 [==============================] - 3s 99ms/step - loss: 0.0723\n",
            "Epoch 40/100\n",
            "32/32 [==============================] - 3s 97ms/step - loss: 0.0722\n",
            "Epoch 41/100\n",
            "32/32 [==============================] - 3s 98ms/step - loss: 0.0722\n",
            "Epoch 42/100\n",
            "32/32 [==============================] - 3s 97ms/step - loss: 0.0721\n",
            "Epoch 43/100\n",
            "32/32 [==============================] - 3s 99ms/step - loss: 0.0719\n",
            "Epoch 44/100\n",
            "32/32 [==============================] - 3s 100ms/step - loss: 0.0730\n",
            "Epoch 45/100\n",
            "32/32 [==============================] - 3s 98ms/step - loss: 0.0724\n",
            "Epoch 46/100\n",
            "32/32 [==============================] - 3s 98ms/step - loss: 0.0721\n",
            "Epoch 47/100\n",
            "32/32 [==============================] - 3s 99ms/step - loss: 0.0719\n",
            "Epoch 48/100\n",
            "32/32 [==============================] - 3s 100ms/step - loss: 0.0722\n",
            "Epoch 49/100\n",
            "32/32 [==============================] - 3s 99ms/step - loss: 0.0726\n",
            "Epoch 50/100\n",
            "32/32 [==============================] - 3s 99ms/step - loss: 0.0725\n",
            "Epoch 51/100\n",
            "32/32 [==============================] - 3s 97ms/step - loss: 0.0725\n",
            "Epoch 52/100\n",
            "32/32 [==============================] - 3s 100ms/step - loss: 0.0723\n",
            "Epoch 53/100\n",
            "32/32 [==============================] - 3s 99ms/step - loss: 0.0721\n",
            "Epoch 54/100\n",
            "32/32 [==============================] - 3s 99ms/step - loss: 0.0720\n",
            "Epoch 55/100\n",
            "32/32 [==============================] - 3s 98ms/step - loss: 0.0719\n",
            "Epoch 56/100\n",
            "32/32 [==============================] - 3s 98ms/step - loss: 0.0719\n",
            "Epoch 57/100\n",
            "32/32 [==============================] - 3s 100ms/step - loss: 0.0719\n",
            "Epoch 58/100\n",
            "32/32 [==============================] - 3s 99ms/step - loss: 0.0720\n",
            "Epoch 59/100\n",
            "32/32 [==============================] - 3s 98ms/step - loss: 0.0719\n",
            "Epoch 60/100\n",
            "32/32 [==============================] - 3s 99ms/step - loss: 0.0720\n",
            "Epoch 61/100\n",
            "32/32 [==============================] - 3s 100ms/step - loss: 0.0720\n",
            "Epoch 62/100\n",
            "32/32 [==============================] - 3s 98ms/step - loss: 0.0722\n",
            "Epoch 63/100\n",
            "32/32 [==============================] - 3s 99ms/step - loss: 0.0719\n",
            "Epoch 64/100\n",
            "32/32 [==============================] - 3s 98ms/step - loss: 0.0720\n",
            "Epoch 65/100\n",
            "32/32 [==============================] - 3s 101ms/step - loss: 0.0721\n",
            "Epoch 66/100\n",
            "32/32 [==============================] - 3s 101ms/step - loss: 0.0719\n",
            "Epoch 67/100\n",
            "32/32 [==============================] - 3s 102ms/step - loss: 0.0719\n",
            "Epoch 68/100\n",
            "32/32 [==============================] - 3s 103ms/step - loss: 0.0720\n",
            "Epoch 69/100\n",
            "32/32 [==============================] - 3s 99ms/step - loss: 0.0718\n",
            "Epoch 70/100\n",
            "32/32 [==============================] - 3s 100ms/step - loss: 0.0719\n",
            "Epoch 71/100\n",
            "32/32 [==============================] - 3s 101ms/step - loss: 0.0720\n",
            "Epoch 72/100\n",
            "32/32 [==============================] - 3s 98ms/step - loss: 0.0719\n",
            "Epoch 73/100\n",
            "32/32 [==============================] - 3s 100ms/step - loss: 0.0725\n",
            "Epoch 74/100\n",
            "32/32 [==============================] - 3s 100ms/step - loss: 0.0719\n",
            "Epoch 75/100\n",
            "32/32 [==============================] - 3s 100ms/step - loss: 0.0718\n",
            "Epoch 76/100\n",
            "32/32 [==============================] - 3s 101ms/step - loss: 0.0720\n",
            "Epoch 77/100\n",
            "32/32 [==============================] - 3s 102ms/step - loss: 0.0718\n",
            "Epoch 78/100\n",
            "32/32 [==============================] - 3s 100ms/step - loss: 0.0720\n",
            "Epoch 79/100\n",
            "32/32 [==============================] - 3s 100ms/step - loss: 0.0718\n",
            "Epoch 80/100\n",
            "32/32 [==============================] - 3s 99ms/step - loss: 0.0719\n",
            "Epoch 81/100\n",
            "32/32 [==============================] - 3s 100ms/step - loss: 0.0718\n",
            "Epoch 82/100\n",
            "32/32 [==============================] - 3s 100ms/step - loss: 0.0718\n",
            "Epoch 83/100\n",
            "32/32 [==============================] - 3s 99ms/step - loss: 0.0718\n",
            "Epoch 84/100\n",
            "32/32 [==============================] - 3s 100ms/step - loss: 0.0719\n",
            "Epoch 85/100\n",
            "32/32 [==============================] - 3s 100ms/step - loss: 0.0720\n",
            "Epoch 86/100\n",
            "32/32 [==============================] - 3s 100ms/step - loss: 0.0720\n",
            "Epoch 87/100\n",
            "32/32 [==============================] - 3s 98ms/step - loss: 0.0718\n",
            "Epoch 88/100\n",
            "32/32 [==============================] - 3s 99ms/step - loss: 0.0717\n",
            "Epoch 89/100\n",
            "32/32 [==============================] - 3s 99ms/step - loss: 0.0718\n",
            "Epoch 90/100\n",
            "32/32 [==============================] - 3s 99ms/step - loss: 0.0721\n",
            "Epoch 91/100\n",
            "32/32 [==============================] - 3s 96ms/step - loss: 0.0718\n",
            "Epoch 92/100\n",
            "32/32 [==============================] - 3s 99ms/step - loss: 0.0718\n",
            "Epoch 93/100\n",
            "32/32 [==============================] - 3s 99ms/step - loss: 0.0717\n",
            "Epoch 94/100\n",
            "32/32 [==============================] - 3s 101ms/step - loss: 0.0717\n",
            "Epoch 95/100\n",
            "32/32 [==============================] - 3s 102ms/step - loss: 0.0719\n",
            "Epoch 96/100\n",
            "32/32 [==============================] - 3s 100ms/step - loss: 0.0718\n",
            "Epoch 97/100\n",
            "32/32 [==============================] - 3s 101ms/step - loss: 0.0719\n",
            "Epoch 98/100\n",
            "32/32 [==============================] - 3s 99ms/step - loss: 0.0720\n",
            "Epoch 99/100\n",
            "32/32 [==============================] - 3s 99ms/step - loss: 0.0717\n",
            "Epoch 100/100\n",
            "32/32 [==============================] - 3s 100ms/step - loss: 0.0717\n"
          ]
        },
        {
          "output_type": "execute_result",
          "data": {
            "text/plain": [
              "<keras.callbacks.History at 0x7f0e2e0bfe50>"
            ]
          },
          "metadata": {},
          "execution_count": 63
        }
      ]
    },
    {
      "cell_type": "code",
      "source": [],
      "metadata": {
        "id": "dUmRrWv8Sxz1"
      },
      "execution_count": null,
      "outputs": []
    }
  ]
}