{
  "nbformat": 4,
  "nbformat_minor": 0,
  "metadata": {
    "colab": {
      "provenance": [],
      "toc_visible": true
    },
    "kernelspec": {
      "name": "python3",
      "display_name": "Python 3"
    },
    "language_info": {
      "name": "python"
    },
    "accelerator": "GPU",
    "gpuClass": "standard"
  },
  "cells": [
    {
      "cell_type": "code",
      "execution_count": 1,
      "metadata": {
        "colab": {
          "base_uri": "https://localhost:8080/"
        },
        "id": "5uzTiR_LJ8HI",
        "outputId": "df607a2a-7663-4f79-d68a-b64b1890202e"
      },
      "outputs": [
        {
          "output_type": "stream",
          "name": "stdout",
          "text": [
            "Downloading brain-mri-images-for-brain-tumor-detection.zip to /content\n",
            "\n"
          ]
        },
        {
          "output_type": "stream",
          "name": "stderr",
          "text": [
            "\r  0%|          | 0.00/15.1M [00:00<?, ?B/s]\r  7%|▋         | 1.00M/15.1M [00:01<00:19, 762kB/s]\r 13%|█▎        | 2.00M/15.1M [00:01<00:09, 1.49MB/s]\r 20%|█▉        | 3.00M/15.1M [00:01<00:05, 2.36MB/s]\r 33%|███▎      | 5.00M/15.1M [00:01<00:02, 4.38MB/s]\r 46%|████▋     | 7.00M/15.1M [00:02<00:01, 6.68MB/s]\r 60%|█████▉    | 9.00M/15.1M [00:02<00:00, 6.64MB/s]\r 93%|█████████▎| 14.0M/15.1M [00:02<00:00, 11.2MB/s]\r100%|██████████| 15.1M/15.1M [00:02<00:00, 6.10MB/s]\n"
          ]
        }
      ],
      "source": [
        "%%bash\n",
        "\n",
        "pip install -q kaggle\n",
        "mkdir -p ~/.kaggle\n",
        "cp drive/MyDrive/kaggle.json ~/.kaggle/\n",
        "chmod 600 /root/.kaggle/kaggle.json\n",
        "kaggle datasets download -d navoneel/brain-mri-images-for-brain-tumor-detection"
      ]
    },
    {
      "cell_type": "code",
      "source": [
        "!unzip brain-mri-images-for-brain-tumor-detection.zip"
      ],
      "metadata": {
        "id": "k4shSK6sqZam"
      },
      "execution_count": null,
      "outputs": []
    },
    {
      "cell_type": "code",
      "source": [
        "from tensorflow.keras.preprocessing.image import ImageDataGenerator\n",
        "from tensorflow import keras"
      ],
      "metadata": {
        "id": "2Avqz28VCcb0"
      },
      "execution_count": 4,
      "outputs": []
    },
    {
      "cell_type": "code",
      "source": [
        "data_gen = ImageDataGenerator(\n",
        "    zoom_range=0.2,\n",
        "    shear_range=0.2,\n",
        "    rescale=1./255,\n",
        "    validation_split=0.2,\n",
        "    horizontal_flip=True\n",
        ")"
      ],
      "metadata": {
        "id": "hjVYOGtkCj7B"
      },
      "execution_count": 9,
      "outputs": []
    },
    {
      "cell_type": "code",
      "source": [
        "train_set = data_gen.flow_from_directory(\n",
        "    \"brain_tumor_dataset/\",\n",
        "    target_size=(224, 224),\n",
        "    class_mode='binary',\n",
        "    seed=123,\n",
        "    subset='training',\n",
        "    batch_size=32\n",
        ")\n",
        "\n",
        "valid_set = data_gen.flow_from_directory(\n",
        "    \"brain_tumor_dataset/\",\n",
        "    target_size=(224, 224),\n",
        "    class_mode='binary',\n",
        "    seed=123,\n",
        "    subset='validation',\n",
        "    batch_size=32\n",
        ")"
      ],
      "metadata": {
        "colab": {
          "base_uri": "https://localhost:8080/"
        },
        "id": "O_lrqpQ1C0pK",
        "outputId": "2c18e8a9-dd3d-4a7a-c882-a31a2f48c32b"
      },
      "execution_count": 10,
      "outputs": [
        {
          "output_type": "stream",
          "name": "stdout",
          "text": [
            "Found 203 images belonging to 2 classes.\n",
            "Found 50 images belonging to 2 classes.\n"
          ]
        }
      ]
    },
    {
      "cell_type": "code",
      "source": [
        "model = keras.models.Sequential()\n",
        "model.add(keras.layers.Conv2D(filters=32, kernel_size=3, input_shape=(224, 224, 3), activation='relu'))\n",
        "model.add(keras.layers.MaxPooling2D(pool_size=2))\n",
        "model.add(keras.layers.Dropout(0.3))\n",
        "model.add(keras.layers.Conv2D(filters=32, kernel_size=3, activation='relu'))\n",
        "model.add(keras.layers.MaxPooling2D(pool_size=3))\n",
        "model.add(keras.layers.Dropout(0.3))\n",
        "model.add(keras.layers.Conv2D(filters=32, kernel_size=3, activation='relu'))\n",
        "model.add(keras.layers.MaxPooling2D(pool_size=3))\n",
        "model.add(keras.layers.Dropout(0.3))\n",
        "model.add(keras.layers.Flatten())\n",
        "model.add(keras.layers.Dense(420, activation='relu'))\n",
        "model.add(keras.layers.Dense(120, activation='relu')) \n",
        "model.add(keras.layers.Dense(60, activation='relu'))\n",
        "model.add(keras.layers.Dense(1, activation='sigmoid'))\n",
        "model.compile(optimizer='adam', loss='binary_crossentropy', metrics=['accuracy'])\n",
        "\n",
        "early_stopping = keras.callbacks.EarlyStopping(monitor='val_loss', patience=3)"
      ],
      "metadata": {
        "id": "BWQZxBeVDhay"
      },
      "execution_count": 15,
      "outputs": []
    },
    {
      "cell_type": "code",
      "source": [
        "model.fit(x=train_set, epochs=20, batch_size=32, validation_data=valid_set, callbacks=[early_stopping])"
      ],
      "metadata": {
        "colab": {
          "base_uri": "https://localhost:8080/"
        },
        "id": "fuBDorQ_FNk_",
        "outputId": "394c2a74-c065-4ac6-81e4-84ba03dc37dd"
      },
      "execution_count": 16,
      "outputs": [
        {
          "output_type": "stream",
          "name": "stdout",
          "text": [
            "Epoch 1/20\n",
            "7/7 [==============================] - 4s 591ms/step - loss: 0.6485 - accuracy: 0.6552 - val_loss: 0.6695 - val_accuracy: 0.6600\n",
            "Epoch 2/20\n",
            "7/7 [==============================] - 3s 461ms/step - loss: 0.6333 - accuracy: 0.6256 - val_loss: 0.6387 - val_accuracy: 0.6800\n",
            "Epoch 3/20\n",
            "7/7 [==============================] - 3s 454ms/step - loss: 0.6062 - accuracy: 0.6798 - val_loss: 0.6254 - val_accuracy: 0.6600\n",
            "Epoch 4/20\n",
            "7/7 [==============================] - 3s 443ms/step - loss: 0.5697 - accuracy: 0.7586 - val_loss: 0.6288 - val_accuracy: 0.7200\n",
            "Epoch 5/20\n",
            "7/7 [==============================] - 3s 503ms/step - loss: 0.5908 - accuracy: 0.6749 - val_loss: 0.6213 - val_accuracy: 0.7200\n",
            "Epoch 6/20\n",
            "7/7 [==============================] - 3s 445ms/step - loss: 0.5760 - accuracy: 0.6946 - val_loss: 0.5985 - val_accuracy: 0.7200\n",
            "Epoch 7/20\n",
            "7/7 [==============================] - 3s 487ms/step - loss: 0.5949 - accuracy: 0.7094 - val_loss: 0.6159 - val_accuracy: 0.7400\n",
            "Epoch 8/20\n",
            "7/7 [==============================] - 3s 493ms/step - loss: 0.6050 - accuracy: 0.7044 - val_loss: 0.6371 - val_accuracy: 0.7000\n",
            "Epoch 9/20\n",
            "7/7 [==============================] - 3s 442ms/step - loss: 0.5554 - accuracy: 0.7586 - val_loss: 0.6074 - val_accuracy: 0.7400\n"
          ]
        },
        {
          "output_type": "execute_result",
          "data": {
            "text/plain": [
              "<keras.callbacks.History at 0x7fedf25e2f40>"
            ]
          },
          "metadata": {},
          "execution_count": 16
        }
      ]
    },
    {
      "cell_type": "code",
      "source": [],
      "metadata": {
        "id": "q7O0hRWvW9vz"
      },
      "execution_count": null,
      "outputs": []
    }
  ]
}