{
 "cells": [
  {
   "cell_type": "markdown",
   "id": "edb45f69",
   "metadata": {},
   "source": [
    "# Mobile Price Classification \n",
    "\n",
    "## Importing the data"
   ]
  },
  {
   "cell_type": "code",
   "execution_count": 11,
   "id": "6cd44986",
   "metadata": {},
   "outputs": [],
   "source": [
    "import warnings\n",
    "warnings.filterwarnings(\"ignore\")"
   ]
  },
  {
   "cell_type": "code",
   "execution_count": 1,
   "id": "06186f32",
   "metadata": {},
   "outputs": [],
   "source": [
    "import pandas as pd"
   ]
  },
  {
   "cell_type": "code",
   "execution_count": 2,
   "id": "19d310eb",
   "metadata": {},
   "outputs": [
    {
     "data": {
      "text/html": [
       "<div>\n",
       "<style scoped>\n",
       "    .dataframe tbody tr th:only-of-type {\n",
       "        vertical-align: middle;\n",
       "    }\n",
       "\n",
       "    .dataframe tbody tr th {\n",
       "        vertical-align: top;\n",
       "    }\n",
       "\n",
       "    .dataframe thead th {\n",
       "        text-align: right;\n",
       "    }\n",
       "</style>\n",
       "<table border=\"1\" class=\"dataframe\">\n",
       "  <thead>\n",
       "    <tr style=\"text-align: right;\">\n",
       "      <th></th>\n",
       "      <th>0</th>\n",
       "      <th>1</th>\n",
       "      <th>2</th>\n",
       "      <th>3</th>\n",
       "      <th>4</th>\n",
       "    </tr>\n",
       "  </thead>\n",
       "  <tbody>\n",
       "    <tr>\n",
       "      <th>battery_power</th>\n",
       "      <td>842.0</td>\n",
       "      <td>1021.0</td>\n",
       "      <td>563.0</td>\n",
       "      <td>615.0</td>\n",
       "      <td>1821.0</td>\n",
       "    </tr>\n",
       "    <tr>\n",
       "      <th>blue</th>\n",
       "      <td>0.0</td>\n",
       "      <td>1.0</td>\n",
       "      <td>1.0</td>\n",
       "      <td>1.0</td>\n",
       "      <td>1.0</td>\n",
       "    </tr>\n",
       "    <tr>\n",
       "      <th>clock_speed</th>\n",
       "      <td>2.2</td>\n",
       "      <td>0.5</td>\n",
       "      <td>0.5</td>\n",
       "      <td>2.5</td>\n",
       "      <td>1.2</td>\n",
       "    </tr>\n",
       "    <tr>\n",
       "      <th>dual_sim</th>\n",
       "      <td>0.0</td>\n",
       "      <td>1.0</td>\n",
       "      <td>1.0</td>\n",
       "      <td>0.0</td>\n",
       "      <td>0.0</td>\n",
       "    </tr>\n",
       "    <tr>\n",
       "      <th>fc</th>\n",
       "      <td>1.0</td>\n",
       "      <td>0.0</td>\n",
       "      <td>2.0</td>\n",
       "      <td>0.0</td>\n",
       "      <td>13.0</td>\n",
       "    </tr>\n",
       "    <tr>\n",
       "      <th>four_g</th>\n",
       "      <td>0.0</td>\n",
       "      <td>1.0</td>\n",
       "      <td>1.0</td>\n",
       "      <td>0.0</td>\n",
       "      <td>1.0</td>\n",
       "    </tr>\n",
       "    <tr>\n",
       "      <th>int_memory</th>\n",
       "      <td>7.0</td>\n",
       "      <td>53.0</td>\n",
       "      <td>41.0</td>\n",
       "      <td>10.0</td>\n",
       "      <td>44.0</td>\n",
       "    </tr>\n",
       "    <tr>\n",
       "      <th>m_dep</th>\n",
       "      <td>0.6</td>\n",
       "      <td>0.7</td>\n",
       "      <td>0.9</td>\n",
       "      <td>0.8</td>\n",
       "      <td>0.6</td>\n",
       "    </tr>\n",
       "    <tr>\n",
       "      <th>mobile_wt</th>\n",
       "      <td>188.0</td>\n",
       "      <td>136.0</td>\n",
       "      <td>145.0</td>\n",
       "      <td>131.0</td>\n",
       "      <td>141.0</td>\n",
       "    </tr>\n",
       "    <tr>\n",
       "      <th>n_cores</th>\n",
       "      <td>2.0</td>\n",
       "      <td>3.0</td>\n",
       "      <td>5.0</td>\n",
       "      <td>6.0</td>\n",
       "      <td>2.0</td>\n",
       "    </tr>\n",
       "    <tr>\n",
       "      <th>pc</th>\n",
       "      <td>2.0</td>\n",
       "      <td>6.0</td>\n",
       "      <td>6.0</td>\n",
       "      <td>9.0</td>\n",
       "      <td>14.0</td>\n",
       "    </tr>\n",
       "    <tr>\n",
       "      <th>px_height</th>\n",
       "      <td>20.0</td>\n",
       "      <td>905.0</td>\n",
       "      <td>1263.0</td>\n",
       "      <td>1216.0</td>\n",
       "      <td>1208.0</td>\n",
       "    </tr>\n",
       "    <tr>\n",
       "      <th>px_width</th>\n",
       "      <td>756.0</td>\n",
       "      <td>1988.0</td>\n",
       "      <td>1716.0</td>\n",
       "      <td>1786.0</td>\n",
       "      <td>1212.0</td>\n",
       "    </tr>\n",
       "    <tr>\n",
       "      <th>ram</th>\n",
       "      <td>2549.0</td>\n",
       "      <td>2631.0</td>\n",
       "      <td>2603.0</td>\n",
       "      <td>2769.0</td>\n",
       "      <td>1411.0</td>\n",
       "    </tr>\n",
       "    <tr>\n",
       "      <th>sc_h</th>\n",
       "      <td>9.0</td>\n",
       "      <td>17.0</td>\n",
       "      <td>11.0</td>\n",
       "      <td>16.0</td>\n",
       "      <td>8.0</td>\n",
       "    </tr>\n",
       "    <tr>\n",
       "      <th>sc_w</th>\n",
       "      <td>7.0</td>\n",
       "      <td>3.0</td>\n",
       "      <td>2.0</td>\n",
       "      <td>8.0</td>\n",
       "      <td>2.0</td>\n",
       "    </tr>\n",
       "    <tr>\n",
       "      <th>talk_time</th>\n",
       "      <td>19.0</td>\n",
       "      <td>7.0</td>\n",
       "      <td>9.0</td>\n",
       "      <td>11.0</td>\n",
       "      <td>15.0</td>\n",
       "    </tr>\n",
       "    <tr>\n",
       "      <th>three_g</th>\n",
       "      <td>0.0</td>\n",
       "      <td>1.0</td>\n",
       "      <td>1.0</td>\n",
       "      <td>1.0</td>\n",
       "      <td>1.0</td>\n",
       "    </tr>\n",
       "    <tr>\n",
       "      <th>touch_screen</th>\n",
       "      <td>0.0</td>\n",
       "      <td>1.0</td>\n",
       "      <td>1.0</td>\n",
       "      <td>0.0</td>\n",
       "      <td>1.0</td>\n",
       "    </tr>\n",
       "    <tr>\n",
       "      <th>wifi</th>\n",
       "      <td>1.0</td>\n",
       "      <td>0.0</td>\n",
       "      <td>0.0</td>\n",
       "      <td>0.0</td>\n",
       "      <td>0.0</td>\n",
       "    </tr>\n",
       "    <tr>\n",
       "      <th>price_range</th>\n",
       "      <td>1.0</td>\n",
       "      <td>2.0</td>\n",
       "      <td>2.0</td>\n",
       "      <td>2.0</td>\n",
       "      <td>1.0</td>\n",
       "    </tr>\n",
       "  </tbody>\n",
       "</table>\n",
       "</div>"
      ],
      "text/plain": [
       "                    0       1       2       3       4\n",
       "battery_power   842.0  1021.0   563.0   615.0  1821.0\n",
       "blue              0.0     1.0     1.0     1.0     1.0\n",
       "clock_speed       2.2     0.5     0.5     2.5     1.2\n",
       "dual_sim          0.0     1.0     1.0     0.0     0.0\n",
       "fc                1.0     0.0     2.0     0.0    13.0\n",
       "four_g            0.0     1.0     1.0     0.0     1.0\n",
       "int_memory        7.0    53.0    41.0    10.0    44.0\n",
       "m_dep             0.6     0.7     0.9     0.8     0.6\n",
       "mobile_wt       188.0   136.0   145.0   131.0   141.0\n",
       "n_cores           2.0     3.0     5.0     6.0     2.0\n",
       "pc                2.0     6.0     6.0     9.0    14.0\n",
       "px_height        20.0   905.0  1263.0  1216.0  1208.0\n",
       "px_width        756.0  1988.0  1716.0  1786.0  1212.0\n",
       "ram            2549.0  2631.0  2603.0  2769.0  1411.0\n",
       "sc_h              9.0    17.0    11.0    16.0     8.0\n",
       "sc_w              7.0     3.0     2.0     8.0     2.0\n",
       "talk_time        19.0     7.0     9.0    11.0    15.0\n",
       "three_g           0.0     1.0     1.0     1.0     1.0\n",
       "touch_screen      0.0     1.0     1.0     0.0     1.0\n",
       "wifi              1.0     0.0     0.0     0.0     0.0\n",
       "price_range       1.0     2.0     2.0     2.0     1.0"
      ]
     },
     "execution_count": 2,
     "metadata": {},
     "output_type": "execute_result"
    }
   ],
   "source": [
    "df = pd.read_csv(\"data/proj22/train.csv\")\n",
    "df.head().T"
   ]
  },
  {
   "cell_type": "markdown",
   "id": "c21b4510",
   "metadata": {},
   "source": [
    "## Preprocessing the data"
   ]
  },
  {
   "cell_type": "code",
   "execution_count": 3,
   "id": "2ba10db9",
   "metadata": {},
   "outputs": [
    {
     "data": {
      "text/plain": [
       "battery_power    0\n",
       "blue             0\n",
       "clock_speed      0\n",
       "dual_sim         0\n",
       "fc               0\n",
       "four_g           0\n",
       "int_memory       0\n",
       "m_dep            0\n",
       "mobile_wt        0\n",
       "n_cores          0\n",
       "pc               0\n",
       "px_height        0\n",
       "px_width         0\n",
       "ram              0\n",
       "sc_h             0\n",
       "sc_w             0\n",
       "talk_time        0\n",
       "three_g          0\n",
       "touch_screen     0\n",
       "wifi             0\n",
       "price_range      0\n",
       "dtype: int64"
      ]
     },
     "execution_count": 3,
     "metadata": {},
     "output_type": "execute_result"
    }
   ],
   "source": [
    "df.isna().sum()"
   ]
  },
  {
   "cell_type": "code",
   "execution_count": 4,
   "id": "d4610ff5",
   "metadata": {},
   "outputs": [],
   "source": [
    "X = df.drop(\"price_range\", axis=1)\n",
    "y = df[\"price_range\"]"
   ]
  },
  {
   "cell_type": "code",
   "execution_count": 5,
   "id": "81be0a8a",
   "metadata": {},
   "outputs": [],
   "source": [
    "from sklearn.model_selection import train_test_split\n",
    "\n",
    "X_train, X_test, y_train, y_test = train_test_split(X, y, test_size=0.2)"
   ]
  },
  {
   "cell_type": "markdown",
   "id": "a8000fdf",
   "metadata": {},
   "source": [
    "## Training the model"
   ]
  },
  {
   "cell_type": "code",
   "execution_count": 6,
   "id": "a8c30055",
   "metadata": {},
   "outputs": [
    {
     "data": {
      "text/plain": [
       "0.91"
      ]
     },
     "execution_count": 6,
     "metadata": {},
     "output_type": "execute_result"
    }
   ],
   "source": [
    "from sklearn.neighbors import KNeighborsClassifier\n",
    "knmodel = KNeighborsClassifier().fit(X_train, y_train)\n",
    "knmodel.score(X_test, y_test)"
   ]
  },
  {
   "cell_type": "code",
   "execution_count": 7,
   "id": "5a439c02",
   "metadata": {},
   "outputs": [
    {
     "data": {
      "text/plain": [
       "0.8875"
      ]
     },
     "execution_count": 7,
     "metadata": {},
     "output_type": "execute_result"
    }
   ],
   "source": [
    "from sklearn.ensemble import RandomForestClassifier\n",
    "rf = RandomForestClassifier().fit(X_train, y_train)\n",
    "rf.score(X_test, y_test)"
   ]
  },
  {
   "cell_type": "code",
   "execution_count": 12,
   "id": "6e9f3dfd",
   "metadata": {},
   "outputs": [
    {
     "name": "stdout",
     "output_type": "stream",
     "text": [
      "[23:52:00] WARNING: /tmp/abs_40obctay9q/croots/recipe/xgboost-split_1659548945886/work/src/learner.cc:1115: Starting in XGBoost 1.3.0, the default evaluation metric used with the objective 'multi:softprob' was changed from 'merror' to 'mlogloss'. Explicitly set eval_metric if you'd like to restore the old behavior.\n"
     ]
    },
    {
     "data": {
      "text/plain": [
       "0.895"
      ]
     },
     "execution_count": 12,
     "metadata": {},
     "output_type": "execute_result"
    }
   ],
   "source": [
    "from xgboost import XGBClassifier\n",
    "xgb = XGBClassifier()\n",
    "xgb.fit(X_train, y_train)\n",
    "xgb.score(X_test, y_test)"
   ]
  },
  {
   "cell_type": "markdown",
   "id": "b6f3b3d4",
   "metadata": {},
   "source": [
    "## Training model using ANN"
   ]
  },
  {
   "cell_type": "code",
   "execution_count": 14,
   "id": "786528c2",
   "metadata": {},
   "outputs": [],
   "source": [
    "import keras"
   ]
  },
  {
   "cell_type": "code",
   "execution_count": 72,
   "id": "c19eba88",
   "metadata": {},
   "outputs": [],
   "source": [
    "ann = keras.models.Sequential()"
   ]
  },
  {
   "cell_type": "code",
   "execution_count": 73,
   "id": "65fb7f2e",
   "metadata": {},
   "outputs": [],
   "source": [
    "ann.add(keras.layers.Dense(units=20, activation='relu'))\n",
    "ann.add(keras.layers.Dense(units=20, activation='relu'))\n",
    "ann.add(keras.layers.Dense(units=12, activation='relu'))\n",
    "ann.add(keras.layers.Dense(units=6, activation='relu'))\n",
    "ann.add(keras.layers.Dense(units=4, activation='softmax'))\n",
    "ann.compile(optimizer='adam', loss='sparse_categorical_crossentropy', metrics=['accuracy'])"
   ]
  },
  {
   "cell_type": "code",
   "execution_count": 75,
   "id": "068918cd",
   "metadata": {},
   "outputs": [
    {
     "name": "stdout",
     "output_type": "stream",
     "text": [
      "Epoch 1/100\n",
      "50/50 [==============================] - 0s 4ms/step - loss: 0.9626 - accuracy: 0.5431 - val_loss: 0.8828 - val_accuracy: 0.6000\n",
      "Epoch 2/100\n",
      "50/50 [==============================] - 0s 4ms/step - loss: 0.9267 - accuracy: 0.5425 - val_loss: 0.8658 - val_accuracy: 0.6000\n",
      "Epoch 3/100\n",
      "50/50 [==============================] - 0s 3ms/step - loss: 0.8934 - accuracy: 0.5656 - val_loss: 0.8522 - val_accuracy: 0.6150\n",
      "Epoch 4/100\n",
      "50/50 [==============================] - 0s 5ms/step - loss: 0.8715 - accuracy: 0.5838 - val_loss: 0.8551 - val_accuracy: 0.6075\n",
      "Epoch 5/100\n",
      "50/50 [==============================] - 0s 4ms/step - loss: 0.8668 - accuracy: 0.5756 - val_loss: 0.7834 - val_accuracy: 0.6325\n",
      "Epoch 6/100\n",
      "50/50 [==============================] - 0s 3ms/step - loss: 0.8221 - accuracy: 0.5850 - val_loss: 0.7941 - val_accuracy: 0.6125\n",
      "Epoch 7/100\n",
      "50/50 [==============================] - 0s 2ms/step - loss: 0.8155 - accuracy: 0.5906 - val_loss: 0.8298 - val_accuracy: 0.6050\n",
      "Epoch 8/100\n",
      "50/50 [==============================] - 0s 2ms/step - loss: 0.8022 - accuracy: 0.6187 - val_loss: 0.7286 - val_accuracy: 0.6450\n",
      "Epoch 9/100\n",
      "50/50 [==============================] - 0s 2ms/step - loss: 0.7974 - accuracy: 0.6131 - val_loss: 0.7964 - val_accuracy: 0.6125\n",
      "Epoch 10/100\n",
      "50/50 [==============================] - 0s 3ms/step - loss: 0.7827 - accuracy: 0.6050 - val_loss: 0.7100 - val_accuracy: 0.6450\n",
      "Epoch 11/100\n",
      "50/50 [==============================] - 0s 3ms/step - loss: 0.7568 - accuracy: 0.6281 - val_loss: 0.7756 - val_accuracy: 0.6050\n",
      "Epoch 12/100\n",
      "50/50 [==============================] - 0s 3ms/step - loss: 0.7929 - accuracy: 0.5938 - val_loss: 0.7269 - val_accuracy: 0.6300\n",
      "Epoch 13/100\n",
      "50/50 [==============================] - 0s 3ms/step - loss: 0.7449 - accuracy: 0.6244 - val_loss: 0.6970 - val_accuracy: 0.6625\n",
      "Epoch 14/100\n",
      "50/50 [==============================] - 0s 4ms/step - loss: 0.7692 - accuracy: 0.6200 - val_loss: 0.7465 - val_accuracy: 0.6575\n",
      "Epoch 15/100\n",
      "50/50 [==============================] - 0s 4ms/step - loss: 0.7422 - accuracy: 0.6112 - val_loss: 0.7115 - val_accuracy: 0.6675\n",
      "Epoch 16/100\n",
      "50/50 [==============================] - 0s 3ms/step - loss: 0.7378 - accuracy: 0.6288 - val_loss: 0.7284 - val_accuracy: 0.6600\n",
      "Epoch 17/100\n",
      "50/50 [==============================] - 0s 3ms/step - loss: 0.7555 - accuracy: 0.6263 - val_loss: 0.6997 - val_accuracy: 0.6650\n",
      "Epoch 18/100\n",
      "50/50 [==============================] - 0s 3ms/step - loss: 0.7198 - accuracy: 0.6363 - val_loss: 0.6870 - val_accuracy: 0.7050\n",
      "Epoch 19/100\n",
      "50/50 [==============================] - 0s 3ms/step - loss: 0.7407 - accuracy: 0.6494 - val_loss: 0.7051 - val_accuracy: 0.7025\n",
      "Epoch 20/100\n",
      "50/50 [==============================] - 0s 6ms/step - loss: 0.7328 - accuracy: 0.6388 - val_loss: 0.8015 - val_accuracy: 0.5800\n",
      "Epoch 21/100\n",
      "50/50 [==============================] - 0s 5ms/step - loss: 0.7629 - accuracy: 0.6256 - val_loss: 0.6934 - val_accuracy: 0.6575\n",
      "Epoch 22/100\n",
      "50/50 [==============================] - 0s 3ms/step - loss: 0.7191 - accuracy: 0.6525 - val_loss: 0.6746 - val_accuracy: 0.6850\n",
      "Epoch 23/100\n",
      "50/50 [==============================] - 0s 3ms/step - loss: 0.7124 - accuracy: 0.6481 - val_loss: 0.6727 - val_accuracy: 0.6975\n",
      "Epoch 24/100\n",
      "50/50 [==============================] - 0s 3ms/step - loss: 0.6853 - accuracy: 0.6531 - val_loss: 0.6788 - val_accuracy: 0.6475\n",
      "Epoch 25/100\n",
      "50/50 [==============================] - 0s 3ms/step - loss: 0.7031 - accuracy: 0.6675 - val_loss: 0.6648 - val_accuracy: 0.7025\n",
      "Epoch 26/100\n",
      "50/50 [==============================] - 0s 4ms/step - loss: 0.6786 - accuracy: 0.6625 - val_loss: 0.6539 - val_accuracy: 0.7225\n",
      "Epoch 27/100\n",
      "50/50 [==============================] - 0s 2ms/step - loss: 0.7358 - accuracy: 0.6450 - val_loss: 0.7098 - val_accuracy: 0.7000\n",
      "Epoch 28/100\n",
      "50/50 [==============================] - 0s 2ms/step - loss: 0.7168 - accuracy: 0.6544 - val_loss: 0.6645 - val_accuracy: 0.7300\n",
      "Epoch 29/100\n",
      "50/50 [==============================] - 0s 2ms/step - loss: 0.6826 - accuracy: 0.6794 - val_loss: 0.6400 - val_accuracy: 0.7000\n",
      "Epoch 30/100\n",
      "50/50 [==============================] - 0s 2ms/step - loss: 0.6720 - accuracy: 0.6725 - val_loss: 0.6908 - val_accuracy: 0.7050\n",
      "Epoch 31/100\n",
      "50/50 [==============================] - 0s 3ms/step - loss: 0.6872 - accuracy: 0.6744 - val_loss: 0.6460 - val_accuracy: 0.7375\n",
      "Epoch 32/100\n",
      "50/50 [==============================] - 0s 2ms/step - loss: 0.6728 - accuracy: 0.6819 - val_loss: 0.6545 - val_accuracy: 0.7000\n",
      "Epoch 33/100\n",
      "50/50 [==============================] - 0s 3ms/step - loss: 0.6809 - accuracy: 0.6737 - val_loss: 0.6207 - val_accuracy: 0.7200\n",
      "Epoch 34/100\n",
      "50/50 [==============================] - 0s 3ms/step - loss: 0.6734 - accuracy: 0.6825 - val_loss: 0.7492 - val_accuracy: 0.6075\n",
      "Epoch 35/100\n",
      "50/50 [==============================] - 0s 3ms/step - loss: 0.6909 - accuracy: 0.6637 - val_loss: 0.6446 - val_accuracy: 0.7050\n",
      "Epoch 36/100\n",
      "50/50 [==============================] - 0s 3ms/step - loss: 0.6722 - accuracy: 0.6756 - val_loss: 0.6801 - val_accuracy: 0.6825\n",
      "Epoch 37/100\n",
      "50/50 [==============================] - 0s 3ms/step - loss: 0.6879 - accuracy: 0.6812 - val_loss: 0.6421 - val_accuracy: 0.7175\n",
      "Epoch 38/100\n",
      "50/50 [==============================] - 0s 3ms/step - loss: 0.6548 - accuracy: 0.6769 - val_loss: 0.6089 - val_accuracy: 0.7375\n",
      "Epoch 39/100\n",
      "50/50 [==============================] - 0s 10ms/step - loss: 0.6428 - accuracy: 0.6888 - val_loss: 0.6218 - val_accuracy: 0.7300\n",
      "Epoch 40/100\n",
      "50/50 [==============================] - 0s 4ms/step - loss: 0.6507 - accuracy: 0.6963 - val_loss: 0.6513 - val_accuracy: 0.7200\n",
      "Epoch 41/100\n",
      "50/50 [==============================] - 0s 3ms/step - loss: 0.6491 - accuracy: 0.6781 - val_loss: 0.6295 - val_accuracy: 0.7375\n",
      "Epoch 42/100\n",
      "50/50 [==============================] - 0s 4ms/step - loss: 0.6868 - accuracy: 0.6744 - val_loss: 0.6683 - val_accuracy: 0.7100\n",
      "Epoch 43/100\n",
      "50/50 [==============================] - 0s 3ms/step - loss: 0.6624 - accuracy: 0.6888 - val_loss: 0.6250 - val_accuracy: 0.7000\n",
      "Epoch 44/100\n",
      "50/50 [==============================] - 0s 3ms/step - loss: 0.6532 - accuracy: 0.6906 - val_loss: 0.6418 - val_accuracy: 0.7200\n",
      "Epoch 45/100\n",
      "50/50 [==============================] - 0s 3ms/step - loss: 0.6294 - accuracy: 0.6981 - val_loss: 0.6266 - val_accuracy: 0.7000\n",
      "Epoch 46/100\n",
      "50/50 [==============================] - 0s 3ms/step - loss: 0.6548 - accuracy: 0.6837 - val_loss: 0.6140 - val_accuracy: 0.7325\n",
      "Epoch 47/100\n",
      "50/50 [==============================] - 0s 3ms/step - loss: 0.6330 - accuracy: 0.7006 - val_loss: 0.6074 - val_accuracy: 0.7400\n",
      "Epoch 48/100\n",
      "50/50 [==============================] - 0s 3ms/step - loss: 0.6511 - accuracy: 0.6787 - val_loss: 0.6186 - val_accuracy: 0.7125\n",
      "Epoch 49/100\n",
      "50/50 [==============================] - 0s 3ms/step - loss: 0.6457 - accuracy: 0.6900 - val_loss: 0.6854 - val_accuracy: 0.6875\n",
      "Epoch 50/100\n",
      "50/50 [==============================] - 0s 3ms/step - loss: 0.6480 - accuracy: 0.6869 - val_loss: 0.6855 - val_accuracy: 0.6900\n",
      "Epoch 51/100\n",
      "50/50 [==============================] - 0s 3ms/step - loss: 0.6599 - accuracy: 0.6881 - val_loss: 0.7366 - val_accuracy: 0.6450\n",
      "Epoch 52/100\n",
      "50/50 [==============================] - 0s 3ms/step - loss: 0.6523 - accuracy: 0.6881 - val_loss: 0.6041 - val_accuracy: 0.7400\n",
      "Epoch 53/100\n",
      "50/50 [==============================] - 0s 3ms/step - loss: 0.6206 - accuracy: 0.7088 - val_loss: 0.5998 - val_accuracy: 0.7450\n",
      "Epoch 54/100\n",
      "50/50 [==============================] - 0s 3ms/step - loss: 0.6214 - accuracy: 0.7006 - val_loss: 0.6032 - val_accuracy: 0.7400\n",
      "Epoch 55/100\n",
      "50/50 [==============================] - 0s 6ms/step - loss: 0.6248 - accuracy: 0.7063 - val_loss: 0.6206 - val_accuracy: 0.7375\n",
      "Epoch 56/100\n",
      "50/50 [==============================] - 0s 5ms/step - loss: 0.6274 - accuracy: 0.7106 - val_loss: 0.6266 - val_accuracy: 0.7150\n",
      "Epoch 57/100\n",
      "50/50 [==============================] - 0s 4ms/step - loss: 0.6281 - accuracy: 0.6981 - val_loss: 0.6480 - val_accuracy: 0.7225\n",
      "Epoch 58/100\n",
      "50/50 [==============================] - 0s 3ms/step - loss: 0.6202 - accuracy: 0.7056 - val_loss: 0.5895 - val_accuracy: 0.7525\n"
     ]
    },
    {
     "name": "stdout",
     "output_type": "stream",
     "text": [
      "Epoch 59/100\n",
      "50/50 [==============================] - 0s 5ms/step - loss: 0.6154 - accuracy: 0.7163 - val_loss: 0.6013 - val_accuracy: 0.7400\n",
      "Epoch 60/100\n",
      "50/50 [==============================] - 0s 3ms/step - loss: 0.6172 - accuracy: 0.7144 - val_loss: 0.5932 - val_accuracy: 0.7275\n",
      "Epoch 61/100\n",
      "50/50 [==============================] - 0s 3ms/step - loss: 0.6090 - accuracy: 0.7056 - val_loss: 0.6362 - val_accuracy: 0.7025\n",
      "Epoch 62/100\n",
      "50/50 [==============================] - 0s 3ms/step - loss: 0.6178 - accuracy: 0.7063 - val_loss: 0.5877 - val_accuracy: 0.7475\n",
      "Epoch 63/100\n",
      "50/50 [==============================] - 0s 3ms/step - loss: 0.6228 - accuracy: 0.6900 - val_loss: 0.6349 - val_accuracy: 0.7475\n",
      "Epoch 64/100\n",
      "50/50 [==============================] - 0s 3ms/step - loss: 0.6185 - accuracy: 0.7038 - val_loss: 0.6367 - val_accuracy: 0.7250\n",
      "Epoch 65/100\n",
      "50/50 [==============================] - 0s 3ms/step - loss: 0.6273 - accuracy: 0.7050 - val_loss: 0.6183 - val_accuracy: 0.7175\n",
      "Epoch 66/100\n",
      "50/50 [==============================] - 0s 3ms/step - loss: 0.6009 - accuracy: 0.7181 - val_loss: 0.5803 - val_accuracy: 0.7475\n",
      "Epoch 67/100\n",
      "50/50 [==============================] - 0s 3ms/step - loss: 0.5924 - accuracy: 0.7200 - val_loss: 0.6027 - val_accuracy: 0.7475\n",
      "Epoch 68/100\n",
      "50/50 [==============================] - 0s 3ms/step - loss: 0.6446 - accuracy: 0.6956 - val_loss: 0.6169 - val_accuracy: 0.7475\n",
      "Epoch 69/100\n",
      "50/50 [==============================] - 0s 4ms/step - loss: 0.6182 - accuracy: 0.7019 - val_loss: 0.5774 - val_accuracy: 0.7450\n",
      "Epoch 70/100\n",
      "50/50 [==============================] - 0s 3ms/step - loss: 0.6032 - accuracy: 0.7200 - val_loss: 0.5982 - val_accuracy: 0.7550\n",
      "Epoch 71/100\n",
      "50/50 [==============================] - 0s 2ms/step - loss: 0.6033 - accuracy: 0.7131 - val_loss: 0.6152 - val_accuracy: 0.6900\n",
      "Epoch 72/100\n",
      "50/50 [==============================] - 0s 5ms/step - loss: 0.6039 - accuracy: 0.7131 - val_loss: 0.5947 - val_accuracy: 0.7525\n",
      "Epoch 73/100\n",
      "50/50 [==============================] - 0s 3ms/step - loss: 0.5934 - accuracy: 0.7219 - val_loss: 0.6115 - val_accuracy: 0.7625\n",
      "Epoch 74/100\n",
      "50/50 [==============================] - 0s 3ms/step - loss: 0.5869 - accuracy: 0.7206 - val_loss: 0.5801 - val_accuracy: 0.7550\n",
      "Epoch 75/100\n",
      "50/50 [==============================] - 0s 4ms/step - loss: 0.5782 - accuracy: 0.7250 - val_loss: 0.6116 - val_accuracy: 0.7350\n",
      "Epoch 76/100\n",
      "50/50 [==============================] - 0s 3ms/step - loss: 0.5796 - accuracy: 0.7325 - val_loss: 0.5701 - val_accuracy: 0.7600\n",
      "Epoch 77/100\n",
      "50/50 [==============================] - 0s 3ms/step - loss: 0.5875 - accuracy: 0.7225 - val_loss: 0.6137 - val_accuracy: 0.7500\n",
      "Epoch 78/100\n",
      "50/50 [==============================] - 0s 3ms/step - loss: 0.5783 - accuracy: 0.7400 - val_loss: 0.6031 - val_accuracy: 0.7325\n",
      "Epoch 79/100\n",
      "50/50 [==============================] - 0s 3ms/step - loss: 0.5766 - accuracy: 0.7281 - val_loss: 0.5861 - val_accuracy: 0.7525\n",
      "Epoch 80/100\n",
      "50/50 [==============================] - 0s 2ms/step - loss: 0.5689 - accuracy: 0.7356 - val_loss: 0.5830 - val_accuracy: 0.7725\n",
      "Epoch 81/100\n",
      "50/50 [==============================] - 0s 3ms/step - loss: 0.5681 - accuracy: 0.7412 - val_loss: 0.6007 - val_accuracy: 0.7450\n",
      "Epoch 82/100\n",
      "50/50 [==============================] - 0s 3ms/step - loss: 0.5828 - accuracy: 0.7269 - val_loss: 0.5798 - val_accuracy: 0.7475\n",
      "Epoch 83/100\n",
      "50/50 [==============================] - 0s 3ms/step - loss: 0.5643 - accuracy: 0.7381 - val_loss: 0.6288 - val_accuracy: 0.7175\n",
      "Epoch 84/100\n",
      "50/50 [==============================] - 0s 3ms/step - loss: 0.5736 - accuracy: 0.7387 - val_loss: 0.5843 - val_accuracy: 0.7550\n",
      "Epoch 85/100\n",
      "50/50 [==============================] - 0s 3ms/step - loss: 0.5804 - accuracy: 0.7287 - val_loss: 0.5956 - val_accuracy: 0.7450\n",
      "Epoch 86/100\n",
      "50/50 [==============================] - 0s 2ms/step - loss: 0.6178 - accuracy: 0.7156 - val_loss: 0.5933 - val_accuracy: 0.7375\n",
      "Epoch 87/100\n",
      "50/50 [==============================] - 0s 3ms/step - loss: 0.5930 - accuracy: 0.7225 - val_loss: 0.5958 - val_accuracy: 0.7300\n",
      "Epoch 88/100\n",
      "50/50 [==============================] - 0s 4ms/step - loss: 0.6039 - accuracy: 0.7138 - val_loss: 0.5491 - val_accuracy: 0.7700\n",
      "Epoch 89/100\n",
      "50/50 [==============================] - 0s 2ms/step - loss: 0.5574 - accuracy: 0.7487 - val_loss: 0.5584 - val_accuracy: 0.7600\n",
      "Epoch 90/100\n",
      "50/50 [==============================] - 0s 2ms/step - loss: 0.5880 - accuracy: 0.7481 - val_loss: 0.6293 - val_accuracy: 0.7475\n",
      "Epoch 91/100\n",
      "50/50 [==============================] - 0s 5ms/step - loss: 0.5707 - accuracy: 0.7375 - val_loss: 0.5711 - val_accuracy: 0.7575\n",
      "Epoch 92/100\n",
      "50/50 [==============================] - 0s 4ms/step - loss: 0.5903 - accuracy: 0.7256 - val_loss: 0.5925 - val_accuracy: 0.7550\n",
      "Epoch 93/100\n",
      "50/50 [==============================] - 0s 5ms/step - loss: 0.6105 - accuracy: 0.7244 - val_loss: 0.5737 - val_accuracy: 0.7525\n",
      "Epoch 94/100\n",
      "50/50 [==============================] - 0s 3ms/step - loss: 0.5712 - accuracy: 0.7444 - val_loss: 0.5701 - val_accuracy: 0.7650\n",
      "Epoch 95/100\n",
      "50/50 [==============================] - 0s 3ms/step - loss: 0.5488 - accuracy: 0.7563 - val_loss: 0.5572 - val_accuracy: 0.7600\n",
      "Epoch 96/100\n",
      "50/50 [==============================] - 0s 3ms/step - loss: 0.5770 - accuracy: 0.7300 - val_loss: 0.5760 - val_accuracy: 0.7575\n",
      "Epoch 97/100\n",
      "50/50 [==============================] - 0s 2ms/step - loss: 0.6216 - accuracy: 0.7175 - val_loss: 0.5758 - val_accuracy: 0.7425\n",
      "Epoch 98/100\n",
      "50/50 [==============================] - 0s 3ms/step - loss: 0.6035 - accuracy: 0.7206 - val_loss: 0.5818 - val_accuracy: 0.7775\n",
      "Epoch 99/100\n",
      "50/50 [==============================] - 0s 3ms/step - loss: 0.5599 - accuracy: 0.7500 - val_loss: 0.5866 - val_accuracy: 0.7275\n",
      "Epoch 100/100\n",
      "50/50 [==============================] - 0s 3ms/step - loss: 0.5513 - accuracy: 0.7425 - val_loss: 0.5715 - val_accuracy: 0.7625\n"
     ]
    },
    {
     "data": {
      "text/plain": [
       "<keras.callbacks.History at 0x7f0518243ca0>"
      ]
     },
     "execution_count": 75,
     "metadata": {},
     "output_type": "execute_result"
    }
   ],
   "source": [
    "ann.fit(X_train, y_train, epochs=100, batch_size=32, validation_data=(X_test, y_test))"
   ]
  },
  {
   "cell_type": "code",
   "execution_count": 78,
   "id": "ab4f8321",
   "metadata": {},
   "outputs": [
    {
     "name": "stdout",
     "output_type": "stream",
     "text": [
      "1/1 [==============================] - 0s 60ms/step\n"
     ]
    },
    {
     "data": {
      "text/plain": [
       "array([[9.9998999e-01, 1.0042958e-05, 1.4151938e-19, 7.5892962e-37]],\n",
       "      dtype=float32)"
      ]
     },
     "execution_count": 78,
     "metadata": {},
     "output_type": "execute_result"
    }
   ],
   "source": [
    "ann.predict([[843, 1, 2, 1, 1, 4, 0.1, 199, 2, 2, 13, 21, 732, 2000, 8, 6, 16, 0, 0, 1]])"
   ]
  },
  {
   "cell_type": "code",
   "execution_count": null,
   "id": "23af2762",
   "metadata": {},
   "outputs": [],
   "source": []
  }
 ],
 "metadata": {
  "kernelspec": {
   "display_name": "Python 3 (ipykernel)",
   "language": "python",
   "name": "python3"
  },
  "language_info": {
   "codemirror_mode": {
    "name": "ipython",
    "version": 3
   },
   "file_extension": ".py",
   "mimetype": "text/x-python",
   "name": "python",
   "nbconvert_exporter": "python",
   "pygments_lexer": "ipython3",
   "version": "3.9.15"
  }
 },
 "nbformat": 4,
 "nbformat_minor": 5
}
