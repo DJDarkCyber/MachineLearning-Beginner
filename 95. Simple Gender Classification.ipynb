{
 "cells": [
  {
   "cell_type": "markdown",
   "id": "8eeed4b1",
   "metadata": {},
   "source": [
    "# Simple Gender Classification"
   ]
  },
  {
   "cell_type": "markdown",
   "id": "45ba28e8",
   "metadata": {},
   "source": [
    "## Importing required dataset"
   ]
  },
  {
   "cell_type": "code",
   "execution_count": 1,
   "id": "8208e992",
   "metadata": {},
   "outputs": [],
   "source": [
    "import pandas as pd \n",
    "from sklearn.model_selection import train_test_split\n",
    "from sklearn.ensemble import RandomForestClassifier\n",
    "from sklearn.preprocessing import LabelEncoder\n",
    "import numpy as np\n",
    "import seaborn as sns\n",
    "import matplotlib.pyplot as plt"
   ]
  },
  {
   "cell_type": "markdown",
   "id": "6143de99",
   "metadata": {},
   "source": [
    "## Getting dataset"
   ]
  },
  {
   "cell_type": "code",
   "execution_count": 2,
   "id": "5298affc",
   "metadata": {},
   "outputs": [
    {
     "data": {
      "text/html": [
       "<div>\n",
       "<style scoped>\n",
       "    .dataframe tbody tr th:only-of-type {\n",
       "        vertical-align: middle;\n",
       "    }\n",
       "\n",
       "    .dataframe tbody tr th {\n",
       "        vertical-align: top;\n",
       "    }\n",
       "\n",
       "    .dataframe thead th {\n",
       "        text-align: right;\n",
       "    }\n",
       "</style>\n",
       "<table border=\"1\" class=\"dataframe\">\n",
       "  <thead>\n",
       "    <tr style=\"text-align: right;\">\n",
       "      <th></th>\n",
       "      <th>Gender</th>\n",
       "      <th>Age</th>\n",
       "      <th>Height (cm)</th>\n",
       "      <th>Weight (kg)</th>\n",
       "      <th>Occupation</th>\n",
       "      <th>Education Level</th>\n",
       "      <th>Marital Status</th>\n",
       "      <th>Income (USD)</th>\n",
       "      <th>Favorite Color</th>\n",
       "      <th>Unnamed: 9</th>\n",
       "    </tr>\n",
       "  </thead>\n",
       "  <tbody>\n",
       "    <tr>\n",
       "      <th>0</th>\n",
       "      <td>male</td>\n",
       "      <td>32</td>\n",
       "      <td>175</td>\n",
       "      <td>70</td>\n",
       "      <td>Software Engineer</td>\n",
       "      <td>Master's Degree</td>\n",
       "      <td>Married</td>\n",
       "      <td>75000</td>\n",
       "      <td>Blue</td>\n",
       "      <td>NaN</td>\n",
       "    </tr>\n",
       "    <tr>\n",
       "      <th>1</th>\n",
       "      <td>male</td>\n",
       "      <td>25</td>\n",
       "      <td>182</td>\n",
       "      <td>85</td>\n",
       "      <td>Sales Representative</td>\n",
       "      <td>Bachelor's Degree</td>\n",
       "      <td>Single</td>\n",
       "      <td>45000</td>\n",
       "      <td>Green</td>\n",
       "      <td>NaN</td>\n",
       "    </tr>\n",
       "    <tr>\n",
       "      <th>2</th>\n",
       "      <td>female</td>\n",
       "      <td>41</td>\n",
       "      <td>160</td>\n",
       "      <td>62</td>\n",
       "      <td>Doctor</td>\n",
       "      <td>Doctorate Degree</td>\n",
       "      <td>Married</td>\n",
       "      <td>120000</td>\n",
       "      <td>Purple</td>\n",
       "      <td>NaN</td>\n",
       "    </tr>\n",
       "    <tr>\n",
       "      <th>3</th>\n",
       "      <td>male</td>\n",
       "      <td>38</td>\n",
       "      <td>178</td>\n",
       "      <td>79</td>\n",
       "      <td>Lawyer</td>\n",
       "      <td>Bachelor's Degree</td>\n",
       "      <td>Single</td>\n",
       "      <td>90000</td>\n",
       "      <td>Red</td>\n",
       "      <td>NaN</td>\n",
       "    </tr>\n",
       "    <tr>\n",
       "      <th>4</th>\n",
       "      <td>female</td>\n",
       "      <td>29</td>\n",
       "      <td>165</td>\n",
       "      <td>58</td>\n",
       "      <td>Graphic Designer</td>\n",
       "      <td>Associate's Degree</td>\n",
       "      <td>Single</td>\n",
       "      <td>35000</td>\n",
       "      <td>Yellow</td>\n",
       "      <td>NaN</td>\n",
       "    </tr>\n",
       "  </tbody>\n",
       "</table>\n",
       "</div>"
      ],
      "text/plain": [
       "    Gender   Age   Height (cm)   Weight (kg)             Occupation  \\\n",
       "0     male    32           175            70      Software Engineer   \n",
       "1     male    25           182            85   Sales Representative   \n",
       "2   female    41           160            62                 Doctor   \n",
       "3     male    38           178            79                 Lawyer   \n",
       "4   female    29           165            58       Graphic Designer   \n",
       "\n",
       "       Education Level  Marital Status   Income (USD)  Favorite Color  \\\n",
       "0      Master's Degree         Married          75000            Blue   \n",
       "1    Bachelor's Degree          Single          45000           Green   \n",
       "2     Doctorate Degree         Married         120000          Purple   \n",
       "3    Bachelor's Degree          Single          90000             Red   \n",
       "4   Associate's Degree          Single          35000          Yellow   \n",
       "\n",
       "   Unnamed: 9  \n",
       "0         NaN  \n",
       "1         NaN  \n",
       "2         NaN  \n",
       "3         NaN  \n",
       "4         NaN  "
      ]
     },
     "execution_count": 2,
     "metadata": {},
     "output_type": "execute_result"
    }
   ],
   "source": [
    "df = pd.read_csv(\"data/proj95/gender.csv\")\n",
    "df.head()"
   ]
  },
  {
   "cell_type": "markdown",
   "id": "cb03a3bb",
   "metadata": {},
   "source": [
    "## Checking for nan values"
   ]
  },
  {
   "cell_type": "code",
   "execution_count": 3,
   "id": "85a54876",
   "metadata": {},
   "outputs": [
    {
     "data": {
      "text/plain": [
       " Gender               0\n",
       " Age                  0\n",
       " Height (cm)          0\n",
       " Weight (kg)          0\n",
       " Occupation           0\n",
       " Education Level      0\n",
       " Marital Status       0\n",
       " Income (USD)         0\n",
       " Favorite Color       0\n",
       "Unnamed: 9          131\n",
       "dtype: int64"
      ]
     },
     "execution_count": 3,
     "metadata": {},
     "output_type": "execute_result"
    }
   ],
   "source": [
    "df.isna().sum()"
   ]
  },
  {
   "cell_type": "code",
   "execution_count": 4,
   "id": "af42bdeb",
   "metadata": {},
   "outputs": [],
   "source": [
    "df.drop(\"Unnamed: 9\", axis=1, inplace=True)"
   ]
  },
  {
   "cell_type": "markdown",
   "id": "2fd43ce6",
   "metadata": {},
   "source": [
    "## Pre Processing dataset"
   ]
  },
  {
   "cell_type": "code",
   "execution_count": 5,
   "id": "c6de7b82",
   "metadata": {},
   "outputs": [
    {
     "data": {
      "text/plain": [
       "array([' male', ' female', 'male', 'female'], dtype=object)"
      ]
     },
     "execution_count": 5,
     "metadata": {},
     "output_type": "execute_result"
    }
   ],
   "source": [
    "df[\" Gender\"].unique()"
   ]
  },
  {
   "cell_type": "code",
   "execution_count": 6,
   "id": "c011e19f",
   "metadata": {},
   "outputs": [],
   "source": [
    "df[\" Gender\"].replace(\" male\", \"male\", inplace=True)\n",
    "df[\" Gender\"].replace(\" female\", \"female\", inplace=True)"
   ]
  },
  {
   "cell_type": "code",
   "execution_count": 8,
   "id": "fbaa4256",
   "metadata": {},
   "outputs": [
    {
     "data": {
      "text/plain": [
       "array([' Software Engineer', ' Sales Representative', ' Doctor',\n",
       "       ' Lawyer', ' Graphic Designer', ' Business Consultant',\n",
       "       ' Marketing Specialist', ' CEO', ' Project Manager', ' Engineer',\n",
       "       ' Accountant', ' Architect', ' Nurse', ' Analyst', ' Teacher',\n",
       "       ' IT Manager', ' Writer', ' Business Analyst', 'Engineer',\n",
       "       'Teacher', 'Doctor', 'Graphic Designer', 'IT Manager',\n",
       "       'Sales Representative', 'Lawyer', 'Marketing Specialist',\n",
       "       'Project Manager', 'Writer', 'Architect', 'Nurse',\n",
       "       'Business Analyst', 'Accountant', 'CEO', 'Analyst',\n",
       "       'Software Developer'], dtype=object)"
      ]
     },
     "execution_count": 8,
     "metadata": {},
     "output_type": "execute_result"
    }
   ],
   "source": [
    "df[\" Occupation\"].unique()"
   ]
  },
  {
   "cell_type": "code",
   "execution_count": 12,
   "id": "080e37b4",
   "metadata": {},
   "outputs": [],
   "source": [
    "df[\" Occupation\"] = df[\" Occupation\"].str.strip()"
   ]
  },
  {
   "cell_type": "code",
   "execution_count": 13,
   "id": "d8934d1a",
   "metadata": {},
   "outputs": [
    {
     "data": {
      "text/plain": [
       "array([\" Master's Degree\", \" Bachelor's Degree\", ' Doctorate Degree',\n",
       "       \" Associate's Degree\", \"Master's Degree\", \"Bachelor's Degree\",\n",
       "       'Doctorate Degree', \"Associate's Degree\"], dtype=object)"
      ]
     },
     "execution_count": 13,
     "metadata": {},
     "output_type": "execute_result"
    }
   ],
   "source": [
    "df[\" Education Level\"].unique()"
   ]
  },
  {
   "cell_type": "code",
   "execution_count": 14,
   "id": "0d1e9e6b",
   "metadata": {},
   "outputs": [],
   "source": [
    "df[\" Education Level\"] = df[\" Education Level\"].str.strip()"
   ]
  },
  {
   "cell_type": "code",
   "execution_count": 15,
   "id": "79fe5193",
   "metadata": {},
   "outputs": [
    {
     "data": {
      "text/plain": [
       "array([' Married', ' Single', ' Divorced', ' Widowed', 'Single',\n",
       "       'Married', 'Divorced'], dtype=object)"
      ]
     },
     "execution_count": 15,
     "metadata": {},
     "output_type": "execute_result"
    }
   ],
   "source": [
    "df[\" Marital Status\"].unique()"
   ]
  },
  {
   "cell_type": "code",
   "execution_count": 17,
   "id": "0021a4ea",
   "metadata": {},
   "outputs": [],
   "source": [
    "df[\" Marital Status\"] = df[\" Marital Status\"].str.strip()"
   ]
  },
  {
   "cell_type": "code",
   "execution_count": 18,
   "id": "cc9054ba",
   "metadata": {},
   "outputs": [
    {
     "data": {
      "text/plain": [
       "array([' Blue', ' Green', ' Purple', ' Red', ' Yellow', ' Black', ' Pink',\n",
       "       ' Orange', ' Grey', 'Blue', 'Green', 'Red', 'Orange', 'Purple',\n",
       "       'Yellow', 'Black', 'Grey', 'Pink'], dtype=object)"
      ]
     },
     "execution_count": 18,
     "metadata": {},
     "output_type": "execute_result"
    }
   ],
   "source": [
    "df[\" Favorite Color\"].unique()"
   ]
  },
  {
   "cell_type": "code",
   "execution_count": 19,
   "id": "909aa5f1",
   "metadata": {},
   "outputs": [],
   "source": [
    "df[\" Favorite Color\"] = df[\" Favorite Color\"].str.strip()"
   ]
  },
  {
   "cell_type": "code",
   "execution_count": 20,
   "id": "0d517b7b",
   "metadata": {},
   "outputs": [
    {
     "name": "stdout",
     "output_type": "stream",
     "text": [
      "<class 'pandas.core.frame.DataFrame'>\n",
      "RangeIndex: 131 entries, 0 to 130\n",
      "Data columns (total 9 columns):\n",
      " #   Column            Non-Null Count  Dtype \n",
      "---  ------            --------------  ----- \n",
      " 0    Gender           131 non-null    object\n",
      " 1    Age              131 non-null    int64 \n",
      " 2    Height (cm)      131 non-null    int64 \n",
      " 3    Weight (kg)      131 non-null    int64 \n",
      " 4    Occupation       131 non-null    object\n",
      " 5    Education Level  131 non-null    object\n",
      " 6    Marital Status   131 non-null    object\n",
      " 7    Income (USD)     131 non-null    int64 \n",
      " 8    Favorite Color   131 non-null    object\n",
      "dtypes: int64(4), object(5)\n",
      "memory usage: 9.3+ KB\n"
     ]
    }
   ],
   "source": [
    "df.info()"
   ]
  },
  {
   "cell_type": "code",
   "execution_count": 23,
   "id": "6d4d4010",
   "metadata": {},
   "outputs": [],
   "source": [
    "df.columns = df.columns.str.strip()"
   ]
  },
  {
   "cell_type": "code",
   "execution_count": 25,
   "id": "b79b00f1",
   "metadata": {},
   "outputs": [
    {
     "data": {
      "text/html": [
       "<div>\n",
       "<style scoped>\n",
       "    .dataframe tbody tr th:only-of-type {\n",
       "        vertical-align: middle;\n",
       "    }\n",
       "\n",
       "    .dataframe tbody tr th {\n",
       "        vertical-align: top;\n",
       "    }\n",
       "\n",
       "    .dataframe thead th {\n",
       "        text-align: right;\n",
       "    }\n",
       "</style>\n",
       "<table border=\"1\" class=\"dataframe\">\n",
       "  <thead>\n",
       "    <tr style=\"text-align: right;\">\n",
       "      <th></th>\n",
       "      <th>Gender</th>\n",
       "      <th>Age</th>\n",
       "      <th>Height (cm)</th>\n",
       "      <th>Weight (kg)</th>\n",
       "      <th>Occupation</th>\n",
       "      <th>Education Level</th>\n",
       "      <th>Marital Status</th>\n",
       "      <th>Income (USD)</th>\n",
       "      <th>Favorite Color</th>\n",
       "    </tr>\n",
       "  </thead>\n",
       "  <tbody>\n",
       "    <tr>\n",
       "      <th>0</th>\n",
       "      <td>male</td>\n",
       "      <td>32</td>\n",
       "      <td>175</td>\n",
       "      <td>70</td>\n",
       "      <td>Software Engineer</td>\n",
       "      <td>Master's Degree</td>\n",
       "      <td>Married</td>\n",
       "      <td>75000</td>\n",
       "      <td>Blue</td>\n",
       "    </tr>\n",
       "    <tr>\n",
       "      <th>1</th>\n",
       "      <td>male</td>\n",
       "      <td>25</td>\n",
       "      <td>182</td>\n",
       "      <td>85</td>\n",
       "      <td>Sales Representative</td>\n",
       "      <td>Bachelor's Degree</td>\n",
       "      <td>Single</td>\n",
       "      <td>45000</td>\n",
       "      <td>Green</td>\n",
       "    </tr>\n",
       "    <tr>\n",
       "      <th>2</th>\n",
       "      <td>female</td>\n",
       "      <td>41</td>\n",
       "      <td>160</td>\n",
       "      <td>62</td>\n",
       "      <td>Doctor</td>\n",
       "      <td>Doctorate Degree</td>\n",
       "      <td>Married</td>\n",
       "      <td>120000</td>\n",
       "      <td>Purple</td>\n",
       "    </tr>\n",
       "    <tr>\n",
       "      <th>3</th>\n",
       "      <td>male</td>\n",
       "      <td>38</td>\n",
       "      <td>178</td>\n",
       "      <td>79</td>\n",
       "      <td>Lawyer</td>\n",
       "      <td>Bachelor's Degree</td>\n",
       "      <td>Single</td>\n",
       "      <td>90000</td>\n",
       "      <td>Red</td>\n",
       "    </tr>\n",
       "    <tr>\n",
       "      <th>4</th>\n",
       "      <td>female</td>\n",
       "      <td>29</td>\n",
       "      <td>165</td>\n",
       "      <td>58</td>\n",
       "      <td>Graphic Designer</td>\n",
       "      <td>Associate's Degree</td>\n",
       "      <td>Single</td>\n",
       "      <td>35000</td>\n",
       "      <td>Yellow</td>\n",
       "    </tr>\n",
       "  </tbody>\n",
       "</table>\n",
       "</div>"
      ],
      "text/plain": [
       "   Gender  Age  Height (cm)  Weight (kg)            Occupation  \\\n",
       "0    male   32          175           70     Software Engineer   \n",
       "1    male   25          182           85  Sales Representative   \n",
       "2  female   41          160           62                Doctor   \n",
       "3    male   38          178           79                Lawyer   \n",
       "4  female   29          165           58      Graphic Designer   \n",
       "\n",
       "      Education Level Marital Status  Income (USD) Favorite Color  \n",
       "0     Master's Degree        Married         75000           Blue  \n",
       "1   Bachelor's Degree         Single         45000          Green  \n",
       "2    Doctorate Degree        Married        120000         Purple  \n",
       "3   Bachelor's Degree         Single         90000            Red  \n",
       "4  Associate's Degree         Single         35000         Yellow  "
      ]
     },
     "execution_count": 25,
     "metadata": {},
     "output_type": "execute_result"
    }
   ],
   "source": [
    "df.head()"
   ]
  },
  {
   "cell_type": "code",
   "execution_count": 26,
   "id": "193aa899",
   "metadata": {},
   "outputs": [],
   "source": [
    "labels = {}\n",
    "\n",
    "for column in df.keys():\n",
    "    if pd.api.types.is_object_dtype(df[column]):\n",
    "        le = LabelEncoder()\n",
    "        df[column] = le.fit_transform(df[column])\n",
    "        labels[column] = le.classes_\n",
    "    else:\n",
    "        pass"
   ]
  },
  {
   "cell_type": "code",
   "execution_count": 27,
   "id": "b6598f27",
   "metadata": {},
   "outputs": [
    {
     "data": {
      "text/plain": [
       "{'Gender': array(['female', 'male'], dtype=object),\n",
       " 'Occupation': array(['Accountant', 'Analyst', 'Architect', 'Business Analyst',\n",
       "        'Business Consultant', 'CEO', 'Doctor', 'Engineer',\n",
       "        'Graphic Designer', 'IT Manager', 'Lawyer', 'Marketing Specialist',\n",
       "        'Nurse', 'Project Manager', 'Sales Representative',\n",
       "        'Software Developer', 'Software Engineer', 'Teacher', 'Writer'],\n",
       "       dtype=object),\n",
       " 'Education Level': array([\"Associate's Degree\", \"Bachelor's Degree\", 'Doctorate Degree',\n",
       "        \"Master's Degree\"], dtype=object),\n",
       " 'Marital Status': array(['Divorced', 'Married', 'Single', 'Widowed'], dtype=object),\n",
       " 'Favorite Color': array(['Black', 'Blue', 'Green', 'Grey', 'Orange', 'Pink', 'Purple',\n",
       "        'Red', 'Yellow'], dtype=object)}"
      ]
     },
     "execution_count": 27,
     "metadata": {},
     "output_type": "execute_result"
    }
   ],
   "source": [
    "labels"
   ]
  },
  {
   "cell_type": "code",
   "execution_count": 28,
   "id": "bbb1271a",
   "metadata": {},
   "outputs": [
    {
     "data": {
      "text/html": [
       "<div>\n",
       "<style scoped>\n",
       "    .dataframe tbody tr th:only-of-type {\n",
       "        vertical-align: middle;\n",
       "    }\n",
       "\n",
       "    .dataframe tbody tr th {\n",
       "        vertical-align: top;\n",
       "    }\n",
       "\n",
       "    .dataframe thead th {\n",
       "        text-align: right;\n",
       "    }\n",
       "</style>\n",
       "<table border=\"1\" class=\"dataframe\">\n",
       "  <thead>\n",
       "    <tr style=\"text-align: right;\">\n",
       "      <th></th>\n",
       "      <th>Gender</th>\n",
       "      <th>Age</th>\n",
       "      <th>Height (cm)</th>\n",
       "      <th>Weight (kg)</th>\n",
       "      <th>Occupation</th>\n",
       "      <th>Education Level</th>\n",
       "      <th>Marital Status</th>\n",
       "      <th>Income (USD)</th>\n",
       "      <th>Favorite Color</th>\n",
       "    </tr>\n",
       "  </thead>\n",
       "  <tbody>\n",
       "    <tr>\n",
       "      <th>0</th>\n",
       "      <td>1</td>\n",
       "      <td>32</td>\n",
       "      <td>175</td>\n",
       "      <td>70</td>\n",
       "      <td>16</td>\n",
       "      <td>3</td>\n",
       "      <td>1</td>\n",
       "      <td>75000</td>\n",
       "      <td>1</td>\n",
       "    </tr>\n",
       "    <tr>\n",
       "      <th>1</th>\n",
       "      <td>1</td>\n",
       "      <td>25</td>\n",
       "      <td>182</td>\n",
       "      <td>85</td>\n",
       "      <td>14</td>\n",
       "      <td>1</td>\n",
       "      <td>2</td>\n",
       "      <td>45000</td>\n",
       "      <td>2</td>\n",
       "    </tr>\n",
       "    <tr>\n",
       "      <th>2</th>\n",
       "      <td>0</td>\n",
       "      <td>41</td>\n",
       "      <td>160</td>\n",
       "      <td>62</td>\n",
       "      <td>6</td>\n",
       "      <td>2</td>\n",
       "      <td>1</td>\n",
       "      <td>120000</td>\n",
       "      <td>6</td>\n",
       "    </tr>\n",
       "    <tr>\n",
       "      <th>3</th>\n",
       "      <td>1</td>\n",
       "      <td>38</td>\n",
       "      <td>178</td>\n",
       "      <td>79</td>\n",
       "      <td>10</td>\n",
       "      <td>1</td>\n",
       "      <td>2</td>\n",
       "      <td>90000</td>\n",
       "      <td>7</td>\n",
       "    </tr>\n",
       "    <tr>\n",
       "      <th>4</th>\n",
       "      <td>0</td>\n",
       "      <td>29</td>\n",
       "      <td>165</td>\n",
       "      <td>58</td>\n",
       "      <td>8</td>\n",
       "      <td>0</td>\n",
       "      <td>2</td>\n",
       "      <td>35000</td>\n",
       "      <td>8</td>\n",
       "    </tr>\n",
       "  </tbody>\n",
       "</table>\n",
       "</div>"
      ],
      "text/plain": [
       "   Gender  Age  Height (cm)  Weight (kg)  Occupation  Education Level  \\\n",
       "0       1   32          175           70          16                3   \n",
       "1       1   25          182           85          14                1   \n",
       "2       0   41          160           62           6                2   \n",
       "3       1   38          178           79          10                1   \n",
       "4       0   29          165           58           8                0   \n",
       "\n",
       "   Marital Status  Income (USD)  Favorite Color  \n",
       "0               1         75000               1  \n",
       "1               2         45000               2  \n",
       "2               1        120000               6  \n",
       "3               2         90000               7  \n",
       "4               2         35000               8  "
      ]
     },
     "execution_count": 28,
     "metadata": {},
     "output_type": "execute_result"
    }
   ],
   "source": [
    "df.head()"
   ]
  },
  {
   "cell_type": "code",
   "execution_count": 30,
   "id": "00347cdd",
   "metadata": {},
   "outputs": [],
   "source": [
    "X = df.drop(\"Gender\", axis=1).values\n",
    "y = df[\"Gender\"].values\n",
    "\n",
    "X_train, X_test, y_train, y_test = train_test_split(X, y, test_size=0.2)"
   ]
  },
  {
   "cell_type": "code",
   "execution_count": 33,
   "id": "16ae6d10",
   "metadata": {},
   "outputs": [
    {
     "data": {
      "text/plain": [
       "(104, 8)"
      ]
     },
     "execution_count": 33,
     "metadata": {},
     "output_type": "execute_result"
    }
   ],
   "source": [
    "X_train.shape"
   ]
  },
  {
   "cell_type": "code",
   "execution_count": 34,
   "id": "a7259544",
   "metadata": {},
   "outputs": [
    {
     "data": {
      "text/plain": [
       "(104,)"
      ]
     },
     "execution_count": 34,
     "metadata": {},
     "output_type": "execute_result"
    }
   ],
   "source": [
    "y_train.shape"
   ]
  },
  {
   "cell_type": "markdown",
   "id": "c0db4d25",
   "metadata": {},
   "source": [
    "## Training the model"
   ]
  },
  {
   "cell_type": "code",
   "execution_count": 35,
   "id": "140946ad",
   "metadata": {},
   "outputs": [
    {
     "data": {
      "text/plain": [
       "1.0"
      ]
     },
     "execution_count": 35,
     "metadata": {},
     "output_type": "execute_result"
    }
   ],
   "source": [
    "rclf = RandomForestClassifier()\n",
    "rclf.fit(X_train, y_train)\n",
    "rclf.score(X_test, y_test)"
   ]
  },
  {
   "cell_type": "code",
   "execution_count": 37,
   "id": "ccaae379",
   "metadata": {},
   "outputs": [
    {
     "data": {
      "text/plain": [
       "1.0"
      ]
     },
     "execution_count": 37,
     "metadata": {},
     "output_type": "execute_result"
    }
   ],
   "source": [
    "from xgboost import XGBClassifier\n",
    "\n",
    "xclf = XGBClassifier()\n",
    "xclf.fit(X_train, y_train)\n",
    "xclf.score(X_test, y_test)"
   ]
  },
  {
   "cell_type": "markdown",
   "id": "d501074b",
   "metadata": {},
   "source": [
    "## Making Prediction"
   ]
  },
  {
   "cell_type": "code",
   "execution_count": 38,
   "id": "ece23734",
   "metadata": {},
   "outputs": [
    {
     "data": {
      "text/plain": [
       "array([1])"
      ]
     },
     "execution_count": 38,
     "metadata": {},
     "output_type": "execute_result"
    }
   ],
   "source": [
    "xclf.predict([[22, 182, 55, 16, 1, 200000, 7]])"
   ]
  },
  {
   "cell_type": "code",
   "execution_count": 39,
   "id": "1d18c9dd",
   "metadata": {},
   "outputs": [
    {
     "data": {
      "text/plain": [
       "'male'"
      ]
     },
     "execution_count": 39,
     "metadata": {},
     "output_type": "execute_result"
    }
   ],
   "source": [
    "labels[\"Gender\"][1]"
   ]
  },
  {
   "cell_type": "code",
   "execution_count": null,
   "id": "2c7e0b7a",
   "metadata": {},
   "outputs": [],
   "source": []
  }
 ],
 "metadata": {
  "kernelspec": {
   "display_name": "Python 3 (ipykernel)",
   "language": "python",
   "name": "python3"
  },
  "language_info": {
   "codemirror_mode": {
    "name": "ipython",
    "version": 3
   },
   "file_extension": ".py",
   "mimetype": "text/x-python",
   "name": "python",
   "nbconvert_exporter": "python",
   "pygments_lexer": "ipython3",
   "version": "3.10.4"
  }
 },
 "nbformat": 4,
 "nbformat_minor": 5
}
