{
 "cells": [
  {
   "cell_type": "markdown",
   "id": "a6b27602",
   "metadata": {},
   "source": [
    "# Malicious Server Hack\n",
    "\n",
    "## Importing required packages"
   ]
  },
  {
   "cell_type": "code",
   "execution_count": 1,
   "id": "035a19e0",
   "metadata": {},
   "outputs": [],
   "source": [
    "import pandas as pd\n",
    "import numpy as np\n",
    "from sklearn.ensemble import RandomForestClassifier"
   ]
  },
  {
   "cell_type": "markdown",
   "id": "598071b4",
   "metadata": {},
   "source": [
    "## Getting dataset"
   ]
  },
  {
   "cell_type": "code",
   "execution_count": 2,
   "id": "3165cb44",
   "metadata": {},
   "outputs": [
    {
     "data": {
      "text/html": [
       "<div>\n",
       "<style scoped>\n",
       "    .dataframe tbody tr th:only-of-type {\n",
       "        vertical-align: middle;\n",
       "    }\n",
       "\n",
       "    .dataframe tbody tr th {\n",
       "        vertical-align: top;\n",
       "    }\n",
       "\n",
       "    .dataframe thead th {\n",
       "        text-align: right;\n",
       "    }\n",
       "</style>\n",
       "<table border=\"1\" class=\"dataframe\">\n",
       "  <thead>\n",
       "    <tr style=\"text-align: right;\">\n",
       "      <th></th>\n",
       "      <th>INCIDENT_ID</th>\n",
       "      <th>DATE</th>\n",
       "      <th>X_1</th>\n",
       "      <th>X_2</th>\n",
       "      <th>X_3</th>\n",
       "      <th>X_4</th>\n",
       "      <th>X_5</th>\n",
       "      <th>X_6</th>\n",
       "      <th>X_7</th>\n",
       "      <th>X_8</th>\n",
       "      <th>X_9</th>\n",
       "      <th>X_10</th>\n",
       "      <th>X_11</th>\n",
       "      <th>X_12</th>\n",
       "      <th>X_13</th>\n",
       "      <th>X_14</th>\n",
       "      <th>X_15</th>\n",
       "      <th>MALICIOUS_OFFENSE</th>\n",
       "    </tr>\n",
       "  </thead>\n",
       "  <tbody>\n",
       "    <tr>\n",
       "      <th>0</th>\n",
       "      <td>CR_102659</td>\n",
       "      <td>04-JUL-04</td>\n",
       "      <td>0</td>\n",
       "      <td>36</td>\n",
       "      <td>34</td>\n",
       "      <td>2</td>\n",
       "      <td>1</td>\n",
       "      <td>5</td>\n",
       "      <td>6</td>\n",
       "      <td>1</td>\n",
       "      <td>6</td>\n",
       "      <td>1</td>\n",
       "      <td>174</td>\n",
       "      <td>1.0</td>\n",
       "      <td>92</td>\n",
       "      <td>29</td>\n",
       "      <td>36</td>\n",
       "      <td>0</td>\n",
       "    </tr>\n",
       "    <tr>\n",
       "      <th>1</th>\n",
       "      <td>CR_189752</td>\n",
       "      <td>18-JUL-17</td>\n",
       "      <td>1</td>\n",
       "      <td>37</td>\n",
       "      <td>37</td>\n",
       "      <td>0</td>\n",
       "      <td>0</td>\n",
       "      <td>11</td>\n",
       "      <td>17</td>\n",
       "      <td>1</td>\n",
       "      <td>6</td>\n",
       "      <td>1</td>\n",
       "      <td>236</td>\n",
       "      <td>1.0</td>\n",
       "      <td>103</td>\n",
       "      <td>142</td>\n",
       "      <td>34</td>\n",
       "      <td>1</td>\n",
       "    </tr>\n",
       "    <tr>\n",
       "      <th>2</th>\n",
       "      <td>CR_184637</td>\n",
       "      <td>15-MAR-17</td>\n",
       "      <td>0</td>\n",
       "      <td>3</td>\n",
       "      <td>2</td>\n",
       "      <td>3</td>\n",
       "      <td>5</td>\n",
       "      <td>1</td>\n",
       "      <td>0</td>\n",
       "      <td>2</td>\n",
       "      <td>3</td>\n",
       "      <td>1</td>\n",
       "      <td>174</td>\n",
       "      <td>1.0</td>\n",
       "      <td>110</td>\n",
       "      <td>93</td>\n",
       "      <td>34</td>\n",
       "      <td>1</td>\n",
       "    </tr>\n",
       "    <tr>\n",
       "      <th>3</th>\n",
       "      <td>CR_139071</td>\n",
       "      <td>13-FEB-09</td>\n",
       "      <td>0</td>\n",
       "      <td>33</td>\n",
       "      <td>32</td>\n",
       "      <td>2</td>\n",
       "      <td>1</td>\n",
       "      <td>7</td>\n",
       "      <td>1</td>\n",
       "      <td>1</td>\n",
       "      <td>6</td>\n",
       "      <td>1</td>\n",
       "      <td>249</td>\n",
       "      <td>1.0</td>\n",
       "      <td>72</td>\n",
       "      <td>29</td>\n",
       "      <td>34</td>\n",
       "      <td>1</td>\n",
       "    </tr>\n",
       "    <tr>\n",
       "      <th>4</th>\n",
       "      <td>CR_109335</td>\n",
       "      <td>13-APR-05</td>\n",
       "      <td>0</td>\n",
       "      <td>33</td>\n",
       "      <td>32</td>\n",
       "      <td>2</td>\n",
       "      <td>1</td>\n",
       "      <td>8</td>\n",
       "      <td>3</td>\n",
       "      <td>0</td>\n",
       "      <td>5</td>\n",
       "      <td>1</td>\n",
       "      <td>174</td>\n",
       "      <td>0.0</td>\n",
       "      <td>112</td>\n",
       "      <td>29</td>\n",
       "      <td>43</td>\n",
       "      <td>1</td>\n",
       "    </tr>\n",
       "  </tbody>\n",
       "</table>\n",
       "</div>"
      ],
      "text/plain": [
       "  INCIDENT_ID       DATE  X_1  X_2  X_3  X_4  X_5  X_6  X_7  X_8  X_9  X_10  \\\n",
       "0   CR_102659  04-JUL-04    0   36   34    2    1    5    6    1    6     1   \n",
       "1   CR_189752  18-JUL-17    1   37   37    0    0   11   17    1    6     1   \n",
       "2   CR_184637  15-MAR-17    0    3    2    3    5    1    0    2    3     1   \n",
       "3   CR_139071  13-FEB-09    0   33   32    2    1    7    1    1    6     1   \n",
       "4   CR_109335  13-APR-05    0   33   32    2    1    8    3    0    5     1   \n",
       "\n",
       "   X_11  X_12  X_13  X_14  X_15  MALICIOUS_OFFENSE  \n",
       "0   174   1.0    92    29    36                  0  \n",
       "1   236   1.0   103   142    34                  1  \n",
       "2   174   1.0   110    93    34                  1  \n",
       "3   249   1.0    72    29    34                  1  \n",
       "4   174   0.0   112    29    43                  1  "
      ]
     },
     "execution_count": 2,
     "metadata": {},
     "output_type": "execute_result"
    }
   ],
   "source": [
    "df_train = pd.read_csv(\"data/proj63/Train.csv\")\n",
    "df_train.head()"
   ]
  },
  {
   "cell_type": "code",
   "execution_count": 3,
   "id": "0171d3e1",
   "metadata": {},
   "outputs": [
    {
     "data": {
      "text/html": [
       "<div>\n",
       "<style scoped>\n",
       "    .dataframe tbody tr th:only-of-type {\n",
       "        vertical-align: middle;\n",
       "    }\n",
       "\n",
       "    .dataframe tbody tr th {\n",
       "        vertical-align: top;\n",
       "    }\n",
       "\n",
       "    .dataframe thead th {\n",
       "        text-align: right;\n",
       "    }\n",
       "</style>\n",
       "<table border=\"1\" class=\"dataframe\">\n",
       "  <thead>\n",
       "    <tr style=\"text-align: right;\">\n",
       "      <th></th>\n",
       "      <th>INCIDENT_ID</th>\n",
       "      <th>DATE</th>\n",
       "      <th>X_1</th>\n",
       "      <th>X_2</th>\n",
       "      <th>X_3</th>\n",
       "      <th>X_4</th>\n",
       "      <th>X_5</th>\n",
       "      <th>X_6</th>\n",
       "      <th>X_7</th>\n",
       "      <th>X_8</th>\n",
       "      <th>X_9</th>\n",
       "      <th>X_10</th>\n",
       "      <th>X_11</th>\n",
       "      <th>X_12</th>\n",
       "      <th>X_13</th>\n",
       "      <th>X_14</th>\n",
       "      <th>X_15</th>\n",
       "    </tr>\n",
       "  </thead>\n",
       "  <tbody>\n",
       "    <tr>\n",
       "      <th>0</th>\n",
       "      <td>CR_195453</td>\n",
       "      <td>01-FEB-18</td>\n",
       "      <td>0</td>\n",
       "      <td>30</td>\n",
       "      <td>35</td>\n",
       "      <td>7</td>\n",
       "      <td>3</td>\n",
       "      <td>6</td>\n",
       "      <td>4</td>\n",
       "      <td>0</td>\n",
       "      <td>5</td>\n",
       "      <td>1</td>\n",
       "      <td>174</td>\n",
       "      <td>NaN</td>\n",
       "      <td>72</td>\n",
       "      <td>119</td>\n",
       "      <td>23</td>\n",
       "    </tr>\n",
       "    <tr>\n",
       "      <th>1</th>\n",
       "      <td>CR_103520</td>\n",
       "      <td>05-MAR-04</td>\n",
       "      <td>0</td>\n",
       "      <td>44</td>\n",
       "      <td>44</td>\n",
       "      <td>1</td>\n",
       "      <td>3</td>\n",
       "      <td>7</td>\n",
       "      <td>1</td>\n",
       "      <td>4</td>\n",
       "      <td>6</td>\n",
       "      <td>1</td>\n",
       "      <td>316</td>\n",
       "      <td>0.0</td>\n",
       "      <td>12</td>\n",
       "      <td>29</td>\n",
       "      <td>34</td>\n",
       "    </tr>\n",
       "    <tr>\n",
       "      <th>2</th>\n",
       "      <td>CR_196089</td>\n",
       "      <td>27-JAN-18</td>\n",
       "      <td>0</td>\n",
       "      <td>34</td>\n",
       "      <td>33</td>\n",
       "      <td>3</td>\n",
       "      <td>5</td>\n",
       "      <td>2</td>\n",
       "      <td>7</td>\n",
       "      <td>3</td>\n",
       "      <td>0</td>\n",
       "      <td>1</td>\n",
       "      <td>316</td>\n",
       "      <td>1.0</td>\n",
       "      <td>72</td>\n",
       "      <td>0</td>\n",
       "      <td>34</td>\n",
       "    </tr>\n",
       "    <tr>\n",
       "      <th>3</th>\n",
       "      <td>CR_112195</td>\n",
       "      <td>18-AUG-06</td>\n",
       "      <td>7</td>\n",
       "      <td>3</td>\n",
       "      <td>2</td>\n",
       "      <td>3</td>\n",
       "      <td>5</td>\n",
       "      <td>9</td>\n",
       "      <td>8</td>\n",
       "      <td>0</td>\n",
       "      <td>5</td>\n",
       "      <td>1</td>\n",
       "      <td>174</td>\n",
       "      <td>1.0</td>\n",
       "      <td>112</td>\n",
       "      <td>87</td>\n",
       "      <td>34</td>\n",
       "    </tr>\n",
       "    <tr>\n",
       "      <th>4</th>\n",
       "      <td>CR_149832</td>\n",
       "      <td>31-OCT-11</td>\n",
       "      <td>0</td>\n",
       "      <td>7</td>\n",
       "      <td>8</td>\n",
       "      <td>7</td>\n",
       "      <td>3</td>\n",
       "      <td>2</td>\n",
       "      <td>7</td>\n",
       "      <td>1</td>\n",
       "      <td>5</td>\n",
       "      <td>1</td>\n",
       "      <td>174</td>\n",
       "      <td>0.0</td>\n",
       "      <td>112</td>\n",
       "      <td>93</td>\n",
       "      <td>43</td>\n",
       "    </tr>\n",
       "  </tbody>\n",
       "</table>\n",
       "</div>"
      ],
      "text/plain": [
       "  INCIDENT_ID       DATE  X_1  X_2  X_3  X_4  X_5  X_6  X_7  X_8  X_9  X_10  \\\n",
       "0   CR_195453  01-FEB-18    0   30   35    7    3    6    4    0    5     1   \n",
       "1   CR_103520  05-MAR-04    0   44   44    1    3    7    1    4    6     1   \n",
       "2   CR_196089  27-JAN-18    0   34   33    3    5    2    7    3    0     1   \n",
       "3   CR_112195  18-AUG-06    7    3    2    3    5    9    8    0    5     1   \n",
       "4   CR_149832  31-OCT-11    0    7    8    7    3    2    7    1    5     1   \n",
       "\n",
       "   X_11  X_12  X_13  X_14  X_15  \n",
       "0   174   NaN    72   119    23  \n",
       "1   316   0.0    12    29    34  \n",
       "2   316   1.0    72     0    34  \n",
       "3   174   1.0   112    87    34  \n",
       "4   174   0.0   112    93    43  "
      ]
     },
     "execution_count": 3,
     "metadata": {},
     "output_type": "execute_result"
    }
   ],
   "source": [
    "df_test = pd.read_csv(\"data/proj63/Test.csv\")\n",
    "df_test.head()"
   ]
  },
  {
   "cell_type": "code",
   "execution_count": 4,
   "id": "053db8fc",
   "metadata": {},
   "outputs": [
    {
     "data": {
      "text/plain": [
       "(23856, 15903)"
      ]
     },
     "execution_count": 4,
     "metadata": {},
     "output_type": "execute_result"
    }
   ],
   "source": [
    "len(df_train), len(df_test)"
   ]
  },
  {
   "cell_type": "markdown",
   "id": "9a6e2f39",
   "metadata": {},
   "source": [
    "## Checking for invalid values"
   ]
  },
  {
   "cell_type": "code",
   "execution_count": 5,
   "id": "410c69db",
   "metadata": {},
   "outputs": [
    {
     "data": {
      "text/plain": [
       "INCIDENT_ID            0\n",
       "DATE                   0\n",
       "X_1                    0\n",
       "X_2                    0\n",
       "X_3                    0\n",
       "X_4                    0\n",
       "X_5                    0\n",
       "X_6                    0\n",
       "X_7                    0\n",
       "X_8                    0\n",
       "X_9                    0\n",
       "X_10                   0\n",
       "X_11                   0\n",
       "X_12                 182\n",
       "X_13                   0\n",
       "X_14                   0\n",
       "X_15                   0\n",
       "MALICIOUS_OFFENSE      0\n",
       "dtype: int64"
      ]
     },
     "execution_count": 5,
     "metadata": {},
     "output_type": "execute_result"
    }
   ],
   "source": [
    "df_train.isna().sum()"
   ]
  },
  {
   "cell_type": "code",
   "execution_count": 6,
   "id": "3ca27c13",
   "metadata": {},
   "outputs": [
    {
     "data": {
      "text/plain": [
       "INCIDENT_ID          0\n",
       "DATE                 0\n",
       "X_1                  0\n",
       "X_2                  0\n",
       "X_3                  0\n",
       "X_4                  0\n",
       "X_5                  0\n",
       "X_6                  0\n",
       "X_7                  0\n",
       "X_8                  0\n",
       "X_9                  0\n",
       "X_10                 0\n",
       "X_11                 0\n",
       "X_12                 0\n",
       "X_13                 0\n",
       "X_14                 0\n",
       "X_15                 0\n",
       "MALICIOUS_OFFENSE    0\n",
       "dtype: int64"
      ]
     },
     "execution_count": 6,
     "metadata": {},
     "output_type": "execute_result"
    }
   ],
   "source": [
    "df_train[\"X_12\"].fillna(0.0, inplace=True)\n",
    "df_train.isna().sum()"
   ]
  },
  {
   "cell_type": "code",
   "execution_count": 7,
   "id": "fb8b84b4",
   "metadata": {},
   "outputs": [
    {
     "data": {
      "text/plain": [
       "INCIDENT_ID      0\n",
       "DATE             0\n",
       "X_1              0\n",
       "X_2              0\n",
       "X_3              0\n",
       "X_4              0\n",
       "X_5              0\n",
       "X_6              0\n",
       "X_7              0\n",
       "X_8              0\n",
       "X_9              0\n",
       "X_10             0\n",
       "X_11             0\n",
       "X_12           127\n",
       "X_13             0\n",
       "X_14             0\n",
       "X_15             0\n",
       "dtype: int64"
      ]
     },
     "execution_count": 7,
     "metadata": {},
     "output_type": "execute_result"
    }
   ],
   "source": [
    "df_test.isna().sum()"
   ]
  },
  {
   "cell_type": "code",
   "execution_count": 8,
   "id": "9d3a131b",
   "metadata": {},
   "outputs": [
    {
     "data": {
      "text/plain": [
       "INCIDENT_ID    0\n",
       "DATE           0\n",
       "X_1            0\n",
       "X_2            0\n",
       "X_3            0\n",
       "X_4            0\n",
       "X_5            0\n",
       "X_6            0\n",
       "X_7            0\n",
       "X_8            0\n",
       "X_9            0\n",
       "X_10           0\n",
       "X_11           0\n",
       "X_12           0\n",
       "X_13           0\n",
       "X_14           0\n",
       "X_15           0\n",
       "dtype: int64"
      ]
     },
     "execution_count": 8,
     "metadata": {},
     "output_type": "execute_result"
    }
   ],
   "source": [
    "df_test[\"X_12\"].fillna(0.0, inplace=True)\n",
    "df_test.isna().sum()"
   ]
  },
  {
   "cell_type": "markdown",
   "id": "4d2ea06b",
   "metadata": {},
   "source": [
    "## Preprocessing dataset"
   ]
  },
  {
   "cell_type": "code",
   "execution_count": 12,
   "id": "a0714f16",
   "metadata": {},
   "outputs": [],
   "source": [
    "from sklearn.model_selection import train_test_split\n",
    "\n",
    "df_train.drop([\"INCIDENT_ID\", \"DATE\"], axis=1, inplace=True)\n",
    "\n",
    "X = df_train.drop(\"MALICIOUS_OFFENSE\", axis=1)\n",
    "y = df_train[\"MALICIOUS_OFFENSE\"]\n",
    "\n",
    "X_train, X_test, y_train, y_test = train_test_split(X, y, test_size=0.2)"
   ]
  },
  {
   "cell_type": "markdown",
   "id": "d10a8494",
   "metadata": {},
   "source": [
    "## Training Model"
   ]
  },
  {
   "cell_type": "code",
   "execution_count": 13,
   "id": "f0a89813",
   "metadata": {},
   "outputs": [
    {
     "data": {
      "text/plain": [
       "0.9937133277451802"
      ]
     },
     "execution_count": 13,
     "metadata": {},
     "output_type": "execute_result"
    }
   ],
   "source": [
    "rclf = RandomForestClassifier()\n",
    "rclf.fit(X_train, y_train)\n",
    "rclf.score(X_test, y_test)"
   ]
  },
  {
   "cell_type": "code",
   "execution_count": 14,
   "id": "ffaa0950",
   "metadata": {},
   "outputs": [
    {
     "data": {
      "text/plain": [
       "0.9991617770326907"
      ]
     },
     "execution_count": 14,
     "metadata": {},
     "output_type": "execute_result"
    }
   ],
   "source": [
    "from xgboost import XGBClassifier\n",
    "\n",
    "xgbclf = XGBClassifier()\n",
    "xgbclf.fit(X_train, y_train)\n",
    "xgbclf.score(X_test, y_test)"
   ]
  },
  {
   "cell_type": "markdown",
   "id": "b09fe015",
   "metadata": {},
   "source": [
    "## Prediction"
   ]
  },
  {
   "cell_type": "code",
   "execution_count": 15,
   "id": "6fc278cb",
   "metadata": {},
   "outputs": [],
   "source": [
    "df_test.drop([\"INCIDENT_ID\", \"DATE\"], axis=1, inplace=True)"
   ]
  },
  {
   "cell_type": "code",
   "execution_count": 17,
   "id": "bfb5dabf",
   "metadata": {},
   "outputs": [],
   "source": [
    "df_test = df_test.values"
   ]
  },
  {
   "cell_type": "code",
   "execution_count": 19,
   "id": "34604dca",
   "metadata": {},
   "outputs": [
    {
     "data": {
      "text/plain": [
       "array([1, 1, 1, ..., 1, 1, 1])"
      ]
     },
     "execution_count": 19,
     "metadata": {},
     "output_type": "execute_result"
    }
   ],
   "source": [
    "xgbclf.predict(df_test)"
   ]
  },
  {
   "cell_type": "code",
   "execution_count": null,
   "id": "9dbe4cd3",
   "metadata": {},
   "outputs": [],
   "source": []
  }
 ],
 "metadata": {
  "kernelspec": {
   "display_name": "Python 3 (ipykernel)",
   "language": "python",
   "name": "python3"
  },
  "language_info": {
   "codemirror_mode": {
    "name": "ipython",
    "version": 3
   },
   "file_extension": ".py",
   "mimetype": "text/x-python",
   "name": "python",
   "nbconvert_exporter": "python",
   "pygments_lexer": "ipython3",
   "version": "3.10.4"
  }
 },
 "nbformat": 4,
 "nbformat_minor": 5
}
