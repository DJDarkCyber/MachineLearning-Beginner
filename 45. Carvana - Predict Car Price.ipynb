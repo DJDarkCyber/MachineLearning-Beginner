{
 "cells": [
  {
   "cell_type": "markdown",
   "id": "2455d456",
   "metadata": {},
   "source": [
    "# Carvana - Predict Car Price\n",
    "\n",
    "## Getting data"
   ]
  },
  {
   "cell_type": "code",
   "execution_count": 1,
   "id": "896992a3",
   "metadata": {},
   "outputs": [],
   "source": [
    "import pandas as pd\n",
    "import numpy as np"
   ]
  },
  {
   "cell_type": "code",
   "execution_count": 2,
   "id": "b4e9419a",
   "metadata": {},
   "outputs": [
    {
     "data": {
      "text/html": [
       "<div>\n",
       "<style scoped>\n",
       "    .dataframe tbody tr th:only-of-type {\n",
       "        vertical-align: middle;\n",
       "    }\n",
       "\n",
       "    .dataframe tbody tr th {\n",
       "        vertical-align: top;\n",
       "    }\n",
       "\n",
       "    .dataframe thead th {\n",
       "        text-align: right;\n",
       "    }\n",
       "</style>\n",
       "<table border=\"1\" class=\"dataframe\">\n",
       "  <thead>\n",
       "    <tr style=\"text-align: right;\">\n",
       "      <th></th>\n",
       "      <th>Name</th>\n",
       "      <th>Year</th>\n",
       "      <th>Miles</th>\n",
       "      <th>Price</th>\n",
       "    </tr>\n",
       "  </thead>\n",
       "  <tbody>\n",
       "    <tr>\n",
       "      <th>0</th>\n",
       "      <td>Chevrolet Trax</td>\n",
       "      <td>2018</td>\n",
       "      <td>41946</td>\n",
       "      <td>16990</td>\n",
       "    </tr>\n",
       "    <tr>\n",
       "      <th>1</th>\n",
       "      <td>GMC Terrain</td>\n",
       "      <td>2020</td>\n",
       "      <td>45328</td>\n",
       "      <td>23990</td>\n",
       "    </tr>\n",
       "    <tr>\n",
       "      <th>2</th>\n",
       "      <td>Jeep Wrangler</td>\n",
       "      <td>2012</td>\n",
       "      <td>81068</td>\n",
       "      <td>21590</td>\n",
       "    </tr>\n",
       "    <tr>\n",
       "      <th>3</th>\n",
       "      <td>Jeep Renegade</td>\n",
       "      <td>2019</td>\n",
       "      <td>35372</td>\n",
       "      <td>21590</td>\n",
       "    </tr>\n",
       "    <tr>\n",
       "      <th>4</th>\n",
       "      <td>BMW X</td>\n",
       "      <td>20173</td>\n",
       "      <td>68992</td>\n",
       "      <td>22990</td>\n",
       "    </tr>\n",
       "  </tbody>\n",
       "</table>\n",
       "</div>"
      ],
      "text/plain": [
       "              Name   Year  Miles  Price\n",
       "0   Chevrolet Trax   2018  41946  16990\n",
       "1      GMC Terrain   2020  45328  23990\n",
       "2    Jeep Wrangler   2012  81068  21590\n",
       "3    Jeep Renegade   2019  35372  21590\n",
       "4            BMW X  20173  68992  22990"
      ]
     },
     "execution_count": 2,
     "metadata": {},
     "output_type": "execute_result"
    }
   ],
   "source": [
    "df = pd.read_csv(\"data/proj45/carvana.csv\")\n",
    "df.head()"
   ]
  },
  {
   "cell_type": "markdown",
   "id": "8aa89cb2",
   "metadata": {},
   "source": [
    "## Cleaning data"
   ]
  },
  {
   "cell_type": "code",
   "execution_count": 3,
   "id": "5963f17e",
   "metadata": {},
   "outputs": [
    {
     "data": {
      "text/plain": [
       "Name     0\n",
       "Year     0\n",
       "Miles    0\n",
       "Price    0\n",
       "dtype: int64"
      ]
     },
     "execution_count": 3,
     "metadata": {},
     "output_type": "execute_result"
    }
   ],
   "source": [
    "df.isna().sum()"
   ]
  },
  {
   "cell_type": "markdown",
   "id": "96ac1ae0",
   "metadata": {},
   "source": [
    "## Pre-Processing Data"
   ]
  },
  {
   "cell_type": "code",
   "execution_count": 4,
   "id": "2eb71ccf",
   "metadata": {},
   "outputs": [
    {
     "data": {
      "text/plain": [
       " Toyota Corolla                    835\n",
       " Hyundai Elantra                   738\n",
       " Toyota Camry                      725\n",
       " Nissan Rogue                      528\n",
       " Honda Accord                      521\n",
       "                                  ... \n",
       " Ford Expedition EL                  1\n",
       " Ford F Lightning                    1\n",
       " Mercedes-Benz Mercedes-AMG GLC      1\n",
       " Hyundai Genesis Coupe               1\n",
       "Kia Sorento                          1\n",
       "Name: Name, Length: 416, dtype: int64"
      ]
     },
     "execution_count": 4,
     "metadata": {},
     "output_type": "execute_result"
    }
   ],
   "source": [
    "df[\"Name\"].value_counts()"
   ]
  },
  {
   "cell_type": "code",
   "execution_count": 7,
   "id": "4937a51a",
   "metadata": {},
   "outputs": [
    {
     "data": {
      "text/plain": [
       "array([' Acura ILX', ' Acura MDX', ' Acura MDX Sport Hybrid',\n",
       "       ' Acura RDX', ' Acura RLX', ' Acura TL', ' Acura TLX',\n",
       "       ' Acura TSX', ' Alfa Romeo C Spider', ' Alfa Romeo Giulia',\n",
       "       ' Alfa Romeo Stelvio', ' Audi A', ' Audi A Sportback e-tron',\n",
       "       ' Audi Q', ' Audi S', ' Audi TT', ' Audi allroad', ' Audi e-tron',\n",
       "       ' BMW  Series', ' BMW M', ' BMW X', ' BMW Z', ' BMW i',\n",
       "       ' Buick Cascada', ' Buick Enclave', ' Buick Encore',\n",
       "       ' Buick Encore GX', ' Buick Envision', ' Buick LaCrosse',\n",
       "       ' Buick Lucerne', ' Buick Regal', ' Buick Regal Sportback',\n",
       "       ' Buick Verano', ' Cadillac ATS', ' Cadillac CT', ' Cadillac CTS',\n",
       "       ' Cadillac DTS', ' Cadillac ELR', ' Cadillac Escalade ESV',\n",
       "       ' Cadillac SRX', ' Cadillac XT', ' Cadillac XTS',\n",
       "       ' Chevrolet Blazer', ' Chevrolet Bolt EV', ' Chevrolet Camaro',\n",
       "       ' Chevrolet Captiva Sport', ' Chevrolet City Express',\n",
       "       ' Chevrolet Colorado Crew Cab', ' Chevrolet Colorado Extended Cab',\n",
       "       ' Chevrolet Corvette', ' Chevrolet Cruze',\n",
       "       ' Chevrolet Cruze Limited', ' Chevrolet Equinox',\n",
       "       ' Chevrolet Impala', ' Chevrolet Impala Limited',\n",
       "       ' Chevrolet Malibu', ' Chevrolet Malibu Limited',\n",
       "       ' Chevrolet Silverado  Crew Cab',\n",
       "       ' Chevrolet Silverado  Double Cab',\n",
       "       ' Chevrolet Silverado  HD Crew Cab',\n",
       "       ' Chevrolet Silverado  HD Regular Cab',\n",
       "       ' Chevrolet Silverado  Limited Crew Cab',\n",
       "       ' Chevrolet Silverado  Regular Cab', ' Chevrolet Sonic',\n",
       "       ' Chevrolet Spark', ' Chevrolet Spark EV', ' Chevrolet Suburban',\n",
       "       ' Chevrolet Suburban ', ' Chevrolet Tahoe',\n",
       "       ' Chevrolet Trailblazer', ' Chevrolet Traverse', ' Chevrolet Trax',\n",
       "       ' Chevrolet Volt', ' Chrysler ', ' Chrysler Pacifica',\n",
       "       ' Chrysler Sebring', ' Chrysler Town & Country',\n",
       "       ' Chrysler Voyager', ' Dodge Avenger', ' Dodge Challenger',\n",
       "       ' Dodge Charger', ' Dodge Dart', ' Dodge Durango',\n",
       "       ' Dodge Grand Caravan Passenger', ' Dodge Journey', ' FIAT ',\n",
       "       ' FIAT  Abarth', ' FIAT  Spider', ' FIAT L', ' FIAT X',\n",
       "       ' FIAT c Abarth', ' Ford Bronco', ' Ford Bronco Sport',\n",
       "       ' Ford C-MAX Energi', ' Ford C-MAX Hybrid', ' Ford EcoSport',\n",
       "       ' Ford Edge', ' Ford Escape', ' Ford Expedition',\n",
       "       ' Ford Expedition EL', ' Ford Expedition MAX', ' Ford Explorer',\n",
       "       ' Ford F Lightning', ' Ford F Regular Cab', ' Ford F Super Cab',\n",
       "       ' Ford F SuperCrew Cab', ' Ford Fiesta', ' Ford Flex',\n",
       "       ' Ford Focus', ' Ford Focus ST', ' Ford Fusion',\n",
       "       ' Ford Fusion Energi', ' Ford Maverick', ' Ford Mustang',\n",
       "       ' Ford Mustang MACH-E', ' Ford Ranger SuperCrew', ' Ford Taurus',\n",
       "       ' Ford Transit  Wagon', ' Ford Transit Connect Passenger',\n",
       "       ' Ford Transit Connect Passenger Wagon', ' GMC Acadia',\n",
       "       ' GMC Acadia Limited', ' GMC Canyon Crew Cab',\n",
       "       ' GMC Sierra  Crew Cab', ' GMC Sierra  Double Cab',\n",
       "       ' GMC Sierra  Limited Crew Cab', ' GMC Sierra  Regular Cab',\n",
       "       ' GMC Terrain', ' GMC Yukon', ' GMC Yukon XL', ' GMC Yukon XL ',\n",
       "       ' Genesis G', ' Honda Accord', ' Honda Accord Crosstour',\n",
       "       ' Honda Accord Hybrid', ' Honda CR-V', ' Honda CR-V Hybrid',\n",
       "       ' Honda CR-Z', ' Honda Civic', ' Honda Civic Type R',\n",
       "       ' Honda Clarity Plug-in Hybrid', ' Honda Crosstour', ' Honda Fit',\n",
       "       ' Honda HR-V', ' Honda Insight', ' Honda Odyssey',\n",
       "       ' Honda Passport', ' Honda Pilot', ' Honda Ridgeline',\n",
       "       ' Hyundai Accent', ' Hyundai Azera', ' Hyundai Elantra',\n",
       "       ' Hyundai Elantra GT', ' Hyundai Equus', ' Hyundai Genesis',\n",
       "       ' Hyundai Genesis Coupe', ' Hyundai IONIQ ',\n",
       "       ' Hyundai Ioniq Electric', ' Hyundai Ioniq Hybrid',\n",
       "       ' Hyundai Ioniq Plug-in Hybrid', ' Hyundai Kona',\n",
       "       ' Hyundai Palisade', ' Hyundai Santa Cruz', ' Hyundai Santa Fe',\n",
       "       ' Hyundai Santa Fe Sport', ' Hyundai Sonata',\n",
       "       ' Hyundai Sonata Hybrid', ' Hyundai Sonata Plug-in Hybrid',\n",
       "       ' Hyundai Tucson', ' Hyundai Tucson Hybrid', ' Hyundai Veloster',\n",
       "       ' Hyundai Venue', ' Hyundai Veracruz', ' INFINITI EX',\n",
       "       ' INFINITI FX', ' INFINITI G', ' INFINITI JX', ' INFINITI M',\n",
       "       ' INFINITI Q', ' INFINITI QX', ' Jaguar E-PACE', ' Jaguar F-PACE',\n",
       "       ' Jaguar F-TYPE', ' Jaguar XE', ' Jaguar XF', ' Jaguar XJ',\n",
       "       ' Jeep Cherokee', ' Jeep Compass', ' Jeep Gladiator',\n",
       "       ' Jeep Grand Cherokee', ' Jeep Grand Cherokee L', ' Jeep Liberty',\n",
       "       ' Jeep Patriot', ' Jeep Renegade', ' Jeep Wagoneer',\n",
       "       ' Jeep Wrangler', ' Jeep Wrangler Unlimited', ' Kia Cadenza',\n",
       "       ' Kia Carnival', ' Kia EV', ' Kia Forte', ' Kia Forte Koup',\n",
       "       ' Kia K', ' Kia Niro', ' Kia Niro EV', ' Kia Optima',\n",
       "       ' Kia Optima Hybrid', ' Kia Rio', ' Kia Sedona', ' Kia Seltos',\n",
       "       ' Kia Sorento', ' Kia Sorento Hybrid',\n",
       "       ' Kia Sorento Plug-in Hybrid', ' Kia Soul', ' Kia Soul EV',\n",
       "       ' Kia Sportage', ' Kia Stinger', ' Kia Telluride',\n",
       "       ' Land Rover Discovery', ' Land Rover Discovery Sport',\n",
       "       ' Land Rover LR', ' Land Rover Range Rover',\n",
       "       ' Land Rover Range Rover Evoque', ' Land Rover Range Rover Sport',\n",
       "       ' Land Rover Range Rover Velar', ' Lexus CT', ' Lexus ES',\n",
       "       ' Lexus GS', ' Lexus GX', ' Lexus HS', ' Lexus IS', ' Lexus LC',\n",
       "       ' Lexus LS', ' Lexus NX', ' Lexus RC', ' Lexus RX', ' Lexus UX',\n",
       "       ' Lincoln Corsair', ' Lincoln MKC', ' Lincoln MKS', ' Lincoln MKX',\n",
       "       ' Lincoln MKZ', ' Lincoln Nautilus', ' Lincoln Navigator',\n",
       "       ' Lincoln Town Car', ' MAZDA CX-', ' MAZDA MAZDA',\n",
       "       ' MAZDA MX- Miata', ' MAZDA MX- Miata RF', ' MAZDA Tribute',\n",
       "       ' MINI Clubman', ' MINI Convertible', ' MINI Countryman',\n",
       "       ' MINI Coupe', ' MINI Hardtop', ' MINI Hardtop  Door',\n",
       "       ' MINI Paceman', ' MINI Roadster', ' Maserati Ghibli',\n",
       "       ' Maserati GranTurismo', ' Maserati Levante',\n",
       "       ' Maserati Quattroporte', ' Mercedes-Benz A-Class',\n",
       "       ' Mercedes-Benz B-Class', ' Mercedes-Benz C-Class',\n",
       "       ' Mercedes-Benz CLA', ' Mercedes-Benz CLA-Class',\n",
       "       ' Mercedes-Benz CLK-Class', ' Mercedes-Benz CLS-Class',\n",
       "       ' Mercedes-Benz E-Class', ' Mercedes-Benz GLA',\n",
       "       ' Mercedes-Benz GLA-Class', ' Mercedes-Benz GLB',\n",
       "       ' Mercedes-Benz GLC', ' Mercedes-Benz GLE',\n",
       "       ' Mercedes-Benz GLK-Class', ' Mercedes-Benz GLS',\n",
       "       ' Mercedes-Benz M-Class', ' Mercedes-Benz Mercedes-AMG C-Class',\n",
       "       ' Mercedes-Benz Mercedes-AMG GLC',\n",
       "       ' Mercedes-Benz Mercedes-AMG GLE Coupe',\n",
       "       ' Mercedes-Benz Mercedes-AMG SLC', ' Mercedes-Benz R-Class',\n",
       "       ' Mercedes-Benz S-Class', ' Mercedes-Benz SL',\n",
       "       ' Mercedes-Benz SL-Class', ' Mercedes-Benz SLC',\n",
       "       ' Mercedes-Benz SLK-Class', ' Mitsubishi Eclipse Cross',\n",
       "       ' Mitsubishi Lancer', ' Mitsubishi Mirage', ' Mitsubishi Mirage G',\n",
       "       ' Mitsubishi Outlander', ' Mitsubishi Outlander PHEV',\n",
       "       ' Mitsubishi Outlander Sport', ' Mitsubishi i-MiEV',\n",
       "       ' Nissan Altima', ' Nissan Armada', ' Nissan Frontier Crew Cab',\n",
       "       ' Nissan Frontier King Cab', ' Nissan JUKE', ' Nissan Kicks',\n",
       "       ' Nissan LEAF', ' Nissan Maxima', ' Nissan Murano',\n",
       "       ' Nissan Pathfinder', ' Nissan Quest', ' Nissan Rogue',\n",
       "       ' Nissan Rogue Select', ' Nissan Rogue Sport', ' Nissan Sentra',\n",
       "       ' Nissan TITAN XD Crew Cab', ' Nissan Titan Crew Cab',\n",
       "       ' Nissan Versa', ' Nissan Versa Note', ' Nissan Xterra',\n",
       "       ' Nissan Z', ' Polestar ', ' Pontiac Solstice', ' Porsche ',\n",
       "       ' Porsche  Cayman', ' Porsche Boxster', ' Porsche Cayenne',\n",
       "       ' Porsche Macan', ' Porsche Panamera', ' Ram  Classic Crew Cab',\n",
       "       ' Ram  Classic Quad Cab', ' Ram  Classic Regular Cab',\n",
       "       ' Ram  Crew Cab', ' Ram  Quad Cab', ' Ram  Regular Cab',\n",
       "       ' Saturn SKY', ' Scion FR-S', ' Scion iA', ' Scion iM',\n",
       "       ' Scion iQ', ' Scion tC', ' Scion xB', ' Scion xD',\n",
       "       ' Subaru Ascent', ' Subaru BRZ', ' Subaru Crosstrek',\n",
       "       ' Subaru Forester', ' Subaru Impreza', ' Subaru Legacy',\n",
       "       ' Subaru Outback', ' Subaru WRX', ' Subaru XV Crosstrek',\n",
       "       ' Tesla Model ', ' Tesla Model S', ' Tesla Model X',\n",
       "       ' Tesla Model Y', ' Toyota ', ' Toyota Avalon', ' Toyota C-HR',\n",
       "       ' Toyota Camry', ' Toyota Camry Hybrid', ' Toyota Corolla',\n",
       "       ' Toyota Corolla Cross', ' Toyota Corolla Hatchback',\n",
       "       ' Toyota Corolla Hybrid', ' Toyota Corolla iM',\n",
       "       ' Toyota FJ Cruiser', ' Toyota GR', ' Toyota GR Supra',\n",
       "       ' Toyota Highlander', ' Toyota Highlander Hybrid',\n",
       "       ' Toyota Matrix', ' Toyota Prius', ' Toyota Prius Plug-in Hybrid',\n",
       "       ' Toyota Prius Prime', ' Toyota Prius c', ' Toyota Prius v',\n",
       "       ' Toyota RAV', ' Toyota RAV Hybrid', ' Toyota Runner',\n",
       "       ' Toyota Sequoia', ' Toyota Sienna', ' Toyota Tacoma Access Cab',\n",
       "       ' Toyota Tacoma Double Cab', ' Toyota Tundra CrewMax',\n",
       "       ' Toyota Tundra Double Cab', ' Toyota Tundra Hybrid CrewMax',\n",
       "       ' Toyota Venza', ' Toyota Yaris', ' Toyota Yaris Hatchback',\n",
       "       ' Toyota Yaris iA', ' Volkswagen Atlas',\n",
       "       ' Volkswagen Atlas Cross Sport', ' Volkswagen Beetle',\n",
       "       ' Volkswagen CC', ' Volkswagen Eos', ' Volkswagen GTI',\n",
       "       ' Volkswagen Golf', ' Volkswagen Golf Alltrack',\n",
       "       ' Volkswagen Golf GTI', ' Volkswagen Golf SportWagen',\n",
       "       ' Volkswagen ID.', ' Volkswagen Jetta', ' Volkswagen Jetta GLI',\n",
       "       ' Volkswagen Jetta SportWagen', ' Volkswagen New Beetle',\n",
       "       ' Volkswagen Passat', ' Volkswagen Routan', ' Volkswagen Tiguan',\n",
       "       ' Volkswagen Tiguan Limited', ' Volkswagen Touareg',\n",
       "       ' Volkswagen e-Golf', ' Volvo C', ' Volvo S', ' Volvo V',\n",
       "       ' Volvo XC', ' smart fortwo', ' smart fortwo electric drive',\n",
       "       ' smart fortwo electric drive cabrio', 'Kia Sorento'], dtype=object)"
      ]
     },
     "execution_count": 7,
     "metadata": {},
     "output_type": "execute_result"
    }
   ],
   "source": [
    "from sklearn.preprocessing import LabelEncoder\n",
    "le = LabelEncoder()\n",
    "df[\"Name\"] = le.fit_transform(df[\"Name\"])\n",
    "le.classes_"
   ]
  },
  {
   "cell_type": "code",
   "execution_count": 8,
   "id": "6579cfc6",
   "metadata": {},
   "outputs": [
    {
     "data": {
      "text/html": [
       "<div>\n",
       "<style scoped>\n",
       "    .dataframe tbody tr th:only-of-type {\n",
       "        vertical-align: middle;\n",
       "    }\n",
       "\n",
       "    .dataframe tbody tr th {\n",
       "        vertical-align: top;\n",
       "    }\n",
       "\n",
       "    .dataframe thead th {\n",
       "        text-align: right;\n",
       "    }\n",
       "</style>\n",
       "<table border=\"1\" class=\"dataframe\">\n",
       "  <thead>\n",
       "    <tr style=\"text-align: right;\">\n",
       "      <th></th>\n",
       "      <th>Name</th>\n",
       "      <th>Year</th>\n",
       "      <th>Miles</th>\n",
       "      <th>Price</th>\n",
       "    </tr>\n",
       "  </thead>\n",
       "  <tbody>\n",
       "    <tr>\n",
       "      <th>0</th>\n",
       "      <td>71</td>\n",
       "      <td>2018</td>\n",
       "      <td>41946</td>\n",
       "      <td>16990</td>\n",
       "    </tr>\n",
       "    <tr>\n",
       "      <th>1</th>\n",
       "      <td>127</td>\n",
       "      <td>2020</td>\n",
       "      <td>45328</td>\n",
       "      <td>23990</td>\n",
       "    </tr>\n",
       "    <tr>\n",
       "      <th>2</th>\n",
       "      <td>195</td>\n",
       "      <td>2012</td>\n",
       "      <td>81068</td>\n",
       "      <td>21590</td>\n",
       "    </tr>\n",
       "    <tr>\n",
       "      <th>3</th>\n",
       "      <td>193</td>\n",
       "      <td>2019</td>\n",
       "      <td>35372</td>\n",
       "      <td>21590</td>\n",
       "    </tr>\n",
       "    <tr>\n",
       "      <th>4</th>\n",
       "      <td>20</td>\n",
       "      <td>20173</td>\n",
       "      <td>68992</td>\n",
       "      <td>22990</td>\n",
       "    </tr>\n",
       "  </tbody>\n",
       "</table>\n",
       "</div>"
      ],
      "text/plain": [
       "   Name   Year  Miles  Price\n",
       "0    71   2018  41946  16990\n",
       "1   127   2020  45328  23990\n",
       "2   195   2012  81068  21590\n",
       "3   193   2019  35372  21590\n",
       "4    20  20173  68992  22990"
      ]
     },
     "execution_count": 8,
     "metadata": {},
     "output_type": "execute_result"
    }
   ],
   "source": [
    "df.head()"
   ]
  },
  {
   "cell_type": "code",
   "execution_count": 9,
   "id": "752e7268",
   "metadata": {},
   "outputs": [],
   "source": [
    "X = df.drop(\"Price\", axis=1)\n",
    "y = df[\"Price\"]"
   ]
  },
  {
   "cell_type": "code",
   "execution_count": 10,
   "id": "83c791e2",
   "metadata": {},
   "outputs": [],
   "source": [
    "from sklearn.model_selection import train_test_split\n",
    "\n",
    "X_train, X_test, y_train, y_test = train_test_split(X, y, test_size=0.2)"
   ]
  },
  {
   "cell_type": "markdown",
   "id": "daf5d1e5",
   "metadata": {},
   "source": [
    "## Training the model"
   ]
  },
  {
   "cell_type": "code",
   "execution_count": 11,
   "id": "9a97c8c4",
   "metadata": {},
   "outputs": [
    {
     "data": {
      "text/plain": [
       "0.8409204294279218"
      ]
     },
     "execution_count": 11,
     "metadata": {},
     "output_type": "execute_result"
    }
   ],
   "source": [
    "from sklearn.ensemble import RandomForestRegressor\n",
    "\n",
    "rfr = RandomForestRegressor()\n",
    "rfr.fit(X_train, y_train)\n",
    "rfr.score(X_test, y_test)"
   ]
  },
  {
   "cell_type": "code",
   "execution_count": 12,
   "id": "1e31cc0c",
   "metadata": {},
   "outputs": [
    {
     "data": {
      "text/plain": [
       "0.36154304506568635"
      ]
     },
     "execution_count": 12,
     "metadata": {},
     "output_type": "execute_result"
    }
   ],
   "source": [
    "from sklearn.neighbors import KNeighborsRegressor\n",
    "\n",
    "knr = KNeighborsRegressor()\n",
    "knr.fit(X_train, y_train)\n",
    "knr.score(X_test, y_test)"
   ]
  },
  {
   "cell_type": "code",
   "execution_count": 13,
   "id": "eaf418c1",
   "metadata": {},
   "outputs": [
    {
     "data": {
      "text/plain": [
       "0.5294435602070157"
      ]
     },
     "execution_count": 13,
     "metadata": {},
     "output_type": "execute_result"
    }
   ],
   "source": [
    "from xgboost import XGBRFRegressor\n",
    "\n",
    "xgbr = XGBRFRegressor()\n",
    "xgbr.fit(X_train, y_train)\n",
    "xgbr.score(X_test, y_test)"
   ]
  },
  {
   "cell_type": "code",
   "execution_count": 14,
   "id": "ef0f6be6",
   "metadata": {},
   "outputs": [
    {
     "name": "stderr",
     "output_type": "stream",
     "text": [
      "/home/djoe/.local/lib/python3.10/site-packages/sklearn/base.py:450: UserWarning: X does not have valid feature names, but RandomForestRegressor was fitted with feature names\n",
      "  warnings.warn(\n"
     ]
    },
    {
     "data": {
      "text/plain": [
       "array([26150.])"
      ]
     },
     "execution_count": 14,
     "metadata": {},
     "output_type": "execute_result"
    }
   ],
   "source": [
    "rfr.predict([[78, 2018, 41000]])"
   ]
  },
  {
   "cell_type": "code",
   "execution_count": null,
   "id": "0a6901d1",
   "metadata": {},
   "outputs": [],
   "source": []
  }
 ],
 "metadata": {
  "kernelspec": {
   "display_name": "Python 3 (ipykernel)",
   "language": "python",
   "name": "python3"
  },
  "language_info": {
   "codemirror_mode": {
    "name": "ipython",
    "version": 3
   },
   "file_extension": ".py",
   "mimetype": "text/x-python",
   "name": "python",
   "nbconvert_exporter": "python",
   "pygments_lexer": "ipython3",
   "version": "3.10.4"
  }
 },
 "nbformat": 4,
 "nbformat_minor": 5
}
