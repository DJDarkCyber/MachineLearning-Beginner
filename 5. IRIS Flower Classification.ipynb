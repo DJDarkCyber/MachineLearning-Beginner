{
 "cells": [
  {
   "cell_type": "code",
   "execution_count": 1,
   "id": "54be9ed3",
   "metadata": {},
   "outputs": [],
   "source": [
    "import pandas as pd\n",
    "import numpy as np"
   ]
  },
  {
   "cell_type": "code",
   "execution_count": 2,
   "id": "9b0567ac",
   "metadata": {},
   "outputs": [
    {
     "data": {
      "text/html": [
       "<div>\n",
       "<style scoped>\n",
       "    .dataframe tbody tr th:only-of-type {\n",
       "        vertical-align: middle;\n",
       "    }\n",
       "\n",
       "    .dataframe tbody tr th {\n",
       "        vertical-align: top;\n",
       "    }\n",
       "\n",
       "    .dataframe thead th {\n",
       "        text-align: right;\n",
       "    }\n",
       "</style>\n",
       "<table border=\"1\" class=\"dataframe\">\n",
       "  <thead>\n",
       "    <tr style=\"text-align: right;\">\n",
       "      <th></th>\n",
       "      <th>sepal_length</th>\n",
       "      <th>sepal_width</th>\n",
       "      <th>petal_length</th>\n",
       "      <th>petal_width</th>\n",
       "      <th>species</th>\n",
       "    </tr>\n",
       "  </thead>\n",
       "  <tbody>\n",
       "    <tr>\n",
       "      <th>0</th>\n",
       "      <td>5.1</td>\n",
       "      <td>3.5</td>\n",
       "      <td>1.4</td>\n",
       "      <td>0.2</td>\n",
       "      <td>Iris-setosa</td>\n",
       "    </tr>\n",
       "    <tr>\n",
       "      <th>1</th>\n",
       "      <td>4.9</td>\n",
       "      <td>3.0</td>\n",
       "      <td>1.4</td>\n",
       "      <td>0.2</td>\n",
       "      <td>Iris-setosa</td>\n",
       "    </tr>\n",
       "    <tr>\n",
       "      <th>2</th>\n",
       "      <td>4.7</td>\n",
       "      <td>3.2</td>\n",
       "      <td>1.3</td>\n",
       "      <td>0.2</td>\n",
       "      <td>Iris-setosa</td>\n",
       "    </tr>\n",
       "    <tr>\n",
       "      <th>3</th>\n",
       "      <td>4.6</td>\n",
       "      <td>3.1</td>\n",
       "      <td>1.5</td>\n",
       "      <td>0.2</td>\n",
       "      <td>Iris-setosa</td>\n",
       "    </tr>\n",
       "    <tr>\n",
       "      <th>4</th>\n",
       "      <td>5.0</td>\n",
       "      <td>3.6</td>\n",
       "      <td>1.4</td>\n",
       "      <td>0.2</td>\n",
       "      <td>Iris-setosa</td>\n",
       "    </tr>\n",
       "  </tbody>\n",
       "</table>\n",
       "</div>"
      ],
      "text/plain": [
       "   sepal_length  sepal_width  petal_length  petal_width      species\n",
       "0           5.1          3.5           1.4          0.2  Iris-setosa\n",
       "1           4.9          3.0           1.4          0.2  Iris-setosa\n",
       "2           4.7          3.2           1.3          0.2  Iris-setosa\n",
       "3           4.6          3.1           1.5          0.2  Iris-setosa\n",
       "4           5.0          3.6           1.4          0.2  Iris-setosa"
      ]
     },
     "execution_count": 2,
     "metadata": {},
     "output_type": "execute_result"
    }
   ],
   "source": [
    "df_IRIS = pd.read_csv(\"data/proj5/IRIS.csv\")\n",
    "df_IRIS.head()"
   ]
  },
  {
   "cell_type": "code",
   "execution_count": 41,
   "id": "2699e145",
   "metadata": {},
   "outputs": [],
   "source": [
    "X = df_IRIS_tmp.drop(\"species\", axis=1)\n",
    "y = df_IRIS_tmp[\"species\"].cat.codes"
   ]
  },
  {
   "cell_type": "code",
   "execution_count": 42,
   "id": "ee4526a4",
   "metadata": {},
   "outputs": [
    {
     "data": {
      "text/plain": [
       "(120, 120, 30, 30)"
      ]
     },
     "execution_count": 42,
     "metadata": {},
     "output_type": "execute_result"
    }
   ],
   "source": [
    "from sklearn.model_selection import train_test_split\n",
    "\n",
    "X_train, X_test, y_train, y_test = train_test_split(X, y, test_size=0.2)\n",
    "len(X_train), len(y_train), len(X_test), len(y_test)"
   ]
  },
  {
   "cell_type": "code",
   "execution_count": 8,
   "id": "39c7094d",
   "metadata": {},
   "outputs": [],
   "source": [
    "from sklearn.neighbors import NearestNeighbors\n",
    "\n",
    "neighModel = NearestNeighbors()"
   ]
  },
  {
   "cell_type": "code",
   "execution_count": 9,
   "id": "0cba8957",
   "metadata": {},
   "outputs": [
    {
     "data": {
      "text/html": [
       "<style>#sk-container-id-1 {color: black;background-color: white;}#sk-container-id-1 pre{padding: 0;}#sk-container-id-1 div.sk-toggleable {background-color: white;}#sk-container-id-1 label.sk-toggleable__label {cursor: pointer;display: block;width: 100%;margin-bottom: 0;padding: 0.3em;box-sizing: border-box;text-align: center;}#sk-container-id-1 label.sk-toggleable__label-arrow:before {content: \"▸\";float: left;margin-right: 0.25em;color: #696969;}#sk-container-id-1 label.sk-toggleable__label-arrow:hover:before {color: black;}#sk-container-id-1 div.sk-estimator:hover label.sk-toggleable__label-arrow:before {color: black;}#sk-container-id-1 div.sk-toggleable__content {max-height: 0;max-width: 0;overflow: hidden;text-align: left;background-color: #f0f8ff;}#sk-container-id-1 div.sk-toggleable__content pre {margin: 0.2em;color: black;border-radius: 0.25em;background-color: #f0f8ff;}#sk-container-id-1 input.sk-toggleable__control:checked~div.sk-toggleable__content {max-height: 200px;max-width: 100%;overflow: auto;}#sk-container-id-1 input.sk-toggleable__control:checked~label.sk-toggleable__label-arrow:before {content: \"▾\";}#sk-container-id-1 div.sk-estimator input.sk-toggleable__control:checked~label.sk-toggleable__label {background-color: #d4ebff;}#sk-container-id-1 div.sk-label input.sk-toggleable__control:checked~label.sk-toggleable__label {background-color: #d4ebff;}#sk-container-id-1 input.sk-hidden--visually {border: 0;clip: rect(1px 1px 1px 1px);clip: rect(1px, 1px, 1px, 1px);height: 1px;margin: -1px;overflow: hidden;padding: 0;position: absolute;width: 1px;}#sk-container-id-1 div.sk-estimator {font-family: monospace;background-color: #f0f8ff;border: 1px dotted black;border-radius: 0.25em;box-sizing: border-box;margin-bottom: 0.5em;}#sk-container-id-1 div.sk-estimator:hover {background-color: #d4ebff;}#sk-container-id-1 div.sk-parallel-item::after {content: \"\";width: 100%;border-bottom: 1px solid gray;flex-grow: 1;}#sk-container-id-1 div.sk-label:hover label.sk-toggleable__label {background-color: #d4ebff;}#sk-container-id-1 div.sk-serial::before {content: \"\";position: absolute;border-left: 1px solid gray;box-sizing: border-box;top: 0;bottom: 0;left: 50%;z-index: 0;}#sk-container-id-1 div.sk-serial {display: flex;flex-direction: column;align-items: center;background-color: white;padding-right: 0.2em;padding-left: 0.2em;position: relative;}#sk-container-id-1 div.sk-item {position: relative;z-index: 1;}#sk-container-id-1 div.sk-parallel {display: flex;align-items: stretch;justify-content: center;background-color: white;position: relative;}#sk-container-id-1 div.sk-item::before, #sk-container-id-1 div.sk-parallel-item::before {content: \"\";position: absolute;border-left: 1px solid gray;box-sizing: border-box;top: 0;bottom: 0;left: 50%;z-index: -1;}#sk-container-id-1 div.sk-parallel-item {display: flex;flex-direction: column;z-index: 1;position: relative;background-color: white;}#sk-container-id-1 div.sk-parallel-item:first-child::after {align-self: flex-end;width: 50%;}#sk-container-id-1 div.sk-parallel-item:last-child::after {align-self: flex-start;width: 50%;}#sk-container-id-1 div.sk-parallel-item:only-child::after {width: 0;}#sk-container-id-1 div.sk-dashed-wrapped {border: 1px dashed gray;margin: 0 0.4em 0.5em 0.4em;box-sizing: border-box;padding-bottom: 0.4em;background-color: white;}#sk-container-id-1 div.sk-label label {font-family: monospace;font-weight: bold;display: inline-block;line-height: 1.2em;}#sk-container-id-1 div.sk-label-container {text-align: center;}#sk-container-id-1 div.sk-container {/* jupyter's `normalize.less` sets `[hidden] { display: none; }` but bootstrap.min.css set `[hidden] { display: none !important; }` so we also need the `!important` here to be able to override the default hidden behavior on the sphinx rendered scikit-learn.org. See: https://github.com/scikit-learn/scikit-learn/issues/21755 */display: inline-block !important;position: relative;}#sk-container-id-1 div.sk-text-repr-fallback {display: none;}</style><div id=\"sk-container-id-1\" class=\"sk-top-container\"><div class=\"sk-text-repr-fallback\"><pre>NearestNeighbors()</pre><b>In a Jupyter environment, please rerun this cell to show the HTML representation or trust the notebook. <br />On GitHub, the HTML representation is unable to render, please try loading this page with nbviewer.org.</b></div><div class=\"sk-container\" hidden><div class=\"sk-item\"><div class=\"sk-estimator sk-toggleable\"><input class=\"sk-toggleable__control sk-hidden--visually\" id=\"sk-estimator-id-1\" type=\"checkbox\" checked><label for=\"sk-estimator-id-1\" class=\"sk-toggleable__label sk-toggleable__label-arrow\">NearestNeighbors</label><div class=\"sk-toggleable__content\"><pre>NearestNeighbors()</pre></div></div></div></div></div>"
      ],
      "text/plain": [
       "NearestNeighbors()"
      ]
     },
     "execution_count": 9,
     "metadata": {},
     "output_type": "execute_result"
    }
   ],
   "source": [
    "neighModel.fit(X_train, y_train)"
   ]
  },
  {
   "cell_type": "code",
   "execution_count": 10,
   "id": "94c7d980",
   "metadata": {},
   "outputs": [],
   "source": [
    "distance, indeces = neighModel.kneighbors()"
   ]
  },
  {
   "cell_type": "code",
   "execution_count": 11,
   "id": "192fb1e3",
   "metadata": {},
   "outputs": [
    {
     "data": {
      "text/plain": [
       "array([[0.14142136, 0.17320508, 0.2236068 , 0.24494897, 0.26457513],\n",
       "       [0.2236068 , 0.37416574, 0.42426407, 0.42426407, 0.48989795],\n",
       "       [0.31622777, 0.33166248, 0.48989795, 0.5       , 0.54772256],\n",
       "       [0.2       , 0.36055513, 0.38729833, 0.38729833, 0.41231056],\n",
       "       [0.34641016, 0.34641016, 0.37416574, 0.42426407, 0.45825757],\n",
       "       [0.36055513, 0.38729833, 0.42426407, 0.48989795, 0.50990195],\n",
       "       [0.14142136, 0.17320508, 0.17320508, 0.2236068 , 0.24494897],\n",
       "       [0.38729833, 0.50990195, 0.51961524, 0.53851648, 0.54772256],\n",
       "       [0.24494897, 0.34641016, 0.34641016, 0.37416574, 0.41231056],\n",
       "       [0.34641016, 0.38729833, 0.46904158, 0.64807407, 0.66332496],\n",
       "       [0.3       , 0.55677644, 0.6164414 , 0.6244998 , 0.6244998 ],\n",
       "       [0.1       , 0.14142136, 0.14142136, 0.14142136, 0.17320508],\n",
       "       [0.38729833, 0.41231056, 0.45825757, 0.5       , 0.51961524],\n",
       "       [0.14142136, 0.14142136, 0.17320508, 0.2236068 , 0.3       ],\n",
       "       [0.45825757, 0.46904158, 0.50990195, 0.60827625, 0.678233  ],\n",
       "       [0.2       , 0.2       , 0.2       , 0.2236068 , 0.3       ],\n",
       "       [0.2       , 0.24494897, 0.26457513, 0.26457513, 0.26457513],\n",
       "       [0.31622777, 0.34641016, 0.34641016, 0.37416574, 0.42426407],\n",
       "       [0.17320508, 0.24494897, 0.28284271, 0.38729833, 0.42426407],\n",
       "       [0.14142136, 0.14142136, 0.14142136, 0.17320508, 0.2236068 ],\n",
       "       [0.14142136, 0.24494897, 0.3       , 0.36055513, 0.42426407],\n",
       "       [0.3       , 0.36055513, 0.36055513, 0.36055513, 0.37416574],\n",
       "       [0.14142136, 0.14142136, 0.14142136, 0.17320508, 0.2236068 ],\n",
       "       [0.14142136, 0.14142136, 0.24494897, 0.26457513, 0.31622777],\n",
       "       [0.26457513, 0.37416574, 0.42426407, 0.45825757, 0.45825757],\n",
       "       [0.17320508, 0.17320508, 0.17320508, 0.2       , 0.24494897],\n",
       "       [0.26457513, 0.31622777, 0.37416574, 0.42426407, 0.42426407],\n",
       "       [0.24494897, 0.37416574, 0.37416574, 0.38729833, 0.42426407],\n",
       "       [0.28284271, 0.31622777, 0.34641016, 0.50990195, 0.54772256],\n",
       "       [0.26457513, 0.33166248, 0.51961524, 0.54772256, 0.60827625],\n",
       "       [0.48989795, 0.50990195, 0.51961524, 0.72801099, 0.72801099],\n",
       "       [0.33166248, 0.34641016, 0.37416574, 0.4       , 0.41231056],\n",
       "       [0.17320508, 0.24494897, 0.36055513, 0.36055513, 0.41231056],\n",
       "       [0.        , 0.        , 0.17320508, 0.17320508, 0.2       ],\n",
       "       [0.55677644, 0.7       , 0.73484692, 0.74161985, 0.77459667],\n",
       "       [0.36055513, 0.41231056, 0.42426407, 0.42426407, 0.42426407],\n",
       "       [0.3       , 0.38729833, 0.41231056, 0.42426407, 0.43588989],\n",
       "       [0.36055513, 0.37416574, 0.41231056, 0.41231056, 0.47958315],\n",
       "       [0.1       , 0.28284271, 0.3       , 0.33166248, 0.33166248],\n",
       "       [0.1       , 0.14142136, 0.17320508, 0.2       , 0.2236068 ],\n",
       "       [0.14142136, 0.17320508, 0.2236068 , 0.26457513, 0.26457513],\n",
       "       [0.14142136, 0.24494897, 0.24494897, 0.3       , 0.33166248],\n",
       "       [0.26457513, 0.31622777, 0.42426407, 0.42426407, 0.42426407],\n",
       "       [0.2       , 0.2236068 , 0.3       , 0.31622777, 0.31622777],\n",
       "       [0.2       , 0.33166248, 0.34641016, 0.34641016, 0.38729833],\n",
       "       [0.2236068 , 0.36055513, 0.36055513, 0.38729833, 0.41231056],\n",
       "       [0.24494897, 0.31622777, 0.31622777, 0.31622777, 0.36055513],\n",
       "       [0.26457513, 0.31622777, 0.36055513, 0.47958315, 0.47958315],\n",
       "       [0.37416574, 0.42426407, 0.45825757, 0.46904158, 0.50990195],\n",
       "       [0.48989795, 0.51961524, 0.54772256, 0.58309519, 0.59160798],\n",
       "       [0.31622777, 0.37416574, 0.41231056, 0.42426407, 0.42426407],\n",
       "       [0.14142136, 0.24494897, 0.26457513, 0.26457513, 0.31622777],\n",
       "       [0.33166248, 0.34641016, 0.36055513, 0.37416574, 0.38729833],\n",
       "       [0.43588989, 0.51961524, 0.53851648, 0.58309519, 0.65574385],\n",
       "       [0.2       , 0.31622777, 0.43588989, 0.43588989, 0.45825757],\n",
       "       [0.14142136, 0.2236068 , 0.28284271, 0.43588989, 0.43588989],\n",
       "       [0.3       , 0.31622777, 0.31622777, 0.33166248, 0.37416574],\n",
       "       [0.17320508, 0.2236068 , 0.26457513, 0.3       , 0.31622777],\n",
       "       [0.24494897, 0.28284271, 0.33166248, 0.36055513, 0.37416574],\n",
       "       [0.41231056, 0.54772256, 0.96436508, 1.2489996 , 1.2922848 ],\n",
       "       [0.2236068 , 0.3       , 0.31622777, 0.31622777, 0.33166248],\n",
       "       [0.26457513, 0.37416574, 0.38729833, 0.41231056, 0.42426407],\n",
       "       [0.38729833, 0.72111026, 0.79372539, 0.81853528, 0.9       ],\n",
       "       [0.31622777, 0.37416574, 0.37416574, 0.4       , 0.41231056],\n",
       "       [0.34641016, 0.50990195, 0.51961524, 0.70710678, 0.71414284],\n",
       "       [0.38729833, 0.45825757, 0.72111026, 0.83666003, 0.84852814],\n",
       "       [0.14142136, 0.24494897, 0.24494897, 0.26457513, 0.28284271],\n",
       "       [0.88317609, 0.93273791, 1.02469508, 1.06301458, 1.161895  ],\n",
       "       [0.34641016, 0.43588989, 0.4472136 , 0.46904158, 0.54772256],\n",
       "       [0.3       , 0.37416574, 0.37416574, 0.38729833, 0.4472136 ],\n",
       "       [0.63245553, 0.70710678, 0.75498344, 0.81240384, 0.81240384],\n",
       "       [0.1       , 0.14142136, 0.17320508, 0.17320508, 0.17320508],\n",
       "       [0.34641016, 0.36055513, 0.47958315, 0.51961524, 0.54772256],\n",
       "       [0.36055513, 0.41231056, 0.42426407, 0.43588989, 0.4472136 ],\n",
       "       [0.1       , 0.2236068 , 0.24494897, 0.24494897, 0.28284271],\n",
       "       [0.14142136, 0.17320508, 0.24494897, 0.33166248, 0.36055513],\n",
       "       [0.24494897, 0.36055513, 0.46904158, 0.50990195, 0.51961524],\n",
       "       [0.31622777, 0.31622777, 0.34641016, 0.41231056, 0.48989795],\n",
       "       [0.24494897, 0.26457513, 0.26457513, 0.3       , 0.31622777],\n",
       "       [0.3       , 0.33166248, 0.36055513, 0.36055513, 0.37416574],\n",
       "       [0.26457513, 0.50990195, 0.53851648, 0.678233  , 0.70710678],\n",
       "       [0.24494897, 0.36055513, 0.36055513, 0.37416574, 0.37416574],\n",
       "       [0.2236068 , 0.3       , 0.42426407, 0.46904158, 0.5       ],\n",
       "       [0.24494897, 0.31622777, 0.4       , 0.5       , 0.54772256],\n",
       "       [0.45825757, 0.67082039, 0.72111026, 0.82462113, 0.88317609],\n",
       "       [0.33166248, 0.38729833, 0.46904158, 0.50990195, 0.54772256],\n",
       "       [0.17320508, 0.36055513, 0.36055513, 0.41231056, 0.41231056],\n",
       "       [0.26457513, 0.41231056, 0.678233  , 0.96953597, 1.02469508],\n",
       "       [0.2236068 , 0.3       , 0.38729833, 0.43588989, 0.45825757],\n",
       "       [0.14142136, 0.26457513, 0.28284271, 0.3       , 0.34641016],\n",
       "       [0.26457513, 0.57445626, 0.59160798, 0.60827625, 0.6164414 ],\n",
       "       [0.2236068 , 0.2236068 , 0.3       , 0.3       , 0.3       ],\n",
       "       [0.24494897, 0.38729833, 0.41231056, 0.47958315, 0.54772256],\n",
       "       [0.1       , 0.14142136, 0.14142136, 0.14142136, 0.14142136],\n",
       "       [0.14142136, 0.17320508, 0.17320508, 0.17320508, 0.2236068 ],\n",
       "       [0.36055513, 0.6164414 , 0.64031242, 0.65574385, 0.78740079],\n",
       "       [0.2       , 0.24494897, 0.3       , 0.33166248, 0.37416574],\n",
       "       [0.3       , 0.37416574, 0.42426407, 0.4472136 , 0.47958315],\n",
       "       [0.17320508, 0.34641016, 0.37416574, 0.37416574, 0.42426407],\n",
       "       [0.14142136, 0.2       , 0.3       , 0.34641016, 0.38729833],\n",
       "       [0.38729833, 0.45825757, 0.46904158, 0.51961524, 0.53851648],\n",
       "       [0.24494897, 0.31622777, 0.47958315, 0.51961524, 0.58309519],\n",
       "       [0.14142136, 0.17320508, 0.2236068 , 0.2236068 , 0.26457513],\n",
       "       [0.26457513, 0.54772256, 0.60827625, 0.80622577, 0.86023253],\n",
       "       [0.31622777, 0.31622777, 0.34641016, 0.38729833, 0.42426407],\n",
       "       [0.42426407, 0.4472136 , 0.50990195, 0.51961524, 0.53851648],\n",
       "       [0.3       , 0.33166248, 0.34641016, 0.36055513, 0.41231056],\n",
       "       [0.2       , 0.24494897, 0.3       , 0.3       , 0.42426407],\n",
       "       [0.26457513, 0.34641016, 0.37416574, 0.38729833, 0.41231056],\n",
       "       [0.        , 0.        , 0.17320508, 0.17320508, 0.2       ],\n",
       "       [0.26457513, 0.34641016, 0.43588989, 0.43588989, 0.50990195],\n",
       "       [0.2       , 0.24494897, 0.33166248, 0.34641016, 0.37416574],\n",
       "       [0.14142136, 0.17320508, 0.17320508, 0.24494897, 0.24494897],\n",
       "       [0.14142136, 0.17320508, 0.2236068 , 0.2236068 , 0.24494897],\n",
       "       [0.28284271, 0.31622777, 0.31622777, 0.34641016, 0.37416574],\n",
       "       [0.5       , 0.55677644, 0.60827625, 0.64031242, 0.64807407],\n",
       "       [0.14142136, 0.2236068 , 0.24494897, 0.42426407, 0.43588989],\n",
       "       [0.17320508, 0.17320508, 0.2236068 , 0.31622777, 0.37416574],\n",
       "       [0.14142136, 0.2236068 , 0.2236068 , 0.2236068 , 0.3       ],\n",
       "       [0.        , 0.        , 0.17320508, 0.17320508, 0.2       ]])"
      ]
     },
     "execution_count": 11,
     "metadata": {},
     "output_type": "execute_result"
    }
   ],
   "source": [
    "distance"
   ]
  },
  {
   "cell_type": "code",
   "execution_count": 12,
   "id": "30384259",
   "metadata": {},
   "outputs": [
    {
     "data": {
      "text/plain": [
       "array([[ 13,  57, 117,  75,  89],\n",
       "       [ 45,  69,  50,  81,   5],\n",
       "       [ 47,  29,  30,  55,  82],\n",
       "       [ 44,  46,  27, 104, 108],\n",
       "       [ 41,  72,  23,  74,  38],\n",
       "       [ 45, 100,  98,   1,  63],\n",
       "       [ 93,  71, 112,  39,  11],\n",
       "       [ 96,  57,  54,  78, 105],\n",
       "       [ 83,  98,  77,  63,  86],\n",
       "       [ 64,  12,  14,  77,  63],\n",
       "       [ 69,   1,  45,   8,  63],\n",
       "       [ 39,  93,  19,  22, 113],\n",
       "       [  9,  77,  14,  98,  64],\n",
       "       [ 75,   0, 117,  57,  79],\n",
       "       [ 12,   9,  64, 103,  87],\n",
       "       [119,  33, 109,  94,  25],\n",
       "       [ 25,  94,  40, 109, 119],\n",
       "       [ 46, 114,  28,  27,  50],\n",
       "       [ 32,  20,  55,  92,  35],\n",
       "       [ 22,  93,  11,  71,  74],\n",
       "       [ 55,  18,  82,  32,  35],\n",
       "       [ 19,  22,  38,  11,  74],\n",
       "       [ 19,  93,  11,  71, 113],\n",
       "       [ 66,  41,  74,   6,  71],\n",
       "       [108,  48,  99,  20, 114],\n",
       "       [119, 109,  33,  16,  94],\n",
       "       [ 61,  66,  71, 112,  39],\n",
       "       [ 46,  17, 114,   3, 104],\n",
       "       [114,  50,  17,  46, 104],\n",
       "       [ 47,   2,  30,  35,  92],\n",
       "       [  2,  47,  29,  20,  55],\n",
       "       [ 44,  89,  51,  79,   0],\n",
       "       [ 18,  92,  20,  73,  35],\n",
       "       [119, 109,  94,  25,  15],\n",
       "       [ 35,   5,  53,  73,  47],\n",
       "       [ 47,  32,  20,  73,  18],\n",
       "       [ 56,  13, 111,  79,  75],\n",
       "       [ 41,  52,  66,  23,  26],\n",
       "       [ 74,  19, 106,  23,  41],\n",
       "       [ 11, 113,  93,  71,   6],\n",
       "       [118, 102,  94,  16,  25],\n",
       "       [ 23,  66,  74,   6,  19],\n",
       "       [ 57,  56,  13,  96,   0],\n",
       "       [107, 118,  40,  60, 101],\n",
       "       [  3,  31,  99, 111,  79],\n",
       "       [  1,   5,  81,  69,  50],\n",
       "       [ 27, 104,  17, 114,   3],\n",
       "       [ 29,   2,  35,  20,  55],\n",
       "       [ 24,  82, 108,  99, 111],\n",
       "       [ 51,  78,  58,  89,  54],\n",
       "       [ 28, 114,  45,   1,  17],\n",
       "       [ 89,  58,   0,  78,  57],\n",
       "       [ 85,  38,  74,  37,  23],\n",
       "       [ 73,  35,  80,  92,  29],\n",
       "       [ 96,  78, 110,  51,  57],\n",
       "       [ 20,  82,  18,  32, 111],\n",
       "       [ 36,  42,  13,  57, 111],\n",
       "       [  0,  13,  42,  96, 117],\n",
       "       [ 51,  89,   0,  78,  57],\n",
       "       [ 87, 103,  14,  12,   9],\n",
       "       [118,  91,  43, 102,  40],\n",
       "       [ 26,  11,  39,  71,  19],\n",
       "       [ 65,  84,  68, 110, 105],\n",
       "       [ 77,  98,   8,  83,  86],\n",
       "       [  9,  14,  12,  98,  86],\n",
       "       [ 62,  84, 110,   7,  68],\n",
       "       [ 23,  41,  71,   6,  74],\n",
       "       [103,  70,   9,  87,  14],\n",
       "       [110,  78, 105,  89,  51],\n",
       "       [ 10,  81,   1,  45,   8],\n",
       "       [ 77,  83,  12,  63,   9],\n",
       "       [ 93, 112,   6,  11,  19],\n",
       "       [  4,  95,  52,  38,  74],\n",
       "       [ 32,  92,  35,  53,  18],\n",
       "       [ 38,  19,  23,  41,  66],\n",
       "       [ 13, 117,   0,  57,  79],\n",
       "       [ 81,  86,  98,   1,  45],\n",
       "       [ 63,  83,   8,  12,  98],\n",
       "       [ 96, 110,  51,  89,  54],\n",
       "       [ 13, 111,  75,   0, 117],\n",
       "       [ 90,  73,  53,  27,  88],\n",
       "       [ 76,  45,  86,  98,  69],\n",
       "       [ 55,  20,  48,  24,  18],\n",
       "       [  8,  77,  63, 115,  98],\n",
       "       [ 65, 110,  62,  54,  78],\n",
       "       [ 52,  38,  74,  21, 106],\n",
       "       [ 98,  81,  76,   8,  63],\n",
       "       [103,  59,  14,   9,  12],\n",
       "       [116,  99, 111,  44,  56],\n",
       "       [ 51,   0,  58,  78,  31],\n",
       "       [ 80,  73,  49,  27,  44],\n",
       "       [102,  39,  94,  97,  60],\n",
       "       [ 32,  18,  73,  35,  47],\n",
       "       [ 71,   6,  11,  19,  22],\n",
       "       [102, 119,  33, 109,  40],\n",
       "       [ 72,  52,  85,   4,  38],\n",
       "       [ 54,  78,  57,  51,   0],\n",
       "       [ 91, 102,  94,  39,  61],\n",
       "       [ 86,   8,  81,  63,   5],\n",
       "       [116, 111,  88,  44, 108],\n",
       "       [  5,  98,  45,   8,  69],\n",
       "       [107,  43, 118,  40,  25],\n",
       "       [ 94,  40,  91, 118, 109],\n",
       "       [ 87,  59,  14,   9,  12],\n",
       "       [ 46, 114, 108,   3,  27],\n",
       "       [ 89,  68, 117,   0,  78],\n",
       "       [ 38,  22,  74,  19,  93],\n",
       "       [ 43, 101,  40, 118,  16],\n",
       "       [ 24, 104, 114,  99,   3],\n",
       "       [119,  33,  94,  25,  15],\n",
       "       [ 78,  68,  96,  54,  51],\n",
       "       [ 99, 116,  79,  44,  56],\n",
       "       [ 71,  93,   6,  39, 113],\n",
       "       [ 39,  11,  93,  22,  71],\n",
       "       [ 28, 104,  46,  17,  50],\n",
       "       [ 83,  77,   8,  63,  10],\n",
       "       [ 99,  88, 111,  44,  55],\n",
       "       [ 75,  13,   0,  57,  79],\n",
       "       [ 40,  43,  60, 102, 107],\n",
       "       [109,  33,  94,  25,  15]])"
      ]
     },
     "execution_count": 12,
     "metadata": {},
     "output_type": "execute_result"
    }
   ],
   "source": [
    "indeces"
   ]
  },
  {
   "cell_type": "code",
   "execution_count": 21,
   "id": "e389517d",
   "metadata": {},
   "outputs": [
    {
     "data": {
      "text/plain": [
       "array([0., 0., 0., 0., 0., 0., 0., 0., 0., 0., 0., 0., 0., 1., 0., 0., 0.,\n",
       "       0., 0., 0., 0., 0., 0., 0., 0., 0., 0., 0., 0., 0., 0., 0., 0., 0.,\n",
       "       0., 0., 0., 0., 0., 0., 0., 0., 0., 0., 0., 0., 0., 0., 0., 0., 0.,\n",
       "       0., 0., 0., 0., 0., 0., 1., 0., 0., 0., 0., 0., 0., 0., 0., 0., 0.,\n",
       "       0., 0., 0., 0., 0., 0., 0., 1., 0., 0., 0., 0., 0., 0., 0., 0., 0.,\n",
       "       0., 0., 0., 0., 1., 0., 0., 0., 0., 0., 0., 0., 0., 0., 0., 0., 0.,\n",
       "       0., 0., 0., 0., 0., 0., 0., 0., 0., 0., 0., 0., 0., 0., 0., 1., 0.,\n",
       "       0.])"
      ]
     },
     "execution_count": 21,
     "metadata": {},
     "output_type": "execute_result"
    }
   ],
   "source": [
    "neighModel.kneighbors_graph().toarray()[0]"
   ]
  },
  {
   "cell_type": "code",
   "execution_count": 43,
   "id": "0f5cf08c",
   "metadata": {},
   "outputs": [
    {
     "data": {
      "text/html": [
       "<style>#sk-container-id-3 {color: black;background-color: white;}#sk-container-id-3 pre{padding: 0;}#sk-container-id-3 div.sk-toggleable {background-color: white;}#sk-container-id-3 label.sk-toggleable__label {cursor: pointer;display: block;width: 100%;margin-bottom: 0;padding: 0.3em;box-sizing: border-box;text-align: center;}#sk-container-id-3 label.sk-toggleable__label-arrow:before {content: \"▸\";float: left;margin-right: 0.25em;color: #696969;}#sk-container-id-3 label.sk-toggleable__label-arrow:hover:before {color: black;}#sk-container-id-3 div.sk-estimator:hover label.sk-toggleable__label-arrow:before {color: black;}#sk-container-id-3 div.sk-toggleable__content {max-height: 0;max-width: 0;overflow: hidden;text-align: left;background-color: #f0f8ff;}#sk-container-id-3 div.sk-toggleable__content pre {margin: 0.2em;color: black;border-radius: 0.25em;background-color: #f0f8ff;}#sk-container-id-3 input.sk-toggleable__control:checked~div.sk-toggleable__content {max-height: 200px;max-width: 100%;overflow: auto;}#sk-container-id-3 input.sk-toggleable__control:checked~label.sk-toggleable__label-arrow:before {content: \"▾\";}#sk-container-id-3 div.sk-estimator input.sk-toggleable__control:checked~label.sk-toggleable__label {background-color: #d4ebff;}#sk-container-id-3 div.sk-label input.sk-toggleable__control:checked~label.sk-toggleable__label {background-color: #d4ebff;}#sk-container-id-3 input.sk-hidden--visually {border: 0;clip: rect(1px 1px 1px 1px);clip: rect(1px, 1px, 1px, 1px);height: 1px;margin: -1px;overflow: hidden;padding: 0;position: absolute;width: 1px;}#sk-container-id-3 div.sk-estimator {font-family: monospace;background-color: #f0f8ff;border: 1px dotted black;border-radius: 0.25em;box-sizing: border-box;margin-bottom: 0.5em;}#sk-container-id-3 div.sk-estimator:hover {background-color: #d4ebff;}#sk-container-id-3 div.sk-parallel-item::after {content: \"\";width: 100%;border-bottom: 1px solid gray;flex-grow: 1;}#sk-container-id-3 div.sk-label:hover label.sk-toggleable__label {background-color: #d4ebff;}#sk-container-id-3 div.sk-serial::before {content: \"\";position: absolute;border-left: 1px solid gray;box-sizing: border-box;top: 0;bottom: 0;left: 50%;z-index: 0;}#sk-container-id-3 div.sk-serial {display: flex;flex-direction: column;align-items: center;background-color: white;padding-right: 0.2em;padding-left: 0.2em;position: relative;}#sk-container-id-3 div.sk-item {position: relative;z-index: 1;}#sk-container-id-3 div.sk-parallel {display: flex;align-items: stretch;justify-content: center;background-color: white;position: relative;}#sk-container-id-3 div.sk-item::before, #sk-container-id-3 div.sk-parallel-item::before {content: \"\";position: absolute;border-left: 1px solid gray;box-sizing: border-box;top: 0;bottom: 0;left: 50%;z-index: -1;}#sk-container-id-3 div.sk-parallel-item {display: flex;flex-direction: column;z-index: 1;position: relative;background-color: white;}#sk-container-id-3 div.sk-parallel-item:first-child::after {align-self: flex-end;width: 50%;}#sk-container-id-3 div.sk-parallel-item:last-child::after {align-self: flex-start;width: 50%;}#sk-container-id-3 div.sk-parallel-item:only-child::after {width: 0;}#sk-container-id-3 div.sk-dashed-wrapped {border: 1px dashed gray;margin: 0 0.4em 0.5em 0.4em;box-sizing: border-box;padding-bottom: 0.4em;background-color: white;}#sk-container-id-3 div.sk-label label {font-family: monospace;font-weight: bold;display: inline-block;line-height: 1.2em;}#sk-container-id-3 div.sk-label-container {text-align: center;}#sk-container-id-3 div.sk-container {/* jupyter's `normalize.less` sets `[hidden] { display: none; }` but bootstrap.min.css set `[hidden] { display: none !important; }` so we also need the `!important` here to be able to override the default hidden behavior on the sphinx rendered scikit-learn.org. See: https://github.com/scikit-learn/scikit-learn/issues/21755 */display: inline-block !important;position: relative;}#sk-container-id-3 div.sk-text-repr-fallback {display: none;}</style><div id=\"sk-container-id-3\" class=\"sk-top-container\"><div class=\"sk-text-repr-fallback\"><pre>KNeighborsClassifier()</pre><b>In a Jupyter environment, please rerun this cell to show the HTML representation or trust the notebook. <br />On GitHub, the HTML representation is unable to render, please try loading this page with nbviewer.org.</b></div><div class=\"sk-container\" hidden><div class=\"sk-item\"><div class=\"sk-estimator sk-toggleable\"><input class=\"sk-toggleable__control sk-hidden--visually\" id=\"sk-estimator-id-3\" type=\"checkbox\" checked><label for=\"sk-estimator-id-3\" class=\"sk-toggleable__label sk-toggleable__label-arrow\">KNeighborsClassifier</label><div class=\"sk-toggleable__content\"><pre>KNeighborsClassifier()</pre></div></div></div></div></div>"
      ],
      "text/plain": [
       "KNeighborsClassifier()"
      ]
     },
     "execution_count": 43,
     "metadata": {},
     "output_type": "execute_result"
    }
   ],
   "source": [
    "from sklearn.neighbors import KNeighborsClassifier\n",
    "\n",
    "neigClsModel = KNeighborsClassifier()\n",
    "neigClsModel.fit(X_train, y_train)"
   ]
  },
  {
   "cell_type": "code",
   "execution_count": 44,
   "id": "1526ce84",
   "metadata": {},
   "outputs": [
    {
     "data": {
      "text/plain": [
       "'0.97% Accuracy'"
      ]
     },
     "execution_count": 44,
     "metadata": {},
     "output_type": "execute_result"
    }
   ],
   "source": [
    "str(round(neigClsModel.score(X_test, y_test), 2)) + \"% Accuracy\""
   ]
  },
  {
   "cell_type": "code",
   "execution_count": 67,
   "id": "0f70f099",
   "metadata": {},
   "outputs": [
    {
     "name": "stderr",
     "output_type": "stream",
     "text": [
      "/home/djoe/.local/lib/python3.10/site-packages/sklearn/base.py:450: UserWarning: X does not have valid feature names, but KNeighborsClassifier was fitted with feature names\n",
      "  warnings.warn(\n"
     ]
    },
    {
     "data": {
      "text/plain": [
       "array([0], dtype=int8)"
      ]
     },
     "execution_count": 67,
     "metadata": {},
     "output_type": "execute_result"
    }
   ],
   "source": [
    "neigClsModel.predict([[3.5, 2.3, 2.1, 0.4]])"
   ]
  },
  {
   "cell_type": "code",
   "execution_count": 73,
   "id": "c7c5e79d",
   "metadata": {},
   "outputs": [
    {
     "data": {
      "text/plain": [
       "'Iris-setosa'"
      ]
     },
     "execution_count": 73,
     "metadata": {},
     "output_type": "execute_result"
    }
   ],
   "source": [
    "df_IRIS_tmp[\"species\"].cat.categories[0]"
   ]
  },
  {
   "cell_type": "code",
   "execution_count": 36,
   "id": "a7ccdd99",
   "metadata": {},
   "outputs": [
    {
     "data": {
      "text/html": [
       "<div>\n",
       "<style scoped>\n",
       "    .dataframe tbody tr th:only-of-type {\n",
       "        vertical-align: middle;\n",
       "    }\n",
       "\n",
       "    .dataframe tbody tr th {\n",
       "        vertical-align: top;\n",
       "    }\n",
       "\n",
       "    .dataframe thead th {\n",
       "        text-align: right;\n",
       "    }\n",
       "</style>\n",
       "<table border=\"1\" class=\"dataframe\">\n",
       "  <thead>\n",
       "    <tr style=\"text-align: right;\">\n",
       "      <th></th>\n",
       "      <th>sepal_length</th>\n",
       "      <th>sepal_width</th>\n",
       "      <th>petal_length</th>\n",
       "      <th>petal_width</th>\n",
       "      <th>species</th>\n",
       "    </tr>\n",
       "  </thead>\n",
       "  <tbody>\n",
       "    <tr>\n",
       "      <th>0</th>\n",
       "      <td>5.1</td>\n",
       "      <td>3.5</td>\n",
       "      <td>1.4</td>\n",
       "      <td>0.2</td>\n",
       "      <td>Iris-setosa</td>\n",
       "    </tr>\n",
       "    <tr>\n",
       "      <th>1</th>\n",
       "      <td>4.9</td>\n",
       "      <td>3.0</td>\n",
       "      <td>1.4</td>\n",
       "      <td>0.2</td>\n",
       "      <td>Iris-setosa</td>\n",
       "    </tr>\n",
       "    <tr>\n",
       "      <th>2</th>\n",
       "      <td>4.7</td>\n",
       "      <td>3.2</td>\n",
       "      <td>1.3</td>\n",
       "      <td>0.2</td>\n",
       "      <td>Iris-setosa</td>\n",
       "    </tr>\n",
       "    <tr>\n",
       "      <th>3</th>\n",
       "      <td>4.6</td>\n",
       "      <td>3.1</td>\n",
       "      <td>1.5</td>\n",
       "      <td>0.2</td>\n",
       "      <td>Iris-setosa</td>\n",
       "    </tr>\n",
       "    <tr>\n",
       "      <th>4</th>\n",
       "      <td>5.0</td>\n",
       "      <td>3.6</td>\n",
       "      <td>1.4</td>\n",
       "      <td>0.2</td>\n",
       "      <td>Iris-setosa</td>\n",
       "    </tr>\n",
       "  </tbody>\n",
       "</table>\n",
       "</div>"
      ],
      "text/plain": [
       "   sepal_length  sepal_width  petal_length  petal_width      species\n",
       "0           5.1          3.5           1.4          0.2  Iris-setosa\n",
       "1           4.9          3.0           1.4          0.2  Iris-setosa\n",
       "2           4.7          3.2           1.3          0.2  Iris-setosa\n",
       "3           4.6          3.1           1.5          0.2  Iris-setosa\n",
       "4           5.0          3.6           1.4          0.2  Iris-setosa"
      ]
     },
     "execution_count": 36,
     "metadata": {},
     "output_type": "execute_result"
    }
   ],
   "source": [
    "df_IRIS_tmp = df_IRIS.copy()\n",
    "df_IRIS_tmp[\"species\"] = pd.Categorical(df_IRIS_tmp[\"species\"])\n",
    "df_IRIS_tmp.head()"
   ]
  },
  {
   "cell_type": "code",
   "execution_count": 40,
   "id": "a774eb04",
   "metadata": {},
   "outputs": [
    {
     "data": {
      "text/plain": [
       "0      0\n",
       "1      0\n",
       "2      0\n",
       "3      0\n",
       "4      0\n",
       "      ..\n",
       "145    2\n",
       "146    2\n",
       "147    2\n",
       "148    2\n",
       "149    2\n",
       "Length: 150, dtype: int8"
      ]
     },
     "execution_count": 40,
     "metadata": {},
     "output_type": "execute_result"
    }
   ],
   "source": [
    "df_IRIS_tmp[\"species\"].cat.codes"
   ]
  },
  {
   "cell_type": "code",
   "execution_count": 29,
   "id": "6c907951",
   "metadata": {},
   "outputs": [
    {
     "data": {
      "text/plain": [
       "'0.93% Accuracy'"
      ]
     },
     "execution_count": 29,
     "metadata": {},
     "output_type": "execute_result"
    }
   ],
   "source": [
    "from sklearn.ensemble import RandomForestClassifier\n",
    "\n",
    "randClsModel = RandomForestClassifier(n_estimators=100)\n",
    "randClsModel.fit(X_train, y_train)\n",
    "str(round(randClsModel.score(X_test, y_test), 2)) + \"% Accuracy\""
   ]
  },
  {
   "cell_type": "code",
   "execution_count": 34,
   "id": "a7cbe275",
   "metadata": {},
   "outputs": [
    {
     "data": {
      "text/plain": [
       "sepal_length    0\n",
       "sepal_width     0\n",
       "petal_length    0\n",
       "petal_width     0\n",
       "dtype: int64"
      ]
     },
     "execution_count": 34,
     "metadata": {},
     "output_type": "execute_result"
    }
   ],
   "source": [
    "X.isnull().sum()"
   ]
  },
  {
   "cell_type": "code",
   "execution_count": 66,
   "id": "39a70785",
   "metadata": {},
   "outputs": [
    {
     "data": {
      "image/png": "[encoded data removed]",
      "text/plain": [
       "<Figure size 640x480 with 1 Axes>"
      ]
     },
     "metadata": {},
     "output_type": "display_data"
    },
    {
     "data": {
      "image/png": "[encoded data removed]",
      "text/plain": [
       "<Figure size 640x480 with 1 Axes>"
      ]
     },
     "metadata": {},
     "output_type": "display_data"
    }
   ],
   "source": [
    "import matplotlib.pyplot as plt\n",
    "import seaborn as sns\n",
    "from matplotlib.colors import ListedColormap\n",
    "from sklearn import neighbors\n",
    "from sklearn.inspection import DecisionBoundaryDisplay\n",
    "\n",
    "n_neighbors = 15\n",
    "\n",
    "# import some data to play with\n",
    "# we only take the first two features. We could avoid this ugly\n",
    "# slicing by using a two-dim dataset\n",
    "X = np.array(df_IRIS_tmp.drop(\"species\", axis=1))[:, :2]\n",
    "y = df_IRIS_tmp[\"species\"].cat.codes\n",
    "\n",
    "# Create color maps\n",
    "cmap_light = ListedColormap([\"orange\", \"cyan\", \"cornflowerblue\"])\n",
    "cmap_bold = [\"darkorange\", \"c\", \"darkblue\"]\n",
    "\n",
    "for weights in [\"uniform\", \"distance\"]:\n",
    "    # we create an instance of Neighbours Classifier and fit the data.\n",
    "    clf = neighbors.KNeighborsClassifier(n_neighbors, weights=weights)\n",
    "    clf.fit(X, y)\n",
    "\n",
    "    _, ax = plt.subplots()\n",
    "    DecisionBoundaryDisplay.from_estimator(\n",
    "        clf,\n",
    "        X,\n",
    "        cmap=cmap_light,\n",
    "        ax=ax,\n",
    "        response_method=\"predict\",\n",
    "        plot_method=\"pcolormesh\",\n",
    "\n",
    "        shading=\"auto\",\n",
    "    )\n",
    "\n",
    "    # Plot also the training points\n",
    "    sns.scatterplot(\n",
    "        x=X[:, 0],\n",
    "        y=X[:, 1],\n",
    "        hue=iris.target_names[y],\n",
    "        palette=cmap_bold,\n",
    "        alpha=1.0,\n",
    "        edgecolor=\"black\",\n",
    "    )\n",
    "    plt.title(\n",
    "        \"3-Class classification (k = %i, weights = '%s')\" % (n_neighbors, weights)\n",
    "    )\n",
    "\n",
    "plt.show()"
   ]
  },
  {
   "cell_type": "code",
   "execution_count": null,
   "id": "c9afcc81",
   "metadata": {},
   "outputs": [],
   "source": []
  }
 ],
 "metadata": {
  "kernelspec": {
   "display_name": "Python 3 (ipykernel)",
   "language": "python",
   "name": "python3"
  },
  "language_info": {
   "codemirror_mode": {
    "name": "ipython",
    "version": 3
   },
   "file_extension": ".py",
   "mimetype": "text/x-python",
   "name": "python",
   "nbconvert_exporter": "python",
   "pygments_lexer": "ipython3",
   "version": "3.10.4"
  }
 },
 "nbformat": 4,
 "nbformat_minor": 5
}
