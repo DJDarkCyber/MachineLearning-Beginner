{
 "cells": [
  {
   "cell_type": "markdown",
   "id": "b5daa3f5",
   "metadata": {},
   "source": [
    "# India Crop Production\n",
    "\n",
    "\n",
    "## Importing required dataset"
   ]
  },
  {
   "cell_type": "code",
   "execution_count": 27,
   "id": "a23b7467",
   "metadata": {},
   "outputs": [],
   "source": [
    "import pandas as pd\n",
    "import numpy as np\n",
    "from sklearn.ensemble import RandomForestRegressor\n",
    "from xgboost import XGBRegressor\n",
    "from sklearn.preprocessing import LabelEncoder\n",
    "from sklearn.impute import KNNImputer\n",
    "from sklearn.model_selection import train_test_split"
   ]
  },
  {
   "cell_type": "markdown",
   "id": "984bd73e",
   "metadata": {},
   "source": [
    "## Getting dataset"
   ]
  },
  {
   "cell_type": "code",
   "execution_count": 2,
   "id": "6a67c1cf",
   "metadata": {},
   "outputs": [
    {
     "data": {
      "text/html": [
       "<div>\n",
       "<style scoped>\n",
       "    .dataframe tbody tr th:only-of-type {\n",
       "        vertical-align: middle;\n",
       "    }\n",
       "\n",
       "    .dataframe tbody tr th {\n",
       "        vertical-align: top;\n",
       "    }\n",
       "\n",
       "    .dataframe thead th {\n",
       "        text-align: right;\n",
       "    }\n",
       "</style>\n",
       "<table border=\"1\" class=\"dataframe\">\n",
       "  <thead>\n",
       "    <tr style=\"text-align: right;\">\n",
       "      <th></th>\n",
       "      <th>index</th>\n",
       "      <th>State_Name</th>\n",
       "      <th>District_Name</th>\n",
       "      <th>Crop_Year</th>\n",
       "      <th>Season</th>\n",
       "      <th>Crop</th>\n",
       "      <th>Area</th>\n",
       "      <th>Production</th>\n",
       "    </tr>\n",
       "  </thead>\n",
       "  <tbody>\n",
       "    <tr>\n",
       "      <th>0</th>\n",
       "      <td>0</td>\n",
       "      <td>Andaman and Nicobar Islands</td>\n",
       "      <td>NICOBARS</td>\n",
       "      <td>2000</td>\n",
       "      <td>Kharif</td>\n",
       "      <td>Arecanut</td>\n",
       "      <td>1254.0</td>\n",
       "      <td>2000.0</td>\n",
       "    </tr>\n",
       "    <tr>\n",
       "      <th>1</th>\n",
       "      <td>1</td>\n",
       "      <td>Andaman and Nicobar Islands</td>\n",
       "      <td>NICOBARS</td>\n",
       "      <td>2000</td>\n",
       "      <td>Kharif</td>\n",
       "      <td>Other Kharif pulses</td>\n",
       "      <td>2.0</td>\n",
       "      <td>1.0</td>\n",
       "    </tr>\n",
       "    <tr>\n",
       "      <th>2</th>\n",
       "      <td>2</td>\n",
       "      <td>Andaman and Nicobar Islands</td>\n",
       "      <td>NICOBARS</td>\n",
       "      <td>2000</td>\n",
       "      <td>Kharif</td>\n",
       "      <td>Rice</td>\n",
       "      <td>102.0</td>\n",
       "      <td>321.0</td>\n",
       "    </tr>\n",
       "    <tr>\n",
       "      <th>3</th>\n",
       "      <td>3</td>\n",
       "      <td>Andaman and Nicobar Islands</td>\n",
       "      <td>NICOBARS</td>\n",
       "      <td>2000</td>\n",
       "      <td>Whole Year</td>\n",
       "      <td>Banana</td>\n",
       "      <td>176.0</td>\n",
       "      <td>641.0</td>\n",
       "    </tr>\n",
       "    <tr>\n",
       "      <th>4</th>\n",
       "      <td>4</td>\n",
       "      <td>Andaman and Nicobar Islands</td>\n",
       "      <td>NICOBARS</td>\n",
       "      <td>2000</td>\n",
       "      <td>Whole Year</td>\n",
       "      <td>Cashewnut</td>\n",
       "      <td>720.0</td>\n",
       "      <td>165.0</td>\n",
       "    </tr>\n",
       "  </tbody>\n",
       "</table>\n",
       "</div>"
      ],
      "text/plain": [
       "   index                   State_Name  ...    Area  Production\n",
       "0      0  Andaman and Nicobar Islands  ...  1254.0      2000.0\n",
       "1      1  Andaman and Nicobar Islands  ...     2.0         1.0\n",
       "2      2  Andaman and Nicobar Islands  ...   102.0       321.0\n",
       "3      3  Andaman and Nicobar Islands  ...   176.0       641.0\n",
       "4      4  Andaman and Nicobar Islands  ...   720.0       165.0\n",
       "\n",
       "[5 rows x 8 columns]"
      ]
     },
     "execution_count": 2,
     "metadata": {},
     "output_type": "execute_result"
    }
   ],
   "source": [
    "df = pd.read_csv(\"data/proj73/crop_production.csv\")\n",
    "df.head()"
   ]
  },
  {
   "cell_type": "markdown",
   "id": "3a4b770f",
   "metadata": {},
   "source": [
    "## Cleaning dataset"
   ]
  },
  {
   "cell_type": "code",
   "execution_count": 3,
   "id": "5695addb",
   "metadata": {},
   "outputs": [
    {
     "data": {
      "text/plain": [
       "index               0\n",
       "State_Name          0\n",
       "District_Name       0\n",
       "Crop_Year           0\n",
       "Season              0\n",
       "Crop                0\n",
       "Area                0\n",
       "Production       3730\n",
       "dtype: int64"
      ]
     },
     "execution_count": 3,
     "metadata": {},
     "output_type": "execute_result"
    }
   ],
   "source": [
    "df.isna().sum()"
   ]
  },
  {
   "cell_type": "code",
   "execution_count": 13,
   "id": "209c7cc3",
   "metadata": {},
   "outputs": [
    {
     "data": {
      "text/html": [
       "<style>#sk-container-id-2 {color: black;background-color: white;}#sk-container-id-2 pre{padding: 0;}#sk-container-id-2 div.sk-toggleable {background-color: white;}#sk-container-id-2 label.sk-toggleable__label {cursor: pointer;display: block;width: 100%;margin-bottom: 0;padding: 0.3em;box-sizing: border-box;text-align: center;}#sk-container-id-2 label.sk-toggleable__label-arrow:before {content: \"▸\";float: left;margin-right: 0.25em;color: #696969;}#sk-container-id-2 label.sk-toggleable__label-arrow:hover:before {color: black;}#sk-container-id-2 div.sk-estimator:hover label.sk-toggleable__label-arrow:before {color: black;}#sk-container-id-2 div.sk-toggleable__content {max-height: 0;max-width: 0;overflow: hidden;text-align: left;background-color: #f0f8ff;}#sk-container-id-2 div.sk-toggleable__content pre {margin: 0.2em;color: black;border-radius: 0.25em;background-color: #f0f8ff;}#sk-container-id-2 input.sk-toggleable__control:checked~div.sk-toggleable__content {max-height: 200px;max-width: 100%;overflow: auto;}#sk-container-id-2 input.sk-toggleable__control:checked~label.sk-toggleable__label-arrow:before {content: \"▾\";}#sk-container-id-2 div.sk-estimator input.sk-toggleable__control:checked~label.sk-toggleable__label {background-color: #d4ebff;}#sk-container-id-2 div.sk-label input.sk-toggleable__control:checked~label.sk-toggleable__label {background-color: #d4ebff;}#sk-container-id-2 input.sk-hidden--visually {border: 0;clip: rect(1px 1px 1px 1px);clip: rect(1px, 1px, 1px, 1px);height: 1px;margin: -1px;overflow: hidden;padding: 0;position: absolute;width: 1px;}#sk-container-id-2 div.sk-estimator {font-family: monospace;background-color: #f0f8ff;border: 1px dotted black;border-radius: 0.25em;box-sizing: border-box;margin-bottom: 0.5em;}#sk-container-id-2 div.sk-estimator:hover {background-color: #d4ebff;}#sk-container-id-2 div.sk-parallel-item::after {content: \"\";width: 100%;border-bottom: 1px solid gray;flex-grow: 1;}#sk-container-id-2 div.sk-label:hover label.sk-toggleable__label {background-color: #d4ebff;}#sk-container-id-2 div.sk-serial::before {content: \"\";position: absolute;border-left: 1px solid gray;box-sizing: border-box;top: 0;bottom: 0;left: 50%;z-index: 0;}#sk-container-id-2 div.sk-serial {display: flex;flex-direction: column;align-items: center;background-color: white;padding-right: 0.2em;padding-left: 0.2em;position: relative;}#sk-container-id-2 div.sk-item {position: relative;z-index: 1;}#sk-container-id-2 div.sk-parallel {display: flex;align-items: stretch;justify-content: center;background-color: white;position: relative;}#sk-container-id-2 div.sk-item::before, #sk-container-id-2 div.sk-parallel-item::before {content: \"\";position: absolute;border-left: 1px solid gray;box-sizing: border-box;top: 0;bottom: 0;left: 50%;z-index: -1;}#sk-container-id-2 div.sk-parallel-item {display: flex;flex-direction: column;z-index: 1;position: relative;background-color: white;}#sk-container-id-2 div.sk-parallel-item:first-child::after {align-self: flex-end;width: 50%;}#sk-container-id-2 div.sk-parallel-item:last-child::after {align-self: flex-start;width: 50%;}#sk-container-id-2 div.sk-parallel-item:only-child::after {width: 0;}#sk-container-id-2 div.sk-dashed-wrapped {border: 1px dashed gray;margin: 0 0.4em 0.5em 0.4em;box-sizing: border-box;padding-bottom: 0.4em;background-color: white;}#sk-container-id-2 div.sk-label label {font-family: monospace;font-weight: bold;display: inline-block;line-height: 1.2em;}#sk-container-id-2 div.sk-label-container {text-align: center;}#sk-container-id-2 div.sk-container {/* jupyter's `normalize.less` sets `[hidden] { display: none; }` but bootstrap.min.css set `[hidden] { display: none !important; }` so we also need the `!important` here to be able to override the default hidden behavior on the sphinx rendered scikit-learn.org. See: https://github.com/scikit-learn/scikit-learn/issues/21755 */display: inline-block !important;position: relative;}#sk-container-id-2 div.sk-text-repr-fallback {display: none;}</style><div id=\"sk-container-id-2\" class=\"sk-top-container\"><div class=\"sk-text-repr-fallback\"><pre>KNNImputer()</pre><b>In a Jupyter environment, please rerun this cell to show the HTML representation or trust the notebook. <br />On GitHub, the HTML representation is unable to render, please try loading this page with nbviewer.org.</b></div><div class=\"sk-container\" hidden><div class=\"sk-item\"><div class=\"sk-estimator sk-toggleable\"><input class=\"sk-toggleable__control sk-hidden--visually\" id=\"sk-estimator-id-2\" type=\"checkbox\" checked><label for=\"sk-estimator-id-2\" class=\"sk-toggleable__label sk-toggleable__label-arrow\">KNNImputer</label><div class=\"sk-toggleable__content\"><pre>KNNImputer()</pre></div></div></div></div></div>"
      ],
      "text/plain": [
       "KNNImputer()"
      ]
     },
     "execution_count": 13,
     "metadata": {},
     "output_type": "execute_result"
    }
   ],
   "source": [
    "imputer = KNNImputer()\n",
    "X = df[\"Production\"].values.reshape(-1, 1)\n",
    "imputer.fit(X)"
   ]
  },
  {
   "cell_type": "code",
   "execution_count": 14,
   "id": "15450594",
   "metadata": {},
   "outputs": [],
   "source": [
    "imp_prod = imputer.transform(X)"
   ]
  },
  {
   "cell_type": "code",
   "execution_count": 20,
   "id": "c11cfeb5",
   "metadata": {},
   "outputs": [],
   "source": [
    "df[\"Production\"] = imp_prod"
   ]
  },
  {
   "cell_type": "code",
   "execution_count": 21,
   "id": "97821c13",
   "metadata": {},
   "outputs": [
    {
     "data": {
      "text/html": [
       "<div>\n",
       "<style scoped>\n",
       "    .dataframe tbody tr th:only-of-type {\n",
       "        vertical-align: middle;\n",
       "    }\n",
       "\n",
       "    .dataframe tbody tr th {\n",
       "        vertical-align: top;\n",
       "    }\n",
       "\n",
       "    .dataframe thead th {\n",
       "        text-align: right;\n",
       "    }\n",
       "</style>\n",
       "<table border=\"1\" class=\"dataframe\">\n",
       "  <thead>\n",
       "    <tr style=\"text-align: right;\">\n",
       "      <th></th>\n",
       "      <th>index</th>\n",
       "      <th>State_Name</th>\n",
       "      <th>District_Name</th>\n",
       "      <th>Crop_Year</th>\n",
       "      <th>Season</th>\n",
       "      <th>Crop</th>\n",
       "      <th>Area</th>\n",
       "      <th>Production</th>\n",
       "    </tr>\n",
       "  </thead>\n",
       "  <tbody>\n",
       "    <tr>\n",
       "      <th>0</th>\n",
       "      <td>0</td>\n",
       "      <td>Andaman and Nicobar Islands</td>\n",
       "      <td>NICOBARS</td>\n",
       "      <td>2000</td>\n",
       "      <td>Kharif</td>\n",
       "      <td>Arecanut</td>\n",
       "      <td>1254.0</td>\n",
       "      <td>2000.0</td>\n",
       "    </tr>\n",
       "    <tr>\n",
       "      <th>1</th>\n",
       "      <td>1</td>\n",
       "      <td>Andaman and Nicobar Islands</td>\n",
       "      <td>NICOBARS</td>\n",
       "      <td>2000</td>\n",
       "      <td>Kharif</td>\n",
       "      <td>Other Kharif pulses</td>\n",
       "      <td>2.0</td>\n",
       "      <td>1.0</td>\n",
       "    </tr>\n",
       "    <tr>\n",
       "      <th>2</th>\n",
       "      <td>2</td>\n",
       "      <td>Andaman and Nicobar Islands</td>\n",
       "      <td>NICOBARS</td>\n",
       "      <td>2000</td>\n",
       "      <td>Kharif</td>\n",
       "      <td>Rice</td>\n",
       "      <td>102.0</td>\n",
       "      <td>321.0</td>\n",
       "    </tr>\n",
       "    <tr>\n",
       "      <th>3</th>\n",
       "      <td>3</td>\n",
       "      <td>Andaman and Nicobar Islands</td>\n",
       "      <td>NICOBARS</td>\n",
       "      <td>2000</td>\n",
       "      <td>Whole Year</td>\n",
       "      <td>Banana</td>\n",
       "      <td>176.0</td>\n",
       "      <td>641.0</td>\n",
       "    </tr>\n",
       "    <tr>\n",
       "      <th>4</th>\n",
       "      <td>4</td>\n",
       "      <td>Andaman and Nicobar Islands</td>\n",
       "      <td>NICOBARS</td>\n",
       "      <td>2000</td>\n",
       "      <td>Whole Year</td>\n",
       "      <td>Cashewnut</td>\n",
       "      <td>720.0</td>\n",
       "      <td>165.0</td>\n",
       "    </tr>\n",
       "  </tbody>\n",
       "</table>\n",
       "</div>"
      ],
      "text/plain": [
       "   index                   State_Name  ...    Area  Production\n",
       "0      0  Andaman and Nicobar Islands  ...  1254.0      2000.0\n",
       "1      1  Andaman and Nicobar Islands  ...     2.0         1.0\n",
       "2      2  Andaman and Nicobar Islands  ...   102.0       321.0\n",
       "3      3  Andaman and Nicobar Islands  ...   176.0       641.0\n",
       "4      4  Andaman and Nicobar Islands  ...   720.0       165.0\n",
       "\n",
       "[5 rows x 8 columns]"
      ]
     },
     "execution_count": 21,
     "metadata": {},
     "output_type": "execute_result"
    }
   ],
   "source": [
    "df.head()"
   ]
  },
  {
   "cell_type": "markdown",
   "id": "2f025e08",
   "metadata": {},
   "source": [
    "## Pre-Processing dataset"
   ]
  },
  {
   "cell_type": "code",
   "execution_count": 23,
   "id": "4c45ccf2",
   "metadata": {},
   "outputs": [],
   "source": [
    "df.drop(\"index\", inplace=True, axis=1)\n",
    "labels = {}\n",
    "for column in df.keys():\n",
    "    if pd.api.types.is_object_dtype(df[column]):\n",
    "        le = LabelEncoder()\n",
    "        df[column] = le.fit_transform(df[column])\n",
    "        labels[column] = le.classes_"
   ]
  },
  {
   "cell_type": "code",
   "execution_count": 24,
   "id": "c160cc4b",
   "metadata": {},
   "outputs": [
    {
     "data": {
      "text/plain": [
       "{'State_Name': array(['Andaman and Nicobar Islands', 'Andhra Pradesh',\n",
       "        'Arunachal Pradesh', 'Assam', 'Bihar', 'Chandigarh',\n",
       "        'Chhattisgarh', 'Dadra and Nagar Haveli', 'Goa', 'Gujarat',\n",
       "        'Haryana', 'Himachal Pradesh', 'Jammu and Kashmir ', 'Jharkhand',\n",
       "        'Karnataka', 'Kerala', 'Madhya Pradesh', 'Maharashtra', 'Manipur',\n",
       "        'Meghalaya', 'Mizoram', 'Nagaland', 'Odisha', 'Puducherry',\n",
       "        'Punjab', 'Rajasthan', 'Sikkim', 'Tamil Nadu', 'Telangana ',\n",
       "        'Tripura', 'Uttar Pradesh', 'Uttarakhand', 'West Bengal'],\n",
       "       dtype=object),\n",
       " 'District_Name': array(['24 PARAGANAS NORTH', '24 PARAGANAS SOUTH', 'ADILABAD',\n",
       "        'AGAR MALWA', 'AGRA', 'AHMADABAD', 'AHMEDNAGAR', 'AIZAWL', 'AJMER',\n",
       "        'AKOLA', 'ALAPPUZHA', 'ALIGARH', 'ALIRAJPUR', 'ALLAHABAD',\n",
       "        'ALMORA', 'ALWAR', 'AMBALA', 'AMBEDKAR NAGAR', 'AMETHI',\n",
       "        'AMRAVATI', 'AMRELI', 'AMRITSAR', 'AMROHA', 'ANAND', 'ANANTAPUR',\n",
       "        'ANANTNAG', 'ANJAW', 'ANUGUL', 'ANUPPUR', 'ARARIA', 'ARIYALUR',\n",
       "        'ARWAL', 'ASHOKNAGAR', 'AURAIYA', 'AURANGABAD', 'AZAMGARH',\n",
       "        'BADGAM', 'BAGALKOT', 'BAGESHWAR', 'BAGHPAT', 'BAHRAICH', 'BAKSA',\n",
       "        'BALAGHAT', 'BALANGIR', 'BALESHWAR', 'BALLIA', 'BALOD',\n",
       "        'BALODA BAZAR', 'BALRAMPUR', 'BANAS KANTHA', 'BANDA', 'BANDIPORA',\n",
       "        'BANGALORE RURAL', 'BANKA', 'BANKURA', 'BANSWARA', 'BARABANKI',\n",
       "        'BARAMULLA', 'BARAN', 'BARDHAMAN', 'BAREILLY', 'BARGARH', 'BARMER',\n",
       "        'BARNALA', 'BARPETA', 'BARWANI', 'BASTAR', 'BASTI', 'BATHINDA',\n",
       "        'BEED', 'BEGUSARAI', 'BELGAUM', 'BELLARY', 'BEMETARA',\n",
       "        'BENGALURU URBAN', 'BETUL', 'BHADRAK', 'BHAGALPUR', 'BHANDARA',\n",
       "        'BHARATPUR', 'BHARUCH', 'BHAVNAGAR', 'BHILWARA', 'BHIND',\n",
       "        'BHIWANI', 'BHOJPUR', 'BHOPAL', 'BIDAR', 'BIJAPUR', 'BIJNOR',\n",
       "        'BIKANER', 'BILASPUR', 'BIRBHUM', 'BISHNUPUR', 'BOKARO',\n",
       "        'BONGAIGAON', 'BOUDH', 'BUDAUN', 'BULANDSHAHR', 'BULDHANA',\n",
       "        'BUNDI', 'BURHANPUR', 'BUXAR', 'CACHAR', 'CHAMARAJANAGAR',\n",
       "        'CHAMBA', 'CHAMOLI', 'CHAMPAWAT', 'CHAMPHAI', 'CHANDAULI',\n",
       "        'CHANDEL', 'CHANDIGARH', 'CHANDRAPUR', 'CHANGLANG', 'CHATRA',\n",
       "        'CHHATARPUR', 'CHHINDWARA', 'CHIKBALLAPUR', 'CHIKMAGALUR',\n",
       "        'CHIRANG', 'CHITRADURGA', 'CHITRAKOOT', 'CHITTOOR', 'CHITTORGARH',\n",
       "        'CHURACHANDPUR', 'CHURU', 'COIMBATORE', 'COOCHBEHAR', 'CUDDALORE',\n",
       "        'CUTTACK', 'DADRA AND NAGAR HAVELI', 'DAKSHIN KANNAD', 'DAMOH',\n",
       "        'DANG', 'DANTEWADA', 'DARBHANGA', 'DARJEELING', 'DARRANG', 'DATIA',\n",
       "        'DAUSA', 'DAVANGERE', 'DEHRADUN', 'DEOGARH', 'DEOGHAR', 'DEORIA',\n",
       "        'DEWAS', 'DHALAI', 'DHAMTARI', 'DHANBAD', 'DHAR', 'DHARMAPURI',\n",
       "        'DHARWAD', 'DHEMAJI', 'DHENKANAL', 'DHOLPUR', 'DHUBRI', 'DHULE',\n",
       "        'DIBANG VALLEY', 'DIBRUGARH', 'DIMA HASAO', 'DIMAPUR',\n",
       "        'DINAJPUR DAKSHIN', 'DINAJPUR UTTAR', 'DINDIGUL', 'DINDORI',\n",
       "        'DODA', 'DOHAD', 'DUMKA', 'DUNGARPUR', 'DURG', 'EAST DISTRICT',\n",
       "        'EAST GARO HILLS', 'EAST GODAVARI', 'EAST JAINTIA HILLS',\n",
       "        'EAST KAMENG', 'EAST KHASI HILLS', 'EAST SIANG', 'EAST SINGHBUM',\n",
       "        'ERNAKULAM', 'ERODE', 'ETAH', 'ETAWAH', 'FAIZABAD', 'FARIDABAD',\n",
       "        'FARIDKOT', 'FARRUKHABAD', 'FATEHABAD', 'FATEHGARH SAHIB',\n",
       "        'FATEHPUR', 'FAZILKA', 'FIROZABAD', 'FIROZEPUR', 'GADAG',\n",
       "        'GADCHIROLI', 'GAJAPATI', 'GANDERBAL', 'GANDHINAGAR', 'GANGANAGAR',\n",
       "        'GANJAM', 'GARHWA', 'GARIYABAND', 'GAUTAM BUDDHA NAGAR', 'GAYA',\n",
       "        'GHAZIABAD', 'GHAZIPUR', 'GIRIDIH', 'GOALPARA', 'GODDA',\n",
       "        'GOLAGHAT', 'GOMATI', 'GONDA', 'GONDIA', 'GOPALGANJ', 'GORAKHPUR',\n",
       "        'GULBARGA', 'GUMLA', 'GUNA', 'GUNTUR', 'GURDASPUR', 'GURGAON',\n",
       "        'GWALIOR', 'HAILAKANDI', 'HAMIRPUR', 'HANUMANGARH', 'HAPUR',\n",
       "        'HARDA', 'HARDOI', 'HARIDWAR', 'HASSAN', 'HATHRAS', 'HAVERI',\n",
       "        'HAZARIBAGH', 'HINGOLI', 'HISAR', 'HOOGHLY', 'HOSHANGABAD',\n",
       "        'HOSHIARPUR', 'HOWRAH', 'HYDERABAD', 'IDUKKI', 'IMPHAL EAST',\n",
       "        'IMPHAL WEST', 'INDORE', 'JABALPUR', 'JAGATSINGHAPUR', 'JAIPUR',\n",
       "        'JAISALMER', 'JAJAPUR', 'JALANDHAR', 'JALAUN', 'JALGAON', 'JALNA',\n",
       "        'JALORE', 'JALPAIGURI', 'JAMMU', 'JAMNAGAR', 'JAMTARA', 'JAMUI',\n",
       "        'JANJGIR-CHAMPA', 'JASHPUR', 'JAUNPUR', 'JEHANABAD', 'JHABUA',\n",
       "        'JHAJJAR', 'JHALAWAR', 'JHANSI', 'JHARSUGUDA', 'JHUNJHUNU', 'JIND',\n",
       "        'JODHPUR', 'JORHAT', 'JUNAGADH', 'KABIRDHAM', 'KACHCHH', 'KADAPA',\n",
       "        'KAIMUR (BHABUA)', 'KAITHAL', 'KALAHANDI', 'KAMRUP',\n",
       "        'KAMRUP METRO', 'KANCHIPURAM', 'KANDHAMAL', 'KANGRA', 'KANKER',\n",
       "        'KANNAUJ', 'KANNIYAKUMARI', 'KANNUR', 'KANPUR DEHAT',\n",
       "        'KANPUR NAGAR', 'KAPURTHALA', 'KARAIKAL', 'KARAULI',\n",
       "        'KARBI ANGLONG', 'KARGIL', 'KARIMGANJ', 'KARIMNAGAR', 'KARNAL',\n",
       "        'KARUR', 'KASARAGOD', 'KASGANJ', 'KATHUA', 'KATIHAR', 'KATNI',\n",
       "        'KAUSHAMBI', 'KENDRAPARA', 'KENDUJHAR', 'KHAGARIA', 'KHAMMAM',\n",
       "        'KHANDWA', 'KHARGONE', 'KHEDA', 'KHERI', 'KHORDHA', 'KHOWAI',\n",
       "        'KHUNTI', 'KINNAUR', 'KIPHIRE', 'KISHANGANJ', 'KISHTWAR', 'KODAGU',\n",
       "        'KODERMA', 'KOHIMA', 'KOKRAJHAR', 'KOLAR', 'KOLASIB', 'KOLHAPUR',\n",
       "        'KOLLAM', 'KONDAGAON', 'KOPPAL', 'KORAPUT', 'KORBA', 'KOREA',\n",
       "        'KOTA', 'KOTTAYAM', 'KOZHIKODE', 'KRISHNA', 'KRISHNAGIRI',\n",
       "        'KULGAM', 'KULLU', 'KUPWARA', 'KURNOOL', 'KURUKSHETRA',\n",
       "        'KURUNG KUMEY', 'KUSHI NAGAR', 'LAHUL AND SPITI', 'LAKHIMPUR',\n",
       "        'LAKHISARAI', 'LALITPUR', 'LATEHAR', 'LATUR', 'LAWNGTLAI',\n",
       "        'LEH LADAKH', 'LOHARDAGA', 'LOHIT', 'LONGDING', 'LONGLENG',\n",
       "        'LOWER DIBANG VALLEY', 'LOWER SUBANSIRI', 'LUCKNOW', 'LUDHIANA',\n",
       "        'LUNGLEI', 'MADHEPURA', 'MADHUBANI', 'MADURAI', 'MAHARAJGANJ',\n",
       "        'MAHASAMUND', 'MAHBUBNAGAR', 'MAHE', 'MAHENDRAGARH', 'MAHESANA',\n",
       "        'MAHOBA', 'MAINPURI', 'MALAPPURAM', 'MALDAH', 'MALKANGIRI',\n",
       "        'MAMIT', 'MANDI', 'MANDLA', 'MANDSAUR', 'MANDYA', 'MANSA',\n",
       "        'MARIGAON', 'MATHURA', 'MAU', 'MAYURBHANJ', 'MEDAK',\n",
       "        'MEDINIPUR EAST', 'MEDINIPUR WEST', 'MEERUT', 'MEWAT', 'MIRZAPUR',\n",
       "        'MOGA', 'MOKOKCHUNG', 'MON', 'MORADABAD', 'MORENA', 'MUKTSAR',\n",
       "        'MUMBAI', 'MUNGELI', 'MUNGER', 'MURSHIDABAD', 'MUZAFFARNAGAR',\n",
       "        'MUZAFFARPUR', 'MYSORE', 'NABARANGPUR', 'NADIA', 'NAGAON',\n",
       "        'NAGAPATTINAM', 'NAGAUR', 'NAGPUR', 'NAINITAL', 'NALANDA',\n",
       "        'NALBARI', 'NALGONDA', 'NAMAKKAL', 'NAMSAI', 'NANDED', 'NANDURBAR',\n",
       "        'NARAYANPUR', 'NARMADA', 'NARSINGHPUR', 'NASHIK', 'NAVSARI',\n",
       "        'NAWADA', 'NAWANSHAHR', 'NAYAGARH', 'NEEMUCH', 'NICOBARS',\n",
       "        'NIZAMABAD', 'NORTH AND MIDDLE ANDAMAN', 'NORTH DISTRICT',\n",
       "        'NORTH GARO HILLS', 'NORTH GOA', 'NORTH TRIPURA', 'NUAPADA',\n",
       "        'OSMANABAD', 'PAKUR', 'PALAKKAD', 'PALAMU', 'PALGHAR', 'PALI',\n",
       "        'PALWAL', 'PANCH MAHALS', 'PANCHKULA', 'PANIPAT', 'PANNA',\n",
       "        'PAPUM PARE', 'PARBHANI', 'PASHCHIM CHAMPARAN', 'PATAN',\n",
       "        'PATHANAMTHITTA', 'PATHANKOT', 'PATIALA', 'PATNA', 'PAURI GARHWAL',\n",
       "        'PERAMBALUR', 'PEREN', 'PHEK', 'PILIBHIT', 'PITHORAGARH',\n",
       "        'PONDICHERRY', 'POONCH', 'PORBANDAR', 'PRAKASAM', 'PRATAPGARH',\n",
       "        'PUDUKKOTTAI', 'PULWAMA', 'PUNE', 'PURBI CHAMPARAN', 'PURI',\n",
       "        'PURNIA', 'PURULIA', 'RAE BARELI', 'RAICHUR', 'RAIGAD', 'RAIGARH',\n",
       "        'RAIPUR', 'RAISEN', 'RAJAURI', 'RAJGARH', 'RAJKOT', 'RAJNANDGAON',\n",
       "        'RAJSAMAND', 'RAMANAGARA', 'RAMANATHAPURAM', 'RAMBAN', 'RAMGARH',\n",
       "        'RAMPUR', 'RANCHI', 'RANGAREDDI', 'RATLAM', 'RATNAGIRI',\n",
       "        'RAYAGADA', 'REASI', 'REWA', 'REWARI', 'RI BHOI', 'ROHTAK',\n",
       "        'ROHTAS', 'RUDRA PRAYAG', 'RUPNAGAR', 'S.A.S NAGAR',\n",
       "        'SABAR KANTHA', 'SAGAR', 'SAHARANPUR', 'SAHARSA', 'SAHEBGANJ',\n",
       "        'SAIHA', 'SALEM', 'SAMASTIPUR', 'SAMBA', 'SAMBALPUR', 'SAMBHAL',\n",
       "        'SANGLI', 'SANGRUR', 'SANT KABEER NAGAR', 'SANT RAVIDAS NAGAR',\n",
       "        'SARAIKELA KHARSAWAN', 'SARAN', 'SATARA', 'SATNA',\n",
       "        'SAWAI MADHOPUR', 'SEHORE', 'SENAPATI', 'SEONI', 'SEPAHIJALA',\n",
       "        'SERCHHIP', 'SHAHDOL', 'SHAHJAHANPUR', 'SHAJAPUR', 'SHAMLI',\n",
       "        'SHEIKHPURA', 'SHEOHAR', 'SHEOPUR', 'SHIMLA', 'SHIMOGA',\n",
       "        'SHIVPURI', 'SHOPIAN', 'SHRAVASTI', 'SIDDHARTH NAGAR', 'SIDHI',\n",
       "        'SIKAR', 'SIMDEGA', 'SINDHUDURG', 'SINGRAULI', 'SIRMAUR', 'SIROHI',\n",
       "        'SIRSA', 'SITAMARHI', 'SITAPUR', 'SIVAGANGA', 'SIVASAGAR', 'SIWAN',\n",
       "        'SOLAN', 'SOLAPUR', 'SONBHADRA', 'SONEPUR', 'SONIPAT', 'SONITPUR',\n",
       "        'SOUTH ANDAMANS', 'SOUTH DISTRICT', 'SOUTH GARO HILLS',\n",
       "        'SOUTH GOA', 'SOUTH TRIPURA', 'SOUTH WEST GARO HILLS',\n",
       "        'SOUTH WEST KHASI HILLS', 'SPSR NELLORE', 'SRIKAKULAM', 'SRINAGAR',\n",
       "        'SUKMA', 'SULTANPUR', 'SUNDARGARH', 'SUPAUL', 'SURAJPUR', 'SURAT',\n",
       "        'SURENDRANAGAR', 'SURGUJA', 'TAMENGLONG', 'TAPI', 'TARN TARAN',\n",
       "        'TAWANG', 'TEHRI GARHWAL', 'THANE', 'THANJAVUR', 'THE NILGIRIS',\n",
       "        'THENI', 'THIRUVALLUR', 'THIRUVANANTHAPURAM', 'THIRUVARUR',\n",
       "        'THOUBAL', 'THRISSUR', 'TIKAMGARH', 'TINSUKIA', 'TIRAP',\n",
       "        'TIRUCHIRAPPALLI', 'TIRUNELVELI', 'TIRUPPUR', 'TIRUVANNAMALAI',\n",
       "        'TONK', 'TUENSANG', 'TUMKUR', 'TUTICORIN', 'UDAIPUR', 'UDALGURI',\n",
       "        'UDAM SINGH NAGAR', 'UDHAMPUR', 'UDUPI', 'UJJAIN', 'UKHRUL',\n",
       "        'UMARIA', 'UNA', 'UNAKOTI', 'UNNAO', 'UPPER SIANG',\n",
       "        'UPPER SUBANSIRI', 'UTTAR KANNAD', 'UTTAR KASHI', 'VADODARA',\n",
       "        'VAISHALI', 'VALSAD', 'VARANASI', 'VELLORE', 'VIDISHA',\n",
       "        'VILLUPURAM', 'VIRUDHUNAGAR', 'VISAKHAPATANAM', 'VIZIANAGARAM',\n",
       "        'WARANGAL', 'WARDHA', 'WASHIM', 'WAYANAD', 'WEST DISTRICT',\n",
       "        'WEST GARO HILLS', 'WEST GODAVARI', 'WEST JAINTIA HILLS',\n",
       "        'WEST KAMENG', 'WEST KHASI HILLS', 'WEST SIANG', 'WEST SINGHBHUM',\n",
       "        'WEST TRIPURA', 'WOKHA', 'YADGIR', 'YAMUNANAGAR', 'YANAM',\n",
       "        'YAVATMAL', 'ZUNHEBOTO'], dtype=object),\n",
       " 'Season': array(['Autumn     ', 'Kharif     ', 'Rabi       ', 'Summer     ',\n",
       "        'Whole Year ', 'Winter     '], dtype=object),\n",
       " 'Crop': array(['Apple', 'Arcanut (Processed)', 'Arecanut', 'Arhar/Tur',\n",
       "        'Ash Gourd', 'Atcanut (Raw)', 'Bajra', 'Banana', 'Barley', 'Bean',\n",
       "        'Beans & Mutter(Vegetable)', 'Beet Root', 'Ber', 'Bhindi',\n",
       "        'Bitter Gourd', 'Black pepper', 'Blackgram', 'Bottle Gourd',\n",
       "        'Brinjal', 'Cabbage', 'Cardamom', 'Carrot', 'Cashewnut',\n",
       "        'Cashewnut Processed', 'Cashewnut Raw', 'Castor seed',\n",
       "        'Cauliflower', 'Citrus Fruit', 'Coconut ', 'Coffee', 'Colocosia',\n",
       "        'Cond-spcs other', 'Coriander', 'Cotton(lint)', 'Cowpea(Lobia)',\n",
       "        'Cucumber', 'Drum Stick', 'Dry chillies', 'Dry ginger', 'Garlic',\n",
       "        'Ginger', 'Gram', 'Grapes', 'Groundnut', 'Guar seed', 'Horse-gram',\n",
       "        'Jack Fruit', 'Jobster', 'Jowar', 'Jute', 'Jute & mesta', 'Kapas',\n",
       "        'Khesari', 'Korra', 'Lab-Lab', 'Lemon', 'Lentil', 'Linseed',\n",
       "        'Litchi', 'Maize', 'Mango', 'Masoor', 'Mesta', 'Moong(Green Gram)',\n",
       "        'Moth', 'Niger seed', 'Oilseeds total', 'Onion', 'Orange',\n",
       "        'Other  Rabi pulses', 'Other Cereals & Millets',\n",
       "        'Other Citrus Fruit', 'Other Dry Fruit', 'Other Fresh Fruits',\n",
       "        'Other Kharif pulses', 'Other Vegetables', 'Paddy', 'Papaya',\n",
       "        'Peach', 'Pear', 'Peas  (vegetable)', 'Peas & beans (Pulses)',\n",
       "        'Perilla', 'Pineapple', 'Plums', 'Pome Fruit', 'Pome Granet',\n",
       "        'Potato', 'Pulses total', 'Pump Kin', 'Ragi', 'Rajmash Kholar',\n",
       "        'Rapeseed &Mustard', 'Redish', 'Ribed Guard', 'Rice',\n",
       "        'Ricebean (nagadal)', 'Rubber', 'Safflower', 'Samai', 'Sannhamp',\n",
       "        'Sapota', 'Sesamum', 'Small millets', 'Snak Guard', 'Soyabean',\n",
       "        'Sugarcane', 'Sunflower', 'Sweet potato', 'Tapioca', 'Tea',\n",
       "        'Tobacco', 'Tomato', 'Total foodgrain', 'Turmeric', 'Turnip',\n",
       "        'Urad', 'Varagu', 'Water Melon', 'Wheat', 'Yam', 'other fibres',\n",
       "        'other misc. pulses', 'other oilseeds'], dtype=object)}"
      ]
     },
     "execution_count": 24,
     "metadata": {},
     "output_type": "execute_result"
    }
   ],
   "source": [
    "labels"
   ]
  },
  {
   "cell_type": "code",
   "execution_count": 25,
   "id": "703505b2",
   "metadata": {},
   "outputs": [
    {
     "name": "stdout",
     "output_type": "stream",
     "text": [
      "<class 'pandas.core.frame.DataFrame'>\n",
      "RangeIndex: 246091 entries, 0 to 246090\n",
      "Data columns (total 7 columns):\n",
      " #   Column         Non-Null Count   Dtype  \n",
      "---  ------         --------------   -----  \n",
      " 0   State_Name     246091 non-null  int64  \n",
      " 1   District_Name  246091 non-null  int64  \n",
      " 2   Crop_Year      246091 non-null  int64  \n",
      " 3   Season         246091 non-null  int64  \n",
      " 4   Crop           246091 non-null  int64  \n",
      " 5   Area           246091 non-null  float64\n",
      " 6   Production     246091 non-null  float64\n",
      "dtypes: float64(2), int64(5)\n",
      "memory usage: 13.1 MB\n"
     ]
    }
   ],
   "source": [
    "df.info()"
   ]
  },
  {
   "cell_type": "code",
   "execution_count": 26,
   "id": "17dbb6fc",
   "metadata": {},
   "outputs": [
    {
     "data": {
      "text/plain": [
       "State_Name       0\n",
       "District_Name    0\n",
       "Crop_Year        0\n",
       "Season           0\n",
       "Crop             0\n",
       "Area             0\n",
       "Production       0\n",
       "dtype: int64"
      ]
     },
     "execution_count": 26,
     "metadata": {},
     "output_type": "execute_result"
    }
   ],
   "source": [
    "df.isna().sum()"
   ]
  },
  {
   "cell_type": "code",
   "execution_count": 28,
   "id": "8ab0a929",
   "metadata": {},
   "outputs": [],
   "source": [
    "X = df.drop(\"Production\", axis=1)\n",
    "y = df[\"Production\"]\n",
    "\n",
    "X_train, X_test, y_train, y_test = train_test_split(X, y, test_size=0.2)"
   ]
  },
  {
   "cell_type": "markdown",
   "id": "221ec655",
   "metadata": {},
   "source": [
    "## Model Training"
   ]
  },
  {
   "cell_type": "code",
   "execution_count": 29,
   "id": "103dcc03",
   "metadata": {},
   "outputs": [
    {
     "data": {
      "text/plain": [
       "0.9588118976738894"
      ]
     },
     "execution_count": 29,
     "metadata": {},
     "output_type": "execute_result"
    }
   ],
   "source": [
    "rreg = RandomForestRegressor()\n",
    "rreg.fit(X_train, y_train).score(X_test, y_test)"
   ]
  },
  {
   "cell_type": "code",
   "execution_count": 30,
   "id": "cf28a3b8",
   "metadata": {},
   "outputs": [
    {
     "data": {
      "text/plain": [
       "0.9692566608632325"
      ]
     },
     "execution_count": 30,
     "metadata": {},
     "output_type": "execute_result"
    }
   ],
   "source": [
    "xreg = XGBRegressor()\n",
    "xreg.fit(X_train.values, y_train.values)\n",
    "xreg.score(X_test.values, y_test.values)"
   ]
  },
  {
   "cell_type": "markdown",
   "id": "04bd44e1",
   "metadata": {},
   "source": [
    "## Prediction"
   ]
  },
  {
   "cell_type": "code",
   "execution_count": 37,
   "id": "0218ed37",
   "metadata": {},
   "outputs": [
    {
     "data": {
      "text/plain": [
       "21"
      ]
     },
     "execution_count": 37,
     "metadata": {},
     "output_type": "execute_result"
    }
   ],
   "source": [
    "labels[\"Crop\"].tolist().index(\"Carrot\")"
   ]
  },
  {
   "cell_type": "code",
   "execution_count": 39,
   "id": "237d052b",
   "metadata": {},
   "outputs": [
    {
     "name": "stderr",
     "output_type": "stream",
     "text": [
      "/home/djoe/.local/lib/python3.10/site-packages/sklearn/base.py:450: UserWarning: X does not have valid feature names, but RandomForestRegressor was fitted with feature names\n",
      "  warnings.warn(\n"
     ]
    },
    {
     "data": {
      "text/plain": [
       "array([76171.36249263])"
      ]
     },
     "execution_count": 39,
     "metadata": {},
     "output_type": "execute_result"
    }
   ],
   "source": [
    "rreg.predict([[27, 595, 2023, 4, 21, 1200]])"
   ]
  },
  {
   "cell_type": "code",
   "execution_count": null,
   "id": "b3ef2373",
   "metadata": {},
   "outputs": [],
   "source": []
  }
 ],
 "metadata": {
  "kernelspec": {
   "display_name": "Python 3 (ipykernel)",
   "language": "python",
   "name": "python3"
  },
  "language_info": {
   "codemirror_mode": {
    "name": "ipython",
    "version": 3
   },
   "file_extension": ".py",
   "mimetype": "text/x-python",
   "name": "python",
   "nbconvert_exporter": "python",
   "pygments_lexer": "ipython3",
   "version": "3.10.4"
  }
 },
 "nbformat": 4,
 "nbformat_minor": 5
}
