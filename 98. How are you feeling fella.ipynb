{
  "cells": [
    {
      "cell_type": "code",
      "execution_count": null,
      "metadata": {
        "id": "Wc3fKh2CiSkP"
      },
      "outputs": [],
      "source": [
        "%%bash\n",
        "\n",
        "pip install -q kaggle\n",
        "mkdir -p ~/.kaggle\n",
        "cp drive/MyDrive/kaggle.json ~/.kaggle/\n",
        "chmod 600 /root/.kaggle/kaggle.json\n",
        "kaggle competitions download -c how-are-you-feeling-fellas\n",
        "unzip -qq how-are-you-feeling-fellas.zip"
      ]
    },
    {
      "cell_type": "markdown",
      "source": [
        "# How are you feeling Fellas (Kaggle Competition)"
      ],
      "metadata": {
        "id": "cnt1UCUbmEpV"
      }
    },
    {
      "cell_type": "markdown",
      "source": [
        "## Importing required modules"
      ],
      "metadata": {
        "id": "CXBJqiOvV__0"
      }
    },
    {
      "cell_type": "code",
      "source": [
        "import pandas as pd\n",
        "import numpy as np\n",
        "import PIL\n",
        "from tensorflow import keras\n",
        "import tensorflow as tf\n",
        "from matplotlib import pyplot as plt \n",
        "from sklearn.model_selection import train_test_split\n",
        "import pathlib\n",
        "from sklearn.preprocessing import LabelEncoder"
      ],
      "metadata": {
        "id": "ePKSSPzeWCkp"
      },
      "execution_count": 2,
      "outputs": []
    },
    {
      "cell_type": "code",
      "source": [
        "df = pd.read_csv(\"train_set.csv\")\n",
        "df.head()"
      ],
      "metadata": {
        "colab": {
          "base_uri": "https://localhost:8080/",
          "height": 206
        },
        "id": "oyeBmK4ZWQul",
        "outputId": "96df6a2a-6a8e-4bcf-ec78-f4ce55b3392b"
      },
      "execution_count": 3,
      "outputs": [
        {
          "output_type": "execute_result",
          "data": {
            "text/plain": [
              "   id_img                       paths  label\n",
              "0       0      data\\train\\angry\\0.jpg  angry\n",
              "1       1      data\\train\\angry\\1.jpg  angry\n",
              "2      10     data\\train\\angry\\10.jpg  angry\n",
              "3   10002  data\\train\\angry\\10002.jpg  angry\n",
              "4   10016  data\\train\\angry\\10016.jpg  angry"
            ],
            "text/html": [
              "\n",
              "  <div id=\"df-8af03845-4812-438b-9065-6135bf6fba71\">\n",
              "    <div class=\"colab-df-container\">\n",
              "      <div>\n",
              "<style scoped>\n",
              "    .dataframe tbody tr th:only-of-type {\n",
              "        vertical-align: middle;\n",
              "    }\n",
              "\n",
              "    .dataframe tbody tr th {\n",
              "        vertical-align: top;\n",
              "    }\n",
              "\n",
              "    .dataframe thead th {\n",
              "        text-align: right;\n",
              "    }\n",
              "</style>\n",
              "<table border=\"1\" class=\"dataframe\">\n",
              "  <thead>\n",
              "    <tr style=\"text-align: right;\">\n",
              "      <th></th>\n",
              "      <th>id_img</th>\n",
              "      <th>paths</th>\n",
              "      <th>label</th>\n",
              "    </tr>\n",
              "  </thead>\n",
              "  <tbody>\n",
              "    <tr>\n",
              "      <th>0</th>\n",
              "      <td>0</td>\n",
              "      <td>data\\train\\angry\\0.jpg</td>\n",
              "      <td>angry</td>\n",
              "    </tr>\n",
              "    <tr>\n",
              "      <th>1</th>\n",
              "      <td>1</td>\n",
              "      <td>data\\train\\angry\\1.jpg</td>\n",
              "      <td>angry</td>\n",
              "    </tr>\n",
              "    <tr>\n",
              "      <th>2</th>\n",
              "      <td>10</td>\n",
              "      <td>data\\train\\angry\\10.jpg</td>\n",
              "      <td>angry</td>\n",
              "    </tr>\n",
              "    <tr>\n",
              "      <th>3</th>\n",
              "      <td>10002</td>\n",
              "      <td>data\\train\\angry\\10002.jpg</td>\n",
              "      <td>angry</td>\n",
              "    </tr>\n",
              "    <tr>\n",
              "      <th>4</th>\n",
              "      <td>10016</td>\n",
              "      <td>data\\train\\angry\\10016.jpg</td>\n",
              "      <td>angry</td>\n",
              "    </tr>\n",
              "  </tbody>\n",
              "</table>\n",
              "</div>\n",
              "      <button class=\"colab-df-convert\" onclick=\"convertToInteractive('df-8af03845-4812-438b-9065-6135bf6fba71')\"\n",
              "              title=\"Convert this dataframe to an interactive table.\"\n",
              "              style=\"display:none;\">\n",
              "        \n",
              "  <svg xmlns=\"http://www.w3.org/2000/svg\" height=\"24px\"viewBox=\"0 0 24 24\"\n",
              "       width=\"24px\">\n",
              "    <path d=\"M0 0h24v24H0V0z\" fill=\"none\"/>\n",
              "    <path d=\"M18.56 5.44l.94 2.06.94-2.06 2.06-.94-2.06-.94-.94-2.06-.94 2.06-2.06.94zm-11 1L8.5 8.5l.94-2.06 2.06-.94-2.06-.94L8.5 2.5l-.94 2.06-2.06.94zm10 10l.94 2.06.94-2.06 2.06-.94-2.06-.94-.94-2.06-.94 2.06-2.06.94z\"/><path d=\"M17.41 7.96l-1.37-1.37c-.4-.4-.92-.59-1.43-.59-.52 0-1.04.2-1.43.59L10.3 9.45l-7.72 7.72c-.78.78-.78 2.05 0 2.83L4 21.41c.39.39.9.59 1.41.59.51 0 1.02-.2 1.41-.59l7.78-7.78 2.81-2.81c.8-.78.8-2.07 0-2.86zM5.41 20L4 18.59l7.72-7.72 1.47 1.35L5.41 20z\"/>\n",
              "  </svg>\n",
              "      </button>\n",
              "      \n",
              "  <style>\n",
              "    .colab-df-container {\n",
              "      display:flex;\n",
              "      flex-wrap:wrap;\n",
              "      gap: 12px;\n",
              "    }\n",
              "\n",
              "    .colab-df-convert {\n",
              "      background-color: #E8F0FE;\n",
              "      border: none;\n",
              "      border-radius: 50%;\n",
              "      cursor: pointer;\n",
              "      display: none;\n",
              "      fill: #1967D2;\n",
              "      height: 32px;\n",
              "      padding: 0 0 0 0;\n",
              "      width: 32px;\n",
              "    }\n",
              "\n",
              "    .colab-df-convert:hover {\n",
              "      background-color: #E2EBFA;\n",
              "      box-shadow: 0px 1px 2px rgba(60, 64, 67, 0.3), 0px 1px 3px 1px rgba(60, 64, 67, 0.15);\n",
              "      fill: #174EA6;\n",
              "    }\n",
              "\n",
              "    [theme=dark] .colab-df-convert {\n",
              "      background-color: #3B4455;\n",
              "      fill: #D2E3FC;\n",
              "    }\n",
              "\n",
              "    [theme=dark] .colab-df-convert:hover {\n",
              "      background-color: #434B5C;\n",
              "      box-shadow: 0px 1px 3px 1px rgba(0, 0, 0, 0.15);\n",
              "      filter: drop-shadow(0px 1px 2px rgba(0, 0, 0, 0.3));\n",
              "      fill: #FFFFFF;\n",
              "    }\n",
              "  </style>\n",
              "\n",
              "      <script>\n",
              "        const buttonEl =\n",
              "          document.querySelector('#df-8af03845-4812-438b-9065-6135bf6fba71 button.colab-df-convert');\n",
              "        buttonEl.style.display =\n",
              "          google.colab.kernel.accessAllowed ? 'block' : 'none';\n",
              "\n",
              "        async function convertToInteractive(key) {\n",
              "          const element = document.querySelector('#df-8af03845-4812-438b-9065-6135bf6fba71');\n",
              "          const dataTable =\n",
              "            await google.colab.kernel.invokeFunction('convertToInteractive',\n",
              "                                                     [key], {});\n",
              "          if (!dataTable) return;\n",
              "\n",
              "          const docLinkHtml = 'Like what you see? Visit the ' +\n",
              "            '<a target=\"_blank\" href=https://colab.research.google.com/notebooks/data_table.ipynb>data table notebook</a>'\n",
              "            + ' to learn more about interactive tables.';\n",
              "          element.innerHTML = '';\n",
              "          dataTable['output_type'] = 'display_data';\n",
              "          await google.colab.output.renderOutput(dataTable, element);\n",
              "          const docLink = document.createElement('div');\n",
              "          docLink.innerHTML = docLinkHtml;\n",
              "          element.appendChild(docLink);\n",
              "        }\n",
              "      </script>\n",
              "    </div>\n",
              "  </div>\n",
              "  "
            ]
          },
          "metadata": {},
          "execution_count": 3
        }
      ]
    },
    {
      "cell_type": "code",
      "source": [
        "df[\"paths\"] = df[\"paths\"].str.replace(\"\\\\\", \"/\")"
      ],
      "metadata": {
        "colab": {
          "base_uri": "https://localhost:8080/"
        },
        "id": "lroFvfxiW_eC",
        "outputId": "9cdb6bc6-3f5b-4b56-de1a-c692c4222794"
      },
      "execution_count": 4,
      "outputs": [
        {
          "output_type": "stream",
          "name": "stderr",
          "text": [
            "<ipython-input-4-54a71692010b>:1: FutureWarning: The default value of regex will change from True to False in a future version. In addition, single character regular expressions will *not* be treated as literal strings when regex=True.\n",
            "  df[\"paths\"] = df[\"paths\"].str.replace(\"\\\\\", \"/\")\n"
          ]
        }
      ]
    },
    {
      "cell_type": "code",
      "source": [
        "le = LabelEncoder()\n",
        "df[\"label\"] = le.fit_transform(df[\"label\"])\n",
        "print(le.classes_)"
      ],
      "metadata": {
        "colab": {
          "base_uri": "https://localhost:8080/"
        },
        "id": "aNzfZQz_ZrnQ",
        "outputId": "f6c188e2-9888-4fc9-dd5e-5c270eed465d"
      },
      "execution_count": 5,
      "outputs": [
        {
          "output_type": "stream",
          "name": "stdout",
          "text": [
            "['angry' 'disgust' 'fear' 'happy' 'neutral' 'sad' 'surprise']\n"
          ]
        }
      ]
    },
    {
      "cell_type": "code",
      "source": [
        "X = df[\"paths\"]\n",
        "y = df[\"label\"]"
      ],
      "metadata": {
        "id": "O2kqEODbXByz"
      },
      "execution_count": 6,
      "outputs": []
    },
    {
      "cell_type": "code",
      "source": [
        "def preprocess_image(X, y):\n",
        "  X_preprocessed = []\n",
        "  y_preprocessed = []\n",
        "  for df_img in range(len(X)):\n",
        "    try:\n",
        "      image = tf.io.read_file(X[df_img])\n",
        "      image = tf.image.decode_jpeg(image, channels=3)\n",
        "      image = tf.image.resize(image, (64, 64))\n",
        "      image /= 255.0\n",
        "      X_preprocessed.append(image)\n",
        "      y_preprocessed.append(y[df_img])\n",
        "    except:\n",
        "      filename = X[df_img]\n",
        "      print(\"[-] Error in converting file : \", filename)\n",
        "      pass\n",
        "  \n",
        "  return X_preprocessed, y_preprocessed"
      ],
      "metadata": {
        "id": "HRK16TqLZKSf"
      },
      "execution_count": 7,
      "outputs": []
    },
    {
      "cell_type": "code",
      "source": [
        "X.values[0]"
      ],
      "metadata": {
        "colab": {
          "base_uri": "https://localhost:8080/",
          "height": 36
        },
        "id": "LFzx4cvZcymO",
        "outputId": "eaa9e7a7-a5a6-4bec-dc8f-66cae0dd4c4d"
      },
      "execution_count": 8,
      "outputs": [
        {
          "output_type": "execute_result",
          "data": {
            "text/plain": [
              "'data/train/angry/0.jpg'"
            ],
            "application/vnd.google.colaboratory.intrinsic+json": {
              "type": "string"
            }
          },
          "metadata": {},
          "execution_count": 8
        }
      ]
    },
    {
      "cell_type": "code",
      "source": [
        "X, y = preprocess_image(X.values, y.values)"
      ],
      "metadata": {
        "id": "tZtxdEHnbZxr"
      },
      "execution_count": 9,
      "outputs": []
    },
    {
      "cell_type": "code",
      "source": [
        "X = np.array(X)\n",
        "y = np.array(y)"
      ],
      "metadata": {
        "id": "wsmHhVqPc7Lb"
      },
      "execution_count": 10,
      "outputs": []
    },
    {
      "cell_type": "code",
      "source": [
        "base_model = tf.keras.applications.VGG16(weights=\"imagenet\", include_top=False, input_shape=(64, 64, 3))\n",
        "base_model.trainable = False"
      ],
      "metadata": {
        "id": "QOpXe1Nfe1c5"
      },
      "execution_count": 11,
      "outputs": []
    },
    {
      "cell_type": "code",
      "source": [
        "inputs = tf.keras.layers.Input(shape=(64, 64, 3))\n",
        "x = base_model(inputs)\n",
        "x = tf.keras.layers.Flatten()(x)\n",
        "x = tf.keras.layers.Dense(512, activation=\"relu\")(x)\n",
        "x = tf.keras.layers.Dropout(0.5)(x)\n",
        "outputs = tf.keras.layers.Dense(7, activation=\"sigmoid\")(x)\n",
        "\n",
        "model = tf.keras.Model(inputs=inputs, outputs=outputs)"
      ],
      "metadata": {
        "id": "1IwKKhm6feBF"
      },
      "execution_count": 12,
      "outputs": []
    },
    {
      "cell_type": "code",
      "source": [
        "model.summary()"
      ],
      "metadata": {
        "colab": {
          "base_uri": "https://localhost:8080/"
        },
        "id": "EnjxARZufmDp",
        "outputId": "9d0cb67a-ed53-4eb8-e41a-7bd30b723033"
      },
      "execution_count": 13,
      "outputs": [
        {
          "output_type": "stream",
          "name": "stdout",
          "text": [
            "Model: \"model\"\n",
            "_________________________________________________________________\n",
            " Layer (type)                Output Shape              Param #   \n",
            "=================================================================\n",
            " input_2 (InputLayer)        [(None, 64, 64, 3)]       0         \n",
            "                                                                 \n",
            " vgg16 (Functional)          (None, 2, 2, 512)         14714688  \n",
            "                                                                 \n",
            " flatten (Flatten)           (None, 2048)              0         \n",
            "                                                                 \n",
            " dense (Dense)               (None, 512)               1049088   \n",
            "                                                                 \n",
            " dropout (Dropout)           (None, 512)               0         \n",
            "                                                                 \n",
            " dense_1 (Dense)             (None, 7)                 3591      \n",
            "                                                                 \n",
            "=================================================================\n",
            "Total params: 15,767,367\n",
            "Trainable params: 1,052,679\n",
            "Non-trainable params: 14,714,688\n",
            "_________________________________________________________________\n"
          ]
        }
      ]
    },
    {
      "cell_type": "code",
      "source": [
        "model.compile(optimizer=\"adam\", loss=\"sparse_categorical_crossentropy\", metrics=[\"accuracy\"])"
      ],
      "metadata": {
        "id": "w8hvOju9fnwJ"
      },
      "execution_count": 14,
      "outputs": []
    },
    {
      "cell_type": "code",
      "source": [
        "from tensorflow.keras.callbacks import EarlyStopping\n",
        "early_stop = EarlyStopping(monitor='val_loss', patience=5, verbose=1, mode='min')"
      ],
      "metadata": {
        "id": "Lzg3-Uzahhnb"
      },
      "execution_count": 15,
      "outputs": []
    },
    {
      "cell_type": "code",
      "source": [
        "history = model.fit(X, y, epochs=120, callbacks=[early_stop])"
      ],
      "metadata": {
        "colab": {
          "base_uri": "https://localhost:8080/"
        },
        "id": "YUZ_2zk0fpOM",
        "outputId": "9f76d377-18cc-4f6a-c9fe-1c0c7221c9c6"
      },
      "execution_count": 16,
      "outputs": [
        {
          "output_type": "stream",
          "name": "stdout",
          "text": [
            "Epoch 1/120\n",
            "901/901 [==============================] - ETA: 0s - loss: 1.6499 - accuracy: 0.3519"
          ]
        },
        {
          "output_type": "stream",
          "name": "stderr",
          "text": [
            "WARNING:tensorflow:Early stopping conditioned on metric `val_loss` which is not available. Available metrics are: loss,accuracy\n"
          ]
        },
        {
          "output_type": "stream",
          "name": "stdout",
          "text": [
            "\b\b\b\b\b\b\b\b\b\b\b\b\b\b\b\b\b\b\b\b\b\b\b\b\b\b\b\b\b\b\b\b\b\b\b\b\b\b\b\b\b\b\b\b\b\b\b\b\b\b\b\b\b\b\b\b\b\b\b\b\b\b\b\b\b\b\b\b\b\b\b\b\b\b\b\b\b\b\b\b\b\b\b\b\r901/901 [==============================] - 18s 16ms/step - loss: 1.6499 - accuracy: 0.3519\n",
            "Epoch 2/120\n",
            "899/901 [============================>.] - ETA: 0s - loss: 1.5490 - accuracy: 0.3966"
          ]
        },
        {
          "output_type": "stream",
          "name": "stderr",
          "text": [
            "WARNING:tensorflow:Early stopping conditioned on metric `val_loss` which is not available. Available metrics are: loss,accuracy\n"
          ]
        },
        {
          "output_type": "stream",
          "name": "stdout",
          "text": [
            "\b\b\b\b\b\b\b\b\b\b\b\b\b\b\b\b\b\b\b\b\b\b\b\b\b\b\b\b\b\b\b\b\b\b\b\b\b\b\b\b\b\b\b\b\b\b\b\b\b\b\b\b\b\b\b\b\b\b\b\b\b\b\b\b\b\b\b\b\b\b\b\b\b\b\b\b\b\b\b\b\b\b\b\b\r901/901 [==============================] - 14s 15ms/step - loss: 1.5491 - accuracy: 0.3965\n",
            "Epoch 3/120\n",
            "901/901 [==============================] - ETA: 0s - loss: 1.5105 - accuracy: 0.4128"
          ]
        },
        {
          "output_type": "stream",
          "name": "stderr",
          "text": [
            "WARNING:tensorflow:Early stopping conditioned on metric `val_loss` which is not available. Available metrics are: loss,accuracy\n"
          ]
        },
        {
          "output_type": "stream",
          "name": "stdout",
          "text": [
            "\b\b\b\b\b\b\b\b\b\b\b\b\b\b\b\b\b\b\b\b\b\b\b\b\b\b\b\b\b\b\b\b\b\b\b\b\b\b\b\b\b\b\b\b\b\b\b\b\b\b\b\b\b\b\b\b\b\b\b\b\b\b\b\b\b\b\b\b\b\b\b\b\b\b\b\b\b\b\b\b\b\b\b\b\r901/901 [==============================] - 14s 15ms/step - loss: 1.5105 - accuracy: 0.4128\n",
            "Epoch 4/120\n",
            "899/901 [============================>.] - ETA: 0s - loss: 1.4820 - accuracy: 0.4278"
          ]
        },
        {
          "output_type": "stream",
          "name": "stderr",
          "text": [
            "WARNING:tensorflow:Early stopping conditioned on metric `val_loss` which is not available. Available metrics are: loss,accuracy\n"
          ]
        },
        {
          "output_type": "stream",
          "name": "stdout",
          "text": [
            "\b\b\b\b\b\b\b\b\b\b\b\b\b\b\b\b\b\b\b\b\b\b\b\b\b\b\b\b\b\b\b\b\b\b\b\b\b\b\b\b\b\b\b\b\b\b\b\b\b\b\b\b\b\b\b\b\b\b\b\b\b\b\b\b\b\b\b\b\b\b\b\b\b\b\b\b\b\b\b\b\b\b\b\b\r901/901 [==============================] - 14s 16ms/step - loss: 1.4819 - accuracy: 0.4278\n",
            "Epoch 5/120\n",
            "898/901 [============================>.] - ETA: 0s - loss: 1.4530 - accuracy: 0.4390"
          ]
        },
        {
          "output_type": "stream",
          "name": "stderr",
          "text": [
            "WARNING:tensorflow:Early stopping conditioned on metric `val_loss` which is not available. Available metrics are: loss,accuracy\n"
          ]
        },
        {
          "output_type": "stream",
          "name": "stdout",
          "text": [
            "\b\b\b\b\b\b\b\b\b\b\b\b\b\b\b\b\b\b\b\b\b\b\b\b\b\b\b\b\b\b\b\b\b\b\b\b\b\b\b\b\b\b\b\b\b\b\b\b\b\b\b\b\b\b\b\b\b\b\b\b\b\b\b\b\b\b\b\b\b\b\b\b\b\b\b\b\b\b\b\b\b\b\b\b\r901/901 [==============================] - 14s 15ms/step - loss: 1.4532 - accuracy: 0.4389\n",
            "Epoch 6/120\n",
            "900/901 [============================>.] - ETA: 0s - loss: 1.4306 - accuracy: 0.4449"
          ]
        },
        {
          "output_type": "stream",
          "name": "stderr",
          "text": [
            "WARNING:tensorflow:Early stopping conditioned on metric `val_loss` which is not available. Available metrics are: loss,accuracy\n"
          ]
        },
        {
          "output_type": "stream",
          "name": "stdout",
          "text": [
            "\b\b\b\b\b\b\b\b\b\b\b\b\b\b\b\b\b\b\b\b\b\b\b\b\b\b\b\b\b\b\b\b\b\b\b\b\b\b\b\b\b\b\b\b\b\b\b\b\b\b\b\b\b\b\b\b\b\b\b\b\b\b\b\b\b\b\b\b\b\b\b\b\b\b\b\b\b\b\b\b\b\b\b\b\r901/901 [==============================] - 14s 15ms/step - loss: 1.4308 - accuracy: 0.4449\n",
            "Epoch 7/120\n",
            "901/901 [==============================] - ETA: 0s - loss: 1.4121 - accuracy: 0.4545"
          ]
        },
        {
          "output_type": "stream",
          "name": "stderr",
          "text": [
            "WARNING:tensorflow:Early stopping conditioned on metric `val_loss` which is not available. Available metrics are: loss,accuracy\n"
          ]
        },
        {
          "output_type": "stream",
          "name": "stdout",
          "text": [
            "\b\b\b\b\b\b\b\b\b\b\b\b\b\b\b\b\b\b\b\b\b\b\b\b\b\b\b\b\b\b\b\b\b\b\b\b\b\b\b\b\b\b\b\b\b\b\b\b\b\b\b\b\b\b\b\b\b\b\b\b\b\b\b\b\b\b\b\b\b\b\b\b\b\b\b\b\b\b\b\b\b\b\b\b\r901/901 [==============================] - 14s 15ms/step - loss: 1.4121 - accuracy: 0.4545\n",
            "Epoch 8/120\n",
            "900/901 [============================>.] - ETA: 0s - loss: 1.3878 - accuracy: 0.4636"
          ]
        },
        {
          "output_type": "stream",
          "name": "stderr",
          "text": [
            "WARNING:tensorflow:Early stopping conditioned on metric `val_loss` which is not available. Available metrics are: loss,accuracy\n"
          ]
        },
        {
          "output_type": "stream",
          "name": "stdout",
          "text": [
            "\b\b\b\b\b\b\b\b\b\b\b\b\b\b\b\b\b\b\b\b\b\b\b\b\b\b\b\b\b\b\b\b\b\b\b\b\b\b\b\b\b\b\b\b\b\b\b\b\b\b\b\b\b\b\b\b\b\b\b\b\b\b\b\b\b\b\b\b\b\b\b\b\b\b\b\b\b\b\b\b\b\b\b\b\r901/901 [==============================] - 14s 15ms/step - loss: 1.3876 - accuracy: 0.4638\n",
            "Epoch 9/120\n",
            "898/901 [============================>.] - ETA: 0s - loss: 1.3760 - accuracy: 0.4726"
          ]
        },
        {
          "output_type": "stream",
          "name": "stderr",
          "text": [
            "WARNING:tensorflow:Early stopping conditioned on metric `val_loss` which is not available. Available metrics are: loss,accuracy\n"
          ]
        },
        {
          "output_type": "stream",
          "name": "stdout",
          "text": [
            "\b\b\b\b\b\b\b\b\b\b\b\b\b\b\b\b\b\b\b\b\b\b\b\b\b\b\b\b\b\b\b\b\b\b\b\b\b\b\b\b\b\b\b\b\b\b\b\b\b\b\b\b\b\b\b\b\b\b\b\b\b\b\b\b\b\b\b\b\b\b\b\b\b\b\b\b\b\b\b\b\b\b\b\b\r901/901 [==============================] - 14s 15ms/step - loss: 1.3761 - accuracy: 0.4726\n",
            "Epoch 10/120\n",
            "898/901 [============================>.] - ETA: 0s - loss: 1.3593 - accuracy: 0.4778"
          ]
        },
        {
          "output_type": "stream",
          "name": "stderr",
          "text": [
            "WARNING:tensorflow:Early stopping conditioned on metric `val_loss` which is not available. Available metrics are: loss,accuracy\n"
          ]
        },
        {
          "output_type": "stream",
          "name": "stdout",
          "text": [
            "\b\b\b\b\b\b\b\b\b\b\b\b\b\b\b\b\b\b\b\b\b\b\b\b\b\b\b\b\b\b\b\b\b\b\b\b\b\b\b\b\b\b\b\b\b\b\b\b\b\b\b\b\b\b\b\b\b\b\b\b\b\b\b\b\b\b\b\b\b\b\b\b\b\b\b\b\b\b\b\b\b\b\b\b\r901/901 [==============================] - 14s 15ms/step - loss: 1.3589 - accuracy: 0.4780\n",
            "Epoch 11/120\n",
            "899/901 [============================>.] - ETA: 0s - loss: 1.3357 - accuracy: 0.4843"
          ]
        },
        {
          "output_type": "stream",
          "name": "stderr",
          "text": [
            "WARNING:tensorflow:Early stopping conditioned on metric `val_loss` which is not available. Available metrics are: loss,accuracy\n"
          ]
        },
        {
          "output_type": "stream",
          "name": "stdout",
          "text": [
            "\b\b\b\b\b\b\b\b\b\b\b\b\b\b\b\b\b\b\b\b\b\b\b\b\b\b\b\b\b\b\b\b\b\b\b\b\b\b\b\b\b\b\b\b\b\b\b\b\b\b\b\b\b\b\b\b\b\b\b\b\b\b\b\b\b\b\b\b\b\b\b\b\b\b\b\b\b\b\b\b\b\b\b\b\r901/901 [==============================] - 14s 15ms/step - loss: 1.3355 - accuracy: 0.4843\n",
            "Epoch 12/120\n",
            "899/901 [============================>.] - ETA: 0s - loss: 1.3259 - accuracy: 0.4896"
          ]
        },
        {
          "output_type": "stream",
          "name": "stderr",
          "text": [
            "WARNING:tensorflow:Early stopping conditioned on metric `val_loss` which is not available. Available metrics are: loss,accuracy\n"
          ]
        },
        {
          "output_type": "stream",
          "name": "stdout",
          "text": [
            "\b\b\b\b\b\b\b\b\b\b\b\b\b\b\b\b\b\b\b\b\b\b\b\b\b\b\b\b\b\b\b\b\b\b\b\b\b\b\b\b\b\b\b\b\b\b\b\b\b\b\b\b\b\b\b\b\b\b\b\b\b\b\b\b\b\b\b\b\b\b\b\b\b\b\b\b\b\b\b\b\b\b\b\b\r901/901 [==============================] - 14s 15ms/step - loss: 1.3259 - accuracy: 0.4897\n",
            "Epoch 13/120\n",
            "900/901 [============================>.] - ETA: 0s - loss: 1.3073 - accuracy: 0.4956"
          ]
        },
        {
          "output_type": "stream",
          "name": "stderr",
          "text": [
            "WARNING:tensorflow:Early stopping conditioned on metric `val_loss` which is not available. Available metrics are: loss,accuracy\n"
          ]
        },
        {
          "output_type": "stream",
          "name": "stdout",
          "text": [
            "\b\b\b\b\b\b\b\b\b\b\b\b\b\b\b\b\b\b\b\b\b\b\b\b\b\b\b\b\b\b\b\b\b\b\b\b\b\b\b\b\b\b\b\b\b\b\b\b\b\b\b\b\b\b\b\b\b\b\b\b\b\b\b\b\b\b\b\b\b\b\b\b\b\b\b\b\b\b\b\b\b\b\b\b\r901/901 [==============================] - 14s 15ms/step - loss: 1.3073 - accuracy: 0.4955\n",
            "Epoch 14/120\n",
            "901/901 [==============================] - ETA: 0s - loss: 1.2880 - accuracy: 0.5052"
          ]
        },
        {
          "output_type": "stream",
          "name": "stderr",
          "text": [
            "WARNING:tensorflow:Early stopping conditioned on metric `val_loss` which is not available. Available metrics are: loss,accuracy\n"
          ]
        },
        {
          "output_type": "stream",
          "name": "stdout",
          "text": [
            "\b\b\b\b\b\b\b\b\b\b\b\b\b\b\b\b\b\b\b\b\b\b\b\b\b\b\b\b\b\b\b\b\b\b\b\b\b\b\b\b\b\b\b\b\b\b\b\b\b\b\b\b\b\b\b\b\b\b\b\b\b\b\b\b\b\b\b\b\b\b\b\b\b\b\b\b\b\b\b\b\b\b\b\b\r901/901 [==============================] - 14s 15ms/step - loss: 1.2880 - accuracy: 0.5052\n",
            "Epoch 15/120\n",
            "901/901 [==============================] - ETA: 0s - loss: 1.2767 - accuracy: 0.5093"
          ]
        },
        {
          "output_type": "stream",
          "name": "stderr",
          "text": [
            "WARNING:tensorflow:Early stopping conditioned on metric `val_loss` which is not available. Available metrics are: loss,accuracy\n"
          ]
        },
        {
          "output_type": "stream",
          "name": "stdout",
          "text": [
            "\b\b\b\b\b\b\b\b\b\b\b\b\b\b\b\b\b\b\b\b\b\b\b\b\b\b\b\b\b\b\b\b\b\b\b\b\b\b\b\b\b\b\b\b\b\b\b\b\b\b\b\b\b\b\b\b\b\b\b\b\b\b\b\b\b\b\b\b\b\b\b\b\b\b\b\b\b\b\b\b\b\b\b\b\r901/901 [==============================] - 14s 15ms/step - loss: 1.2767 - accuracy: 0.5093\n",
            "Epoch 16/120\n",
            "898/901 [============================>.] - ETA: 0s - loss: 1.2679 - accuracy: 0.5107"
          ]
        },
        {
          "output_type": "stream",
          "name": "stderr",
          "text": [
            "WARNING:tensorflow:Early stopping conditioned on metric `val_loss` which is not available. Available metrics are: loss,accuracy\n"
          ]
        },
        {
          "output_type": "stream",
          "name": "stdout",
          "text": [
            "\b\b\b\b\b\b\b\b\b\b\b\b\b\b\b\b\b\b\b\b\b\b\b\b\b\b\b\b\b\b\b\b\b\b\b\b\b\b\b\b\b\b\b\b\b\b\b\b\b\b\b\b\b\b\b\b\b\b\b\b\b\b\b\b\b\b\b\b\b\b\b\b\b\b\b\b\b\b\b\b\b\b\b\b\r901/901 [==============================] - 14s 16ms/step - loss: 1.2681 - accuracy: 0.5105\n",
            "Epoch 17/120\n",
            "898/901 [============================>.] - ETA: 0s - loss: 1.2541 - accuracy: 0.5172"
          ]
        },
        {
          "output_type": "stream",
          "name": "stderr",
          "text": [
            "WARNING:tensorflow:Early stopping conditioned on metric `val_loss` which is not available. Available metrics are: loss,accuracy\n"
          ]
        },
        {
          "output_type": "stream",
          "name": "stdout",
          "text": [
            "\b\b\b\b\b\b\b\b\b\b\b\b\b\b\b\b\b\b\b\b\b\b\b\b\b\b\b\b\b\b\b\b\b\b\b\b\b\b\b\b\b\b\b\b\b\b\b\b\b\b\b\b\b\b\b\b\b\b\b\b\b\b\b\b\b\b\b\b\b\b\b\b\b\b\b\b\b\b\b\b\b\b\b\b\r901/901 [==============================] - 14s 15ms/step - loss: 1.2542 - accuracy: 0.5169\n",
            "Epoch 18/120\n",
            "898/901 [============================>.] - ETA: 0s - loss: 1.2351 - accuracy: 0.5241"
          ]
        },
        {
          "output_type": "stream",
          "name": "stderr",
          "text": [
            "WARNING:tensorflow:Early stopping conditioned on metric `val_loss` which is not available. Available metrics are: loss,accuracy\n"
          ]
        },
        {
          "output_type": "stream",
          "name": "stdout",
          "text": [
            "\b\b\b\b\b\b\b\b\b\b\b\b\b\b\b\b\b\b\b\b\b\b\b\b\b\b\b\b\b\b\b\b\b\b\b\b\b\b\b\b\b\b\b\b\b\b\b\b\b\b\b\b\b\b\b\b\b\b\b\b\b\b\b\b\b\b\b\b\b\b\b\b\b\b\b\b\b\b\b\b\b\b\b\b\r901/901 [==============================] - 14s 16ms/step - loss: 1.2353 - accuracy: 0.5241\n",
            "Epoch 19/120\n",
            "901/901 [==============================] - ETA: 0s - loss: 1.2252 - accuracy: 0.5272"
          ]
        },
        {
          "output_type": "stream",
          "name": "stderr",
          "text": [
            "WARNING:tensorflow:Early stopping conditioned on metric `val_loss` which is not available. Available metrics are: loss,accuracy\n"
          ]
        },
        {
          "output_type": "stream",
          "name": "stdout",
          "text": [
            "\b\b\b\b\b\b\b\b\b\b\b\b\b\b\b\b\b\b\b\b\b\b\b\b\b\b\b\b\b\b\b\b\b\b\b\b\b\b\b\b\b\b\b\b\b\b\b\b\b\b\b\b\b\b\b\b\b\b\b\b\b\b\b\b\b\b\b\b\b\b\b\b\b\b\b\b\b\b\b\b\b\b\b\b\r901/901 [==============================] - 14s 15ms/step - loss: 1.2252 - accuracy: 0.5272\n",
            "Epoch 20/120\n",
            "899/901 [============================>.] - ETA: 0s - loss: 1.2123 - accuracy: 0.5321"
          ]
        },
        {
          "output_type": "stream",
          "name": "stderr",
          "text": [
            "WARNING:tensorflow:Early stopping conditioned on metric `val_loss` which is not available. Available metrics are: loss,accuracy\n"
          ]
        },
        {
          "output_type": "stream",
          "name": "stdout",
          "text": [
            "\b\b\b\b\b\b\b\b\b\b\b\b\b\b\b\b\b\b\b\b\b\b\b\b\b\b\b\b\b\b\b\b\b\b\b\b\b\b\b\b\b\b\b\b\b\b\b\b\b\b\b\b\b\b\b\b\b\b\b\b\b\b\b\b\b\b\b\b\b\b\b\b\b\b\b\b\b\b\b\b\b\b\b\b\r901/901 [==============================] - 14s 16ms/step - loss: 1.2124 - accuracy: 0.5321\n",
            "Epoch 21/120\n",
            "899/901 [============================>.] - ETA: 0s - loss: 1.1953 - accuracy: 0.5387"
          ]
        },
        {
          "output_type": "stream",
          "name": "stderr",
          "text": [
            "WARNING:tensorflow:Early stopping conditioned on metric `val_loss` which is not available. Available metrics are: loss,accuracy\n"
          ]
        },
        {
          "output_type": "stream",
          "name": "stdout",
          "text": [
            "\b\b\b\b\b\b\b\b\b\b\b\b\b\b\b\b\b\b\b\b\b\b\b\b\b\b\b\b\b\b\b\b\b\b\b\b\b\b\b\b\b\b\b\b\b\b\b\b\b\b\b\b\b\b\b\b\b\b\b\b\b\b\b\b\b\b\b\b\b\b\b\b\b\b\b\b\b\b\b\b\b\b\b\b\r901/901 [==============================] - 14s 16ms/step - loss: 1.1952 - accuracy: 0.5387\n",
            "Epoch 22/120\n",
            "899/901 [============================>.] - ETA: 0s - loss: 1.1853 - accuracy: 0.5425"
          ]
        },
        {
          "output_type": "stream",
          "name": "stderr",
          "text": [
            "WARNING:tensorflow:Early stopping conditioned on metric `val_loss` which is not available. Available metrics are: loss,accuracy\n"
          ]
        },
        {
          "output_type": "stream",
          "name": "stdout",
          "text": [
            "\b\b\b\b\b\b\b\b\b\b\b\b\b\b\b\b\b\b\b\b\b\b\b\b\b\b\b\b\b\b\b\b\b\b\b\b\b\b\b\b\b\b\b\b\b\b\b\b\b\b\b\b\b\b\b\b\b\b\b\b\b\b\b\b\b\b\b\b\b\b\b\b\b\b\b\b\b\b\b\b\b\b\b\b\r901/901 [==============================] - 14s 16ms/step - loss: 1.1855 - accuracy: 0.5425\n",
            "Epoch 23/120\n",
            "900/901 [============================>.] - ETA: 0s - loss: 1.1693 - accuracy: 0.5497"
          ]
        },
        {
          "output_type": "stream",
          "name": "stderr",
          "text": [
            "WARNING:tensorflow:Early stopping conditioned on metric `val_loss` which is not available. Available metrics are: loss,accuracy\n"
          ]
        },
        {
          "output_type": "stream",
          "name": "stdout",
          "text": [
            "\b\b\b\b\b\b\b\b\b\b\b\b\b\b\b\b\b\b\b\b\b\b\b\b\b\b\b\b\b\b\b\b\b\b\b\b\b\b\b\b\b\b\b\b\b\b\b\b\b\b\b\b\b\b\b\b\b\b\b\b\b\b\b\b\b\b\b\b\b\b\b\b\b\b\b\b\b\b\b\b\b\b\b\b\r901/901 [==============================] - 14s 15ms/step - loss: 1.1694 - accuracy: 0.5498\n",
            "Epoch 24/120\n",
            "898/901 [============================>.] - ETA: 0s - loss: 1.1505 - accuracy: 0.5562"
          ]
        },
        {
          "output_type": "stream",
          "name": "stderr",
          "text": [
            "WARNING:tensorflow:Early stopping conditioned on metric `val_loss` which is not available. Available metrics are: loss,accuracy\n"
          ]
        },
        {
          "output_type": "stream",
          "name": "stdout",
          "text": [
            "\b\b\b\b\b\b\b\b\b\b\b\b\b\b\b\b\b\b\b\b\b\b\b\b\b\b\b\b\b\b\b\b\b\b\b\b\b\b\b\b\b\b\b\b\b\b\b\b\b\b\b\b\b\b\b\b\b\b\b\b\b\b\b\b\b\b\b\b\b\b\b\b\b\b\b\b\b\b\b\b\b\b\b\b\r901/901 [==============================] - 14s 15ms/step - loss: 1.1504 - accuracy: 0.5562\n",
            "Epoch 25/120\n",
            "900/901 [============================>.] - ETA: 0s - loss: 1.1422 - accuracy: 0.5557"
          ]
        },
        {
          "output_type": "stream",
          "name": "stderr",
          "text": [
            "WARNING:tensorflow:Early stopping conditioned on metric `val_loss` which is not available. Available metrics are: loss,accuracy\n"
          ]
        },
        {
          "output_type": "stream",
          "name": "stdout",
          "text": [
            "\b\b\b\b\b\b\b\b\b\b\b\b\b\b\b\b\b\b\b\b\b\b\b\b\b\b\b\b\b\b\b\b\b\b\b\b\b\b\b\b\b\b\b\b\b\b\b\b\b\b\b\b\b\b\b\b\b\b\b\b\b\b\b\b\b\b\b\b\b\b\b\b\b\b\b\b\b\b\b\b\b\b\b\b\r901/901 [==============================] - 14s 15ms/step - loss: 1.1421 - accuracy: 0.5557\n",
            "Epoch 26/120\n",
            "899/901 [============================>.] - ETA: 0s - loss: 1.1341 - accuracy: 0.5601"
          ]
        },
        {
          "output_type": "stream",
          "name": "stderr",
          "text": [
            "WARNING:tensorflow:Early stopping conditioned on metric `val_loss` which is not available. Available metrics are: loss,accuracy\n"
          ]
        },
        {
          "output_type": "stream",
          "name": "stdout",
          "text": [
            "\b\b\b\b\b\b\b\b\b\b\b\b\b\b\b\b\b\b\b\b\b\b\b\b\b\b\b\b\b\b\b\b\b\b\b\b\b\b\b\b\b\b\b\b\b\b\b\b\b\b\b\b\b\b\b\b\b\b\b\b\b\b\b\b\b\b\b\b\b\b\b\b\b\b\b\b\b\b\b\b\b\b\b\b\r901/901 [==============================] - 14s 15ms/step - loss: 1.1342 - accuracy: 0.5600\n",
            "Epoch 27/120\n",
            "900/901 [============================>.] - ETA: 0s - loss: 1.1222 - accuracy: 0.5623"
          ]
        },
        {
          "output_type": "stream",
          "name": "stderr",
          "text": [
            "WARNING:tensorflow:Early stopping conditioned on metric `val_loss` which is not available. Available metrics are: loss,accuracy\n"
          ]
        },
        {
          "output_type": "stream",
          "name": "stdout",
          "text": [
            "\b\b\b\b\b\b\b\b\b\b\b\b\b\b\b\b\b\b\b\b\b\b\b\b\b\b\b\b\b\b\b\b\b\b\b\b\b\b\b\b\b\b\b\b\b\b\b\b\b\b\b\b\b\b\b\b\b\b\b\b\b\b\b\b\b\b\b\b\b\b\b\b\b\b\b\b\b\b\b\b\b\b\b\b\r901/901 [==============================] - 14s 16ms/step - loss: 1.1223 - accuracy: 0.5623\n",
            "Epoch 28/120\n",
            "898/901 [============================>.] - ETA: 0s - loss: 1.1120 - accuracy: 0.5671"
          ]
        },
        {
          "output_type": "stream",
          "name": "stderr",
          "text": [
            "WARNING:tensorflow:Early stopping conditioned on metric `val_loss` which is not available. Available metrics are: loss,accuracy\n"
          ]
        },
        {
          "output_type": "stream",
          "name": "stdout",
          "text": [
            "\b\b\b\b\b\b\b\b\b\b\b\b\b\b\b\b\b\b\b\b\b\b\b\b\b\b\b\b\b\b\b\b\b\b\b\b\b\b\b\b\b\b\b\b\b\b\b\b\b\b\b\b\b\b\b\b\b\b\b\b\b\b\b\b\b\b\b\b\b\b\b\b\b\b\b\b\b\b\b\b\b\b\b\b\r901/901 [==============================] - 14s 15ms/step - loss: 1.1121 - accuracy: 0.5670\n",
            "Epoch 29/120\n",
            "899/901 [============================>.] - ETA: 0s - loss: 1.1024 - accuracy: 0.5701"
          ]
        },
        {
          "output_type": "stream",
          "name": "stderr",
          "text": [
            "WARNING:tensorflow:Early stopping conditioned on metric `val_loss` which is not available. Available metrics are: loss,accuracy\n"
          ]
        },
        {
          "output_type": "stream",
          "name": "stdout",
          "text": [
            "\b\b\b\b\b\b\b\b\b\b\b\b\b\b\b\b\b\b\b\b\b\b\b\b\b\b\b\b\b\b\b\b\b\b\b\b\b\b\b\b\b\b\b\b\b\b\b\b\b\b\b\b\b\b\b\b\b\b\b\b\b\b\b\b\b\b\b\b\b\b\b\b\b\b\b\b\b\b\b\b\b\b\b\b\r901/901 [==============================] - 14s 16ms/step - loss: 1.1024 - accuracy: 0.5701\n",
            "Epoch 30/120\n",
            "900/901 [============================>.] - ETA: 0s - loss: 1.0886 - accuracy: 0.5785"
          ]
        },
        {
          "output_type": "stream",
          "name": "stderr",
          "text": [
            "WARNING:tensorflow:Early stopping conditioned on metric `val_loss` which is not available. Available metrics are: loss,accuracy\n"
          ]
        },
        {
          "output_type": "stream",
          "name": "stdout",
          "text": [
            "\b\b\b\b\b\b\b\b\b\b\b\b\b\b\b\b\b\b\b\b\b\b\b\b\b\b\b\b\b\b\b\b\b\b\b\b\b\b\b\b\b\b\b\b\b\b\b\b\b\b\b\b\b\b\b\b\b\b\b\b\b\b\b\b\b\b\b\b\b\b\b\b\b\b\b\b\b\b\b\b\b\b\b\b\r901/901 [==============================] - 14s 15ms/step - loss: 1.0886 - accuracy: 0.5785\n",
            "Epoch 31/120\n",
            "901/901 [==============================] - ETA: 0s - loss: 1.0811 - accuracy: 0.5811"
          ]
        },
        {
          "output_type": "stream",
          "name": "stderr",
          "text": [
            "WARNING:tensorflow:Early stopping conditioned on metric `val_loss` which is not available. Available metrics are: loss,accuracy\n"
          ]
        },
        {
          "output_type": "stream",
          "name": "stdout",
          "text": [
            "\b\b\b\b\b\b\b\b\b\b\b\b\b\b\b\b\b\b\b\b\b\b\b\b\b\b\b\b\b\b\b\b\b\b\b\b\b\b\b\b\b\b\b\b\b\b\b\b\b\b\b\b\b\b\b\b\b\b\b\b\b\b\b\b\b\b\b\b\b\b\b\b\b\b\b\b\b\b\b\b\b\b\b\b\r901/901 [==============================] - 14s 15ms/step - loss: 1.0811 - accuracy: 0.5811\n",
            "Epoch 32/120\n",
            "899/901 [============================>.] - ETA: 0s - loss: 1.0738 - accuracy: 0.5805"
          ]
        },
        {
          "output_type": "stream",
          "name": "stderr",
          "text": [
            "WARNING:tensorflow:Early stopping conditioned on metric `val_loss` which is not available. Available metrics are: loss,accuracy\n"
          ]
        },
        {
          "output_type": "stream",
          "name": "stdout",
          "text": [
            "\b\b\b\b\b\b\b\b\b\b\b\b\b\b\b\b\b\b\b\b\b\b\b\b\b\b\b\b\b\b\b\b\b\b\b\b\b\b\b\b\b\b\b\b\b\b\b\b\b\b\b\b\b\b\b\b\b\b\b\b\b\b\b\b\b\b\b\b\b\b\b\b\b\b\b\b\b\b\b\b\b\b\b\b\r901/901 [==============================] - 14s 16ms/step - loss: 1.0737 - accuracy: 0.5806\n",
            "Epoch 33/120\n",
            "900/901 [============================>.] - ETA: 0s - loss: 1.0620 - accuracy: 0.5867"
          ]
        },
        {
          "output_type": "stream",
          "name": "stderr",
          "text": [
            "WARNING:tensorflow:Early stopping conditioned on metric `val_loss` which is not available. Available metrics are: loss,accuracy\n"
          ]
        },
        {
          "output_type": "stream",
          "name": "stdout",
          "text": [
            "\b\b\b\b\b\b\b\b\b\b\b\b\b\b\b\b\b\b\b\b\b\b\b\b\b\b\b\b\b\b\b\b\b\b\b\b\b\b\b\b\b\b\b\b\b\b\b\b\b\b\b\b\b\b\b\b\b\b\b\b\b\b\b\b\b\b\b\b\b\b\b\b\b\b\b\b\b\b\b\b\b\b\b\b\r901/901 [==============================] - 14s 15ms/step - loss: 1.0620 - accuracy: 0.5867\n",
            "Epoch 34/120\n",
            "900/901 [============================>.] - ETA: 0s - loss: 1.0514 - accuracy: 0.5889"
          ]
        },
        {
          "output_type": "stream",
          "name": "stderr",
          "text": [
            "WARNING:tensorflow:Early stopping conditioned on metric `val_loss` which is not available. Available metrics are: loss,accuracy\n"
          ]
        },
        {
          "output_type": "stream",
          "name": "stdout",
          "text": [
            "\b\b\b\b\b\b\b\b\b\b\b\b\b\b\b\b\b\b\b\b\b\b\b\b\b\b\b\b\b\b\b\b\b\b\b\b\b\b\b\b\b\b\b\b\b\b\b\b\b\b\b\b\b\b\b\b\b\b\b\b\b\b\b\b\b\b\b\b\b\b\b\b\b\b\b\b\b\b\b\b\b\b\b\b\r901/901 [==============================] - 14s 15ms/step - loss: 1.0512 - accuracy: 0.5890\n",
            "Epoch 35/120\n",
            "901/901 [==============================] - ETA: 0s - loss: 1.0455 - accuracy: 0.5917"
          ]
        },
        {
          "output_type": "stream",
          "name": "stderr",
          "text": [
            "WARNING:tensorflow:Early stopping conditioned on metric `val_loss` which is not available. Available metrics are: loss,accuracy\n"
          ]
        },
        {
          "output_type": "stream",
          "name": "stdout",
          "text": [
            "\b\b\b\b\b\b\b\b\b\b\b\b\b\b\b\b\b\b\b\b\b\b\b\b\b\b\b\b\b\b\b\b\b\b\b\b\b\b\b\b\b\b\b\b\b\b\b\b\b\b\b\b\b\b\b\b\b\b\b\b\b\b\b\b\b\b\b\b\b\b\b\b\b\b\b\b\b\b\b\b\b\b\b\b\r901/901 [==============================] - 14s 16ms/step - loss: 1.0455 - accuracy: 0.5917\n",
            "Epoch 36/120\n",
            "900/901 [============================>.] - ETA: 0s - loss: 1.0350 - accuracy: 0.5919"
          ]
        },
        {
          "output_type": "stream",
          "name": "stderr",
          "text": [
            "WARNING:tensorflow:Early stopping conditioned on metric `val_loss` which is not available. Available metrics are: loss,accuracy\n"
          ]
        },
        {
          "output_type": "stream",
          "name": "stdout",
          "text": [
            "\b\b\b\b\b\b\b\b\b\b\b\b\b\b\b\b\b\b\b\b\b\b\b\b\b\b\b\b\b\b\b\b\b\b\b\b\b\b\b\b\b\b\b\b\b\b\b\b\b\b\b\b\b\b\b\b\b\b\b\b\b\b\b\b\b\b\b\b\b\b\b\b\b\b\b\b\b\b\b\b\b\b\b\b\r901/901 [==============================] - 14s 16ms/step - loss: 1.0350 - accuracy: 0.5918\n",
            "Epoch 37/120\n",
            "900/901 [============================>.] - ETA: 0s - loss: 1.0186 - accuracy: 0.6032"
          ]
        },
        {
          "output_type": "stream",
          "name": "stderr",
          "text": [
            "WARNING:tensorflow:Early stopping conditioned on metric `val_loss` which is not available. Available metrics are: loss,accuracy\n"
          ]
        },
        {
          "output_type": "stream",
          "name": "stdout",
          "text": [
            "\b\b\b\b\b\b\b\b\b\b\b\b\b\b\b\b\b\b\b\b\b\b\b\b\b\b\b\b\b\b\b\b\b\b\b\b\b\b\b\b\b\b\b\b\b\b\b\b\b\b\b\b\b\b\b\b\b\b\b\b\b\b\b\b\b\b\b\b\b\b\b\b\b\b\b\b\b\b\b\b\b\b\b\b\r901/901 [==============================] - 14s 16ms/step - loss: 1.0185 - accuracy: 0.6033\n",
            "Epoch 38/120\n",
            "899/901 [============================>.] - ETA: 0s - loss: 1.0195 - accuracy: 0.6018"
          ]
        },
        {
          "output_type": "stream",
          "name": "stderr",
          "text": [
            "WARNING:tensorflow:Early stopping conditioned on metric `val_loss` which is not available. Available metrics are: loss,accuracy\n"
          ]
        },
        {
          "output_type": "stream",
          "name": "stdout",
          "text": [
            "\b\b\b\b\b\b\b\b\b\b\b\b\b\b\b\b\b\b\b\b\b\b\b\b\b\b\b\b\b\b\b\b\b\b\b\b\b\b\b\b\b\b\b\b\b\b\b\b\b\b\b\b\b\b\b\b\b\b\b\b\b\b\b\b\b\b\b\b\b\b\b\b\b\b\b\b\b\b\b\b\b\b\b\b\r901/901 [==============================] - 14s 15ms/step - loss: 1.0200 - accuracy: 0.6017\n",
            "Epoch 39/120\n",
            "899/901 [============================>.] - ETA: 0s - loss: 1.0045 - accuracy: 0.6061"
          ]
        },
        {
          "output_type": "stream",
          "name": "stderr",
          "text": [
            "WARNING:tensorflow:Early stopping conditioned on metric `val_loss` which is not available. Available metrics are: loss,accuracy\n"
          ]
        },
        {
          "output_type": "stream",
          "name": "stdout",
          "text": [
            "\b\b\b\b\b\b\b\b\b\b\b\b\b\b\b\b\b\b\b\b\b\b\b\b\b\b\b\b\b\b\b\b\b\b\b\b\b\b\b\b\b\b\b\b\b\b\b\b\b\b\b\b\b\b\b\b\b\b\b\b\b\b\b\b\b\b\b\b\b\b\b\b\b\b\b\b\b\b\b\b\b\b\b\b\r901/901 [==============================] - 14s 16ms/step - loss: 1.0047 - accuracy: 0.6061\n",
            "Epoch 40/120\n",
            "898/901 [============================>.] - ETA: 0s - loss: 1.0028 - accuracy: 0.6060"
          ]
        },
        {
          "output_type": "stream",
          "name": "stderr",
          "text": [
            "WARNING:tensorflow:Early stopping conditioned on metric `val_loss` which is not available. Available metrics are: loss,accuracy\n"
          ]
        },
        {
          "output_type": "stream",
          "name": "stdout",
          "text": [
            "\b\b\b\b\b\b\b\b\b\b\b\b\b\b\b\b\b\b\b\b\b\b\b\b\b\b\b\b\b\b\b\b\b\b\b\b\b\b\b\b\b\b\b\b\b\b\b\b\b\b\b\b\b\b\b\b\b\b\b\b\b\b\b\b\b\b\b\b\b\b\b\b\b\b\b\b\b\b\b\b\b\b\b\b\r901/901 [==============================] - 14s 16ms/step - loss: 1.0027 - accuracy: 0.6061\n",
            "Epoch 41/120\n",
            "900/901 [============================>.] - ETA: 0s - loss: 0.9969 - accuracy: 0.6066"
          ]
        },
        {
          "output_type": "stream",
          "name": "stderr",
          "text": [
            "WARNING:tensorflow:Early stopping conditioned on metric `val_loss` which is not available. Available metrics are: loss,accuracy\n"
          ]
        },
        {
          "output_type": "stream",
          "name": "stdout",
          "text": [
            "\b\b\b\b\b\b\b\b\b\b\b\b\b\b\b\b\b\b\b\b\b\b\b\b\b\b\b\b\b\b\b\b\b\b\b\b\b\b\b\b\b\b\b\b\b\b\b\b\b\b\b\b\b\b\b\b\b\b\b\b\b\b\b\b\b\b\b\b\b\b\b\b\b\b\b\b\b\b\b\b\b\b\b\b\r901/901 [==============================] - 14s 15ms/step - loss: 0.9971 - accuracy: 0.6065\n",
            "Epoch 42/120\n",
            "901/901 [==============================] - ETA: 0s - loss: 0.9764 - accuracy: 0.6155"
          ]
        },
        {
          "output_type": "stream",
          "name": "stderr",
          "text": [
            "WARNING:tensorflow:Early stopping conditioned on metric `val_loss` which is not available. Available metrics are: loss,accuracy\n"
          ]
        },
        {
          "output_type": "stream",
          "name": "stdout",
          "text": [
            "\b\b\b\b\b\b\b\b\b\b\b\b\b\b\b\b\b\b\b\b\b\b\b\b\b\b\b\b\b\b\b\b\b\b\b\b\b\b\b\b\b\b\b\b\b\b\b\b\b\b\b\b\b\b\b\b\b\b\b\b\b\b\b\b\b\b\b\b\b\b\b\b\b\b\b\b\b\b\b\b\b\b\b\b\r901/901 [==============================] - 14s 16ms/step - loss: 0.9764 - accuracy: 0.6155\n",
            "Epoch 43/120\n",
            "900/901 [============================>.] - ETA: 0s - loss: 0.9787 - accuracy: 0.6176"
          ]
        },
        {
          "output_type": "stream",
          "name": "stderr",
          "text": [
            "WARNING:tensorflow:Early stopping conditioned on metric `val_loss` which is not available. Available metrics are: loss,accuracy\n"
          ]
        },
        {
          "output_type": "stream",
          "name": "stdout",
          "text": [
            "\b\b\b\b\b\b\b\b\b\b\b\b\b\b\b\b\b\b\b\b\b\b\b\b\b\b\b\b\b\b\b\b\b\b\b\b\b\b\b\b\b\b\b\b\b\b\b\b\b\b\b\b\b\b\b\b\b\b\b\b\b\b\b\b\b\b\b\b\b\b\b\b\b\b\b\b\b\b\b\b\b\b\b\b\r901/901 [==============================] - 14s 16ms/step - loss: 0.9786 - accuracy: 0.6176\n",
            "Epoch 44/120\n",
            "899/901 [============================>.] - ETA: 0s - loss: 0.9656 - accuracy: 0.6190"
          ]
        },
        {
          "output_type": "stream",
          "name": "stderr",
          "text": [
            "WARNING:tensorflow:Early stopping conditioned on metric `val_loss` which is not available. Available metrics are: loss,accuracy\n"
          ]
        },
        {
          "output_type": "stream",
          "name": "stdout",
          "text": [
            "\b\b\b\b\b\b\b\b\b\b\b\b\b\b\b\b\b\b\b\b\b\b\b\b\b\b\b\b\b\b\b\b\b\b\b\b\b\b\b\b\b\b\b\b\b\b\b\b\b\b\b\b\b\b\b\b\b\b\b\b\b\b\b\b\b\b\b\b\b\b\b\b\b\b\b\b\b\b\b\b\b\b\b\b\r901/901 [==============================] - 14s 16ms/step - loss: 0.9656 - accuracy: 0.6191\n",
            "Epoch 45/120\n",
            "900/901 [============================>.] - ETA: 0s - loss: 0.9602 - accuracy: 0.6180"
          ]
        },
        {
          "output_type": "stream",
          "name": "stderr",
          "text": [
            "WARNING:tensorflow:Early stopping conditioned on metric `val_loss` which is not available. Available metrics are: loss,accuracy\n"
          ]
        },
        {
          "output_type": "stream",
          "name": "stdout",
          "text": [
            "\b\b\b\b\b\b\b\b\b\b\b\b\b\b\b\b\b\b\b\b\b\b\b\b\b\b\b\b\b\b\b\b\b\b\b\b\b\b\b\b\b\b\b\b\b\b\b\b\b\b\b\b\b\b\b\b\b\b\b\b\b\b\b\b\b\b\b\b\b\b\b\b\b\b\b\b\b\b\b\b\b\b\b\b\r901/901 [==============================] - 14s 16ms/step - loss: 0.9604 - accuracy: 0.6178\n",
            "Epoch 46/120\n",
            "900/901 [============================>.] - ETA: 0s - loss: 0.9491 - accuracy: 0.6244"
          ]
        },
        {
          "output_type": "stream",
          "name": "stderr",
          "text": [
            "WARNING:tensorflow:Early stopping conditioned on metric `val_loss` which is not available. Available metrics are: loss,accuracy\n"
          ]
        },
        {
          "output_type": "stream",
          "name": "stdout",
          "text": [
            "\b\b\b\b\b\b\b\b\b\b\b\b\b\b\b\b\b\b\b\b\b\b\b\b\b\b\b\b\b\b\b\b\b\b\b\b\b\b\b\b\b\b\b\b\b\b\b\b\b\b\b\b\b\b\b\b\b\b\b\b\b\b\b\b\b\b\b\b\b\b\b\b\b\b\b\b\b\b\b\b\b\b\b\b\r901/901 [==============================] - 14s 16ms/step - loss: 0.9492 - accuracy: 0.6244\n",
            "Epoch 47/120\n",
            "898/901 [============================>.] - ETA: 0s - loss: 0.9494 - accuracy: 0.6272"
          ]
        },
        {
          "output_type": "stream",
          "name": "stderr",
          "text": [
            "WARNING:tensorflow:Early stopping conditioned on metric `val_loss` which is not available. Available metrics are: loss,accuracy\n"
          ]
        },
        {
          "output_type": "stream",
          "name": "stdout",
          "text": [
            "\b\b\b\b\b\b\b\b\b\b\b\b\b\b\b\b\b\b\b\b\b\b\b\b\b\b\b\b\b\b\b\b\b\b\b\b\b\b\b\b\b\b\b\b\b\b\b\b\b\b\b\b\b\b\b\b\b\b\b\b\b\b\b\b\b\b\b\b\b\b\b\b\b\b\b\b\b\b\b\b\b\b\b\b\r901/901 [==============================] - 14s 15ms/step - loss: 0.9489 - accuracy: 0.6275\n",
            "Epoch 48/120\n",
            "899/901 [============================>.] - ETA: 0s - loss: 0.9392 - accuracy: 0.6317"
          ]
        },
        {
          "output_type": "stream",
          "name": "stderr",
          "text": [
            "WARNING:tensorflow:Early stopping conditioned on metric `val_loss` which is not available. Available metrics are: loss,accuracy\n"
          ]
        },
        {
          "output_type": "stream",
          "name": "stdout",
          "text": [
            "\b\b\b\b\b\b\b\b\b\b\b\b\b\b\b\b\b\b\b\b\b\b\b\b\b\b\b\b\b\b\b\b\b\b\b\b\b\b\b\b\b\b\b\b\b\b\b\b\b\b\b\b\b\b\b\b\b\b\b\b\b\b\b\b\b\b\b\b\b\b\b\b\b\b\b\b\b\b\b\b\b\b\b\b\r901/901 [==============================] - 14s 15ms/step - loss: 0.9392 - accuracy: 0.6317\n",
            "Epoch 49/120\n",
            "899/901 [============================>.] - ETA: 0s - loss: 0.9270 - accuracy: 0.6332"
          ]
        },
        {
          "output_type": "stream",
          "name": "stderr",
          "text": [
            "WARNING:tensorflow:Early stopping conditioned on metric `val_loss` which is not available. Available metrics are: loss,accuracy\n"
          ]
        },
        {
          "output_type": "stream",
          "name": "stdout",
          "text": [
            "\b\b\b\b\b\b\b\b\b\b\b\b\b\b\b\b\b\b\b\b\b\b\b\b\b\b\b\b\b\b\b\b\b\b\b\b\b\b\b\b\b\b\b\b\b\b\b\b\b\b\b\b\b\b\b\b\b\b\b\b\b\b\b\b\b\b\b\b\b\b\b\b\b\b\b\b\b\b\b\b\b\b\b\b\r901/901 [==============================] - 14s 16ms/step - loss: 0.9269 - accuracy: 0.6331\n",
            "Epoch 50/120\n",
            "899/901 [============================>.] - ETA: 0s - loss: 0.9320 - accuracy: 0.6316"
          ]
        },
        {
          "output_type": "stream",
          "name": "stderr",
          "text": [
            "WARNING:tensorflow:Early stopping conditioned on metric `val_loss` which is not available. Available metrics are: loss,accuracy\n"
          ]
        },
        {
          "output_type": "stream",
          "name": "stdout",
          "text": [
            "\b\b\b\b\b\b\b\b\b\b\b\b\b\b\b\b\b\b\b\b\b\b\b\b\b\b\b\b\b\b\b\b\b\b\b\b\b\b\b\b\b\b\b\b\b\b\b\b\b\b\b\b\b\b\b\b\b\b\b\b\b\b\b\b\b\b\b\b\b\b\b\b\b\b\b\b\b\b\b\b\b\b\b\b\r901/901 [==============================] - 14s 15ms/step - loss: 0.9317 - accuracy: 0.6317\n",
            "Epoch 51/120\n",
            "901/901 [==============================] - ETA: 0s - loss: 0.9247 - accuracy: 0.6345"
          ]
        },
        {
          "output_type": "stream",
          "name": "stderr",
          "text": [
            "WARNING:tensorflow:Early stopping conditioned on metric `val_loss` which is not available. Available metrics are: loss,accuracy\n"
          ]
        },
        {
          "output_type": "stream",
          "name": "stdout",
          "text": [
            "\b\b\b\b\b\b\b\b\b\b\b\b\b\b\b\b\b\b\b\b\b\b\b\b\b\b\b\b\b\b\b\b\b\b\b\b\b\b\b\b\b\b\b\b\b\b\b\b\b\b\b\b\b\b\b\b\b\b\b\b\b\b\b\b\b\b\b\b\b\b\b\b\b\b\b\b\b\b\b\b\b\b\b\b\r901/901 [==============================] - 14s 15ms/step - loss: 0.9247 - accuracy: 0.6345\n",
            "Epoch 52/120\n",
            "899/901 [============================>.] - ETA: 0s - loss: 0.9201 - accuracy: 0.6370"
          ]
        },
        {
          "output_type": "stream",
          "name": "stderr",
          "text": [
            "WARNING:tensorflow:Early stopping conditioned on metric `val_loss` which is not available. Available metrics are: loss,accuracy\n"
          ]
        },
        {
          "output_type": "stream",
          "name": "stdout",
          "text": [
            "\b\b\b\b\b\b\b\b\b\b\b\b\b\b\b\b\b\b\b\b\b\b\b\b\b\b\b\b\b\b\b\b\b\b\b\b\b\b\b\b\b\b\b\b\b\b\b\b\b\b\b\b\b\b\b\b\b\b\b\b\b\b\b\b\b\b\b\b\b\b\b\b\b\b\b\b\b\b\b\b\b\b\b\b\r901/901 [==============================] - 14s 16ms/step - loss: 0.9201 - accuracy: 0.6370\n",
            "Epoch 53/120\n",
            "898/901 [============================>.] - ETA: 0s - loss: 0.9076 - accuracy: 0.6364"
          ]
        },
        {
          "output_type": "stream",
          "name": "stderr",
          "text": [
            "WARNING:tensorflow:Early stopping conditioned on metric `val_loss` which is not available. Available metrics are: loss,accuracy\n"
          ]
        },
        {
          "output_type": "stream",
          "name": "stdout",
          "text": [
            "\b\b\b\b\b\b\b\b\b\b\b\b\b\b\b\b\b\b\b\b\b\b\b\b\b\b\b\b\b\b\b\b\b\b\b\b\b\b\b\b\b\b\b\b\b\b\b\b\b\b\b\b\b\b\b\b\b\b\b\b\b\b\b\b\b\b\b\b\b\b\b\b\b\b\b\b\b\b\b\b\b\b\b\b\r901/901 [==============================] - 14s 15ms/step - loss: 0.9080 - accuracy: 0.6363\n",
            "Epoch 54/120\n",
            "898/901 [============================>.] - ETA: 0s - loss: 0.8978 - accuracy: 0.6456"
          ]
        },
        {
          "output_type": "stream",
          "name": "stderr",
          "text": [
            "WARNING:tensorflow:Early stopping conditioned on metric `val_loss` which is not available. Available metrics are: loss,accuracy\n"
          ]
        },
        {
          "output_type": "stream",
          "name": "stdout",
          "text": [
            "\b\b\b\b\b\b\b\b\b\b\b\b\b\b\b\b\b\b\b\b\b\b\b\b\b\b\b\b\b\b\b\b\b\b\b\b\b\b\b\b\b\b\b\b\b\b\b\b\b\b\b\b\b\b\b\b\b\b\b\b\b\b\b\b\b\b\b\b\b\b\b\b\b\b\b\b\b\b\b\b\b\b\b\b\r901/901 [==============================] - 14s 16ms/step - loss: 0.8974 - accuracy: 0.6458\n",
            "Epoch 55/120\n",
            "900/901 [============================>.] - ETA: 0s - loss: 0.8970 - accuracy: 0.6419"
          ]
        },
        {
          "output_type": "stream",
          "name": "stderr",
          "text": [
            "WARNING:tensorflow:Early stopping conditioned on metric `val_loss` which is not available. Available metrics are: loss,accuracy\n"
          ]
        },
        {
          "output_type": "stream",
          "name": "stdout",
          "text": [
            "\b\b\b\b\b\b\b\b\b\b\b\b\b\b\b\b\b\b\b\b\b\b\b\b\b\b\b\b\b\b\b\b\b\b\b\b\b\b\b\b\b\b\b\b\b\b\b\b\b\b\b\b\b\b\b\b\b\b\b\b\b\b\b\b\b\b\b\b\b\b\b\b\b\b\b\b\b\b\b\b\b\b\b\b\r901/901 [==============================] - 14s 16ms/step - loss: 0.8971 - accuracy: 0.6419\n",
            "Epoch 56/120\n",
            "900/901 [============================>.] - ETA: 0s - loss: 0.8880 - accuracy: 0.6465"
          ]
        },
        {
          "output_type": "stream",
          "name": "stderr",
          "text": [
            "WARNING:tensorflow:Early stopping conditioned on metric `val_loss` which is not available. Available metrics are: loss,accuracy\n"
          ]
        },
        {
          "output_type": "stream",
          "name": "stdout",
          "text": [
            "\b\b\b\b\b\b\b\b\b\b\b\b\b\b\b\b\b\b\b\b\b\b\b\b\b\b\b\b\b\b\b\b\b\b\b\b\b\b\b\b\b\b\b\b\b\b\b\b\b\b\b\b\b\b\b\b\b\b\b\b\b\b\b\b\b\b\b\b\b\b\b\b\b\b\b\b\b\b\b\b\b\b\b\b\r901/901 [==============================] - 14s 16ms/step - loss: 0.8881 - accuracy: 0.6464\n",
            "Epoch 57/120\n",
            "898/901 [============================>.] - ETA: 0s - loss: 0.8833 - accuracy: 0.6487"
          ]
        },
        {
          "output_type": "stream",
          "name": "stderr",
          "text": [
            "WARNING:tensorflow:Early stopping conditioned on metric `val_loss` which is not available. Available metrics are: loss,accuracy\n"
          ]
        },
        {
          "output_type": "stream",
          "name": "stdout",
          "text": [
            "\b\b\b\b\b\b\b\b\b\b\b\b\b\b\b\b\b\b\b\b\b\b\b\b\b\b\b\b\b\b\b\b\b\b\b\b\b\b\b\b\b\b\b\b\b\b\b\b\b\b\b\b\b\b\b\b\b\b\b\b\b\b\b\b\b\b\b\b\b\b\b\b\b\b\b\b\b\b\b\b\b\b\b\b\r901/901 [==============================] - 14s 15ms/step - loss: 0.8835 - accuracy: 0.6487\n",
            "Epoch 58/120\n",
            "901/901 [==============================] - ETA: 0s - loss: 0.8843 - accuracy: 0.6479"
          ]
        },
        {
          "output_type": "stream",
          "name": "stderr",
          "text": [
            "WARNING:tensorflow:Early stopping conditioned on metric `val_loss` which is not available. Available metrics are: loss,accuracy\n"
          ]
        },
        {
          "output_type": "stream",
          "name": "stdout",
          "text": [
            "\b\b\b\b\b\b\b\b\b\b\b\b\b\b\b\b\b\b\b\b\b\b\b\b\b\b\b\b\b\b\b\b\b\b\b\b\b\b\b\b\b\b\b\b\b\b\b\b\b\b\b\b\b\b\b\b\b\b\b\b\b\b\b\b\b\b\b\b\b\b\b\b\b\b\b\b\b\b\b\b\b\b\b\b\r901/901 [==============================] - 14s 15ms/step - loss: 0.8843 - accuracy: 0.6479\n",
            "Epoch 59/120\n",
            "900/901 [============================>.] - ETA: 0s - loss: 0.8700 - accuracy: 0.6517"
          ]
        },
        {
          "output_type": "stream",
          "name": "stderr",
          "text": [
            "WARNING:tensorflow:Early stopping conditioned on metric `val_loss` which is not available. Available metrics are: loss,accuracy\n"
          ]
        },
        {
          "output_type": "stream",
          "name": "stdout",
          "text": [
            "\b\b\b\b\b\b\b\b\b\b\b\b\b\b\b\b\b\b\b\b\b\b\b\b\b\b\b\b\b\b\b\b\b\b\b\b\b\b\b\b\b\b\b\b\b\b\b\b\b\b\b\b\b\b\b\b\b\b\b\b\b\b\b\b\b\b\b\b\b\b\b\b\b\b\b\b\b\b\b\b\b\b\b\b\r901/901 [==============================] - 14s 15ms/step - loss: 0.8700 - accuracy: 0.6517\n",
            "Epoch 60/120\n",
            "900/901 [============================>.] - ETA: 0s - loss: 0.8567 - accuracy: 0.6582"
          ]
        },
        {
          "output_type": "stream",
          "name": "stderr",
          "text": [
            "WARNING:tensorflow:Early stopping conditioned on metric `val_loss` which is not available. Available metrics are: loss,accuracy\n"
          ]
        },
        {
          "output_type": "stream",
          "name": "stdout",
          "text": [
            "\b\b\b\b\b\b\b\b\b\b\b\b\b\b\b\b\b\b\b\b\b\b\b\b\b\b\b\b\b\b\b\b\b\b\b\b\b\b\b\b\b\b\b\b\b\b\b\b\b\b\b\b\b\b\b\b\b\b\b\b\b\b\b\b\b\b\b\b\b\b\b\b\b\b\b\b\b\b\b\b\b\b\b\b\r901/901 [==============================] - 14s 16ms/step - loss: 0.8568 - accuracy: 0.6581\n",
            "Epoch 61/120\n",
            "898/901 [============================>.] - ETA: 0s - loss: 0.8546 - accuracy: 0.6565"
          ]
        },
        {
          "output_type": "stream",
          "name": "stderr",
          "text": [
            "WARNING:tensorflow:Early stopping conditioned on metric `val_loss` which is not available. Available metrics are: loss,accuracy\n"
          ]
        },
        {
          "output_type": "stream",
          "name": "stdout",
          "text": [
            "\b\b\b\b\b\b\b\b\b\b\b\b\b\b\b\b\b\b\b\b\b\b\b\b\b\b\b\b\b\b\b\b\b\b\b\b\b\b\b\b\b\b\b\b\b\b\b\b\b\b\b\b\b\b\b\b\b\b\b\b\b\b\b\b\b\b\b\b\b\b\b\b\b\b\b\b\b\b\b\b\b\b\b\b\r901/901 [==============================] - 14s 16ms/step - loss: 0.8548 - accuracy: 0.6565\n",
            "Epoch 62/120\n",
            "899/901 [============================>.] - ETA: 0s - loss: 0.8517 - accuracy: 0.6581"
          ]
        },
        {
          "output_type": "stream",
          "name": "stderr",
          "text": [
            "WARNING:tensorflow:Early stopping conditioned on metric `val_loss` which is not available. Available metrics are: loss,accuracy\n"
          ]
        },
        {
          "output_type": "stream",
          "name": "stdout",
          "text": [
            "\b\b\b\b\b\b\b\b\b\b\b\b\b\b\b\b\b\b\b\b\b\b\b\b\b\b\b\b\b\b\b\b\b\b\b\b\b\b\b\b\b\b\b\b\b\b\b\b\b\b\b\b\b\b\b\b\b\b\b\b\b\b\b\b\b\b\b\b\b\b\b\b\b\b\b\b\b\b\b\b\b\b\b\b\r901/901 [==============================] - 14s 16ms/step - loss: 0.8518 - accuracy: 0.6579\n",
            "Epoch 63/120\n",
            "900/901 [============================>.] - ETA: 0s - loss: 0.8487 - accuracy: 0.6614"
          ]
        },
        {
          "output_type": "stream",
          "name": "stderr",
          "text": [
            "WARNING:tensorflow:Early stopping conditioned on metric `val_loss` which is not available. Available metrics are: loss,accuracy\n"
          ]
        },
        {
          "output_type": "stream",
          "name": "stdout",
          "text": [
            "\b\b\b\b\b\b\b\b\b\b\b\b\b\b\b\b\b\b\b\b\b\b\b\b\b\b\b\b\b\b\b\b\b\b\b\b\b\b\b\b\b\b\b\b\b\b\b\b\b\b\b\b\b\b\b\b\b\b\b\b\b\b\b\b\b\b\b\b\b\b\b\b\b\b\b\b\b\b\b\b\b\b\b\b\r901/901 [==============================] - 14s 16ms/step - loss: 0.8488 - accuracy: 0.6614\n",
            "Epoch 64/120\n",
            "900/901 [============================>.] - ETA: 0s - loss: 0.8424 - accuracy: 0.6640"
          ]
        },
        {
          "output_type": "stream",
          "name": "stderr",
          "text": [
            "WARNING:tensorflow:Early stopping conditioned on metric `val_loss` which is not available. Available metrics are: loss,accuracy\n"
          ]
        },
        {
          "output_type": "stream",
          "name": "stdout",
          "text": [
            "\b\b\b\b\b\b\b\b\b\b\b\b\b\b\b\b\b\b\b\b\b\b\b\b\b\b\b\b\b\b\b\b\b\b\b\b\b\b\b\b\b\b\b\b\b\b\b\b\b\b\b\b\b\b\b\b\b\b\b\b\b\b\b\b\b\b\b\b\b\b\b\b\b\b\b\b\b\b\b\b\b\b\b\b\r901/901 [==============================] - 14s 15ms/step - loss: 0.8424 - accuracy: 0.6641\n",
            "Epoch 65/120\n",
            "898/901 [============================>.] - ETA: 0s - loss: 0.8431 - accuracy: 0.6645"
          ]
        },
        {
          "output_type": "stream",
          "name": "stderr",
          "text": [
            "WARNING:tensorflow:Early stopping conditioned on metric `val_loss` which is not available. Available metrics are: loss,accuracy\n"
          ]
        },
        {
          "output_type": "stream",
          "name": "stdout",
          "text": [
            "\b\b\b\b\b\b\b\b\b\b\b\b\b\b\b\b\b\b\b\b\b\b\b\b\b\b\b\b\b\b\b\b\b\b\b\b\b\b\b\b\b\b\b\b\b\b\b\b\b\b\b\b\b\b\b\b\b\b\b\b\b\b\b\b\b\b\b\b\b\b\b\b\b\b\b\b\b\b\b\b\b\b\b\b\r901/901 [==============================] - 14s 16ms/step - loss: 0.8429 - accuracy: 0.6644\n",
            "Epoch 66/120\n",
            "898/901 [============================>.] - ETA: 0s - loss: 0.8383 - accuracy: 0.6663"
          ]
        },
        {
          "output_type": "stream",
          "name": "stderr",
          "text": [
            "WARNING:tensorflow:Early stopping conditioned on metric `val_loss` which is not available. Available metrics are: loss,accuracy\n"
          ]
        },
        {
          "output_type": "stream",
          "name": "stdout",
          "text": [
            "\b\b\b\b\b\b\b\b\b\b\b\b\b\b\b\b\b\b\b\b\b\b\b\b\b\b\b\b\b\b\b\b\b\b\b\b\b\b\b\b\b\b\b\b\b\b\b\b\b\b\b\b\b\b\b\b\b\b\b\b\b\b\b\b\b\b\b\b\b\b\b\b\b\b\b\b\b\b\b\b\b\b\b\b\r901/901 [==============================] - 14s 16ms/step - loss: 0.8383 - accuracy: 0.6663\n",
            "Epoch 67/120\n",
            "900/901 [============================>.] - ETA: 0s - loss: 0.8223 - accuracy: 0.6697"
          ]
        },
        {
          "output_type": "stream",
          "name": "stderr",
          "text": [
            "WARNING:tensorflow:Early stopping conditioned on metric `val_loss` which is not available. Available metrics are: loss,accuracy\n"
          ]
        },
        {
          "output_type": "stream",
          "name": "stdout",
          "text": [
            "\b\b\b\b\b\b\b\b\b\b\b\b\b\b\b\b\b\b\b\b\b\b\b\b\b\b\b\b\b\b\b\b\b\b\b\b\b\b\b\b\b\b\b\b\b\b\b\b\b\b\b\b\b\b\b\b\b\b\b\b\b\b\b\b\b\b\b\b\b\b\b\b\b\b\b\b\b\b\b\b\b\b\b\b\r901/901 [==============================] - 14s 15ms/step - loss: 0.8220 - accuracy: 0.6699\n",
            "Epoch 68/120\n",
            "899/901 [============================>.] - ETA: 0s - loss: 0.8337 - accuracy: 0.6669"
          ]
        },
        {
          "output_type": "stream",
          "name": "stderr",
          "text": [
            "WARNING:tensorflow:Early stopping conditioned on metric `val_loss` which is not available. Available metrics are: loss,accuracy\n"
          ]
        },
        {
          "output_type": "stream",
          "name": "stdout",
          "text": [
            "\b\b\b\b\b\b\b\b\b\b\b\b\b\b\b\b\b\b\b\b\b\b\b\b\b\b\b\b\b\b\b\b\b\b\b\b\b\b\b\b\b\b\b\b\b\b\b\b\b\b\b\b\b\b\b\b\b\b\b\b\b\b\b\b\b\b\b\b\b\b\b\b\b\b\b\b\b\b\b\b\b\b\b\b\r901/901 [==============================] - 14s 15ms/step - loss: 0.8336 - accuracy: 0.6670\n",
            "Epoch 69/120\n",
            "900/901 [============================>.] - ETA: 0s - loss: 0.8229 - accuracy: 0.6704"
          ]
        },
        {
          "output_type": "stream",
          "name": "stderr",
          "text": [
            "WARNING:tensorflow:Early stopping conditioned on metric `val_loss` which is not available. Available metrics are: loss,accuracy\n"
          ]
        },
        {
          "output_type": "stream",
          "name": "stdout",
          "text": [
            "\b\b\b\b\b\b\b\b\b\b\b\b\b\b\b\b\b\b\b\b\b\b\b\b\b\b\b\b\b\b\b\b\b\b\b\b\b\b\b\b\b\b\b\b\b\b\b\b\b\b\b\b\b\b\b\b\b\b\b\b\b\b\b\b\b\b\b\b\b\b\b\b\b\b\b\b\b\b\b\b\b\b\b\b\r901/901 [==============================] - 14s 16ms/step - loss: 0.8231 - accuracy: 0.6703\n",
            "Epoch 70/120\n",
            "899/901 [============================>.] - ETA: 0s - loss: 0.8142 - accuracy: 0.6725"
          ]
        },
        {
          "output_type": "stream",
          "name": "stderr",
          "text": [
            "WARNING:tensorflow:Early stopping conditioned on metric `val_loss` which is not available. Available metrics are: loss,accuracy\n"
          ]
        },
        {
          "output_type": "stream",
          "name": "stdout",
          "text": [
            "\b\b\b\b\b\b\b\b\b\b\b\b\b\b\b\b\b\b\b\b\b\b\b\b\b\b\b\b\b\b\b\b\b\b\b\b\b\b\b\b\b\b\b\b\b\b\b\b\b\b\b\b\b\b\b\b\b\b\b\b\b\b\b\b\b\b\b\b\b\b\b\b\b\b\b\b\b\b\b\b\b\b\b\b\r901/901 [==============================] - 14s 15ms/step - loss: 0.8140 - accuracy: 0.6725\n",
            "Epoch 71/120\n",
            "899/901 [============================>.] - ETA: 0s - loss: 0.8193 - accuracy: 0.6707"
          ]
        },
        {
          "output_type": "stream",
          "name": "stderr",
          "text": [
            "WARNING:tensorflow:Early stopping conditioned on metric `val_loss` which is not available. Available metrics are: loss,accuracy\n"
          ]
        },
        {
          "output_type": "stream",
          "name": "stdout",
          "text": [
            "\b\b\b\b\b\b\b\b\b\b\b\b\b\b\b\b\b\b\b\b\b\b\b\b\b\b\b\b\b\b\b\b\b\b\b\b\b\b\b\b\b\b\b\b\b\b\b\b\b\b\b\b\b\b\b\b\b\b\b\b\b\b\b\b\b\b\b\b\b\b\b\b\b\b\b\b\b\b\b\b\b\b\b\b\r901/901 [==============================] - 14s 16ms/step - loss: 0.8194 - accuracy: 0.6705\n",
            "Epoch 72/120\n",
            "900/901 [============================>.] - ETA: 0s - loss: 0.8078 - accuracy: 0.6766"
          ]
        },
        {
          "output_type": "stream",
          "name": "stderr",
          "text": [
            "WARNING:tensorflow:Early stopping conditioned on metric `val_loss` which is not available. Available metrics are: loss,accuracy\n"
          ]
        },
        {
          "output_type": "stream",
          "name": "stdout",
          "text": [
            "\b\b\b\b\b\b\b\b\b\b\b\b\b\b\b\b\b\b\b\b\b\b\b\b\b\b\b\b\b\b\b\b\b\b\b\b\b\b\b\b\b\b\b\b\b\b\b\b\b\b\b\b\b\b\b\b\b\b\b\b\b\b\b\b\b\b\b\b\b\b\b\b\b\b\b\b\b\b\b\b\b\b\b\b\r901/901 [==============================] - 14s 16ms/step - loss: 0.8078 - accuracy: 0.6765\n",
            "Epoch 73/120\n",
            "901/901 [==============================] - ETA: 0s - loss: 0.8113 - accuracy: 0.6723"
          ]
        },
        {
          "output_type": "stream",
          "name": "stderr",
          "text": [
            "WARNING:tensorflow:Early stopping conditioned on metric `val_loss` which is not available. Available metrics are: loss,accuracy\n"
          ]
        },
        {
          "output_type": "stream",
          "name": "stdout",
          "text": [
            "\b\b\b\b\b\b\b\b\b\b\b\b\b\b\b\b\b\b\b\b\b\b\b\b\b\b\b\b\b\b\b\b\b\b\b\b\b\b\b\b\b\b\b\b\b\b\b\b\b\b\b\b\b\b\b\b\b\b\b\b\b\b\b\b\b\b\b\b\b\b\b\b\b\b\b\b\b\b\b\b\b\b\b\b\r901/901 [==============================] - 14s 16ms/step - loss: 0.8113 - accuracy: 0.6723\n",
            "Epoch 74/120\n",
            "899/901 [============================>.] - ETA: 0s - loss: 0.8143 - accuracy: 0.6724"
          ]
        },
        {
          "output_type": "stream",
          "name": "stderr",
          "text": [
            "WARNING:tensorflow:Early stopping conditioned on metric `val_loss` which is not available. Available metrics are: loss,accuracy\n"
          ]
        },
        {
          "output_type": "stream",
          "name": "stdout",
          "text": [
            "\b\b\b\b\b\b\b\b\b\b\b\b\b\b\b\b\b\b\b\b\b\b\b\b\b\b\b\b\b\b\b\b\b\b\b\b\b\b\b\b\b\b\b\b\b\b\b\b\b\b\b\b\b\b\b\b\b\b\b\b\b\b\b\b\b\b\b\b\b\b\b\b\b\b\b\b\b\b\b\b\b\b\b\b\r901/901 [==============================] - 14s 16ms/step - loss: 0.8142 - accuracy: 0.6725\n",
            "Epoch 75/120\n",
            "900/901 [============================>.] - ETA: 0s - loss: 0.7991 - accuracy: 0.6794"
          ]
        },
        {
          "output_type": "stream",
          "name": "stderr",
          "text": [
            "WARNING:tensorflow:Early stopping conditioned on metric `val_loss` which is not available. Available metrics are: loss,accuracy\n"
          ]
        },
        {
          "output_type": "stream",
          "name": "stdout",
          "text": [
            "\b\b\b\b\b\b\b\b\b\b\b\b\b\b\b\b\b\b\b\b\b\b\b\b\b\b\b\b\b\b\b\b\b\b\b\b\b\b\b\b\b\b\b\b\b\b\b\b\b\b\b\b\b\b\b\b\b\b\b\b\b\b\b\b\b\b\b\b\b\b\b\b\b\b\b\b\b\b\b\b\b\b\b\b\r901/901 [==============================] - 14s 16ms/step - loss: 0.7992 - accuracy: 0.6793\n",
            "Epoch 76/120\n",
            "900/901 [============================>.] - ETA: 0s - loss: 0.7979 - accuracy: 0.6794"
          ]
        },
        {
          "output_type": "stream",
          "name": "stderr",
          "text": [
            "WARNING:tensorflow:Early stopping conditioned on metric `val_loss` which is not available. Available metrics are: loss,accuracy\n"
          ]
        },
        {
          "output_type": "stream",
          "name": "stdout",
          "text": [
            "\b\b\b\b\b\b\b\b\b\b\b\b\b\b\b\b\b\b\b\b\b\b\b\b\b\b\b\b\b\b\b\b\b\b\b\b\b\b\b\b\b\b\b\b\b\b\b\b\b\b\b\b\b\b\b\b\b\b\b\b\b\b\b\b\b\b\b\b\b\b\b\b\b\b\b\b\b\b\b\b\b\b\b\b\r901/901 [==============================] - 14s 15ms/step - loss: 0.7981 - accuracy: 0.6793\n",
            "Epoch 77/120\n",
            "901/901 [==============================] - ETA: 0s - loss: 0.7953 - accuracy: 0.6788"
          ]
        },
        {
          "output_type": "stream",
          "name": "stderr",
          "text": [
            "WARNING:tensorflow:Early stopping conditioned on metric `val_loss` which is not available. Available metrics are: loss,accuracy\n"
          ]
        },
        {
          "output_type": "stream",
          "name": "stdout",
          "text": [
            "\b\b\b\b\b\b\b\b\b\b\b\b\b\b\b\b\b\b\b\b\b\b\b\b\b\b\b\b\b\b\b\b\b\b\b\b\b\b\b\b\b\b\b\b\b\b\b\b\b\b\b\b\b\b\b\b\b\b\b\b\b\b\b\b\b\b\b\b\b\b\b\b\b\b\b\b\b\b\b\b\b\b\b\b\r901/901 [==============================] - 14s 15ms/step - loss: 0.7953 - accuracy: 0.6788\n",
            "Epoch 78/120\n",
            "898/901 [============================>.] - ETA: 0s - loss: 0.7841 - accuracy: 0.6834"
          ]
        },
        {
          "output_type": "stream",
          "name": "stderr",
          "text": [
            "WARNING:tensorflow:Early stopping conditioned on metric `val_loss` which is not available. Available metrics are: loss,accuracy\n"
          ]
        },
        {
          "output_type": "stream",
          "name": "stdout",
          "text": [
            "\b\b\b\b\b\b\b\b\b\b\b\b\b\b\b\b\b\b\b\b\b\b\b\b\b\b\b\b\b\b\b\b\b\b\b\b\b\b\b\b\b\b\b\b\b\b\b\b\b\b\b\b\b\b\b\b\b\b\b\b\b\b\b\b\b\b\b\b\b\b\b\b\b\b\b\b\b\b\b\b\b\b\b\b\r901/901 [==============================] - 14s 16ms/step - loss: 0.7844 - accuracy: 0.6831\n",
            "Epoch 79/120\n",
            "901/901 [==============================] - ETA: 0s - loss: 0.7877 - accuracy: 0.6811"
          ]
        },
        {
          "output_type": "stream",
          "name": "stderr",
          "text": [
            "WARNING:tensorflow:Early stopping conditioned on metric `val_loss` which is not available. Available metrics are: loss,accuracy\n"
          ]
        },
        {
          "output_type": "stream",
          "name": "stdout",
          "text": [
            "\b\b\b\b\b\b\b\b\b\b\b\b\b\b\b\b\b\b\b\b\b\b\b\b\b\b\b\b\b\b\b\b\b\b\b\b\b\b\b\b\b\b\b\b\b\b\b\b\b\b\b\b\b\b\b\b\b\b\b\b\b\b\b\b\b\b\b\b\b\b\b\b\b\b\b\b\b\b\b\b\b\b\b\b\r901/901 [==============================] - 14s 16ms/step - loss: 0.7877 - accuracy: 0.6811\n",
            "Epoch 80/120\n",
            "898/901 [============================>.] - ETA: 0s - loss: 0.7845 - accuracy: 0.6833"
          ]
        },
        {
          "output_type": "stream",
          "name": "stderr",
          "text": [
            "WARNING:tensorflow:Early stopping conditioned on metric `val_loss` which is not available. Available metrics are: loss,accuracy\n"
          ]
        },
        {
          "output_type": "stream",
          "name": "stdout",
          "text": [
            "\b\b\b\b\b\b\b\b\b\b\b\b\b\b\b\b\b\b\b\b\b\b\b\b\b\b\b\b\b\b\b\b\b\b\b\b\b\b\b\b\b\b\b\b\b\b\b\b\b\b\b\b\b\b\b\b\b\b\b\b\b\b\b\b\b\b\b\b\b\b\b\b\b\b\b\b\b\b\b\b\b\b\b\b\r901/901 [==============================] - 14s 16ms/step - loss: 0.7846 - accuracy: 0.6832\n",
            "Epoch 81/120\n",
            "901/901 [==============================] - ETA: 0s - loss: 0.7703 - accuracy: 0.6873"
          ]
        },
        {
          "output_type": "stream",
          "name": "stderr",
          "text": [
            "WARNING:tensorflow:Early stopping conditioned on metric `val_loss` which is not available. Available metrics are: loss,accuracy\n"
          ]
        },
        {
          "output_type": "stream",
          "name": "stdout",
          "text": [
            "\b\b\b\b\b\b\b\b\b\b\b\b\b\b\b\b\b\b\b\b\b\b\b\b\b\b\b\b\b\b\b\b\b\b\b\b\b\b\b\b\b\b\b\b\b\b\b\b\b\b\b\b\b\b\b\b\b\b\b\b\b\b\b\b\b\b\b\b\b\b\b\b\b\b\b\b\b\b\b\b\b\b\b\b\r901/901 [==============================] - 14s 15ms/step - loss: 0.7703 - accuracy: 0.6873\n",
            "Epoch 82/120\n",
            "901/901 [==============================] - ETA: 0s - loss: 0.7763 - accuracy: 0.6857"
          ]
        },
        {
          "output_type": "stream",
          "name": "stderr",
          "text": [
            "WARNING:tensorflow:Early stopping conditioned on metric `val_loss` which is not available. Available metrics are: loss,accuracy\n"
          ]
        },
        {
          "output_type": "stream",
          "name": "stdout",
          "text": [
            "\b\b\b\b\b\b\b\b\b\b\b\b\b\b\b\b\b\b\b\b\b\b\b\b\b\b\b\b\b\b\b\b\b\b\b\b\b\b\b\b\b\b\b\b\b\b\b\b\b\b\b\b\b\b\b\b\b\b\b\b\b\b\b\b\b\b\b\b\b\b\b\b\b\b\b\b\b\b\b\b\b\b\b\b\r901/901 [==============================] - 14s 16ms/step - loss: 0.7763 - accuracy: 0.6857\n",
            "Epoch 83/120\n",
            "898/901 [============================>.] - ETA: 0s - loss: 0.7705 - accuracy: 0.6900"
          ]
        },
        {
          "output_type": "stream",
          "name": "stderr",
          "text": [
            "WARNING:tensorflow:Early stopping conditioned on metric `val_loss` which is not available. Available metrics are: loss,accuracy\n"
          ]
        },
        {
          "output_type": "stream",
          "name": "stdout",
          "text": [
            "\b\b\b\b\b\b\b\b\b\b\b\b\b\b\b\b\b\b\b\b\b\b\b\b\b\b\b\b\b\b\b\b\b\b\b\b\b\b\b\b\b\b\b\b\b\b\b\b\b\b\b\b\b\b\b\b\b\b\b\b\b\b\b\b\b\b\b\b\b\b\b\b\b\b\b\b\b\b\b\b\b\b\b\b\r901/901 [==============================] - 14s 16ms/step - loss: 0.7701 - accuracy: 0.6901\n",
            "Epoch 84/120\n",
            "899/901 [============================>.] - ETA: 0s - loss: 0.7719 - accuracy: 0.6846"
          ]
        },
        {
          "output_type": "stream",
          "name": "stderr",
          "text": [
            "WARNING:tensorflow:Early stopping conditioned on metric `val_loss` which is not available. Available metrics are: loss,accuracy\n"
          ]
        },
        {
          "output_type": "stream",
          "name": "stdout",
          "text": [
            "\b\b\b\b\b\b\b\b\b\b\b\b\b\b\b\b\b\b\b\b\b\b\b\b\b\b\b\b\b\b\b\b\b\b\b\b\b\b\b\b\b\b\b\b\b\b\b\b\b\b\b\b\b\b\b\b\b\b\b\b\b\b\b\b\b\b\b\b\b\b\b\b\b\b\b\b\b\b\b\b\b\b\b\b\r901/901 [==============================] - 14s 16ms/step - loss: 0.7722 - accuracy: 0.6844\n",
            "Epoch 85/120\n",
            "898/901 [============================>.] - ETA: 0s - loss: 0.7634 - accuracy: 0.6941"
          ]
        },
        {
          "output_type": "stream",
          "name": "stderr",
          "text": [
            "WARNING:tensorflow:Early stopping conditioned on metric `val_loss` which is not available. Available metrics are: loss,accuracy\n"
          ]
        },
        {
          "output_type": "stream",
          "name": "stdout",
          "text": [
            "\b\b\b\b\b\b\b\b\b\b\b\b\b\b\b\b\b\b\b\b\b\b\b\b\b\b\b\b\b\b\b\b\b\b\b\b\b\b\b\b\b\b\b\b\b\b\b\b\b\b\b\b\b\b\b\b\b\b\b\b\b\b\b\b\b\b\b\b\b\b\b\b\b\b\b\b\b\b\b\b\b\b\b\b\r901/901 [==============================] - 14s 16ms/step - loss: 0.7634 - accuracy: 0.6940\n",
            "Epoch 86/120\n",
            "901/901 [==============================] - ETA: 0s - loss: 0.7564 - accuracy: 0.6934"
          ]
        },
        {
          "output_type": "stream",
          "name": "stderr",
          "text": [
            "WARNING:tensorflow:Early stopping conditioned on metric `val_loss` which is not available. Available metrics are: loss,accuracy\n"
          ]
        },
        {
          "output_type": "stream",
          "name": "stdout",
          "text": [
            "\b\b\b\b\b\b\b\b\b\b\b\b\b\b\b\b\b\b\b\b\b\b\b\b\b\b\b\b\b\b\b\b\b\b\b\b\b\b\b\b\b\b\b\b\b\b\b\b\b\b\b\b\b\b\b\b\b\b\b\b\b\b\b\b\b\b\b\b\b\b\b\b\b\b\b\b\b\b\b\b\b\b\b\b\r901/901 [==============================] - 14s 16ms/step - loss: 0.7564 - accuracy: 0.6934\n",
            "Epoch 87/120\n",
            "899/901 [============================>.] - ETA: 0s - loss: 0.7521 - accuracy: 0.6965"
          ]
        },
        {
          "output_type": "stream",
          "name": "stderr",
          "text": [
            "WARNING:tensorflow:Early stopping conditioned on metric `val_loss` which is not available. Available metrics are: loss,accuracy\n"
          ]
        },
        {
          "output_type": "stream",
          "name": "stdout",
          "text": [
            "\b\b\b\b\b\b\b\b\b\b\b\b\b\b\b\b\b\b\b\b\b\b\b\b\b\b\b\b\b\b\b\b\b\b\b\b\b\b\b\b\b\b\b\b\b\b\b\b\b\b\b\b\b\b\b\b\b\b\b\b\b\b\b\b\b\b\b\b\b\b\b\b\b\b\b\b\b\b\b\b\b\b\b\b\r901/901 [==============================] - 14s 16ms/step - loss: 0.7520 - accuracy: 0.6965\n",
            "Epoch 88/120\n",
            "898/901 [============================>.] - ETA: 0s - loss: 0.7565 - accuracy: 0.6913"
          ]
        },
        {
          "output_type": "stream",
          "name": "stderr",
          "text": [
            "WARNING:tensorflow:Early stopping conditioned on metric `val_loss` which is not available. Available metrics are: loss,accuracy\n"
          ]
        },
        {
          "output_type": "stream",
          "name": "stdout",
          "text": [
            "\b\b\b\b\b\b\b\b\b\b\b\b\b\b\b\b\b\b\b\b\b\b\b\b\b\b\b\b\b\b\b\b\b\b\b\b\b\b\b\b\b\b\b\b\b\b\b\b\b\b\b\b\b\b\b\b\b\b\b\b\b\b\b\b\b\b\b\b\b\b\b\b\b\b\b\b\b\b\b\b\b\b\b\b\r901/901 [==============================] - 14s 16ms/step - loss: 0.7569 - accuracy: 0.6912\n",
            "Epoch 89/120\n",
            "898/901 [============================>.] - ETA: 0s - loss: 0.7444 - accuracy: 0.7001"
          ]
        },
        {
          "output_type": "stream",
          "name": "stderr",
          "text": [
            "WARNING:tensorflow:Early stopping conditioned on metric `val_loss` which is not available. Available metrics are: loss,accuracy\n"
          ]
        },
        {
          "output_type": "stream",
          "name": "stdout",
          "text": [
            "\b\b\b\b\b\b\b\b\b\b\b\b\b\b\b\b\b\b\b\b\b\b\b\b\b\b\b\b\b\b\b\b\b\b\b\b\b\b\b\b\b\b\b\b\b\b\b\b\b\b\b\b\b\b\b\b\b\b\b\b\b\b\b\b\b\b\b\b\b\b\b\b\b\b\b\b\b\b\b\b\b\b\b\b\r901/901 [==============================] - 14s 16ms/step - loss: 0.7448 - accuracy: 0.6998\n",
            "Epoch 90/120\n",
            "899/901 [============================>.] - ETA: 0s - loss: 0.7485 - accuracy: 0.6966"
          ]
        },
        {
          "output_type": "stream",
          "name": "stderr",
          "text": [
            "WARNING:tensorflow:Early stopping conditioned on metric `val_loss` which is not available. Available metrics are: loss,accuracy\n"
          ]
        },
        {
          "output_type": "stream",
          "name": "stdout",
          "text": [
            "\b\b\b\b\b\b\b\b\b\b\b\b\b\b\b\b\b\b\b\b\b\b\b\b\b\b\b\b\b\b\b\b\b\b\b\b\b\b\b\b\b\b\b\b\b\b\b\b\b\b\b\b\b\b\b\b\b\b\b\b\b\b\b\b\b\b\b\b\b\b\b\b\b\b\b\b\b\b\b\b\b\b\b\b\r901/901 [==============================] - 14s 16ms/step - loss: 0.7485 - accuracy: 0.6966\n",
            "Epoch 91/120\n",
            "899/901 [============================>.] - ETA: 0s - loss: 0.7340 - accuracy: 0.7020"
          ]
        },
        {
          "output_type": "stream",
          "name": "stderr",
          "text": [
            "WARNING:tensorflow:Early stopping conditioned on metric `val_loss` which is not available. Available metrics are: loss,accuracy\n"
          ]
        },
        {
          "output_type": "stream",
          "name": "stdout",
          "text": [
            "\b\b\b\b\b\b\b\b\b\b\b\b\b\b\b\b\b\b\b\b\b\b\b\b\b\b\b\b\b\b\b\b\b\b\b\b\b\b\b\b\b\b\b\b\b\b\b\b\b\b\b\b\b\b\b\b\b\b\b\b\b\b\b\b\b\b\b\b\b\b\b\b\b\b\b\b\b\b\b\b\b\b\b\b\r901/901 [==============================] - 14s 16ms/step - loss: 0.7343 - accuracy: 0.7017\n",
            "Epoch 92/120\n",
            "898/901 [============================>.] - ETA: 0s - loss: 0.7339 - accuracy: 0.7032"
          ]
        },
        {
          "output_type": "stream",
          "name": "stderr",
          "text": [
            "WARNING:tensorflow:Early stopping conditioned on metric `val_loss` which is not available. Available metrics are: loss,accuracy\n"
          ]
        },
        {
          "output_type": "stream",
          "name": "stdout",
          "text": [
            "\b\b\b\b\b\b\b\b\b\b\b\b\b\b\b\b\b\b\b\b\b\b\b\b\b\b\b\b\b\b\b\b\b\b\b\b\b\b\b\b\b\b\b\b\b\b\b\b\b\b\b\b\b\b\b\b\b\b\b\b\b\b\b\b\b\b\b\b\b\b\b\b\b\b\b\b\b\b\b\b\b\b\b\b\r901/901 [==============================] - 14s 16ms/step - loss: 0.7339 - accuracy: 0.7031\n",
            "Epoch 93/120\n",
            "898/901 [============================>.] - ETA: 0s - loss: 0.7345 - accuracy: 0.7003"
          ]
        },
        {
          "output_type": "stream",
          "name": "stderr",
          "text": [
            "WARNING:tensorflow:Early stopping conditioned on metric `val_loss` which is not available. Available metrics are: loss,accuracy\n"
          ]
        },
        {
          "output_type": "stream",
          "name": "stdout",
          "text": [
            "\b\b\b\b\b\b\b\b\b\b\b\b\b\b\b\b\b\b\b\b\b\b\b\b\b\b\b\b\b\b\b\b\b\b\b\b\b\b\b\b\b\b\b\b\b\b\b\b\b\b\b\b\b\b\b\b\b\b\b\b\b\b\b\b\b\b\b\b\b\b\b\b\b\b\b\b\b\b\b\b\b\b\b\b\r901/901 [==============================] - 14s 16ms/step - loss: 0.7343 - accuracy: 0.7005\n",
            "Epoch 94/120\n",
            "899/901 [============================>.] - ETA: 0s - loss: 0.7460 - accuracy: 0.7001"
          ]
        },
        {
          "output_type": "stream",
          "name": "stderr",
          "text": [
            "WARNING:tensorflow:Early stopping conditioned on metric `val_loss` which is not available. Available metrics are: loss,accuracy\n"
          ]
        },
        {
          "output_type": "stream",
          "name": "stdout",
          "text": [
            "\b\b\b\b\b\b\b\b\b\b\b\b\b\b\b\b\b\b\b\b\b\b\b\b\b\b\b\b\b\b\b\b\b\b\b\b\b\b\b\b\b\b\b\b\b\b\b\b\b\b\b\b\b\b\b\b\b\b\b\b\b\b\b\b\b\b\b\b\b\b\b\b\b\b\b\b\b\b\b\b\b\b\b\b\r901/901 [==============================] - 14s 16ms/step - loss: 0.7462 - accuracy: 0.6999\n",
            "Epoch 95/120\n",
            "898/901 [============================>.] - ETA: 0s - loss: 0.7327 - accuracy: 0.7019"
          ]
        },
        {
          "output_type": "stream",
          "name": "stderr",
          "text": [
            "WARNING:tensorflow:Early stopping conditioned on metric `val_loss` which is not available. Available metrics are: loss,accuracy\n"
          ]
        },
        {
          "output_type": "stream",
          "name": "stdout",
          "text": [
            "\b\b\b\b\b\b\b\b\b\b\b\b\b\b\b\b\b\b\b\b\b\b\b\b\b\b\b\b\b\b\b\b\b\b\b\b\b\b\b\b\b\b\b\b\b\b\b\b\b\b\b\b\b\b\b\b\b\b\b\b\b\b\b\b\b\b\b\b\b\b\b\b\b\b\b\b\b\b\b\b\b\b\b\b\r901/901 [==============================] - 14s 16ms/step - loss: 0.7329 - accuracy: 0.7016\n",
            "Epoch 96/120\n",
            "900/901 [============================>.] - ETA: 0s - loss: 0.7235 - accuracy: 0.7035"
          ]
        },
        {
          "output_type": "stream",
          "name": "stderr",
          "text": [
            "WARNING:tensorflow:Early stopping conditioned on metric `val_loss` which is not available. Available metrics are: loss,accuracy\n"
          ]
        },
        {
          "output_type": "stream",
          "name": "stdout",
          "text": [
            "\b\b\b\b\b\b\b\b\b\b\b\b\b\b\b\b\b\b\b\b\b\b\b\b\b\b\b\b\b\b\b\b\b\b\b\b\b\b\b\b\b\b\b\b\b\b\b\b\b\b\b\b\b\b\b\b\b\b\b\b\b\b\b\b\b\b\b\b\b\b\b\b\b\b\b\b\b\b\b\b\b\b\b\b\r901/901 [==============================] - 14s 16ms/step - loss: 0.7234 - accuracy: 0.7035\n",
            "Epoch 97/120\n",
            "900/901 [============================>.] - ETA: 0s - loss: 0.7363 - accuracy: 0.6959"
          ]
        },
        {
          "output_type": "stream",
          "name": "stderr",
          "text": [
            "WARNING:tensorflow:Early stopping conditioned on metric `val_loss` which is not available. Available metrics are: loss,accuracy\n"
          ]
        },
        {
          "output_type": "stream",
          "name": "stdout",
          "text": [
            "\b\b\b\b\b\b\b\b\b\b\b\b\b\b\b\b\b\b\b\b\b\b\b\b\b\b\b\b\b\b\b\b\b\b\b\b\b\b\b\b\b\b\b\b\b\b\b\b\b\b\b\b\b\b\b\b\b\b\b\b\b\b\b\b\b\b\b\b\b\b\b\b\b\b\b\b\b\b\b\b\b\b\b\b\r901/901 [==============================] - 14s 16ms/step - loss: 0.7362 - accuracy: 0.6959\n",
            "Epoch 98/120\n",
            "901/901 [==============================] - ETA: 0s - loss: 0.7248 - accuracy: 0.7035"
          ]
        },
        {
          "output_type": "stream",
          "name": "stderr",
          "text": [
            "WARNING:tensorflow:Early stopping conditioned on metric `val_loss` which is not available. Available metrics are: loss,accuracy\n"
          ]
        },
        {
          "output_type": "stream",
          "name": "stdout",
          "text": [
            "\b\b\b\b\b\b\b\b\b\b\b\b\b\b\b\b\b\b\b\b\b\b\b\b\b\b\b\b\b\b\b\b\b\b\b\b\b\b\b\b\b\b\b\b\b\b\b\b\b\b\b\b\b\b\b\b\b\b\b\b\b\b\b\b\b\b\b\b\b\b\b\b\b\b\b\b\b\b\b\b\b\b\b\b\r901/901 [==============================] - 14s 16ms/step - loss: 0.7248 - accuracy: 0.7035\n",
            "Epoch 99/120\n",
            "901/901 [==============================] - ETA: 0s - loss: 0.7086 - accuracy: 0.7099"
          ]
        },
        {
          "output_type": "stream",
          "name": "stderr",
          "text": [
            "WARNING:tensorflow:Early stopping conditioned on metric `val_loss` which is not available. Available metrics are: loss,accuracy\n"
          ]
        },
        {
          "output_type": "stream",
          "name": "stdout",
          "text": [
            "\b\b\b\b\b\b\b\b\b\b\b\b\b\b\b\b\b\b\b\b\b\b\b\b\b\b\b\b\b\b\b\b\b\b\b\b\b\b\b\b\b\b\b\b\b\b\b\b\b\b\b\b\b\b\b\b\b\b\b\b\b\b\b\b\b\b\b\b\b\b\b\b\b\b\b\b\b\b\b\b\b\b\b\b\r901/901 [==============================] - 14s 16ms/step - loss: 0.7086 - accuracy: 0.7099\n",
            "Epoch 100/120\n",
            "900/901 [============================>.] - ETA: 0s - loss: 0.7111 - accuracy: 0.7081"
          ]
        },
        {
          "output_type": "stream",
          "name": "stderr",
          "text": [
            "WARNING:tensorflow:Early stopping conditioned on metric `val_loss` which is not available. Available metrics are: loss,accuracy\n"
          ]
        },
        {
          "output_type": "stream",
          "name": "stdout",
          "text": [
            "\b\b\b\b\b\b\b\b\b\b\b\b\b\b\b\b\b\b\b\b\b\b\b\b\b\b\b\b\b\b\b\b\b\b\b\b\b\b\b\b\b\b\b\b\b\b\b\b\b\b\b\b\b\b\b\b\b\b\b\b\b\b\b\b\b\b\b\b\b\b\b\b\b\b\b\b\b\b\b\b\b\b\b\b\r901/901 [==============================] - 14s 16ms/step - loss: 0.7110 - accuracy: 0.7082\n",
            "Epoch 101/120\n",
            "899/901 [============================>.] - ETA: 0s - loss: 0.7167 - accuracy: 0.7070"
          ]
        },
        {
          "output_type": "stream",
          "name": "stderr",
          "text": [
            "WARNING:tensorflow:Early stopping conditioned on metric `val_loss` which is not available. Available metrics are: loss,accuracy\n"
          ]
        },
        {
          "output_type": "stream",
          "name": "stdout",
          "text": [
            "\b\b\b\b\b\b\b\b\b\b\b\b\b\b\b\b\b\b\b\b\b\b\b\b\b\b\b\b\b\b\b\b\b\b\b\b\b\b\b\b\b\b\b\b\b\b\b\b\b\b\b\b\b\b\b\b\b\b\b\b\b\b\b\b\b\b\b\b\b\b\b\b\b\b\b\b\b\b\b\b\b\b\b\b\r901/901 [==============================] - 14s 16ms/step - loss: 0.7166 - accuracy: 0.7070\n",
            "Epoch 102/120\n",
            "901/901 [==============================] - ETA: 0s - loss: 0.7100 - accuracy: 0.7108"
          ]
        },
        {
          "output_type": "stream",
          "name": "stderr",
          "text": [
            "WARNING:tensorflow:Early stopping conditioned on metric `val_loss` which is not available. Available metrics are: loss,accuracy\n"
          ]
        },
        {
          "output_type": "stream",
          "name": "stdout",
          "text": [
            "\b\b\b\b\b\b\b\b\b\b\b\b\b\b\b\b\b\b\b\b\b\b\b\b\b\b\b\b\b\b\b\b\b\b\b\b\b\b\b\b\b\b\b\b\b\b\b\b\b\b\b\b\b\b\b\b\b\b\b\b\b\b\b\b\b\b\b\b\b\b\b\b\b\b\b\b\b\b\b\b\b\b\b\b\r901/901 [==============================] - 14s 16ms/step - loss: 0.7100 - accuracy: 0.7108\n",
            "Epoch 103/120\n",
            "901/901 [==============================] - ETA: 0s - loss: 0.7084 - accuracy: 0.7090"
          ]
        },
        {
          "output_type": "stream",
          "name": "stderr",
          "text": [
            "WARNING:tensorflow:Early stopping conditioned on metric `val_loss` which is not available. Available metrics are: loss,accuracy\n"
          ]
        },
        {
          "output_type": "stream",
          "name": "stdout",
          "text": [
            "\b\b\b\b\b\b\b\b\b\b\b\b\b\b\b\b\b\b\b\b\b\b\b\b\b\b\b\b\b\b\b\b\b\b\b\b\b\b\b\b\b\b\b\b\b\b\b\b\b\b\b\b\b\b\b\b\b\b\b\b\b\b\b\b\b\b\b\b\b\b\b\b\b\b\b\b\b\b\b\b\b\b\b\b\r901/901 [==============================] - 15s 16ms/step - loss: 0.7084 - accuracy: 0.7090\n",
            "Epoch 104/120\n",
            "899/901 [============================>.] - ETA: 0s - loss: 0.7061 - accuracy: 0.7119"
          ]
        },
        {
          "output_type": "stream",
          "name": "stderr",
          "text": [
            "WARNING:tensorflow:Early stopping conditioned on metric `val_loss` which is not available. Available metrics are: loss,accuracy\n"
          ]
        },
        {
          "output_type": "stream",
          "name": "stdout",
          "text": [
            "\b\b\b\b\b\b\b\b\b\b\b\b\b\b\b\b\b\b\b\b\b\b\b\b\b\b\b\b\b\b\b\b\b\b\b\b\b\b\b\b\b\b\b\b\b\b\b\b\b\b\b\b\b\b\b\b\b\b\b\b\b\b\b\b\b\b\b\b\b\b\b\b\b\b\b\b\b\b\b\b\b\b\b\b\r901/901 [==============================] - 14s 16ms/step - loss: 0.7061 - accuracy: 0.7119\n",
            "Epoch 105/120\n",
            "898/901 [============================>.] - ETA: 0s - loss: 0.7062 - accuracy: 0.7106"
          ]
        },
        {
          "output_type": "stream",
          "name": "stderr",
          "text": [
            "WARNING:tensorflow:Early stopping conditioned on metric `val_loss` which is not available. Available metrics are: loss,accuracy\n"
          ]
        },
        {
          "output_type": "stream",
          "name": "stdout",
          "text": [
            "\b\b\b\b\b\b\b\b\b\b\b\b\b\b\b\b\b\b\b\b\b\b\b\b\b\b\b\b\b\b\b\b\b\b\b\b\b\b\b\b\b\b\b\b\b\b\b\b\b\b\b\b\b\b\b\b\b\b\b\b\b\b\b\b\b\b\b\b\b\b\b\b\b\b\b\b\b\b\b\b\b\b\b\b\r901/901 [==============================] - 14s 16ms/step - loss: 0.7062 - accuracy: 0.7106\n",
            "Epoch 106/120\n",
            "901/901 [==============================] - ETA: 0s - loss: 0.7000 - accuracy: 0.7147"
          ]
        },
        {
          "output_type": "stream",
          "name": "stderr",
          "text": [
            "WARNING:tensorflow:Early stopping conditioned on metric `val_loss` which is not available. Available metrics are: loss,accuracy\n"
          ]
        },
        {
          "output_type": "stream",
          "name": "stdout",
          "text": [
            "\b\b\b\b\b\b\b\b\b\b\b\b\b\b\b\b\b\b\b\b\b\b\b\b\b\b\b\b\b\b\b\b\b\b\b\b\b\b\b\b\b\b\b\b\b\b\b\b\b\b\b\b\b\b\b\b\b\b\b\b\b\b\b\b\b\b\b\b\b\b\b\b\b\b\b\b\b\b\b\b\b\b\b\b\r901/901 [==============================] - 14s 16ms/step - loss: 0.7000 - accuracy: 0.7147\n",
            "Epoch 107/120\n",
            "901/901 [==============================] - ETA: 0s - loss: 0.6984 - accuracy: 0.7143"
          ]
        },
        {
          "output_type": "stream",
          "name": "stderr",
          "text": [
            "WARNING:tensorflow:Early stopping conditioned on metric `val_loss` which is not available. Available metrics are: loss,accuracy\n"
          ]
        },
        {
          "output_type": "stream",
          "name": "stdout",
          "text": [
            "\b\b\b\b\b\b\b\b\b\b\b\b\b\b\b\b\b\b\b\b\b\b\b\b\b\b\b\b\b\b\b\b\b\b\b\b\b\b\b\b\b\b\b\b\b\b\b\b\b\b\b\b\b\b\b\b\b\b\b\b\b\b\b\b\b\b\b\b\b\b\b\b\b\b\b\b\b\b\b\b\b\b\b\b\r901/901 [==============================] - 14s 16ms/step - loss: 0.6984 - accuracy: 0.7143\n",
            "Epoch 108/120\n",
            "898/901 [============================>.] - ETA: 0s - loss: 0.7031 - accuracy: 0.7113"
          ]
        },
        {
          "output_type": "stream",
          "name": "stderr",
          "text": [
            "WARNING:tensorflow:Early stopping conditioned on metric `val_loss` which is not available. Available metrics are: loss,accuracy\n"
          ]
        },
        {
          "output_type": "stream",
          "name": "stdout",
          "text": [
            "\b\b\b\b\b\b\b\b\b\b\b\b\b\b\b\b\b\b\b\b\b\b\b\b\b\b\b\b\b\b\b\b\b\b\b\b\b\b\b\b\b\b\b\b\b\b\b\b\b\b\b\b\b\b\b\b\b\b\b\b\b\b\b\b\b\b\b\b\b\b\b\b\b\b\b\b\b\b\b\b\b\b\b\b\r901/901 [==============================] - 14s 16ms/step - loss: 0.7034 - accuracy: 0.7113\n",
            "Epoch 109/120\n",
            "900/901 [============================>.] - ETA: 0s - loss: 0.6879 - accuracy: 0.7196"
          ]
        },
        {
          "output_type": "stream",
          "name": "stderr",
          "text": [
            "WARNING:tensorflow:Early stopping conditioned on metric `val_loss` which is not available. Available metrics are: loss,accuracy\n"
          ]
        },
        {
          "output_type": "stream",
          "name": "stdout",
          "text": [
            "\b\b\b\b\b\b\b\b\b\b\b\b\b\b\b\b\b\b\b\b\b\b\b\b\b\b\b\b\b\b\b\b\b\b\b\b\b\b\b\b\b\b\b\b\b\b\b\b\b\b\b\b\b\b\b\b\b\b\b\b\b\b\b\b\b\b\b\b\b\b\b\b\b\b\b\b\b\b\b\b\b\b\b\b\r901/901 [==============================] - 14s 16ms/step - loss: 0.6880 - accuracy: 0.7195\n",
            "Epoch 110/120\n",
            "900/901 [============================>.] - ETA: 0s - loss: 0.6908 - accuracy: 0.7179"
          ]
        },
        {
          "output_type": "stream",
          "name": "stderr",
          "text": [
            "WARNING:tensorflow:Early stopping conditioned on metric `val_loss` which is not available. Available metrics are: loss,accuracy\n"
          ]
        },
        {
          "output_type": "stream",
          "name": "stdout",
          "text": [
            "\b\b\b\b\b\b\b\b\b\b\b\b\b\b\b\b\b\b\b\b\b\b\b\b\b\b\b\b\b\b\b\b\b\b\b\b\b\b\b\b\b\b\b\b\b\b\b\b\b\b\b\b\b\b\b\b\b\b\b\b\b\b\b\b\b\b\b\b\b\b\b\b\b\b\b\b\b\b\b\b\b\b\b\b\r901/901 [==============================] - 14s 16ms/step - loss: 0.6907 - accuracy: 0.7180\n",
            "Epoch 111/120\n",
            "900/901 [============================>.] - ETA: 0s - loss: 0.6917 - accuracy: 0.7143"
          ]
        },
        {
          "output_type": "stream",
          "name": "stderr",
          "text": [
            "WARNING:tensorflow:Early stopping conditioned on metric `val_loss` which is not available. Available metrics are: loss,accuracy\n"
          ]
        },
        {
          "output_type": "stream",
          "name": "stdout",
          "text": [
            "\b\b\b\b\b\b\b\b\b\b\b\b\b\b\b\b\b\b\b\b\b\b\b\b\b\b\b\b\b\b\b\b\b\b\b\b\b\b\b\b\b\b\b\b\b\b\b\b\b\b\b\b\b\b\b\b\b\b\b\b\b\b\b\b\b\b\b\b\b\b\b\b\b\b\b\b\b\b\b\b\b\b\b\b\r901/901 [==============================] - 14s 16ms/step - loss: 0.6920 - accuracy: 0.7142\n",
            "Epoch 112/120\n",
            "898/901 [============================>.] - ETA: 0s - loss: 0.6858 - accuracy: 0.7174"
          ]
        },
        {
          "output_type": "stream",
          "name": "stderr",
          "text": [
            "WARNING:tensorflow:Early stopping conditioned on metric `val_loss` which is not available. Available metrics are: loss,accuracy\n"
          ]
        },
        {
          "output_type": "stream",
          "name": "stdout",
          "text": [
            "\b\b\b\b\b\b\b\b\b\b\b\b\b\b\b\b\b\b\b\b\b\b\b\b\b\b\b\b\b\b\b\b\b\b\b\b\b\b\b\b\b\b\b\b\b\b\b\b\b\b\b\b\b\b\b\b\b\b\b\b\b\b\b\b\b\b\b\b\b\b\b\b\b\b\b\b\b\b\b\b\b\b\b\b\r901/901 [==============================] - 14s 16ms/step - loss: 0.6860 - accuracy: 0.7172\n",
            "Epoch 113/120\n",
            "898/901 [============================>.] - ETA: 0s - loss: 0.6847 - accuracy: 0.7241"
          ]
        },
        {
          "output_type": "stream",
          "name": "stderr",
          "text": [
            "WARNING:tensorflow:Early stopping conditioned on metric `val_loss` which is not available. Available metrics are: loss,accuracy\n"
          ]
        },
        {
          "output_type": "stream",
          "name": "stdout",
          "text": [
            "\b\b\b\b\b\b\b\b\b\b\b\b\b\b\b\b\b\b\b\b\b\b\b\b\b\b\b\b\b\b\b\b\b\b\b\b\b\b\b\b\b\b\b\b\b\b\b\b\b\b\b\b\b\b\b\b\b\b\b\b\b\b\b\b\b\b\b\b\b\b\b\b\b\b\b\b\b\b\b\b\b\b\b\b\r901/901 [==============================] - 14s 16ms/step - loss: 0.6851 - accuracy: 0.7239\n",
            "Epoch 114/120\n",
            "899/901 [============================>.] - ETA: 0s - loss: 0.6793 - accuracy: 0.7240"
          ]
        },
        {
          "output_type": "stream",
          "name": "stderr",
          "text": [
            "WARNING:tensorflow:Early stopping conditioned on metric `val_loss` which is not available. Available metrics are: loss,accuracy\n"
          ]
        },
        {
          "output_type": "stream",
          "name": "stdout",
          "text": [
            "\b\b\b\b\b\b\b\b\b\b\b\b\b\b\b\b\b\b\b\b\b\b\b\b\b\b\b\b\b\b\b\b\b\b\b\b\b\b\b\b\b\b\b\b\b\b\b\b\b\b\b\b\b\b\b\b\b\b\b\b\b\b\b\b\b\b\b\b\b\b\b\b\b\b\b\b\b\b\b\b\b\b\b\b\r901/901 [==============================] - 14s 16ms/step - loss: 0.6792 - accuracy: 0.7241\n",
            "Epoch 115/120\n",
            "899/901 [============================>.] - ETA: 0s - loss: 0.6827 - accuracy: 0.7183"
          ]
        },
        {
          "output_type": "stream",
          "name": "stderr",
          "text": [
            "WARNING:tensorflow:Early stopping conditioned on metric `val_loss` which is not available. Available metrics are: loss,accuracy\n"
          ]
        },
        {
          "output_type": "stream",
          "name": "stdout",
          "text": [
            "\b\b\b\b\b\b\b\b\b\b\b\b\b\b\b\b\b\b\b\b\b\b\b\b\b\b\b\b\b\b\b\b\b\b\b\b\b\b\b\b\b\b\b\b\b\b\b\b\b\b\b\b\b\b\b\b\b\b\b\b\b\b\b\b\b\b\b\b\b\b\b\b\b\b\b\b\b\b\b\b\b\b\b\b\r901/901 [==============================] - 14s 16ms/step - loss: 0.6828 - accuracy: 0.7183\n",
            "Epoch 116/120\n",
            "900/901 [============================>.] - ETA: 0s - loss: 0.6787 - accuracy: 0.7164"
          ]
        },
        {
          "output_type": "stream",
          "name": "stderr",
          "text": [
            "WARNING:tensorflow:Early stopping conditioned on metric `val_loss` which is not available. Available metrics are: loss,accuracy\n"
          ]
        },
        {
          "output_type": "stream",
          "name": "stdout",
          "text": [
            "\b\b\b\b\b\b\b\b\b\b\b\b\b\b\b\b\b\b\b\b\b\b\b\b\b\b\b\b\b\b\b\b\b\b\b\b\b\b\b\b\b\b\b\b\b\b\b\b\b\b\b\b\b\b\b\b\b\b\b\b\b\b\b\b\b\b\b\b\b\b\b\b\b\b\b\b\b\b\b\b\b\b\b\b\r901/901 [==============================] - 14s 16ms/step - loss: 0.6787 - accuracy: 0.7165\n",
            "Epoch 117/120\n",
            "900/901 [============================>.] - ETA: 0s - loss: 0.6791 - accuracy: 0.7184"
          ]
        },
        {
          "output_type": "stream",
          "name": "stderr",
          "text": [
            "WARNING:tensorflow:Early stopping conditioned on metric `val_loss` which is not available. Available metrics are: loss,accuracy\n"
          ]
        },
        {
          "output_type": "stream",
          "name": "stdout",
          "text": [
            "\b\b\b\b\b\b\b\b\b\b\b\b\b\b\b\b\b\b\b\b\b\b\b\b\b\b\b\b\b\b\b\b\b\b\b\b\b\b\b\b\b\b\b\b\b\b\b\b\b\b\b\b\b\b\b\b\b\b\b\b\b\b\b\b\b\b\b\b\b\b\b\b\b\b\b\b\b\b\b\b\b\b\b\b\r901/901 [==============================] - 14s 16ms/step - loss: 0.6792 - accuracy: 0.7184\n",
            "Epoch 118/120\n",
            "901/901 [==============================] - ETA: 0s - loss: 0.6699 - accuracy: 0.7245"
          ]
        },
        {
          "output_type": "stream",
          "name": "stderr",
          "text": [
            "WARNING:tensorflow:Early stopping conditioned on metric `val_loss` which is not available. Available metrics are: loss,accuracy\n"
          ]
        },
        {
          "output_type": "stream",
          "name": "stdout",
          "text": [
            "\b\b\b\b\b\b\b\b\b\b\b\b\b\b\b\b\b\b\b\b\b\b\b\b\b\b\b\b\b\b\b\b\b\b\b\b\b\b\b\b\b\b\b\b\b\b\b\b\b\b\b\b\b\b\b\b\b\b\b\b\b\b\b\b\b\b\b\b\b\b\b\b\b\b\b\b\b\b\b\b\b\b\b\b\r901/901 [==============================] - 14s 16ms/step - loss: 0.6699 - accuracy: 0.7245\n",
            "Epoch 119/120\n",
            "900/901 [============================>.] - ETA: 0s - loss: 0.6695 - accuracy: 0.7248"
          ]
        },
        {
          "output_type": "stream",
          "name": "stderr",
          "text": [
            "WARNING:tensorflow:Early stopping conditioned on metric `val_loss` which is not available. Available metrics are: loss,accuracy\n"
          ]
        },
        {
          "output_type": "stream",
          "name": "stdout",
          "text": [
            "\b\b\b\b\b\b\b\b\b\b\b\b\b\b\b\b\b\b\b\b\b\b\b\b\b\b\b\b\b\b\b\b\b\b\b\b\b\b\b\b\b\b\b\b\b\b\b\b\b\b\b\b\b\b\b\b\b\b\b\b\b\b\b\b\b\b\b\b\b\b\b\b\b\b\b\b\b\b\b\b\b\b\b\b\r901/901 [==============================] - 14s 16ms/step - loss: 0.6695 - accuracy: 0.7247\n",
            "Epoch 120/120\n",
            "898/901 [============================>.] - ETA: 0s - loss: 0.6605 - accuracy: 0.7302"
          ]
        },
        {
          "output_type": "stream",
          "name": "stderr",
          "text": [
            "WARNING:tensorflow:Early stopping conditioned on metric `val_loss` which is not available. Available metrics are: loss,accuracy\n"
          ]
        },
        {
          "output_type": "stream",
          "name": "stdout",
          "text": [
            "\b\b\b\b\b\b\b\b\b\b\b\b\b\b\b\b\b\b\b\b\b\b\b\b\b\b\b\b\b\b\b\b\b\b\b\b\b\b\b\b\b\b\b\b\b\b\b\b\b\b\b\b\b\b\b\b\b\b\b\b\b\b\b\b\b\b\b\b\b\b\b\b\b\b\b\b\b\b\b\b\b\b\b\b\r901/901 [==============================] - 14s 16ms/step - loss: 0.6604 - accuracy: 0.7303\n"
          ]
        }
      ]
    },
    {
      "cell_type": "code",
      "source": [
        "df_test = pd.read_csv(\"test_set.csv\")\n",
        "df_test.head()"
      ],
      "metadata": {
        "colab": {
          "base_uri": "https://localhost:8080/",
          "height": 206
        },
        "id": "KhYmHel81eRB",
        "outputId": "a3c859db-c308-49d8-a2a7-43af2b826d50"
      },
      "execution_count": 17,
      "outputs": [
        {
          "output_type": "execute_result",
          "data": {
            "text/plain": [
              "   id_img\n",
              "0   10052\n",
              "1   10065\n",
              "2   10079\n",
              "3   10095\n",
              "4   10121"
            ],
            "text/html": [
              "\n",
              "  <div id=\"df-5c8d1344-bc8a-4340-8364-f53d791edc2a\">\n",
              "    <div class=\"colab-df-container\">\n",
              "      <div>\n",
              "<style scoped>\n",
              "    .dataframe tbody tr th:only-of-type {\n",
              "        vertical-align: middle;\n",
              "    }\n",
              "\n",
              "    .dataframe tbody tr th {\n",
              "        vertical-align: top;\n",
              "    }\n",
              "\n",
              "    .dataframe thead th {\n",
              "        text-align: right;\n",
              "    }\n",
              "</style>\n",
              "<table border=\"1\" class=\"dataframe\">\n",
              "  <thead>\n",
              "    <tr style=\"text-align: right;\">\n",
              "      <th></th>\n",
              "      <th>id_img</th>\n",
              "    </tr>\n",
              "  </thead>\n",
              "  <tbody>\n",
              "    <tr>\n",
              "      <th>0</th>\n",
              "      <td>10052</td>\n",
              "    </tr>\n",
              "    <tr>\n",
              "      <th>1</th>\n",
              "      <td>10065</td>\n",
              "    </tr>\n",
              "    <tr>\n",
              "      <th>2</th>\n",
              "      <td>10079</td>\n",
              "    </tr>\n",
              "    <tr>\n",
              "      <th>3</th>\n",
              "      <td>10095</td>\n",
              "    </tr>\n",
              "    <tr>\n",
              "      <th>4</th>\n",
              "      <td>10121</td>\n",
              "    </tr>\n",
              "  </tbody>\n",
              "</table>\n",
              "</div>\n",
              "      <button class=\"colab-df-convert\" onclick=\"convertToInteractive('df-5c8d1344-bc8a-4340-8364-f53d791edc2a')\"\n",
              "              title=\"Convert this dataframe to an interactive table.\"\n",
              "              style=\"display:none;\">\n",
              "        \n",
              "  <svg xmlns=\"http://www.w3.org/2000/svg\" height=\"24px\"viewBox=\"0 0 24 24\"\n",
              "       width=\"24px\">\n",
              "    <path d=\"M0 0h24v24H0V0z\" fill=\"none\"/>\n",
              "    <path d=\"M18.56 5.44l.94 2.06.94-2.06 2.06-.94-2.06-.94-.94-2.06-.94 2.06-2.06.94zm-11 1L8.5 8.5l.94-2.06 2.06-.94-2.06-.94L8.5 2.5l-.94 2.06-2.06.94zm10 10l.94 2.06.94-2.06 2.06-.94-2.06-.94-.94-2.06-.94 2.06-2.06.94z\"/><path d=\"M17.41 7.96l-1.37-1.37c-.4-.4-.92-.59-1.43-.59-.52 0-1.04.2-1.43.59L10.3 9.45l-7.72 7.72c-.78.78-.78 2.05 0 2.83L4 21.41c.39.39.9.59 1.41.59.51 0 1.02-.2 1.41-.59l7.78-7.78 2.81-2.81c.8-.78.8-2.07 0-2.86zM5.41 20L4 18.59l7.72-7.72 1.47 1.35L5.41 20z\"/>\n",
              "  </svg>\n",
              "      </button>\n",
              "      \n",
              "  <style>\n",
              "    .colab-df-container {\n",
              "      display:flex;\n",
              "      flex-wrap:wrap;\n",
              "      gap: 12px;\n",
              "    }\n",
              "\n",
              "    .colab-df-convert {\n",
              "      background-color: #E8F0FE;\n",
              "      border: none;\n",
              "      border-radius: 50%;\n",
              "      cursor: pointer;\n",
              "      display: none;\n",
              "      fill: #1967D2;\n",
              "      height: 32px;\n",
              "      padding: 0 0 0 0;\n",
              "      width: 32px;\n",
              "    }\n",
              "\n",
              "    .colab-df-convert:hover {\n",
              "      background-color: #E2EBFA;\n",
              "      box-shadow: 0px 1px 2px rgba(60, 64, 67, 0.3), 0px 1px 3px 1px rgba(60, 64, 67, 0.15);\n",
              "      fill: #174EA6;\n",
              "    }\n",
              "\n",
              "    [theme=dark] .colab-df-convert {\n",
              "      background-color: #3B4455;\n",
              "      fill: #D2E3FC;\n",
              "    }\n",
              "\n",
              "    [theme=dark] .colab-df-convert:hover {\n",
              "      background-color: #434B5C;\n",
              "      box-shadow: 0px 1px 3px 1px rgba(0, 0, 0, 0.15);\n",
              "      filter: drop-shadow(0px 1px 2px rgba(0, 0, 0, 0.3));\n",
              "      fill: #FFFFFF;\n",
              "    }\n",
              "  </style>\n",
              "\n",
              "      <script>\n",
              "        const buttonEl =\n",
              "          document.querySelector('#df-5c8d1344-bc8a-4340-8364-f53d791edc2a button.colab-df-convert');\n",
              "        buttonEl.style.display =\n",
              "          google.colab.kernel.accessAllowed ? 'block' : 'none';\n",
              "\n",
              "        async function convertToInteractive(key) {\n",
              "          const element = document.querySelector('#df-5c8d1344-bc8a-4340-8364-f53d791edc2a');\n",
              "          const dataTable =\n",
              "            await google.colab.kernel.invokeFunction('convertToInteractive',\n",
              "                                                     [key], {});\n",
              "          if (!dataTable) return;\n",
              "\n",
              "          const docLinkHtml = 'Like what you see? Visit the ' +\n",
              "            '<a target=\"_blank\" href=https://colab.research.google.com/notebooks/data_table.ipynb>data table notebook</a>'\n",
              "            + ' to learn more about interactive tables.';\n",
              "          element.innerHTML = '';\n",
              "          dataTable['output_type'] = 'display_data';\n",
              "          await google.colab.output.renderOutput(dataTable, element);\n",
              "          const docLink = document.createElement('div');\n",
              "          docLink.innerHTML = docLinkHtml;\n",
              "          element.appendChild(docLink);\n",
              "        }\n",
              "      </script>\n",
              "    </div>\n",
              "  </div>\n",
              "  "
            ]
          },
          "metadata": {},
          "execution_count": 17
        }
      ]
    },
    {
      "cell_type": "code",
      "source": [
        "def preprocess_image_test(X):\n",
        "  X_preprocessed = []\n",
        "  file_path = \"data/test/\"\n",
        "  for df_img in range(len(X)):\n",
        "    try:\n",
        "      image = tf.io.read_file(file_path + str(X[df_img]) + \".jpg\")\n",
        "      image = tf.image.decode_jpeg(image, channels=3)\n",
        "      image = tf.image.resize(image, (64, 64))\n",
        "      image /= 255.0\n",
        "      X_preprocessed.append(image)\n",
        "    except:\n",
        "      filename = X[df_img]\n",
        "      print(\"[-] Error in converting file : \", filename)\n",
        "      pass\n",
        "  \n",
        "  return X_preprocessed"
      ],
      "metadata": {
        "id": "5RKomona1bhP"
      },
      "execution_count": 18,
      "outputs": []
    },
    {
      "cell_type": "code",
      "source": [
        "X_test = preprocess_image_test(df_test[\"id_img\"].values)"
      ],
      "metadata": {
        "id": "5eFcnlhS2D_s"
      },
      "execution_count": 19,
      "outputs": []
    },
    {
      "cell_type": "code",
      "source": [
        "X_test = np.array(X_test)"
      ],
      "metadata": {
        "id": "a9id9nfJ2NJR"
      },
      "execution_count": 20,
      "outputs": []
    },
    {
      "cell_type": "code",
      "source": [
        "predictions = model.predict(X_test)"
      ],
      "metadata": {
        "colab": {
          "base_uri": "https://localhost:8080/"
        },
        "id": "pGTmFPh-2SkI",
        "outputId": "2d3f3fce-57b3-4551-92ef-3b633093c79d"
      },
      "execution_count": 21,
      "outputs": [
        {
          "output_type": "stream",
          "name": "stdout",
          "text": [
            "221/221 [==============================] - 4s 16ms/step\n"
          ]
        }
      ]
    },
    {
      "cell_type": "code",
      "source": [
        "classes = le.classes_"
      ],
      "metadata": {
        "id": "ppQ0eN0y2ZMX"
      },
      "execution_count": 22,
      "outputs": []
    },
    {
      "cell_type": "code",
      "source": [
        "pred_tests = []\n",
        "for pred in predictions:\n",
        "  result_idx = np.max(pred)\n",
        "  pred = pred.tolist()\n",
        "  pred = pred.index(result_idx)\n",
        "  pred = classes[pred]\n",
        "  pred_tests.append(pred)"
      ],
      "metadata": {
        "id": "3JbnWH4D2tOz"
      },
      "execution_count": 23,
      "outputs": []
    },
    {
      "cell_type": "code",
      "source": [
        "pred_tests"
      ],
      "metadata": {
        "colab": {
          "base_uri": "https://localhost:8080/"
        },
        "id": "IkDbfjAV3lrP",
        "outputId": "0dff804c-26b5-4190-a13a-198053871067"
      },
      "execution_count": 24,
      "outputs": [
        {
          "output_type": "execute_result",
          "data": {
            "text/plain": [
              "['fear',\n",
              " 'sad',\n",
              " 'angry',\n",
              " 'angry',\n",
              " 'angry',\n",
              " 'angry',\n",
              " 'angry',\n",
              " 'angry',\n",
              " 'happy',\n",
              " 'angry',\n",
              " 'happy',\n",
              " 'happy',\n",
              " 'angry',\n",
              " 'happy',\n",
              " 'angry',\n",
              " 'fear',\n",
              " 'neutral',\n",
              " 'angry',\n",
              " 'sad',\n",
              " 'angry',\n",
              " 'happy',\n",
              " 'happy',\n",
              " 'angry',\n",
              " 'angry',\n",
              " 'angry',\n",
              " 'neutral',\n",
              " 'neutral',\n",
              " 'happy',\n",
              " 'neutral',\n",
              " 'angry',\n",
              " 'fear',\n",
              " 'neutral',\n",
              " 'angry',\n",
              " 'angry',\n",
              " 'angry',\n",
              " 'happy',\n",
              " 'angry',\n",
              " 'sad',\n",
              " 'happy',\n",
              " 'fear',\n",
              " 'sad',\n",
              " 'angry',\n",
              " 'angry',\n",
              " 'fear',\n",
              " 'neutral',\n",
              " 'angry',\n",
              " 'neutral',\n",
              " 'happy',\n",
              " 'angry',\n",
              " 'angry',\n",
              " 'angry',\n",
              " 'angry',\n",
              " 'angry',\n",
              " 'angry',\n",
              " 'angry',\n",
              " 'happy',\n",
              " 'neutral',\n",
              " 'angry',\n",
              " 'neutral',\n",
              " 'angry',\n",
              " 'angry',\n",
              " 'angry',\n",
              " 'angry',\n",
              " 'angry',\n",
              " 'sad',\n",
              " 'angry',\n",
              " 'happy',\n",
              " 'neutral',\n",
              " 'sad',\n",
              " 'neutral',\n",
              " 'neutral',\n",
              " 'angry',\n",
              " 'angry',\n",
              " 'angry',\n",
              " 'happy',\n",
              " 'sad',\n",
              " 'angry',\n",
              " 'surprise',\n",
              " 'sad',\n",
              " 'angry',\n",
              " 'fear',\n",
              " 'sad',\n",
              " 'angry',\n",
              " 'sad',\n",
              " 'happy',\n",
              " 'neutral',\n",
              " 'angry',\n",
              " 'neutral',\n",
              " 'fear',\n",
              " 'angry',\n",
              " 'fear',\n",
              " 'angry',\n",
              " 'neutral',\n",
              " 'neutral',\n",
              " 'angry',\n",
              " 'sad',\n",
              " 'sad',\n",
              " 'happy',\n",
              " 'angry',\n",
              " 'fear',\n",
              " 'sad',\n",
              " 'happy',\n",
              " 'angry',\n",
              " 'angry',\n",
              " 'fear',\n",
              " 'happy',\n",
              " 'angry',\n",
              " 'surprise',\n",
              " 'angry',\n",
              " 'neutral',\n",
              " 'fear',\n",
              " 'sad',\n",
              " 'angry',\n",
              " 'sad',\n",
              " 'happy',\n",
              " 'angry',\n",
              " 'sad',\n",
              " 'neutral',\n",
              " 'neutral',\n",
              " 'surprise',\n",
              " 'angry',\n",
              " 'angry',\n",
              " 'neutral',\n",
              " 'fear',\n",
              " 'fear',\n",
              " 'sad',\n",
              " 'happy',\n",
              " 'angry',\n",
              " 'angry',\n",
              " 'angry',\n",
              " 'angry',\n",
              " 'sad',\n",
              " 'angry',\n",
              " 'happy',\n",
              " 'angry',\n",
              " 'neutral',\n",
              " 'sad',\n",
              " 'fear',\n",
              " 'neutral',\n",
              " 'sad',\n",
              " 'happy',\n",
              " 'fear',\n",
              " 'happy',\n",
              " 'angry',\n",
              " 'happy',\n",
              " 'angry',\n",
              " 'neutral',\n",
              " 'angry',\n",
              " 'angry',\n",
              " 'sad',\n",
              " 'happy',\n",
              " 'angry',\n",
              " 'angry',\n",
              " 'neutral',\n",
              " 'angry',\n",
              " 'fear',\n",
              " 'angry',\n",
              " 'sad',\n",
              " 'angry',\n",
              " 'sad',\n",
              " 'happy',\n",
              " 'neutral',\n",
              " 'angry',\n",
              " 'angry',\n",
              " 'surprise',\n",
              " 'angry',\n",
              " 'sad',\n",
              " 'fear',\n",
              " 'happy',\n",
              " 'angry',\n",
              " 'happy',\n",
              " 'angry',\n",
              " 'angry',\n",
              " 'angry',\n",
              " 'happy',\n",
              " 'sad',\n",
              " 'happy',\n",
              " 'angry',\n",
              " 'angry',\n",
              " 'angry',\n",
              " 'fear',\n",
              " 'angry',\n",
              " 'angry',\n",
              " 'sad',\n",
              " 'angry',\n",
              " 'happy',\n",
              " 'fear',\n",
              " 'sad',\n",
              " 'fear',\n",
              " 'angry',\n",
              " 'happy',\n",
              " 'angry',\n",
              " 'angry',\n",
              " 'angry',\n",
              " 'happy',\n",
              " 'fear',\n",
              " 'angry',\n",
              " 'surprise',\n",
              " 'fear',\n",
              " 'sad',\n",
              " 'surprise',\n",
              " 'happy',\n",
              " 'sad',\n",
              " 'angry',\n",
              " 'happy',\n",
              " 'angry',\n",
              " 'fear',\n",
              " 'happy',\n",
              " 'fear',\n",
              " 'angry',\n",
              " 'fear',\n",
              " 'neutral',\n",
              " 'happy',\n",
              " 'sad',\n",
              " 'neutral',\n",
              " 'neutral',\n",
              " 'angry',\n",
              " 'angry',\n",
              " 'fear',\n",
              " 'angry',\n",
              " 'happy',\n",
              " 'fear',\n",
              " 'neutral',\n",
              " 'neutral',\n",
              " 'happy',\n",
              " 'angry',\n",
              " 'angry',\n",
              " 'neutral',\n",
              " 'sad',\n",
              " 'angry',\n",
              " 'happy',\n",
              " 'fear',\n",
              " 'angry',\n",
              " 'angry',\n",
              " 'angry',\n",
              " 'angry',\n",
              " 'happy',\n",
              " 'angry',\n",
              " 'angry',\n",
              " 'angry',\n",
              " 'sad',\n",
              " 'angry',\n",
              " 'angry',\n",
              " 'neutral',\n",
              " 'sad',\n",
              " 'angry',\n",
              " 'happy',\n",
              " 'sad',\n",
              " 'angry',\n",
              " 'happy',\n",
              " 'angry',\n",
              " 'surprise',\n",
              " 'sad',\n",
              " 'neutral',\n",
              " 'sad',\n",
              " 'happy',\n",
              " 'angry',\n",
              " 'sad',\n",
              " 'happy',\n",
              " 'sad',\n",
              " 'angry',\n",
              " 'surprise',\n",
              " 'angry',\n",
              " 'happy',\n",
              " 'happy',\n",
              " 'angry',\n",
              " 'angry',\n",
              " 'angry',\n",
              " 'fear',\n",
              " 'angry',\n",
              " 'sad',\n",
              " 'angry',\n",
              " 'fear',\n",
              " 'angry',\n",
              " 'angry',\n",
              " 'happy',\n",
              " 'angry',\n",
              " 'fear',\n",
              " 'fear',\n",
              " 'happy',\n",
              " 'happy',\n",
              " 'sad',\n",
              " 'sad',\n",
              " 'happy',\n",
              " 'happy',\n",
              " 'happy',\n",
              " 'fear',\n",
              " 'surprise',\n",
              " 'happy',\n",
              " 'angry',\n",
              " 'neutral',\n",
              " 'happy',\n",
              " 'sad',\n",
              " 'angry',\n",
              " 'angry',\n",
              " 'neutral',\n",
              " 'sad',\n",
              " 'sad',\n",
              " 'angry',\n",
              " 'fear',\n",
              " 'neutral',\n",
              " 'angry',\n",
              " 'sad',\n",
              " 'fear',\n",
              " 'angry',\n",
              " 'angry',\n",
              " 'angry',\n",
              " 'sad',\n",
              " 'happy',\n",
              " 'fear',\n",
              " 'fear',\n",
              " 'happy',\n",
              " 'sad',\n",
              " 'neutral',\n",
              " 'happy',\n",
              " 'neutral',\n",
              " 'fear',\n",
              " 'angry',\n",
              " 'fear',\n",
              " 'angry',\n",
              " 'sad',\n",
              " 'angry',\n",
              " 'fear',\n",
              " 'sad',\n",
              " 'neutral',\n",
              " 'happy',\n",
              " 'sad',\n",
              " 'angry',\n",
              " 'angry',\n",
              " 'angry',\n",
              " 'surprise',\n",
              " 'angry',\n",
              " 'neutral',\n",
              " 'fear',\n",
              " 'angry',\n",
              " 'angry',\n",
              " 'angry',\n",
              " 'happy',\n",
              " 'happy',\n",
              " 'surprise',\n",
              " 'happy',\n",
              " 'sad',\n",
              " 'angry',\n",
              " 'angry',\n",
              " 'angry',\n",
              " 'sad',\n",
              " 'sad',\n",
              " 'fear',\n",
              " 'angry',\n",
              " 'fear',\n",
              " 'happy',\n",
              " 'angry',\n",
              " 'happy',\n",
              " 'angry',\n",
              " 'happy',\n",
              " 'fear',\n",
              " 'fear',\n",
              " 'fear',\n",
              " 'neutral',\n",
              " 'happy',\n",
              " 'sad',\n",
              " 'surprise',\n",
              " 'happy',\n",
              " 'angry',\n",
              " 'fear',\n",
              " 'happy',\n",
              " 'fear',\n",
              " 'happy',\n",
              " 'neutral',\n",
              " 'sad',\n",
              " 'angry',\n",
              " 'fear',\n",
              " 'angry',\n",
              " 'angry',\n",
              " 'fear',\n",
              " 'neutral',\n",
              " 'sad',\n",
              " 'happy',\n",
              " 'angry',\n",
              " 'fear',\n",
              " 'angry',\n",
              " 'angry',\n",
              " 'sad',\n",
              " 'neutral',\n",
              " 'angry',\n",
              " 'sad',\n",
              " 'sad',\n",
              " 'sad',\n",
              " 'sad',\n",
              " 'angry',\n",
              " 'fear',\n",
              " 'angry',\n",
              " 'sad',\n",
              " 'angry',\n",
              " 'angry',\n",
              " 'neutral',\n",
              " 'fear',\n",
              " 'sad',\n",
              " 'disgust',\n",
              " 'neutral',\n",
              " 'surprise',\n",
              " 'angry',\n",
              " 'fear',\n",
              " 'sad',\n",
              " 'fear',\n",
              " 'fear',\n",
              " 'angry',\n",
              " 'angry',\n",
              " 'angry',\n",
              " 'angry',\n",
              " 'sad',\n",
              " 'happy',\n",
              " 'neutral',\n",
              " 'sad',\n",
              " 'fear',\n",
              " 'angry',\n",
              " 'neutral',\n",
              " 'sad',\n",
              " 'angry',\n",
              " 'angry',\n",
              " 'angry',\n",
              " 'angry',\n",
              " 'sad',\n",
              " 'happy',\n",
              " 'happy',\n",
              " 'angry',\n",
              " 'angry',\n",
              " 'disgust',\n",
              " 'neutral',\n",
              " 'angry',\n",
              " 'angry',\n",
              " 'angry',\n",
              " 'angry',\n",
              " 'sad',\n",
              " 'happy',\n",
              " 'angry',\n",
              " 'sad',\n",
              " 'angry',\n",
              " 'happy',\n",
              " 'angry',\n",
              " 'neutral',\n",
              " 'fear',\n",
              " 'angry',\n",
              " 'angry',\n",
              " 'sad',\n",
              " 'angry',\n",
              " 'sad',\n",
              " 'fear',\n",
              " 'happy',\n",
              " 'sad',\n",
              " 'angry',\n",
              " 'angry',\n",
              " 'fear',\n",
              " 'happy',\n",
              " 'angry',\n",
              " 'angry',\n",
              " 'happy',\n",
              " 'happy',\n",
              " 'surprise',\n",
              " 'angry',\n",
              " 'happy',\n",
              " 'neutral',\n",
              " 'sad',\n",
              " 'sad',\n",
              " 'happy',\n",
              " 'surprise',\n",
              " 'angry',\n",
              " 'angry',\n",
              " 'sad',\n",
              " 'happy',\n",
              " 'angry',\n",
              " 'angry',\n",
              " 'sad',\n",
              " 'fear',\n",
              " 'angry',\n",
              " 'happy',\n",
              " 'neutral',\n",
              " 'angry',\n",
              " 'angry',\n",
              " 'angry',\n",
              " 'happy',\n",
              " 'happy',\n",
              " 'happy',\n",
              " 'happy',\n",
              " 'happy',\n",
              " 'happy',\n",
              " 'angry',\n",
              " 'sad',\n",
              " 'happy',\n",
              " 'angry',\n",
              " 'sad',\n",
              " 'angry',\n",
              " 'happy',\n",
              " 'happy',\n",
              " 'neutral',\n",
              " 'surprise',\n",
              " 'happy',\n",
              " 'neutral',\n",
              " 'neutral',\n",
              " 'angry',\n",
              " 'angry',\n",
              " 'fear',\n",
              " 'sad',\n",
              " 'fear',\n",
              " 'angry',\n",
              " 'angry',\n",
              " 'angry',\n",
              " 'fear',\n",
              " 'angry',\n",
              " 'angry',\n",
              " 'angry',\n",
              " 'angry',\n",
              " 'fear',\n",
              " 'happy',\n",
              " 'sad',\n",
              " 'fear',\n",
              " 'sad',\n",
              " 'angry',\n",
              " 'neutral',\n",
              " 'angry',\n",
              " 'surprise',\n",
              " 'angry',\n",
              " 'sad',\n",
              " 'angry',\n",
              " 'fear',\n",
              " 'fear',\n",
              " 'angry',\n",
              " 'happy',\n",
              " 'fear',\n",
              " 'sad',\n",
              " 'angry',\n",
              " 'fear',\n",
              " 'neutral',\n",
              " 'happy',\n",
              " 'sad',\n",
              " 'angry',\n",
              " 'neutral',\n",
              " 'angry',\n",
              " 'sad',\n",
              " 'angry',\n",
              " 'sad',\n",
              " 'neutral',\n",
              " 'neutral',\n",
              " 'angry',\n",
              " 'sad',\n",
              " 'angry',\n",
              " 'angry',\n",
              " 'angry',\n",
              " 'fear',\n",
              " 'happy',\n",
              " 'happy',\n",
              " 'happy',\n",
              " 'sad',\n",
              " 'angry',\n",
              " 'angry',\n",
              " 'angry',\n",
              " 'sad',\n",
              " 'happy',\n",
              " 'angry',\n",
              " 'sad',\n",
              " 'angry',\n",
              " 'happy',\n",
              " 'surprise',\n",
              " 'neutral',\n",
              " 'fear',\n",
              " 'happy',\n",
              " 'happy',\n",
              " 'angry',\n",
              " 'fear',\n",
              " 'sad',\n",
              " 'neutral',\n",
              " 'angry',\n",
              " 'sad',\n",
              " 'surprise',\n",
              " 'sad',\n",
              " 'angry',\n",
              " 'angry',\n",
              " 'sad',\n",
              " 'surprise',\n",
              " 'sad',\n",
              " 'fear',\n",
              " 'neutral',\n",
              " 'angry',\n",
              " 'angry',\n",
              " 'sad',\n",
              " 'angry',\n",
              " 'sad',\n",
              " 'angry',\n",
              " 'surprise',\n",
              " 'happy',\n",
              " 'fear',\n",
              " 'angry',\n",
              " 'happy',\n",
              " 'angry',\n",
              " 'angry',\n",
              " 'happy',\n",
              " 'fear',\n",
              " 'neutral',\n",
              " 'sad',\n",
              " 'angry',\n",
              " 'fear',\n",
              " 'angry',\n",
              " 'sad',\n",
              " 'happy',\n",
              " 'fear',\n",
              " 'happy',\n",
              " 'angry',\n",
              " 'sad',\n",
              " 'sad',\n",
              " 'angry',\n",
              " 'angry',\n",
              " 'neutral',\n",
              " 'fear',\n",
              " 'angry',\n",
              " 'happy',\n",
              " 'neutral',\n",
              " 'happy',\n",
              " 'angry',\n",
              " 'happy',\n",
              " 'angry',\n",
              " 'happy',\n",
              " 'angry',\n",
              " 'angry',\n",
              " 'neutral',\n",
              " 'happy',\n",
              " 'happy',\n",
              " 'angry',\n",
              " 'neutral',\n",
              " 'happy',\n",
              " 'fear',\n",
              " 'fear',\n",
              " 'happy',\n",
              " 'angry',\n",
              " 'fear',\n",
              " 'sad',\n",
              " 'happy',\n",
              " 'fear',\n",
              " 'fear',\n",
              " 'fear',\n",
              " 'fear',\n",
              " 'sad',\n",
              " 'angry',\n",
              " 'fear',\n",
              " 'sad',\n",
              " 'angry',\n",
              " 'angry',\n",
              " 'angry',\n",
              " 'sad',\n",
              " 'angry',\n",
              " 'sad',\n",
              " 'angry',\n",
              " 'angry',\n",
              " 'angry',\n",
              " 'happy',\n",
              " 'happy',\n",
              " 'angry',\n",
              " 'sad',\n",
              " 'fear',\n",
              " 'happy',\n",
              " 'sad',\n",
              " 'angry',\n",
              " 'angry',\n",
              " 'angry',\n",
              " 'neutral',\n",
              " 'angry',\n",
              " 'fear',\n",
              " 'angry',\n",
              " 'fear',\n",
              " 'surprise',\n",
              " 'fear',\n",
              " 'angry',\n",
              " 'angry',\n",
              " 'sad',\n",
              " 'fear',\n",
              " 'angry',\n",
              " 'angry',\n",
              " 'angry',\n",
              " 'surprise',\n",
              " 'surprise',\n",
              " 'angry',\n",
              " 'angry',\n",
              " 'sad',\n",
              " 'fear',\n",
              " 'angry',\n",
              " 'angry',\n",
              " 'angry',\n",
              " 'angry',\n",
              " 'fear',\n",
              " 'surprise',\n",
              " 'happy',\n",
              " 'angry',\n",
              " 'fear',\n",
              " 'neutral',\n",
              " 'neutral',\n",
              " 'angry',\n",
              " 'sad',\n",
              " 'neutral',\n",
              " 'sad',\n",
              " 'angry',\n",
              " 'angry',\n",
              " 'angry',\n",
              " 'happy',\n",
              " 'angry',\n",
              " 'angry',\n",
              " 'neutral',\n",
              " 'sad',\n",
              " 'neutral',\n",
              " 'neutral',\n",
              " 'fear',\n",
              " 'happy',\n",
              " 'sad',\n",
              " 'sad',\n",
              " 'angry',\n",
              " 'fear',\n",
              " 'angry',\n",
              " 'angry',\n",
              " 'surprise',\n",
              " 'angry',\n",
              " 'neutral',\n",
              " 'angry',\n",
              " 'angry',\n",
              " 'happy',\n",
              " 'fear',\n",
              " 'sad',\n",
              " 'angry',\n",
              " 'neutral',\n",
              " 'sad',\n",
              " 'sad',\n",
              " 'fear',\n",
              " 'neutral',\n",
              " 'angry',\n",
              " 'angry',\n",
              " 'sad',\n",
              " 'angry',\n",
              " 'angry',\n",
              " 'happy',\n",
              " 'sad',\n",
              " 'surprise',\n",
              " 'surprise',\n",
              " 'neutral',\n",
              " 'angry',\n",
              " 'angry',\n",
              " 'happy',\n",
              " 'angry',\n",
              " 'sad',\n",
              " 'angry',\n",
              " 'happy',\n",
              " 'fear',\n",
              " 'fear',\n",
              " 'happy',\n",
              " 'angry',\n",
              " 'angry',\n",
              " 'fear',\n",
              " 'fear',\n",
              " 'angry',\n",
              " 'angry',\n",
              " 'angry',\n",
              " 'sad',\n",
              " 'angry',\n",
              " 'happy',\n",
              " 'sad',\n",
              " 'angry',\n",
              " 'angry',\n",
              " 'neutral',\n",
              " 'angry',\n",
              " 'fear',\n",
              " 'angry',\n",
              " 'happy',\n",
              " 'sad',\n",
              " 'angry',\n",
              " 'sad',\n",
              " 'angry',\n",
              " 'angry',\n",
              " 'sad',\n",
              " 'sad',\n",
              " 'happy',\n",
              " 'angry',\n",
              " 'sad',\n",
              " 'neutral',\n",
              " 'happy',\n",
              " 'neutral',\n",
              " 'sad',\n",
              " 'angry',\n",
              " 'neutral',\n",
              " 'fear',\n",
              " 'angry',\n",
              " 'angry',\n",
              " 'happy',\n",
              " 'angry',\n",
              " 'neutral',\n",
              " 'happy',\n",
              " 'sad',\n",
              " 'happy',\n",
              " 'angry',\n",
              " 'fear',\n",
              " 'fear',\n",
              " 'fear',\n",
              " 'angry',\n",
              " 'happy',\n",
              " 'angry',\n",
              " 'neutral',\n",
              " 'sad',\n",
              " 'fear',\n",
              " 'fear',\n",
              " 'angry',\n",
              " 'sad',\n",
              " 'happy',\n",
              " 'happy',\n",
              " 'angry',\n",
              " 'happy',\n",
              " 'fear',\n",
              " 'angry',\n",
              " 'angry',\n",
              " 'neutral',\n",
              " 'sad',\n",
              " 'fear',\n",
              " 'angry',\n",
              " 'sad',\n",
              " 'sad',\n",
              " 'fear',\n",
              " 'sad',\n",
              " 'angry',\n",
              " 'angry',\n",
              " 'angry',\n",
              " 'angry',\n",
              " 'happy',\n",
              " 'angry',\n",
              " 'happy',\n",
              " 'angry',\n",
              " 'sad',\n",
              " 'angry',\n",
              " 'surprise',\n",
              " 'angry',\n",
              " 'fear',\n",
              " 'fear',\n",
              " 'sad',\n",
              " 'happy',\n",
              " 'angry',\n",
              " 'angry',\n",
              " 'fear',\n",
              " 'sad',\n",
              " 'angry',\n",
              " 'sad',\n",
              " 'angry',\n",
              " 'angry',\n",
              " 'fear',\n",
              " 'angry',\n",
              " 'angry',\n",
              " 'happy',\n",
              " 'angry',\n",
              " 'angry',\n",
              " 'angry',\n",
              " 'angry',\n",
              " 'sad',\n",
              " 'sad',\n",
              " 'angry',\n",
              " 'sad',\n",
              " 'happy',\n",
              " 'angry',\n",
              " 'sad',\n",
              " 'angry',\n",
              " 'sad',\n",
              " 'angry',\n",
              " 'angry',\n",
              " 'neutral',\n",
              " 'fear',\n",
              " 'sad',\n",
              " 'sad',\n",
              " 'surprise',\n",
              " 'angry',\n",
              " 'angry',\n",
              " 'happy',\n",
              " 'fear',\n",
              " 'angry',\n",
              " 'happy',\n",
              " 'happy',\n",
              " 'happy',\n",
              " 'angry',\n",
              " 'happy',\n",
              " 'sad',\n",
              " 'sad',\n",
              " 'fear',\n",
              " 'happy',\n",
              " 'happy',\n",
              " 'angry',\n",
              " 'angry',\n",
              " 'angry',\n",
              " 'angry',\n",
              " 'angry',\n",
              " 'neutral',\n",
              " 'fear',\n",
              " 'angry',\n",
              " 'angry',\n",
              " 'angry',\n",
              " 'angry',\n",
              " 'happy',\n",
              " 'angry',\n",
              " 'angry',\n",
              " 'sad',\n",
              " 'happy',\n",
              " 'happy',\n",
              " 'fear',\n",
              " 'happy',\n",
              " 'fear',\n",
              " 'angry',\n",
              " 'angry',\n",
              " 'sad',\n",
              " 'angry',\n",
              " 'fear',\n",
              " 'neutral',\n",
              " 'happy',\n",
              " 'angry',\n",
              " 'happy',\n",
              " 'angry',\n",
              " 'angry',\n",
              " 'angry',\n",
              " 'angry',\n",
              " 'angry',\n",
              " 'sad',\n",
              " 'angry',\n",
              " 'angry',\n",
              " 'happy',\n",
              " 'happy',\n",
              " 'angry',\n",
              " 'happy',\n",
              " 'surprise',\n",
              " 'angry',\n",
              " 'happy',\n",
              " 'sad',\n",
              " 'angry',\n",
              " 'sad',\n",
              " 'neutral',\n",
              " 'surprise',\n",
              " 'angry',\n",
              " 'sad',\n",
              " 'neutral',\n",
              " 'angry',\n",
              " 'sad',\n",
              " 'angry',\n",
              " 'angry',\n",
              " 'angry',\n",
              " 'angry',\n",
              " 'surprise',\n",
              " 'angry',\n",
              " 'angry',\n",
              " 'happy',\n",
              " 'angry',\n",
              " 'angry',\n",
              " 'angry',\n",
              " 'neutral',\n",
              " 'fear',\n",
              " 'neutral',\n",
              " 'angry',\n",
              " 'angry',\n",
              " 'angry',\n",
              " 'angry',\n",
              " 'neutral',\n",
              " 'neutral',\n",
              " 'happy',\n",
              " 'angry',\n",
              " 'disgust',\n",
              " 'neutral',\n",
              " 'sad',\n",
              " 'disgust',\n",
              " 'disgust',\n",
              " 'disgust',\n",
              " 'disgust',\n",
              " 'disgust',\n",
              " 'angry',\n",
              " 'angry',\n",
              " 'angry',\n",
              " 'angry',\n",
              " 'disgust',\n",
              " 'surprise',\n",
              " 'disgust',\n",
              " 'angry',\n",
              " 'disgust',\n",
              " 'angry',\n",
              " 'disgust',\n",
              " 'disgust',\n",
              " 'disgust',\n",
              " 'disgust',\n",
              " 'disgust',\n",
              " 'sad',\n",
              " 'angry',\n",
              " 'angry',\n",
              " 'disgust',\n",
              " 'neutral',\n",
              " 'disgust',\n",
              " 'neutral',\n",
              " 'disgust',\n",
              " 'fear',\n",
              " 'disgust',\n",
              " 'disgust',\n",
              " 'happy',\n",
              " 'disgust',\n",
              " 'sad',\n",
              " 'disgust',\n",
              " 'sad',\n",
              " 'disgust',\n",
              " ...]"
            ]
          },
          "metadata": {},
          "execution_count": 24
        }
      ]
    },
    {
      "cell_type": "code",
      "source": [
        "df_samp = pd.read_csv(\"sample_submission.csv\")\n",
        "df_samp.head()"
      ],
      "metadata": {
        "colab": {
          "base_uri": "https://localhost:8080/",
          "height": 206
        },
        "id": "1mGcmP1W3sFc",
        "outputId": "b69d7053-a76b-40f8-ecc0-96f404958121"
      },
      "execution_count": 25,
      "outputs": [
        {
          "output_type": "execute_result",
          "data": {
            "text/plain": [
              "   id_img     label\n",
              "0   10052  surprise\n",
              "1   10065  surprise\n",
              "2   10079  surprise\n",
              "3   10095  surprise\n",
              "4   10121  surprise"
            ],
            "text/html": [
              "\n",
              "  <div id=\"df-0b68d2c9-2a37-409b-b9d8-f5728fd90531\">\n",
              "    <div class=\"colab-df-container\">\n",
              "      <div>\n",
              "<style scoped>\n",
              "    .dataframe tbody tr th:only-of-type {\n",
              "        vertical-align: middle;\n",
              "    }\n",
              "\n",
              "    .dataframe tbody tr th {\n",
              "        vertical-align: top;\n",
              "    }\n",
              "\n",
              "    .dataframe thead th {\n",
              "        text-align: right;\n",
              "    }\n",
              "</style>\n",
              "<table border=\"1\" class=\"dataframe\">\n",
              "  <thead>\n",
              "    <tr style=\"text-align: right;\">\n",
              "      <th></th>\n",
              "      <th>id_img</th>\n",
              "      <th>label</th>\n",
              "    </tr>\n",
              "  </thead>\n",
              "  <tbody>\n",
              "    <tr>\n",
              "      <th>0</th>\n",
              "      <td>10052</td>\n",
              "      <td>surprise</td>\n",
              "    </tr>\n",
              "    <tr>\n",
              "      <th>1</th>\n",
              "      <td>10065</td>\n",
              "      <td>surprise</td>\n",
              "    </tr>\n",
              "    <tr>\n",
              "      <th>2</th>\n",
              "      <td>10079</td>\n",
              "      <td>surprise</td>\n",
              "    </tr>\n",
              "    <tr>\n",
              "      <th>3</th>\n",
              "      <td>10095</td>\n",
              "      <td>surprise</td>\n",
              "    </tr>\n",
              "    <tr>\n",
              "      <th>4</th>\n",
              "      <td>10121</td>\n",
              "      <td>surprise</td>\n",
              "    </tr>\n",
              "  </tbody>\n",
              "</table>\n",
              "</div>\n",
              "      <button class=\"colab-df-convert\" onclick=\"convertToInteractive('df-0b68d2c9-2a37-409b-b9d8-f5728fd90531')\"\n",
              "              title=\"Convert this dataframe to an interactive table.\"\n",
              "              style=\"display:none;\">\n",
              "        \n",
              "  <svg xmlns=\"http://www.w3.org/2000/svg\" height=\"24px\"viewBox=\"0 0 24 24\"\n",
              "       width=\"24px\">\n",
              "    <path d=\"M0 0h24v24H0V0z\" fill=\"none\"/>\n",
              "    <path d=\"M18.56 5.44l.94 2.06.94-2.06 2.06-.94-2.06-.94-.94-2.06-.94 2.06-2.06.94zm-11 1L8.5 8.5l.94-2.06 2.06-.94-2.06-.94L8.5 2.5l-.94 2.06-2.06.94zm10 10l.94 2.06.94-2.06 2.06-.94-2.06-.94-.94-2.06-.94 2.06-2.06.94z\"/><path d=\"M17.41 7.96l-1.37-1.37c-.4-.4-.92-.59-1.43-.59-.52 0-1.04.2-1.43.59L10.3 9.45l-7.72 7.72c-.78.78-.78 2.05 0 2.83L4 21.41c.39.39.9.59 1.41.59.51 0 1.02-.2 1.41-.59l7.78-7.78 2.81-2.81c.8-.78.8-2.07 0-2.86zM5.41 20L4 18.59l7.72-7.72 1.47 1.35L5.41 20z\"/>\n",
              "  </svg>\n",
              "      </button>\n",
              "      \n",
              "  <style>\n",
              "    .colab-df-container {\n",
              "      display:flex;\n",
              "      flex-wrap:wrap;\n",
              "      gap: 12px;\n",
              "    }\n",
              "\n",
              "    .colab-df-convert {\n",
              "      background-color: #E8F0FE;\n",
              "      border: none;\n",
              "      border-radius: 50%;\n",
              "      cursor: pointer;\n",
              "      display: none;\n",
              "      fill: #1967D2;\n",
              "      height: 32px;\n",
              "      padding: 0 0 0 0;\n",
              "      width: 32px;\n",
              "    }\n",
              "\n",
              "    .colab-df-convert:hover {\n",
              "      background-color: #E2EBFA;\n",
              "      box-shadow: 0px 1px 2px rgba(60, 64, 67, 0.3), 0px 1px 3px 1px rgba(60, 64, 67, 0.15);\n",
              "      fill: #174EA6;\n",
              "    }\n",
              "\n",
              "    [theme=dark] .colab-df-convert {\n",
              "      background-color: #3B4455;\n",
              "      fill: #D2E3FC;\n",
              "    }\n",
              "\n",
              "    [theme=dark] .colab-df-convert:hover {\n",
              "      background-color: #434B5C;\n",
              "      box-shadow: 0px 1px 3px 1px rgba(0, 0, 0, 0.15);\n",
              "      filter: drop-shadow(0px 1px 2px rgba(0, 0, 0, 0.3));\n",
              "      fill: #FFFFFF;\n",
              "    }\n",
              "  </style>\n",
              "\n",
              "      <script>\n",
              "        const buttonEl =\n",
              "          document.querySelector('#df-0b68d2c9-2a37-409b-b9d8-f5728fd90531 button.colab-df-convert');\n",
              "        buttonEl.style.display =\n",
              "          google.colab.kernel.accessAllowed ? 'block' : 'none';\n",
              "\n",
              "        async function convertToInteractive(key) {\n",
              "          const element = document.querySelector('#df-0b68d2c9-2a37-409b-b9d8-f5728fd90531');\n",
              "          const dataTable =\n",
              "            await google.colab.kernel.invokeFunction('convertToInteractive',\n",
              "                                                     [key], {});\n",
              "          if (!dataTable) return;\n",
              "\n",
              "          const docLinkHtml = 'Like what you see? Visit the ' +\n",
              "            '<a target=\"_blank\" href=https://colab.research.google.com/notebooks/data_table.ipynb>data table notebook</a>'\n",
              "            + ' to learn more about interactive tables.';\n",
              "          element.innerHTML = '';\n",
              "          dataTable['output_type'] = 'display_data';\n",
              "          await google.colab.output.renderOutput(dataTable, element);\n",
              "          const docLink = document.createElement('div');\n",
              "          docLink.innerHTML = docLinkHtml;\n",
              "          element.appendChild(docLink);\n",
              "        }\n",
              "      </script>\n",
              "    </div>\n",
              "  </div>\n",
              "  "
            ]
          },
          "metadata": {},
          "execution_count": 25
        }
      ]
    },
    {
      "cell_type": "code",
      "source": [
        "df_test[\"label\"] = pred_tests"
      ],
      "metadata": {
        "id": "Ri8VL8DQ30gL"
      },
      "execution_count": 26,
      "outputs": []
    },
    {
      "cell_type": "code",
      "source": [
        "df_test.head()"
      ],
      "metadata": {
        "colab": {
          "base_uri": "https://localhost:8080/",
          "height": 206
        },
        "id": "GvVUqDCR36QP",
        "outputId": "e735daea-be61-4052-a03b-62483cf841e9"
      },
      "execution_count": 27,
      "outputs": [
        {
          "output_type": "execute_result",
          "data": {
            "text/plain": [
              "   id_img  label\n",
              "0   10052   fear\n",
              "1   10065    sad\n",
              "2   10079  angry\n",
              "3   10095  angry\n",
              "4   10121  angry"
            ],
            "text/html": [
              "\n",
              "  <div id=\"df-903f983f-fdcd-41da-a426-d707adc9339a\">\n",
              "    <div class=\"colab-df-container\">\n",
              "      <div>\n",
              "<style scoped>\n",
              "    .dataframe tbody tr th:only-of-type {\n",
              "        vertical-align: middle;\n",
              "    }\n",
              "\n",
              "    .dataframe tbody tr th {\n",
              "        vertical-align: top;\n",
              "    }\n",
              "\n",
              "    .dataframe thead th {\n",
              "        text-align: right;\n",
              "    }\n",
              "</style>\n",
              "<table border=\"1\" class=\"dataframe\">\n",
              "  <thead>\n",
              "    <tr style=\"text-align: right;\">\n",
              "      <th></th>\n",
              "      <th>id_img</th>\n",
              "      <th>label</th>\n",
              "    </tr>\n",
              "  </thead>\n",
              "  <tbody>\n",
              "    <tr>\n",
              "      <th>0</th>\n",
              "      <td>10052</td>\n",
              "      <td>fear</td>\n",
              "    </tr>\n",
              "    <tr>\n",
              "      <th>1</th>\n",
              "      <td>10065</td>\n",
              "      <td>sad</td>\n",
              "    </tr>\n",
              "    <tr>\n",
              "      <th>2</th>\n",
              "      <td>10079</td>\n",
              "      <td>angry</td>\n",
              "    </tr>\n",
              "    <tr>\n",
              "      <th>3</th>\n",
              "      <td>10095</td>\n",
              "      <td>angry</td>\n",
              "    </tr>\n",
              "    <tr>\n",
              "      <th>4</th>\n",
              "      <td>10121</td>\n",
              "      <td>angry</td>\n",
              "    </tr>\n",
              "  </tbody>\n",
              "</table>\n",
              "</div>\n",
              "      <button class=\"colab-df-convert\" onclick=\"convertToInteractive('df-903f983f-fdcd-41da-a426-d707adc9339a')\"\n",
              "              title=\"Convert this dataframe to an interactive table.\"\n",
              "              style=\"display:none;\">\n",
              "        \n",
              "  <svg xmlns=\"http://www.w3.org/2000/svg\" height=\"24px\"viewBox=\"0 0 24 24\"\n",
              "       width=\"24px\">\n",
              "    <path d=\"M0 0h24v24H0V0z\" fill=\"none\"/>\n",
              "    <path d=\"M18.56 5.44l.94 2.06.94-2.06 2.06-.94-2.06-.94-.94-2.06-.94 2.06-2.06.94zm-11 1L8.5 8.5l.94-2.06 2.06-.94-2.06-.94L8.5 2.5l-.94 2.06-2.06.94zm10 10l.94 2.06.94-2.06 2.06-.94-2.06-.94-.94-2.06-.94 2.06-2.06.94z\"/><path d=\"M17.41 7.96l-1.37-1.37c-.4-.4-.92-.59-1.43-.59-.52 0-1.04.2-1.43.59L10.3 9.45l-7.72 7.72c-.78.78-.78 2.05 0 2.83L4 21.41c.39.39.9.59 1.41.59.51 0 1.02-.2 1.41-.59l7.78-7.78 2.81-2.81c.8-.78.8-2.07 0-2.86zM5.41 20L4 18.59l7.72-7.72 1.47 1.35L5.41 20z\"/>\n",
              "  </svg>\n",
              "      </button>\n",
              "      \n",
              "  <style>\n",
              "    .colab-df-container {\n",
              "      display:flex;\n",
              "      flex-wrap:wrap;\n",
              "      gap: 12px;\n",
              "    }\n",
              "\n",
              "    .colab-df-convert {\n",
              "      background-color: #E8F0FE;\n",
              "      border: none;\n",
              "      border-radius: 50%;\n",
              "      cursor: pointer;\n",
              "      display: none;\n",
              "      fill: #1967D2;\n",
              "      height: 32px;\n",
              "      padding: 0 0 0 0;\n",
              "      width: 32px;\n",
              "    }\n",
              "\n",
              "    .colab-df-convert:hover {\n",
              "      background-color: #E2EBFA;\n",
              "      box-shadow: 0px 1px 2px rgba(60, 64, 67, 0.3), 0px 1px 3px 1px rgba(60, 64, 67, 0.15);\n",
              "      fill: #174EA6;\n",
              "    }\n",
              "\n",
              "    [theme=dark] .colab-df-convert {\n",
              "      background-color: #3B4455;\n",
              "      fill: #D2E3FC;\n",
              "    }\n",
              "\n",
              "    [theme=dark] .colab-df-convert:hover {\n",
              "      background-color: #434B5C;\n",
              "      box-shadow: 0px 1px 3px 1px rgba(0, 0, 0, 0.15);\n",
              "      filter: drop-shadow(0px 1px 2px rgba(0, 0, 0, 0.3));\n",
              "      fill: #FFFFFF;\n",
              "    }\n",
              "  </style>\n",
              "\n",
              "      <script>\n",
              "        const buttonEl =\n",
              "          document.querySelector('#df-903f983f-fdcd-41da-a426-d707adc9339a button.colab-df-convert');\n",
              "        buttonEl.style.display =\n",
              "          google.colab.kernel.accessAllowed ? 'block' : 'none';\n",
              "\n",
              "        async function convertToInteractive(key) {\n",
              "          const element = document.querySelector('#df-903f983f-fdcd-41da-a426-d707adc9339a');\n",
              "          const dataTable =\n",
              "            await google.colab.kernel.invokeFunction('convertToInteractive',\n",
              "                                                     [key], {});\n",
              "          if (!dataTable) return;\n",
              "\n",
              "          const docLinkHtml = 'Like what you see? Visit the ' +\n",
              "            '<a target=\"_blank\" href=https://colab.research.google.com/notebooks/data_table.ipynb>data table notebook</a>'\n",
              "            + ' to learn more about interactive tables.';\n",
              "          element.innerHTML = '';\n",
              "          dataTable['output_type'] = 'display_data';\n",
              "          await google.colab.output.renderOutput(dataTable, element);\n",
              "          const docLink = document.createElement('div');\n",
              "          docLink.innerHTML = docLinkHtml;\n",
              "          element.appendChild(docLink);\n",
              "        }\n",
              "      </script>\n",
              "    </div>\n",
              "  </div>\n",
              "  "
            ]
          },
          "metadata": {},
          "execution_count": 27
        }
      ]
    },
    {
      "cell_type": "code",
      "source": [
        "df_test.to_csv(\"pred_result.csv\", index=False)"
      ],
      "metadata": {
        "id": "fmCEuzcb37Ef"
      },
      "execution_count": 28,
      "outputs": []
    },
    {
      "cell_type": "code",
      "source": [],
      "metadata": {
        "id": "_1PC-bzR4Ep6"
      },
      "execution_count": 28,
      "outputs": []
    }
  ],
  "metadata": {
    "colab": {
      "provenance": []
    },
    "gpuClass": "standard",
    "kernelspec": {
      "display_name": "Python 3",
      "name": "python3"
    },
    "language_info": {
      "name": "python"
    },
    "accelerator": "GPU"
  },
  "nbformat": 4,
  "nbformat_minor": 0
}