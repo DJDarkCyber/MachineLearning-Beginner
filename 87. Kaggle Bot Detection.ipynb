{
  "cells": [
    {
      "cell_type": "code",
      "execution_count": 1,
      "metadata": {
        "colab": {
          "base_uri": "https://localhost:8080/"
        },
        "id": "Wc3fKh2CiSkP",
        "outputId": "e2d2b812-d58a-4b3b-c00f-ed066c5261a2"
      },
      "outputs": [
        {
          "output_type": "stream",
          "name": "stdout",
          "text": [
            "Downloading kaggle-bot-account-detection.zip to /content\n",
            "\n"
          ]
        },
        {
          "output_type": "stream",
          "name": "stderr",
          "text": [
            "\r  0%|          | 0.00/55.5M [00:00<?, ?B/s]\r 16%|█▌        | 9.00M/55.5M [00:00<00:00, 60.6MB/s]\r 45%|████▌     | 25.0M/55.5M [00:00<00:00, 63.3MB/s]\r 74%|███████▍  | 41.0M/55.5M [00:00<00:00, 84.2MB/s]\r100%|██████████| 55.5M/55.5M [00:00<00:00, 95.9MB/s]\n"
          ]
        }
      ],
      "source": [
        "%%bash\n",
        "\n",
        "pip install -q kaggle\n",
        "mkdir -p ~/.kaggle\n",
        "cp drive/MyDrive/kaggle.json ~/.kaggle/\n",
        "chmod 600 /root/.kaggle/kaggle.json\n",
        "kaggle datasets download -d shriyashjagtap/kaggle-bot-account-detection\n",
        "unzip -qq kaggle-bot-account-detection.zip"
      ]
    },
    {
      "cell_type": "code",
      "source": [
        "import pandas as pd\n",
        "import numpy as np\n",
        "from sklearn.model_selection import train_test_split\n",
        "from sklearn.preprocessing  import LabelEncoder, OneHotEncoder\n",
        "from sklearn.ensemble import RandomForestClassifier\n",
        "from xgboost import XGBClassifier\n",
        "from statistics import mode"
      ],
      "metadata": {
        "id": "4BmarqOR_d8h"
      },
      "execution_count": 6,
      "outputs": []
    },
    {
      "cell_type": "code",
      "source": [
        "import xgboost \n",
        "xgboost.__version__"
      ],
      "metadata": {
        "colab": {
          "base_uri": "https://localhost:8080/",
          "height": 36
        },
        "id": "mEDHtwTyPups",
        "outputId": "47970d86-50cc-4e1e-be88-5dd2feafeb2a"
      },
      "execution_count": 2,
      "outputs": [
        {
          "output_type": "execute_result",
          "data": {
            "text/plain": [
              "'1.7.3'"
            ],
            "application/vnd.google.colaboratory.intrinsic+json": {
              "type": "string"
            }
          },
          "metadata": {},
          "execution_count": 2
        }
      ]
    },
    {
      "cell_type": "code",
      "source": [
        "df = pd.read_csv(\"kaggle_bot_accounts.csv\")\n",
        "df.head()"
      ],
      "metadata": {
        "colab": {
          "base_uri": "https://localhost:8080/",
          "height": 357
        },
        "id": "lzg2UusdQDSf",
        "outputId": "5a8f122c-bdda-4317-9f6a-8a4b2133b557"
      },
      "execution_count": 33,
      "outputs": [
        {
          "output_type": "execute_result",
          "data": {
            "text/plain": [
              "   Unnamed: 0                     NAME  GENDER                    EMAIL_ID  \\\n",
              "0           0        Johnny KerrThomas    Male     jacksonalan@example.com   \n",
              "1           1        Dwayne LarsenLara    Male        calvin80@example.com   \n",
              "2           2                      NaN    Male          qbrown@example.net   \n",
              "3           3  Russell SimmonsPhillips    Male  kimberlywagner@example.com   \n",
              "4           4     Jamie WilsonMartinez  Female     shaunbrooks@example.com   \n",
              "\n",
              "  IS_GLOGIN  FOLLOWER_COUNT  FOLLOWING_COUNT  DATASET_COUNT  CODE_COUNT  \\\n",
              "0     False            53.0             87.0            5.0         3.0   \n",
              "1      True            16.0             67.0            5.0         NaN   \n",
              "2      True            44.0             81.0            4.0        17.0   \n",
              "3      True            23.0            114.0            5.0        24.0   \n",
              "4     False            46.0            112.0            2.0        12.0   \n",
              "\n",
              "   DISCUSSION_COUNT  AVG_NB_READ_TIME_MIN REGISTRATION_IPV4  \\\n",
              "0             124.0                   NaN      81.88.75.170   \n",
              "1              26.0                 24.97               NaN   \n",
              "2             125.0                  7.75   159.202.103.178   \n",
              "3              67.0                 13.40     196.11.132.51   \n",
              "4              63.0                 24.83    159.196.199.20   \n",
              "\n",
              "  REGISTRATION_LOCATION  TOTAL_VOTES_GAVE_NB  TOTAL_VOTES_GAVE_DS  \\\n",
              "0             Argentina                 16.0                 10.0   \n",
              "1           New Zealand                 14.0                  5.0   \n",
              "2            Costa Rica                 16.0                  4.0   \n",
              "3                 Italy                 21.0                 10.0   \n",
              "4               Belgium                 10.0                  6.0   \n",
              "\n",
              "   TOTAL_VOTES_GAVE_DC  ISBOT  \n",
              "0                  3.0    NaN  \n",
              "1                  2.0    NaN  \n",
              "2                  0.0  False  \n",
              "3                  1.0  False  \n",
              "4                  2.0  False  "
            ],
            "text/html": [
              "\n",
              "  <div id=\"df-e48b37fc-ebaf-43e1-9231-f45c77011b29\">\n",
              "    <div class=\"colab-df-container\">\n",
              "      <div>\n",
              "<style scoped>\n",
              "    .dataframe tbody tr th:only-of-type {\n",
              "        vertical-align: middle;\n",
              "    }\n",
              "\n",
              "    .dataframe tbody tr th {\n",
              "        vertical-align: top;\n",
              "    }\n",
              "\n",
              "    .dataframe thead th {\n",
              "        text-align: right;\n",
              "    }\n",
              "</style>\n",
              "<table border=\"1\" class=\"dataframe\">\n",
              "  <thead>\n",
              "    <tr style=\"text-align: right;\">\n",
              "      <th></th>\n",
              "      <th>Unnamed: 0</th>\n",
              "      <th>NAME</th>\n",
              "      <th>GENDER</th>\n",
              "      <th>EMAIL_ID</th>\n",
              "      <th>IS_GLOGIN</th>\n",
              "      <th>FOLLOWER_COUNT</th>\n",
              "      <th>FOLLOWING_COUNT</th>\n",
              "      <th>DATASET_COUNT</th>\n",
              "      <th>CODE_COUNT</th>\n",
              "      <th>DISCUSSION_COUNT</th>\n",
              "      <th>AVG_NB_READ_TIME_MIN</th>\n",
              "      <th>REGISTRATION_IPV4</th>\n",
              "      <th>REGISTRATION_LOCATION</th>\n",
              "      <th>TOTAL_VOTES_GAVE_NB</th>\n",
              "      <th>TOTAL_VOTES_GAVE_DS</th>\n",
              "      <th>TOTAL_VOTES_GAVE_DC</th>\n",
              "      <th>ISBOT</th>\n",
              "    </tr>\n",
              "  </thead>\n",
              "  <tbody>\n",
              "    <tr>\n",
              "      <th>0</th>\n",
              "      <td>0</td>\n",
              "      <td>Johnny KerrThomas</td>\n",
              "      <td>Male</td>\n",
              "      <td>jacksonalan@example.com</td>\n",
              "      <td>False</td>\n",
              "      <td>53.0</td>\n",
              "      <td>87.0</td>\n",
              "      <td>5.0</td>\n",
              "      <td>3.0</td>\n",
              "      <td>124.0</td>\n",
              "      <td>NaN</td>\n",
              "      <td>81.88.75.170</td>\n",
              "      <td>Argentina</td>\n",
              "      <td>16.0</td>\n",
              "      <td>10.0</td>\n",
              "      <td>3.0</td>\n",
              "      <td>NaN</td>\n",
              "    </tr>\n",
              "    <tr>\n",
              "      <th>1</th>\n",
              "      <td>1</td>\n",
              "      <td>Dwayne LarsenLara</td>\n",
              "      <td>Male</td>\n",
              "      <td>calvin80@example.com</td>\n",
              "      <td>True</td>\n",
              "      <td>16.0</td>\n",
              "      <td>67.0</td>\n",
              "      <td>5.0</td>\n",
              "      <td>NaN</td>\n",
              "      <td>26.0</td>\n",
              "      <td>24.97</td>\n",
              "      <td>NaN</td>\n",
              "      <td>New Zealand</td>\n",
              "      <td>14.0</td>\n",
              "      <td>5.0</td>\n",
              "      <td>2.0</td>\n",
              "      <td>NaN</td>\n",
              "    </tr>\n",
              "    <tr>\n",
              "      <th>2</th>\n",
              "      <td>2</td>\n",
              "      <td>NaN</td>\n",
              "      <td>Male</td>\n",
              "      <td>qbrown@example.net</td>\n",
              "      <td>True</td>\n",
              "      <td>44.0</td>\n",
              "      <td>81.0</td>\n",
              "      <td>4.0</td>\n",
              "      <td>17.0</td>\n",
              "      <td>125.0</td>\n",
              "      <td>7.75</td>\n",
              "      <td>159.202.103.178</td>\n",
              "      <td>Costa Rica</td>\n",
              "      <td>16.0</td>\n",
              "      <td>4.0</td>\n",
              "      <td>0.0</td>\n",
              "      <td>False</td>\n",
              "    </tr>\n",
              "    <tr>\n",
              "      <th>3</th>\n",
              "      <td>3</td>\n",
              "      <td>Russell SimmonsPhillips</td>\n",
              "      <td>Male</td>\n",
              "      <td>kimberlywagner@example.com</td>\n",
              "      <td>True</td>\n",
              "      <td>23.0</td>\n",
              "      <td>114.0</td>\n",
              "      <td>5.0</td>\n",
              "      <td>24.0</td>\n",
              "      <td>67.0</td>\n",
              "      <td>13.40</td>\n",
              "      <td>196.11.132.51</td>\n",
              "      <td>Italy</td>\n",
              "      <td>21.0</td>\n",
              "      <td>10.0</td>\n",
              "      <td>1.0</td>\n",
              "      <td>False</td>\n",
              "    </tr>\n",
              "    <tr>\n",
              "      <th>4</th>\n",
              "      <td>4</td>\n",
              "      <td>Jamie WilsonMartinez</td>\n",
              "      <td>Female</td>\n",
              "      <td>shaunbrooks@example.com</td>\n",
              "      <td>False</td>\n",
              "      <td>46.0</td>\n",
              "      <td>112.0</td>\n",
              "      <td>2.0</td>\n",
              "      <td>12.0</td>\n",
              "      <td>63.0</td>\n",
              "      <td>24.83</td>\n",
              "      <td>159.196.199.20</td>\n",
              "      <td>Belgium</td>\n",
              "      <td>10.0</td>\n",
              "      <td>6.0</td>\n",
              "      <td>2.0</td>\n",
              "      <td>False</td>\n",
              "    </tr>\n",
              "  </tbody>\n",
              "</table>\n",
              "</div>\n",
              "      <button class=\"colab-df-convert\" onclick=\"convertToInteractive('df-e48b37fc-ebaf-43e1-9231-f45c77011b29')\"\n",
              "              title=\"Convert this dataframe to an interactive table.\"\n",
              "              style=\"display:none;\">\n",
              "        \n",
              "  <svg xmlns=\"http://www.w3.org/2000/svg\" height=\"24px\"viewBox=\"0 0 24 24\"\n",
              "       width=\"24px\">\n",
              "    <path d=\"M0 0h24v24H0V0z\" fill=\"none\"/>\n",
              "    <path d=\"M18.56 5.44l.94 2.06.94-2.06 2.06-.94-2.06-.94-.94-2.06-.94 2.06-2.06.94zm-11 1L8.5 8.5l.94-2.06 2.06-.94-2.06-.94L8.5 2.5l-.94 2.06-2.06.94zm10 10l.94 2.06.94-2.06 2.06-.94-2.06-.94-.94-2.06-.94 2.06-2.06.94z\"/><path d=\"M17.41 7.96l-1.37-1.37c-.4-.4-.92-.59-1.43-.59-.52 0-1.04.2-1.43.59L10.3 9.45l-7.72 7.72c-.78.78-.78 2.05 0 2.83L4 21.41c.39.39.9.59 1.41.59.51 0 1.02-.2 1.41-.59l7.78-7.78 2.81-2.81c.8-.78.8-2.07 0-2.86zM5.41 20L4 18.59l7.72-7.72 1.47 1.35L5.41 20z\"/>\n",
              "  </svg>\n",
              "      </button>\n",
              "      \n",
              "  <style>\n",
              "    .colab-df-container {\n",
              "      display:flex;\n",
              "      flex-wrap:wrap;\n",
              "      gap: 12px;\n",
              "    }\n",
              "\n",
              "    .colab-df-convert {\n",
              "      background-color: #E8F0FE;\n",
              "      border: none;\n",
              "      border-radius: 50%;\n",
              "      cursor: pointer;\n",
              "      display: none;\n",
              "      fill: #1967D2;\n",
              "      height: 32px;\n",
              "      padding: 0 0 0 0;\n",
              "      width: 32px;\n",
              "    }\n",
              "\n",
              "    .colab-df-convert:hover {\n",
              "      background-color: #E2EBFA;\n",
              "      box-shadow: 0px 1px 2px rgba(60, 64, 67, 0.3), 0px 1px 3px 1px rgba(60, 64, 67, 0.15);\n",
              "      fill: #174EA6;\n",
              "    }\n",
              "\n",
              "    [theme=dark] .colab-df-convert {\n",
              "      background-color: #3B4455;\n",
              "      fill: #D2E3FC;\n",
              "    }\n",
              "\n",
              "    [theme=dark] .colab-df-convert:hover {\n",
              "      background-color: #434B5C;\n",
              "      box-shadow: 0px 1px 3px 1px rgba(0, 0, 0, 0.15);\n",
              "      filter: drop-shadow(0px 1px 2px rgba(0, 0, 0, 0.3));\n",
              "      fill: #FFFFFF;\n",
              "    }\n",
              "  </style>\n",
              "\n",
              "      <script>\n",
              "        const buttonEl =\n",
              "          document.querySelector('#df-e48b37fc-ebaf-43e1-9231-f45c77011b29 button.colab-df-convert');\n",
              "        buttonEl.style.display =\n",
              "          google.colab.kernel.accessAllowed ? 'block' : 'none';\n",
              "\n",
              "        async function convertToInteractive(key) {\n",
              "          const element = document.querySelector('#df-e48b37fc-ebaf-43e1-9231-f45c77011b29');\n",
              "          const dataTable =\n",
              "            await google.colab.kernel.invokeFunction('convertToInteractive',\n",
              "                                                     [key], {});\n",
              "          if (!dataTable) return;\n",
              "\n",
              "          const docLinkHtml = 'Like what you see? Visit the ' +\n",
              "            '<a target=\"_blank\" href=https://colab.research.google.com/notebooks/data_table.ipynb>data table notebook</a>'\n",
              "            + ' to learn more about interactive tables.';\n",
              "          element.innerHTML = '';\n",
              "          dataTable['output_type'] = 'display_data';\n",
              "          await google.colab.output.renderOutput(dataTable, element);\n",
              "          const docLink = document.createElement('div');\n",
              "          docLink.innerHTML = docLinkHtml;\n",
              "          element.appendChild(docLink);\n",
              "        }\n",
              "      </script>\n",
              "    </div>\n",
              "  </div>\n",
              "  "
            ]
          },
          "metadata": {},
          "execution_count": 33
        }
      ]
    },
    {
      "cell_type": "code",
      "source": [
        "df.drop([\"Unnamed: 0\", 'NAME', \"EMAIL_ID\"], axis=1, inplace=True)"
      ],
      "metadata": {
        "id": "qfZc1bNxQSFh"
      },
      "execution_count": 34,
      "outputs": []
    },
    {
      "cell_type": "code",
      "source": [
        "df.drop(\"REGISTRATION_IPV4\", axis=1, inplace=True)"
      ],
      "metadata": {
        "id": "RgymWVbFSW06"
      },
      "execution_count": 35,
      "outputs": []
    },
    {
      "cell_type": "code",
      "source": [
        "df.isna().sum()"
      ],
      "metadata": {
        "colab": {
          "base_uri": "https://localhost:8080/"
        },
        "id": "r9OAt8OPQm39",
        "outputId": "5f46aa24-f195-4936-d19f-767dc7482ef8"
      },
      "execution_count": 36,
      "outputs": [
        {
          "output_type": "execute_result",
          "data": {
            "text/plain": [
              "GENDER                   77879\n",
              "IS_GLOGIN                77916\n",
              "FOLLOWER_COUNT           77712\n",
              "FOLLOWING_COUNT          78445\n",
              "DATASET_COUNT            78567\n",
              "CODE_COUNT               77926\n",
              "DISCUSSION_COUNT         77722\n",
              "AVG_NB_READ_TIME_MIN     78316\n",
              "REGISTRATION_LOCATION    78290\n",
              "TOTAL_VOTES_GAVE_NB      77705\n",
              "TOTAL_VOTES_GAVE_DS      77934\n",
              "TOTAL_VOTES_GAVE_DC      78030\n",
              "ISBOT                    78500\n",
              "dtype: int64"
            ]
          },
          "metadata": {},
          "execution_count": 36
        }
      ]
    },
    {
      "cell_type": "code",
      "source": [
        "df[\"GENDER\"].fillna(mode(df[\"GENDER\"]), inplace=True)\n",
        "df[\"IS_GLOGIN\"].fillna(mode(df[\"IS_GLOGIN\"]), inplace=True)\n",
        "df[\"FOLLOWER_COUNT\"].fillna(np.mean(df[\"FOLLOWER_COUNT\"]), inplace=True)\n",
        "df[\"FOLLOWING_COUNT\"].fillna(np.mean(df[\"FOLLOWING_COUNT\"]), inplace=True)\n",
        "df[\"DATASET_COUNT\"].fillna(np.mean(df[\"DATASET_COUNT\"]), inplace=True) \n",
        "df[\"CODE_COUNT\"].fillna(np.mean(df[\"CODE_COUNT\"]), inplace=True)\n",
        "df[\"DISCUSSION_COUNT\"].fillna(np.mean(df[\"DISCUSSION_COUNT\"]), inplace=True)\n",
        "df[\"AVG_NB_READ_TIME_MIN\"].fillna(np.mean(df[\"AVG_NB_READ_TIME_MIN\"]), inplace=True)\n",
        "df[\"REGISTRATION_LOCATION\"].fillna(mode(df[\"REGISTRATION_LOCATION\"]), inplace=True)\n",
        "df[\"TOTAL_VOTES_GAVE_NB\"].fillna(np.mean(df[\"TOTAL_VOTES_GAVE_NB\"]), inplace=True)\n",
        "df[\"TOTAL_VOTES_GAVE_DS\"].fillna(np.mean(df[\"TOTAL_VOTES_GAVE_DS\"]), inplace=True)\n",
        "df[\"TOTAL_VOTES_GAVE_DC\"].fillna(np.mean(df[\"TOTAL_VOTES_GAVE_DC\"]), inplace=True)\n",
        "df[\"ISBOT\"].fillna(mode(df[\"ISBOT\"]), inplace=True)"
      ],
      "metadata": {
        "id": "o9cX7yyNQpIu"
      },
      "execution_count": 37,
      "outputs": []
    },
    {
      "cell_type": "code",
      "source": [
        "df.isna().sum()"
      ],
      "metadata": {
        "colab": {
          "base_uri": "https://localhost:8080/"
        },
        "id": "zXWNsIdnTINh",
        "outputId": "45bc8eab-281b-4c71-bb76-b448b41e30cd"
      },
      "execution_count": 38,
      "outputs": [
        {
          "output_type": "execute_result",
          "data": {
            "text/plain": [
              "GENDER                       0\n",
              "IS_GLOGIN                    0\n",
              "FOLLOWER_COUNT               0\n",
              "FOLLOWING_COUNT              0\n",
              "DATASET_COUNT                0\n",
              "CODE_COUNT                   0\n",
              "DISCUSSION_COUNT             0\n",
              "AVG_NB_READ_TIME_MIN         0\n",
              "REGISTRATION_LOCATION    78290\n",
              "TOTAL_VOTES_GAVE_NB          0\n",
              "TOTAL_VOTES_GAVE_DS          0\n",
              "TOTAL_VOTES_GAVE_DC          0\n",
              "ISBOT                        0\n",
              "dtype: int64"
            ]
          },
          "metadata": {},
          "execution_count": 38
        }
      ]
    },
    {
      "cell_type": "code",
      "source": [
        "mode(df[\"REGISTRATION_LOCATION\"])"
      ],
      "metadata": {
        "colab": {
          "base_uri": "https://localhost:8080/"
        },
        "id": "2-pk20fnUiHF",
        "outputId": "83c9effd-d883-4ee8-e6cf-54ad2b65cf29"
      },
      "execution_count": 39,
      "outputs": [
        {
          "output_type": "execute_result",
          "data": {
            "text/plain": [
              "nan"
            ]
          },
          "metadata": {},
          "execution_count": 39
        }
      ]
    },
    {
      "cell_type": "code",
      "source": [
        "labels = {}\n",
        "for column in df.keys():\n",
        "  if pd.api.types.is_object_dtype(df[column]):\n",
        "    le = LabelEncoder()\n",
        "    df[column] = le.fit_transform(df[column])\n",
        "    labels[column] = le.classes_"
      ],
      "metadata": {
        "id": "vqDpHZfyUooB"
      },
      "execution_count": 40,
      "outputs": []
    },
    {
      "cell_type": "code",
      "source": [
        "labels"
      ],
      "metadata": {
        "colab": {
          "base_uri": "https://localhost:8080/"
        },
        "id": "biqMwE-kUytK",
        "outputId": "54fb8825-b97e-458e-af27-313e8a765140"
      },
      "execution_count": 41,
      "outputs": [
        {
          "output_type": "execute_result",
          "data": {
            "text/plain": [
              "{'GENDER': array(['Female', 'Male'], dtype=object),\n",
              " 'REGISTRATION_LOCATION': array(['Afghanistan', 'Albania', 'Algeria', 'American Samoa', 'Andorra',\n",
              "        'Angola', 'Anguilla',\n",
              "        'Antarctica (the territory South of 60 deg S)',\n",
              "        'Antigua and Barbuda', 'Argentina', 'Armenia', 'Aruba',\n",
              "        'Australia', 'Austria', 'Azerbaijan', 'Bahamas', 'Bahrain',\n",
              "        'Bangladesh', 'Barbados', 'Belarus', 'Belgium', 'Belize', 'Benin',\n",
              "        'Bermuda', 'Bhutan', 'Bolivia', 'Bosnia and Herzegovina',\n",
              "        'Botswana', 'Bouvet Island (Bouvetoya)', 'Brazil',\n",
              "        'British Indian Ocean Territory (Chagos Archipelago)',\n",
              "        'British Virgin Islands', 'Brunei Darussalam', 'Bulgaria',\n",
              "        'Burkina Faso', 'Burundi', 'Cambodia', 'Cameroon', 'Canada',\n",
              "        'Cape Verde', 'Cayman Islands', 'Central African Republic', 'Chad',\n",
              "        'Chile', 'China', 'Christmas Island', 'Cocos (Keeling) Islands',\n",
              "        'Colombia', 'Comoros', 'Congo', 'Cook Islands', 'Costa Rica',\n",
              "        \"Cote d'Ivoire\", 'Croatia', 'Cuba', 'Cyprus', 'Czech Republic',\n",
              "        'Denmark', 'Djibouti', 'Dominica', 'Dominican Republic', 'Ecuador',\n",
              "        'Egypt', 'El Salvador', 'Equatorial Guinea', 'Eritrea', 'Estonia',\n",
              "        'Ethiopia', 'Falkland Islands (Malvinas)', 'Faroe Islands', 'Fiji',\n",
              "        'Finland', 'France', 'French Guiana', 'French Polynesia',\n",
              "        'French Southern Territories', 'Gabon', 'Gambia', 'Georgia',\n",
              "        'Germany', 'Ghana', 'Gibraltar', 'Greece', 'Greenland', 'Grenada',\n",
              "        'Guadeloupe', 'Guam', 'Guatemala', 'Guernsey', 'Guinea',\n",
              "        'Guinea-Bissau', 'Guyana', 'Haiti',\n",
              "        'Heard Island and McDonald Islands',\n",
              "        'Holy See (Vatican City State)', 'Honduras', 'Hong Kong',\n",
              "        'Hungary', 'Iceland', 'India', 'Indonesia', 'Iran', 'Iraq',\n",
              "        'Ireland', 'Isle of Man', 'Israel', 'Italy', 'Jamaica', 'Japan',\n",
              "        'Jersey', 'Jordan', 'Kazakhstan', 'Kenya', 'Kiribati', 'Korea',\n",
              "        'Kuwait', 'Kyrgyz Republic', \"Lao People's Democratic Republic\",\n",
              "        'Latvia', 'Lebanon', 'Lesotho', 'Liberia',\n",
              "        'Libyan Arab Jamahiriya', 'Liechtenstein', 'Lithuania',\n",
              "        'Luxembourg', 'Macao', 'Macedonia', 'Madagascar', 'Malawi',\n",
              "        'Malaysia', 'Maldives', 'Mali', 'Malta', 'Marshall Islands',\n",
              "        'Martinique', 'Mauritania', 'Mauritius', 'Mayotte', 'Mexico',\n",
              "        'Micronesia', 'Moldova', 'Monaco', 'Mongolia', 'Montenegro',\n",
              "        'Montserrat', 'Morocco', 'Mozambique', 'Myanmar', 'Namibia',\n",
              "        'Nauru', 'Nepal', 'Netherlands', 'Netherlands Antilles',\n",
              "        'New Caledonia', 'New Zealand', 'Nicaragua', 'Niger', 'Nigeria',\n",
              "        'Niue', 'Norfolk Island', 'Northern Mariana Islands', 'Norway',\n",
              "        'Oman', 'Pakistan', 'Palau', 'Palestinian Territory', 'Panama',\n",
              "        'Papua New Guinea', 'Paraguay', 'Peru', 'Philippines',\n",
              "        'Pitcairn Islands', 'Poland', 'Portugal', 'Puerto Rico', 'Qatar',\n",
              "        'Reunion', 'Romania', 'Russian Federation', 'Rwanda',\n",
              "        'Saint Barthelemy', 'Saint Helena', 'Saint Kitts and Nevis',\n",
              "        'Saint Lucia', 'Saint Martin', 'Saint Pierre and Miquelon',\n",
              "        'Saint Vincent and the Grenadines', 'Samoa', 'San Marino',\n",
              "        'Sao Tome and Principe', 'Saudi Arabia', 'Senegal', 'Serbia',\n",
              "        'Seychelles', 'Sierra Leone', 'Singapore',\n",
              "        'Slovakia (Slovak Republic)', 'Slovenia', 'Solomon Islands',\n",
              "        'Somalia', 'South Africa',\n",
              "        'South Georgia and the South Sandwich Islands', 'Spain',\n",
              "        'Sri Lanka', 'Sudan', 'Suriname', 'Svalbard & Jan Mayen Islands',\n",
              "        'Swaziland', 'Sweden', 'Switzerland', 'Syrian Arab Republic',\n",
              "        'Taiwan', 'Tajikistan', 'Tanzania', 'Thailand', 'Timor-Leste',\n",
              "        'Togo', 'Tokelau', 'Tonga', 'Trinidad and Tobago', 'Tunisia',\n",
              "        'Turkey', 'Turkmenistan', 'Turks and Caicos Islands', 'Tuvalu',\n",
              "        'Uganda', 'Ukraine', 'United Arab Emirates', 'United Kingdom',\n",
              "        'United States Minor Outlying Islands',\n",
              "        'United States Virgin Islands', 'United States of America',\n",
              "        'Uruguay', 'Uzbekistan', 'Vanuatu', 'Venezuela', 'Vietnam',\n",
              "        'Wallis and Futuna', 'Western Sahara', 'Yemen', 'Zambia',\n",
              "        'Zimbabwe', nan], dtype=object)}"
            ]
          },
          "metadata": {},
          "execution_count": 41
        }
      ]
    },
    {
      "cell_type": "code",
      "source": [
        "X = df.drop(\"ISBOT\", axis=1)\n",
        "y = df[\"ISBOT\"]\n",
        "\n",
        "X_train, X_test, y_train, y_test = train_test_split(X, y, test_size=0.2)"
      ],
      "metadata": {
        "id": "w7tVjGNDVZ9z"
      },
      "execution_count": 42,
      "outputs": []
    },
    {
      "cell_type": "code",
      "source": [
        "rclf = RandomForestClassifier()\n",
        "rclf.fit(X_train.values, y_train.values)"
      ],
      "metadata": {
        "colab": {
          "base_uri": "https://localhost:8080/"
        },
        "id": "QOGBXTOPW_AG",
        "outputId": "040be794-8f29-46ef-ef53-648e5336460e"
      },
      "execution_count": 43,
      "outputs": [
        {
          "output_type": "execute_result",
          "data": {
            "text/plain": [
              "RandomForestClassifier()"
            ]
          },
          "metadata": {},
          "execution_count": 43
        }
      ]
    },
    {
      "cell_type": "code",
      "source": [
        "rclf.score(X_test.values, y_test.values)"
      ],
      "metadata": {
        "colab": {
          "base_uri": "https://localhost:8080/"
        },
        "id": "Obc_Q0FzYY1s",
        "outputId": "64fe0ff3-0045-4ef4-a267-4f6ffd647f6e"
      },
      "execution_count": 44,
      "outputs": [
        {
          "output_type": "execute_result",
          "data": {
            "text/plain": [
              "0.9842755394757756"
            ]
          },
          "metadata": {},
          "execution_count": 44
        }
      ]
    },
    {
      "cell_type": "code",
      "source": [
        "from xgboost import XGBClassifier\n",
        "\n",
        "xclf = XGBClassifier()\n",
        "\n",
        "xclf.fit(X_train.values, y_train.values)\n",
        "xclf.score(X_test.values, y_test.values)"
      ],
      "metadata": {
        "colab": {
          "base_uri": "https://localhost:8080/"
        },
        "id": "d2XrGCReXj5y",
        "outputId": "1c33471e-58c8-4953-e2db-2244aee9577e"
      },
      "execution_count": 45,
      "outputs": [
        {
          "output_type": "execute_result",
          "data": {
            "text/plain": [
              "0.9842868928768761"
            ]
          },
          "metadata": {},
          "execution_count": 45
        }
      ]
    },
    {
      "cell_type": "code",
      "source": [],
      "metadata": {
        "id": "OaYt7XVBXodX"
      },
      "execution_count": null,
      "outputs": []
    }
  ],
  "metadata": {
    "colab": {
      "provenance": []
    },
    "gpuClass": "standard",
    "kernelspec": {
      "display_name": "Python 3",
      "name": "python3"
    },
    "language_info": {
      "name": "python"
    }
  },
  "nbformat": 4,
  "nbformat_minor": 0
}