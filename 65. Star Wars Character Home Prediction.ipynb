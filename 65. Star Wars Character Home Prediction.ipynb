{
 "cells": [
  {
   "cell_type": "markdown",
   "id": "4908f5e5",
   "metadata": {},
   "source": [
    "# Star Wars Character Home Prediction\n",
    "\n",
    "## Importing required modules"
   ]
  },
  {
   "cell_type": "code",
   "execution_count": 1,
   "id": "321d7483",
   "metadata": {},
   "outputs": [],
   "source": [
    "import pandas as pd\n",
    "import numpy as np\n",
    "from sklearn.model_selection import train_test_split\n",
    "from sklearn.preprocessing import LabelEncoder\n",
    "from sklearn.ensemble import RandomForestClassifier\n",
    "from xgboost import XGBClassifier"
   ]
  },
  {
   "cell_type": "markdown",
   "id": "905650e0",
   "metadata": {},
   "source": [
    "## Getting the dataset"
   ]
  },
  {
   "cell_type": "code",
   "execution_count": 2,
   "id": "19e00c24",
   "metadata": {},
   "outputs": [
    {
     "data": {
      "text/html": [
       "<div>\n",
       "<style scoped>\n",
       "    .dataframe tbody tr th:only-of-type {\n",
       "        vertical-align: middle;\n",
       "    }\n",
       "\n",
       "    .dataframe tbody tr th {\n",
       "        vertical-align: top;\n",
       "    }\n",
       "\n",
       "    .dataframe thead th {\n",
       "        text-align: right;\n",
       "    }\n",
       "</style>\n",
       "<table border=\"1\" class=\"dataframe\">\n",
       "  <thead>\n",
       "    <tr style=\"text-align: right;\">\n",
       "      <th></th>\n",
       "      <th>name</th>\n",
       "      <th>height</th>\n",
       "      <th>mass</th>\n",
       "      <th>hair_color</th>\n",
       "      <th>skin_color</th>\n",
       "      <th>eye_color</th>\n",
       "      <th>birth_year</th>\n",
       "      <th>sex</th>\n",
       "      <th>gender</th>\n",
       "      <th>homeworld</th>\n",
       "      <th>species</th>\n",
       "      <th>films</th>\n",
       "      <th>vehicles</th>\n",
       "      <th>starships</th>\n",
       "    </tr>\n",
       "  </thead>\n",
       "  <tbody>\n",
       "    <tr>\n",
       "      <th>0</th>\n",
       "      <td>Luke Skywalker</td>\n",
       "      <td>172.0</td>\n",
       "      <td>77.0</td>\n",
       "      <td>blond</td>\n",
       "      <td>fair</td>\n",
       "      <td>blue</td>\n",
       "      <td>19.0</td>\n",
       "      <td>male</td>\n",
       "      <td>masculine</td>\n",
       "      <td>Tatooine</td>\n",
       "      <td>Human</td>\n",
       "      <td>The Empire Strikes Back, Revenge of the Sith, ...</td>\n",
       "      <td>Snowspeeder, Imperial Speeder Bike</td>\n",
       "      <td>X-wing, Imperial shuttle</td>\n",
       "    </tr>\n",
       "    <tr>\n",
       "      <th>1</th>\n",
       "      <td>C-3PO</td>\n",
       "      <td>167.0</td>\n",
       "      <td>75.0</td>\n",
       "      <td>NaN</td>\n",
       "      <td>gold</td>\n",
       "      <td>yellow</td>\n",
       "      <td>112.0</td>\n",
       "      <td>none</td>\n",
       "      <td>masculine</td>\n",
       "      <td>Tatooine</td>\n",
       "      <td>Droid</td>\n",
       "      <td>The Empire Strikes Back, Attack of the Clones,...</td>\n",
       "      <td>NaN</td>\n",
       "      <td>NaN</td>\n",
       "    </tr>\n",
       "    <tr>\n",
       "      <th>2</th>\n",
       "      <td>R2-D2</td>\n",
       "      <td>96.0</td>\n",
       "      <td>32.0</td>\n",
       "      <td>NaN</td>\n",
       "      <td>white, blue</td>\n",
       "      <td>red</td>\n",
       "      <td>33.0</td>\n",
       "      <td>none</td>\n",
       "      <td>masculine</td>\n",
       "      <td>Naboo</td>\n",
       "      <td>Droid</td>\n",
       "      <td>The Empire Strikes Back, Attack of the Clones,...</td>\n",
       "      <td>NaN</td>\n",
       "      <td>NaN</td>\n",
       "    </tr>\n",
       "    <tr>\n",
       "      <th>3</th>\n",
       "      <td>Darth Vader</td>\n",
       "      <td>202.0</td>\n",
       "      <td>136.0</td>\n",
       "      <td>none</td>\n",
       "      <td>white</td>\n",
       "      <td>yellow</td>\n",
       "      <td>41.9</td>\n",
       "      <td>male</td>\n",
       "      <td>masculine</td>\n",
       "      <td>Tatooine</td>\n",
       "      <td>Human</td>\n",
       "      <td>The Empire Strikes Back, Revenge of the Sith, ...</td>\n",
       "      <td>NaN</td>\n",
       "      <td>TIE Advanced x1</td>\n",
       "    </tr>\n",
       "    <tr>\n",
       "      <th>4</th>\n",
       "      <td>Leia Organa</td>\n",
       "      <td>150.0</td>\n",
       "      <td>49.0</td>\n",
       "      <td>brown</td>\n",
       "      <td>light</td>\n",
       "      <td>brown</td>\n",
       "      <td>19.0</td>\n",
       "      <td>female</td>\n",
       "      <td>feminine</td>\n",
       "      <td>Alderaan</td>\n",
       "      <td>Human</td>\n",
       "      <td>The Empire Strikes Back, Revenge of the Sith, ...</td>\n",
       "      <td>Imperial Speeder Bike</td>\n",
       "      <td>NaN</td>\n",
       "    </tr>\n",
       "  </tbody>\n",
       "</table>\n",
       "</div>"
      ],
      "text/plain": [
       "             name  ...                 starships\n",
       "0  Luke Skywalker  ...  X-wing, Imperial shuttle\n",
       "1           C-3PO  ...                       NaN\n",
       "2           R2-D2  ...                       NaN\n",
       "3     Darth Vader  ...           TIE Advanced x1\n",
       "4     Leia Organa  ...                       NaN\n",
       "\n",
       "[5 rows x 14 columns]"
      ]
     },
     "execution_count": 2,
     "metadata": {},
     "output_type": "execute_result"
    }
   ],
   "source": [
    "df = pd.read_csv(\"data/proj65/star_wars_character_dataset.csv\")\n",
    "df.head()"
   ]
  },
  {
   "cell_type": "markdown",
   "id": "a299ea13",
   "metadata": {},
   "source": [
    "## Cleaning the dataset"
   ]
  },
  {
   "cell_type": "code",
   "execution_count": 3,
   "id": "429dbe7d",
   "metadata": {},
   "outputs": [
    {
     "data": {
      "text/plain": [
       "name           0\n",
       "height         6\n",
       "mass          28\n",
       "hair_color     5\n",
       "skin_color     0\n",
       "eye_color      0\n",
       "birth_year    44\n",
       "sex            4\n",
       "gender         4\n",
       "homeworld     10\n",
       "species        4\n",
       "films          0\n",
       "vehicles      76\n",
       "starships     67\n",
       "dtype: int64"
      ]
     },
     "execution_count": 3,
     "metadata": {},
     "output_type": "execute_result"
    }
   ],
   "source": [
    "df.isna().sum()"
   ]
  },
  {
   "cell_type": "code",
   "execution_count": 4,
   "id": "db30acd9",
   "metadata": {},
   "outputs": [],
   "source": [
    "df[\"height\"].fillna(np.mean(df[\"height\"]), inplace=True)\n",
    "df[\"mass\"].fillna(np.mean(df[\"mass\"]), inplace=True)"
   ]
  },
  {
   "cell_type": "code",
   "execution_count": 5,
   "id": "1a1060ae",
   "metadata": {},
   "outputs": [
    {
     "name": "stdout",
     "output_type": "stream",
     "text": [
      "<class 'pandas.core.frame.DataFrame'>\n",
      "RangeIndex: 87 entries, 0 to 86\n",
      "Data columns (total 14 columns):\n",
      " #   Column      Non-Null Count  Dtype  \n",
      "---  ------      --------------  -----  \n",
      " 0   name        87 non-null     object \n",
      " 1   height      87 non-null     float64\n",
      " 2   mass        87 non-null     float64\n",
      " 3   hair_color  82 non-null     object \n",
      " 4   skin_color  87 non-null     object \n",
      " 5   eye_color   87 non-null     object \n",
      " 6   birth_year  43 non-null     float64\n",
      " 7   sex         83 non-null     object \n",
      " 8   gender      83 non-null     object \n",
      " 9   homeworld   77 non-null     object \n",
      " 10  species     83 non-null     object \n",
      " 11  films       87 non-null     object \n",
      " 12  vehicles    11 non-null     object \n",
      " 13  starships   20 non-null     object \n",
      "dtypes: float64(3), object(11)\n",
      "memory usage: 9.6+ KB\n"
     ]
    }
   ],
   "source": [
    "df.info()"
   ]
  },
  {
   "cell_type": "code",
   "execution_count": 6,
   "id": "fda571b8",
   "metadata": {},
   "outputs": [
    {
     "data": {
      "text/plain": [
       "none             37\n",
       "brown            18\n",
       "black            13\n",
       "white             4\n",
       "blond             3\n",
       "brown, grey       1\n",
       "auburn, white     1\n",
       "auburn, grey      1\n",
       "grey              1\n",
       "auburn            1\n",
       "blonde            1\n",
       "unknown           1\n",
       "Name: hair_color, dtype: int64"
      ]
     },
     "execution_count": 6,
     "metadata": {},
     "output_type": "execute_result"
    }
   ],
   "source": [
    "df[\"hair_color\"].value_counts()"
   ]
  },
  {
   "cell_type": "code",
   "execution_count": 13,
   "id": "286bf75d",
   "metadata": {},
   "outputs": [],
   "source": [
    "df[\"hair_color\"].fillna(\"none\", inplace=True)\n",
    "df[\"birth_year\"].fillna(np.mean(df[\"birth_year\"]), inplace=True)\n",
    "df[\"sex\"].fillna(\"male\", inplace=True)\n",
    "df[\"gender\"].fillna(\"masculine\", inplace=True)\n",
    "df[\"homeworld\"].fillna(\"none\", inplace=True)\n",
    "df[\"species\"].fillna(\"Human\", inplace=True)\n",
    "df[\"vehicles\"].fillna(\"none\", inplace=True)\n",
    "df[\"starships\"].fillna(\"none\", inplace=True)"
   ]
  },
  {
   "cell_type": "code",
   "execution_count": 14,
   "id": "3fa2f16c",
   "metadata": {},
   "outputs": [
    {
     "data": {
      "text/plain": [
       "name          0\n",
       "height        0\n",
       "mass          0\n",
       "hair_color    0\n",
       "skin_color    0\n",
       "eye_color     0\n",
       "birth_year    0\n",
       "sex           0\n",
       "gender        0\n",
       "homeworld     0\n",
       "species       0\n",
       "films         0\n",
       "vehicles      0\n",
       "starships     0\n",
       "dtype: int64"
      ]
     },
     "execution_count": 14,
     "metadata": {},
     "output_type": "execute_result"
    }
   ],
   "source": [
    "df.isna().sum()"
   ]
  },
  {
   "cell_type": "markdown",
   "id": "f80ac31e",
   "metadata": {},
   "source": [
    "## Pre Processing data"
   ]
  },
  {
   "cell_type": "code",
   "execution_count": 15,
   "id": "3299576e",
   "metadata": {},
   "outputs": [
    {
     "name": "stdout",
     "output_type": "stream",
     "text": [
      "----------\n",
      "name\n",
      "['Ackbar' 'Adi Gallia' 'Anakin Skywalker' 'Arvel Crynyd' 'Ayla Secura'\n",
      " 'BB8' 'Bail Prestor Organa' 'Barriss Offee' 'Ben Quadinaros'\n",
      " 'Beru Whitesun lars' 'Bib Fortuna' 'Biggs Darklighter' 'Boba Fett'\n",
      " 'Bossk' 'C-3PO' 'Captain Phasma' 'Chewbacca' 'Cliegg Lars' 'Cordé'\n",
      " 'Darth Maul' 'Darth Vader' 'Dexter Jettster' 'Dooku' 'Dormé' 'Dud Bolt'\n",
      " 'Eeth Koth' 'Finis Valorum' 'Finn' 'Gasgano' 'Greedo' 'Gregar Typho'\n",
      " 'Grievous' 'Han Solo' 'IG-88' 'Jabba Desilijic Tiure' 'Jango Fett'\n",
      " 'Jar Jar Binks' 'Jek Tono Porkins' 'Jocasta Nu' 'Ki-Adi-Mundi'\n",
      " 'Kit Fisto' 'Lama Su' 'Lando Calrissian' 'Leia Organa' 'Lobot'\n",
      " 'Luke Skywalker' 'Luminara Unduli' 'Mace Windu' 'Mas Amedda' 'Mon Mothma'\n",
      " 'Nien Nunb' 'Nute Gunray' 'Obi-Wan Kenobi' 'Owen Lars' 'Padmé Amidala'\n",
      " 'Palpatine' 'Plo Koon' 'Poe Dameron' 'Poggle the Lesser' 'Quarsh Panaka'\n",
      " 'Qui-Gon Jinn' 'R2-D2' 'R4-P17' 'R5-D4' 'Ratts Tyerell' 'Raymus Antilles'\n",
      " 'Rey' 'Ric Olié' 'Roos Tarpals' 'Rugor Nass' 'Saesee Tiin' 'San Hill'\n",
      " 'Sebulba' 'Shaak Ti' 'Shmi Skywalker' 'Sly Moore' 'Tarfful' 'Taun We'\n",
      " 'Tion Medon' 'Wat Tambor' 'Watto' 'Wedge Antilles'\n",
      " 'Wicket Systri Warrick' 'Wilhuff Tarkin' 'Yarael Poof' 'Yoda'\n",
      " 'Zam Wesell']\n",
      "----------\n",
      "----------\n",
      "hair_color\n",
      "['auburn' 'auburn, grey' 'auburn, white' 'black' 'blond' 'blonde' 'brown'\n",
      " 'brown, grey' 'grey' 'none' 'unknown' 'white']\n",
      "----------\n",
      "----------\n",
      "skin_color\n",
      "['blue' 'blue, grey' 'brown' 'brown mottle' 'brown, white' 'dark' 'fair'\n",
      " 'fair, green, yellow' 'gold' 'green' 'green, grey' 'green-tan, brown'\n",
      " 'grey' 'grey, blue' 'grey, green, yellow' 'grey, red' 'light' 'metal'\n",
      " 'mottled green' 'none' 'orange' 'pale' 'red' 'red, blue, white'\n",
      " 'silver, red' 'tan' 'unknown' 'white' 'white, blue' 'white, red' 'yellow']\n",
      "----------\n",
      "----------\n",
      "eye_color\n",
      "['black' 'blue' 'blue-gray' 'brown' 'dark' 'gold' 'green, yellow' 'hazel'\n",
      " 'orange' 'pink' 'red' 'red, blue' 'unknown' 'white' 'yellow']\n",
      "----------\n",
      "----------\n",
      "sex\n",
      "['female' 'hermaphroditic' 'male' 'none']\n",
      "----------\n",
      "----------\n",
      "gender\n",
      "['feminine' 'masculine']\n",
      "----------\n",
      "----------\n",
      "homeworld\n",
      "['Alderaan' 'Aleen Minor' 'Bespin' 'Bestine IV' 'Cato Neimoidia' 'Cerea'\n",
      " 'Champala' 'Chandrila' 'Concord Dawn' 'Corellia' 'Coruscant' 'Dathomir'\n",
      " 'Dorin' 'Endor' 'Eriadu' 'Geonosis' 'Glee Anselm' 'Haruun Kal' 'Iktotch'\n",
      " 'Iridonia' 'Kalee' 'Kamino' 'Kashyyyk' 'Malastare' 'Mirial' 'Mon Cala'\n",
      " 'Muunilinst' 'Naboo' 'Nal Hutta' 'Ojom' 'Quermia' 'Rodia' 'Ryloth'\n",
      " 'Serenno' 'Shili' 'Skako' 'Socorro' 'Stewjon' 'Sullust' 'Tatooine'\n",
      " 'Toydaria' 'Trandosha' 'Troiken' 'Tund' 'Umbara' 'Utapau' 'Vulpter'\n",
      " 'Zolan' 'none']\n",
      "----------\n",
      "----------\n",
      "species\n",
      "['Aleena' 'Besalisk' 'Cerean' 'Chagrian' 'Clawdite' 'Droid' 'Dug' 'Ewok'\n",
      " 'Geonosian' 'Gungan' 'Human' 'Hutt' 'Iktotchi' 'Kaleesh' 'Kaminoan'\n",
      " 'Kel Dor' 'Mirialan' 'Mon Calamari' 'Muun' 'Nautolan' 'Neimodian'\n",
      " \"Pau'an\" 'Quermian' 'Rodian' 'Skakoan' 'Sullustan' 'Tholothian' 'Togruta'\n",
      " 'Toong' 'Toydarian' 'Trandoshan' \"Twi'lek\" 'Vulptereen' 'Wookiee' 'Xexto'\n",
      " \"Yoda's species\" 'Zabrak']\n",
      "----------\n",
      "----------\n",
      "films\n",
      "['A New Hope' 'Attack of the Clones'\n",
      " 'Attack of the Clones, Revenge of the Sith'\n",
      " 'Attack of the Clones, Revenge of the Sith, A New Hope'\n",
      " 'Attack of the Clones, The Phantom Menace'\n",
      " 'Attack of the Clones, The Phantom Menace, Revenge of the Sith'\n",
      " 'Return of the Jedi' 'Return of the Jedi, The Force Awakens'\n",
      " 'Revenge of the Sith' 'Revenge of the Sith, A New Hope'\n",
      " 'The Empire Strikes Back'\n",
      " 'The Empire Strikes Back, Attack of the Clones, Return of the Jedi'\n",
      " 'The Empire Strikes Back, Attack of the Clones, The Phantom Menace, Revenge of the Sith, Return of the Jedi'\n",
      " 'The Empire Strikes Back, Attack of the Clones, The Phantom Menace, Revenge of the Sith, Return of the Jedi, A New Hope'\n",
      " 'The Empire Strikes Back, Attack of the Clones, The Phantom Menace, Revenge of the Sith, Return of the Jedi, A New Hope, The Force Awakens'\n",
      " 'The Empire Strikes Back, Return of the Jedi'\n",
      " 'The Empire Strikes Back, Return of the Jedi, A New Hope'\n",
      " 'The Empire Strikes Back, Return of the Jedi, A New Hope, The Force Awakens'\n",
      " 'The Empire Strikes Back, Revenge of the Sith, Return of the Jedi, A New Hope'\n",
      " 'The Empire Strikes Back, Revenge of the Sith, Return of the Jedi, A New Hope, The Force Awakens'\n",
      " 'The Force Awakens' 'The Phantom Menace'\n",
      " 'The Phantom Menace, Return of the Jedi, A New Hope'\n",
      " 'The Phantom Menace, Revenge of the Sith']\n",
      "----------\n",
      "----------\n",
      "vehicles\n",
      "['AT-ST' 'Flitknot speeder' 'Imperial Speeder Bike'\n",
      " 'Koro-2 Exodrive airspeeder' 'Sith speeder' 'Snowspeeder'\n",
      " 'Snowspeeder, Imperial Speeder Bike' 'Tribubble bongo'\n",
      " 'Tsmeu-6 personal wheel bike' 'Zephyr-G swoop bike, XJ-6 airspeeder'\n",
      " 'none']\n",
      "----------\n",
      "----------\n",
      "starships\n",
      "['A-wing' 'Belbullab-22 starfighter'\n",
      " 'H-type Nubian yacht, Naboo star skiff, Naboo fighter' 'Jedi starfighter'\n",
      " 'Jedi starfighter, Trade Federation cruiser, Naboo star skiff, Jedi Interceptor, Belbullab-22 starfighter'\n",
      " 'Millennium Falcon' 'Millennium Falcon, Imperial shuttle'\n",
      " 'Naboo Royal Starship' 'Naboo fighter' 'Scimitar' 'Slave 1'\n",
      " 'T-70 X-wing fighter' 'TIE Advanced x1'\n",
      " 'Trade Federation cruiser, Jedi Interceptor, Naboo fighter' 'X-wing'\n",
      " 'X-wing, Imperial shuttle' 'none']\n",
      "----------\n"
     ]
    }
   ],
   "source": [
    "for column in df.keys():\n",
    "    if pd.api.types.is_object_dtype(df[column]):\n",
    "        le = LabelEncoder()\n",
    "        df[column] = le.fit_transform(df[column])\n",
    "        print(\"-\"*10)\n",
    "        print(column)\n",
    "        print(le.classes_)\n",
    "        print(\"-\"*10)"
   ]
  },
  {
   "cell_type": "code",
   "execution_count": 16,
   "id": "85a7702f",
   "metadata": {},
   "outputs": [
    {
     "name": "stdout",
     "output_type": "stream",
     "text": [
      "<class 'pandas.core.frame.DataFrame'>\n",
      "RangeIndex: 87 entries, 0 to 86\n",
      "Data columns (total 14 columns):\n",
      " #   Column      Non-Null Count  Dtype  \n",
      "---  ------      --------------  -----  \n",
      " 0   name        87 non-null     int64  \n",
      " 1   height      87 non-null     float64\n",
      " 2   mass        87 non-null     float64\n",
      " 3   hair_color  87 non-null     int64  \n",
      " 4   skin_color  87 non-null     int64  \n",
      " 5   eye_color   87 non-null     int64  \n",
      " 6   birth_year  87 non-null     float64\n",
      " 7   sex         87 non-null     int64  \n",
      " 8   gender      87 non-null     int64  \n",
      " 9   homeworld   87 non-null     int64  \n",
      " 10  species     87 non-null     int64  \n",
      " 11  films       87 non-null     int64  \n",
      " 12  vehicles    87 non-null     int64  \n",
      " 13  starships   87 non-null     int64  \n",
      "dtypes: float64(3), int64(11)\n",
      "memory usage: 9.6 KB\n"
     ]
    }
   ],
   "source": [
    "df.info()"
   ]
  },
  {
   "cell_type": "code",
   "execution_count": 17,
   "id": "89ad7699",
   "metadata": {},
   "outputs": [],
   "source": [
    "X = df.drop(\"homeworld\", axis=1)\n",
    "y = df[\"homeworld\"]\n",
    "\n",
    "X_train, X_test, y_train, y_test = train_test_split(X, y, test_size=0.2)"
   ]
  },
  {
   "cell_type": "markdown",
   "id": "71ec587d",
   "metadata": {},
   "source": [
    "## Training the model"
   ]
  },
  {
   "cell_type": "code",
   "execution_count": 20,
   "id": "57d96af0",
   "metadata": {},
   "outputs": [
    {
     "data": {
      "text/plain": [
       "0.1111111111111111"
      ]
     },
     "execution_count": 20,
     "metadata": {},
     "output_type": "execute_result"
    }
   ],
   "source": [
    "rclf = RandomForestClassifier()\n",
    "\n",
    "rclf.fit(X_train, y_train)\n",
    "rclf.score(X_test, y_test)"
   ]
  },
  {
   "cell_type": "code",
   "execution_count": null,
   "id": "d505333e",
   "metadata": {},
   "outputs": [],
   "source": []
  }
 ],
 "metadata": {
  "kernelspec": {
   "display_name": "Python 3 (ipykernel)",
   "language": "python",
   "name": "python3"
  },
  "language_info": {
   "codemirror_mode": {
    "name": "ipython",
    "version": 3
   },
   "file_extension": ".py",
   "mimetype": "text/x-python",
   "name": "python",
   "nbconvert_exporter": "python",
   "pygments_lexer": "ipython3",
   "version": "3.10.4"
  }
 },
 "nbformat": 4,
 "nbformat_minor": 5
}
