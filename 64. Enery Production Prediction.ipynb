{
 "cells": [
  {
   "cell_type": "markdown",
   "id": "74a18e67",
   "metadata": {},
   "source": [
    "# Energy Production Prediction"
   ]
  },
  {
   "cell_type": "markdown",
   "id": "0cf214c7",
   "metadata": {},
   "source": [
    "## Importing required packages"
   ]
  },
  {
   "cell_type": "code",
   "execution_count": 2,
   "id": "e7896f8b",
   "metadata": {},
   "outputs": [],
   "source": [
    "import pandas as pd\n",
    "import numpy as np\n",
    "from sklearn.ensemble import RandomForestRegressor\n",
    "from sklearn.preprocessing import LabelEncoder\n",
    "from sklearn.model_selection import train_test_split"
   ]
  },
  {
   "cell_type": "markdown",
   "id": "630dceee",
   "metadata": {},
   "source": [
    "## Getting dataset"
   ]
  },
  {
   "cell_type": "code",
   "execution_count": 3,
   "id": "b5d6b68a",
   "metadata": {},
   "outputs": [
    {
     "data": {
      "text/html": [
       "<div>\n",
       "<style scoped>\n",
       "    .dataframe tbody tr th:only-of-type {\n",
       "        vertical-align: middle;\n",
       "    }\n",
       "\n",
       "    .dataframe tbody tr th {\n",
       "        vertical-align: top;\n",
       "    }\n",
       "\n",
       "    .dataframe thead th {\n",
       "        text-align: right;\n",
       "    }\n",
       "</style>\n",
       "<table border=\"1\" class=\"dataframe\">\n",
       "  <thead>\n",
       "    <tr style=\"text-align: right;\">\n",
       "      <th></th>\n",
       "      <th>index</th>\n",
       "      <th>Date</th>\n",
       "      <th>Region</th>\n",
       "      <th>Thermal Generation Actual (in MU)</th>\n",
       "      <th>Thermal Generation Estimated (in MU)</th>\n",
       "      <th>Nuclear Generation Actual (in MU)</th>\n",
       "      <th>Nuclear Generation Estimated (in MU)</th>\n",
       "      <th>Hydro Generation Actual (in MU)</th>\n",
       "      <th>Hydro Generation Estimated (in MU)</th>\n",
       "      <th>Total Actual Production</th>\n",
       "    </tr>\n",
       "  </thead>\n",
       "  <tbody>\n",
       "    <tr>\n",
       "      <th>0</th>\n",
       "      <td>0</td>\n",
       "      <td>01-09-2017</td>\n",
       "      <td>Northern</td>\n",
       "      <td>624.23</td>\n",
       "      <td>484.21</td>\n",
       "      <td>30.36</td>\n",
       "      <td>35.57</td>\n",
       "      <td>273.27</td>\n",
       "      <td>320.81</td>\n",
       "      <td>927.86</td>\n",
       "    </tr>\n",
       "    <tr>\n",
       "      <th>1</th>\n",
       "      <td>1</td>\n",
       "      <td>01-09-2017</td>\n",
       "      <td>Western</td>\n",
       "      <td>1106.89</td>\n",
       "      <td>1024.33</td>\n",
       "      <td>25.17</td>\n",
       "      <td>3.81</td>\n",
       "      <td>72.00</td>\n",
       "      <td>21.53</td>\n",
       "      <td>1204.06</td>\n",
       "    </tr>\n",
       "    <tr>\n",
       "      <th>2</th>\n",
       "      <td>2</td>\n",
       "      <td>01-09-2017</td>\n",
       "      <td>Southern</td>\n",
       "      <td>576.66</td>\n",
       "      <td>578.55</td>\n",
       "      <td>62.73</td>\n",
       "      <td>49.80</td>\n",
       "      <td>111.57</td>\n",
       "      <td>64.78</td>\n",
       "      <td>750.96</td>\n",
       "    </tr>\n",
       "    <tr>\n",
       "      <th>3</th>\n",
       "      <td>3</td>\n",
       "      <td>01-09-2017</td>\n",
       "      <td>Eastern</td>\n",
       "      <td>441.02</td>\n",
       "      <td>429.39</td>\n",
       "      <td>NaN</td>\n",
       "      <td>NaN</td>\n",
       "      <td>85.94</td>\n",
       "      <td>69.36</td>\n",
       "      <td>526.96</td>\n",
       "    </tr>\n",
       "    <tr>\n",
       "      <th>4</th>\n",
       "      <td>4</td>\n",
       "      <td>01-09-2017</td>\n",
       "      <td>NorthEastern</td>\n",
       "      <td>29.11</td>\n",
       "      <td>15.91</td>\n",
       "      <td>NaN</td>\n",
       "      <td>NaN</td>\n",
       "      <td>24.64</td>\n",
       "      <td>21.21</td>\n",
       "      <td>53.75</td>\n",
       "    </tr>\n",
       "  </tbody>\n",
       "</table>\n",
       "</div>"
      ],
      "text/plain": [
       "   index        Date        Region  Thermal Generation Actual (in MU)  \\\n",
       "0      0  01-09-2017      Northern                             624.23   \n",
       "1      1  01-09-2017       Western                            1106.89   \n",
       "2      2  01-09-2017      Southern                             576.66   \n",
       "3      3  01-09-2017       Eastern                             441.02   \n",
       "4      4  01-09-2017  NorthEastern                              29.11   \n",
       "\n",
       "   Thermal Generation Estimated (in MU)  Nuclear Generation Actual (in MU)  \\\n",
       "0                                484.21                              30.36   \n",
       "1                               1024.33                              25.17   \n",
       "2                                578.55                              62.73   \n",
       "3                                429.39                                NaN   \n",
       "4                                 15.91                                NaN   \n",
       "\n",
       "   Nuclear Generation Estimated (in MU)  Hydro Generation Actual (in MU)  \\\n",
       "0                                 35.57                           273.27   \n",
       "1                                  3.81                            72.00   \n",
       "2                                 49.80                           111.57   \n",
       "3                                   NaN                            85.94   \n",
       "4                                   NaN                            24.64   \n",
       "\n",
       "   Hydro Generation Estimated (in MU)  Total Actual Production  \n",
       "0                              320.81                   927.86  \n",
       "1                               21.53                  1204.06  \n",
       "2                               64.78                   750.96  \n",
       "3                               69.36                   526.96  \n",
       "4                               21.21                    53.75  "
      ]
     },
     "execution_count": 3,
     "metadata": {},
     "output_type": "execute_result"
    }
   ],
   "source": [
    "df = pd.read_csv(\"data/proj64/Energy_production.csv\")\n",
    "df.head()"
   ]
  },
  {
   "cell_type": "markdown",
   "id": "2e93277e",
   "metadata": {},
   "source": [
    "## Cleaning dataset"
   ]
  },
  {
   "cell_type": "code",
   "execution_count": 4,
   "id": "6f78ee61",
   "metadata": {},
   "outputs": [
    {
     "data": {
      "text/plain": [
       "index                                      0\n",
       "Date                                       0\n",
       "Region                                     0\n",
       "Thermal Generation Actual (in MU)          0\n",
       "Thermal Generation Estimated (in MU)       0\n",
       "Nuclear Generation Actual (in MU)       1978\n",
       "Nuclear Generation Estimated (in MU)    1978\n",
       "Hydro Generation Actual (in MU)            0\n",
       "Hydro Generation Estimated (in MU)         0\n",
       "Total Actual Production                    0\n",
       "dtype: int64"
      ]
     },
     "execution_count": 4,
     "metadata": {},
     "output_type": "execute_result"
    }
   ],
   "source": [
    "df.isna().sum()"
   ]
  },
  {
   "cell_type": "code",
   "execution_count": 8,
   "id": "557a79b3",
   "metadata": {},
   "outputs": [],
   "source": [
    "df[\"Nuclear Generation Actual (in MU)\"].fillna(np.mean(df[\"Nuclear Generation Actual (in MU)\"]), inplace=True)\n",
    "df[\"Nuclear Generation Estimated (in MU)\"].fillna(np.mean(df[\"Nuclear Generation Estimated (in MU)\"]), inplace=True)"
   ]
  },
  {
   "cell_type": "code",
   "execution_count": 9,
   "id": "78b223cc",
   "metadata": {},
   "outputs": [
    {
     "data": {
      "text/html": [
       "<div>\n",
       "<style scoped>\n",
       "    .dataframe tbody tr th:only-of-type {\n",
       "        vertical-align: middle;\n",
       "    }\n",
       "\n",
       "    .dataframe tbody tr th {\n",
       "        vertical-align: top;\n",
       "    }\n",
       "\n",
       "    .dataframe thead th {\n",
       "        text-align: right;\n",
       "    }\n",
       "</style>\n",
       "<table border=\"1\" class=\"dataframe\">\n",
       "  <thead>\n",
       "    <tr style=\"text-align: right;\">\n",
       "      <th></th>\n",
       "      <th>index</th>\n",
       "      <th>Date</th>\n",
       "      <th>Region</th>\n",
       "      <th>Thermal Generation Actual (in MU)</th>\n",
       "      <th>Thermal Generation Estimated (in MU)</th>\n",
       "      <th>Nuclear Generation Actual (in MU)</th>\n",
       "      <th>Nuclear Generation Estimated (in MU)</th>\n",
       "      <th>Hydro Generation Actual (in MU)</th>\n",
       "      <th>Hydro Generation Estimated (in MU)</th>\n",
       "      <th>Total Actual Production</th>\n",
       "    </tr>\n",
       "  </thead>\n",
       "  <tbody>\n",
       "    <tr>\n",
       "      <th>0</th>\n",
       "      <td>0</td>\n",
       "      <td>01-09-2017</td>\n",
       "      <td>Northern</td>\n",
       "      <td>624.23</td>\n",
       "      <td>484.21</td>\n",
       "      <td>30.360000</td>\n",
       "      <td>35.570000</td>\n",
       "      <td>273.27</td>\n",
       "      <td>320.81</td>\n",
       "      <td>927.86</td>\n",
       "    </tr>\n",
       "    <tr>\n",
       "      <th>1</th>\n",
       "      <td>1</td>\n",
       "      <td>01-09-2017</td>\n",
       "      <td>Western</td>\n",
       "      <td>1106.89</td>\n",
       "      <td>1024.33</td>\n",
       "      <td>25.170000</td>\n",
       "      <td>3.810000</td>\n",
       "      <td>72.00</td>\n",
       "      <td>21.53</td>\n",
       "      <td>1204.06</td>\n",
       "    </tr>\n",
       "    <tr>\n",
       "      <th>2</th>\n",
       "      <td>2</td>\n",
       "      <td>01-09-2017</td>\n",
       "      <td>Southern</td>\n",
       "      <td>576.66</td>\n",
       "      <td>578.55</td>\n",
       "      <td>62.730000</td>\n",
       "      <td>49.800000</td>\n",
       "      <td>111.57</td>\n",
       "      <td>64.78</td>\n",
       "      <td>750.96</td>\n",
       "    </tr>\n",
       "    <tr>\n",
       "      <th>3</th>\n",
       "      <td>3</td>\n",
       "      <td>01-09-2017</td>\n",
       "      <td>Eastern</td>\n",
       "      <td>441.02</td>\n",
       "      <td>429.39</td>\n",
       "      <td>37.242208</td>\n",
       "      <td>36.987877</td>\n",
       "      <td>85.94</td>\n",
       "      <td>69.36</td>\n",
       "      <td>526.96</td>\n",
       "    </tr>\n",
       "    <tr>\n",
       "      <th>4</th>\n",
       "      <td>4</td>\n",
       "      <td>01-09-2017</td>\n",
       "      <td>NorthEastern</td>\n",
       "      <td>29.11</td>\n",
       "      <td>15.91</td>\n",
       "      <td>37.242208</td>\n",
       "      <td>36.987877</td>\n",
       "      <td>24.64</td>\n",
       "      <td>21.21</td>\n",
       "      <td>53.75</td>\n",
       "    </tr>\n",
       "  </tbody>\n",
       "</table>\n",
       "</div>"
      ],
      "text/plain": [
       "   index        Date        Region  Thermal Generation Actual (in MU)  \\\n",
       "0      0  01-09-2017      Northern                             624.23   \n",
       "1      1  01-09-2017       Western                            1106.89   \n",
       "2      2  01-09-2017      Southern                             576.66   \n",
       "3      3  01-09-2017       Eastern                             441.02   \n",
       "4      4  01-09-2017  NorthEastern                              29.11   \n",
       "\n",
       "   Thermal Generation Estimated (in MU)  Nuclear Generation Actual (in MU)  \\\n",
       "0                                484.21                          30.360000   \n",
       "1                               1024.33                          25.170000   \n",
       "2                                578.55                          62.730000   \n",
       "3                                429.39                          37.242208   \n",
       "4                                 15.91                          37.242208   \n",
       "\n",
       "   Nuclear Generation Estimated (in MU)  Hydro Generation Actual (in MU)  \\\n",
       "0                             35.570000                           273.27   \n",
       "1                              3.810000                            72.00   \n",
       "2                             49.800000                           111.57   \n",
       "3                             36.987877                            85.94   \n",
       "4                             36.987877                            24.64   \n",
       "\n",
       "   Hydro Generation Estimated (in MU)  Total Actual Production  \n",
       "0                              320.81                   927.86  \n",
       "1                               21.53                  1204.06  \n",
       "2                               64.78                   750.96  \n",
       "3                               69.36                   526.96  \n",
       "4                               21.21                    53.75  "
      ]
     },
     "execution_count": 9,
     "metadata": {},
     "output_type": "execute_result"
    }
   ],
   "source": [
    "df.head()"
   ]
  },
  {
   "cell_type": "code",
   "execution_count": 10,
   "id": "4ebbe651",
   "metadata": {},
   "outputs": [
    {
     "data": {
      "text/plain": [
       "index                                   0\n",
       "Date                                    0\n",
       "Region                                  0\n",
       "Thermal Generation Actual (in MU)       0\n",
       "Thermal Generation Estimated (in MU)    0\n",
       "Nuclear Generation Actual (in MU)       0\n",
       "Nuclear Generation Estimated (in MU)    0\n",
       "Hydro Generation Actual (in MU)         0\n",
       "Hydro Generation Estimated (in MU)      0\n",
       "Total Actual Production                 0\n",
       "dtype: int64"
      ]
     },
     "execution_count": 10,
     "metadata": {},
     "output_type": "execute_result"
    }
   ],
   "source": [
    "\n",
    "df.isna().sum()"
   ]
  },
  {
   "cell_type": "markdown",
   "id": "cf7b6e29",
   "metadata": {},
   "source": [
    "## Pre-Processing"
   ]
  },
  {
   "cell_type": "code",
   "execution_count": 11,
   "id": "ad78ec67",
   "metadata": {},
   "outputs": [
    {
     "name": "stdout",
     "output_type": "stream",
     "text": [
      "<class 'pandas.core.frame.DataFrame'>\n",
      "RangeIndex: 4945 entries, 0 to 4944\n",
      "Data columns (total 10 columns):\n",
      " #   Column                                Non-Null Count  Dtype  \n",
      "---  ------                                --------------  -----  \n",
      " 0   index                                 4945 non-null   int64  \n",
      " 1   Date                                  4945 non-null   object \n",
      " 2   Region                                4945 non-null   object \n",
      " 3   Thermal Generation Actual (in MU)     4945 non-null   float64\n",
      " 4   Thermal Generation Estimated (in MU)  4945 non-null   float64\n",
      " 5   Nuclear Generation Actual (in MU)     4945 non-null   float64\n",
      " 6   Nuclear Generation Estimated (in MU)  4945 non-null   float64\n",
      " 7   Hydro Generation Actual (in MU)       4945 non-null   float64\n",
      " 8   Hydro Generation Estimated (in MU)    4945 non-null   float64\n",
      " 9   Total Actual Production               4945 non-null   float64\n",
      "dtypes: float64(7), int64(1), object(2)\n",
      "memory usage: 386.5+ KB\n"
     ]
    }
   ],
   "source": [
    "df.info()"
   ]
  },
  {
   "cell_type": "code",
   "execution_count": 13,
   "id": "1830f8b6",
   "metadata": {},
   "outputs": [
    {
     "data": {
      "text/html": [
       "<div>\n",
       "<style scoped>\n",
       "    .dataframe tbody tr th:only-of-type {\n",
       "        vertical-align: middle;\n",
       "    }\n",
       "\n",
       "    .dataframe tbody tr th {\n",
       "        vertical-align: top;\n",
       "    }\n",
       "\n",
       "    .dataframe thead th {\n",
       "        text-align: right;\n",
       "    }\n",
       "</style>\n",
       "<table border=\"1\" class=\"dataframe\">\n",
       "  <thead>\n",
       "    <tr style=\"text-align: right;\">\n",
       "      <th></th>\n",
       "      <th>index</th>\n",
       "      <th>Region</th>\n",
       "      <th>Thermal Generation Actual (in MU)</th>\n",
       "      <th>Thermal Generation Estimated (in MU)</th>\n",
       "      <th>Nuclear Generation Actual (in MU)</th>\n",
       "      <th>Nuclear Generation Estimated (in MU)</th>\n",
       "      <th>Hydro Generation Actual (in MU)</th>\n",
       "      <th>Hydro Generation Estimated (in MU)</th>\n",
       "      <th>Total Actual Production</th>\n",
       "    </tr>\n",
       "  </thead>\n",
       "  <tbody>\n",
       "    <tr>\n",
       "      <th>0</th>\n",
       "      <td>0</td>\n",
       "      <td>Northern</td>\n",
       "      <td>624.23</td>\n",
       "      <td>484.21</td>\n",
       "      <td>30.360000</td>\n",
       "      <td>35.570000</td>\n",
       "      <td>273.27</td>\n",
       "      <td>320.81</td>\n",
       "      <td>927.86</td>\n",
       "    </tr>\n",
       "    <tr>\n",
       "      <th>1</th>\n",
       "      <td>1</td>\n",
       "      <td>Western</td>\n",
       "      <td>1106.89</td>\n",
       "      <td>1024.33</td>\n",
       "      <td>25.170000</td>\n",
       "      <td>3.810000</td>\n",
       "      <td>72.00</td>\n",
       "      <td>21.53</td>\n",
       "      <td>1204.06</td>\n",
       "    </tr>\n",
       "    <tr>\n",
       "      <th>2</th>\n",
       "      <td>2</td>\n",
       "      <td>Southern</td>\n",
       "      <td>576.66</td>\n",
       "      <td>578.55</td>\n",
       "      <td>62.730000</td>\n",
       "      <td>49.800000</td>\n",
       "      <td>111.57</td>\n",
       "      <td>64.78</td>\n",
       "      <td>750.96</td>\n",
       "    </tr>\n",
       "    <tr>\n",
       "      <th>3</th>\n",
       "      <td>3</td>\n",
       "      <td>Eastern</td>\n",
       "      <td>441.02</td>\n",
       "      <td>429.39</td>\n",
       "      <td>37.242208</td>\n",
       "      <td>36.987877</td>\n",
       "      <td>85.94</td>\n",
       "      <td>69.36</td>\n",
       "      <td>526.96</td>\n",
       "    </tr>\n",
       "    <tr>\n",
       "      <th>4</th>\n",
       "      <td>4</td>\n",
       "      <td>NorthEastern</td>\n",
       "      <td>29.11</td>\n",
       "      <td>15.91</td>\n",
       "      <td>37.242208</td>\n",
       "      <td>36.987877</td>\n",
       "      <td>24.64</td>\n",
       "      <td>21.21</td>\n",
       "      <td>53.75</td>\n",
       "    </tr>\n",
       "  </tbody>\n",
       "</table>\n",
       "</div>"
      ],
      "text/plain": [
       "   index        Region  Thermal Generation Actual (in MU)  \\\n",
       "0      0      Northern                             624.23   \n",
       "1      1       Western                            1106.89   \n",
       "2      2      Southern                             576.66   \n",
       "3      3       Eastern                             441.02   \n",
       "4      4  NorthEastern                              29.11   \n",
       "\n",
       "   Thermal Generation Estimated (in MU)  Nuclear Generation Actual (in MU)  \\\n",
       "0                                484.21                          30.360000   \n",
       "1                               1024.33                          25.170000   \n",
       "2                                578.55                          62.730000   \n",
       "3                                429.39                          37.242208   \n",
       "4                                 15.91                          37.242208   \n",
       "\n",
       "   Nuclear Generation Estimated (in MU)  Hydro Generation Actual (in MU)  \\\n",
       "0                             35.570000                           273.27   \n",
       "1                              3.810000                            72.00   \n",
       "2                             49.800000                           111.57   \n",
       "3                             36.987877                            85.94   \n",
       "4                             36.987877                            24.64   \n",
       "\n",
       "   Hydro Generation Estimated (in MU)  Total Actual Production  \n",
       "0                              320.81                   927.86  \n",
       "1                               21.53                  1204.06  \n",
       "2                               64.78                   750.96  \n",
       "3                               69.36                   526.96  \n",
       "4                               21.21                    53.75  "
      ]
     },
     "execution_count": 13,
     "metadata": {},
     "output_type": "execute_result"
    }
   ],
   "source": [
    "df.drop(\"Date\", inplace=True, axis=1)\n",
    "df.head()"
   ]
  },
  {
   "cell_type": "code",
   "execution_count": 14,
   "id": "c779e244",
   "metadata": {},
   "outputs": [
    {
     "data": {
      "text/html": [
       "<div>\n",
       "<style scoped>\n",
       "    .dataframe tbody tr th:only-of-type {\n",
       "        vertical-align: middle;\n",
       "    }\n",
       "\n",
       "    .dataframe tbody tr th {\n",
       "        vertical-align: top;\n",
       "    }\n",
       "\n",
       "    .dataframe thead th {\n",
       "        text-align: right;\n",
       "    }\n",
       "</style>\n",
       "<table border=\"1\" class=\"dataframe\">\n",
       "  <thead>\n",
       "    <tr style=\"text-align: right;\">\n",
       "      <th></th>\n",
       "      <th>Region</th>\n",
       "      <th>Thermal Generation Actual (in MU)</th>\n",
       "      <th>Thermal Generation Estimated (in MU)</th>\n",
       "      <th>Nuclear Generation Actual (in MU)</th>\n",
       "      <th>Nuclear Generation Estimated (in MU)</th>\n",
       "      <th>Hydro Generation Actual (in MU)</th>\n",
       "      <th>Hydro Generation Estimated (in MU)</th>\n",
       "      <th>Total Actual Production</th>\n",
       "    </tr>\n",
       "  </thead>\n",
       "  <tbody>\n",
       "    <tr>\n",
       "      <th>0</th>\n",
       "      <td>Northern</td>\n",
       "      <td>624.23</td>\n",
       "      <td>484.21</td>\n",
       "      <td>30.360000</td>\n",
       "      <td>35.570000</td>\n",
       "      <td>273.27</td>\n",
       "      <td>320.81</td>\n",
       "      <td>927.86</td>\n",
       "    </tr>\n",
       "    <tr>\n",
       "      <th>1</th>\n",
       "      <td>Western</td>\n",
       "      <td>1106.89</td>\n",
       "      <td>1024.33</td>\n",
       "      <td>25.170000</td>\n",
       "      <td>3.810000</td>\n",
       "      <td>72.00</td>\n",
       "      <td>21.53</td>\n",
       "      <td>1204.06</td>\n",
       "    </tr>\n",
       "    <tr>\n",
       "      <th>2</th>\n",
       "      <td>Southern</td>\n",
       "      <td>576.66</td>\n",
       "      <td>578.55</td>\n",
       "      <td>62.730000</td>\n",
       "      <td>49.800000</td>\n",
       "      <td>111.57</td>\n",
       "      <td>64.78</td>\n",
       "      <td>750.96</td>\n",
       "    </tr>\n",
       "    <tr>\n",
       "      <th>3</th>\n",
       "      <td>Eastern</td>\n",
       "      <td>441.02</td>\n",
       "      <td>429.39</td>\n",
       "      <td>37.242208</td>\n",
       "      <td>36.987877</td>\n",
       "      <td>85.94</td>\n",
       "      <td>69.36</td>\n",
       "      <td>526.96</td>\n",
       "    </tr>\n",
       "    <tr>\n",
       "      <th>4</th>\n",
       "      <td>NorthEastern</td>\n",
       "      <td>29.11</td>\n",
       "      <td>15.91</td>\n",
       "      <td>37.242208</td>\n",
       "      <td>36.987877</td>\n",
       "      <td>24.64</td>\n",
       "      <td>21.21</td>\n",
       "      <td>53.75</td>\n",
       "    </tr>\n",
       "  </tbody>\n",
       "</table>\n",
       "</div>"
      ],
      "text/plain": [
       "         Region  Thermal Generation Actual (in MU)  \\\n",
       "0      Northern                             624.23   \n",
       "1       Western                            1106.89   \n",
       "2      Southern                             576.66   \n",
       "3       Eastern                             441.02   \n",
       "4  NorthEastern                              29.11   \n",
       "\n",
       "   Thermal Generation Estimated (in MU)  Nuclear Generation Actual (in MU)  \\\n",
       "0                                484.21                          30.360000   \n",
       "1                               1024.33                          25.170000   \n",
       "2                                578.55                          62.730000   \n",
       "3                                429.39                          37.242208   \n",
       "4                                 15.91                          37.242208   \n",
       "\n",
       "   Nuclear Generation Estimated (in MU)  Hydro Generation Actual (in MU)  \\\n",
       "0                             35.570000                           273.27   \n",
       "1                              3.810000                            72.00   \n",
       "2                             49.800000                           111.57   \n",
       "3                             36.987877                            85.94   \n",
       "4                             36.987877                            24.64   \n",
       "\n",
       "   Hydro Generation Estimated (in MU)  Total Actual Production  \n",
       "0                              320.81                   927.86  \n",
       "1                               21.53                  1204.06  \n",
       "2                               64.78                   750.96  \n",
       "3                               69.36                   526.96  \n",
       "4                               21.21                    53.75  "
      ]
     },
     "execution_count": 14,
     "metadata": {},
     "output_type": "execute_result"
    }
   ],
   "source": [
    "df.drop(\"index\", inplace=True, axis=1)\n",
    "df.head()"
   ]
  },
  {
   "cell_type": "code",
   "execution_count": 15,
   "id": "5f9d62b5",
   "metadata": {},
   "outputs": [
    {
     "data": {
      "text/plain": [
       "Northern        989\n",
       "Western         989\n",
       "Southern        989\n",
       "Eastern         989\n",
       "NorthEastern    989\n",
       "Name: Region, dtype: int64"
      ]
     },
     "execution_count": 15,
     "metadata": {},
     "output_type": "execute_result"
    }
   ],
   "source": [
    "df[\"Region\"].value_counts()"
   ]
  },
  {
   "cell_type": "code",
   "execution_count": 16,
   "id": "a9f8ed66",
   "metadata": {},
   "outputs": [
    {
     "data": {
      "text/plain": [
       "array(['Eastern', 'NorthEastern', 'Northern', 'Southern', 'Western'],\n",
       "      dtype=object)"
      ]
     },
     "execution_count": 16,
     "metadata": {},
     "output_type": "execute_result"
    }
   ],
   "source": [
    "le = LabelEncoder()\n",
    "df[\"Region\"] = le.fit_transform(df[\"Region\"])\n",
    "le.classes_"
   ]
  },
  {
   "cell_type": "code",
   "execution_count": 17,
   "id": "0bca7657",
   "metadata": {},
   "outputs": [
    {
     "data": {
      "text/html": [
       "<div>\n",
       "<style scoped>\n",
       "    .dataframe tbody tr th:only-of-type {\n",
       "        vertical-align: middle;\n",
       "    }\n",
       "\n",
       "    .dataframe tbody tr th {\n",
       "        vertical-align: top;\n",
       "    }\n",
       "\n",
       "    .dataframe thead th {\n",
       "        text-align: right;\n",
       "    }\n",
       "</style>\n",
       "<table border=\"1\" class=\"dataframe\">\n",
       "  <thead>\n",
       "    <tr style=\"text-align: right;\">\n",
       "      <th></th>\n",
       "      <th>Region</th>\n",
       "      <th>Thermal Generation Actual (in MU)</th>\n",
       "      <th>Thermal Generation Estimated (in MU)</th>\n",
       "      <th>Nuclear Generation Actual (in MU)</th>\n",
       "      <th>Nuclear Generation Estimated (in MU)</th>\n",
       "      <th>Hydro Generation Actual (in MU)</th>\n",
       "      <th>Hydro Generation Estimated (in MU)</th>\n",
       "      <th>Total Actual Production</th>\n",
       "    </tr>\n",
       "  </thead>\n",
       "  <tbody>\n",
       "    <tr>\n",
       "      <th>0</th>\n",
       "      <td>2</td>\n",
       "      <td>624.23</td>\n",
       "      <td>484.21</td>\n",
       "      <td>30.360000</td>\n",
       "      <td>35.570000</td>\n",
       "      <td>273.27</td>\n",
       "      <td>320.81</td>\n",
       "      <td>927.86</td>\n",
       "    </tr>\n",
       "    <tr>\n",
       "      <th>1</th>\n",
       "      <td>4</td>\n",
       "      <td>1106.89</td>\n",
       "      <td>1024.33</td>\n",
       "      <td>25.170000</td>\n",
       "      <td>3.810000</td>\n",
       "      <td>72.00</td>\n",
       "      <td>21.53</td>\n",
       "      <td>1204.06</td>\n",
       "    </tr>\n",
       "    <tr>\n",
       "      <th>2</th>\n",
       "      <td>3</td>\n",
       "      <td>576.66</td>\n",
       "      <td>578.55</td>\n",
       "      <td>62.730000</td>\n",
       "      <td>49.800000</td>\n",
       "      <td>111.57</td>\n",
       "      <td>64.78</td>\n",
       "      <td>750.96</td>\n",
       "    </tr>\n",
       "    <tr>\n",
       "      <th>3</th>\n",
       "      <td>0</td>\n",
       "      <td>441.02</td>\n",
       "      <td>429.39</td>\n",
       "      <td>37.242208</td>\n",
       "      <td>36.987877</td>\n",
       "      <td>85.94</td>\n",
       "      <td>69.36</td>\n",
       "      <td>526.96</td>\n",
       "    </tr>\n",
       "    <tr>\n",
       "      <th>4</th>\n",
       "      <td>1</td>\n",
       "      <td>29.11</td>\n",
       "      <td>15.91</td>\n",
       "      <td>37.242208</td>\n",
       "      <td>36.987877</td>\n",
       "      <td>24.64</td>\n",
       "      <td>21.21</td>\n",
       "      <td>53.75</td>\n",
       "    </tr>\n",
       "  </tbody>\n",
       "</table>\n",
       "</div>"
      ],
      "text/plain": [
       "   Region  Thermal Generation Actual (in MU)  \\\n",
       "0       2                             624.23   \n",
       "1       4                            1106.89   \n",
       "2       3                             576.66   \n",
       "3       0                             441.02   \n",
       "4       1                              29.11   \n",
       "\n",
       "   Thermal Generation Estimated (in MU)  Nuclear Generation Actual (in MU)  \\\n",
       "0                                484.21                          30.360000   \n",
       "1                               1024.33                          25.170000   \n",
       "2                                578.55                          62.730000   \n",
       "3                                429.39                          37.242208   \n",
       "4                                 15.91                          37.242208   \n",
       "\n",
       "   Nuclear Generation Estimated (in MU)  Hydro Generation Actual (in MU)  \\\n",
       "0                             35.570000                           273.27   \n",
       "1                              3.810000                            72.00   \n",
       "2                             49.800000                           111.57   \n",
       "3                             36.987877                            85.94   \n",
       "4                             36.987877                            24.64   \n",
       "\n",
       "   Hydro Generation Estimated (in MU)  Total Actual Production  \n",
       "0                              320.81                   927.86  \n",
       "1                               21.53                  1204.06  \n",
       "2                               64.78                   750.96  \n",
       "3                               69.36                   526.96  \n",
       "4                               21.21                    53.75  "
      ]
     },
     "execution_count": 17,
     "metadata": {},
     "output_type": "execute_result"
    }
   ],
   "source": [
    "df.head()"
   ]
  },
  {
   "cell_type": "code",
   "execution_count": 18,
   "id": "8f94e1ae",
   "metadata": {},
   "outputs": [
    {
     "data": {
      "text/plain": [
       "(3956, 3956)"
      ]
     },
     "execution_count": 18,
     "metadata": {},
     "output_type": "execute_result"
    }
   ],
   "source": [
    "X = df.drop(\"Total Actual Production\", axis=1)\n",
    "y = df[\"Total Actual Production\"]\n",
    "\n",
    "X_train, X_test, y_train, y_test = train_test_split(X, y, test_size=0.2)\n",
    "len(X_train), len(y_train)"
   ]
  },
  {
   "cell_type": "markdown",
   "id": "3d4afca5",
   "metadata": {},
   "source": [
    "## Training model"
   ]
  },
  {
   "cell_type": "code",
   "execution_count": 20,
   "id": "4c42745d",
   "metadata": {},
   "outputs": [
    {
     "data": {
      "text/plain": [
       "0.9999831158221425"
      ]
     },
     "execution_count": 20,
     "metadata": {},
     "output_type": "execute_result"
    }
   ],
   "source": [
    "from xgboost import XGBRegressor\n",
    "\n",
    "rreg = RandomForestRegressor()\n",
    "rreg.fit(X_train, y_train)\n",
    "rreg.score(X_test, y_test)"
   ]
  },
  {
   "cell_type": "code",
   "execution_count": 40,
   "id": "54101d61",
   "metadata": {},
   "outputs": [
    {
     "data": {
      "text/plain": [
       "0.9999777670766526"
      ]
     },
     "execution_count": 40,
     "metadata": {},
     "output_type": "execute_result"
    }
   ],
   "source": [
    "xgbreg = XGBRegressor()\n",
    "xgbreg.fit(X_train.values, y_train.values)\n",
    "xgbreg.score(X_test.values, y_test.values)"
   ]
  },
  {
   "cell_type": "markdown",
   "id": "481c7553",
   "metadata": {},
   "source": [
    "## Prediction"
   ]
  },
  {
   "cell_type": "code",
   "execution_count": 43,
   "id": "f28cb3a3",
   "metadata": {},
   "outputs": [
    {
     "data": {
      "text/plain": [
       "array([733.7414], dtype=float32)"
      ]
     },
     "execution_count": 43,
     "metadata": {},
     "output_type": "execute_result"
    }
   ],
   "source": [
    "xgbreg.predict([X_test.iloc[1, :].values])"
   ]
  },
  {
   "cell_type": "code",
   "execution_count": null,
   "id": "19d4bcb4",
   "metadata": {},
   "outputs": [],
   "source": []
  }
 ],
 "metadata": {
  "kernelspec": {
   "display_name": "Python 3 (ipykernel)",
   "language": "python",
   "name": "python3"
  },
  "language_info": {
   "codemirror_mode": {
    "name": "ipython",
    "version": 3
   },
   "file_extension": ".py",
   "mimetype": "text/x-python",
   "name": "python",
   "nbconvert_exporter": "python",
   "pygments_lexer": "ipython3",
   "version": "3.10.4"
  }
 },
 "nbformat": 4,
 "nbformat_minor": 5
}
