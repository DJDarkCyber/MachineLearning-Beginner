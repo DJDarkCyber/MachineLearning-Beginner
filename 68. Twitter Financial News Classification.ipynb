{
  "nbformat": 4,
  "nbformat_minor": 0,
  "metadata": {
    "colab": {
      "provenance": []
    },
    "kernelspec": {
      "name": "python3",
      "display_name": "Python 3"
    },
    "language_info": {
      "name": "python"
    }
  },
  "cells": [
    {
      "cell_type": "code",
      "execution_count": 1,
      "metadata": {
        "id": "5lkbprdn7HQl",
        "colab": {
          "base_uri": "https://localhost:8080/"
        },
        "outputId": "c335df9d-99d3-4736-8e1e-bfc6016bb361"
      },
      "outputs": [
        {
          "output_type": "stream",
          "name": "stdout",
          "text": [
            "Downloading twitter-financial-news.zip to /content\n",
            "\n",
            "Archive:  twitter-financial-news.zip\n",
            "  inflating: train_data.csv          \n",
            "  inflating: valid_data.csv          \n"
          ]
        },
        {
          "output_type": "stream",
          "name": "stderr",
          "text": [
            "\r  0%|          | 0.00/1.08M [00:00<?, ?B/s]\r 93%|█████████▎| 1.00M/1.08M [00:00<00:00, 1.39MB/s]\r100%|██████████| 1.08M/1.08M [00:00<00:00, 1.48MB/s]\n"
          ]
        }
      ],
      "source": [
        "%%bash\n",
        "\n",
        "pip install -q kaggle\n",
        "mkdir -p ~/.kaggle\n",
        "cp drive/MyDrive/kaggle.json ~/.kaggle/\n",
        "chmod 600 /root/.kaggle/kaggle.json\n",
        "kaggle datasets download -d sulphatet/twitter-financial-news\n",
        "unzip twitter-financial-news.zip"
      ]
    },
    {
      "cell_type": "markdown",
      "source": [
        "# Twitter Financial News\n",
        "\n",
        "\n"
      ],
      "metadata": {
        "id": "RIM8wqZH8Avz"
      }
    },
    {
      "cell_type": "markdown",
      "source": [
        "## Importing required modules"
      ],
      "metadata": {
        "id": "pT3_lihx9kSC"
      }
    },
    {
      "cell_type": "code",
      "source": [
        "import pandas as pd\n",
        "import numpy as np\n",
        "from sklearn.naive_bayes import BernoulliNB\n",
        "from sklearn.feature_extraction.text import CountVectorizer"
      ],
      "metadata": {
        "id": "6G1OBLKx9nbj"
      },
      "execution_count": 2,
      "outputs": []
    },
    {
      "cell_type": "markdown",
      "source": [
        "## Getting the dataset"
      ],
      "metadata": {
        "id": "YvjB4FG99zC-"
      }
    },
    {
      "cell_type": "code",
      "source": [
        "df = pd.read_csv(\"train_data.csv\")\n",
        "df.head()"
      ],
      "metadata": {
        "colab": {
          "base_uri": "https://localhost:8080/",
          "height": 206
        },
        "id": "bsan1_Fm9122",
        "outputId": "fe10c513-1dbc-44f3-f638-b76df36841a5"
      },
      "execution_count": 3,
      "outputs": [
        {
          "output_type": "execute_result",
          "data": {
            "text/plain": [
              "                                                text  label\n",
              "0  Here are Thursday's biggest analyst calls: App...      0\n",
              "1  Buy Las Vegas Sands as travel to Singapore bui...      0\n",
              "2  Piper Sandler downgrades DocuSign to sell, cit...      0\n",
              "3  Analysts react to Tesla's latest earnings, bre...      0\n",
              "4  Netflix and its peers are set for a ‘return to...      0"
            ],
            "text/html": [
              "\n",
              "  <div id=\"df-642b2395-cd5e-4d23-9917-02b2efa2dc70\">\n",
              "    <div class=\"colab-df-container\">\n",
              "      <div>\n",
              "<style scoped>\n",
              "    .dataframe tbody tr th:only-of-type {\n",
              "        vertical-align: middle;\n",
              "    }\n",
              "\n",
              "    .dataframe tbody tr th {\n",
              "        vertical-align: top;\n",
              "    }\n",
              "\n",
              "    .dataframe thead th {\n",
              "        text-align: right;\n",
              "    }\n",
              "</style>\n",
              "<table border=\"1\" class=\"dataframe\">\n",
              "  <thead>\n",
              "    <tr style=\"text-align: right;\">\n",
              "      <th></th>\n",
              "      <th>text</th>\n",
              "      <th>label</th>\n",
              "    </tr>\n",
              "  </thead>\n",
              "  <tbody>\n",
              "    <tr>\n",
              "      <th>0</th>\n",
              "      <td>Here are Thursday's biggest analyst calls: App...</td>\n",
              "      <td>0</td>\n",
              "    </tr>\n",
              "    <tr>\n",
              "      <th>1</th>\n",
              "      <td>Buy Las Vegas Sands as travel to Singapore bui...</td>\n",
              "      <td>0</td>\n",
              "    </tr>\n",
              "    <tr>\n",
              "      <th>2</th>\n",
              "      <td>Piper Sandler downgrades DocuSign to sell, cit...</td>\n",
              "      <td>0</td>\n",
              "    </tr>\n",
              "    <tr>\n",
              "      <th>3</th>\n",
              "      <td>Analysts react to Tesla's latest earnings, bre...</td>\n",
              "      <td>0</td>\n",
              "    </tr>\n",
              "    <tr>\n",
              "      <th>4</th>\n",
              "      <td>Netflix and its peers are set for a ‘return to...</td>\n",
              "      <td>0</td>\n",
              "    </tr>\n",
              "  </tbody>\n",
              "</table>\n",
              "</div>\n",
              "      <button class=\"colab-df-convert\" onclick=\"convertToInteractive('df-642b2395-cd5e-4d23-9917-02b2efa2dc70')\"\n",
              "              title=\"Convert this dataframe to an interactive table.\"\n",
              "              style=\"display:none;\">\n",
              "        \n",
              "  <svg xmlns=\"http://www.w3.org/2000/svg\" height=\"24px\"viewBox=\"0 0 24 24\"\n",
              "       width=\"24px\">\n",
              "    <path d=\"M0 0h24v24H0V0z\" fill=\"none\"/>\n",
              "    <path d=\"M18.56 5.44l.94 2.06.94-2.06 2.06-.94-2.06-.94-.94-2.06-.94 2.06-2.06.94zm-11 1L8.5 8.5l.94-2.06 2.06-.94-2.06-.94L8.5 2.5l-.94 2.06-2.06.94zm10 10l.94 2.06.94-2.06 2.06-.94-2.06-.94-.94-2.06-.94 2.06-2.06.94z\"/><path d=\"M17.41 7.96l-1.37-1.37c-.4-.4-.92-.59-1.43-.59-.52 0-1.04.2-1.43.59L10.3 9.45l-7.72 7.72c-.78.78-.78 2.05 0 2.83L4 21.41c.39.39.9.59 1.41.59.51 0 1.02-.2 1.41-.59l7.78-7.78 2.81-2.81c.8-.78.8-2.07 0-2.86zM5.41 20L4 18.59l7.72-7.72 1.47 1.35L5.41 20z\"/>\n",
              "  </svg>\n",
              "      </button>\n",
              "      \n",
              "  <style>\n",
              "    .colab-df-container {\n",
              "      display:flex;\n",
              "      flex-wrap:wrap;\n",
              "      gap: 12px;\n",
              "    }\n",
              "\n",
              "    .colab-df-convert {\n",
              "      background-color: #E8F0FE;\n",
              "      border: none;\n",
              "      border-radius: 50%;\n",
              "      cursor: pointer;\n",
              "      display: none;\n",
              "      fill: #1967D2;\n",
              "      height: 32px;\n",
              "      padding: 0 0 0 0;\n",
              "      width: 32px;\n",
              "    }\n",
              "\n",
              "    .colab-df-convert:hover {\n",
              "      background-color: #E2EBFA;\n",
              "      box-shadow: 0px 1px 2px rgba(60, 64, 67, 0.3), 0px 1px 3px 1px rgba(60, 64, 67, 0.15);\n",
              "      fill: #174EA6;\n",
              "    }\n",
              "\n",
              "    [theme=dark] .colab-df-convert {\n",
              "      background-color: #3B4455;\n",
              "      fill: #D2E3FC;\n",
              "    }\n",
              "\n",
              "    [theme=dark] .colab-df-convert:hover {\n",
              "      background-color: #434B5C;\n",
              "      box-shadow: 0px 1px 3px 1px rgba(0, 0, 0, 0.15);\n",
              "      filter: drop-shadow(0px 1px 2px rgba(0, 0, 0, 0.3));\n",
              "      fill: #FFFFFF;\n",
              "    }\n",
              "  </style>\n",
              "\n",
              "      <script>\n",
              "        const buttonEl =\n",
              "          document.querySelector('#df-642b2395-cd5e-4d23-9917-02b2efa2dc70 button.colab-df-convert');\n",
              "        buttonEl.style.display =\n",
              "          google.colab.kernel.accessAllowed ? 'block' : 'none';\n",
              "\n",
              "        async function convertToInteractive(key) {\n",
              "          const element = document.querySelector('#df-642b2395-cd5e-4d23-9917-02b2efa2dc70');\n",
              "          const dataTable =\n",
              "            await google.colab.kernel.invokeFunction('convertToInteractive',\n",
              "                                                     [key], {});\n",
              "          if (!dataTable) return;\n",
              "\n",
              "          const docLinkHtml = 'Like what you see? Visit the ' +\n",
              "            '<a target=\"_blank\" href=https://colab.research.google.com/notebooks/data_table.ipynb>data table notebook</a>'\n",
              "            + ' to learn more about interactive tables.';\n",
              "          element.innerHTML = '';\n",
              "          dataTable['output_type'] = 'display_data';\n",
              "          await google.colab.output.renderOutput(dataTable, element);\n",
              "          const docLink = document.createElement('div');\n",
              "          docLink.innerHTML = docLinkHtml;\n",
              "          element.appendChild(docLink);\n",
              "        }\n",
              "      </script>\n",
              "    </div>\n",
              "  </div>\n",
              "  "
            ]
          },
          "metadata": {},
          "execution_count": 3
        }
      ]
    },
    {
      "cell_type": "markdown",
      "source": [
        "## Cleaning dataset"
      ],
      "metadata": {
        "id": "L4t-qo2o-BCP"
      }
    },
    {
      "cell_type": "code",
      "source": [
        "df.isna().sum()"
      ],
      "metadata": {
        "colab": {
          "base_uri": "https://localhost:8080/"
        },
        "id": "erpL6MJ4-M2B",
        "outputId": "0286e720-4c77-4720-ff62-7c6cc8c305a8"
      },
      "execution_count": 4,
      "outputs": [
        {
          "output_type": "execute_result",
          "data": {
            "text/plain": [
              "text     0\n",
              "label    0\n",
              "dtype: int64"
            ]
          },
          "metadata": {},
          "execution_count": 4
        }
      ]
    },
    {
      "cell_type": "markdown",
      "source": [
        "## Pre-Processing Dataset"
      ],
      "metadata": {
        "id": "gRSp5GPE-d5v"
      }
    },
    {
      "cell_type": "markdown",
      "source": [
        "    \"LABEL_0\": \"Analyst Update\",\n",
        "\n",
        "    \"LABEL_1\": \"Fed | Central Banks\",\n",
        "\n",
        "    \"LABEL_2\": \"Company | Product News\",\n",
        "\n",
        "    \"LABEL_3\": \"Treasuries | Corporate Debt\",\n",
        "\n",
        "    \"LABEL_4\": \"Dividend\",\n",
        "\n",
        "    \"LABEL_5\": \"Earnings\",\n",
        "\n",
        "    \"LABEL_6\": \"Energy | Oil\",\n",
        "\n",
        "    \"LABEL_7\": \"Financials\",\n",
        "\n",
        "    \"LABEL_8\": \"Currencies\",\n",
        "\n",
        "    \"LABEL_9\": \"General News | Opinion\",\n",
        "\n",
        "    \"LABEL_10\": \"Gold | Metals | Materials\",\n",
        "\n",
        "    \"LABEL_11\": \"IPO\",\n",
        "\n",
        "    \"LABEL_12\": \"Legal | Regulation\",\n",
        "\n",
        "    \"LABEL_13\": \"M&A | Investments\",\n",
        "\n",
        "    \"LABEL_14\": \"Macro\",\n",
        "\n",
        "    \"LABEL_15\": \"Markets\",\n",
        "\n",
        "    \"LABEL_16\": \"Politics\",\n",
        "\n",
        "    \"LABEL_17\": \"Personnel Change\",\n",
        "\n",
        "    \"LABEL_18\": \"Stock Commentary\",\n",
        "\n",
        "    \"LABEL_19\": \"Stock Movement\""
      ],
      "metadata": {
        "id": "XwxeTXuif5BB"
      }
    },
    {
      "cell_type": "code",
      "source": [
        "vectzer = CountVectorizer(stop_words=\"english\")\n",
        "twitter_tweat_vect = vectzer.fit_transform(df[\"text\"].values)"
      ],
      "metadata": {
        "id": "Bbbn4wytft5C"
      },
      "execution_count": 5,
      "outputs": []
    },
    {
      "cell_type": "code",
      "source": [
        "from sklearn.model_selection import train_test_split\n",
        "\n",
        "X = twitter_tweat_vect\n",
        "y = df[\"label\"]"
      ],
      "metadata": {
        "id": "oFYBXYxb-guj"
      },
      "execution_count": 11,
      "outputs": []
    },
    {
      "cell_type": "code",
      "source": [
        "X_train, X_test, y_train, y_test = train_test_split(X, y, test_size=0.2)"
      ],
      "metadata": {
        "id": "FuJhQqLp_F0K"
      },
      "execution_count": 12,
      "outputs": []
    },
    {
      "cell_type": "markdown",
      "source": [
        "## Training Model"
      ],
      "metadata": {
        "id": "qEUCZkQZ-4Qz"
      }
    },
    {
      "cell_type": "code",
      "source": [
        "berModel = BernoulliNB(alpha=0.1)\n",
        "\n",
        "berModel.fit(X_train, y_train)\n",
        "berModel.score(X_test, y_test)"
      ],
      "metadata": {
        "colab": {
          "base_uri": "https://localhost:8080/"
        },
        "id": "IaLR5vzd-9_H",
        "outputId": "9bfd85f0-ec80-47b4-89d6-8a73bb5ea31f"
      },
      "execution_count": 13,
      "outputs": [
        {
          "output_type": "execute_result",
          "data": {
            "text/plain": [
              "0.7619187757504414"
            ]
          },
          "metadata": {},
          "execution_count": 13
        }
      ]
    },
    {
      "cell_type": "markdown",
      "source": [
        "## Making Prediction"
      ],
      "metadata": {
        "id": "o5-cyOTA_tNR"
      }
    },
    {
      "cell_type": "code",
      "source": [
        "text_vect = vectzer.transform([\"Stock Price For X company was decreased. Time to buy stocks now!\"])\n",
        "berModel.predict(text_vect)"
      ],
      "metadata": {
        "colab": {
          "base_uri": "https://localhost:8080/"
        },
        "id": "y72GVNsH_uoh",
        "outputId": "8254e0b5-50cd-4db4-ada8-32bdf5a3da0b"
      },
      "execution_count": 14,
      "outputs": [
        {
          "output_type": "execute_result",
          "data": {
            "text/plain": [
              "array([18])"
            ]
          },
          "metadata": {},
          "execution_count": 14
        }
      ]
    },
    {
      "cell_type": "markdown",
      "source": [
        "\"LABEL_18\": \"Stock Commentary\""
      ],
      "metadata": {
        "id": "NBR0QSHig6TM"
      }
    },
    {
      "cell_type": "code",
      "source": [],
      "metadata": {
        "id": "3WnzM-VaAC4U"
      },
      "execution_count": null,
      "outputs": []
    }
  ]
}