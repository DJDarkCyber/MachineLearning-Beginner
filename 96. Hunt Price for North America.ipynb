{
 "cells": [
  {
   "cell_type": "markdown",
   "id": "56099ca5",
   "metadata": {},
   "source": [
    "# Hunt Price For North America"
   ]
  },
  {
   "cell_type": "markdown",
   "id": "56f00eec",
   "metadata": {},
   "source": [
    "## Importing required modules"
   ]
  },
  {
   "cell_type": "code",
   "execution_count": 4,
   "id": "72b34f7f",
   "metadata": {},
   "outputs": [],
   "source": [
    "import pandas as pd\n",
    "import numpy as np\n",
    "from sklearn.model_selection import train_test_split\n",
    "from sklearn.preprocessing import LabelEncoder\n",
    "from sklearn.ensemble import RandomForestRegressor\n",
    "from xgboost import XGBRegressor\n",
    "from statistics import mode"
   ]
  },
  {
   "cell_type": "markdown",
   "id": "99cb2667",
   "metadata": {},
   "source": [
    "## Getting dataset"
   ]
  },
  {
   "cell_type": "code",
   "execution_count": 2,
   "id": "14087c05",
   "metadata": {},
   "outputs": [
    {
     "data": {
      "text/html": [
       "<div>\n",
       "<style scoped>\n",
       "    .dataframe tbody tr th:only-of-type {\n",
       "        vertical-align: middle;\n",
       "    }\n",
       "\n",
       "    .dataframe tbody tr th {\n",
       "        vertical-align: top;\n",
       "    }\n",
       "\n",
       "    .dataframe thead th {\n",
       "        text-align: right;\n",
       "    }\n",
       "</style>\n",
       "<table border=\"1\" class=\"dataframe\">\n",
       "  <thead>\n",
       "    <tr style=\"text-align: right;\">\n",
       "      <th></th>\n",
       "      <th>Species</th>\n",
       "      <th>Province/State</th>\n",
       "      <th>Price</th>\n",
       "      <th>Number of days</th>\n",
       "      <th>Day price</th>\n",
       "      <th>S Rank</th>\n",
       "      <th>Status</th>\n",
       "      <th>Classification</th>\n",
       "      <th>Avg Mass</th>\n",
       "      <th>SCI</th>\n",
       "      <th>Latitude</th>\n",
       "    </tr>\n",
       "  </thead>\n",
       "  <tbody>\n",
       "    <tr>\n",
       "      <th>0</th>\n",
       "      <td>Mountain Lion</td>\n",
       "      <td>Alberta</td>\n",
       "      <td>15930</td>\n",
       "      <td>10.0</td>\n",
       "      <td>1593</td>\n",
       "      <td>S4</td>\n",
       "      <td>4.0</td>\n",
       "      <td>Carnivore</td>\n",
       "      <td>60.4</td>\n",
       "      <td>Y</td>\n",
       "      <td>54.5000</td>\n",
       "    </tr>\n",
       "    <tr>\n",
       "      <th>1</th>\n",
       "      <td>Mountain Lion</td>\n",
       "      <td>Alberta</td>\n",
       "      <td>9500</td>\n",
       "      <td>10.0</td>\n",
       "      <td>950</td>\n",
       "      <td>S4</td>\n",
       "      <td>4.0</td>\n",
       "      <td>Carnivore</td>\n",
       "      <td>60.4</td>\n",
       "      <td>Y</td>\n",
       "      <td>54.5000</td>\n",
       "    </tr>\n",
       "    <tr>\n",
       "      <th>2</th>\n",
       "      <td>Mountain Lion</td>\n",
       "      <td>Alberta</td>\n",
       "      <td>10000</td>\n",
       "      <td>10.0</td>\n",
       "      <td>1000</td>\n",
       "      <td>S4</td>\n",
       "      <td>4.0</td>\n",
       "      <td>Carnivore</td>\n",
       "      <td>60.4</td>\n",
       "      <td>Y</td>\n",
       "      <td>54.5000</td>\n",
       "    </tr>\n",
       "    <tr>\n",
       "      <th>3</th>\n",
       "      <td>Mountain Lion</td>\n",
       "      <td>Alberta</td>\n",
       "      <td>12500</td>\n",
       "      <td>10.0</td>\n",
       "      <td>1250</td>\n",
       "      <td>S4</td>\n",
       "      <td>4.0</td>\n",
       "      <td>Carnivore</td>\n",
       "      <td>60.4</td>\n",
       "      <td>Y</td>\n",
       "      <td>54.5000</td>\n",
       "    </tr>\n",
       "    <tr>\n",
       "      <th>4</th>\n",
       "      <td>Mountain Lion</td>\n",
       "      <td>Arizona</td>\n",
       "      <td>5000</td>\n",
       "      <td>5.0</td>\n",
       "      <td>1000</td>\n",
       "      <td>S4</td>\n",
       "      <td>4.0</td>\n",
       "      <td>Carnivore</td>\n",
       "      <td>60.4</td>\n",
       "      <td>Y</td>\n",
       "      <td>34.1661</td>\n",
       "    </tr>\n",
       "  </tbody>\n",
       "</table>\n",
       "</div>"
      ],
      "text/plain": [
       "         Species Province/State  Price  ...  Avg Mass  SCI Latitude\n",
       "0  Mountain Lion        Alberta  15930  ...      60.4    Y  54.5000\n",
       "1  Mountain Lion        Alberta   9500  ...      60.4    Y  54.5000\n",
       "2  Mountain Lion        Alberta  10000  ...      60.4    Y  54.5000\n",
       "3  Mountain Lion        Alberta  12500  ...      60.4    Y  54.5000\n",
       "4  Mountain Lion        Arizona   5000  ...      60.4    Y  34.1661\n",
       "\n",
       "[5 rows x 11 columns]"
      ]
     },
     "execution_count": 2,
     "metadata": {},
     "output_type": "execute_result"
    }
   ],
   "source": [
    "df = pd.read_csv(\"data/proj96/Mihalikdata.csv\")\n",
    "df.head()"
   ]
  },
  {
   "cell_type": "markdown",
   "id": "1b38bdb1",
   "metadata": {},
   "source": [
    "## Handling nan values"
   ]
  },
  {
   "cell_type": "code",
   "execution_count": 3,
   "id": "f8378f27",
   "metadata": {},
   "outputs": [
    {
     "data": {
      "text/plain": [
       "Species            0\n",
       "Province/State     0\n",
       "Price              0\n",
       "Number of days     0\n",
       "Day price          0\n",
       "S Rank            47\n",
       "Status            47\n",
       "Classification     0\n",
       "Avg Mass           0\n",
       "SCI                0\n",
       "Latitude           0\n",
       "dtype: int64"
      ]
     },
     "execution_count": 3,
     "metadata": {},
     "output_type": "execute_result"
    }
   ],
   "source": [
    "df.isna().sum()"
   ]
  },
  {
   "cell_type": "code",
   "execution_count": 6,
   "id": "e0dee177",
   "metadata": {},
   "outputs": [],
   "source": [
    "df[\"S Rank\"].fillna(mode(df[\"S Rank\"]), inplace=True)\n",
    "df[\"Status\"].fillna(mode(df[\"Status\"]), inplace=True)"
   ]
  },
  {
   "cell_type": "code",
   "execution_count": 7,
   "id": "1ea1876b",
   "metadata": {},
   "outputs": [
    {
     "data": {
      "text/plain": [
       "Species           0\n",
       "Province/State    0\n",
       "Price             0\n",
       "Number of days    0\n",
       "Day price         0\n",
       "S Rank            0\n",
       "Status            0\n",
       "Classification    0\n",
       "Avg Mass          0\n",
       "SCI               0\n",
       "Latitude          0\n",
       "dtype: int64"
      ]
     },
     "execution_count": 7,
     "metadata": {},
     "output_type": "execute_result"
    }
   ],
   "source": [
    "df.isna().sum()"
   ]
  },
  {
   "cell_type": "markdown",
   "id": "c6b40e32",
   "metadata": {},
   "source": [
    "## Pre-Processing data"
   ]
  },
  {
   "cell_type": "code",
   "execution_count": 8,
   "id": "23ee5e8d",
   "metadata": {},
   "outputs": [],
   "source": [
    "df.drop([\"Latitude\"], axis=1, inplace=True)"
   ]
  },
  {
   "cell_type": "code",
   "execution_count": 9,
   "id": "d491ad82",
   "metadata": {},
   "outputs": [],
   "source": [
    "labels = {}\n",
    "\n",
    "for column in df.keys():\n",
    "    if pd.api.types.is_object_dtype(df[column]):\n",
    "        le = LabelEncoder()\n",
    "        df[column] = le.fit_transform(df[column])\n",
    "        labels[column] = le.classes_\n",
    "    else:\n",
    "        pass\n",
    "    "
   ]
  },
  {
   "cell_type": "code",
   "execution_count": 10,
   "id": "2ce2e713",
   "metadata": {},
   "outputs": [
    {
     "data": {
      "text/plain": [
       "{'Species': array(['Bighorn Sheep', 'Black Bear', 'Brown Bear', 'Caribou', 'Elk',\n",
       "        'Gray Wolf', 'Moose', 'Mountain Goat', 'Mountain Lion',\n",
       "        'Mule Deer', 'Muskox', 'Polar Bear', 'Pronghorn', 'Thinhorn Sheep',\n",
       "        'White-tailed Deer'], dtype=object),\n",
       " 'Province/State': array(['Alabama', 'Alaska', 'Alberta', 'Arizona', 'British Columbia',\n",
       "        'California', 'Colorado', 'Florida', 'Georgia', 'Idaho',\n",
       "        'Illinois', 'Indiana', 'Iowa', 'Kansas', 'Kentucky', 'Maine',\n",
       "        'Manitoba', 'Minnesota', 'Mississippi', 'Missouri', 'Montana',\n",
       "        'Nebraska', 'Nevada', 'New Brunswick', 'New Hampshire',\n",
       "        'New Mexico', 'New York', 'Newfoundland', 'North Carolina',\n",
       "        'North Dakota', 'Northwest Territories', 'Nunavut', 'Oklahoma',\n",
       "        'Ontario', 'Oregon', 'Pennsylvania', 'Quebec', 'Saskatchewan',\n",
       "        'South Dakota', 'Texas', 'Utah', 'Vermont', 'Virginia',\n",
       "        'Washington', 'Wyoming', 'Yukon'], dtype=object),\n",
       " 'S Rank': array(['S1', 'S2', 'S2S3', 'S3', 'S3S4', 'S4', 'S5', 'S5 '], dtype=object),\n",
       " 'Classification': array(['Carnivore', 'Ungulate'], dtype=object),\n",
       " 'SCI': array(['N', 'Y'], dtype=object)}"
      ]
     },
     "execution_count": 10,
     "metadata": {},
     "output_type": "execute_result"
    }
   ],
   "source": [
    "labels"
   ]
  },
  {
   "cell_type": "code",
   "execution_count": 11,
   "id": "de818705",
   "metadata": {},
   "outputs": [
    {
     "data": {
      "text/html": [
       "<div>\n",
       "<style scoped>\n",
       "    .dataframe tbody tr th:only-of-type {\n",
       "        vertical-align: middle;\n",
       "    }\n",
       "\n",
       "    .dataframe tbody tr th {\n",
       "        vertical-align: top;\n",
       "    }\n",
       "\n",
       "    .dataframe thead th {\n",
       "        text-align: right;\n",
       "    }\n",
       "</style>\n",
       "<table border=\"1\" class=\"dataframe\">\n",
       "  <thead>\n",
       "    <tr style=\"text-align: right;\">\n",
       "      <th></th>\n",
       "      <th>Species</th>\n",
       "      <th>Province/State</th>\n",
       "      <th>Price</th>\n",
       "      <th>Number of days</th>\n",
       "      <th>Day price</th>\n",
       "      <th>S Rank</th>\n",
       "      <th>Status</th>\n",
       "      <th>Classification</th>\n",
       "      <th>Avg Mass</th>\n",
       "      <th>SCI</th>\n",
       "    </tr>\n",
       "  </thead>\n",
       "  <tbody>\n",
       "    <tr>\n",
       "      <th>0</th>\n",
       "      <td>8</td>\n",
       "      <td>2</td>\n",
       "      <td>15930</td>\n",
       "      <td>10.0</td>\n",
       "      <td>1593</td>\n",
       "      <td>5</td>\n",
       "      <td>4.0</td>\n",
       "      <td>0</td>\n",
       "      <td>60.4</td>\n",
       "      <td>1</td>\n",
       "    </tr>\n",
       "    <tr>\n",
       "      <th>1</th>\n",
       "      <td>8</td>\n",
       "      <td>2</td>\n",
       "      <td>9500</td>\n",
       "      <td>10.0</td>\n",
       "      <td>950</td>\n",
       "      <td>5</td>\n",
       "      <td>4.0</td>\n",
       "      <td>0</td>\n",
       "      <td>60.4</td>\n",
       "      <td>1</td>\n",
       "    </tr>\n",
       "    <tr>\n",
       "      <th>2</th>\n",
       "      <td>8</td>\n",
       "      <td>2</td>\n",
       "      <td>10000</td>\n",
       "      <td>10.0</td>\n",
       "      <td>1000</td>\n",
       "      <td>5</td>\n",
       "      <td>4.0</td>\n",
       "      <td>0</td>\n",
       "      <td>60.4</td>\n",
       "      <td>1</td>\n",
       "    </tr>\n",
       "    <tr>\n",
       "      <th>3</th>\n",
       "      <td>8</td>\n",
       "      <td>2</td>\n",
       "      <td>12500</td>\n",
       "      <td>10.0</td>\n",
       "      <td>1250</td>\n",
       "      <td>5</td>\n",
       "      <td>4.0</td>\n",
       "      <td>0</td>\n",
       "      <td>60.4</td>\n",
       "      <td>1</td>\n",
       "    </tr>\n",
       "    <tr>\n",
       "      <th>4</th>\n",
       "      <td>8</td>\n",
       "      <td>3</td>\n",
       "      <td>5000</td>\n",
       "      <td>5.0</td>\n",
       "      <td>1000</td>\n",
       "      <td>5</td>\n",
       "      <td>4.0</td>\n",
       "      <td>0</td>\n",
       "      <td>60.4</td>\n",
       "      <td>1</td>\n",
       "    </tr>\n",
       "  </tbody>\n",
       "</table>\n",
       "</div>"
      ],
      "text/plain": [
       "   Species  Province/State  Price  ...  Classification  Avg Mass  SCI\n",
       "0        8               2  15930  ...               0      60.4    1\n",
       "1        8               2   9500  ...               0      60.4    1\n",
       "2        8               2  10000  ...               0      60.4    1\n",
       "3        8               2  12500  ...               0      60.4    1\n",
       "4        8               3   5000  ...               0      60.4    1\n",
       "\n",
       "[5 rows x 10 columns]"
      ]
     },
     "execution_count": 11,
     "metadata": {},
     "output_type": "execute_result"
    }
   ],
   "source": [
    "df.head()"
   ]
  },
  {
   "cell_type": "code",
   "execution_count": 12,
   "id": "f4b7a6ec",
   "metadata": {},
   "outputs": [],
   "source": [
    "X = df.drop(\"Price\", axis=1)\n",
    "y = df[\"Price\"]\n",
    "\n",
    "X_train, X_test, y_train, y_test = train_test_split(X, y, test_size=0.2)"
   ]
  },
  {
   "cell_type": "markdown",
   "id": "e7ae1ff2",
   "metadata": {},
   "source": [
    "## Training model"
   ]
  },
  {
   "cell_type": "code",
   "execution_count": 15,
   "id": "11834e17",
   "metadata": {},
   "outputs": [
    {
     "data": {
      "text/plain": [
       "0.9543785951107655"
      ]
     },
     "execution_count": 15,
     "metadata": {},
     "output_type": "execute_result"
    }
   ],
   "source": [
    "rreg = RandomForestRegressor()\n",
    "rreg.fit(X_train.values, y_train.values)\n",
    "rreg.score(X_test.values, y_test.values)"
   ]
  },
  {
   "cell_type": "code",
   "execution_count": 16,
   "id": "c5eb73a1",
   "metadata": {},
   "outputs": [
    {
     "data": {
      "text/plain": [
       "0.986284247452582"
      ]
     },
     "execution_count": 16,
     "metadata": {},
     "output_type": "execute_result"
    }
   ],
   "source": [
    "xreg = XGBRegressor()\n",
    "xreg.fit(X_train.values, y_train.values)\n",
    "xreg.score(X_test.values, y_test.values)"
   ]
  },
  {
   "cell_type": "markdown",
   "id": "7fbdf570",
   "metadata": {},
   "source": [
    "## Prediction"
   ]
  },
  {
   "cell_type": "code",
   "execution_count": 18,
   "id": "56fe892e",
   "metadata": {},
   "outputs": [
    {
     "data": {
      "text/plain": [
       "array([9983.994], dtype=float32)"
      ]
     },
     "execution_count": 18,
     "metadata": {},
     "output_type": "execute_result"
    }
   ],
   "source": [
    "xreg.predict([[4, 8, 8, 1300, 5, 4, 1, 60, 1]])"
   ]
  },
  {
   "cell_type": "code",
   "execution_count": null,
   "id": "b71cce1d",
   "metadata": {},
   "outputs": [],
   "source": []
  }
 ],
 "metadata": {
  "kernelspec": {
   "display_name": "Python 3 (ipykernel)",
   "language": "python",
   "name": "python3"
  },
  "language_info": {
   "codemirror_mode": {
    "name": "ipython",
    "version": 3
   },
   "file_extension": ".py",
   "mimetype": "text/x-python",
   "name": "python",
   "nbconvert_exporter": "python",
   "pygments_lexer": "ipython3",
   "version": "3.10.4"
  }
 },
 "nbformat": 4,
 "nbformat_minor": 5
}
