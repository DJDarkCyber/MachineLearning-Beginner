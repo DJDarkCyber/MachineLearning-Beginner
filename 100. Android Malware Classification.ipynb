{
  "cells": [
    {
      "cell_type": "code",
      "execution_count": null,
      "metadata": {
        "id": "Wc3fKh2CiSkP",
        "colab": {
          "base_uri": "https://localhost:8080/"
        },
        "outputId": "ce95cf8f-306c-43b0-e572-9fc018a16f71"
      },
      "outputs": [
        {
          "output_type": "stream",
          "name": "stdout",
          "text": [
            "Downloading android-malware-detection.zip to /content\n",
            "\n"
          ]
        },
        {
          "output_type": "stream",
          "name": "stderr",
          "text": [
            "\r  0%|          | 0.00/45.1M [00:00<?, ?B/s]\r 11%|█         | 5.00M/45.1M [00:00<00:01, 36.0MB/s]\r 38%|███▊      | 17.0M/45.1M [00:00<00:00, 76.1MB/s]\r 60%|█████▉    | 27.0M/45.1M [00:00<00:00, 86.1MB/s]\r 80%|███████▉  | 36.0M/45.1M [00:00<00:00, 67.0MB/s]\r100%|██████████| 45.1M/45.1M [00:00<00:00, 77.5MB/s]\n"
          ]
        }
      ],
      "source": [
        "%%bash\n",
        "\n",
        "pip install -q kaggle\n",
        "mkdir -p ~/.kaggle\n",
        "cp drive/MyDrive/kaggle.json ~/.kaggle/\n",
        "chmod 600 /root/.kaggle/kaggle.json\n",
        "kaggle datasets download -d subhajournal/android-malware-detection\n",
        "unzip -qq android-malware-detection.zip"
      ]
    },
    {
      "cell_type": "markdown",
      "source": [
        "# Android Malware Classification"
      ],
      "metadata": {
        "id": "FTe8uJgNZztQ"
      }
    },
    {
      "cell_type": "code",
      "source": [
        "import pandas as pd\n",
        "from sklearn.model_selection import train_test_split\n",
        "import tensorflow as tf\n",
        "from sklearn.preprocessing import LabelEncoder, OneHotEncoder\n",
        "from sklearn.ensemble import RandomForestClassifier\n",
        "from statistics import mode"
      ],
      "metadata": {
        "id": "4TBy12DiaUxs"
      },
      "execution_count": 20,
      "outputs": []
    },
    {
      "cell_type": "code",
      "source": [
        "df = pd.read_csv(\"Android_Malware.csv\")\n",
        "df.head()"
      ],
      "metadata": {
        "id": "qUrbclSSPW3S",
        "colab": {
          "base_uri": "https://localhost:8080/",
          "height": 456
        },
        "outputId": "a7677caa-c006-4772-d67c-670250528511"
      },
      "execution_count": 8,
      "outputs": [
        {
          "output_type": "stream",
          "name": "stderr",
          "text": [
            "/usr/local/lib/python3.8/dist-packages/IPython/core/interactiveshell.py:3326: DtypeWarning: Columns (56,58,63) have mixed types.Specify dtype option on import or set low_memory=False.\n",
            "  exec(code_obj, self.user_global_ns, self.user_ns)\n"
          ]
        },
        {
          "output_type": "execute_result",
          "data": {
            "text/plain": [
              "   Unnamed: 0                                Flow ID    Source IP  \\\n",
              "0           0  172.217.6.202-10.42.0.211-443-50004-6  10.42.0.211   \n",
              "1           1  172.217.6.202-10.42.0.211-443-35455-6  10.42.0.211   \n",
              "2           2  131.253.61.68-10.42.0.211-443-51775-6  10.42.0.211   \n",
              "3           3  131.253.61.68-10.42.0.211-443-51775-6  10.42.0.211   \n",
              "4           4  131.253.61.68-10.42.0.211-443-51776-6  10.42.0.211   \n",
              "\n",
              "    Source Port  Destination IP   Destination Port   Protocol  \\\n",
              "0         50004   172.217.6.202              443.0        6.0   \n",
              "1         35455   172.217.6.202              443.0        6.0   \n",
              "2         51775   131.253.61.68              443.0        6.0   \n",
              "3         51775   131.253.61.68              443.0        6.0   \n",
              "4         51776   131.253.61.68              443.0        6.0   \n",
              "\n",
              "             Timestamp   Flow Duration   Total Fwd Packets  ...  \\\n",
              "0  13/06/2017 11:52:39           37027                   1  ...   \n",
              "1  13/06/2017 11:52:39           36653                   1  ...   \n",
              "2  13/06/2017 11:52:42          534099                   8  ...   \n",
              "3  13/06/2017 11:52:43            9309                   3  ...   \n",
              "4  13/06/2017 11:52:42        19890496                   8  ...   \n",
              "\n",
              "    min_seg_size_forward  Active Mean   Active Std   Active Max   Active Min  \\\n",
              "0                   32.0          0.0          0.0          0.0          0.0   \n",
              "1                   32.0          0.0          0.0          0.0          0.0   \n",
              "2                   20.0          0.0          0.0          0.0          0.0   \n",
              "3                   20.0          0.0          0.0          0.0          0.0   \n",
              "4                   20.0          0.0          0.0          0.0          0.0   \n",
              "\n",
              "   Idle Mean   Idle Std   Idle Max   Idle Min           Label  \n",
              "0        0.0        0.0        0.0        0.0  Android_Adware  \n",
              "1        0.0        0.0        0.0        0.0  Android_Adware  \n",
              "2        0.0        0.0        0.0        0.0  Android_Adware  \n",
              "3        0.0        0.0        0.0        0.0  Android_Adware  \n",
              "4        0.0        0.0        0.0        0.0  Android_Adware  \n",
              "\n",
              "[5 rows x 86 columns]"
            ],
            "text/html": [
              "\n",
              "  <div id=\"df-9eae63b4-a4cb-4081-b4d5-8180b9595cae\">\n",
              "    <div class=\"colab-df-container\">\n",
              "      <div>\n",
              "<style scoped>\n",
              "    .dataframe tbody tr th:only-of-type {\n",
              "        vertical-align: middle;\n",
              "    }\n",
              "\n",
              "    .dataframe tbody tr th {\n",
              "        vertical-align: top;\n",
              "    }\n",
              "\n",
              "    .dataframe thead th {\n",
              "        text-align: right;\n",
              "    }\n",
              "</style>\n",
              "<table border=\"1\" class=\"dataframe\">\n",
              "  <thead>\n",
              "    <tr style=\"text-align: right;\">\n",
              "      <th></th>\n",
              "      <th>Unnamed: 0</th>\n",
              "      <th>Flow ID</th>\n",
              "      <th>Source IP</th>\n",
              "      <th>Source Port</th>\n",
              "      <th>Destination IP</th>\n",
              "      <th>Destination Port</th>\n",
              "      <th>Protocol</th>\n",
              "      <th>Timestamp</th>\n",
              "      <th>Flow Duration</th>\n",
              "      <th>Total Fwd Packets</th>\n",
              "      <th>...</th>\n",
              "      <th>min_seg_size_forward</th>\n",
              "      <th>Active Mean</th>\n",
              "      <th>Active Std</th>\n",
              "      <th>Active Max</th>\n",
              "      <th>Active Min</th>\n",
              "      <th>Idle Mean</th>\n",
              "      <th>Idle Std</th>\n",
              "      <th>Idle Max</th>\n",
              "      <th>Idle Min</th>\n",
              "      <th>Label</th>\n",
              "    </tr>\n",
              "  </thead>\n",
              "  <tbody>\n",
              "    <tr>\n",
              "      <th>0</th>\n",
              "      <td>0</td>\n",
              "      <td>172.217.6.202-10.42.0.211-443-50004-6</td>\n",
              "      <td>10.42.0.211</td>\n",
              "      <td>50004</td>\n",
              "      <td>172.217.6.202</td>\n",
              "      <td>443.0</td>\n",
              "      <td>6.0</td>\n",
              "      <td>13/06/2017 11:52:39</td>\n",
              "      <td>37027</td>\n",
              "      <td>1</td>\n",
              "      <td>...</td>\n",
              "      <td>32.0</td>\n",
              "      <td>0.0</td>\n",
              "      <td>0.0</td>\n",
              "      <td>0.0</td>\n",
              "      <td>0.0</td>\n",
              "      <td>0.0</td>\n",
              "      <td>0.0</td>\n",
              "      <td>0.0</td>\n",
              "      <td>0.0</td>\n",
              "      <td>Android_Adware</td>\n",
              "    </tr>\n",
              "    <tr>\n",
              "      <th>1</th>\n",
              "      <td>1</td>\n",
              "      <td>172.217.6.202-10.42.0.211-443-35455-6</td>\n",
              "      <td>10.42.0.211</td>\n",
              "      <td>35455</td>\n",
              "      <td>172.217.6.202</td>\n",
              "      <td>443.0</td>\n",
              "      <td>6.0</td>\n",
              "      <td>13/06/2017 11:52:39</td>\n",
              "      <td>36653</td>\n",
              "      <td>1</td>\n",
              "      <td>...</td>\n",
              "      <td>32.0</td>\n",
              "      <td>0.0</td>\n",
              "      <td>0.0</td>\n",
              "      <td>0.0</td>\n",
              "      <td>0.0</td>\n",
              "      <td>0.0</td>\n",
              "      <td>0.0</td>\n",
              "      <td>0.0</td>\n",
              "      <td>0.0</td>\n",
              "      <td>Android_Adware</td>\n",
              "    </tr>\n",
              "    <tr>\n",
              "      <th>2</th>\n",
              "      <td>2</td>\n",
              "      <td>131.253.61.68-10.42.0.211-443-51775-6</td>\n",
              "      <td>10.42.0.211</td>\n",
              "      <td>51775</td>\n",
              "      <td>131.253.61.68</td>\n",
              "      <td>443.0</td>\n",
              "      <td>6.0</td>\n",
              "      <td>13/06/2017 11:52:42</td>\n",
              "      <td>534099</td>\n",
              "      <td>8</td>\n",
              "      <td>...</td>\n",
              "      <td>20.0</td>\n",
              "      <td>0.0</td>\n",
              "      <td>0.0</td>\n",
              "      <td>0.0</td>\n",
              "      <td>0.0</td>\n",
              "      <td>0.0</td>\n",
              "      <td>0.0</td>\n",
              "      <td>0.0</td>\n",
              "      <td>0.0</td>\n",
              "      <td>Android_Adware</td>\n",
              "    </tr>\n",
              "    <tr>\n",
              "      <th>3</th>\n",
              "      <td>3</td>\n",
              "      <td>131.253.61.68-10.42.0.211-443-51775-6</td>\n",
              "      <td>10.42.0.211</td>\n",
              "      <td>51775</td>\n",
              "      <td>131.253.61.68</td>\n",
              "      <td>443.0</td>\n",
              "      <td>6.0</td>\n",
              "      <td>13/06/2017 11:52:43</td>\n",
              "      <td>9309</td>\n",
              "      <td>3</td>\n",
              "      <td>...</td>\n",
              "      <td>20.0</td>\n",
              "      <td>0.0</td>\n",
              "      <td>0.0</td>\n",
              "      <td>0.0</td>\n",
              "      <td>0.0</td>\n",
              "      <td>0.0</td>\n",
              "      <td>0.0</td>\n",
              "      <td>0.0</td>\n",
              "      <td>0.0</td>\n",
              "      <td>Android_Adware</td>\n",
              "    </tr>\n",
              "    <tr>\n",
              "      <th>4</th>\n",
              "      <td>4</td>\n",
              "      <td>131.253.61.68-10.42.0.211-443-51776-6</td>\n",
              "      <td>10.42.0.211</td>\n",
              "      <td>51776</td>\n",
              "      <td>131.253.61.68</td>\n",
              "      <td>443.0</td>\n",
              "      <td>6.0</td>\n",
              "      <td>13/06/2017 11:52:42</td>\n",
              "      <td>19890496</td>\n",
              "      <td>8</td>\n",
              "      <td>...</td>\n",
              "      <td>20.0</td>\n",
              "      <td>0.0</td>\n",
              "      <td>0.0</td>\n",
              "      <td>0.0</td>\n",
              "      <td>0.0</td>\n",
              "      <td>0.0</td>\n",
              "      <td>0.0</td>\n",
              "      <td>0.0</td>\n",
              "      <td>0.0</td>\n",
              "      <td>Android_Adware</td>\n",
              "    </tr>\n",
              "  </tbody>\n",
              "</table>\n",
              "<p>5 rows × 86 columns</p>\n",
              "</div>\n",
              "      <button class=\"colab-df-convert\" onclick=\"convertToInteractive('df-9eae63b4-a4cb-4081-b4d5-8180b9595cae')\"\n",
              "              title=\"Convert this dataframe to an interactive table.\"\n",
              "              style=\"display:none;\">\n",
              "        \n",
              "  <svg xmlns=\"http://www.w3.org/2000/svg\" height=\"24px\"viewBox=\"0 0 24 24\"\n",
              "       width=\"24px\">\n",
              "    <path d=\"M0 0h24v24H0V0z\" fill=\"none\"/>\n",
              "    <path d=\"M18.56 5.44l.94 2.06.94-2.06 2.06-.94-2.06-.94-.94-2.06-.94 2.06-2.06.94zm-11 1L8.5 8.5l.94-2.06 2.06-.94-2.06-.94L8.5 2.5l-.94 2.06-2.06.94zm10 10l.94 2.06.94-2.06 2.06-.94-2.06-.94-.94-2.06-.94 2.06-2.06.94z\"/><path d=\"M17.41 7.96l-1.37-1.37c-.4-.4-.92-.59-1.43-.59-.52 0-1.04.2-1.43.59L10.3 9.45l-7.72 7.72c-.78.78-.78 2.05 0 2.83L4 21.41c.39.39.9.59 1.41.59.51 0 1.02-.2 1.41-.59l7.78-7.78 2.81-2.81c.8-.78.8-2.07 0-2.86zM5.41 20L4 18.59l7.72-7.72 1.47 1.35L5.41 20z\"/>\n",
              "  </svg>\n",
              "      </button>\n",
              "      \n",
              "  <style>\n",
              "    .colab-df-container {\n",
              "      display:flex;\n",
              "      flex-wrap:wrap;\n",
              "      gap: 12px;\n",
              "    }\n",
              "\n",
              "    .colab-df-convert {\n",
              "      background-color: #E8F0FE;\n",
              "      border: none;\n",
              "      border-radius: 50%;\n",
              "      cursor: pointer;\n",
              "      display: none;\n",
              "      fill: #1967D2;\n",
              "      height: 32px;\n",
              "      padding: 0 0 0 0;\n",
              "      width: 32px;\n",
              "    }\n",
              "\n",
              "    .colab-df-convert:hover {\n",
              "      background-color: #E2EBFA;\n",
              "      box-shadow: 0px 1px 2px rgba(60, 64, 67, 0.3), 0px 1px 3px 1px rgba(60, 64, 67, 0.15);\n",
              "      fill: #174EA6;\n",
              "    }\n",
              "\n",
              "    [theme=dark] .colab-df-convert {\n",
              "      background-color: #3B4455;\n",
              "      fill: #D2E3FC;\n",
              "    }\n",
              "\n",
              "    [theme=dark] .colab-df-convert:hover {\n",
              "      background-color: #434B5C;\n",
              "      box-shadow: 0px 1px 3px 1px rgba(0, 0, 0, 0.15);\n",
              "      filter: drop-shadow(0px 1px 2px rgba(0, 0, 0, 0.3));\n",
              "      fill: #FFFFFF;\n",
              "    }\n",
              "  </style>\n",
              "\n",
              "      <script>\n",
              "        const buttonEl =\n",
              "          document.querySelector('#df-9eae63b4-a4cb-4081-b4d5-8180b9595cae button.colab-df-convert');\n",
              "        buttonEl.style.display =\n",
              "          google.colab.kernel.accessAllowed ? 'block' : 'none';\n",
              "\n",
              "        async function convertToInteractive(key) {\n",
              "          const element = document.querySelector('#df-9eae63b4-a4cb-4081-b4d5-8180b9595cae');\n",
              "          const dataTable =\n",
              "            await google.colab.kernel.invokeFunction('convertToInteractive',\n",
              "                                                     [key], {});\n",
              "          if (!dataTable) return;\n",
              "\n",
              "          const docLinkHtml = 'Like what you see? Visit the ' +\n",
              "            '<a target=\"_blank\" href=https://colab.research.google.com/notebooks/data_table.ipynb>data table notebook</a>'\n",
              "            + ' to learn more about interactive tables.';\n",
              "          element.innerHTML = '';\n",
              "          dataTable['output_type'] = 'display_data';\n",
              "          await google.colab.output.renderOutput(dataTable, element);\n",
              "          const docLink = document.createElement('div');\n",
              "          docLink.innerHTML = docLinkHtml;\n",
              "          element.appendChild(docLink);\n",
              "        }\n",
              "      </script>\n",
              "    </div>\n",
              "  </div>\n",
              "  "
            ]
          },
          "metadata": {},
          "execution_count": 8
        }
      ]
    },
    {
      "cell_type": "code",
      "source": [
        "df.columns = df.columns.str.lstrip()"
      ],
      "metadata": {
        "id": "_Uo9q1kBbH16"
      },
      "execution_count": 10,
      "outputs": []
    },
    {
      "cell_type": "code",
      "source": [
        "df.keys()"
      ],
      "metadata": {
        "colab": {
          "base_uri": "https://localhost:8080/"
        },
        "id": "r0nz3au6bV4-",
        "outputId": "4adcd83d-3a5d-4c10-c794-c904bc7c1d98"
      },
      "execution_count": 11,
      "outputs": [
        {
          "output_type": "execute_result",
          "data": {
            "text/plain": [
              "Index(['Unnamed: 0', 'Flow ID', 'Source IP', 'Source Port', 'Destination IP',\n",
              "       'Destination Port', 'Protocol', 'Timestamp', 'Flow Duration',\n",
              "       'Total Fwd Packets', 'Total Backward Packets',\n",
              "       'Total Length of Fwd Packets', 'Total Length of Bwd Packets',\n",
              "       'Fwd Packet Length Max', 'Fwd Packet Length Min',\n",
              "       'Fwd Packet Length Mean', 'Fwd Packet Length Std',\n",
              "       'Bwd Packet Length Max', 'Bwd Packet Length Min',\n",
              "       'Bwd Packet Length Mean', 'Bwd Packet Length Std', 'Flow Bytes/s',\n",
              "       'Flow Packets/s', 'Flow IAT Mean', 'Flow IAT Std', 'Flow IAT Max',\n",
              "       'Flow IAT Min', 'Fwd IAT Total', 'Fwd IAT Mean', 'Fwd IAT Std',\n",
              "       'Fwd IAT Max', 'Fwd IAT Min', 'Bwd IAT Total', 'Bwd IAT Mean',\n",
              "       'Bwd IAT Std', 'Bwd IAT Max', 'Bwd IAT Min', 'Fwd PSH Flags',\n",
              "       'Bwd PSH Flags', 'Fwd URG Flags', 'Bwd URG Flags', 'Fwd Header Length',\n",
              "       'Bwd Header Length', 'Fwd Packets/s', 'Bwd Packets/s',\n",
              "       'Min Packet Length', 'Max Packet Length', 'Packet Length Mean',\n",
              "       'Packet Length Std', 'Packet Length Variance', 'FIN Flag Count',\n",
              "       'SYN Flag Count', 'RST Flag Count', 'PSH Flag Count', 'ACK Flag Count',\n",
              "       'URG Flag Count', 'CWE Flag Count', 'ECE Flag Count', 'Down/Up Ratio',\n",
              "       'Average Packet Size', 'Avg Fwd Segment Size', 'Avg Bwd Segment Size',\n",
              "       'Fwd Header Length.1', 'Fwd Avg Bytes/Bulk', 'Fwd Avg Packets/Bulk',\n",
              "       'Fwd Avg Bulk Rate', 'Bwd Avg Bytes/Bulk', 'Bwd Avg Packets/Bulk',\n",
              "       'Bwd Avg Bulk Rate', 'Subflow Fwd Packets', 'Subflow Fwd Bytes',\n",
              "       'Subflow Bwd Packets', 'Subflow Bwd Bytes', 'Init_Win_bytes_forward',\n",
              "       'Init_Win_bytes_backward', 'act_data_pkt_fwd', 'min_seg_size_forward',\n",
              "       'Active Mean', 'Active Std', 'Active Max', 'Active Min', 'Idle Mean',\n",
              "       'Idle Std', 'Idle Max', 'Idle Min', 'Label'],\n",
              "      dtype='object')"
            ]
          },
          "metadata": {},
          "execution_count": 11
        }
      ]
    },
    {
      "cell_type": "code",
      "source": [
        "df.drop([\"Unnamed: 0\", \"Flow ID\", \"Source IP\", \"Source Port\", \"Destination IP\", \"Timestamp\"], axis=1, inplace=True)\n",
        "df.info()"
      ],
      "metadata": {
        "colab": {
          "base_uri": "https://localhost:8080/"
        },
        "id": "APeZvbGMbXQ5",
        "outputId": "2a33b5a8-47f0-411c-ef7b-05aa4269c217"
      },
      "execution_count": 12,
      "outputs": [
        {
          "output_type": "stream",
          "name": "stdout",
          "text": [
            "<class 'pandas.core.frame.DataFrame'>\n",
            "RangeIndex: 355630 entries, 0 to 355629\n",
            "Data columns (total 80 columns):\n",
            " #   Column                       Non-Null Count   Dtype  \n",
            "---  ------                       --------------   -----  \n",
            " 0   Destination Port             355630 non-null  float64\n",
            " 1   Protocol                     355630 non-null  float64\n",
            " 2   Flow Duration                355630 non-null  int64  \n",
            " 3   Total Fwd Packets            355630 non-null  int64  \n",
            " 4   Total Backward Packets       355630 non-null  int64  \n",
            " 5   Total Length of Fwd Packets  355630 non-null  float64\n",
            " 6   Total Length of Bwd Packets  355630 non-null  float64\n",
            " 7   Fwd Packet Length Max        355630 non-null  float64\n",
            " 8   Fwd Packet Length Min        355630 non-null  float64\n",
            " 9   Fwd Packet Length Mean       355630 non-null  float64\n",
            " 10  Fwd Packet Length Std        355630 non-null  float64\n",
            " 11  Bwd Packet Length Max        355630 non-null  float64\n",
            " 12  Bwd Packet Length Min        355630 non-null  float64\n",
            " 13  Bwd Packet Length Mean       355630 non-null  float64\n",
            " 14  Bwd Packet Length Std        355630 non-null  float64\n",
            " 15  Flow Bytes/s                 355630 non-null  float64\n",
            " 16  Flow Packets/s               355630 non-null  float64\n",
            " 17  Flow IAT Mean                355630 non-null  float64\n",
            " 18  Flow IAT Std                 355630 non-null  float64\n",
            " 19  Flow IAT Max                 355630 non-null  float64\n",
            " 20  Flow IAT Min                 355630 non-null  float64\n",
            " 21  Fwd IAT Total                355630 non-null  float64\n",
            " 22  Fwd IAT Mean                 355630 non-null  float64\n",
            " 23  Fwd IAT Std                  355630 non-null  float64\n",
            " 24  Fwd IAT Max                  355630 non-null  float64\n",
            " 25  Fwd IAT Min                  355630 non-null  float64\n",
            " 26  Bwd IAT Total                355630 non-null  float64\n",
            " 27  Bwd IAT Mean                 355630 non-null  float64\n",
            " 28  Bwd IAT Std                  355630 non-null  float64\n",
            " 29  Bwd IAT Max                  355630 non-null  float64\n",
            " 30  Bwd IAT Min                  355630 non-null  float64\n",
            " 31  Fwd PSH Flags                355630 non-null  float64\n",
            " 32  Bwd PSH Flags                355630 non-null  float64\n",
            " 33  Fwd URG Flags                355630 non-null  int64  \n",
            " 34  Bwd URG Flags                355630 non-null  int64  \n",
            " 35  Fwd Header Length            355630 non-null  int64  \n",
            " 36  Bwd Header Length            355630 non-null  int64  \n",
            " 37  Fwd Packets/s                355630 non-null  float64\n",
            " 38  Bwd Packets/s                355629 non-null  float64\n",
            " 39  Min Packet Length            355629 non-null  float64\n",
            " 40  Max Packet Length            355629 non-null  float64\n",
            " 41  Packet Length Mean           355629 non-null  float64\n",
            " 42  Packet Length Std            355629 non-null  float64\n",
            " 43  Packet Length Variance       355629 non-null  float64\n",
            " 44  FIN Flag Count               355629 non-null  float64\n",
            " 45  SYN Flag Count               355629 non-null  float64\n",
            " 46  RST Flag Count               355629 non-null  float64\n",
            " 47  PSH Flag Count               355629 non-null  float64\n",
            " 48  ACK Flag Count               355629 non-null  float64\n",
            " 49  URG Flag Count               355629 non-null  float64\n",
            " 50  CWE Flag Count               355629 non-null  object \n",
            " 51  ECE Flag Count               355628 non-null  float64\n",
            " 52  Down/Up Ratio                355628 non-null  object \n",
            " 53  Average Packet Size          355627 non-null  float64\n",
            " 54  Avg Fwd Segment Size         355627 non-null  float64\n",
            " 55  Avg Bwd Segment Size         355627 non-null  float64\n",
            " 56  Fwd Header Length.1          355627 non-null  float64\n",
            " 57  Fwd Avg Bytes/Bulk           355627 non-null  object \n",
            " 58  Fwd Avg Packets/Bulk         355626 non-null  float64\n",
            " 59  Fwd Avg Bulk Rate            355626 non-null  float64\n",
            " 60  Bwd Avg Bytes/Bulk           355626 non-null  float64\n",
            " 61  Bwd Avg Packets/Bulk         355626 non-null  float64\n",
            " 62  Bwd Avg Bulk Rate            355626 non-null  float64\n",
            " 63  Subflow Fwd Packets          355626 non-null  float64\n",
            " 64  Subflow Fwd Bytes            355626 non-null  float64\n",
            " 65  Subflow Bwd Packets          355626 non-null  float64\n",
            " 66  Subflow Bwd Bytes            355626 non-null  float64\n",
            " 67  Init_Win_bytes_forward       355626 non-null  float64\n",
            " 68  Init_Win_bytes_backward      355626 non-null  float64\n",
            " 69  act_data_pkt_fwd             355626 non-null  float64\n",
            " 70  min_seg_size_forward         355626 non-null  float64\n",
            " 71  Active Mean                  355626 non-null  float64\n",
            " 72  Active Std                   355626 non-null  float64\n",
            " 73  Active Max                   355626 non-null  float64\n",
            " 74  Active Min                   355626 non-null  float64\n",
            " 75  Idle Mean                    355626 non-null  float64\n",
            " 76  Idle Std                     355626 non-null  float64\n",
            " 77  Idle Max                     355626 non-null  float64\n",
            " 78  Idle Min                     355626 non-null  float64\n",
            " 79  Label                        355630 non-null  object \n",
            "dtypes: float64(69), int64(7), object(4)\n",
            "memory usage: 217.1+ MB\n"
          ]
        }
      ]
    },
    {
      "cell_type": "code",
      "source": [
        "df[\"CWE Flag Count\"].fillna(mode(df[\"CWE Flag Count\"]), inplace=True)\n",
        "df[\"Down/Up Ratio\"].fillna(mode(df[\"Down/Up Ratio\"]), inplace=True)\n",
        "df[\"Fwd Avg Bytes/Bulk\"].fillna(mode(df[\"Fwd Avg Bytes/Bulk\"]), inplace=True)"
      ],
      "metadata": {
        "id": "viZOpgxzbrzB"
      },
      "execution_count": 21,
      "outputs": []
    },
    {
      "cell_type": "code",
      "source": [
        "for column in df.keys():\n",
        "  if df[column].isna().sum() != 0:\n",
        "    df[column].fillna(mode(df[column]), inplace=True)"
      ],
      "metadata": {
        "id": "u9lKjGxKb7sA"
      },
      "execution_count": 24,
      "outputs": []
    },
    {
      "cell_type": "code",
      "source": [
        "df.keys()[:-1]"
      ],
      "metadata": {
        "colab": {
          "base_uri": "https://localhost:8080/"
        },
        "id": "8kl8cSA3dYln",
        "outputId": "657bcc93-a3e6-4a60-bb58-430618533f93"
      },
      "execution_count": 25,
      "outputs": [
        {
          "output_type": "execute_result",
          "data": {
            "text/plain": [
              "Index(['Destination Port', 'Protocol', 'Flow Duration', 'Total Fwd Packets',\n",
              "       'Total Backward Packets', 'Total Length of Fwd Packets',\n",
              "       'Total Length of Bwd Packets', 'Fwd Packet Length Max',\n",
              "       'Fwd Packet Length Min', 'Fwd Packet Length Mean',\n",
              "       'Fwd Packet Length Std', 'Bwd Packet Length Max',\n",
              "       'Bwd Packet Length Min', 'Bwd Packet Length Mean',\n",
              "       'Bwd Packet Length Std', 'Flow Bytes/s', 'Flow Packets/s',\n",
              "       'Flow IAT Mean', 'Flow IAT Std', 'Flow IAT Max', 'Flow IAT Min',\n",
              "       'Fwd IAT Total', 'Fwd IAT Mean', 'Fwd IAT Std', 'Fwd IAT Max',\n",
              "       'Fwd IAT Min', 'Bwd IAT Total', 'Bwd IAT Mean', 'Bwd IAT Std',\n",
              "       'Bwd IAT Max', 'Bwd IAT Min', 'Fwd PSH Flags', 'Bwd PSH Flags',\n",
              "       'Fwd URG Flags', 'Bwd URG Flags', 'Fwd Header Length',\n",
              "       'Bwd Header Length', 'Fwd Packets/s', 'Bwd Packets/s',\n",
              "       'Min Packet Length', 'Max Packet Length', 'Packet Length Mean',\n",
              "       'Packet Length Std', 'Packet Length Variance', 'FIN Flag Count',\n",
              "       'SYN Flag Count', 'RST Flag Count', 'PSH Flag Count', 'ACK Flag Count',\n",
              "       'URG Flag Count', 'CWE Flag Count', 'ECE Flag Count', 'Down/Up Ratio',\n",
              "       'Average Packet Size', 'Avg Fwd Segment Size', 'Avg Bwd Segment Size',\n",
              "       'Fwd Header Length.1', 'Fwd Avg Bytes/Bulk', 'Fwd Avg Packets/Bulk',\n",
              "       'Fwd Avg Bulk Rate', 'Bwd Avg Bytes/Bulk', 'Bwd Avg Packets/Bulk',\n",
              "       'Bwd Avg Bulk Rate', 'Subflow Fwd Packets', 'Subflow Fwd Bytes',\n",
              "       'Subflow Bwd Packets', 'Subflow Bwd Bytes', 'Init_Win_bytes_forward',\n",
              "       'Init_Win_bytes_backward', 'act_data_pkt_fwd', 'min_seg_size_forward',\n",
              "       'Active Mean', 'Active Std', 'Active Max', 'Active Min', 'Idle Mean',\n",
              "       'Idle Std', 'Idle Max', 'Idle Min'],\n",
              "      dtype='object')"
            ]
          },
          "metadata": {},
          "execution_count": 25
        }
      ]
    },
    {
      "cell_type": "code",
      "source": [
        "df[\"CWE Flag Count\"].replace(\"SCAREWARE\", 1, inplace=True)\n",
        "df[\"CWE Flag Count\"].astype(\"int64\")"
      ],
      "metadata": {
        "colab": {
          "base_uri": "https://localhost:8080/"
        },
        "id": "UqGhwOvweCH-",
        "outputId": "d5a0b683-711b-428d-a9f8-a4888ad2cd7f"
      },
      "execution_count": 31,
      "outputs": [
        {
          "output_type": "execute_result",
          "data": {
            "text/plain": [
              "0         0\n",
              "1         0\n",
              "2         0\n",
              "3         0\n",
              "4         0\n",
              "         ..\n",
              "355625    0\n",
              "355626    0\n",
              "355627    0\n",
              "355628    0\n",
              "355629    0\n",
              "Name: CWE Flag Count, Length: 355630, dtype: int64"
            ]
          },
          "metadata": {},
          "execution_count": 31
        }
      ]
    },
    {
      "cell_type": "code",
      "source": [
        "df[\"CWE Flag Count\"] = df[\"CWE Flag Count\"].astype(\"int64\")"
      ],
      "metadata": {
        "id": "U0RAG7t-ee45"
      },
      "execution_count": 33,
      "outputs": []
    },
    {
      "cell_type": "code",
      "source": [
        "df[\"Down/Up Ratio\"].replace(\"BENIGN\", 13, inplace=True)\n",
        "df[\"Down/Up Ratio\"] = df[\"Down/Up Ratio\"].astype(\"int64\")"
      ],
      "metadata": {
        "id": "pac5tN5OepGU"
      },
      "execution_count": 35,
      "outputs": []
    },
    {
      "cell_type": "code",
      "source": [
        "df[\"Fwd Avg Bytes/Bulk\"].replace(\"BENIGN\", 1, inplace=True)\n",
        "df[\"Fwd Avg Bytes/Bulk\"] = df[\"Fwd Avg Bytes/Bulk\"].astype(\"float64\")"
      ],
      "metadata": {
        "id": "rWIbt9CYe8EY"
      },
      "execution_count": 38,
      "outputs": []
    },
    {
      "cell_type": "code",
      "source": [
        "df.info(\n",
        "  \n",
        ")"
      ],
      "metadata": {
        "colab": {
          "base_uri": "https://localhost:8080/"
        },
        "id": "gfTyPvnifL8U",
        "outputId": "7374176a-deda-4e80-c21b-8b9135209e2b"
      },
      "execution_count": 39,
      "outputs": [
        {
          "output_type": "stream",
          "name": "stdout",
          "text": [
            "<class 'pandas.core.frame.DataFrame'>\n",
            "RangeIndex: 355630 entries, 0 to 355629\n",
            "Data columns (total 80 columns):\n",
            " #   Column                       Non-Null Count   Dtype  \n",
            "---  ------                       --------------   -----  \n",
            " 0   Destination Port             355630 non-null  float64\n",
            " 1   Protocol                     355630 non-null  float64\n",
            " 2   Flow Duration                355630 non-null  int64  \n",
            " 3   Total Fwd Packets            355630 non-null  int64  \n",
            " 4   Total Backward Packets       355630 non-null  int64  \n",
            " 5   Total Length of Fwd Packets  355630 non-null  float64\n",
            " 6   Total Length of Bwd Packets  355630 non-null  float64\n",
            " 7   Fwd Packet Length Max        355630 non-null  float64\n",
            " 8   Fwd Packet Length Min        355630 non-null  float64\n",
            " 9   Fwd Packet Length Mean       355630 non-null  float64\n",
            " 10  Fwd Packet Length Std        355630 non-null  float64\n",
            " 11  Bwd Packet Length Max        355630 non-null  float64\n",
            " 12  Bwd Packet Length Min        355630 non-null  float64\n",
            " 13  Bwd Packet Length Mean       355630 non-null  float64\n",
            " 14  Bwd Packet Length Std        355630 non-null  float64\n",
            " 15  Flow Bytes/s                 355630 non-null  float64\n",
            " 16  Flow Packets/s               355630 non-null  float64\n",
            " 17  Flow IAT Mean                355630 non-null  float64\n",
            " 18  Flow IAT Std                 355630 non-null  float64\n",
            " 19  Flow IAT Max                 355630 non-null  float64\n",
            " 20  Flow IAT Min                 355630 non-null  float64\n",
            " 21  Fwd IAT Total                355630 non-null  float64\n",
            " 22  Fwd IAT Mean                 355630 non-null  float64\n",
            " 23  Fwd IAT Std                  355630 non-null  float64\n",
            " 24  Fwd IAT Max                  355630 non-null  float64\n",
            " 25  Fwd IAT Min                  355630 non-null  float64\n",
            " 26  Bwd IAT Total                355630 non-null  float64\n",
            " 27  Bwd IAT Mean                 355630 non-null  float64\n",
            " 28  Bwd IAT Std                  355630 non-null  float64\n",
            " 29  Bwd IAT Max                  355630 non-null  float64\n",
            " 30  Bwd IAT Min                  355630 non-null  float64\n",
            " 31  Fwd PSH Flags                355630 non-null  float64\n",
            " 32  Bwd PSH Flags                355630 non-null  float64\n",
            " 33  Fwd URG Flags                355630 non-null  int64  \n",
            " 34  Bwd URG Flags                355630 non-null  int64  \n",
            " 35  Fwd Header Length            355630 non-null  int64  \n",
            " 36  Bwd Header Length            355630 non-null  int64  \n",
            " 37  Fwd Packets/s                355630 non-null  float64\n",
            " 38  Bwd Packets/s                355630 non-null  float64\n",
            " 39  Min Packet Length            355630 non-null  float64\n",
            " 40  Max Packet Length            355630 non-null  float64\n",
            " 41  Packet Length Mean           355630 non-null  float64\n",
            " 42  Packet Length Std            355630 non-null  float64\n",
            " 43  Packet Length Variance       355630 non-null  float64\n",
            " 44  FIN Flag Count               355630 non-null  float64\n",
            " 45  SYN Flag Count               355630 non-null  float64\n",
            " 46  RST Flag Count               355630 non-null  float64\n",
            " 47  PSH Flag Count               355630 non-null  float64\n",
            " 48  ACK Flag Count               355630 non-null  float64\n",
            " 49  URG Flag Count               355630 non-null  float64\n",
            " 50  CWE Flag Count               355630 non-null  int64  \n",
            " 51  ECE Flag Count               355630 non-null  float64\n",
            " 52  Down/Up Ratio                355630 non-null  int64  \n",
            " 53  Average Packet Size          355630 non-null  float64\n",
            " 54  Avg Fwd Segment Size         355630 non-null  float64\n",
            " 55  Avg Bwd Segment Size         355630 non-null  float64\n",
            " 56  Fwd Header Length.1          355630 non-null  float64\n",
            " 57  Fwd Avg Bytes/Bulk           355630 non-null  float64\n",
            " 58  Fwd Avg Packets/Bulk         355630 non-null  float64\n",
            " 59  Fwd Avg Bulk Rate            355630 non-null  float64\n",
            " 60  Bwd Avg Bytes/Bulk           355630 non-null  float64\n",
            " 61  Bwd Avg Packets/Bulk         355630 non-null  float64\n",
            " 62  Bwd Avg Bulk Rate            355630 non-null  float64\n",
            " 63  Subflow Fwd Packets          355630 non-null  float64\n",
            " 64  Subflow Fwd Bytes            355630 non-null  float64\n",
            " 65  Subflow Bwd Packets          355630 non-null  float64\n",
            " 66  Subflow Bwd Bytes            355630 non-null  float64\n",
            " 67  Init_Win_bytes_forward       355630 non-null  float64\n",
            " 68  Init_Win_bytes_backward      355630 non-null  float64\n",
            " 69  act_data_pkt_fwd             355630 non-null  float64\n",
            " 70  min_seg_size_forward         355630 non-null  float64\n",
            " 71  Active Mean                  355630 non-null  float64\n",
            " 72  Active Std                   355630 non-null  float64\n",
            " 73  Active Max                   355630 non-null  float64\n",
            " 74  Active Min                   355630 non-null  float64\n",
            " 75  Idle Mean                    355630 non-null  float64\n",
            " 76  Idle Std                     355630 non-null  float64\n",
            " 77  Idle Max                     355630 non-null  float64\n",
            " 78  Idle Min                     355630 non-null  float64\n",
            " 79  Label                        355630 non-null  object \n",
            "dtypes: float64(70), int64(9), object(1)\n",
            "memory usage: 217.1+ MB\n"
          ]
        }
      ]
    },
    {
      "cell_type": "code",
      "source": [
        "hotEnc = OneHotEncoder()"
      ],
      "metadata": {
        "id": "-aaD1PFMdpIb"
      },
      "execution_count": 40,
      "outputs": []
    },
    {
      "cell_type": "code",
      "source": [
        "df[\"Label\"].unique()"
      ],
      "metadata": {
        "colab": {
          "base_uri": "https://localhost:8080/"
        },
        "id": "vn9cnywzfZch",
        "outputId": "e5e99d3f-76c2-41ea-cb60-47ea1c3674e4"
      },
      "execution_count": 44,
      "outputs": [
        {
          "output_type": "execute_result",
          "data": {
            "text/plain": [
              "array(['Android_Adware', 'Android_Scareware', 'Android_SMS_Malware',\n",
              "       'Benign'], dtype=object)"
            ]
          },
          "metadata": {},
          "execution_count": 44
        }
      ]
    },
    {
      "cell_type": "code",
      "source": [
        "le = LabelEncoder()\n",
        "df[\"Label\"] = le.fit_transform(df[\"Label\"])\n",
        "classes = le.classes_"
      ],
      "metadata": {
        "id": "3TnvFX7nfiug"
      },
      "execution_count": 56,
      "outputs": []
    },
    {
      "cell_type": "code",
      "source": [
        "classes"
      ],
      "metadata": {
        "colab": {
          "base_uri": "https://localhost:8080/"
        },
        "id": "ShB7Lc7lf8jA",
        "outputId": "4892fc07-4478-4bf1-9cc9-954c1e1671b0"
      },
      "execution_count": 57,
      "outputs": [
        {
          "output_type": "execute_result",
          "data": {
            "text/plain": [
              "array(['Android_Adware', 'Android_SMS_Malware', 'Android_Scareware',\n",
              "       'Benign'], dtype=object)"
            ]
          },
          "metadata": {},
          "execution_count": 57
        }
      ]
    },
    {
      "cell_type": "code",
      "source": [
        "df.head()"
      ],
      "metadata": {
        "colab": {
          "base_uri": "https://localhost:8080/",
          "height": 352
        },
        "id": "VaCmjR5uhS5Q",
        "outputId": "2108a28d-2b62-4d1e-ca73-1bc9ec862c88"
      },
      "execution_count": 58,
      "outputs": [
        {
          "output_type": "execute_result",
          "data": {
            "text/plain": [
              "   Destination Port  Protocol  Flow Duration  Total Fwd Packets  \\\n",
              "0             443.0       6.0          37027                  1   \n",
              "1             443.0       6.0          36653                  1   \n",
              "2             443.0       6.0         534099                  8   \n",
              "3             443.0       6.0           9309                  3   \n",
              "4             443.0       6.0       19890496                  8   \n",
              "\n",
              "   Total Backward Packets  Total Length of Fwd Packets  \\\n",
              "0                       1                          0.0   \n",
              "1                       1                          0.0   \n",
              "2                      12                       1011.0   \n",
              "3                       0                          0.0   \n",
              "4                       6                        430.0   \n",
              "\n",
              "   Total Length of Bwd Packets  Fwd Packet Length Max  Fwd Packet Length Min  \\\n",
              "0                          0.0                    0.0                    0.0   \n",
              "1                          0.0                    0.0                    0.0   \n",
              "2                      11924.0                  581.0                    0.0   \n",
              "3                          0.0                    0.0                    0.0   \n",
              "4                       5679.0                  218.0                    0.0   \n",
              "\n",
              "   Fwd Packet Length Mean  ...  min_seg_size_forward  Active Mean  Active Std  \\\n",
              "0                   0.000  ...                  32.0          0.0         0.0   \n",
              "1                   0.000  ...                  32.0          0.0         0.0   \n",
              "2                 126.375  ...                  20.0          0.0         0.0   \n",
              "3                   0.000  ...                  20.0          0.0         0.0   \n",
              "4                  53.750  ...                  20.0          0.0         0.0   \n",
              "\n",
              "   Active Max  Active Min  Idle Mean  Idle Std  Idle Max  Idle Min  Label  \n",
              "0         0.0         0.0        0.0       0.0       0.0       0.0      0  \n",
              "1         0.0         0.0        0.0       0.0       0.0       0.0      0  \n",
              "2         0.0         0.0        0.0       0.0       0.0       0.0      0  \n",
              "3         0.0         0.0        0.0       0.0       0.0       0.0      0  \n",
              "4         0.0         0.0        0.0       0.0       0.0       0.0      0  \n",
              "\n",
              "[5 rows x 80 columns]"
            ],
            "text/html": [
              "\n",
              "  <div id=\"df-e3aed7a2-6c5c-4959-9e8d-f139cf2fa2c8\">\n",
              "    <div class=\"colab-df-container\">\n",
              "      <div>\n",
              "<style scoped>\n",
              "    .dataframe tbody tr th:only-of-type {\n",
              "        vertical-align: middle;\n",
              "    }\n",
              "\n",
              "    .dataframe tbody tr th {\n",
              "        vertical-align: top;\n",
              "    }\n",
              "\n",
              "    .dataframe thead th {\n",
              "        text-align: right;\n",
              "    }\n",
              "</style>\n",
              "<table border=\"1\" class=\"dataframe\">\n",
              "  <thead>\n",
              "    <tr style=\"text-align: right;\">\n",
              "      <th></th>\n",
              "      <th>Destination Port</th>\n",
              "      <th>Protocol</th>\n",
              "      <th>Flow Duration</th>\n",
              "      <th>Total Fwd Packets</th>\n",
              "      <th>Total Backward Packets</th>\n",
              "      <th>Total Length of Fwd Packets</th>\n",
              "      <th>Total Length of Bwd Packets</th>\n",
              "      <th>Fwd Packet Length Max</th>\n",
              "      <th>Fwd Packet Length Min</th>\n",
              "      <th>Fwd Packet Length Mean</th>\n",
              "      <th>...</th>\n",
              "      <th>min_seg_size_forward</th>\n",
              "      <th>Active Mean</th>\n",
              "      <th>Active Std</th>\n",
              "      <th>Active Max</th>\n",
              "      <th>Active Min</th>\n",
              "      <th>Idle Mean</th>\n",
              "      <th>Idle Std</th>\n",
              "      <th>Idle Max</th>\n",
              "      <th>Idle Min</th>\n",
              "      <th>Label</th>\n",
              "    </tr>\n",
              "  </thead>\n",
              "  <tbody>\n",
              "    <tr>\n",
              "      <th>0</th>\n",
              "      <td>443.0</td>\n",
              "      <td>6.0</td>\n",
              "      <td>37027</td>\n",
              "      <td>1</td>\n",
              "      <td>1</td>\n",
              "      <td>0.0</td>\n",
              "      <td>0.0</td>\n",
              "      <td>0.0</td>\n",
              "      <td>0.0</td>\n",
              "      <td>0.000</td>\n",
              "      <td>...</td>\n",
              "      <td>32.0</td>\n",
              "      <td>0.0</td>\n",
              "      <td>0.0</td>\n",
              "      <td>0.0</td>\n",
              "      <td>0.0</td>\n",
              "      <td>0.0</td>\n",
              "      <td>0.0</td>\n",
              "      <td>0.0</td>\n",
              "      <td>0.0</td>\n",
              "      <td>0</td>\n",
              "    </tr>\n",
              "    <tr>\n",
              "      <th>1</th>\n",
              "      <td>443.0</td>\n",
              "      <td>6.0</td>\n",
              "      <td>36653</td>\n",
              "      <td>1</td>\n",
              "      <td>1</td>\n",
              "      <td>0.0</td>\n",
              "      <td>0.0</td>\n",
              "      <td>0.0</td>\n",
              "      <td>0.0</td>\n",
              "      <td>0.000</td>\n",
              "      <td>...</td>\n",
              "      <td>32.0</td>\n",
              "      <td>0.0</td>\n",
              "      <td>0.0</td>\n",
              "      <td>0.0</td>\n",
              "      <td>0.0</td>\n",
              "      <td>0.0</td>\n",
              "      <td>0.0</td>\n",
              "      <td>0.0</td>\n",
              "      <td>0.0</td>\n",
              "      <td>0</td>\n",
              "    </tr>\n",
              "    <tr>\n",
              "      <th>2</th>\n",
              "      <td>443.0</td>\n",
              "      <td>6.0</td>\n",
              "      <td>534099</td>\n",
              "      <td>8</td>\n",
              "      <td>12</td>\n",
              "      <td>1011.0</td>\n",
              "      <td>11924.0</td>\n",
              "      <td>581.0</td>\n",
              "      <td>0.0</td>\n",
              "      <td>126.375</td>\n",
              "      <td>...</td>\n",
              "      <td>20.0</td>\n",
              "      <td>0.0</td>\n",
              "      <td>0.0</td>\n",
              "      <td>0.0</td>\n",
              "      <td>0.0</td>\n",
              "      <td>0.0</td>\n",
              "      <td>0.0</td>\n",
              "      <td>0.0</td>\n",
              "      <td>0.0</td>\n",
              "      <td>0</td>\n",
              "    </tr>\n",
              "    <tr>\n",
              "      <th>3</th>\n",
              "      <td>443.0</td>\n",
              "      <td>6.0</td>\n",
              "      <td>9309</td>\n",
              "      <td>3</td>\n",
              "      <td>0</td>\n",
              "      <td>0.0</td>\n",
              "      <td>0.0</td>\n",
              "      <td>0.0</td>\n",
              "      <td>0.0</td>\n",
              "      <td>0.000</td>\n",
              "      <td>...</td>\n",
              "      <td>20.0</td>\n",
              "      <td>0.0</td>\n",
              "      <td>0.0</td>\n",
              "      <td>0.0</td>\n",
              "      <td>0.0</td>\n",
              "      <td>0.0</td>\n",
              "      <td>0.0</td>\n",
              "      <td>0.0</td>\n",
              "      <td>0.0</td>\n",
              "      <td>0</td>\n",
              "    </tr>\n",
              "    <tr>\n",
              "      <th>4</th>\n",
              "      <td>443.0</td>\n",
              "      <td>6.0</td>\n",
              "      <td>19890496</td>\n",
              "      <td>8</td>\n",
              "      <td>6</td>\n",
              "      <td>430.0</td>\n",
              "      <td>5679.0</td>\n",
              "      <td>218.0</td>\n",
              "      <td>0.0</td>\n",
              "      <td>53.750</td>\n",
              "      <td>...</td>\n",
              "      <td>20.0</td>\n",
              "      <td>0.0</td>\n",
              "      <td>0.0</td>\n",
              "      <td>0.0</td>\n",
              "      <td>0.0</td>\n",
              "      <td>0.0</td>\n",
              "      <td>0.0</td>\n",
              "      <td>0.0</td>\n",
              "      <td>0.0</td>\n",
              "      <td>0</td>\n",
              "    </tr>\n",
              "  </tbody>\n",
              "</table>\n",
              "<p>5 rows × 80 columns</p>\n",
              "</div>\n",
              "      <button class=\"colab-df-convert\" onclick=\"convertToInteractive('df-e3aed7a2-6c5c-4959-9e8d-f139cf2fa2c8')\"\n",
              "              title=\"Convert this dataframe to an interactive table.\"\n",
              "              style=\"display:none;\">\n",
              "        \n",
              "  <svg xmlns=\"http://www.w3.org/2000/svg\" height=\"24px\"viewBox=\"0 0 24 24\"\n",
              "       width=\"24px\">\n",
              "    <path d=\"M0 0h24v24H0V0z\" fill=\"none\"/>\n",
              "    <path d=\"M18.56 5.44l.94 2.06.94-2.06 2.06-.94-2.06-.94-.94-2.06-.94 2.06-2.06.94zm-11 1L8.5 8.5l.94-2.06 2.06-.94-2.06-.94L8.5 2.5l-.94 2.06-2.06.94zm10 10l.94 2.06.94-2.06 2.06-.94-2.06-.94-.94-2.06-.94 2.06-2.06.94z\"/><path d=\"M17.41 7.96l-1.37-1.37c-.4-.4-.92-.59-1.43-.59-.52 0-1.04.2-1.43.59L10.3 9.45l-7.72 7.72c-.78.78-.78 2.05 0 2.83L4 21.41c.39.39.9.59 1.41.59.51 0 1.02-.2 1.41-.59l7.78-7.78 2.81-2.81c.8-.78.8-2.07 0-2.86zM5.41 20L4 18.59l7.72-7.72 1.47 1.35L5.41 20z\"/>\n",
              "  </svg>\n",
              "      </button>\n",
              "      \n",
              "  <style>\n",
              "    .colab-df-container {\n",
              "      display:flex;\n",
              "      flex-wrap:wrap;\n",
              "      gap: 12px;\n",
              "    }\n",
              "\n",
              "    .colab-df-convert {\n",
              "      background-color: #E8F0FE;\n",
              "      border: none;\n",
              "      border-radius: 50%;\n",
              "      cursor: pointer;\n",
              "      display: none;\n",
              "      fill: #1967D2;\n",
              "      height: 32px;\n",
              "      padding: 0 0 0 0;\n",
              "      width: 32px;\n",
              "    }\n",
              "\n",
              "    .colab-df-convert:hover {\n",
              "      background-color: #E2EBFA;\n",
              "      box-shadow: 0px 1px 2px rgba(60, 64, 67, 0.3), 0px 1px 3px 1px rgba(60, 64, 67, 0.15);\n",
              "      fill: #174EA6;\n",
              "    }\n",
              "\n",
              "    [theme=dark] .colab-df-convert {\n",
              "      background-color: #3B4455;\n",
              "      fill: #D2E3FC;\n",
              "    }\n",
              "\n",
              "    [theme=dark] .colab-df-convert:hover {\n",
              "      background-color: #434B5C;\n",
              "      box-shadow: 0px 1px 3px 1px rgba(0, 0, 0, 0.15);\n",
              "      filter: drop-shadow(0px 1px 2px rgba(0, 0, 0, 0.3));\n",
              "      fill: #FFFFFF;\n",
              "    }\n",
              "  </style>\n",
              "\n",
              "      <script>\n",
              "        const buttonEl =\n",
              "          document.querySelector('#df-e3aed7a2-6c5c-4959-9e8d-f139cf2fa2c8 button.colab-df-convert');\n",
              "        buttonEl.style.display =\n",
              "          google.colab.kernel.accessAllowed ? 'block' : 'none';\n",
              "\n",
              "        async function convertToInteractive(key) {\n",
              "          const element = document.querySelector('#df-e3aed7a2-6c5c-4959-9e8d-f139cf2fa2c8');\n",
              "          const dataTable =\n",
              "            await google.colab.kernel.invokeFunction('convertToInteractive',\n",
              "                                                     [key], {});\n",
              "          if (!dataTable) return;\n",
              "\n",
              "          const docLinkHtml = 'Like what you see? Visit the ' +\n",
              "            '<a target=\"_blank\" href=https://colab.research.google.com/notebooks/data_table.ipynb>data table notebook</a>'\n",
              "            + ' to learn more about interactive tables.';\n",
              "          element.innerHTML = '';\n",
              "          dataTable['output_type'] = 'display_data';\n",
              "          await google.colab.output.renderOutput(dataTable, element);\n",
              "          const docLink = document.createElement('div');\n",
              "          docLink.innerHTML = docLinkHtml;\n",
              "          element.appendChild(docLink);\n",
              "        }\n",
              "      </script>\n",
              "    </div>\n",
              "  </div>\n",
              "  "
            ]
          },
          "metadata": {},
          "execution_count": 58
        }
      ]
    },
    {
      "cell_type": "code",
      "source": [
        "X = df.drop(\"Label\", axis=1)\n",
        "y = df[\"Label\"]\n",
        "\n",
        "X_train, X_test, y_train, y_test = train_test_split(X.values, y.values, test_size=0.2)"
      ],
      "metadata": {
        "id": "H9XqEiu8iChN"
      },
      "execution_count": 62,
      "outputs": []
    },
    {
      "cell_type": "code",
      "source": [
        "len(X_train[0])"
      ],
      "metadata": {
        "colab": {
          "base_uri": "https://localhost:8080/"
        },
        "id": "nstVGUXoiZoz",
        "outputId": "8237f598-5435-438d-d0fa-6aede606dbe6"
      },
      "execution_count": 63,
      "outputs": [
        {
          "output_type": "execute_result",
          "data": {
            "text/plain": [
              "79"
            ]
          },
          "metadata": {},
          "execution_count": 63
        }
      ]
    },
    {
      "cell_type": "code",
      "source": [
        "y_train[0]"
      ],
      "metadata": {
        "colab": {
          "base_uri": "https://localhost:8080/"
        },
        "id": "FydYDtSpjaFg",
        "outputId": "7c02913f-c9ea-44e0-ac6e-01265537e3bf"
      },
      "execution_count": 66,
      "outputs": [
        {
          "output_type": "execute_result",
          "data": {
            "text/plain": [
              "2"
            ]
          },
          "metadata": {},
          "execution_count": 66
        }
      ]
    },
    {
      "cell_type": "code",
      "source": [
        "model = tf.keras.models.Sequential()\n",
        "\n",
        "model.add(tf.keras.layers.Dense(128, input_shape=(len(X_train[0]), ), activation='relu'))\n",
        "model.add(tf.keras.layers.Dropout(0.5))\n",
        "model.add(tf.keras.layers.Dense(64, activation='relu'))\n",
        "model.add(tf.keras.layers.Dropout(0.5))\n",
        "model.add(tf.keras.layers.Dense(4, activation=\"softmax\"))\n",
        "\n",
        "model.compile(optimizer=\"adam\", loss=\"sparse_categorical_crossentropy\", metrics=[\"accuracy\"])"
      ],
      "metadata": {
        "id": "ZJc9Qf-th2Hg"
      },
      "execution_count": 67,
      "outputs": []
    },
    {
      "cell_type": "code",
      "source": [
        "model.fit(X_train, y_train, epochs=120, validation_data=(X_test, y_test), batch_size=30)"
      ],
      "metadata": {
        "colab": {
          "base_uri": "https://localhost:8080/"
        },
        "id": "oj605HDMj7Ue",
        "outputId": "394a3ba0-a1c0-4196-d0eb-a367566de519"
      },
      "execution_count": 68,
      "outputs": [
        {
          "output_type": "stream",
          "name": "stdout",
          "text": [
            "Epoch 1/120\n",
            "9484/9484 [==============================] - 33s 3ms/step - loss: 58870.1016 - accuracy: 0.3996 - val_loss: 14656.6396 - val_accuracy: 0.4166\n",
            "Epoch 2/120\n",
            "9484/9484 [==============================] - 29s 3ms/step - loss: 18779.5391 - accuracy: 0.4140 - val_loss: 1227.0774 - val_accuracy: 0.4166\n",
            "Epoch 3/120\n",
            "9484/9484 [==============================] - 31s 3ms/step - loss: 20629.3867 - accuracy: 0.4141 - val_loss: 1.3139 - val_accuracy: 0.4166\n",
            "Epoch 4/120\n",
            "9484/9484 [==============================] - 29s 3ms/step - loss: 1229.8271 - accuracy: 0.4141 - val_loss: 1.4891 - val_accuracy: 0.4166\n",
            "Epoch 5/120\n",
            "9484/9484 [==============================] - 31s 3ms/step - loss: 30812.7129 - accuracy: 0.4141 - val_loss: 1.4437 - val_accuracy: 0.4166\n",
            "Epoch 6/120\n",
            "9484/9484 [==============================] - 30s 3ms/step - loss: 10.7822 - accuracy: 0.4141 - val_loss: 1.4463 - val_accuracy: 0.4166\n",
            "Epoch 7/120\n",
            "9484/9484 [==============================] - 29s 3ms/step - loss: 2.5416 - accuracy: 0.4141 - val_loss: 1.2969 - val_accuracy: 0.4166\n",
            "Epoch 8/120\n",
            "9484/9484 [==============================] - 30s 3ms/step - loss: 816.3105 - accuracy: 0.4141 - val_loss: 1.7505 - val_accuracy: 0.4166\n",
            "Epoch 9/120\n",
            "9484/9484 [==============================] - 28s 3ms/step - loss: 1.2271 - accuracy: 0.4141 - val_loss: 1.7505 - val_accuracy: 0.4166\n",
            "Epoch 10/120\n",
            "9484/9484 [==============================] - 31s 3ms/step - loss: 181.1989 - accuracy: 0.4141 - val_loss: 1.7696 - val_accuracy: 0.4166\n",
            "Epoch 11/120\n",
            "9484/9484 [==============================] - 29s 3ms/step - loss: 1.5736 - accuracy: 0.4141 - val_loss: 1.8496 - val_accuracy: 0.4166\n",
            "Epoch 12/120\n",
            "9484/9484 [==============================] - 30s 3ms/step - loss: 1.2834 - accuracy: 0.4141 - val_loss: 1.7821 - val_accuracy: 0.4166\n",
            "Epoch 13/120\n",
            "9484/9484 [==============================] - 29s 3ms/step - loss: 4.5232 - accuracy: 0.4141 - val_loss: 1.7362 - val_accuracy: 0.4166\n",
            "Epoch 14/120\n",
            "9484/9484 [==============================] - 29s 3ms/step - loss: 1.8807 - accuracy: 0.4141 - val_loss: 1.7132 - val_accuracy: 0.4166\n",
            "Epoch 15/120\n",
            "9484/9484 [==============================] - 30s 3ms/step - loss: 1.2379 - accuracy: 0.4141 - val_loss: 1.7282 - val_accuracy: 0.4166\n",
            "Epoch 16/120\n",
            "9484/9484 [==============================] - 30s 3ms/step - loss: 1.2276 - accuracy: 0.4141 - val_loss: 1.7115 - val_accuracy: 0.4166\n",
            "Epoch 17/120\n",
            "9484/9484 [==============================] - 31s 3ms/step - loss: 11461.0352 - accuracy: 0.4141 - val_loss: 1.7833 - val_accuracy: 0.4166\n",
            "Epoch 18/120\n",
            "9484/9484 [==============================] - 31s 3ms/step - loss: 3.0813 - accuracy: 0.4141 - val_loss: 1.7796 - val_accuracy: 0.4166\n",
            "Epoch 19/120\n",
            "9484/9484 [==============================] - 30s 3ms/step - loss: 1.2271 - accuracy: 0.4141 - val_loss: 1.7733 - val_accuracy: 0.4166\n",
            "Epoch 20/120\n",
            "9484/9484 [==============================] - 29s 3ms/step - loss: 7664.1182 - accuracy: 0.4141 - val_loss: 1.8301 - val_accuracy: 0.4166\n",
            "Epoch 21/120\n",
            "9484/9484 [==============================] - 30s 3ms/step - loss: 118.2944 - accuracy: 0.4141 - val_loss: 1.8382 - val_accuracy: 0.4166\n",
            "Epoch 22/120\n",
            "9484/9484 [==============================] - 28s 3ms/step - loss: 1.2345 - accuracy: 0.4141 - val_loss: 1.8464 - val_accuracy: 0.4166\n",
            "Epoch 23/120\n",
            "9484/9484 [==============================] - 29s 3ms/step - loss: 3.0903 - accuracy: 0.4141 - val_loss: 1.7922 - val_accuracy: 0.4166\n",
            "Epoch 24/120\n",
            "9484/9484 [==============================] - 30s 3ms/step - loss: 1.2271 - accuracy: 0.4141 - val_loss: 1.7922 - val_accuracy: 0.4166\n",
            "Epoch 25/120\n",
            "9484/9484 [==============================] - 32s 3ms/step - loss: 1.2503 - accuracy: 0.4141 - val_loss: 1.7612 - val_accuracy: 0.4166\n",
            "Epoch 26/120\n",
            "9484/9484 [==============================] - 32s 3ms/step - loss: 3.2546 - accuracy: 0.4141 - val_loss: 1.7817 - val_accuracy: 0.4166\n",
            "Epoch 27/120\n",
            "9484/9484 [==============================] - 29s 3ms/step - loss: 1.9653 - accuracy: 0.4141 - val_loss: 1.7730 - val_accuracy: 0.4166\n",
            "Epoch 28/120\n",
            "9484/9484 [==============================] - 29s 3ms/step - loss: 2.9942 - accuracy: 0.4141 - val_loss: 1.7388 - val_accuracy: 0.4166\n",
            "Epoch 29/120\n",
            "9484/9484 [==============================] - 27s 3ms/step - loss: 1.2277 - accuracy: 0.4141 - val_loss: 1.7444 - val_accuracy: 0.4166\n",
            "Epoch 30/120\n",
            "9484/9484 [==============================] - 31s 3ms/step - loss: 1.2344 - accuracy: 0.4141 - val_loss: 1.7089 - val_accuracy: 0.4166\n",
            "Epoch 31/120\n",
            "9484/9484 [==============================] - 31s 3ms/step - loss: 7.2551 - accuracy: 0.4141 - val_loss: 1.7221 - val_accuracy: 0.4166\n",
            "Epoch 32/120\n",
            "9484/9484 [==============================] - 31s 3ms/step - loss: 1.2271 - accuracy: 0.4141 - val_loss: 1.7220 - val_accuracy: 0.4166\n",
            "Epoch 33/120\n",
            "9484/9484 [==============================] - 30s 3ms/step - loss: 1.2271 - accuracy: 0.4141 - val_loss: 1.7221 - val_accuracy: 0.4166\n",
            "Epoch 34/120\n",
            "9484/9484 [==============================] - 30s 3ms/step - loss: 1.2271 - accuracy: 0.4141 - val_loss: 1.7221 - val_accuracy: 0.4166\n",
            "Epoch 35/120\n",
            "9484/9484 [==============================] - 29s 3ms/step - loss: 1.2271 - accuracy: 0.4141 - val_loss: 1.7221 - val_accuracy: 0.4166\n",
            "Epoch 36/120\n",
            "9484/9484 [==============================] - 29s 3ms/step - loss: 1.2271 - accuracy: 0.4141 - val_loss: 1.7222 - val_accuracy: 0.4166\n",
            "Epoch 37/120\n",
            "9484/9484 [==============================] - 28s 3ms/step - loss: 347.5742 - accuracy: 0.4141 - val_loss: 1.4842 - val_accuracy: 0.4166\n",
            "Epoch 38/120\n",
            "9484/9484 [==============================] - 30s 3ms/step - loss: 1.2271 - accuracy: 0.4141 - val_loss: 1.4843 - val_accuracy: 0.4166\n",
            "Epoch 39/120\n",
            "9484/9484 [==============================] - 29s 3ms/step - loss: 7426.3315 - accuracy: 0.4141 - val_loss: 1.4618 - val_accuracy: 0.4166\n",
            "Epoch 40/120\n",
            "9484/9484 [==============================] - 29s 3ms/step - loss: 1.2275 - accuracy: 0.4141 - val_loss: 1.5197 - val_accuracy: 0.4166\n",
            "Epoch 41/120\n",
            "9484/9484 [==============================] - 29s 3ms/step - loss: 1.2271 - accuracy: 0.4141 - val_loss: 1.5197 - val_accuracy: 0.4166\n",
            "Epoch 42/120\n",
            "9484/9484 [==============================] - 27s 3ms/step - loss: 1.2271 - accuracy: 0.4141 - val_loss: 1.5195 - val_accuracy: 0.4166\n",
            "Epoch 43/120\n",
            "9484/9484 [==============================] - 30s 3ms/step - loss: 1.2287 - accuracy: 0.4141 - val_loss: 1.5159 - val_accuracy: 0.4166\n",
            "Epoch 44/120\n",
            "9484/9484 [==============================] - 32s 3ms/step - loss: 1.9496 - accuracy: 0.4141 - val_loss: 1.5049 - val_accuracy: 0.4166\n",
            "Epoch 45/120\n",
            "9484/9484 [==============================] - 30s 3ms/step - loss: 1.2271 - accuracy: 0.4141 - val_loss: 1.5049 - val_accuracy: 0.4166\n",
            "Epoch 46/120\n",
            "9484/9484 [==============================] - 30s 3ms/step - loss: 11.1926 - accuracy: 0.4141 - val_loss: 1.3745 - val_accuracy: 0.4166\n",
            "Epoch 47/120\n",
            "9484/9484 [==============================] - 28s 3ms/step - loss: 1.2315 - accuracy: 0.4141 - val_loss: 1.3689 - val_accuracy: 0.4166\n",
            "Epoch 48/120\n",
            "9484/9484 [==============================] - 29s 3ms/step - loss: 1.2271 - accuracy: 0.4141 - val_loss: 1.3689 - val_accuracy: 0.4166\n",
            "Epoch 49/120\n",
            "9484/9484 [==============================] - 30s 3ms/step - loss: 142.4467 - accuracy: 0.4141 - val_loss: 1.4149 - val_accuracy: 0.4166\n",
            "Epoch 50/120\n",
            "9484/9484 [==============================] - 30s 3ms/step - loss: 1.2274 - accuracy: 0.4141 - val_loss: 1.4278 - val_accuracy: 0.4166\n",
            "Epoch 51/120\n",
            "9484/9484 [==============================] - 29s 3ms/step - loss: 1.2276 - accuracy: 0.4141 - val_loss: 1.4288 - val_accuracy: 0.4166\n",
            "Epoch 52/120\n",
            "9484/9484 [==============================] - 29s 3ms/step - loss: 1.2271 - accuracy: 0.4141 - val_loss: 1.4286 - val_accuracy: 0.4166\n",
            "Epoch 53/120\n",
            "9484/9484 [==============================] - 30s 3ms/step - loss: 1.2271 - accuracy: 0.4141 - val_loss: 1.4287 - val_accuracy: 0.4166\n",
            "Epoch 54/120\n",
            "9484/9484 [==============================] - 29s 3ms/step - loss: 1.2271 - accuracy: 0.4141 - val_loss: 1.4287 - val_accuracy: 0.4166\n",
            "Epoch 55/120\n",
            "9484/9484 [==============================] - 32s 3ms/step - loss: 1.2271 - accuracy: 0.4141 - val_loss: 1.4287 - val_accuracy: 0.4166\n",
            "Epoch 56/120\n",
            "9484/9484 [==============================] - 32s 3ms/step - loss: 1.2271 - accuracy: 0.4141 - val_loss: 1.4288 - val_accuracy: 0.4166\n",
            "Epoch 57/120\n",
            "9484/9484 [==============================] - 30s 3ms/step - loss: 1.2271 - accuracy: 0.4141 - val_loss: 1.4287 - val_accuracy: 0.4166\n",
            "Epoch 58/120\n",
            "9484/9484 [==============================] - 30s 3ms/step - loss: 1.2276 - accuracy: 0.4141 - val_loss: 1.4431 - val_accuracy: 0.4166\n",
            "Epoch 59/120\n",
            "9484/9484 [==============================] - 29s 3ms/step - loss: 1.2274 - accuracy: 0.4141 - val_loss: 1.4268 - val_accuracy: 0.4166\n",
            "Epoch 60/120\n",
            "9484/9484 [==============================] - 28s 3ms/step - loss: 1.2271 - accuracy: 0.4141 - val_loss: 1.4268 - val_accuracy: 0.4166\n",
            "Epoch 61/120\n",
            "9484/9484 [==============================] - 31s 3ms/step - loss: 1.2271 - accuracy: 0.4141 - val_loss: 1.4268 - val_accuracy: 0.4166\n",
            "Epoch 62/120\n",
            "9484/9484 [==============================] - 30s 3ms/step - loss: 13.0364 - accuracy: 0.4141 - val_loss: 1.4714 - val_accuracy: 0.4166\n",
            "Epoch 63/120\n",
            "9484/9484 [==============================] - 32s 3ms/step - loss: 1.2271 - accuracy: 0.4141 - val_loss: 1.4713 - val_accuracy: 0.4166\n",
            "Epoch 64/120\n",
            "9484/9484 [==============================] - 32s 3ms/step - loss: 1.2271 - accuracy: 0.4141 - val_loss: 1.4714 - val_accuracy: 0.4166\n",
            "Epoch 65/120\n",
            "9484/9484 [==============================] - 31s 3ms/step - loss: 1.2271 - accuracy: 0.4141 - val_loss: 1.4713 - val_accuracy: 0.4166\n",
            "Epoch 66/120\n",
            "9484/9484 [==============================] - 29s 3ms/step - loss: 1.2271 - accuracy: 0.4141 - val_loss: 1.4713 - val_accuracy: 0.4166\n",
            "Epoch 67/120\n",
            "9484/9484 [==============================] - 29s 3ms/step - loss: 1.2271 - accuracy: 0.4141 - val_loss: 1.4550 - val_accuracy: 0.4166\n",
            "Epoch 68/120\n",
            "9484/9484 [==============================] - 30s 3ms/step - loss: 1.2271 - accuracy: 0.4141 - val_loss: 1.4548 - val_accuracy: 0.4166\n",
            "Epoch 69/120\n",
            "9484/9484 [==============================] - 30s 3ms/step - loss: 236.1142 - accuracy: 0.4141 - val_loss: 1.4417 - val_accuracy: 0.4166\n",
            "Epoch 70/120\n",
            "9484/9484 [==============================] - 31s 3ms/step - loss: 1.2271 - accuracy: 0.4141 - val_loss: 1.4419 - val_accuracy: 0.4166\n",
            "Epoch 71/120\n",
            "9484/9484 [==============================] - 31s 3ms/step - loss: 1.2272 - accuracy: 0.4141 - val_loss: 1.4417 - val_accuracy: 0.4166\n",
            "Epoch 72/120\n",
            "9484/9484 [==============================] - 32s 3ms/step - loss: 1.2271 - accuracy: 0.4141 - val_loss: 1.4420 - val_accuracy: 0.4166\n",
            "Epoch 73/120\n",
            "9484/9484 [==============================] - 32s 3ms/step - loss: 1.2272 - accuracy: 0.4141 - val_loss: 1.4742 - val_accuracy: 0.4166\n",
            "Epoch 74/120\n",
            "9484/9484 [==============================] - 30s 3ms/step - loss: 1.2271 - accuracy: 0.4141 - val_loss: 1.4742 - val_accuracy: 0.4166\n",
            "Epoch 75/120\n",
            "9484/9484 [==============================] - 30s 3ms/step - loss: 1.2271 - accuracy: 0.4141 - val_loss: 1.4743 - val_accuracy: 0.4166\n",
            "Epoch 76/120\n",
            "9484/9484 [==============================] - 29s 3ms/step - loss: 1.2271 - accuracy: 0.4141 - val_loss: 1.4742 - val_accuracy: 0.4166\n",
            "Epoch 77/120\n",
            "9484/9484 [==============================] - 30s 3ms/step - loss: 1.2271 - accuracy: 0.4141 - val_loss: 1.4743 - val_accuracy: 0.4166\n",
            "Epoch 78/120\n",
            "9484/9484 [==============================] - 31s 3ms/step - loss: 1.2271 - accuracy: 0.4141 - val_loss: 1.4742 - val_accuracy: 0.4166\n",
            "Epoch 79/120\n",
            "9484/9484 [==============================] - 31s 3ms/step - loss: 1.2271 - accuracy: 0.4141 - val_loss: 1.4742 - val_accuracy: 0.4166\n",
            "Epoch 80/120\n",
            "9484/9484 [==============================] - 32s 3ms/step - loss: 1.2271 - accuracy: 0.4141 - val_loss: 1.4742 - val_accuracy: 0.4166\n",
            "Epoch 81/120\n",
            "9484/9484 [==============================] - 32s 3ms/step - loss: 1.7650 - accuracy: 0.4141 - val_loss: 1.5058 - val_accuracy: 0.4166\n",
            "Epoch 82/120\n",
            "9484/9484 [==============================] - 32s 3ms/step - loss: 1.2271 - accuracy: 0.4141 - val_loss: 1.5058 - val_accuracy: 0.4166\n",
            "Epoch 83/120\n",
            "9484/9484 [==============================] - 30s 3ms/step - loss: 1.2271 - accuracy: 0.4141 - val_loss: 1.5059 - val_accuracy: 0.4166\n",
            "Epoch 84/120\n",
            "9484/9484 [==============================] - 30s 3ms/step - loss: 1.2271 - accuracy: 0.4141 - val_loss: 1.5058 - val_accuracy: 0.4166\n",
            "Epoch 85/120\n",
            "9484/9484 [==============================] - 30s 3ms/step - loss: 1.2995 - accuracy: 0.4141 - val_loss: 1.5174 - val_accuracy: 0.4166\n",
            "Epoch 86/120\n",
            "9484/9484 [==============================] - 31s 3ms/step - loss: 1.2326 - accuracy: 0.4141 - val_loss: 1.4886 - val_accuracy: 0.4166\n",
            "Epoch 87/120\n",
            "9484/9484 [==============================] - 30s 3ms/step - loss: 1.2271 - accuracy: 0.4141 - val_loss: 1.4884 - val_accuracy: 0.4166\n",
            "Epoch 88/120\n",
            "9484/9484 [==============================] - 29s 3ms/step - loss: 78.4752 - accuracy: 0.4141 - val_loss: 1.4740 - val_accuracy: 0.4166\n",
            "Epoch 89/120\n",
            "9484/9484 [==============================] - 30s 3ms/step - loss: 1.2271 - accuracy: 0.4141 - val_loss: 1.4741 - val_accuracy: 0.4166\n",
            "Epoch 90/120\n",
            "9484/9484 [==============================] - 30s 3ms/step - loss: 1.2271 - accuracy: 0.4141 - val_loss: 1.4226 - val_accuracy: 0.4166\n",
            "Epoch 91/120\n",
            "9484/9484 [==============================] - 30s 3ms/step - loss: 1.2277 - accuracy: 0.4141 - val_loss: 1.4655 - val_accuracy: 0.4166\n",
            "Epoch 92/120\n",
            "9484/9484 [==============================] - 28s 3ms/step - loss: 1.2320 - accuracy: 0.4141 - val_loss: 1.4297 - val_accuracy: 0.4166\n",
            "Epoch 93/120\n",
            "9484/9484 [==============================] - 29s 3ms/step - loss: 1.2293 - accuracy: 0.4141 - val_loss: 1.4119 - val_accuracy: 0.4166\n",
            "Epoch 94/120\n",
            "9484/9484 [==============================] - 30s 3ms/step - loss: 1.2272 - accuracy: 0.4141 - val_loss: 1.4119 - val_accuracy: 0.4166\n",
            "Epoch 95/120\n",
            "9484/9484 [==============================] - 32s 3ms/step - loss: 1.2271 - accuracy: 0.4141 - val_loss: 1.4119 - val_accuracy: 0.4166\n",
            "Epoch 96/120\n",
            "9484/9484 [==============================] - 31s 3ms/step - loss: 1.2271 - accuracy: 0.4141 - val_loss: 1.4119 - val_accuracy: 0.4166\n",
            "Epoch 97/120\n",
            "9484/9484 [==============================] - 30s 3ms/step - loss: 1.2278 - accuracy: 0.4141 - val_loss: 1.4276 - val_accuracy: 0.4166\n",
            "Epoch 98/120\n",
            "9484/9484 [==============================] - 30s 3ms/step - loss: 1.2271 - accuracy: 0.4141 - val_loss: 1.4278 - val_accuracy: 0.4166\n",
            "Epoch 99/120\n",
            "9484/9484 [==============================] - 30s 3ms/step - loss: 1.2271 - accuracy: 0.4141 - val_loss: 1.4276 - val_accuracy: 0.4166\n",
            "Epoch 100/120\n",
            "9484/9484 [==============================] - 29s 3ms/step - loss: 1.2271 - accuracy: 0.4141 - val_loss: 1.4277 - val_accuracy: 0.4166\n",
            "Epoch 101/120\n",
            "9484/9484 [==============================] - 32s 3ms/step - loss: 1.2271 - accuracy: 0.4141 - val_loss: 1.4277 - val_accuracy: 0.4166\n",
            "Epoch 102/120\n",
            "9484/9484 [==============================] - 30s 3ms/step - loss: 1.2271 - accuracy: 0.4141 - val_loss: 1.4278 - val_accuracy: 0.4166\n",
            "Epoch 103/120\n",
            "9484/9484 [==============================] - 32s 3ms/step - loss: 1.2271 - accuracy: 0.4141 - val_loss: 1.4276 - val_accuracy: 0.4166\n",
            "Epoch 104/120\n",
            "9484/9484 [==============================] - 30s 3ms/step - loss: 1.2271 - accuracy: 0.4141 - val_loss: 1.4276 - val_accuracy: 0.4166\n",
            "Epoch 105/120\n",
            "9484/9484 [==============================] - 31s 3ms/step - loss: 1.2271 - accuracy: 0.4141 - val_loss: 1.4277 - val_accuracy: 0.4166\n",
            "Epoch 106/120\n",
            "9484/9484 [==============================] - 30s 3ms/step - loss: 1.2271 - accuracy: 0.4141 - val_loss: 1.4276 - val_accuracy: 0.4166\n",
            "Epoch 107/120\n",
            "9484/9484 [==============================] - 31s 3ms/step - loss: 1.2271 - accuracy: 0.4141 - val_loss: 1.4276 - val_accuracy: 0.4166\n",
            "Epoch 108/120\n",
            "9484/9484 [==============================] - 29s 3ms/step - loss: 1.2271 - accuracy: 0.4141 - val_loss: 1.4279 - val_accuracy: 0.4166\n",
            "Epoch 109/120\n",
            "9484/9484 [==============================] - 32s 3ms/step - loss: 1.2271 - accuracy: 0.4141 - val_loss: 1.4276 - val_accuracy: 0.4166\n",
            "Epoch 110/120\n",
            "9484/9484 [==============================] - 32s 3ms/step - loss: 1.2271 - accuracy: 0.4141 - val_loss: 1.4277 - val_accuracy: 0.4166\n",
            "Epoch 111/120\n",
            "9484/9484 [==============================] - 32s 3ms/step - loss: 1.2271 - accuracy: 0.4141 - val_loss: 1.4277 - val_accuracy: 0.4166\n",
            "Epoch 112/120\n",
            "9484/9484 [==============================] - 33s 3ms/step - loss: 1.2271 - accuracy: 0.4141 - val_loss: 1.4400 - val_accuracy: 0.4166\n",
            "Epoch 113/120\n",
            "9484/9484 [==============================] - 30s 3ms/step - loss: 1.2271 - accuracy: 0.4141 - val_loss: 1.4400 - val_accuracy: 0.4166\n",
            "Epoch 114/120\n",
            "9484/9484 [==============================] - 31s 3ms/step - loss: 1.2286 - accuracy: 0.4141 - val_loss: 1.3818 - val_accuracy: 0.4166\n",
            "Epoch 115/120\n",
            "9484/9484 [==============================] - 30s 3ms/step - loss: 1.2271 - accuracy: 0.4141 - val_loss: 1.3818 - val_accuracy: 0.4166\n",
            "Epoch 116/120\n",
            "9484/9484 [==============================] - 30s 3ms/step - loss: 1.2271 - accuracy: 0.4141 - val_loss: 1.3818 - val_accuracy: 0.4166\n",
            "Epoch 117/120\n",
            "9484/9484 [==============================] - 30s 3ms/step - loss: 1.2271 - accuracy: 0.4141 - val_loss: 1.3818 - val_accuracy: 0.4166\n",
            "Epoch 118/120\n",
            "9484/9484 [==============================] - 29s 3ms/step - loss: 3604.6436 - accuracy: 0.4141 - val_loss: 1.2544 - val_accuracy: 0.4166\n",
            "Epoch 119/120\n",
            "9484/9484 [==============================] - 30s 3ms/step - loss: 1.2271 - accuracy: 0.4141 - val_loss: 1.2544 - val_accuracy: 0.4166\n",
            "Epoch 120/120\n",
            "9484/9484 [==============================] - 30s 3ms/step - loss: 1.2271 - accuracy: 0.4141 - val_loss: 1.2543 - val_accuracy: 0.4166\n"
          ]
        },
        {
          "output_type": "execute_result",
          "data": {
            "text/plain": [
              "<keras.callbacks.History at 0x7fd7096af400>"
            ]
          },
          "metadata": {},
          "execution_count": 68
        }
      ]
    },
    {
      "cell_type": "code",
      "source": [
        "rclf = RandomForestClassifier()\n",
        "rclf.fit(X_train, y_train)\n",
        "rclf.score(X_test, y_test)"
      ],
      "metadata": {
        "colab": {
          "base_uri": "https://localhost:8080/"
        },
        "id": "IN2zp2ILkKHI",
        "outputId": "4b0c364f-cf2b-46b3-a945-0aee407bc68b"
      },
      "execution_count": 69,
      "outputs": [
        {
          "output_type": "execute_result",
          "data": {
            "text/plain": [
              "0.5263054298006354"
            ]
          },
          "metadata": {},
          "execution_count": 69
        }
      ]
    },
    {
      "cell_type": "code",
      "source": [
        "rclf.predict([X_test[132]])"
      ],
      "metadata": {
        "colab": {
          "base_uri": "https://localhost:8080/"
        },
        "id": "pbRwQFDiyQyF",
        "outputId": "e2826697-9a72-4b53-eab8-f196ca731d78"
      },
      "execution_count": 75,
      "outputs": [
        {
          "output_type": "execute_result",
          "data": {
            "text/plain": [
              "array([0])"
            ]
          },
          "metadata": {},
          "execution_count": 75
        }
      ]
    },
    {
      "cell_type": "code",
      "source": [],
      "metadata": {
        "id": "xB7rxRyf0ALs"
      },
      "execution_count": null,
      "outputs": []
    }
  ],
  "metadata": {
    "colab": {
      "provenance": []
    },
    "gpuClass": "standard",
    "kernelspec": {
      "display_name": "Python 3",
      "name": "python3"
    },
    "language_info": {
      "name": "python"
    },
    "accelerator": "TPU"
  },
  "nbformat": 4,
  "nbformat_minor": 0
}