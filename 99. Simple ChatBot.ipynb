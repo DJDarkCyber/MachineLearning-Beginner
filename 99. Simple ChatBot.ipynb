{
  "cells": [
    {
      "cell_type": "code",
      "execution_count": 1,
      "metadata": {
        "id": "Wc3fKh2CiSkP",
        "colab": {
          "base_uri": "https://localhost:8080/"
        },
        "outputId": "cfd4ceae-d552-4f06-c0b4-5998e8e7b462"
      },
      "outputs": [
        {
          "output_type": "stream",
          "name": "stdout",
          "text": [
            "Downloading chatbot-dataset.zip to /content\n",
            "\n"
          ]
        },
        {
          "output_type": "stream",
          "name": "stderr",
          "text": [
            "\r  0%|          | 0.00/4.57k [00:00<?, ?B/s]\r100%|██████████| 4.57k/4.57k [00:00<00:00, 3.70MB/s]\n"
          ]
        }
      ],
      "source": [
        "%%bash\n",
        "\n",
        "pip install -q kaggle\n",
        "mkdir -p ~/.kaggle\n",
        "cp drive/MyDrive/kaggle.json ~/.kaggle/\n",
        "chmod 600 /root/.kaggle/kaggle.json\n",
        "kaggle datasets download -d niraliivaghani/chatbot-dataset\n",
        "unzip -qq chatbot-dataset.zip"
      ]
    },
    {
      "cell_type": "code",
      "source": [
        "!pip install numpy==1.22.0"
      ],
      "metadata": {
        "colab": {
          "base_uri": "https://localhost:8080/",
          "height": 279
        },
        "id": "Ylks022lYF5P",
        "outputId": "5d71542c-7181-4867-9960-63ab76698b9f"
      },
      "execution_count": 19,
      "outputs": [
        {
          "output_type": "stream",
          "name": "stdout",
          "text": [
            "Looking in indexes: https://pypi.org/simple, https://us-python.pkg.dev/colab-wheels/public/simple/\n",
            "Collecting numpy==1.22.0\n",
            "  Downloading numpy-1.22.0-cp38-cp38-manylinux_2_17_x86_64.manylinux2014_x86_64.whl (16.8 MB)\n",
            "\u001b[2K     \u001b[90m━━━━━━━━━━━━━━━━━━━━━━━━━━━━━━━━━━━━━━━━\u001b[0m \u001b[32m16.8/16.8 MB\u001b[0m \u001b[31m40.7 MB/s\u001b[0m eta \u001b[36m0:00:00\u001b[0m\n",
            "\u001b[?25hInstalling collected packages: numpy\n",
            "  Attempting uninstall: numpy\n",
            "    Found existing installation: numpy 1.24.2\n",
            "    Uninstalling numpy-1.24.2:\n",
            "      Successfully uninstalled numpy-1.24.2\n",
            "Successfully installed numpy-1.22.0\n"
          ]
        },
        {
          "output_type": "display_data",
          "data": {
            "application/vnd.colab-display-data+json": {
              "pip_warning": {
                "packages": [
                  "numpy"
                ]
              }
            }
          },
          "metadata": {}
        }
      ]
    },
    {
      "cell_type": "markdown",
      "source": [
        "# ChatBot"
      ],
      "metadata": {
        "id": "XSQIynLCTX8Y"
      }
    },
    {
      "cell_type": "code",
      "source": [
        "import nltk\n",
        "nltk.download(\"punkt\")"
      ],
      "metadata": {
        "colab": {
          "base_uri": "https://localhost:8080/"
        },
        "id": "qwzRuzbyTLiW",
        "outputId": "cd4e390c-c1d5-48d9-c0cb-62f5d6408a9f"
      },
      "execution_count": 1,
      "outputs": [
        {
          "output_type": "stream",
          "name": "stderr",
          "text": [
            "[nltk_data] Downloading package punkt to /root/nltk_data...\n",
            "[nltk_data]   Package punkt is already up-to-date!\n"
          ]
        },
        {
          "output_type": "execute_result",
          "data": {
            "text/plain": [
              "True"
            ]
          },
          "metadata": {},
          "execution_count": 1
        }
      ]
    },
    {
      "cell_type": "code",
      "source": [
        "from nltk.stem import WordNetLemmatizer\n",
        "lemmatizer = WordNetLemmatizer()\n",
        "import json\n",
        "import pickle\n",
        "import warnings\n",
        "warnings.filterwarnings(\"ignore\")"
      ],
      "metadata": {
        "id": "LLDYW6WcTcUk"
      },
      "execution_count": 2,
      "outputs": []
    },
    {
      "cell_type": "code",
      "source": [
        "import numpy as np\n",
        "import tensorflow as tf\n",
        "from keras.models import Sequential\n",
        "from keras.layers import Dense, Activation, Dropout\n",
        "from tensorflow.keras.optimizers import SGD\n",
        "import random"
      ],
      "metadata": {
        "id": "SAQ4InirTtmd"
      },
      "execution_count": 3,
      "outputs": []
    },
    {
      "cell_type": "code",
      "source": [
        "words = []\n",
        "classes = []\n",
        "documents = []\n",
        "ignore_words = ['?', '!']\n",
        "data_file = open(\"intents.json\").read()\n",
        "intents = json.loads(data_file)"
      ],
      "metadata": {
        "id": "zKjypMofT59F"
      },
      "execution_count": 4,
      "outputs": []
    },
    {
      "cell_type": "code",
      "source": [
        "for intent in intents['intents']:\n",
        "  for pattern in intent['patterns']:\n",
        "    w = nltk.word_tokenize(pattern)\n",
        "    words.extend(w)\n",
        "    documents.append((w, intent['tag']))\n",
        "    if intent['tag'] not in classes:\n",
        "      classes.append(intent['tag'])"
      ],
      "metadata": {
        "id": "8gyOQQ3kUQpl"
      },
      "execution_count": 5,
      "outputs": []
    },
    {
      "cell_type": "code",
      "source": [
        "nltk.download('wordnet')"
      ],
      "metadata": {
        "colab": {
          "base_uri": "https://localhost:8080/"
        },
        "id": "HJdiA21_UrQ5",
        "outputId": "9f198c52-dc8b-42c8-d9c1-37f373f5a985"
      },
      "execution_count": 6,
      "outputs": [
        {
          "output_type": "stream",
          "name": "stderr",
          "text": [
            "[nltk_data] Downloading package wordnet to /root/nltk_data...\n",
            "[nltk_data]   Package wordnet is already up-to-date!\n"
          ]
        },
        {
          "output_type": "execute_result",
          "data": {
            "text/plain": [
              "True"
            ]
          },
          "metadata": {},
          "execution_count": 6
        }
      ]
    },
    {
      "cell_type": "code",
      "source": [
        "nltk.download('omw-1.4')"
      ],
      "metadata": {
        "colab": {
          "base_uri": "https://localhost:8080/"
        },
        "id": "OZMV3XoeUuX9",
        "outputId": "da07be7a-54ab-4e5d-9c7a-1d3c95e9ecf5"
      },
      "execution_count": 7,
      "outputs": [
        {
          "output_type": "stream",
          "name": "stderr",
          "text": [
            "[nltk_data] Downloading package omw-1.4 to /root/nltk_data...\n",
            "[nltk_data]   Package omw-1.4 is already up-to-date!\n"
          ]
        },
        {
          "output_type": "execute_result",
          "data": {
            "text/plain": [
              "True"
            ]
          },
          "metadata": {},
          "execution_count": 7
        }
      ]
    },
    {
      "cell_type": "code",
      "source": [
        "words = [lemmatizer.lemmatize(w.lower()) for w in words if w not in ignore_words]\n",
        "words = sorted(list(set(words)))\n",
        "\n",
        "classes = sorted(list(set(classes)))\n",
        "\n",
        "print(len(documents), \"documents\\n\")\n",
        "print(len(classes), \"classes\\n\")\n",
        "print(len(words), \"words\\n\")"
      ],
      "metadata": {
        "colab": {
          "base_uri": "https://localhost:8080/"
        },
        "id": "kLHkqIUVUzHN",
        "outputId": "f8c6fd67-f09b-40be-c9f3-076cdd09f682"
      },
      "execution_count": 8,
      "outputs": [
        {
          "output_type": "stream",
          "name": "stdout",
          "text": [
            "405 documents\n",
            "\n",
            "38 classes\n",
            "\n",
            "263 words\n",
            "\n"
          ]
        }
      ]
    },
    {
      "cell_type": "code",
      "source": [
        "training = []\n",
        "output_empty = [0]*len(classes)\n",
        "for doc in documents:\n",
        "  bag = []\n",
        "  pattern_words = doc[0]\n",
        "  pattern_words = [lemmatizer.lemmatize(word.lower()) for word in pattern_words]\n",
        "  for w in words:\n",
        "    bag.append(1) if w in pattern_words else bag.append(0)\n",
        "  \n",
        "  output_row = list(output_empty)\n",
        "  output_row[classes.index(doc[1])] = 1\n",
        "\n",
        "  training.append([bag, output_row])\n",
        "\n",
        "random.shuffle(training)\n",
        "training = np.array(training)\n",
        "train_x = list(training[:,0])\n",
        "train_y = list(training[:,1])"
      ],
      "metadata": {
        "id": "zyw6zRX0VQPk"
      },
      "execution_count": 9,
      "outputs": []
    },
    {
      "cell_type": "code",
      "source": [
        "from tensorflow.python.framework import ops\n",
        "ops.reset_default_graph()"
      ],
      "metadata": {
        "id": "cQfuVk98W05A"
      },
      "execution_count": 10,
      "outputs": []
    },
    {
      "cell_type": "code",
      "source": [
        "model = Sequential()\n",
        "model.add(Dense(128, input_shape=(len(train_x[0]),), activation='relu'))\n",
        "model.add(Dropout(0.5))\n",
        "model.add(Dense(64, activation='relu'))\n",
        "model.add(Dropout(0.5))\n",
        "model.add(Dense(len(train_y[0]), activation='softmax'))\n",
        "print(\"First layer:\",model.layers[0].get_weights()[0])"
      ],
      "metadata": {
        "colab": {
          "base_uri": "https://localhost:8080/"
        },
        "id": "J_KAs-4RXAZh",
        "outputId": "1dc32679-5f27-4271-b874-30c407ab3bfa"
      },
      "execution_count": 11,
      "outputs": [
        {
          "output_type": "stream",
          "name": "stdout",
          "text": [
            "First layer: [[ 0.03205031  0.08531244 -0.06309965 ...  0.08186147 -0.05852892\n",
            "   0.09290114]\n",
            " [ 0.09152608  0.09418271 -0.05921996 ... -0.11429558 -0.05916461\n",
            "  -0.04671075]\n",
            " [-0.0646461   0.11523382  0.07645094 ... -0.12252311  0.02847259\n",
            "   0.07154182]\n",
            " ...\n",
            " [ 0.01778197 -0.06809869 -0.01124866 ... -0.10066418 -0.08806796\n",
            "  -0.09503219]\n",
            " [-0.10582235 -0.09668859  0.10338338 ... -0.04032451 -0.00364666\n",
            "   0.12162335]\n",
            " [ 0.04961395  0.01031378  0.08745095 ... -0.04932238 -0.11255949\n",
            "   0.12369314]]\n"
          ]
        }
      ]
    },
    {
      "cell_type": "code",
      "source": [
        "model.compile(loss='categorical_crossentropy', optimizer='adam', metrics=['accuracy'])"
      ],
      "metadata": {
        "id": "boJsUJvAYpZ5"
      },
      "execution_count": 12,
      "outputs": []
    },
    {
      "cell_type": "code",
      "source": [
        "hist = model.fit(np.array(train_x), np.array(train_y), epochs=200, batch_size=5, verbose=1)\n",
        "model.save('chatbot_model.h5', hist)\n",
        "\n",
        "print(\"model created\")"
      ],
      "metadata": {
        "colab": {
          "base_uri": "https://localhost:8080/"
        },
        "id": "-PrntH0MYzmD",
        "outputId": "f36eee4d-f98b-4ad0-b7cb-b2fe5c892bcf"
      },
      "execution_count": 13,
      "outputs": [
        {
          "output_type": "stream",
          "name": "stdout",
          "text": [
            "Epoch 1/200\n",
            "81/81 [==============================] - 2s 3ms/step - loss: 3.5817 - accuracy: 0.0716\n",
            "Epoch 2/200\n",
            "81/81 [==============================] - 0s 2ms/step - loss: 3.4358 - accuracy: 0.1358\n",
            "Epoch 3/200\n",
            "81/81 [==============================] - 0s 2ms/step - loss: 3.2556 - accuracy: 0.1901\n",
            "Epoch 4/200\n",
            "81/81 [==============================] - 0s 3ms/step - loss: 2.9589 - accuracy: 0.2346\n",
            "Epoch 5/200\n",
            "81/81 [==============================] - 0s 2ms/step - loss: 2.7040 - accuracy: 0.3160\n",
            "Epoch 6/200\n",
            "81/81 [==============================] - 0s 3ms/step - loss: 2.4405 - accuracy: 0.3827\n",
            "Epoch 7/200\n",
            "81/81 [==============================] - 0s 3ms/step - loss: 2.2088 - accuracy: 0.4494\n",
            "Epoch 8/200\n",
            "81/81 [==============================] - 0s 2ms/step - loss: 2.0013 - accuracy: 0.4938\n",
            "Epoch 9/200\n",
            "81/81 [==============================] - 0s 2ms/step - loss: 1.8006 - accuracy: 0.5333\n",
            "Epoch 10/200\n",
            "81/81 [==============================] - 0s 2ms/step - loss: 1.6233 - accuracy: 0.5926\n",
            "Epoch 11/200\n",
            "81/81 [==============================] - 0s 3ms/step - loss: 1.5132 - accuracy: 0.6000\n",
            "Epoch 12/200\n",
            "81/81 [==============================] - 0s 3ms/step - loss: 1.3657 - accuracy: 0.6519\n",
            "Epoch 13/200\n",
            "81/81 [==============================] - 0s 3ms/step - loss: 1.2113 - accuracy: 0.7062\n",
            "Epoch 14/200\n",
            "81/81 [==============================] - 0s 3ms/step - loss: 1.1509 - accuracy: 0.7062\n",
            "Epoch 15/200\n",
            "81/81 [==============================] - 0s 3ms/step - loss: 1.0617 - accuracy: 0.7210\n",
            "Epoch 16/200\n",
            "81/81 [==============================] - 0s 3ms/step - loss: 0.9655 - accuracy: 0.7531\n",
            "Epoch 17/200\n",
            "81/81 [==============================] - 0s 3ms/step - loss: 0.8157 - accuracy: 0.8074\n",
            "Epoch 18/200\n",
            "81/81 [==============================] - 0s 2ms/step - loss: 0.8122 - accuracy: 0.7802\n",
            "Epoch 19/200\n",
            "81/81 [==============================] - 0s 3ms/step - loss: 0.7388 - accuracy: 0.8173\n",
            "Epoch 20/200\n",
            "81/81 [==============================] - 0s 3ms/step - loss: 0.7733 - accuracy: 0.7852\n",
            "Epoch 21/200\n",
            "81/81 [==============================] - 0s 3ms/step - loss: 0.7368 - accuracy: 0.8000\n",
            "Epoch 22/200\n",
            "81/81 [==============================] - 0s 4ms/step - loss: 0.6207 - accuracy: 0.8420\n",
            "Epoch 23/200\n",
            "81/81 [==============================] - 0s 4ms/step - loss: 0.6116 - accuracy: 0.8395\n",
            "Epoch 24/200\n",
            "81/81 [==============================] - 0s 4ms/step - loss: 0.6017 - accuracy: 0.8568\n",
            "Epoch 25/200\n",
            "81/81 [==============================] - 0s 4ms/step - loss: 0.4829 - accuracy: 0.8765\n",
            "Epoch 26/200\n",
            "81/81 [==============================] - 0s 4ms/step - loss: 0.4507 - accuracy: 0.8963\n",
            "Epoch 27/200\n",
            "81/81 [==============================] - 0s 4ms/step - loss: 0.4689 - accuracy: 0.8938\n",
            "Epoch 28/200\n",
            "81/81 [==============================] - 0s 4ms/step - loss: 0.5087 - accuracy: 0.8469\n",
            "Epoch 29/200\n",
            "81/81 [==============================] - 0s 4ms/step - loss: 0.4217 - accuracy: 0.8938\n",
            "Epoch 30/200\n",
            "81/81 [==============================] - 0s 4ms/step - loss: 0.4485 - accuracy: 0.9012\n",
            "Epoch 31/200\n",
            "81/81 [==============================] - 0s 4ms/step - loss: 0.4429 - accuracy: 0.8988\n",
            "Epoch 32/200\n",
            "81/81 [==============================] - 0s 4ms/step - loss: 0.4222 - accuracy: 0.8938\n",
            "Epoch 33/200\n",
            "81/81 [==============================] - 0s 4ms/step - loss: 0.4117 - accuracy: 0.8938\n",
            "Epoch 34/200\n",
            "81/81 [==============================] - 0s 4ms/step - loss: 0.3168 - accuracy: 0.9235\n",
            "Epoch 35/200\n",
            "81/81 [==============================] - 0s 5ms/step - loss: 0.3583 - accuracy: 0.9111\n",
            "Epoch 36/200\n",
            "81/81 [==============================] - 0s 5ms/step - loss: 0.3272 - accuracy: 0.9086\n",
            "Epoch 37/200\n",
            "81/81 [==============================] - 0s 4ms/step - loss: 0.3001 - accuracy: 0.9259\n",
            "Epoch 38/200\n",
            "81/81 [==============================] - 0s 5ms/step - loss: 0.3041 - accuracy: 0.9284\n",
            "Epoch 39/200\n",
            "81/81 [==============================] - 0s 4ms/step - loss: 0.3011 - accuracy: 0.9136\n",
            "Epoch 40/200\n",
            "81/81 [==============================] - 0s 3ms/step - loss: 0.3039 - accuracy: 0.9185\n",
            "Epoch 41/200\n",
            "81/81 [==============================] - 0s 2ms/step - loss: 0.3147 - accuracy: 0.9136\n",
            "Epoch 42/200\n",
            "81/81 [==============================] - 0s 3ms/step - loss: 0.2763 - accuracy: 0.9235\n",
            "Epoch 43/200\n",
            "81/81 [==============================] - 0s 2ms/step - loss: 0.2402 - accuracy: 0.9481\n",
            "Epoch 44/200\n",
            "81/81 [==============================] - 0s 2ms/step - loss: 0.2442 - accuracy: 0.9383\n",
            "Epoch 45/200\n",
            "81/81 [==============================] - 0s 2ms/step - loss: 0.2860 - accuracy: 0.9284\n",
            "Epoch 46/200\n",
            "81/81 [==============================] - 0s 2ms/step - loss: 0.2140 - accuracy: 0.9556\n",
            "Epoch 47/200\n",
            "81/81 [==============================] - 0s 3ms/step - loss: 0.2276 - accuracy: 0.9407\n",
            "Epoch 48/200\n",
            "81/81 [==============================] - 0s 3ms/step - loss: 0.2408 - accuracy: 0.9383\n",
            "Epoch 49/200\n",
            "81/81 [==============================] - 0s 2ms/step - loss: 0.3122 - accuracy: 0.9062\n",
            "Epoch 50/200\n",
            "81/81 [==============================] - 0s 2ms/step - loss: 0.1999 - accuracy: 0.9531\n",
            "Epoch 51/200\n",
            "81/81 [==============================] - 0s 3ms/step - loss: 0.2419 - accuracy: 0.9457\n",
            "Epoch 52/200\n",
            "81/81 [==============================] - 0s 3ms/step - loss: 0.2233 - accuracy: 0.9383\n",
            "Epoch 53/200\n",
            "81/81 [==============================] - 0s 2ms/step - loss: 0.2154 - accuracy: 0.9457\n",
            "Epoch 54/200\n",
            "81/81 [==============================] - 0s 2ms/step - loss: 0.1733 - accuracy: 0.9605\n",
            "Epoch 55/200\n",
            "81/81 [==============================] - 0s 2ms/step - loss: 0.2249 - accuracy: 0.9432\n",
            "Epoch 56/200\n",
            "81/81 [==============================] - 0s 3ms/step - loss: 0.2017 - accuracy: 0.9481\n",
            "Epoch 57/200\n",
            "81/81 [==============================] - 0s 2ms/step - loss: 0.2225 - accuracy: 0.9185\n",
            "Epoch 58/200\n",
            "81/81 [==============================] - 0s 2ms/step - loss: 0.2217 - accuracy: 0.9333\n",
            "Epoch 59/200\n",
            "81/81 [==============================] - 0s 2ms/step - loss: 0.1810 - accuracy: 0.9531\n",
            "Epoch 60/200\n",
            "81/81 [==============================] - 0s 2ms/step - loss: 0.1692 - accuracy: 0.9679\n",
            "Epoch 61/200\n",
            "81/81 [==============================] - 0s 3ms/step - loss: 0.1909 - accuracy: 0.9506\n",
            "Epoch 62/200\n",
            "81/81 [==============================] - 0s 2ms/step - loss: 0.1935 - accuracy: 0.9358\n",
            "Epoch 63/200\n",
            "81/81 [==============================] - 0s 2ms/step - loss: 0.1633 - accuracy: 0.9605\n",
            "Epoch 64/200\n",
            "81/81 [==============================] - 0s 2ms/step - loss: 0.2155 - accuracy: 0.9284\n",
            "Epoch 65/200\n",
            "81/81 [==============================] - 0s 2ms/step - loss: 0.1861 - accuracy: 0.9481\n",
            "Epoch 66/200\n",
            "81/81 [==============================] - 0s 3ms/step - loss: 0.1449 - accuracy: 0.9630\n",
            "Epoch 67/200\n",
            "81/81 [==============================] - 0s 2ms/step - loss: 0.1791 - accuracy: 0.9506\n",
            "Epoch 68/200\n",
            "81/81 [==============================] - 0s 3ms/step - loss: 0.1717 - accuracy: 0.9531\n",
            "Epoch 69/200\n",
            "81/81 [==============================] - 0s 2ms/step - loss: 0.1737 - accuracy: 0.9457\n",
            "Epoch 70/200\n",
            "81/81 [==============================] - 0s 2ms/step - loss: 0.1608 - accuracy: 0.9556\n",
            "Epoch 71/200\n",
            "81/81 [==============================] - 0s 3ms/step - loss: 0.1600 - accuracy: 0.9556\n",
            "Epoch 72/200\n",
            "81/81 [==============================] - 0s 3ms/step - loss: 0.1242 - accuracy: 0.9580\n",
            "Epoch 73/200\n",
            "81/81 [==============================] - 0s 3ms/step - loss: 0.1296 - accuracy: 0.9506\n",
            "Epoch 74/200\n",
            "81/81 [==============================] - 0s 2ms/step - loss: 0.1664 - accuracy: 0.9531\n",
            "Epoch 75/200\n",
            "81/81 [==============================] - 0s 3ms/step - loss: 0.1400 - accuracy: 0.9605\n",
            "Epoch 76/200\n",
            "81/81 [==============================] - 0s 3ms/step - loss: 0.1438 - accuracy: 0.9531\n",
            "Epoch 77/200\n",
            "81/81 [==============================] - 0s 2ms/step - loss: 0.1514 - accuracy: 0.9506\n",
            "Epoch 78/200\n",
            "81/81 [==============================] - 0s 3ms/step - loss: 0.1543 - accuracy: 0.9407\n",
            "Epoch 79/200\n",
            "81/81 [==============================] - 0s 2ms/step - loss: 0.1178 - accuracy: 0.9654\n",
            "Epoch 80/200\n",
            "81/81 [==============================] - 0s 2ms/step - loss: 0.1312 - accuracy: 0.9654\n",
            "Epoch 81/200\n",
            "81/81 [==============================] - 0s 3ms/step - loss: 0.1505 - accuracy: 0.9605\n",
            "Epoch 82/200\n",
            "81/81 [==============================] - 0s 2ms/step - loss: 0.1773 - accuracy: 0.9383\n",
            "Epoch 83/200\n",
            "81/81 [==============================] - 0s 3ms/step - loss: 0.1397 - accuracy: 0.9556\n",
            "Epoch 84/200\n",
            "81/81 [==============================] - 0s 3ms/step - loss: 0.1426 - accuracy: 0.9556\n",
            "Epoch 85/200\n",
            "81/81 [==============================] - 0s 3ms/step - loss: 0.1378 - accuracy: 0.9580\n",
            "Epoch 86/200\n",
            "81/81 [==============================] - 0s 4ms/step - loss: 0.1304 - accuracy: 0.9704\n",
            "Epoch 87/200\n",
            "81/81 [==============================] - 0s 5ms/step - loss: 0.1266 - accuracy: 0.9630\n",
            "Epoch 88/200\n",
            "81/81 [==============================] - 0s 4ms/step - loss: 0.1344 - accuracy: 0.9506\n",
            "Epoch 89/200\n",
            "81/81 [==============================] - 0s 4ms/step - loss: 0.1133 - accuracy: 0.9605\n",
            "Epoch 90/200\n",
            "81/81 [==============================] - 0s 4ms/step - loss: 0.0955 - accuracy: 0.9778\n",
            "Epoch 91/200\n",
            "81/81 [==============================] - 0s 5ms/step - loss: 0.1567 - accuracy: 0.9333\n",
            "Epoch 92/200\n",
            "81/81 [==============================] - 0s 4ms/step - loss: 0.1520 - accuracy: 0.9506\n",
            "Epoch 93/200\n",
            "81/81 [==============================] - 0s 4ms/step - loss: 0.1252 - accuracy: 0.9630\n",
            "Epoch 94/200\n",
            "81/81 [==============================] - 0s 4ms/step - loss: 0.1000 - accuracy: 0.9728\n",
            "Epoch 95/200\n",
            "81/81 [==============================] - 0s 4ms/step - loss: 0.1134 - accuracy: 0.9728\n",
            "Epoch 96/200\n",
            "81/81 [==============================] - 0s 4ms/step - loss: 0.1394 - accuracy: 0.9506\n",
            "Epoch 97/200\n",
            "81/81 [==============================] - 0s 4ms/step - loss: 0.1441 - accuracy: 0.9556\n",
            "Epoch 98/200\n",
            "81/81 [==============================] - 0s 4ms/step - loss: 0.1297 - accuracy: 0.9630\n",
            "Epoch 99/200\n",
            "81/81 [==============================] - 0s 4ms/step - loss: 0.1149 - accuracy: 0.9630\n",
            "Epoch 100/200\n",
            "81/81 [==============================] - 0s 4ms/step - loss: 0.1068 - accuracy: 0.9778\n",
            "Epoch 101/200\n",
            "81/81 [==============================] - 0s 4ms/step - loss: 0.1232 - accuracy: 0.9679\n",
            "Epoch 102/200\n",
            "81/81 [==============================] - 0s 5ms/step - loss: 0.0858 - accuracy: 0.9728\n",
            "Epoch 103/200\n",
            "81/81 [==============================] - 0s 4ms/step - loss: 0.1039 - accuracy: 0.9704\n",
            "Epoch 104/200\n",
            "81/81 [==============================] - 0s 4ms/step - loss: 0.1221 - accuracy: 0.9556\n",
            "Epoch 105/200\n",
            "81/81 [==============================] - 0s 3ms/step - loss: 0.1139 - accuracy: 0.9753\n",
            "Epoch 106/200\n",
            "81/81 [==============================] - 0s 3ms/step - loss: 0.1014 - accuracy: 0.9704\n",
            "Epoch 107/200\n",
            "81/81 [==============================] - 0s 3ms/step - loss: 0.0977 - accuracy: 0.9679\n",
            "Epoch 108/200\n",
            "81/81 [==============================] - 0s 3ms/step - loss: 0.1146 - accuracy: 0.9605\n",
            "Epoch 109/200\n",
            "81/81 [==============================] - 0s 3ms/step - loss: 0.1171 - accuracy: 0.9728\n",
            "Epoch 110/200\n",
            "81/81 [==============================] - 0s 3ms/step - loss: 0.1118 - accuracy: 0.9630\n",
            "Epoch 111/200\n",
            "81/81 [==============================] - 0s 3ms/step - loss: 0.1014 - accuracy: 0.9605\n",
            "Epoch 112/200\n",
            "81/81 [==============================] - 0s 3ms/step - loss: 0.0957 - accuracy: 0.9753\n",
            "Epoch 113/200\n",
            "81/81 [==============================] - 0s 3ms/step - loss: 0.1224 - accuracy: 0.9556\n",
            "Epoch 114/200\n",
            "81/81 [==============================] - 0s 2ms/step - loss: 0.0953 - accuracy: 0.9778\n",
            "Epoch 115/200\n",
            "81/81 [==============================] - 0s 3ms/step - loss: 0.0843 - accuracy: 0.9728\n",
            "Epoch 116/200\n",
            "81/81 [==============================] - 0s 3ms/step - loss: 0.1203 - accuracy: 0.9654\n",
            "Epoch 117/200\n",
            "81/81 [==============================] - 0s 3ms/step - loss: 0.1358 - accuracy: 0.9531\n",
            "Epoch 118/200\n",
            "81/81 [==============================] - 0s 3ms/step - loss: 0.1176 - accuracy: 0.9679\n",
            "Epoch 119/200\n",
            "81/81 [==============================] - 0s 3ms/step - loss: 0.1217 - accuracy: 0.9679\n",
            "Epoch 120/200\n",
            "81/81 [==============================] - 0s 3ms/step - loss: 0.1037 - accuracy: 0.9679\n",
            "Epoch 121/200\n",
            "81/81 [==============================] - 0s 3ms/step - loss: 0.0729 - accuracy: 0.9852\n",
            "Epoch 122/200\n",
            "81/81 [==============================] - 0s 3ms/step - loss: 0.0674 - accuracy: 0.9802\n",
            "Epoch 123/200\n",
            "81/81 [==============================] - 0s 3ms/step - loss: 0.0907 - accuracy: 0.9704\n",
            "Epoch 124/200\n",
            "81/81 [==============================] - 0s 3ms/step - loss: 0.0871 - accuracy: 0.9778\n",
            "Epoch 125/200\n",
            "81/81 [==============================] - 0s 3ms/step - loss: 0.1076 - accuracy: 0.9556\n",
            "Epoch 126/200\n",
            "81/81 [==============================] - 0s 3ms/step - loss: 0.1024 - accuracy: 0.9704\n",
            "Epoch 127/200\n",
            "81/81 [==============================] - 0s 3ms/step - loss: 0.0674 - accuracy: 0.9802\n",
            "Epoch 128/200\n",
            "81/81 [==============================] - 0s 3ms/step - loss: 0.0919 - accuracy: 0.9753\n",
            "Epoch 129/200\n",
            "81/81 [==============================] - 0s 3ms/step - loss: 0.1005 - accuracy: 0.9679\n",
            "Epoch 130/200\n",
            "81/81 [==============================] - 0s 3ms/step - loss: 0.0807 - accuracy: 0.9728\n",
            "Epoch 131/200\n",
            "81/81 [==============================] - 0s 3ms/step - loss: 0.1057 - accuracy: 0.9630\n",
            "Epoch 132/200\n",
            "81/81 [==============================] - 0s 3ms/step - loss: 0.1060 - accuracy: 0.9753\n",
            "Epoch 133/200\n",
            "81/81 [==============================] - 0s 3ms/step - loss: 0.0955 - accuracy: 0.9704\n",
            "Epoch 134/200\n",
            "81/81 [==============================] - 0s 3ms/step - loss: 0.1114 - accuracy: 0.9580\n",
            "Epoch 135/200\n",
            "81/81 [==============================] - 0s 3ms/step - loss: 0.1147 - accuracy: 0.9580\n",
            "Epoch 136/200\n",
            "81/81 [==============================] - 0s 3ms/step - loss: 0.0970 - accuracy: 0.9679\n",
            "Epoch 137/200\n",
            "81/81 [==============================] - 0s 3ms/step - loss: 0.0773 - accuracy: 0.9802\n",
            "Epoch 138/200\n",
            "81/81 [==============================] - 0s 3ms/step - loss: 0.0581 - accuracy: 0.9852\n",
            "Epoch 139/200\n",
            "81/81 [==============================] - 0s 3ms/step - loss: 0.1114 - accuracy: 0.9605\n",
            "Epoch 140/200\n",
            "81/81 [==============================] - 0s 2ms/step - loss: 0.0795 - accuracy: 0.9778\n",
            "Epoch 141/200\n",
            "81/81 [==============================] - 0s 3ms/step - loss: 0.0792 - accuracy: 0.9753\n",
            "Epoch 142/200\n",
            "81/81 [==============================] - 0s 3ms/step - loss: 0.0643 - accuracy: 0.9852\n",
            "Epoch 143/200\n",
            "81/81 [==============================] - 0s 2ms/step - loss: 0.0732 - accuracy: 0.9753\n",
            "Epoch 144/200\n",
            "81/81 [==============================] - 0s 3ms/step - loss: 0.0730 - accuracy: 0.9753\n",
            "Epoch 145/200\n",
            "81/81 [==============================] - 0s 2ms/step - loss: 0.1093 - accuracy: 0.9679\n",
            "Epoch 146/200\n",
            "81/81 [==============================] - 0s 3ms/step - loss: 0.0742 - accuracy: 0.9778\n",
            "Epoch 147/200\n",
            "81/81 [==============================] - 0s 3ms/step - loss: 0.0991 - accuracy: 0.9654\n",
            "Epoch 148/200\n",
            "81/81 [==============================] - 0s 4ms/step - loss: 0.0664 - accuracy: 0.9802\n",
            "Epoch 149/200\n",
            "81/81 [==============================] - 0s 4ms/step - loss: 0.1198 - accuracy: 0.9728\n",
            "Epoch 150/200\n",
            "81/81 [==============================] - 0s 5ms/step - loss: 0.0645 - accuracy: 0.9802\n",
            "Epoch 151/200\n",
            "81/81 [==============================] - 0s 4ms/step - loss: 0.0936 - accuracy: 0.9704\n",
            "Epoch 152/200\n",
            "81/81 [==============================] - 0s 4ms/step - loss: 0.0853 - accuracy: 0.9753\n",
            "Epoch 153/200\n",
            "81/81 [==============================] - 0s 4ms/step - loss: 0.0804 - accuracy: 0.9704\n",
            "Epoch 154/200\n",
            "81/81 [==============================] - 0s 4ms/step - loss: 0.0678 - accuracy: 0.9778\n",
            "Epoch 155/200\n",
            "81/81 [==============================] - 0s 3ms/step - loss: 0.0637 - accuracy: 0.9852\n",
            "Epoch 156/200\n",
            "81/81 [==============================] - 0s 4ms/step - loss: 0.1106 - accuracy: 0.9654\n",
            "Epoch 157/200\n",
            "81/81 [==============================] - 0s 4ms/step - loss: 0.0781 - accuracy: 0.9778\n",
            "Epoch 158/200\n",
            "81/81 [==============================] - 0s 4ms/step - loss: 0.0482 - accuracy: 0.9827\n",
            "Epoch 159/200\n",
            "81/81 [==============================] - 0s 4ms/step - loss: 0.0899 - accuracy: 0.9753\n",
            "Epoch 160/200\n",
            "81/81 [==============================] - 0s 4ms/step - loss: 0.0971 - accuracy: 0.9630\n",
            "Epoch 161/200\n",
            "81/81 [==============================] - 0s 4ms/step - loss: 0.0710 - accuracy: 0.9827\n",
            "Epoch 162/200\n",
            "81/81 [==============================] - 0s 5ms/step - loss: 0.0604 - accuracy: 0.9802\n",
            "Epoch 163/200\n",
            "81/81 [==============================] - 0s 5ms/step - loss: 0.1036 - accuracy: 0.9704\n",
            "Epoch 164/200\n",
            "81/81 [==============================] - 0s 5ms/step - loss: 0.0905 - accuracy: 0.9654\n",
            "Epoch 165/200\n",
            "81/81 [==============================] - 0s 5ms/step - loss: 0.0727 - accuracy: 0.9728\n",
            "Epoch 166/200\n",
            "81/81 [==============================] - 0s 4ms/step - loss: 0.0813 - accuracy: 0.9679\n",
            "Epoch 167/200\n",
            "81/81 [==============================] - 0s 3ms/step - loss: 0.0922 - accuracy: 0.9802\n",
            "Epoch 168/200\n",
            "81/81 [==============================] - 0s 3ms/step - loss: 0.0731 - accuracy: 0.9728\n",
            "Epoch 169/200\n",
            "81/81 [==============================] - 0s 3ms/step - loss: 0.0622 - accuracy: 0.9679\n",
            "Epoch 170/200\n",
            "81/81 [==============================] - 0s 3ms/step - loss: 0.1043 - accuracy: 0.9679\n",
            "Epoch 171/200\n",
            "81/81 [==============================] - 0s 3ms/step - loss: 0.0843 - accuracy: 0.9778\n",
            "Epoch 172/200\n",
            "81/81 [==============================] - 0s 3ms/step - loss: 0.0739 - accuracy: 0.9827\n",
            "Epoch 173/200\n",
            "81/81 [==============================] - 0s 3ms/step - loss: 0.0346 - accuracy: 0.9877\n",
            "Epoch 174/200\n",
            "81/81 [==============================] - 0s 2ms/step - loss: 0.0873 - accuracy: 0.9704\n",
            "Epoch 175/200\n",
            "81/81 [==============================] - 0s 2ms/step - loss: 0.0558 - accuracy: 0.9877\n",
            "Epoch 176/200\n",
            "81/81 [==============================] - 0s 3ms/step - loss: 0.0636 - accuracy: 0.9827\n",
            "Epoch 177/200\n",
            "81/81 [==============================] - 0s 3ms/step - loss: 0.0667 - accuracy: 0.9901\n",
            "Epoch 178/200\n",
            "81/81 [==============================] - 0s 2ms/step - loss: 0.0976 - accuracy: 0.9654\n",
            "Epoch 179/200\n",
            "81/81 [==============================] - 0s 3ms/step - loss: 0.0505 - accuracy: 0.9852\n",
            "Epoch 180/200\n",
            "81/81 [==============================] - 0s 2ms/step - loss: 0.0324 - accuracy: 0.9951\n",
            "Epoch 181/200\n",
            "81/81 [==============================] - 0s 3ms/step - loss: 0.0599 - accuracy: 0.9827\n",
            "Epoch 182/200\n",
            "81/81 [==============================] - 0s 3ms/step - loss: 0.0590 - accuracy: 0.9802\n",
            "Epoch 183/200\n",
            "81/81 [==============================] - 0s 3ms/step - loss: 0.0576 - accuracy: 0.9802\n",
            "Epoch 184/200\n",
            "81/81 [==============================] - 0s 3ms/step - loss: 0.0532 - accuracy: 0.9802\n",
            "Epoch 185/200\n",
            "81/81 [==============================] - 0s 3ms/step - loss: 0.0578 - accuracy: 0.9728\n",
            "Epoch 186/200\n",
            "81/81 [==============================] - 0s 3ms/step - loss: 0.0772 - accuracy: 0.9679\n",
            "Epoch 187/200\n",
            "81/81 [==============================] - 0s 3ms/step - loss: 0.0753 - accuracy: 0.9802\n",
            "Epoch 188/200\n",
            "81/81 [==============================] - 0s 3ms/step - loss: 0.1022 - accuracy: 0.9704\n",
            "Epoch 189/200\n",
            "81/81 [==============================] - 0s 3ms/step - loss: 0.0971 - accuracy: 0.9753\n",
            "Epoch 190/200\n",
            "81/81 [==============================] - 0s 3ms/step - loss: 0.0503 - accuracy: 0.9827\n",
            "Epoch 191/200\n",
            "81/81 [==============================] - 0s 3ms/step - loss: 0.0371 - accuracy: 0.9926\n",
            "Epoch 192/200\n",
            "81/81 [==============================] - 0s 3ms/step - loss: 0.0665 - accuracy: 0.9778\n",
            "Epoch 193/200\n",
            "81/81 [==============================] - 0s 3ms/step - loss: 0.0842 - accuracy: 0.9704\n",
            "Epoch 194/200\n",
            "81/81 [==============================] - 0s 2ms/step - loss: 0.0586 - accuracy: 0.9753\n",
            "Epoch 195/200\n",
            "81/81 [==============================] - 0s 3ms/step - loss: 0.0750 - accuracy: 0.9778\n",
            "Epoch 196/200\n",
            "81/81 [==============================] - 0s 3ms/step - loss: 0.0903 - accuracy: 0.9728\n",
            "Epoch 197/200\n",
            "81/81 [==============================] - 0s 3ms/step - loss: 0.0810 - accuracy: 0.9630\n",
            "Epoch 198/200\n",
            "81/81 [==============================] - 0s 3ms/step - loss: 0.0805 - accuracy: 0.9802\n",
            "Epoch 199/200\n",
            "81/81 [==============================] - 0s 3ms/step - loss: 0.0849 - accuracy: 0.9704\n",
            "Epoch 200/200\n",
            "81/81 [==============================] - 0s 3ms/step - loss: 0.0744 - accuracy: 0.9778\n",
            "model created\n"
          ]
        }
      ]
    },
    {
      "cell_type": "code",
      "source": [
        "def clean_up_sentence(sentence):\n",
        "  sentence_words = nltk.word_tokenize(sentence)\n",
        "  sentence_words = [lemmatizer.lemmatize(word.lower()) for word in sentence_words]\n",
        "  return sentence_words"
      ],
      "metadata": {
        "id": "AhlIpm8aY2c-"
      },
      "execution_count": 14,
      "outputs": []
    },
    {
      "cell_type": "code",
      "source": [
        "def bow(sentence, words, show_details=True):\n",
        "  sentence_words = clean_up_sentence(sentence)\n",
        "\n",
        "  bag = [0]*len(words) \n",
        "  for s in sentence_words:  \n",
        "      for i,w in enumerate(words):\n",
        "          if w == s: \n",
        "              bag[i] = 1\n",
        "              if show_details:\n",
        "                  print (\"found in bag: %s\" % w)\n",
        "  return(np.array(bag))"
      ],
      "metadata": {
        "id": "-iDNIboXZJtD"
      },
      "execution_count": 15,
      "outputs": []
    },
    {
      "cell_type": "code",
      "source": [
        "def predict_class(sentence, model):\n",
        "  p = bow(sentence, words,show_details=False)\n",
        "  res = model.predict(np.array([p]))[0]\n",
        "  ERROR_THRESHOLD = 0.25\n",
        "\n",
        "  results = [[i,r] for i,r in enumerate(res) if r>ERROR_THRESHOLD]\n",
        "  results.sort(key=lambda x: x[1], reverse=True)\n",
        "  return_list = []\n",
        "\n",
        "  for r in results:\n",
        "      return_list.append({\"intent\": classes[r[0]], \"probability\": str(r[1])})\n",
        "\n",
        "  return return_list"
      ],
      "metadata": {
        "id": "cSz4hNDpZTut"
      },
      "execution_count": 16,
      "outputs": []
    },
    {
      "cell_type": "code",
      "source": [
        "def getResponse(ints, intents_json):\n",
        "\n",
        "  tag = ints[0]['intent']\n",
        "  list_of_intents = intents_json['intents']\n",
        "  for i in list_of_intents:\n",
        "      if(i['tag']== tag):\n",
        "          result = random.choice(i['responses'])\n",
        "          break\n",
        "  return result\n",
        "\n"
      ],
      "metadata": {
        "id": "SAwmKs1MZc9C"
      },
      "execution_count": 17,
      "outputs": []
    },
    {
      "cell_type": "code",
      "source": [
        "def chatbot_response(text):\n",
        "   ints = predict_class(text, model)\n",
        "   res = getResponse(ints, intents)\n",
        "   return res"
      ],
      "metadata": {
        "id": "YWJhkMfeZhfS"
      },
      "execution_count": 18,
      "outputs": []
    },
    {
      "cell_type": "code",
      "source": [
        "start = True\n",
        "while start:\n",
        "  query = input('Enter Message:')\n",
        "  if query in ['quit','exit','bye']:\n",
        "    start = False\n",
        "    continue\n",
        "  try:\n",
        "    res = chatbot_response(query)\n",
        "    print(res)\n",
        "  except:\n",
        "    print('You may need to rephrase your question.')"
      ],
      "metadata": {
        "colab": {
          "base_uri": "https://localhost:8080/"
        },
        "id": "98BSfViBZnp6",
        "outputId": "26c04d5e-f44b-4940-f552-d36d88d7b19d"
      },
      "execution_count": 19,
      "outputs": [
        {
          "name": "stdout",
          "output_type": "stream",
          "text": [
            "Enter Message:Hey\n",
            "1/1 [==============================] - 0s 107ms/step\n",
            "Hi there, how can I help?\n",
            "Enter Message:Who are yuop?\n",
            "1/1 [==============================] - 0s 25ms/step\n",
            "I am a Chatbot.\n",
            "Enter Message:well, What are the things you can do?\n",
            "1/1 [==============================] - 0s 25ms/step\n",
            "You can ask me questions regarding college, and i will try to answer them\n",
            "Enter Message:great!\n",
            "1/1 [==============================] - 0s 25ms/step\n",
            "Hi there, how can I help?\n",
            "Enter Message:bye\n"
          ]
        }
      ]
    },
    {
      "cell_type": "code",
      "source": [],
      "metadata": {
        "id": "FTe8uJgNZztQ"
      },
      "execution_count": 19,
      "outputs": []
    }
  ],
  "metadata": {
    "colab": {
      "provenance": []
    },
    "gpuClass": "standard",
    "kernelspec": {
      "display_name": "Python 3",
      "name": "python3"
    },
    "language_info": {
      "name": "python"
    },
    "accelerator": "TPU"
  },
  "nbformat": 4,
  "nbformat_minor": 0
}