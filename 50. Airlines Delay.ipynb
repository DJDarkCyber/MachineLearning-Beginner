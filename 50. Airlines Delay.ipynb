{
  "nbformat": 4,
  "nbformat_minor": 0,
  "metadata": {
    "colab": {
      "provenance": [],
      "toc_visible": true
    },
    "kernelspec": {
      "name": "python3",
      "display_name": "Python 3"
    },
    "language_info": {
      "name": "python"
    },
    "gpuClass": "standard"
  },
  "cells": [
    {
      "cell_type": "code",
      "execution_count": 1,
      "metadata": {
        "colab": {
          "base_uri": "https://localhost:8080/"
        },
        "id": "5uzTiR_LJ8HI",
        "outputId": "d25cd554-9b89-467d-d40d-c4e9019d2c30"
      },
      "outputs": [
        {
          "output_type": "stream",
          "name": "stdout",
          "text": [
            "Downloading airlines-delay.zip to /content\n",
            "\n"
          ]
        },
        {
          "output_type": "stream",
          "name": "stderr",
          "text": [
            "\r  0%|          | 0.00/66.6M [00:00<?, ?B/s]\r  8%|▊         | 5.00M/66.6M [00:00<00:01, 38.9MB/s]\r 35%|███▍      | 23.0M/66.6M [00:00<00:00, 116MB/s] \r 54%|█████▍    | 36.0M/66.6M [00:00<00:00, 119MB/s]\r 74%|███████▎  | 49.0M/66.6M [00:00<00:00, 109MB/s]\r 90%|█████████ | 60.0M/66.6M [00:00<00:00, 80.8MB/s]\r100%|██████████| 66.6M/66.6M [00:00<00:00, 95.6MB/s]\n"
          ]
        }
      ],
      "source": [
        "%%bash\n",
        "\n",
        "pip install -q kaggle\n",
        "mkdir -p ~/.kaggle\n",
        "cp drive/MyDrive/kaggle.json ~/.kaggle/\n",
        "chmod 600 /root/.kaggle/kaggle.json\n",
        "kaggle datasets download -d heemalichaudhari/airlines-delay"
      ]
    },
    {
      "cell_type": "code",
      "source": [
        "!unzip airlines-delay.zip"
      ],
      "metadata": {
        "id": "k4shSK6sqZam",
        "colab": {
          "base_uri": "https://localhost:8080/"
        },
        "outputId": "ae98fa9d-7849-4df2-a6bd-6207a2d62e1d"
      },
      "execution_count": 2,
      "outputs": [
        {
          "output_type": "stream",
          "name": "stdout",
          "text": [
            "Archive:  airlines-delay.zip\n",
            "  inflating: DelayedFlights.csv      \n",
            "  inflating: st99_d00.dbf            \n",
            "  inflating: st99_d00.shp            \n",
            "  inflating: st99_d00.shx            \n"
          ]
        }
      ]
    },
    {
      "cell_type": "markdown",
      "source": [
        "# Airlines Delay\n",
        "\n",
        "## Getting the data"
      ],
      "metadata": {
        "id": "RoGIrAXOGx_F"
      }
    },
    {
      "cell_type": "code",
      "source": [
        "!pip install geopandas"
      ],
      "metadata": {
        "colab": {
          "base_uri": "https://localhost:8080/"
        },
        "id": "uccTPnq1HRrT",
        "outputId": "d2d2b775-5aba-4cca-c877-4858c61f8a67"
      },
      "execution_count": 3,
      "outputs": [
        {
          "output_type": "stream",
          "name": "stdout",
          "text": [
            "Looking in indexes: https://pypi.org/simple, https://us-python.pkg.dev/colab-wheels/public/simple/\n",
            "Collecting geopandas\n",
            "  Downloading geopandas-0.12.2-py3-none-any.whl (1.1 MB)\n",
            "\u001b[2K     \u001b[90m━━━━━━━━━━━━━━━━━━━━━━━━━━━━━━━━━━━━━━━━\u001b[0m \u001b[32m1.1/1.1 MB\u001b[0m \u001b[31m18.4 MB/s\u001b[0m eta \u001b[36m0:00:00\u001b[0m\n",
            "\u001b[?25hCollecting pyproj>=2.6.1.post1\n",
            "  Downloading pyproj-3.4.1-cp38-cp38-manylinux_2_17_x86_64.manylinux2014_x86_64.whl (7.8 MB)\n",
            "\u001b[2K     \u001b[90m━━━━━━━━━━━━━━━━━━━━━━━━━━━━━━━━━━━━━━━━\u001b[0m \u001b[32m7.8/7.8 MB\u001b[0m \u001b[31m53.6 MB/s\u001b[0m eta \u001b[36m0:00:00\u001b[0m\n",
            "\u001b[?25hCollecting fiona>=1.8\n",
            "  Downloading Fiona-1.8.22-cp38-cp38-manylinux_2_17_x86_64.manylinux2014_x86_64.whl (16.6 MB)\n",
            "\u001b[2K     \u001b[90m━━━━━━━━━━━━━━━━━━━━━━━━━━━━━━━━━━━━━━━━\u001b[0m \u001b[32m16.6/16.6 MB\u001b[0m \u001b[31m20.1 MB/s\u001b[0m eta \u001b[36m0:00:00\u001b[0m\n",
            "\u001b[?25hRequirement already satisfied: packaging in /usr/local/lib/python3.8/dist-packages (from geopandas) (21.3)\n",
            "Requirement already satisfied: pandas>=1.0.0 in /usr/local/lib/python3.8/dist-packages (from geopandas) (1.3.5)\n",
            "Requirement already satisfied: shapely>=1.7 in /usr/local/lib/python3.8/dist-packages (from geopandas) (2.0.0)\n",
            "Requirement already satisfied: click>=4.0 in /usr/local/lib/python3.8/dist-packages (from fiona>=1.8->geopandas) (7.1.2)\n",
            "Requirement already satisfied: six>=1.7 in /usr/local/lib/python3.8/dist-packages (from fiona>=1.8->geopandas) (1.15.0)\n",
            "Requirement already satisfied: attrs>=17 in /usr/local/lib/python3.8/dist-packages (from fiona>=1.8->geopandas) (22.2.0)\n",
            "Requirement already satisfied: certifi in /usr/local/lib/python3.8/dist-packages (from fiona>=1.8->geopandas) (2022.12.7)\n",
            "Collecting munch\n",
            "  Downloading munch-2.5.0-py2.py3-none-any.whl (10 kB)\n",
            "Requirement already satisfied: setuptools in /usr/local/lib/python3.8/dist-packages (from fiona>=1.8->geopandas) (57.4.0)\n",
            "Collecting click-plugins>=1.0\n",
            "  Downloading click_plugins-1.1.1-py2.py3-none-any.whl (7.5 kB)\n",
            "Collecting cligj>=0.5\n",
            "  Downloading cligj-0.7.2-py3-none-any.whl (7.1 kB)\n",
            "Requirement already satisfied: numpy>=1.17.3 in /usr/local/lib/python3.8/dist-packages (from pandas>=1.0.0->geopandas) (1.21.6)\n",
            "Requirement already satisfied: pytz>=2017.3 in /usr/local/lib/python3.8/dist-packages (from pandas>=1.0.0->geopandas) (2022.7)\n",
            "Requirement already satisfied: python-dateutil>=2.7.3 in /usr/local/lib/python3.8/dist-packages (from pandas>=1.0.0->geopandas) (2.8.2)\n",
            "Requirement already satisfied: pyparsing!=3.0.5,>=2.0.2 in /usr/local/lib/python3.8/dist-packages (from packaging->geopandas) (3.0.9)\n",
            "Installing collected packages: pyproj, munch, cligj, click-plugins, fiona, geopandas\n",
            "Successfully installed click-plugins-1.1.1 cligj-0.7.2 fiona-1.8.22 geopandas-0.12.2 munch-2.5.0 pyproj-3.4.1\n"
          ]
        }
      ]
    },
    {
      "cell_type": "code",
      "source": [
        "import pandas as pd\n",
        "import geopandas as gpd\n",
        "\n",
        "df = pd.read_csv(\"DelayedFlights.csv\")\n",
        "df_gp = gpd.GeoDataFrame.from_file(\"st99_d00.shp\")"
      ],
      "metadata": {
        "id": "hjVYOGtkCj7B"
      },
      "execution_count": 4,
      "outputs": []
    },
    {
      "cell_type": "markdown",
      "source": [
        "## Exploring the data"
      ],
      "metadata": {
        "id": "8eTAh0ZKHZjq"
      }
    },
    {
      "cell_type": "code",
      "source": [
        "df.head()"
      ],
      "metadata": {
        "colab": {
          "base_uri": "https://localhost:8080/",
          "height": 317
        },
        "id": "z8IFukXJHbvF",
        "outputId": "04fb453e-4353-49c7-9570-5574349cea18"
      },
      "execution_count": 5,
      "outputs": [
        {
          "output_type": "execute_result",
          "data": {
            "text/plain": [
              "   Unnamed: 0  Year  Month  DayofMonth  DayOfWeek  DepTime  CRSDepTime  \\\n",
              "0           0  2008      1           3          4   2003.0        1955   \n",
              "1           1  2008      1           3          4    754.0         735   \n",
              "2           2  2008      1           3          4    628.0         620   \n",
              "3           4  2008      1           3          4   1829.0        1755   \n",
              "4           5  2008      1           3          4   1940.0        1915   \n",
              "\n",
              "   ArrTime  CRSArrTime UniqueCarrier  ...  TaxiIn TaxiOut  Cancelled  \\\n",
              "0   2211.0        2225            WN  ...     4.0     8.0          0   \n",
              "1   1002.0        1000            WN  ...     5.0    10.0          0   \n",
              "2    804.0         750            WN  ...     3.0    17.0          0   \n",
              "3   1959.0        1925            WN  ...     3.0    10.0          0   \n",
              "4   2121.0        2110            WN  ...     4.0    10.0          0   \n",
              "\n",
              "   CancellationCode  Diverted  CarrierDelay  WeatherDelay NASDelay  \\\n",
              "0                 N         0           NaN           NaN      NaN   \n",
              "1                 N         0           NaN           NaN      NaN   \n",
              "2                 N         0           NaN           NaN      NaN   \n",
              "3                 N         0           2.0           0.0      0.0   \n",
              "4                 N         0           NaN           NaN      NaN   \n",
              "\n",
              "  SecurityDelay  LateAircraftDelay  \n",
              "0           NaN                NaN  \n",
              "1           NaN                NaN  \n",
              "2           NaN                NaN  \n",
              "3           0.0               32.0  \n",
              "4           NaN                NaN  \n",
              "\n",
              "[5 rows x 30 columns]"
            ],
            "text/html": [
              "\n",
              "  <div id=\"df-8d81d5fb-6d19-4e37-9e81-03c7a3dd5d3b\">\n",
              "    <div class=\"colab-df-container\">\n",
              "      <div>\n",
              "<style scoped>\n",
              "    .dataframe tbody tr th:only-of-type {\n",
              "        vertical-align: middle;\n",
              "    }\n",
              "\n",
              "    .dataframe tbody tr th {\n",
              "        vertical-align: top;\n",
              "    }\n",
              "\n",
              "    .dataframe thead th {\n",
              "        text-align: right;\n",
              "    }\n",
              "</style>\n",
              "<table border=\"1\" class=\"dataframe\">\n",
              "  <thead>\n",
              "    <tr style=\"text-align: right;\">\n",
              "      <th></th>\n",
              "      <th>Unnamed: 0</th>\n",
              "      <th>Year</th>\n",
              "      <th>Month</th>\n",
              "      <th>DayofMonth</th>\n",
              "      <th>DayOfWeek</th>\n",
              "      <th>DepTime</th>\n",
              "      <th>CRSDepTime</th>\n",
              "      <th>ArrTime</th>\n",
              "      <th>CRSArrTime</th>\n",
              "      <th>UniqueCarrier</th>\n",
              "      <th>...</th>\n",
              "      <th>TaxiIn</th>\n",
              "      <th>TaxiOut</th>\n",
              "      <th>Cancelled</th>\n",
              "      <th>CancellationCode</th>\n",
              "      <th>Diverted</th>\n",
              "      <th>CarrierDelay</th>\n",
              "      <th>WeatherDelay</th>\n",
              "      <th>NASDelay</th>\n",
              "      <th>SecurityDelay</th>\n",
              "      <th>LateAircraftDelay</th>\n",
              "    </tr>\n",
              "  </thead>\n",
              "  <tbody>\n",
              "    <tr>\n",
              "      <th>0</th>\n",
              "      <td>0</td>\n",
              "      <td>2008</td>\n",
              "      <td>1</td>\n",
              "      <td>3</td>\n",
              "      <td>4</td>\n",
              "      <td>2003.0</td>\n",
              "      <td>1955</td>\n",
              "      <td>2211.0</td>\n",
              "      <td>2225</td>\n",
              "      <td>WN</td>\n",
              "      <td>...</td>\n",
              "      <td>4.0</td>\n",
              "      <td>8.0</td>\n",
              "      <td>0</td>\n",
              "      <td>N</td>\n",
              "      <td>0</td>\n",
              "      <td>NaN</td>\n",
              "      <td>NaN</td>\n",
              "      <td>NaN</td>\n",
              "      <td>NaN</td>\n",
              "      <td>NaN</td>\n",
              "    </tr>\n",
              "    <tr>\n",
              "      <th>1</th>\n",
              "      <td>1</td>\n",
              "      <td>2008</td>\n",
              "      <td>1</td>\n",
              "      <td>3</td>\n",
              "      <td>4</td>\n",
              "      <td>754.0</td>\n",
              "      <td>735</td>\n",
              "      <td>1002.0</td>\n",
              "      <td>1000</td>\n",
              "      <td>WN</td>\n",
              "      <td>...</td>\n",
              "      <td>5.0</td>\n",
              "      <td>10.0</td>\n",
              "      <td>0</td>\n",
              "      <td>N</td>\n",
              "      <td>0</td>\n",
              "      <td>NaN</td>\n",
              "      <td>NaN</td>\n",
              "      <td>NaN</td>\n",
              "      <td>NaN</td>\n",
              "      <td>NaN</td>\n",
              "    </tr>\n",
              "    <tr>\n",
              "      <th>2</th>\n",
              "      <td>2</td>\n",
              "      <td>2008</td>\n",
              "      <td>1</td>\n",
              "      <td>3</td>\n",
              "      <td>4</td>\n",
              "      <td>628.0</td>\n",
              "      <td>620</td>\n",
              "      <td>804.0</td>\n",
              "      <td>750</td>\n",
              "      <td>WN</td>\n",
              "      <td>...</td>\n",
              "      <td>3.0</td>\n",
              "      <td>17.0</td>\n",
              "      <td>0</td>\n",
              "      <td>N</td>\n",
              "      <td>0</td>\n",
              "      <td>NaN</td>\n",
              "      <td>NaN</td>\n",
              "      <td>NaN</td>\n",
              "      <td>NaN</td>\n",
              "      <td>NaN</td>\n",
              "    </tr>\n",
              "    <tr>\n",
              "      <th>3</th>\n",
              "      <td>4</td>\n",
              "      <td>2008</td>\n",
              "      <td>1</td>\n",
              "      <td>3</td>\n",
              "      <td>4</td>\n",
              "      <td>1829.0</td>\n",
              "      <td>1755</td>\n",
              "      <td>1959.0</td>\n",
              "      <td>1925</td>\n",
              "      <td>WN</td>\n",
              "      <td>...</td>\n",
              "      <td>3.0</td>\n",
              "      <td>10.0</td>\n",
              "      <td>0</td>\n",
              "      <td>N</td>\n",
              "      <td>0</td>\n",
              "      <td>2.0</td>\n",
              "      <td>0.0</td>\n",
              "      <td>0.0</td>\n",
              "      <td>0.0</td>\n",
              "      <td>32.0</td>\n",
              "    </tr>\n",
              "    <tr>\n",
              "      <th>4</th>\n",
              "      <td>5</td>\n",
              "      <td>2008</td>\n",
              "      <td>1</td>\n",
              "      <td>3</td>\n",
              "      <td>4</td>\n",
              "      <td>1940.0</td>\n",
              "      <td>1915</td>\n",
              "      <td>2121.0</td>\n",
              "      <td>2110</td>\n",
              "      <td>WN</td>\n",
              "      <td>...</td>\n",
              "      <td>4.0</td>\n",
              "      <td>10.0</td>\n",
              "      <td>0</td>\n",
              "      <td>N</td>\n",
              "      <td>0</td>\n",
              "      <td>NaN</td>\n",
              "      <td>NaN</td>\n",
              "      <td>NaN</td>\n",
              "      <td>NaN</td>\n",
              "      <td>NaN</td>\n",
              "    </tr>\n",
              "  </tbody>\n",
              "</table>\n",
              "<p>5 rows × 30 columns</p>\n",
              "</div>\n",
              "      <button class=\"colab-df-convert\" onclick=\"convertToInteractive('df-8d81d5fb-6d19-4e37-9e81-03c7a3dd5d3b')\"\n",
              "              title=\"Convert this dataframe to an interactive table.\"\n",
              "              style=\"display:none;\">\n",
              "        \n",
              "  <svg xmlns=\"http://www.w3.org/2000/svg\" height=\"24px\"viewBox=\"0 0 24 24\"\n",
              "       width=\"24px\">\n",
              "    <path d=\"M0 0h24v24H0V0z\" fill=\"none\"/>\n",
              "    <path d=\"M18.56 5.44l.94 2.06.94-2.06 2.06-.94-2.06-.94-.94-2.06-.94 2.06-2.06.94zm-11 1L8.5 8.5l.94-2.06 2.06-.94-2.06-.94L8.5 2.5l-.94 2.06-2.06.94zm10 10l.94 2.06.94-2.06 2.06-.94-2.06-.94-.94-2.06-.94 2.06-2.06.94z\"/><path d=\"M17.41 7.96l-1.37-1.37c-.4-.4-.92-.59-1.43-.59-.52 0-1.04.2-1.43.59L10.3 9.45l-7.72 7.72c-.78.78-.78 2.05 0 2.83L4 21.41c.39.39.9.59 1.41.59.51 0 1.02-.2 1.41-.59l7.78-7.78 2.81-2.81c.8-.78.8-2.07 0-2.86zM5.41 20L4 18.59l7.72-7.72 1.47 1.35L5.41 20z\"/>\n",
              "  </svg>\n",
              "      </button>\n",
              "      \n",
              "  <style>\n",
              "    .colab-df-container {\n",
              "      display:flex;\n",
              "      flex-wrap:wrap;\n",
              "      gap: 12px;\n",
              "    }\n",
              "\n",
              "    .colab-df-convert {\n",
              "      background-color: #E8F0FE;\n",
              "      border: none;\n",
              "      border-radius: 50%;\n",
              "      cursor: pointer;\n",
              "      display: none;\n",
              "      fill: #1967D2;\n",
              "      height: 32px;\n",
              "      padding: 0 0 0 0;\n",
              "      width: 32px;\n",
              "    }\n",
              "\n",
              "    .colab-df-convert:hover {\n",
              "      background-color: #E2EBFA;\n",
              "      box-shadow: 0px 1px 2px rgba(60, 64, 67, 0.3), 0px 1px 3px 1px rgba(60, 64, 67, 0.15);\n",
              "      fill: #174EA6;\n",
              "    }\n",
              "\n",
              "    [theme=dark] .colab-df-convert {\n",
              "      background-color: #3B4455;\n",
              "      fill: #D2E3FC;\n",
              "    }\n",
              "\n",
              "    [theme=dark] .colab-df-convert:hover {\n",
              "      background-color: #434B5C;\n",
              "      box-shadow: 0px 1px 3px 1px rgba(0, 0, 0, 0.15);\n",
              "      filter: drop-shadow(0px 1px 2px rgba(0, 0, 0, 0.3));\n",
              "      fill: #FFFFFF;\n",
              "    }\n",
              "  </style>\n",
              "\n",
              "      <script>\n",
              "        const buttonEl =\n",
              "          document.querySelector('#df-8d81d5fb-6d19-4e37-9e81-03c7a3dd5d3b button.colab-df-convert');\n",
              "        buttonEl.style.display =\n",
              "          google.colab.kernel.accessAllowed ? 'block' : 'none';\n",
              "\n",
              "        async function convertToInteractive(key) {\n",
              "          const element = document.querySelector('#df-8d81d5fb-6d19-4e37-9e81-03c7a3dd5d3b');\n",
              "          const dataTable =\n",
              "            await google.colab.kernel.invokeFunction('convertToInteractive',\n",
              "                                                     [key], {});\n",
              "          if (!dataTable) return;\n",
              "\n",
              "          const docLinkHtml = 'Like what you see? Visit the ' +\n",
              "            '<a target=\"_blank\" href=https://colab.research.google.com/notebooks/data_table.ipynb>data table notebook</a>'\n",
              "            + ' to learn more about interactive tables.';\n",
              "          element.innerHTML = '';\n",
              "          dataTable['output_type'] = 'display_data';\n",
              "          await google.colab.output.renderOutput(dataTable, element);\n",
              "          const docLink = document.createElement('div');\n",
              "          docLink.innerHTML = docLinkHtml;\n",
              "          element.appendChild(docLink);\n",
              "        }\n",
              "      </script>\n",
              "    </div>\n",
              "  </div>\n",
              "  "
            ]
          },
          "metadata": {},
          "execution_count": 5
        }
      ]
    },
    {
      "cell_type": "code",
      "source": [
        "import matplotlib.pyplot as plt\n",
        "\n",
        "df_gp.plot(figsize=(40, 40))\n",
        "plt.show()"
      ],
      "metadata": {
        "colab": {
          "base_uri": "https://localhost:8080/",
          "height": 259
        },
        "id": "5GB1J-0aHcqr",
        "outputId": "dead0b1c-0566-4e4a-f030-3252c2001715"
      },
      "execution_count": 6,
      "outputs": [
        {
          "output_type": "display_data",
          "data": {
            "text/plain": [
              "<Figure size 2880x2880 with 1 Axes>"
            ],
            "image/png": "[encoded data removed]"
          },
          "metadata": {
            "needs_background": "light"
          }
        }
      ]
    },
    {
      "cell_type": "code",
      "source": [
        "df.describe()"
      ],
      "metadata": {
        "colab": {
          "base_uri": "https://localhost:8080/",
          "height": 394
        },
        "id": "ti_Um3d4HmZF",
        "outputId": "1c4c9fcc-e333-4810-9a0b-1a8ee776e0a7"
      },
      "execution_count": 7,
      "outputs": [
        {
          "output_type": "execute_result",
          "data": {
            "text/plain": [
              "         Unnamed: 0       Year         Month    DayofMonth     DayOfWeek  \\\n",
              "count  1.936758e+06  1936758.0  1.936758e+06  1.936758e+06  1.936758e+06   \n",
              "mean   3.341651e+06     2008.0  6.111106e+00  1.575347e+01  3.984827e+00   \n",
              "std    2.066065e+06        0.0  3.482546e+00  8.776272e+00  1.995966e+00   \n",
              "min    0.000000e+00     2008.0  1.000000e+00  1.000000e+00  1.000000e+00   \n",
              "25%    1.517452e+06     2008.0  3.000000e+00  8.000000e+00  2.000000e+00   \n",
              "50%    3.242558e+06     2008.0  6.000000e+00  1.600000e+01  4.000000e+00   \n",
              "75%    4.972467e+06     2008.0  9.000000e+00  2.300000e+01  6.000000e+00   \n",
              "max    7.009727e+06     2008.0  1.200000e+01  3.100000e+01  7.000000e+00   \n",
              "\n",
              "            DepTime    CRSDepTime       ArrTime    CRSArrTime     FlightNum  \\\n",
              "count  1.936758e+06  1.936758e+06  1.929648e+06  1.936758e+06  1.936758e+06   \n",
              "mean   1.518534e+03  1.467473e+03  1.610141e+03  1.634225e+03  2.184263e+03   \n",
              "std    4.504853e+02  4.247668e+02  5.481781e+02  4.646347e+02  1.944702e+03   \n",
              "min    1.000000e+00  0.000000e+00  1.000000e+00  0.000000e+00  1.000000e+00   \n",
              "25%    1.203000e+03  1.135000e+03  1.316000e+03  1.325000e+03  6.100000e+02   \n",
              "50%    1.545000e+03  1.510000e+03  1.715000e+03  1.705000e+03  1.543000e+03   \n",
              "75%    1.900000e+03  1.815000e+03  2.030000e+03  2.014000e+03  3.422000e+03   \n",
              "max    2.400000e+03  2.359000e+03  2.400000e+03  2.400000e+03  9.742000e+03   \n",
              "\n",
              "       ...      Distance        TaxiIn       TaxiOut     Cancelled  \\\n",
              "count  ...  1.936758e+06  1.929648e+06  1.936303e+06  1.936758e+06   \n",
              "mean   ...  7.656862e+02  6.812975e+00  1.823220e+01  3.268348e-04   \n",
              "std    ...  5.744797e+02  5.273595e+00  1.433853e+01  1.807562e-02   \n",
              "min    ...  1.100000e+01  0.000000e+00  0.000000e+00  0.000000e+00   \n",
              "25%    ...  3.380000e+02  4.000000e+00  1.000000e+01  0.000000e+00   \n",
              "50%    ...  6.060000e+02  6.000000e+00  1.400000e+01  0.000000e+00   \n",
              "75%    ...  9.980000e+02  8.000000e+00  2.100000e+01  0.000000e+00   \n",
              "max    ...  4.962000e+03  2.400000e+02  4.220000e+02  1.000000e+00   \n",
              "\n",
              "           Diverted  CarrierDelay  WeatherDelay      NASDelay  SecurityDelay  \\\n",
              "count  1.936758e+06  1.247488e+06  1.247488e+06  1.247488e+06   1.247488e+06   \n",
              "mean   4.003598e-03  1.917940e+01  3.703571e+00  1.502164e+01   9.013714e-02   \n",
              "std    6.314722e-02  4.354621e+01  2.149290e+01  3.383305e+01   2.022714e+00   \n",
              "min    0.000000e+00  0.000000e+00  0.000000e+00  0.000000e+00   0.000000e+00   \n",
              "25%    0.000000e+00  0.000000e+00  0.000000e+00  0.000000e+00   0.000000e+00   \n",
              "50%    0.000000e+00  2.000000e+00  0.000000e+00  2.000000e+00   0.000000e+00   \n",
              "75%    0.000000e+00  2.100000e+01  0.000000e+00  1.500000e+01   0.000000e+00   \n",
              "max    1.000000e+00  2.436000e+03  1.352000e+03  1.357000e+03   3.920000e+02   \n",
              "\n",
              "       LateAircraftDelay  \n",
              "count       1.247488e+06  \n",
              "mean        2.529647e+01  \n",
              "std         4.205486e+01  \n",
              "min         0.000000e+00  \n",
              "25%         0.000000e+00  \n",
              "50%         8.000000e+00  \n",
              "75%         3.300000e+01  \n",
              "max         1.316000e+03  \n",
              "\n",
              "[8 rows x 25 columns]"
            ],
            "text/html": [
              "\n",
              "  <div id=\"df-f64eedea-675a-418f-b918-93f2b1c9714b\">\n",
              "    <div class=\"colab-df-container\">\n",
              "      <div>\n",
              "<style scoped>\n",
              "    .dataframe tbody tr th:only-of-type {\n",
              "        vertical-align: middle;\n",
              "    }\n",
              "\n",
              "    .dataframe tbody tr th {\n",
              "        vertical-align: top;\n",
              "    }\n",
              "\n",
              "    .dataframe thead th {\n",
              "        text-align: right;\n",
              "    }\n",
              "</style>\n",
              "<table border=\"1\" class=\"dataframe\">\n",
              "  <thead>\n",
              "    <tr style=\"text-align: right;\">\n",
              "      <th></th>\n",
              "      <th>Unnamed: 0</th>\n",
              "      <th>Year</th>\n",
              "      <th>Month</th>\n",
              "      <th>DayofMonth</th>\n",
              "      <th>DayOfWeek</th>\n",
              "      <th>DepTime</th>\n",
              "      <th>CRSDepTime</th>\n",
              "      <th>ArrTime</th>\n",
              "      <th>CRSArrTime</th>\n",
              "      <th>FlightNum</th>\n",
              "      <th>...</th>\n",
              "      <th>Distance</th>\n",
              "      <th>TaxiIn</th>\n",
              "      <th>TaxiOut</th>\n",
              "      <th>Cancelled</th>\n",
              "      <th>Diverted</th>\n",
              "      <th>CarrierDelay</th>\n",
              "      <th>WeatherDelay</th>\n",
              "      <th>NASDelay</th>\n",
              "      <th>SecurityDelay</th>\n",
              "      <th>LateAircraftDelay</th>\n",
              "    </tr>\n",
              "  </thead>\n",
              "  <tbody>\n",
              "    <tr>\n",
              "      <th>count</th>\n",
              "      <td>1.936758e+06</td>\n",
              "      <td>1936758.0</td>\n",
              "      <td>1.936758e+06</td>\n",
              "      <td>1.936758e+06</td>\n",
              "      <td>1.936758e+06</td>\n",
              "      <td>1.936758e+06</td>\n",
              "      <td>1.936758e+06</td>\n",
              "      <td>1.929648e+06</td>\n",
              "      <td>1.936758e+06</td>\n",
              "      <td>1.936758e+06</td>\n",
              "      <td>...</td>\n",
              "      <td>1.936758e+06</td>\n",
              "      <td>1.929648e+06</td>\n",
              "      <td>1.936303e+06</td>\n",
              "      <td>1.936758e+06</td>\n",
              "      <td>1.936758e+06</td>\n",
              "      <td>1.247488e+06</td>\n",
              "      <td>1.247488e+06</td>\n",
              "      <td>1.247488e+06</td>\n",
              "      <td>1.247488e+06</td>\n",
              "      <td>1.247488e+06</td>\n",
              "    </tr>\n",
              "    <tr>\n",
              "      <th>mean</th>\n",
              "      <td>3.341651e+06</td>\n",
              "      <td>2008.0</td>\n",
              "      <td>6.111106e+00</td>\n",
              "      <td>1.575347e+01</td>\n",
              "      <td>3.984827e+00</td>\n",
              "      <td>1.518534e+03</td>\n",
              "      <td>1.467473e+03</td>\n",
              "      <td>1.610141e+03</td>\n",
              "      <td>1.634225e+03</td>\n",
              "      <td>2.184263e+03</td>\n",
              "      <td>...</td>\n",
              "      <td>7.656862e+02</td>\n",
              "      <td>6.812975e+00</td>\n",
              "      <td>1.823220e+01</td>\n",
              "      <td>3.268348e-04</td>\n",
              "      <td>4.003598e-03</td>\n",
              "      <td>1.917940e+01</td>\n",
              "      <td>3.703571e+00</td>\n",
              "      <td>1.502164e+01</td>\n",
              "      <td>9.013714e-02</td>\n",
              "      <td>2.529647e+01</td>\n",
              "    </tr>\n",
              "    <tr>\n",
              "      <th>std</th>\n",
              "      <td>2.066065e+06</td>\n",
              "      <td>0.0</td>\n",
              "      <td>3.482546e+00</td>\n",
              "      <td>8.776272e+00</td>\n",
              "      <td>1.995966e+00</td>\n",
              "      <td>4.504853e+02</td>\n",
              "      <td>4.247668e+02</td>\n",
              "      <td>5.481781e+02</td>\n",
              "      <td>4.646347e+02</td>\n",
              "      <td>1.944702e+03</td>\n",
              "      <td>...</td>\n",
              "      <td>5.744797e+02</td>\n",
              "      <td>5.273595e+00</td>\n",
              "      <td>1.433853e+01</td>\n",
              "      <td>1.807562e-02</td>\n",
              "      <td>6.314722e-02</td>\n",
              "      <td>4.354621e+01</td>\n",
              "      <td>2.149290e+01</td>\n",
              "      <td>3.383305e+01</td>\n",
              "      <td>2.022714e+00</td>\n",
              "      <td>4.205486e+01</td>\n",
              "    </tr>\n",
              "    <tr>\n",
              "      <th>min</th>\n",
              "      <td>0.000000e+00</td>\n",
              "      <td>2008.0</td>\n",
              "      <td>1.000000e+00</td>\n",
              "      <td>1.000000e+00</td>\n",
              "      <td>1.000000e+00</td>\n",
              "      <td>1.000000e+00</td>\n",
              "      <td>0.000000e+00</td>\n",
              "      <td>1.000000e+00</td>\n",
              "      <td>0.000000e+00</td>\n",
              "      <td>1.000000e+00</td>\n",
              "      <td>...</td>\n",
              "      <td>1.100000e+01</td>\n",
              "      <td>0.000000e+00</td>\n",
              "      <td>0.000000e+00</td>\n",
              "      <td>0.000000e+00</td>\n",
              "      <td>0.000000e+00</td>\n",
              "      <td>0.000000e+00</td>\n",
              "      <td>0.000000e+00</td>\n",
              "      <td>0.000000e+00</td>\n",
              "      <td>0.000000e+00</td>\n",
              "      <td>0.000000e+00</td>\n",
              "    </tr>\n",
              "    <tr>\n",
              "      <th>25%</th>\n",
              "      <td>1.517452e+06</td>\n",
              "      <td>2008.0</td>\n",
              "      <td>3.000000e+00</td>\n",
              "      <td>8.000000e+00</td>\n",
              "      <td>2.000000e+00</td>\n",
              "      <td>1.203000e+03</td>\n",
              "      <td>1.135000e+03</td>\n",
              "      <td>1.316000e+03</td>\n",
              "      <td>1.325000e+03</td>\n",
              "      <td>6.100000e+02</td>\n",
              "      <td>...</td>\n",
              "      <td>3.380000e+02</td>\n",
              "      <td>4.000000e+00</td>\n",
              "      <td>1.000000e+01</td>\n",
              "      <td>0.000000e+00</td>\n",
              "      <td>0.000000e+00</td>\n",
              "      <td>0.000000e+00</td>\n",
              "      <td>0.000000e+00</td>\n",
              "      <td>0.000000e+00</td>\n",
              "      <td>0.000000e+00</td>\n",
              "      <td>0.000000e+00</td>\n",
              "    </tr>\n",
              "    <tr>\n",
              "      <th>50%</th>\n",
              "      <td>3.242558e+06</td>\n",
              "      <td>2008.0</td>\n",
              "      <td>6.000000e+00</td>\n",
              "      <td>1.600000e+01</td>\n",
              "      <td>4.000000e+00</td>\n",
              "      <td>1.545000e+03</td>\n",
              "      <td>1.510000e+03</td>\n",
              "      <td>1.715000e+03</td>\n",
              "      <td>1.705000e+03</td>\n",
              "      <td>1.543000e+03</td>\n",
              "      <td>...</td>\n",
              "      <td>6.060000e+02</td>\n",
              "      <td>6.000000e+00</td>\n",
              "      <td>1.400000e+01</td>\n",
              "      <td>0.000000e+00</td>\n",
              "      <td>0.000000e+00</td>\n",
              "      <td>2.000000e+00</td>\n",
              "      <td>0.000000e+00</td>\n",
              "      <td>2.000000e+00</td>\n",
              "      <td>0.000000e+00</td>\n",
              "      <td>8.000000e+00</td>\n",
              "    </tr>\n",
              "    <tr>\n",
              "      <th>75%</th>\n",
              "      <td>4.972467e+06</td>\n",
              "      <td>2008.0</td>\n",
              "      <td>9.000000e+00</td>\n",
              "      <td>2.300000e+01</td>\n",
              "      <td>6.000000e+00</td>\n",
              "      <td>1.900000e+03</td>\n",
              "      <td>1.815000e+03</td>\n",
              "      <td>2.030000e+03</td>\n",
              "      <td>2.014000e+03</td>\n",
              "      <td>3.422000e+03</td>\n",
              "      <td>...</td>\n",
              "      <td>9.980000e+02</td>\n",
              "      <td>8.000000e+00</td>\n",
              "      <td>2.100000e+01</td>\n",
              "      <td>0.000000e+00</td>\n",
              "      <td>0.000000e+00</td>\n",
              "      <td>2.100000e+01</td>\n",
              "      <td>0.000000e+00</td>\n",
              "      <td>1.500000e+01</td>\n",
              "      <td>0.000000e+00</td>\n",
              "      <td>3.300000e+01</td>\n",
              "    </tr>\n",
              "    <tr>\n",
              "      <th>max</th>\n",
              "      <td>7.009727e+06</td>\n",
              "      <td>2008.0</td>\n",
              "      <td>1.200000e+01</td>\n",
              "      <td>3.100000e+01</td>\n",
              "      <td>7.000000e+00</td>\n",
              "      <td>2.400000e+03</td>\n",
              "      <td>2.359000e+03</td>\n",
              "      <td>2.400000e+03</td>\n",
              "      <td>2.400000e+03</td>\n",
              "      <td>9.742000e+03</td>\n",
              "      <td>...</td>\n",
              "      <td>4.962000e+03</td>\n",
              "      <td>2.400000e+02</td>\n",
              "      <td>4.220000e+02</td>\n",
              "      <td>1.000000e+00</td>\n",
              "      <td>1.000000e+00</td>\n",
              "      <td>2.436000e+03</td>\n",
              "      <td>1.352000e+03</td>\n",
              "      <td>1.357000e+03</td>\n",
              "      <td>3.920000e+02</td>\n",
              "      <td>1.316000e+03</td>\n",
              "    </tr>\n",
              "  </tbody>\n",
              "</table>\n",
              "<p>8 rows × 25 columns</p>\n",
              "</div>\n",
              "      <button class=\"colab-df-convert\" onclick=\"convertToInteractive('df-f64eedea-675a-418f-b918-93f2b1c9714b')\"\n",
              "              title=\"Convert this dataframe to an interactive table.\"\n",
              "              style=\"display:none;\">\n",
              "        \n",
              "  <svg xmlns=\"http://www.w3.org/2000/svg\" height=\"24px\"viewBox=\"0 0 24 24\"\n",
              "       width=\"24px\">\n",
              "    <path d=\"M0 0h24v24H0V0z\" fill=\"none\"/>\n",
              "    <path d=\"M18.56 5.44l.94 2.06.94-2.06 2.06-.94-2.06-.94-.94-2.06-.94 2.06-2.06.94zm-11 1L8.5 8.5l.94-2.06 2.06-.94-2.06-.94L8.5 2.5l-.94 2.06-2.06.94zm10 10l.94 2.06.94-2.06 2.06-.94-2.06-.94-.94-2.06-.94 2.06-2.06.94z\"/><path d=\"M17.41 7.96l-1.37-1.37c-.4-.4-.92-.59-1.43-.59-.52 0-1.04.2-1.43.59L10.3 9.45l-7.72 7.72c-.78.78-.78 2.05 0 2.83L4 21.41c.39.39.9.59 1.41.59.51 0 1.02-.2 1.41-.59l7.78-7.78 2.81-2.81c.8-.78.8-2.07 0-2.86zM5.41 20L4 18.59l7.72-7.72 1.47 1.35L5.41 20z\"/>\n",
              "  </svg>\n",
              "      </button>\n",
              "      \n",
              "  <style>\n",
              "    .colab-df-container {\n",
              "      display:flex;\n",
              "      flex-wrap:wrap;\n",
              "      gap: 12px;\n",
              "    }\n",
              "\n",
              "    .colab-df-convert {\n",
              "      background-color: #E8F0FE;\n",
              "      border: none;\n",
              "      border-radius: 50%;\n",
              "      cursor: pointer;\n",
              "      display: none;\n",
              "      fill: #1967D2;\n",
              "      height: 32px;\n",
              "      padding: 0 0 0 0;\n",
              "      width: 32px;\n",
              "    }\n",
              "\n",
              "    .colab-df-convert:hover {\n",
              "      background-color: #E2EBFA;\n",
              "      box-shadow: 0px 1px 2px rgba(60, 64, 67, 0.3), 0px 1px 3px 1px rgba(60, 64, 67, 0.15);\n",
              "      fill: #174EA6;\n",
              "    }\n",
              "\n",
              "    [theme=dark] .colab-df-convert {\n",
              "      background-color: #3B4455;\n",
              "      fill: #D2E3FC;\n",
              "    }\n",
              "\n",
              "    [theme=dark] .colab-df-convert:hover {\n",
              "      background-color: #434B5C;\n",
              "      box-shadow: 0px 1px 3px 1px rgba(0, 0, 0, 0.15);\n",
              "      filter: drop-shadow(0px 1px 2px rgba(0, 0, 0, 0.3));\n",
              "      fill: #FFFFFF;\n",
              "    }\n",
              "  </style>\n",
              "\n",
              "      <script>\n",
              "        const buttonEl =\n",
              "          document.querySelector('#df-f64eedea-675a-418f-b918-93f2b1c9714b button.colab-df-convert');\n",
              "        buttonEl.style.display =\n",
              "          google.colab.kernel.accessAllowed ? 'block' : 'none';\n",
              "\n",
              "        async function convertToInteractive(key) {\n",
              "          const element = document.querySelector('#df-f64eedea-675a-418f-b918-93f2b1c9714b');\n",
              "          const dataTable =\n",
              "            await google.colab.kernel.invokeFunction('convertToInteractive',\n",
              "                                                     [key], {});\n",
              "          if (!dataTable) return;\n",
              "\n",
              "          const docLinkHtml = 'Like what you see? Visit the ' +\n",
              "            '<a target=\"_blank\" href=https://colab.research.google.com/notebooks/data_table.ipynb>data table notebook</a>'\n",
              "            + ' to learn more about interactive tables.';\n",
              "          element.innerHTML = '';\n",
              "          dataTable['output_type'] = 'display_data';\n",
              "          await google.colab.output.renderOutput(dataTable, element);\n",
              "          const docLink = document.createElement('div');\n",
              "          docLink.innerHTML = docLinkHtml;\n",
              "          element.appendChild(docLink);\n",
              "        }\n",
              "      </script>\n",
              "    </div>\n",
              "  </div>\n",
              "  "
            ]
          },
          "metadata": {},
          "execution_count": 7
        }
      ]
    },
    {
      "cell_type": "markdown",
      "source": [
        "## Cleansing Data"
      ],
      "metadata": {
        "id": "-jlZU15JIEf4"
      }
    },
    {
      "cell_type": "code",
      "source": [
        "df.isna().sum()"
      ],
      "metadata": {
        "colab": {
          "base_uri": "https://localhost:8080/"
        },
        "id": "pLeGiWVzIOFj",
        "outputId": "22875980-9fa2-42c1-ec3c-2eab1157e031"
      },
      "execution_count": 8,
      "outputs": [
        {
          "output_type": "execute_result",
          "data": {
            "text/plain": [
              "Unnamed: 0                0\n",
              "Year                      0\n",
              "Month                     0\n",
              "DayofMonth                0\n",
              "DayOfWeek                 0\n",
              "DepTime                   0\n",
              "CRSDepTime                0\n",
              "ArrTime                7110\n",
              "CRSArrTime                0\n",
              "UniqueCarrier             0\n",
              "FlightNum                 0\n",
              "TailNum                   5\n",
              "ActualElapsedTime      8387\n",
              "CRSElapsedTime          198\n",
              "AirTime                8387\n",
              "ArrDelay               8387\n",
              "DepDelay                  0\n",
              "Origin                    0\n",
              "Dest                      0\n",
              "Distance                  0\n",
              "TaxiIn                 7110\n",
              "TaxiOut                 455\n",
              "Cancelled                 0\n",
              "CancellationCode          0\n",
              "Diverted                  0\n",
              "CarrierDelay         689270\n",
              "WeatherDelay         689270\n",
              "NASDelay             689270\n",
              "SecurityDelay        689270\n",
              "LateAircraftDelay    689270\n",
              "dtype: int64"
            ]
          },
          "metadata": {},
          "execution_count": 8
        }
      ]
    },
    {
      "cell_type": "code",
      "source": [
        "df.info()"
      ],
      "metadata": {
        "colab": {
          "base_uri": "https://localhost:8080/"
        },
        "id": "ksdXwx4bIVJ1",
        "outputId": "afd726f6-cd92-4a91-c2f2-fcbadc8ab45d"
      },
      "execution_count": 9,
      "outputs": [
        {
          "output_type": "stream",
          "name": "stdout",
          "text": [
            "<class 'pandas.core.frame.DataFrame'>\n",
            "RangeIndex: 1936758 entries, 0 to 1936757\n",
            "Data columns (total 30 columns):\n",
            " #   Column             Dtype  \n",
            "---  ------             -----  \n",
            " 0   Unnamed: 0         int64  \n",
            " 1   Year               int64  \n",
            " 2   Month              int64  \n",
            " 3   DayofMonth         int64  \n",
            " 4   DayOfWeek          int64  \n",
            " 5   DepTime            float64\n",
            " 6   CRSDepTime         int64  \n",
            " 7   ArrTime            float64\n",
            " 8   CRSArrTime         int64  \n",
            " 9   UniqueCarrier      object \n",
            " 10  FlightNum          int64  \n",
            " 11  TailNum            object \n",
            " 12  ActualElapsedTime  float64\n",
            " 13  CRSElapsedTime     float64\n",
            " 14  AirTime            float64\n",
            " 15  ArrDelay           float64\n",
            " 16  DepDelay           float64\n",
            " 17  Origin             object \n",
            " 18  Dest               object \n",
            " 19  Distance           int64  \n",
            " 20  TaxiIn             float64\n",
            " 21  TaxiOut            float64\n",
            " 22  Cancelled          int64  \n",
            " 23  CancellationCode   object \n",
            " 24  Diverted           int64  \n",
            " 25  CarrierDelay       float64\n",
            " 26  WeatherDelay       float64\n",
            " 27  NASDelay           float64\n",
            " 28  SecurityDelay      float64\n",
            " 29  LateAircraftDelay  float64\n",
            "dtypes: float64(14), int64(11), object(5)\n",
            "memory usage: 443.3+ MB\n"
          ]
        }
      ]
    },
    {
      "cell_type": "code",
      "source": [
        "import numpy as np\n",
        "\n",
        "for stuff in df.keys():\n",
        "  if pd.api.types.is_object_dtype(df[stuff]) == False:\n",
        "    print(stuff)\n",
        "    df[stuff].fillna(np.mean(df[stuff]), inplace=True)"
      ],
      "metadata": {
        "colab": {
          "base_uri": "https://localhost:8080/"
        },
        "id": "WUxSxGQJIeSD",
        "outputId": "3af6c7cf-84ab-4d0e-f420-882f664ee211"
      },
      "execution_count": 10,
      "outputs": [
        {
          "output_type": "stream",
          "name": "stdout",
          "text": [
            "Unnamed: 0\n",
            "Year\n",
            "Month\n",
            "DayofMonth\n",
            "DayOfWeek\n",
            "DepTime\n",
            "CRSDepTime\n",
            "ArrTime\n",
            "CRSArrTime\n",
            "FlightNum\n",
            "ActualElapsedTime\n",
            "CRSElapsedTime\n",
            "AirTime\n",
            "ArrDelay\n",
            "DepDelay\n",
            "Distance\n",
            "TaxiIn\n",
            "TaxiOut\n",
            "Cancelled\n",
            "Diverted\n",
            "CarrierDelay\n",
            "WeatherDelay\n",
            "NASDelay\n",
            "SecurityDelay\n",
            "LateAircraftDelay\n"
          ]
        }
      ]
    },
    {
      "cell_type": "code",
      "source": [
        "df.isna().sum()"
      ],
      "metadata": {
        "colab": {
          "base_uri": "https://localhost:8080/"
        },
        "id": "-b_GnWSfJSzb",
        "outputId": "30e45770-5a58-4a11-c883-2a784686981d"
      },
      "execution_count": 11,
      "outputs": [
        {
          "output_type": "execute_result",
          "data": {
            "text/plain": [
              "Unnamed: 0           0\n",
              "Year                 0\n",
              "Month                0\n",
              "DayofMonth           0\n",
              "DayOfWeek            0\n",
              "DepTime              0\n",
              "CRSDepTime           0\n",
              "ArrTime              0\n",
              "CRSArrTime           0\n",
              "UniqueCarrier        0\n",
              "FlightNum            0\n",
              "TailNum              5\n",
              "ActualElapsedTime    0\n",
              "CRSElapsedTime       0\n",
              "AirTime              0\n",
              "ArrDelay             0\n",
              "DepDelay             0\n",
              "Origin               0\n",
              "Dest                 0\n",
              "Distance             0\n",
              "TaxiIn               0\n",
              "TaxiOut              0\n",
              "Cancelled            0\n",
              "CancellationCode     0\n",
              "Diverted             0\n",
              "CarrierDelay         0\n",
              "WeatherDelay         0\n",
              "NASDelay             0\n",
              "SecurityDelay        0\n",
              "LateAircraftDelay    0\n",
              "dtype: int64"
            ]
          },
          "metadata": {},
          "execution_count": 11
        }
      ]
    },
    {
      "cell_type": "code",
      "source": [
        "df[\"TailNum\"].dropna(inplace=True)\n",
        "df.drop(\"Unnamed: 0\", inplace=True, axis=1)"
      ],
      "metadata": {
        "id": "AhxuQvDUJULK"
      },
      "execution_count": 12,
      "outputs": []
    },
    {
      "cell_type": "code",
      "source": [
        "df.isna().sum()"
      ],
      "metadata": {
        "colab": {
          "base_uri": "https://localhost:8080/"
        },
        "id": "-MQZi6H6JqJ0",
        "outputId": "aa759c32-b7cb-46c3-bec3-43d97c88e543"
      },
      "execution_count": 13,
      "outputs": [
        {
          "output_type": "execute_result",
          "data": {
            "text/plain": [
              "Year                 0\n",
              "Month                0\n",
              "DayofMonth           0\n",
              "DayOfWeek            0\n",
              "DepTime              0\n",
              "CRSDepTime           0\n",
              "ArrTime              0\n",
              "CRSArrTime           0\n",
              "UniqueCarrier        0\n",
              "FlightNum            0\n",
              "TailNum              5\n",
              "ActualElapsedTime    0\n",
              "CRSElapsedTime       0\n",
              "AirTime              0\n",
              "ArrDelay             0\n",
              "DepDelay             0\n",
              "Origin               0\n",
              "Dest                 0\n",
              "Distance             0\n",
              "TaxiIn               0\n",
              "TaxiOut              0\n",
              "Cancelled            0\n",
              "CancellationCode     0\n",
              "Diverted             0\n",
              "CarrierDelay         0\n",
              "WeatherDelay         0\n",
              "NASDelay             0\n",
              "SecurityDelay        0\n",
              "LateAircraftDelay    0\n",
              "dtype: int64"
            ]
          },
          "metadata": {},
          "execution_count": 13
        }
      ]
    },
    {
      "cell_type": "code",
      "source": [
        "len(df)"
      ],
      "metadata": {
        "colab": {
          "base_uri": "https://localhost:8080/"
        },
        "id": "sCEbJaqLJvBd",
        "outputId": "a99158f2-610e-44dc-f521-07ff26a085e2"
      },
      "execution_count": 14,
      "outputs": [
        {
          "output_type": "execute_result",
          "data": {
            "text/plain": [
              "1936758"
            ]
          },
          "metadata": {},
          "execution_count": 14
        }
      ]
    },
    {
      "cell_type": "markdown",
      "source": [
        "## Pre-Processing Data"
      ],
      "metadata": {
        "id": "Rc8KFqSGJwra"
      }
    },
    {
      "cell_type": "code",
      "source": [
        "from sklearn.preprocessing import LabelEncoder\n",
        "\n",
        "for stuff in df.keys():\n",
        "  if pd.api.types.is_object_dtype(df[stuff]):\n",
        "    le = LabelEncoder()\n",
        "    print(stuff)\n",
        "    print(\"-\"*20)\n",
        "    df[stuff] = le.fit_transform(df[stuff])\n",
        "    print(le.classes_)"
      ],
      "metadata": {
        "colab": {
          "base_uri": "https://localhost:8080/"
        },
        "id": "oT05EqODK7Kn",
        "outputId": "ab312323-2e81-4db8-e025-d289acab0af4"
      },
      "execution_count": 15,
      "outputs": [
        {
          "output_type": "stream",
          "name": "stdout",
          "text": [
            "UniqueCarrier\n",
            "--------------------\n",
            "['9E' 'AA' 'AQ' 'AS' 'B6' 'CO' 'DL' 'EV' 'F9' 'FL' 'HA' 'MQ' 'NW' 'OH'\n",
            " 'OO' 'UA' 'US' 'WN' 'XE' 'YV']\n",
            "TailNum\n",
            "--------------------\n",
            "['80009E' '80019E' '80059E' ... 'NHZOAL' 'Unknow' nan]\n",
            "Origin\n",
            "--------------------\n",
            "['ABE' 'ABI' 'ABQ' 'ABY' 'ACK' 'ACT' 'ACV' 'ACY' 'ADK' 'ADQ' 'AEX' 'AGS'\n",
            " 'AKN' 'ALB' 'ALO' 'AMA' 'ANC' 'ASE' 'ATL' 'ATW' 'AUS' 'AVL' 'AVP' 'AZO'\n",
            " 'BDL' 'BET' 'BFL' 'BGM' 'BGR' 'BHM' 'BIL' 'BIS' 'BJI' 'BLI' 'BMI' 'BNA'\n",
            " 'BOI' 'BOS' 'BPT' 'BQK' 'BQN' 'BRO' 'BRW' 'BTM' 'BTR' 'BTV' 'BUF' 'BUR'\n",
            " 'BWI' 'BZN' 'CAE' 'CAK' 'CDC' 'CDV' 'CEC' 'CHA' 'CHO' 'CHS' 'CIC' 'CID'\n",
            " 'CLD' 'CLE' 'CLL' 'CLT' 'CMH' 'CMI' 'CMX' 'COD' 'COS' 'CPR' 'CRP' 'CRW'\n",
            " 'CSG' 'CVG' 'CWA' 'DAB' 'DAL' 'DAY' 'DBQ' 'DCA' 'DEN' 'DFW' 'DHN' 'DLG'\n",
            " 'DLH' 'DRO' 'DSM' 'DTW' 'EGE' 'EKO' 'ELM' 'ELP' 'ERI' 'EUG' 'EVV' 'EWN'\n",
            " 'EWR' 'EYW' 'FAI' 'FAR' 'FAT' 'FAY' 'FCA' 'FLG' 'FLL' 'FLO' 'FNT' 'FSD'\n",
            " 'FSM' 'FWA' 'GCC' 'GEG' 'GFK' 'GGG' 'GJT' 'GNV' 'GPT' 'GRB' 'GRK' 'GRR'\n",
            " 'GSO' 'GSP' 'GST' 'GTF' 'GTR' 'GUC' 'HDN' 'HHH' 'HLN' 'HNL' 'HOU' 'HPN'\n",
            " 'HRL' 'HSV' 'HTS' 'IAD' 'IAH' 'ICT' 'IDA' 'ILM' 'IND' 'INL' 'IPL' 'ISP'\n",
            " 'ITH' 'ITO' 'IYK' 'JAC' 'JAN' 'JAX' 'JFK' 'JNU' 'KOA' 'KTN' 'LAN' 'LAS'\n",
            " 'LAW' 'LAX' 'LBB' 'LCH' 'LEX' 'LFT' 'LGA' 'LGB' 'LIH' 'LIT' 'LMT' 'LNK'\n",
            " 'LRD' 'LSE' 'LWB' 'LWS' 'LYH' 'MAF' 'MBS' 'MCI' 'MCN' 'MCO' 'MDT' 'MDW'\n",
            " 'MEI' 'MEM' 'MFE' 'MFR' 'MGM' 'MHT' 'MIA' 'MKE' 'MKG' 'MLB' 'MLI' 'MLU'\n",
            " 'MOB' 'MOD' 'MOT' 'MQT' 'MRY' 'MSN' 'MSO' 'MSP' 'MSY' 'MTJ' 'MYR' 'OAJ'\n",
            " 'OAK' 'OGG' 'OKC' 'OMA' 'OME' 'ONT' 'ORD' 'ORF' 'OTH' 'OTZ' 'OXR' 'PBI'\n",
            " 'PDX' 'PFN' 'PHF' 'PHL' 'PHX' 'PIA' 'PIH' 'PIR' 'PIT' 'PLN' 'PMD' 'PNS'\n",
            " 'PSC' 'PSE' 'PSG' 'PSP' 'PUB' 'PVD' 'PWM' 'RAP' 'RDD' 'RDM' 'RDU' 'RFD'\n",
            " 'RHI' 'RIC' 'RKS' 'RNO' 'ROA' 'ROC' 'ROW' 'RST' 'RSW' 'SAN' 'SAT' 'SAV'\n",
            " 'SBA' 'SBN' 'SBP' 'SCC' 'SCE' 'SDF' 'SEA' 'SFO' 'SGF' 'SGU' 'SHV' 'SIT'\n",
            " 'SJC' 'SJT' 'SJU' 'SLC' 'SLE' 'SMF' 'SMX' 'SNA' 'SPI' 'SPS' 'SRQ' 'STL'\n",
            " 'STT' 'STX' 'SUN' 'SUX' 'SWF' 'SYR' 'TEX' 'TLH' 'TOL' 'TPA' 'TRI' 'TUL'\n",
            " 'TUP' 'TUS' 'TVC' 'TWF' 'TXK' 'TYR' 'TYS' 'VLD' 'VPS' 'WRG' 'WYS' 'XNA'\n",
            " 'YAK' 'YKM' 'YUM']\n",
            "Dest\n",
            "--------------------\n",
            "['ABE' 'ABI' 'ABQ' 'ABY' 'ACK' 'ACT' 'ACV' 'ACY' 'ADK' 'ADQ' 'AEX' 'AGS'\n",
            " 'AKN' 'ALB' 'ALO' 'AMA' 'ANC' 'ASE' 'ATL' 'ATW' 'AUS' 'AVL' 'AVP' 'AZO'\n",
            " 'BDL' 'BET' 'BFL' 'BGM' 'BGR' 'BHM' 'BIL' 'BIS' 'BJI' 'BLI' 'BMI' 'BNA'\n",
            " 'BOI' 'BOS' 'BPT' 'BQK' 'BQN' 'BRO' 'BRW' 'BTM' 'BTR' 'BTV' 'BUF' 'BUR'\n",
            " 'BWI' 'BZN' 'CAE' 'CAK' 'CDC' 'CDV' 'CEC' 'CHA' 'CHO' 'CHS' 'CIC' 'CID'\n",
            " 'CLD' 'CLE' 'CLL' 'CLT' 'CMH' 'CMI' 'CMX' 'COD' 'COS' 'CPR' 'CRP' 'CRW'\n",
            " 'CSG' 'CVG' 'CWA' 'CYS' 'DAB' 'DAL' 'DAY' 'DBQ' 'DCA' 'DEN' 'DFW' 'DHN'\n",
            " 'DLG' 'DLH' 'DRO' 'DSM' 'DTW' 'EGE' 'EKO' 'ELM' 'ELP' 'ERI' 'EUG' 'EVV'\n",
            " 'EWN' 'EWR' 'EYW' 'FAI' 'FAR' 'FAT' 'FAY' 'FCA' 'FLG' 'FLL' 'FLO' 'FNT'\n",
            " 'FSD' 'FSM' 'FWA' 'GCC' 'GEG' 'GFK' 'GGG' 'GJT' 'GNV' 'GPT' 'GRB' 'GRK'\n",
            " 'GRR' 'GSO' 'GSP' 'GST' 'GTF' 'GTR' 'GUC' 'HDN' 'HHH' 'HLN' 'HNL' 'HOU'\n",
            " 'HPN' 'HRL' 'HSV' 'HTS' 'IAD' 'IAH' 'ICT' 'IDA' 'ILM' 'IND' 'INL' 'IPL'\n",
            " 'ISP' 'ITH' 'ITO' 'IYK' 'JAC' 'JAN' 'JAX' 'JFK' 'JNU' 'KOA' 'KTN' 'LAN'\n",
            " 'LAS' 'LAW' 'LAX' 'LBB' 'LCH' 'LEX' 'LFT' 'LGA' 'LGB' 'LIH' 'LIT' 'LMT'\n",
            " 'LNK' 'LRD' 'LSE' 'LWB' 'LWS' 'LYH' 'MAF' 'MBS' 'MCI' 'MCN' 'MCO' 'MDT'\n",
            " 'MDW' 'MEI' 'MEM' 'MFE' 'MFR' 'MGM' 'MHT' 'MIA' 'MKE' 'MKG' 'MLB' 'MLI'\n",
            " 'MLU' 'MOB' 'MOD' 'MOT' 'MQT' 'MRY' 'MSN' 'MSO' 'MSP' 'MSY' 'MTJ' 'MYR'\n",
            " 'OAJ' 'OAK' 'OGD' 'OGG' 'OKC' 'OMA' 'OME' 'ONT' 'ORD' 'ORF' 'OTH' 'OTZ'\n",
            " 'OXR' 'PBI' 'PDX' 'PFN' 'PHF' 'PHL' 'PHX' 'PIA' 'PIH' 'PIR' 'PIT' 'PLN'\n",
            " 'PMD' 'PNS' 'PSC' 'PSE' 'PSG' 'PSP' 'PVD' 'PWM' 'RAP' 'RDD' 'RDM' 'RDU'\n",
            " 'RFD' 'RHI' 'RIC' 'RKS' 'RNO' 'ROA' 'ROC' 'ROW' 'RST' 'RSW' 'SAN' 'SAT'\n",
            " 'SAV' 'SBA' 'SBN' 'SBP' 'SCC' 'SCE' 'SDF' 'SEA' 'SFO' 'SGF' 'SGU' 'SHV'\n",
            " 'SIT' 'SJC' 'SJT' 'SJU' 'SLC' 'SLE' 'SMF' 'SMX' 'SNA' 'SPI' 'SPS' 'SRQ'\n",
            " 'STL' 'STT' 'STX' 'SUN' 'SUX' 'SWF' 'SYR' 'TEX' 'TLH' 'TOL' 'TPA' 'TRI'\n",
            " 'TUL' 'TUP' 'TUS' 'TVC' 'TWF' 'TXK' 'TYR' 'TYS' 'VLD' 'VPS' 'WRG' 'WYS'\n",
            " 'XNA' 'YAK' 'YKM' 'YUM']\n",
            "CancellationCode\n",
            "--------------------\n",
            "['A' 'B' 'C' 'N']\n"
          ]
        }
      ]
    },
    {
      "cell_type": "code",
      "source": [
        "from sklearn.model_selection import train_test_split\n",
        "\n",
        "X = df.drop(\"LateAircraftDelay\", axis=1)\n",
        "y = df[\"LateAircraftDelay\"]\n",
        "\n",
        "X_train, X_test, y_train, y_test = train_test_split(X, y, test_size=0.2)"
      ],
      "metadata": {
        "id": "xJsjNMI4QxZe"
      },
      "execution_count": 16,
      "outputs": []
    },
    {
      "cell_type": "markdown",
      "source": [
        "## Training the Data"
      ],
      "metadata": {
        "id": "gTstyFeYKFr1"
      }
    },
    {
      "cell_type": "code",
      "source": [
        "from sklearn.ensemble import RandomForestRegressor\n",
        "from sklearn.svm import SVR\n",
        "from sklearn.neighbors import KNeighborsRegressor\n",
        "from xgboost import XGBRegressor"
      ],
      "metadata": {
        "id": "3GWo1EMuKME5"
      },
      "execution_count": 17,
      "outputs": []
    },
    {
      "cell_type": "code",
      "source": [
        "rfr = RandomForestRegressor().fit(X_train, y_train)\n",
        "rfr.score(X_test, y_test)"
      ],
      "metadata": {
        "colab": {
          "base_uri": "https://localhost:8080/"
        },
        "id": "h_Bds_gRKuwG",
        "outputId": "81832dc9-758e-48c0-b197-22a407871529"
      },
      "execution_count": 18,
      "outputs": [
        {
          "output_type": "execute_result",
          "data": {
            "text/plain": [
              "0.9961400060186686"
            ]
          },
          "metadata": {},
          "execution_count": 18
        }
      ]
    },
    {
      "cell_type": "code",
      "source": [
        "svreg = SVR().fit(X_train, y_train) \n",
        "svreg.score(X_test, y_test)"
      ],
      "metadata": {
        "id": "mmz3vUJwKz-i"
      },
      "execution_count": null,
      "outputs": []
    },
    {
      "cell_type": "code",
      "source": [
        "knreg = KNeighborsRegressor().fit(X_train, y_train) \n",
        "knreg.score(X_test, y_test)"
      ],
      "metadata": {
        "id": "ObXCMSbELkoh"
      },
      "execution_count": null,
      "outputs": []
    },
    {
      "cell_type": "code",
      "source": [
        "xgreg = XGBRegressor().fit(X_train.values, y_train.values)\n",
        "xgreg.score(X_test.values, y_test.values)"
      ],
      "metadata": {
        "id": "WAFNIVPYLr2i"
      },
      "execution_count": null,
      "outputs": []
    },
    {
      "cell_type": "code",
      "source": [],
      "metadata": {
        "id": "licatU8EL1Ez"
      },
      "execution_count": null,
      "outputs": []
    }
  ]
}