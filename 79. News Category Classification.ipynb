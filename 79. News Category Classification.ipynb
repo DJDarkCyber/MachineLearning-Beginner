{
 "cells": [
  {
   "cell_type": "markdown",
   "id": "c08578f4",
   "metadata": {},
   "source": [
    "# News Category Classification"
   ]
  },
  {
   "cell_type": "markdown",
   "id": "9b2f3c55",
   "metadata": {},
   "source": [
    "## Importing required datasets"
   ]
  },
  {
   "cell_type": "code",
   "execution_count": 17,
   "id": "d4378b2e",
   "metadata": {},
   "outputs": [],
   "source": [
    "import json\n",
    "from sklearn.model_selection import train_test_split\n",
    "from sklearn.preprocessing import LabelEncoder\n",
    "from sklearn.feature_extraction.text import CountVectorizer\n",
    "from xgboost import XGBClassifier\n",
    "import numpy as np\n",
    "import pandas as pd\n",
    "import nltk\n",
    "import string\n",
    "from nltk.corpus import stopwords"
   ]
  },
  {
   "cell_type": "markdown",
   "id": "5aa1395f",
   "metadata": {},
   "source": [
    "## Getting dataset"
   ]
  },
  {
   "cell_type": "code",
   "execution_count": 45,
   "id": "66bca0ba",
   "metadata": {},
   "outputs": [
    {
     "data": {
      "text/html": [
       "<div>\n",
       "<style scoped>\n",
       "    .dataframe tbody tr th:only-of-type {\n",
       "        vertical-align: middle;\n",
       "    }\n",
       "\n",
       "    .dataframe tbody tr th {\n",
       "        vertical-align: top;\n",
       "    }\n",
       "\n",
       "    .dataframe thead th {\n",
       "        text-align: right;\n",
       "    }\n",
       "</style>\n",
       "<table border=\"1\" class=\"dataframe\">\n",
       "  <thead>\n",
       "    <tr style=\"text-align: right;\">\n",
       "      <th></th>\n",
       "      <th>link</th>\n",
       "      <th>headline</th>\n",
       "      <th>category</th>\n",
       "      <th>short_description</th>\n",
       "      <th>authors</th>\n",
       "      <th>date</th>\n",
       "    </tr>\n",
       "  </thead>\n",
       "  <tbody>\n",
       "    <tr>\n",
       "      <th>0</th>\n",
       "      <td>https://www.huffpost.com/entry/covid-boosters-...</td>\n",
       "      <td>Over 4 Million Americans Roll Up Sleeves For O...</td>\n",
       "      <td>U.S. NEWS</td>\n",
       "      <td>Health experts said it is too early to predict...</td>\n",
       "      <td>Carla K. Johnson, AP</td>\n",
       "      <td>2022-09-23</td>\n",
       "    </tr>\n",
       "    <tr>\n",
       "      <th>1</th>\n",
       "      <td>https://www.huffpost.com/entry/funniest-tweets...</td>\n",
       "      <td>23 Of The Funniest Tweets About Cats And Dogs ...</td>\n",
       "      <td>COMEDY</td>\n",
       "      <td>\"Until you have a dog you don't understand wha...</td>\n",
       "      <td>Elyse Wanshel</td>\n",
       "      <td>2022-09-23</td>\n",
       "    </tr>\n",
       "    <tr>\n",
       "      <th>2</th>\n",
       "      <td>https://www.huffpost.com/entry/funniest-parent...</td>\n",
       "      <td>The Funniest Tweets From Parents This Week (Se...</td>\n",
       "      <td>PARENTING</td>\n",
       "      <td>\"Accidentally put grown-up toothpaste on my to...</td>\n",
       "      <td>Caroline Bologna</td>\n",
       "      <td>2022-09-23</td>\n",
       "    </tr>\n",
       "    <tr>\n",
       "      <th>3</th>\n",
       "      <td>https://www.huffpost.com/entry/amy-cooper-lose...</td>\n",
       "      <td>Woman Who Called Cops On Black Bird-Watcher Lo...</td>\n",
       "      <td>U.S. NEWS</td>\n",
       "      <td>Amy Cooper accused investment firm Franklin Te...</td>\n",
       "      <td>Nina Golgowski</td>\n",
       "      <td>2022-09-22</td>\n",
       "    </tr>\n",
       "    <tr>\n",
       "      <th>4</th>\n",
       "      <td>https://www.huffpost.com/entry/belk-worker-fou...</td>\n",
       "      <td>Cleaner Was Dead In Belk Bathroom For 4 Days B...</td>\n",
       "      <td>U.S. NEWS</td>\n",
       "      <td>The 63-year-old woman was seen working at the ...</td>\n",
       "      <td></td>\n",
       "      <td>2022-09-22</td>\n",
       "    </tr>\n",
       "  </tbody>\n",
       "</table>\n",
       "</div>"
      ],
      "text/plain": [
       "                                                link  ...       date\n",
       "0  https://www.huffpost.com/entry/covid-boosters-...  ... 2022-09-23\n",
       "1  https://www.huffpost.com/entry/funniest-tweets...  ... 2022-09-23\n",
       "2  https://www.huffpost.com/entry/funniest-parent...  ... 2022-09-23\n",
       "3  https://www.huffpost.com/entry/amy-cooper-lose...  ... 2022-09-22\n",
       "4  https://www.huffpost.com/entry/belk-worker-fou...  ... 2022-09-22\n",
       "\n",
       "[5 rows x 6 columns]"
      ]
     },
     "execution_count": 45,
     "metadata": {},
     "output_type": "execute_result"
    }
   ],
   "source": [
    "df = pd.read_json(\"data/proj79/News_Category_Dataset_v3.json\", lines=True)\n",
    "df.head()"
   ]
  },
  {
   "cell_type": "markdown",
   "id": "c01bc372",
   "metadata": {},
   "source": [
    "## Cleaning dataset"
   ]
  },
  {
   "cell_type": "code",
   "execution_count": 46,
   "id": "6e43efe2",
   "metadata": {},
   "outputs": [
    {
     "data": {
      "text/plain": [
       "link                 0\n",
       "headline             0\n",
       "category             0\n",
       "short_description    0\n",
       "authors              0\n",
       "date                 0\n",
       "dtype: int64"
      ]
     },
     "execution_count": 46,
     "metadata": {},
     "output_type": "execute_result"
    }
   ],
   "source": [
    "df.isna().sum()"
   ]
  },
  {
   "cell_type": "markdown",
   "id": "3e29ad18",
   "metadata": {},
   "source": [
    "## Pre-Processing dataset"
   ]
  },
  {
   "cell_type": "code",
   "execution_count": 47,
   "id": "cdfaaf9d",
   "metadata": {},
   "outputs": [],
   "source": [
    "def preprocess_text(text):\n",
    "    text = text.lower()\n",
    "    \n",
    "    text = text.translate(str.maketrans('', '', string.punctuation))\n",
    "    words = text.split()\n",
    "    stop_words = set(stopwords.words(\"english\"))\n",
    "    words = [word for word in words if word not in stop_words]\n",
    "    text = ' '.join(words)\n",
    "    return text\n",
    "\n",
    "headline = []\n",
    "for head in df[\"headline\"]:\n",
    "    preprocessed_head = preprocess_text(head)\n",
    "    headline.append(preprocessed_head)\n",
    "\n",
    "df[\"headline\"] = headline\n",
    "\n",
    "short_desc = []\n",
    "for desc in df[\"short_description\"]:\n",
    "    preprocessed = preprocess_text(desc)\n",
    "    short_desc.append(preprocessed)\n",
    "\n",
    "df[\"short_description\"] = short_desc"
   ]
  },
  {
   "cell_type": "code",
   "execution_count": 48,
   "id": "a3fde08d",
   "metadata": {},
   "outputs": [
    {
     "data": {
      "text/html": [
       "<div>\n",
       "<style scoped>\n",
       "    .dataframe tbody tr th:only-of-type {\n",
       "        vertical-align: middle;\n",
       "    }\n",
       "\n",
       "    .dataframe tbody tr th {\n",
       "        vertical-align: top;\n",
       "    }\n",
       "\n",
       "    .dataframe thead th {\n",
       "        text-align: right;\n",
       "    }\n",
       "</style>\n",
       "<table border=\"1\" class=\"dataframe\">\n",
       "  <thead>\n",
       "    <tr style=\"text-align: right;\">\n",
       "      <th></th>\n",
       "      <th>link</th>\n",
       "      <th>headline</th>\n",
       "      <th>category</th>\n",
       "      <th>short_description</th>\n",
       "      <th>authors</th>\n",
       "      <th>date</th>\n",
       "    </tr>\n",
       "  </thead>\n",
       "  <tbody>\n",
       "    <tr>\n",
       "      <th>0</th>\n",
       "      <td>https://www.huffpost.com/entry/covid-boosters-...</td>\n",
       "      <td>4 million americans roll sleeves omicrontarget...</td>\n",
       "      <td>U.S. NEWS</td>\n",
       "      <td>health experts said early predict whether dema...</td>\n",
       "      <td>Carla K. Johnson, AP</td>\n",
       "      <td>2022-09-23</td>\n",
       "    </tr>\n",
       "    <tr>\n",
       "      <th>1</th>\n",
       "      <td>https://www.huffpost.com/entry/funniest-tweets...</td>\n",
       "      <td>23 funniest tweets cats dogs week sept 1723</td>\n",
       "      <td>COMEDY</td>\n",
       "      <td>dog dont understand could eaten</td>\n",
       "      <td>Elyse Wanshel</td>\n",
       "      <td>2022-09-23</td>\n",
       "    </tr>\n",
       "    <tr>\n",
       "      <th>2</th>\n",
       "      <td>https://www.huffpost.com/entry/funniest-parent...</td>\n",
       "      <td>funniest tweets parents week sept 1723</td>\n",
       "      <td>PARENTING</td>\n",
       "      <td>accidentally put grownup toothpaste toddler’s ...</td>\n",
       "      <td>Caroline Bologna</td>\n",
       "      <td>2022-09-23</td>\n",
       "    </tr>\n",
       "    <tr>\n",
       "      <th>3</th>\n",
       "      <td>https://www.huffpost.com/entry/amy-cooper-lose...</td>\n",
       "      <td>woman called cops black birdwatcher loses laws...</td>\n",
       "      <td>U.S. NEWS</td>\n",
       "      <td>amy cooper accused investment firm franklin te...</td>\n",
       "      <td>Nina Golgowski</td>\n",
       "      <td>2022-09-22</td>\n",
       "    </tr>\n",
       "    <tr>\n",
       "      <th>4</th>\n",
       "      <td>https://www.huffpost.com/entry/belk-worker-fou...</td>\n",
       "      <td>cleaner dead belk bathroom 4 days body found p...</td>\n",
       "      <td>U.S. NEWS</td>\n",
       "      <td>63yearold woman seen working south carolina st...</td>\n",
       "      <td></td>\n",
       "      <td>2022-09-22</td>\n",
       "    </tr>\n",
       "  </tbody>\n",
       "</table>\n",
       "</div>"
      ],
      "text/plain": [
       "                                                link  ...       date\n",
       "0  https://www.huffpost.com/entry/covid-boosters-...  ... 2022-09-23\n",
       "1  https://www.huffpost.com/entry/funniest-tweets...  ... 2022-09-23\n",
       "2  https://www.huffpost.com/entry/funniest-parent...  ... 2022-09-23\n",
       "3  https://www.huffpost.com/entry/amy-cooper-lose...  ... 2022-09-22\n",
       "4  https://www.huffpost.com/entry/belk-worker-fou...  ... 2022-09-22\n",
       "\n",
       "[5 rows x 6 columns]"
      ]
     },
     "execution_count": 48,
     "metadata": {},
     "output_type": "execute_result"
    }
   ],
   "source": [
    "df.head()"
   ]
  },
  {
   "cell_type": "code",
   "execution_count": 49,
   "id": "eddaf1e6",
   "metadata": {},
   "outputs": [
    {
     "data": {
      "text/html": [
       "<div>\n",
       "<style scoped>\n",
       "    .dataframe tbody tr th:only-of-type {\n",
       "        vertical-align: middle;\n",
       "    }\n",
       "\n",
       "    .dataframe tbody tr th {\n",
       "        vertical-align: top;\n",
       "    }\n",
       "\n",
       "    .dataframe thead th {\n",
       "        text-align: right;\n",
       "    }\n",
       "</style>\n",
       "<table border=\"1\" class=\"dataframe\">\n",
       "  <thead>\n",
       "    <tr style=\"text-align: right;\">\n",
       "      <th></th>\n",
       "      <th>headline</th>\n",
       "      <th>category</th>\n",
       "      <th>short_description</th>\n",
       "    </tr>\n",
       "  </thead>\n",
       "  <tbody>\n",
       "    <tr>\n",
       "      <th>0</th>\n",
       "      <td>4 million americans roll sleeves omicrontarget...</td>\n",
       "      <td>U.S. NEWS</td>\n",
       "      <td>health experts said early predict whether dema...</td>\n",
       "    </tr>\n",
       "    <tr>\n",
       "      <th>1</th>\n",
       "      <td>23 funniest tweets cats dogs week sept 1723</td>\n",
       "      <td>COMEDY</td>\n",
       "      <td>dog dont understand could eaten</td>\n",
       "    </tr>\n",
       "    <tr>\n",
       "      <th>2</th>\n",
       "      <td>funniest tweets parents week sept 1723</td>\n",
       "      <td>PARENTING</td>\n",
       "      <td>accidentally put grownup toothpaste toddler’s ...</td>\n",
       "    </tr>\n",
       "    <tr>\n",
       "      <th>3</th>\n",
       "      <td>woman called cops black birdwatcher loses laws...</td>\n",
       "      <td>U.S. NEWS</td>\n",
       "      <td>amy cooper accused investment firm franklin te...</td>\n",
       "    </tr>\n",
       "    <tr>\n",
       "      <th>4</th>\n",
       "      <td>cleaner dead belk bathroom 4 days body found p...</td>\n",
       "      <td>U.S. NEWS</td>\n",
       "      <td>63yearold woman seen working south carolina st...</td>\n",
       "    </tr>\n",
       "  </tbody>\n",
       "</table>\n",
       "</div>"
      ],
      "text/plain": [
       "                                            headline  ...                                  short_description\n",
       "0  4 million americans roll sleeves omicrontarget...  ...  health experts said early predict whether dema...\n",
       "1        23 funniest tweets cats dogs week sept 1723  ...                    dog dont understand could eaten\n",
       "2             funniest tweets parents week sept 1723  ...  accidentally put grownup toothpaste toddler’s ...\n",
       "3  woman called cops black birdwatcher loses laws...  ...  amy cooper accused investment firm franklin te...\n",
       "4  cleaner dead belk bathroom 4 days body found p...  ...  63yearold woman seen working south carolina st...\n",
       "\n",
       "[5 rows x 3 columns]"
      ]
     },
     "execution_count": 49,
     "metadata": {},
     "output_type": "execute_result"
    }
   ],
   "source": [
    "df.drop([\"link\", \"authors\", \"date\"], axis=1, inplace=True)\n",
    "df.head()"
   ]
  },
  {
   "cell_type": "code",
   "execution_count": 50,
   "id": "571f5614",
   "metadata": {},
   "outputs": [
    {
     "data": {
      "text/plain": [
       "array(['ARTS', 'ARTS & CULTURE', 'BLACK VOICES', 'BUSINESS', 'COLLEGE',\n",
       "       'COMEDY', 'CRIME', 'CULTURE & ARTS', 'DIVORCE', 'EDUCATION',\n",
       "       'ENTERTAINMENT', 'ENVIRONMENT', 'FIFTY', 'FOOD & DRINK',\n",
       "       'GOOD NEWS', 'GREEN', 'HEALTHY LIVING', 'HOME & LIVING', 'IMPACT',\n",
       "       'LATINO VOICES', 'MEDIA', 'MONEY', 'PARENTING', 'PARENTS',\n",
       "       'POLITICS', 'QUEER VOICES', 'RELIGION', 'SCIENCE', 'SPORTS',\n",
       "       'STYLE', 'STYLE & BEAUTY', 'TASTE', 'TECH', 'THE WORLDPOST',\n",
       "       'TRAVEL', 'U.S. NEWS', 'WEDDINGS', 'WEIRD NEWS', 'WELLNESS',\n",
       "       'WOMEN', 'WORLD NEWS', 'WORLDPOST'], dtype=object)"
      ]
     },
     "execution_count": 50,
     "metadata": {},
     "output_type": "execute_result"
    }
   ],
   "source": [
    "X = df.drop(\"category\", axis=1)\n",
    "y = df[\"category\"]\n",
    "\n",
    "le = LabelEncoder()\n",
    "y = le.fit_transform(y)\n",
    "le.classes_"
   ]
  },
  {
   "cell_type": "code",
   "execution_count": 51,
   "id": "e9ac9068",
   "metadata": {},
   "outputs": [],
   "source": [
    "\n",
    "\n",
    "X_train, X_test, y_train, y_test = train_test_split(X, y, test_size=0.2)"
   ]
  },
  {
   "cell_type": "code",
   "execution_count": 52,
   "id": "88ea4316",
   "metadata": {},
   "outputs": [],
   "source": [
    "cv = CountVectorizer()\n"
   ]
  },
  {
   "cell_type": "code",
   "execution_count": 53,
   "id": "4ed72870",
   "metadata": {},
   "outputs": [],
   "source": [
    "X_train = cv.fit_transform(X_train['headline'] + X_train['short_description'])\n",
    "X_test = cv.transform(X_test['headline'] + X_test['short_description'])"
   ]
  },
  {
   "cell_type": "markdown",
   "id": "e6a3b3c5",
   "metadata": {},
   "source": [
    "## Training the model"
   ]
  },
  {
   "cell_type": "code",
   "execution_count": 55,
   "id": "76c75723",
   "metadata": {},
   "outputs": [],
   "source": [
    "import xgboost as xgb\n",
    "\n",
    "dtrain = xgb.DMatrix(X_train, label=y_train)\n",
    "dtest = xgb.DMatrix(X_test, label=y_test)"
   ]
  },
  {
   "cell_type": "code",
   "execution_count": 56,
   "id": "5ca9afee",
   "metadata": {},
   "outputs": [],
   "source": [
    "params = {\n",
    "    'max_depth': 6,\n",
    "    'eta': 0.1,\n",
    "    'objective': 'multi:softmax',\n",
    "    'num_class': len(np.unique(y_train)),\n",
    "    'eval_metric': 'merror'\n",
    "}"
   ]
  },
  {
   "cell_type": "code",
   "execution_count": 57,
   "id": "d5a8a191",
   "metadata": {},
   "outputs": [],
   "source": [
    "model = xgb.train(params, dtrain, num_boost_round=100)\n"
   ]
  },
  {
   "cell_type": "code",
   "execution_count": 58,
   "id": "391feecc",
   "metadata": {},
   "outputs": [],
   "source": [
    "y_pred = model.predict(dtest)"
   ]
  },
  {
   "cell_type": "code",
   "execution_count": 59,
   "id": "4e3486fe",
   "metadata": {},
   "outputs": [
    {
     "data": {
      "text/plain": [
       "0.49441607407053884"
      ]
     },
     "execution_count": 59,
     "metadata": {},
     "output_type": "execute_result"
    }
   ],
   "source": [
    "from sklearn.metrics import accuracy_score\n",
    "\n",
    "accuracy_score(y_test, y_pred)"
   ]
  },
  {
   "cell_type": "markdown",
   "id": "05f6d6fd",
   "metadata": {},
   "source": [
    "## Prediction"
   ]
  },
  {
   "cell_type": "code",
   "execution_count": 96,
   "id": "a4b41647",
   "metadata": {},
   "outputs": [],
   "source": [
    "text = \"The war between russia and ukraine was never stopping\"\n",
    "\n",
    "text = text.lower()\n",
    "text = text.translate(str.maketrans('', '', string.punctuation))\n",
    "words = text.split()\n",
    "stop_words = set(stopwords.words(\"english\"))\n",
    "words = [word for word in words if word not in stop_words]\n",
    "text = ' '.join(words)\n",
    "\n",
    "text = cv.transform([text])"
   ]
  },
  {
   "cell_type": "code",
   "execution_count": 97,
   "id": "830a64f6",
   "metadata": {},
   "outputs": [],
   "source": [
    "text = xgb.DMatrix(text)"
   ]
  },
  {
   "cell_type": "code",
   "execution_count": 98,
   "id": "44ac83aa",
   "metadata": {},
   "outputs": [
    {
     "data": {
      "text/plain": [
       "array([41.], dtype=float32)"
      ]
     },
     "execution_count": 98,
     "metadata": {},
     "output_type": "execute_result"
    }
   ],
   "source": [
    "model.predict(text)"
   ]
  },
  {
   "cell_type": "code",
   "execution_count": 100,
   "id": "9310f419",
   "metadata": {},
   "outputs": [
    {
     "data": {
      "text/plain": [
       "'WORLDPOST'"
      ]
     },
     "execution_count": 100,
     "metadata": {},
     "output_type": "execute_result"
    }
   ],
   "source": [
    "le.classes_[41]"
   ]
  },
  {
   "cell_type": "code",
   "execution_count": null,
   "id": "f1c9f268",
   "metadata": {},
   "outputs": [],
   "source": []
  }
 ],
 "metadata": {
  "kernelspec": {
   "display_name": "Python 3 (ipykernel)",
   "language": "python",
   "name": "python3"
  },
  "language_info": {
   "codemirror_mode": {
    "name": "ipython",
    "version": 3
   },
   "file_extension": ".py",
   "mimetype": "text/x-python",
   "name": "python",
   "nbconvert_exporter": "python",
   "pygments_lexer": "ipython3",
   "version": "3.10.4"
  }
 },
 "nbformat": 4,
 "nbformat_minor": 5
}
