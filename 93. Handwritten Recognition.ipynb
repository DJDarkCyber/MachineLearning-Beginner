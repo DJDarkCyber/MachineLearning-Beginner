{
  "cells": [
    {
      "cell_type": "code",
      "execution_count": 1,
      "metadata": {
        "colab": {
          "base_uri": "https://localhost:8080/"
        },
        "id": "Wc3fKh2CiSkP",
        "outputId": "dddd3d90-4dcd-4886-d029-a83866a25f4f"
      },
      "outputs": [
        {
          "output_type": "stream",
          "name": "stdout",
          "text": [
            "Downloading handwriting-recognition.zip to /content\n",
            "\n"
          ]
        },
        {
          "output_type": "stream",
          "name": "stderr",
          "text": [
            "\r  0%|          | 0.00/1.26G [00:00<?, ?B/s]\r  1%|          | 9.00M/1.26G [00:00<00:14, 90.8MB/s]\r  3%|▎         | 34.0M/1.26G [00:00<00:07, 182MB/s] \r  4%|▍         | 57.0M/1.26G [00:00<00:06, 206MB/s]\r  6%|▋         | 83.0M/1.26G [00:00<00:05, 230MB/s]\r  8%|▊         | 106M/1.26G [00:00<00:05, 231MB/s] \r 10%|▉         | 129M/1.26G [00:00<00:06, 186MB/s]\r 12%|█▏        | 156M/1.26G [00:00<00:05, 211MB/s]\r 14%|█▍        | 178M/1.26G [00:00<00:06, 186MB/s]\r 16%|█▌        | 201M/1.26G [00:01<00:05, 199MB/s]\r 17%|█▋        | 222M/1.26G [00:01<00:05, 202MB/s]\r 19%|█▉        | 243M/1.26G [00:01<00:05, 193MB/s]\r 21%|██        | 266M/1.26G [00:01<00:05, 203MB/s]\r 22%|██▏       | 286M/1.26G [00:01<00:05, 184MB/s]\r 24%|██▎       | 305M/1.26G [00:01<00:06, 152MB/s]\r 25%|██▌       | 329M/1.26G [00:01<00:06, 151MB/s]\r 27%|██▋       | 345M/1.26G [00:02<00:06, 151MB/s]\r 28%|██▊       | 360M/1.26G [00:02<00:07, 132MB/s]\r 29%|██▉       | 379M/1.26G [00:02<00:06, 146MB/s]\r 31%|███       | 394M/1.26G [00:02<00:07, 125MB/s]\r 32%|███▏      | 414M/1.26G [00:02<00:06, 144MB/s]\r 33%|███▎      | 430M/1.26G [00:02<00:06, 143MB/s]\r 34%|███▍      | 445M/1.26G [00:02<00:06, 134MB/s]\r 36%|███▌      | 459M/1.26G [00:02<00:07, 123MB/s]\r 37%|███▋      | 478M/1.26G [00:03<00:06, 141MB/s]\r 39%|███▊      | 498M/1.26G [00:03<00:05, 157MB/s]\r 40%|███▉      | 516M/1.26G [00:03<00:04, 165MB/s]\r 41%|████▏     | 533M/1.26G [00:03<00:05, 132MB/s]\r 43%|████▎     | 554M/1.26G [00:03<00:05, 153MB/s]\r 44%|████▍     | 573M/1.26G [00:03<00:04, 163MB/s]\r 46%|████▌     | 590M/1.26G [00:03<00:06, 122MB/s]\r 47%|████▋     | 607M/1.26G [00:04<00:05, 134MB/s]\r 48%|████▊     | 625M/1.26G [00:04<00:05, 132MB/s]\r 50%|████▉     | 639M/1.26G [00:04<00:06, 107MB/s]\r 50%|█████     | 651M/1.26G [00:04<00:06, 107MB/s]\r 52%|█████▏    | 665M/1.26G [00:04<00:05, 115MB/s]\r 53%|█████▎    | 683M/1.26G [00:04<00:05, 126MB/s]\r 54%|█████▍    | 696M/1.26G [00:04<00:04, 127MB/s]\r 55%|█████▍    | 709M/1.26G [00:04<00:05, 109MB/s]\r 56%|█████▋    | 729M/1.26G [00:05<00:05, 113MB/s]\r 57%|█████▋    | 741M/1.26G [00:05<00:05, 103MB/s]\r 58%|█████▊    | 752M/1.26G [00:05<00:05, 105MB/s]\r 59%|█████▉    | 763M/1.26G [00:05<00:05, 97.3MB/s]\r 60%|█████▉    | 773M/1.26G [00:05<00:05, 94.5MB/s]\r 61%|██████▏   | 791M/1.26G [00:05<00:04, 117MB/s] \r 63%|██████▎   | 808M/1.26G [00:05<00:03, 132MB/s]\r 64%|██████▎   | 822M/1.26G [00:06<00:04, 101MB/s]\r 65%|██████▍   | 834M/1.26G [00:06<00:05, 93.0MB/s]\r 66%|██████▌   | 847M/1.26G [00:06<00:04, 101MB/s] \r 66%|██████▋   | 858M/1.26G [00:06<00:04, 98.2MB/s]\r 67%|██████▋   | 869M/1.26G [00:06<00:04, 101MB/s] \r 69%|██████▉   | 891M/1.26G [00:06<00:03, 129MB/s]\r 70%|███████   | 904M/1.26G [00:06<00:03, 111MB/s]\r 72%|███████▏  | 924M/1.26G [00:07<00:02, 131MB/s]\r 73%|███████▎  | 938M/1.26G [00:07<00:03, 113MB/s]\r 74%|███████▍  | 955M/1.26G [00:07<00:02, 127MB/s]\r 75%|███████▌  | 969M/1.26G [00:07<00:02, 114MB/s]\r 76%|███████▋  | 987M/1.26G [00:07<00:02, 124MB/s]\r 78%|███████▊  | 0.98G/1.26G [00:07<00:02, 135MB/s]\r 79%|███████▉  | 1.00G/1.26G [00:07<00:02, 129MB/s]\r 80%|███████▉  | 1.01G/1.26G [00:08<00:02, 110MB/s]\r 81%|████████▏ | 1.03G/1.26G [00:08<00:01, 126MB/s]\r 83%|████████▎ | 1.04G/1.26G [00:08<00:01, 140MB/s]\r 84%|████████▍ | 1.06G/1.26G [00:08<00:01, 131MB/s]\r 85%|████████▌ | 1.07G/1.26G [00:08<00:01, 136MB/s]\r 86%|████████▋ | 1.09G/1.26G [00:08<00:01, 139MB/s]\r 88%|████████▊ | 1.11G/1.26G [00:08<00:01, 148MB/s]\r 89%|████████▉ | 1.12G/1.26G [00:08<00:01, 146MB/s]\r 90%|█████████ | 1.14G/1.26G [00:08<00:00, 151MB/s]\r 92%|█████████▏| 1.16G/1.26G [00:09<00:00, 167MB/s]\r 93%|█████████▎| 1.17G/1.26G [00:09<00:00, 122MB/s]\r 94%|█████████▍| 1.19G/1.26G [00:09<00:00, 130MB/s]\r 96%|█████████▌| 1.20G/1.26G [00:09<00:00, 138MB/s]\r 97%|█████████▋| 1.23G/1.26G [00:09<00:00, 159MB/s]\r 99%|█████████▊| 1.24G/1.26G [00:09<00:00, 152MB/s]\r100%|█████████▉| 1.26G/1.26G [00:09<00:00, 121MB/s]\r100%|██████████| 1.26G/1.26G [00:09<00:00, 136MB/s]\n"
          ]
        }
      ],
      "source": [
        "%%bash\n",
        "\n",
        "pip install -q kaggle\n",
        "mkdir -p ~/.kaggle\n",
        "cp drive/MyDrive/kaggle.json ~/.kaggle/\n",
        "chmod 600 /root/.kaggle/kaggle.json\n",
        "kaggle datasets download -d landlord/handwriting-recognition\n",
        "unzip -qq handwriting-recognition.zip"
      ]
    },
    {
      "cell_type": "markdown",
      "source": [
        "# Handwritten Recognition"
      ],
      "metadata": {
        "id": "y16frwKLZTq_"
      }
    },
    {
      "cell_type": "markdown",
      "source": [
        "## Importing required libraries"
      ],
      "metadata": {
        "id": "Uu0YPikmamSl"
      }
    },
    {
      "cell_type": "code",
      "source": [
        "import os\n",
        "import cv2\n",
        "import random\n",
        "import numpy as np\n",
        "import pandas as pd\n",
        "import matplotlib.pyplot as plt\n",
        "\n",
        "import tensorflow as tf\n",
        "from keras import backend as K\n",
        "from keras.models import Model\n",
        "from keras.layers import Input, Conv2D, MaxPooling2D, Reshape, Bidirectional, LSTM, Dense, Lambda, Activation, BatchNormalization, Dropout\n",
        "from keras.optimizers import Adam"
      ],
      "metadata": {
        "id": "idrEEiZGmZpx"
      },
      "execution_count": 2,
      "outputs": []
    },
    {
      "cell_type": "markdown",
      "source": [
        "## Pre-Processing"
      ],
      "metadata": {
        "id": "vyXcXobdaphT"
      }
    },
    {
      "cell_type": "code",
      "source": [
        "train = pd.read_csv(\"written_name_train_v2.csv\")\n",
        "valid = pd.read_csv(\"written_name_validation_v2.csv\")"
      ],
      "metadata": {
        "id": "BAt39la5A17q"
      },
      "execution_count": 7,
      "outputs": []
    },
    {
      "cell_type": "code",
      "source": [
        "plt.figure(figsize=(15, 10))\n",
        "\n",
        "for i in range(6):\n",
        "  ax = plt.subplot(2, 3, i+1)\n",
        "  img_dir = \"train_v2/train/\" + train.loc[i, 'FILENAME']\n",
        "  image = cv2.imread(img_dir, cv2.IMREAD_GRAYSCALE)\n",
        "  plt.imshow(image, cmap='gray')\n",
        "  plt.title(train.loc[i, 'IDENTITY'], fontsize=12)\n",
        "  plt.axis('off')\n",
        "\n",
        "plt.subplots_adjust(wspace=0.2, hspace=-0.8)"
      ],
      "metadata": {
        "id": "2xXY0pSzBEPG",
        "colab": {
          "base_uri": "https://localhost:8080/",
          "height": 186
        },
        "outputId": "3b000b85-fac7-491f-8afa-7344b44bf4f0"
      },
      "execution_count": 8,
      "outputs": [
        {
          "output_type": "display_data",
          "data": {
            "text/plain": [
              "<Figure size 1080x720 with 6 Axes>"
            ],
            "image/png": "[encoded data removed]"
          },
          "metadata": {
            "needs_background": "light"
          }
        }
      ]
    },
    {
      "cell_type": "code",
      "source": [
        "print(\"Number of NaNs in train set      : \", train['IDENTITY'].isnull().sum())\n",
        "print(\"Number of NaNs in validation set : \", valid['IDENTITY'].isnull().sum())"
      ],
      "metadata": {
        "colab": {
          "base_uri": "https://localhost:8080/"
        },
        "id": "mrZM3D7ydh1V",
        "outputId": "c1f638e8-32e8-48cf-b385-76bac08d3303"
      },
      "execution_count": 9,
      "outputs": [
        {
          "output_type": "stream",
          "name": "stdout",
          "text": [
            "Number of NaNs in train set      :  565\n",
            "Number of NaNs in validation set :  78\n"
          ]
        }
      ]
    },
    {
      "cell_type": "code",
      "source": [
        "train.dropna(axis=0, inplace=True)\n",
        "valid.dropna(axis=0, inplace=True)"
      ],
      "metadata": {
        "id": "Jnrm32Hvdlb6"
      },
      "execution_count": 10,
      "outputs": []
    },
    {
      "cell_type": "code",
      "source": [
        "unreadable = train[train['IDENTITY'] == 'UNREADABLE']\n",
        "unreadable.reset_index(inplace = True, drop=True)\n",
        "\n",
        "plt.figure(figsize=(15, 10))\n",
        "\n",
        "for i in range(6):\n",
        "    ax = plt.subplot(2, 3, i+1)\n",
        "    img_dir = 'train_v2/train/'+unreadable.loc[i, 'FILENAME']\n",
        "    image = cv2.imread(img_dir, cv2.IMREAD_GRAYSCALE)\n",
        "    plt.imshow(image, cmap = 'gray')\n",
        "    plt.title(unreadable.loc[i, 'IDENTITY'], fontsize=12)\n",
        "    plt.axis('off')\n",
        "\n",
        "plt.subplots_adjust(wspace=0.2, hspace=-0.8)"
      ],
      "metadata": {
        "colab": {
          "base_uri": "https://localhost:8080/",
          "height": 166
        },
        "id": "shZp8k9Tdq9d",
        "outputId": "d0ff0190-1447-4d49-b64e-f6ccd040a318"
      },
      "execution_count": 11,
      "outputs": [
        {
          "output_type": "display_data",
          "data": {
            "text/plain": [
              "<Figure size 1080x720 with 6 Axes>"
            ],
            "image/png": "[encoded data removed]"
          },
          "metadata": {
            "needs_background": "light"
          }
        }
      ]
    },
    {
      "cell_type": "code",
      "source": [
        "train = train[train['IDENTITY'] != 'UNREADABLE']\n",
        "valid = valid[valid['IDENTITY'] != 'UNREADABLE']"
      ],
      "metadata": {
        "id": "tapoTGzWd21f"
      },
      "execution_count": 12,
      "outputs": []
    },
    {
      "cell_type": "code",
      "source": [
        "train['IDENTITY'] = train['IDENTITY'].str.upper()\n",
        "valid['IDENTITY'] = valid['IDENTITY'].str.upper()"
      ],
      "metadata": {
        "id": "MM8KEFMPd42C"
      },
      "execution_count": 13,
      "outputs": []
    },
    {
      "cell_type": "code",
      "source": [
        "train.reset_index(inplace = True, drop=True) \n",
        "valid.reset_index(inplace = True, drop=True)"
      ],
      "metadata": {
        "id": "MC7i1fNbd70m"
      },
      "execution_count": 14,
      "outputs": []
    },
    {
      "cell_type": "code",
      "source": [
        "def preprocess(img):\n",
        "    (h, w) = img.shape\n",
        "    \n",
        "    final_img = np.ones([64, 256])*255 # blank white image\n",
        "    \n",
        "    # crop\n",
        "    if w > 256:\n",
        "        img = img[:, :256]\n",
        "        \n",
        "    if h > 64:\n",
        "        img = img[:64, :]\n",
        "    \n",
        "    \n",
        "    final_img[:h, :w] = img\n",
        "    return cv2.rotate(final_img, cv2.ROTATE_90_CLOCKWISE)"
      ],
      "metadata": {
        "id": "6I2tjovod9Hl"
      },
      "execution_count": 15,
      "outputs": []
    },
    {
      "cell_type": "code",
      "source": [
        "train_size = 30000\n",
        "valid_size= 3000"
      ],
      "metadata": {
        "id": "zdb3VD3WeBWE"
      },
      "execution_count": 16,
      "outputs": []
    },
    {
      "cell_type": "code",
      "source": [
        "train_x = []\n",
        "\n",
        "for i in range(train_size):\n",
        "    img_dir = 'train_v2/train/'+train.loc[i, 'FILENAME']\n",
        "    image = cv2.imread(img_dir, cv2.IMREAD_GRAYSCALE)\n",
        "    image = preprocess(image)\n",
        "    image = image/255.\n",
        "    train_x.append(image)"
      ],
      "metadata": {
        "id": "-B5lsLCjeC2b"
      },
      "execution_count": 17,
      "outputs": []
    },
    {
      "cell_type": "code",
      "source": [
        "valid_x = []\n",
        "\n",
        "for i in range(valid_size):\n",
        "    img_dir = 'validation_v2/validation/'+valid.loc[i, 'FILENAME']\n",
        "    image = cv2.imread(img_dir, cv2.IMREAD_GRAYSCALE)\n",
        "    image = preprocess(image)\n",
        "    image = image/255.\n",
        "    valid_x.append(image)"
      ],
      "metadata": {
        "id": "MB7NoHoUeTkm"
      },
      "execution_count": 19,
      "outputs": []
    },
    {
      "cell_type": "code",
      "source": [
        "train_x = np.array(train_x).reshape(-1, 256, 64, 1)\n",
        "valid_x = np.array(valid_x).reshape(-1, 256, 64, 1)"
      ],
      "metadata": {
        "id": "H31rLWdFeXgW"
      },
      "execution_count": 20,
      "outputs": []
    },
    {
      "cell_type": "code",
      "source": [
        "alphabets = u\"ABCDEFGHIJKLMNOPQRSTUVWXYZ-' \"\n",
        "max_str_len = 24 # max length of input labels\n",
        "num_of_characters = len(alphabets) + 1 # +1 for ctc pseudo blank\n",
        "num_of_timestamps = 64 # max length of predicted labels\n",
        "\n",
        "\n",
        "def label_to_num(label):\n",
        "    label_num = []\n",
        "    for ch in label:\n",
        "        label_num.append(alphabets.find(ch))\n",
        "        \n",
        "    return np.array(label_num)\n",
        "\n",
        "def num_to_label(num):\n",
        "    ret = \"\"\n",
        "    for ch in num:\n",
        "        if ch == -1:  # CTC Blank\n",
        "            break\n",
        "        else:\n",
        "            ret+=alphabets[ch]\n",
        "    return ret"
      ],
      "metadata": {
        "id": "6ZtUbkwKefVq"
      },
      "execution_count": 21,
      "outputs": []
    },
    {
      "cell_type": "code",
      "source": [
        "name = 'UNKNOWN'\n",
        "print(name, '\\n',label_to_num(name))"
      ],
      "metadata": {
        "colab": {
          "base_uri": "https://localhost:8080/"
        },
        "id": "5ptpB1ntekeC",
        "outputId": "0210df6e-e9aa-4c18-bb19-d110d8d666fc"
      },
      "execution_count": 24,
      "outputs": [
        {
          "output_type": "stream",
          "name": "stdout",
          "text": [
            "UNKNOWN \n",
            " [20 13 10 13 14 22 13]\n"
          ]
        }
      ]
    },
    {
      "cell_type": "code",
      "source": [
        "train_y = np.ones([train_size, max_str_len]) * -1\n",
        "train_label_len = np.zeros([train_size, 1])\n",
        "train_input_len = np.ones([train_size, 1]) * (num_of_timestamps-2)\n",
        "train_output = np.zeros([train_size])\n",
        "\n",
        "for i in range(train_size):\n",
        "    train_label_len[i] = len(train.loc[i, 'IDENTITY'])\n",
        "    train_y[i, 0:len(train.loc[i, 'IDENTITY'])]= label_to_num(train.loc[i, 'IDENTITY'])   "
      ],
      "metadata": {
        "id": "K6q12nLpenzR"
      },
      "execution_count": 23,
      "outputs": []
    },
    {
      "cell_type": "code",
      "source": [
        "valid_y = np.ones([valid_size, max_str_len]) * -1\n",
        "valid_label_len = np.zeros([valid_size, 1])\n",
        "valid_input_len = np.ones([valid_size, 1]) * (num_of_timestamps-2)\n",
        "valid_output = np.zeros([valid_size])\n",
        "\n",
        "for i in range(valid_size):\n",
        "    valid_label_len[i] = len(valid.loc[i, 'IDENTITY'])\n",
        "    valid_y[i, 0:len(valid.loc[i, 'IDENTITY'])]= label_to_num(valid.loc[i, 'IDENTITY'])    "
      ],
      "metadata": {
        "id": "AhXf19hues6I"
      },
      "execution_count": 25,
      "outputs": []
    },
    {
      "cell_type": "code",
      "source": [
        "print('True label : ',train.loc[100, 'IDENTITY'] , '\\ntrain_y : ',train_y[100],'\\ntrain_label_len : ',train_label_len[100], \n",
        "      '\\ntrain_input_len : ', train_input_len[100])"
      ],
      "metadata": {
        "colab": {
          "base_uri": "https://localhost:8080/"
        },
        "id": "88JoDINSe0ZM",
        "outputId": "fdd31b4e-82b3-401d-914e-f3f701ad05fc"
      },
      "execution_count": 26,
      "outputs": [
        {
          "output_type": "stream",
          "name": "stdout",
          "text": [
            "True label :  NOUR \n",
            "train_y :  [13. 14. 20. 17. -1. -1. -1. -1. -1. -1. -1. -1. -1. -1. -1. -1. -1. -1.\n",
            " -1. -1. -1. -1. -1. -1.] \n",
            "train_label_len :  [4.] \n",
            "train_input_len :  [62.]\n"
          ]
        }
      ]
    },
    {
      "cell_type": "code",
      "source": [
        "input_data = Input(shape=(256, 64, 1), name='input')\n",
        "\n",
        "inner = Conv2D(32, (3, 3), padding='same', name='conv1', kernel_initializer='he_normal')(input_data)  \n",
        "inner = BatchNormalization()(inner)\n",
        "inner = Activation('relu')(inner)\n",
        "inner = MaxPooling2D(pool_size=(2, 2), name='max1')(inner)\n",
        "\n",
        "inner = Conv2D(64, (3, 3), padding='same', name='conv2', kernel_initializer='he_normal')(inner)\n",
        "inner = BatchNormalization()(inner)\n",
        "inner = Activation('relu')(inner)\n",
        "inner = MaxPooling2D(pool_size=(2, 2), name='max2')(inner)\n",
        "inner = Dropout(0.3)(inner)\n",
        "\n",
        "inner = Conv2D(128, (3, 3), padding='same', name='conv3', kernel_initializer='he_normal')(inner)\n",
        "inner = BatchNormalization()(inner)\n",
        "inner = Activation('relu')(inner)\n",
        "inner = MaxPooling2D(pool_size=(1, 2), name='max3')(inner)\n",
        "inner = Dropout(0.3)(inner)\n",
        "\n",
        "# CNN to RNN\n",
        "inner = Reshape(target_shape=((64, 1024)), name='reshape')(inner)\n",
        "inner = Dense(64, activation='relu', kernel_initializer='he_normal', name='dense1')(inner)\n",
        "\n",
        "## RNN\n",
        "inner = Bidirectional(LSTM(256, return_sequences=True), name = 'lstm1')(inner)\n",
        "inner = Bidirectional(LSTM(256, return_sequences=True), name = 'lstm2')(inner)\n",
        "\n",
        "## OUTPUT\n",
        "inner = Dense(num_of_characters, kernel_initializer='he_normal',name='dense2')(inner)\n",
        "y_pred = Activation('softmax', name='softmax')(inner)\n",
        "\n",
        "model = Model(inputs=input_data, outputs=y_pred)\n",
        "model.summary()"
      ],
      "metadata": {
        "colab": {
          "base_uri": "https://localhost:8080/"
        },
        "id": "p-d8J-m6e3L2",
        "outputId": "61d7f6a5-4762-42fd-d035-22ea0898efbb"
      },
      "execution_count": 27,
      "outputs": [
        {
          "output_type": "stream",
          "name": "stdout",
          "text": [
            "Model: \"model\"\n",
            "_________________________________________________________________\n",
            " Layer (type)                Output Shape              Param #   \n",
            "=================================================================\n",
            " input (InputLayer)          [(None, 256, 64, 1)]      0         \n",
            "                                                                 \n",
            " conv1 (Conv2D)              (None, 256, 64, 32)       320       \n",
            "                                                                 \n",
            " batch_normalization (BatchN  (None, 256, 64, 32)      128       \n",
            " ormalization)                                                   \n",
            "                                                                 \n",
            " activation (Activation)     (None, 256, 64, 32)       0         \n",
            "                                                                 \n",
            " max1 (MaxPooling2D)         (None, 128, 32, 32)       0         \n",
            "                                                                 \n",
            " conv2 (Conv2D)              (None, 128, 32, 64)       18496     \n",
            "                                                                 \n",
            " batch_normalization_1 (Batc  (None, 128, 32, 64)      256       \n",
            " hNormalization)                                                 \n",
            "                                                                 \n",
            " activation_1 (Activation)   (None, 128, 32, 64)       0         \n",
            "                                                                 \n",
            " max2 (MaxPooling2D)         (None, 64, 16, 64)        0         \n",
            "                                                                 \n",
            " dropout (Dropout)           (None, 64, 16, 64)        0         \n",
            "                                                                 \n",
            " conv3 (Conv2D)              (None, 64, 16, 128)       73856     \n",
            "                                                                 \n",
            " batch_normalization_2 (Batc  (None, 64, 16, 128)      512       \n",
            " hNormalization)                                                 \n",
            "                                                                 \n",
            " activation_2 (Activation)   (None, 64, 16, 128)       0         \n",
            "                                                                 \n",
            " max3 (MaxPooling2D)         (None, 64, 8, 128)        0         \n",
            "                                                                 \n",
            " dropout_1 (Dropout)         (None, 64, 8, 128)        0         \n",
            "                                                                 \n",
            " reshape (Reshape)           (None, 64, 1024)          0         \n",
            "                                                                 \n",
            " dense1 (Dense)              (None, 64, 64)            65600     \n",
            "                                                                 \n",
            " lstm1 (Bidirectional)       (None, 64, 512)           657408    \n",
            "                                                                 \n",
            " lstm2 (Bidirectional)       (None, 64, 512)           1574912   \n",
            "                                                                 \n",
            " dense2 (Dense)              (None, 64, 30)            15390     \n",
            "                                                                 \n",
            " softmax (Activation)        (None, 64, 30)            0         \n",
            "                                                                 \n",
            "=================================================================\n",
            "Total params: 2,406,878\n",
            "Trainable params: 2,406,430\n",
            "Non-trainable params: 448\n",
            "_________________________________________________________________\n"
          ]
        }
      ]
    },
    {
      "cell_type": "code",
      "source": [
        "def ctc_lambda_func(args):\n",
        "    y_pred, labels, input_length, label_length = args\n",
        "    # the 2 is critical here since the first couple outputs of the RNN\n",
        "    # tend to be garbage\n",
        "    y_pred = y_pred[:, 2:, :]\n",
        "    return K.ctc_batch_cost(labels, y_pred, input_length, label_length)"
      ],
      "metadata": {
        "id": "g2Ki5xvJe5VN"
      },
      "execution_count": 28,
      "outputs": []
    },
    {
      "cell_type": "code",
      "source": [
        "labels = Input(name='gtruth_labels', shape=[max_str_len], dtype='float32')\n",
        "input_length = Input(name='input_length', shape=[1], dtype='int64')\n",
        "label_length = Input(name='label_length', shape=[1], dtype='int64')\n",
        "\n",
        "ctc_loss = Lambda(ctc_lambda_func, output_shape=(1,), name='ctc')([y_pred, labels, input_length, label_length])\n",
        "model_final = Model(inputs=[input_data, labels, input_length, label_length], outputs=ctc_loss)"
      ],
      "metadata": {
        "id": "ODiMKP0ve-iG"
      },
      "execution_count": 29,
      "outputs": []
    },
    {
      "cell_type": "code",
      "source": [
        "model_final.compile(loss={'ctc': lambda y_true, y_pred: y_pred}, optimizer=Adam(lr = 0.0001))\n",
        "\n",
        "model_final.fit(x=[train_x, train_y, train_input_len, train_label_len], y=train_output, \n",
        "                validation_data=([valid_x, valid_y, valid_input_len, valid_label_len], valid_output),\n",
        "                epochs=60, batch_size=128)"
      ],
      "metadata": {
        "colab": {
          "base_uri": "https://localhost:8080/"
        },
        "id": "SDhdr-LkfA7B",
        "outputId": "02080836-c436-4846-868d-9580cd0495f4"
      },
      "execution_count": null,
      "outputs": [
        {
          "output_type": "stream",
          "name": "stderr",
          "text": [
            "/usr/local/lib/python3.8/dist-packages/keras/optimizers/optimizer_v2/adam.py:117: UserWarning: The `lr` argument is deprecated, use `learning_rate` instead.\n",
            "  super().__init__(name, **kwargs)\n"
          ]
        }
      ]
    },
    {
      "cell_type": "code",
      "source": [
        "preds = model.predict(valid_x)\n",
        "decoded = K.get_value(K.ctc_decode(preds, input_length=np.ones(preds.shape[0])*preds.shape[1], \n",
        "                                   greedy=True)[0][0])\n",
        "\n",
        "prediction = []\n",
        "for i in range(valid_size):\n",
        "    prediction.append(num_to_label(decoded[i]))"
      ],
      "metadata": {
        "id": "uw-RcB5ifC-Z"
      },
      "execution_count": null,
      "outputs": []
    },
    {
      "cell_type": "code",
      "source": [
        "y_true = valid.loc[0:valid_size, 'IDENTITY']\n",
        "correct_char = 0\n",
        "total_char = 0\n",
        "correct = 0\n",
        "\n",
        "for i in range(valid_size):\n",
        "    pr = prediction[i]\n",
        "    tr = y_true[i]\n",
        "    total_char += len(tr)\n",
        "    \n",
        "    for j in range(min(len(tr), len(pr))):\n",
        "        if tr[j] == pr[j]:\n",
        "            correct_char += 1\n",
        "            \n",
        "    if pr == tr :\n",
        "        correct += 1 \n",
        "    \n",
        "print('Correct characters predicted : %.2f%%' %(correct_char*100/total_char))\n",
        "print('Correct words predicted      : %.2f%%' %(correct*100/valid_size))"
      ],
      "metadata": {
        "id": "U7WGr5SkfK-J"
      },
      "execution_count": null,
      "outputs": []
    },
    {
      "cell_type": "code",
      "source": [
        "test = pd.read_csv('written_name_test_v2.csv')\n",
        "\n",
        "plt.figure(figsize=(15, 10))\n",
        "for i in range(6):\n",
        "    ax = plt.subplot(2, 3, i+1)\n",
        "    img_dir = 'test_v2/test/'+test.loc[i, 'FILENAME']\n",
        "    image = cv2.imread(img_dir, cv2.IMREAD_GRAYSCALE)\n",
        "    plt.imshow(image, cmap='gray')\n",
        "    \n",
        "    image = preprocess(image)\n",
        "    image = image/255.\n",
        "    pred = model.predict(image.reshape(1, 256, 64, 1))\n",
        "    decoded = K.get_value(K.ctc_decode(pred, input_length=np.ones(pred.shape[0])*pred.shape[1], \n",
        "                                       greedy=True)[0][0])\n",
        "    plt.title(num_to_label(decoded[0]), fontsize=12)\n",
        "    plt.axis('off')\n",
        "    \n",
        "plt.subplots_adjust(wspace=0.2, hspace=-0.8)"
      ],
      "metadata": {
        "id": "2tygD2CofPMP"
      },
      "execution_count": null,
      "outputs": []
    },
    {
      "cell_type": "code",
      "source": [],
      "metadata": {
        "id": "BbvEE4V9fTbh"
      },
      "execution_count": null,
      "outputs": []
    }
  ],
  "metadata": {
    "colab": {
      "provenance": []
    },
    "gpuClass": "standard",
    "kernelspec": {
      "display_name": "Python 3",
      "name": "python3"
    },
    "language_info": {
      "name": "python"
    },
    "accelerator": "TPU"
  },
  "nbformat": 4,
  "nbformat_minor": 0
}