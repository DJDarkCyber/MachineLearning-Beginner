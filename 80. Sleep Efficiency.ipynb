{
 "cells": [
  {
   "cell_type": "markdown",
   "id": "fa3256d5",
   "metadata": {},
   "source": [
    "# Sleep Efficiency"
   ]
  },
  {
   "cell_type": "markdown",
   "id": "0d1b7539",
   "metadata": {},
   "source": [
    "## Importing required packages"
   ]
  },
  {
   "cell_type": "code",
   "execution_count": 1,
   "id": "7cdde0e8",
   "metadata": {},
   "outputs": [],
   "source": [
    "import pandas as pd\n",
    "import numpy as np\n",
    "from sklearn.model_selection import train_test_split\n",
    "from sklearn.preprocessing import LabelEncoder\n",
    "from sklearn.ensemble import RandomForestRegressor\n",
    "from xgboost import XGBRegressor"
   ]
  },
  {
   "cell_type": "markdown",
   "id": "3e51765d",
   "metadata": {},
   "source": [
    "## Getting datasets"
   ]
  },
  {
   "cell_type": "code",
   "execution_count": 10,
   "id": "d82c3baa",
   "metadata": {},
   "outputs": [
    {
     "data": {
      "text/html": [
       "<div>\n",
       "<style scoped>\n",
       "    .dataframe tbody tr th:only-of-type {\n",
       "        vertical-align: middle;\n",
       "    }\n",
       "\n",
       "    .dataframe tbody tr th {\n",
       "        vertical-align: top;\n",
       "    }\n",
       "\n",
       "    .dataframe thead th {\n",
       "        text-align: right;\n",
       "    }\n",
       "</style>\n",
       "<table border=\"1\" class=\"dataframe\">\n",
       "  <thead>\n",
       "    <tr style=\"text-align: right;\">\n",
       "      <th></th>\n",
       "      <th>ID</th>\n",
       "      <th>Age</th>\n",
       "      <th>Gender</th>\n",
       "      <th>Bedtime</th>\n",
       "      <th>Wakeup time</th>\n",
       "      <th>Sleep duration</th>\n",
       "      <th>Sleep efficiency</th>\n",
       "      <th>REM sleep percentage</th>\n",
       "      <th>Deep sleep percentage</th>\n",
       "      <th>Light sleep percentage</th>\n",
       "      <th>Awakenings</th>\n",
       "      <th>Caffeine consumption</th>\n",
       "      <th>Alcohol consumption</th>\n",
       "      <th>Smoking status</th>\n",
       "      <th>Exercise frequency</th>\n",
       "    </tr>\n",
       "  </thead>\n",
       "  <tbody>\n",
       "    <tr>\n",
       "      <th>0</th>\n",
       "      <td>1</td>\n",
       "      <td>65</td>\n",
       "      <td>Female</td>\n",
       "      <td>2021-03-06 01:00:00</td>\n",
       "      <td>2021-03-06 07:00:00</td>\n",
       "      <td>6.0</td>\n",
       "      <td>0.88</td>\n",
       "      <td>18</td>\n",
       "      <td>70</td>\n",
       "      <td>10</td>\n",
       "      <td>0.0</td>\n",
       "      <td>0.0</td>\n",
       "      <td>0.0</td>\n",
       "      <td>Yes</td>\n",
       "      <td>3.0</td>\n",
       "    </tr>\n",
       "    <tr>\n",
       "      <th>1</th>\n",
       "      <td>2</td>\n",
       "      <td>69</td>\n",
       "      <td>Male</td>\n",
       "      <td>2021-12-05 02:00:00</td>\n",
       "      <td>2021-12-05 09:00:00</td>\n",
       "      <td>7.0</td>\n",
       "      <td>0.66</td>\n",
       "      <td>24</td>\n",
       "      <td>28</td>\n",
       "      <td>53</td>\n",
       "      <td>3.0</td>\n",
       "      <td>0.0</td>\n",
       "      <td>3.0</td>\n",
       "      <td>Yes</td>\n",
       "      <td>3.0</td>\n",
       "    </tr>\n",
       "    <tr>\n",
       "      <th>2</th>\n",
       "      <td>3</td>\n",
       "      <td>40</td>\n",
       "      <td>Female</td>\n",
       "      <td>2021-05-25 21:30:00</td>\n",
       "      <td>2021-05-25 05:30:00</td>\n",
       "      <td>8.0</td>\n",
       "      <td>0.89</td>\n",
       "      <td>20</td>\n",
       "      <td>70</td>\n",
       "      <td>10</td>\n",
       "      <td>1.0</td>\n",
       "      <td>0.0</td>\n",
       "      <td>0.0</td>\n",
       "      <td>No</td>\n",
       "      <td>3.0</td>\n",
       "    </tr>\n",
       "    <tr>\n",
       "      <th>3</th>\n",
       "      <td>4</td>\n",
       "      <td>40</td>\n",
       "      <td>Female</td>\n",
       "      <td>2021-11-03 02:30:00</td>\n",
       "      <td>2021-11-03 08:30:00</td>\n",
       "      <td>6.0</td>\n",
       "      <td>0.51</td>\n",
       "      <td>28</td>\n",
       "      <td>25</td>\n",
       "      <td>52</td>\n",
       "      <td>3.0</td>\n",
       "      <td>50.0</td>\n",
       "      <td>5.0</td>\n",
       "      <td>Yes</td>\n",
       "      <td>1.0</td>\n",
       "    </tr>\n",
       "    <tr>\n",
       "      <th>4</th>\n",
       "      <td>5</td>\n",
       "      <td>57</td>\n",
       "      <td>Male</td>\n",
       "      <td>2021-03-13 01:00:00</td>\n",
       "      <td>2021-03-13 09:00:00</td>\n",
       "      <td>8.0</td>\n",
       "      <td>0.76</td>\n",
       "      <td>27</td>\n",
       "      <td>55</td>\n",
       "      <td>18</td>\n",
       "      <td>3.0</td>\n",
       "      <td>0.0</td>\n",
       "      <td>3.0</td>\n",
       "      <td>No</td>\n",
       "      <td>3.0</td>\n",
       "    </tr>\n",
       "  </tbody>\n",
       "</table>\n",
       "</div>"
      ],
      "text/plain": [
       "   ID  Age  Gender  ... Alcohol consumption Smoking status  Exercise frequency\n",
       "0   1   65  Female  ...                 0.0            Yes                 3.0\n",
       "1   2   69    Male  ...                 3.0            Yes                 3.0\n",
       "2   3   40  Female  ...                 0.0             No                 3.0\n",
       "3   4   40  Female  ...                 5.0            Yes                 1.0\n",
       "4   5   57    Male  ...                 3.0             No                 3.0\n",
       "\n",
       "[5 rows x 15 columns]"
      ]
     },
     "execution_count": 10,
     "metadata": {},
     "output_type": "execute_result"
    }
   ],
   "source": [
    "df = pd.read_csv(\"data/proj80/Sleep_Efficiency.csv\")\n",
    "df.head()"
   ]
  },
  {
   "cell_type": "markdown",
   "id": "37e1ec16",
   "metadata": {},
   "source": [
    "## Cleaning dataset"
   ]
  },
  {
   "cell_type": "code",
   "execution_count": 11,
   "id": "61d7c62c",
   "metadata": {},
   "outputs": [
    {
     "data": {
      "text/plain": [
       "ID                         0\n",
       "Age                        0\n",
       "Gender                     0\n",
       "Bedtime                    0\n",
       "Wakeup time                0\n",
       "Sleep duration             0\n",
       "Sleep efficiency           0\n",
       "REM sleep percentage       0\n",
       "Deep sleep percentage      0\n",
       "Light sleep percentage     0\n",
       "Awakenings                20\n",
       "Caffeine consumption      25\n",
       "Alcohol consumption       16\n",
       "Smoking status             0\n",
       "Exercise frequency         6\n",
       "dtype: int64"
      ]
     },
     "execution_count": 11,
     "metadata": {},
     "output_type": "execute_result"
    }
   ],
   "source": [
    "df.isna().sum()"
   ]
  },
  {
   "cell_type": "code",
   "execution_count": 13,
   "id": "90a5ff3a",
   "metadata": {},
   "outputs": [],
   "source": [
    "df[\"Awakenings\"].fillna(np.mean(df[\"Awakenings\"]), inplace=True)\n",
    "df[\"Caffeine consumption\"].fillna(np.mean(df[\"Caffeine consumption\"]), inplace=True)\n",
    "df[\"Alcohol consumption\"].fillna(np.mean(df[\"Alcohol consumption\"]), inplace=True)"
   ]
  },
  {
   "cell_type": "code",
   "execution_count": 14,
   "id": "43b10517",
   "metadata": {},
   "outputs": [
    {
     "data": {
      "text/plain": [
       "ID                        0\n",
       "Age                       0\n",
       "Gender                    0\n",
       "Bedtime                   0\n",
       "Wakeup time               0\n",
       "Sleep duration            0\n",
       "Sleep efficiency          0\n",
       "REM sleep percentage      0\n",
       "Deep sleep percentage     0\n",
       "Light sleep percentage    0\n",
       "Awakenings                0\n",
       "Caffeine consumption      0\n",
       "Alcohol consumption       0\n",
       "Smoking status            0\n",
       "Exercise frequency        6\n",
       "dtype: int64"
      ]
     },
     "execution_count": 14,
     "metadata": {},
     "output_type": "execute_result"
    }
   ],
   "source": [
    "df.isna().sum()"
   ]
  },
  {
   "cell_type": "markdown",
   "id": "5484f0ff",
   "metadata": {},
   "source": [
    "## Pre-Processing dataset"
   ]
  },
  {
   "cell_type": "code",
   "execution_count": 15,
   "id": "1401de2f",
   "metadata": {},
   "outputs": [
    {
     "name": "stdout",
     "output_type": "stream",
     "text": [
      "<class 'pandas.core.frame.DataFrame'>\n",
      "RangeIndex: 452 entries, 0 to 451\n",
      "Data columns (total 15 columns):\n",
      " #   Column                  Non-Null Count  Dtype  \n",
      "---  ------                  --------------  -----  \n",
      " 0   ID                      452 non-null    int64  \n",
      " 1   Age                     452 non-null    int64  \n",
      " 2   Gender                  452 non-null    object \n",
      " 3   Bedtime                 452 non-null    object \n",
      " 4   Wakeup time             452 non-null    object \n",
      " 5   Sleep duration          452 non-null    float64\n",
      " 6   Sleep efficiency        452 non-null    float64\n",
      " 7   REM sleep percentage    452 non-null    int64  \n",
      " 8   Deep sleep percentage   452 non-null    int64  \n",
      " 9   Light sleep percentage  452 non-null    int64  \n",
      " 10  Awakenings              452 non-null    float64\n",
      " 11  Caffeine consumption    452 non-null    float64\n",
      " 12  Alcohol consumption     452 non-null    float64\n",
      " 13  Smoking status          452 non-null    object \n",
      " 14  Exercise frequency      446 non-null    float64\n",
      "dtypes: float64(6), int64(5), object(4)\n",
      "memory usage: 53.1+ KB\n"
     ]
    }
   ],
   "source": [
    "df.info()"
   ]
  },
  {
   "cell_type": "code",
   "execution_count": 16,
   "id": "bbeb1c78",
   "metadata": {},
   "outputs": [],
   "source": [
    "df.drop([\"Bedtime\", \"Wakeup time\"], axis=1, inplace=True)"
   ]
  },
  {
   "cell_type": "code",
   "execution_count": 17,
   "id": "1803f2a7",
   "metadata": {},
   "outputs": [],
   "source": [
    "labels = {}\n",
    "for column in df.keys():\n",
    "    if pd.api.types.is_object_dtype(df[column]):\n",
    "        le = LabelEncoder()\n",
    "        df[column] = le.fit_transform(df[column])\n",
    "        labels[column] = le.classes_\n",
    "        "
   ]
  },
  {
   "cell_type": "code",
   "execution_count": 18,
   "id": "9290905e",
   "metadata": {},
   "outputs": [
    {
     "data": {
      "text/html": [
       "<div>\n",
       "<style scoped>\n",
       "    .dataframe tbody tr th:only-of-type {\n",
       "        vertical-align: middle;\n",
       "    }\n",
       "\n",
       "    .dataframe tbody tr th {\n",
       "        vertical-align: top;\n",
       "    }\n",
       "\n",
       "    .dataframe thead th {\n",
       "        text-align: right;\n",
       "    }\n",
       "</style>\n",
       "<table border=\"1\" class=\"dataframe\">\n",
       "  <thead>\n",
       "    <tr style=\"text-align: right;\">\n",
       "      <th></th>\n",
       "      <th>ID</th>\n",
       "      <th>Age</th>\n",
       "      <th>Gender</th>\n",
       "      <th>Sleep duration</th>\n",
       "      <th>Sleep efficiency</th>\n",
       "      <th>REM sleep percentage</th>\n",
       "      <th>Deep sleep percentage</th>\n",
       "      <th>Light sleep percentage</th>\n",
       "      <th>Awakenings</th>\n",
       "      <th>Caffeine consumption</th>\n",
       "      <th>Alcohol consumption</th>\n",
       "      <th>Smoking status</th>\n",
       "      <th>Exercise frequency</th>\n",
       "    </tr>\n",
       "  </thead>\n",
       "  <tbody>\n",
       "    <tr>\n",
       "      <th>0</th>\n",
       "      <td>1</td>\n",
       "      <td>65</td>\n",
       "      <td>0</td>\n",
       "      <td>6.0</td>\n",
       "      <td>0.88</td>\n",
       "      <td>18</td>\n",
       "      <td>70</td>\n",
       "      <td>10</td>\n",
       "      <td>0.0</td>\n",
       "      <td>0.0</td>\n",
       "      <td>0.0</td>\n",
       "      <td>1</td>\n",
       "      <td>3.0</td>\n",
       "    </tr>\n",
       "    <tr>\n",
       "      <th>1</th>\n",
       "      <td>2</td>\n",
       "      <td>69</td>\n",
       "      <td>1</td>\n",
       "      <td>7.0</td>\n",
       "      <td>0.66</td>\n",
       "      <td>24</td>\n",
       "      <td>28</td>\n",
       "      <td>53</td>\n",
       "      <td>3.0</td>\n",
       "      <td>0.0</td>\n",
       "      <td>3.0</td>\n",
       "      <td>1</td>\n",
       "      <td>3.0</td>\n",
       "    </tr>\n",
       "    <tr>\n",
       "      <th>2</th>\n",
       "      <td>3</td>\n",
       "      <td>40</td>\n",
       "      <td>0</td>\n",
       "      <td>8.0</td>\n",
       "      <td>0.89</td>\n",
       "      <td>20</td>\n",
       "      <td>70</td>\n",
       "      <td>10</td>\n",
       "      <td>1.0</td>\n",
       "      <td>0.0</td>\n",
       "      <td>0.0</td>\n",
       "      <td>0</td>\n",
       "      <td>3.0</td>\n",
       "    </tr>\n",
       "    <tr>\n",
       "      <th>3</th>\n",
       "      <td>4</td>\n",
       "      <td>40</td>\n",
       "      <td>0</td>\n",
       "      <td>6.0</td>\n",
       "      <td>0.51</td>\n",
       "      <td>28</td>\n",
       "      <td>25</td>\n",
       "      <td>52</td>\n",
       "      <td>3.0</td>\n",
       "      <td>50.0</td>\n",
       "      <td>5.0</td>\n",
       "      <td>1</td>\n",
       "      <td>1.0</td>\n",
       "    </tr>\n",
       "    <tr>\n",
       "      <th>4</th>\n",
       "      <td>5</td>\n",
       "      <td>57</td>\n",
       "      <td>1</td>\n",
       "      <td>8.0</td>\n",
       "      <td>0.76</td>\n",
       "      <td>27</td>\n",
       "      <td>55</td>\n",
       "      <td>18</td>\n",
       "      <td>3.0</td>\n",
       "      <td>0.0</td>\n",
       "      <td>3.0</td>\n",
       "      <td>0</td>\n",
       "      <td>3.0</td>\n",
       "    </tr>\n",
       "  </tbody>\n",
       "</table>\n",
       "</div>"
      ],
      "text/plain": [
       "   ID  Age  Gender  ...  Alcohol consumption  Smoking status  Exercise frequency\n",
       "0   1   65       0  ...                  0.0               1                 3.0\n",
       "1   2   69       1  ...                  3.0               1                 3.0\n",
       "2   3   40       0  ...                  0.0               0                 3.0\n",
       "3   4   40       0  ...                  5.0               1                 1.0\n",
       "4   5   57       1  ...                  3.0               0                 3.0\n",
       "\n",
       "[5 rows x 13 columns]"
      ]
     },
     "execution_count": 18,
     "metadata": {},
     "output_type": "execute_result"
    }
   ],
   "source": [
    "df.head()"
   ]
  },
  {
   "cell_type": "code",
   "execution_count": 25,
   "id": "78ce1da5",
   "metadata": {},
   "outputs": [],
   "source": [
    "df.drop(\"ID\", inplace=True, axis=1)\n",
    "\n",
    "X = df.drop(\"Sleep efficiency\", axis=1)\n",
    "y = df[\"Sleep efficiency\"]\n",
    "\n",
    "X_train, X_test, y_train, y_test = train_test_split(X, y, test_size=0.2)"
   ]
  },
  {
   "cell_type": "code",
   "execution_count": 26,
   "id": "2e635534",
   "metadata": {},
   "outputs": [
    {
     "name": "stdout",
     "output_type": "stream",
     "text": [
      "<class 'pandas.core.frame.DataFrame'>\n",
      "RangeIndex: 452 entries, 0 to 451\n",
      "Data columns (total 12 columns):\n",
      " #   Column                  Non-Null Count  Dtype  \n",
      "---  ------                  --------------  -----  \n",
      " 0   Age                     452 non-null    int64  \n",
      " 1   Gender                  452 non-null    int64  \n",
      " 2   Sleep duration          452 non-null    float64\n",
      " 3   Sleep efficiency        452 non-null    float64\n",
      " 4   REM sleep percentage    452 non-null    int64  \n",
      " 5   Deep sleep percentage   452 non-null    int64  \n",
      " 6   Light sleep percentage  452 non-null    int64  \n",
      " 7   Awakenings              452 non-null    float64\n",
      " 8   Caffeine consumption    452 non-null    float64\n",
      " 9   Alcohol consumption     452 non-null    float64\n",
      " 10  Smoking status          452 non-null    int64  \n",
      " 11  Exercise frequency      446 non-null    float64\n",
      "dtypes: float64(6), int64(6)\n",
      "memory usage: 42.5 KB\n"
     ]
    }
   ],
   "source": [
    "df.info()"
   ]
  },
  {
   "cell_type": "code",
   "execution_count": 28,
   "id": "119ecf32",
   "metadata": {},
   "outputs": [
    {
     "data": {
      "text/plain": [
       "{'Gender': array(['Female', 'Male'], dtype=object),\n",
       " 'Smoking status': array(['No', 'Yes'], dtype=object)}"
      ]
     },
     "execution_count": 28,
     "metadata": {},
     "output_type": "execute_result"
    }
   ],
   "source": [
    "labels"
   ]
  },
  {
   "cell_type": "markdown",
   "id": "3aa740de",
   "metadata": {},
   "source": [
    "## Training model"
   ]
  },
  {
   "cell_type": "code",
   "execution_count": 27,
   "id": "0dbb638f",
   "metadata": {},
   "outputs": [
    {
     "data": {
      "text/plain": [
       "0.8526822137342804"
      ]
     },
     "execution_count": 27,
     "metadata": {},
     "output_type": "execute_result"
    }
   ],
   "source": [
    "xreg = XGBRegressor()\n",
    "xreg.fit(X_train.values, y_train.values)\n",
    "xreg.score(X_test.values, y_test.values)"
   ]
  },
  {
   "cell_type": "markdown",
   "id": "b0866693",
   "metadata": {},
   "source": [
    "## Prediction"
   ]
  },
  {
   "cell_type": "code",
   "execution_count": 31,
   "id": "23e842a5",
   "metadata": {},
   "outputs": [
    {
     "data": {
      "text/plain": [
       "array([0.8254941], dtype=float32)"
      ]
     },
     "execution_count": 31,
     "metadata": {},
     "output_type": "execute_result"
    }
   ],
   "source": [
    "xreg.predict([[18, 1, 6, 20, 60, 20, 3, 0.0, 0.0, 0, 2]])"
   ]
  },
  {
   "cell_type": "code",
   "execution_count": null,
   "id": "db75b56a",
   "metadata": {},
   "outputs": [],
   "source": []
  }
 ],
 "metadata": {
  "kernelspec": {
   "display_name": "Python 3 (ipykernel)",
   "language": "python",
   "name": "python3"
  },
  "language_info": {
   "codemirror_mode": {
    "name": "ipython",
    "version": 3
   },
   "file_extension": ".py",
   "mimetype": "text/x-python",
   "name": "python",
   "nbconvert_exporter": "python",
   "pygments_lexer": "ipython3",
   "version": "3.10.4"
  }
 },
 "nbformat": 4,
 "nbformat_minor": 5
}
