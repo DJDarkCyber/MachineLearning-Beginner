{
 "cells": [
  {
   "cell_type": "markdown",
   "id": "e8086257",
   "metadata": {},
   "source": [
    "# Heart Disease prediction using SK-Learn\n",
    "\n",
    "## Exploring the data"
   ]
  },
  {
   "cell_type": "code",
   "execution_count": 2,
   "id": "09705abc",
   "metadata": {},
   "outputs": [],
   "source": [
    "import pandas as pd\n",
    "import numpy as np\n",
    "import matplotlib.pyplot as plt"
   ]
  },
  {
   "cell_type": "code",
   "execution_count": 3,
   "id": "c4503a41",
   "metadata": {},
   "outputs": [
    {
     "data": {
      "text/html": [
       "<div>\n",
       "<style scoped>\n",
       "    .dataframe tbody tr th:only-of-type {\n",
       "        vertical-align: middle;\n",
       "    }\n",
       "\n",
       "    .dataframe tbody tr th {\n",
       "        vertical-align: top;\n",
       "    }\n",
       "\n",
       "    .dataframe thead th {\n",
       "        text-align: right;\n",
       "    }\n",
       "</style>\n",
       "<table border=\"1\" class=\"dataframe\">\n",
       "  <thead>\n",
       "    <tr style=\"text-align: right;\">\n",
       "      <th></th>\n",
       "      <th>Age</th>\n",
       "      <th>Sex</th>\n",
       "      <th>Chest pain type</th>\n",
       "      <th>BP</th>\n",
       "      <th>Cholesterol</th>\n",
       "      <th>FBS over 120</th>\n",
       "      <th>EKG results</th>\n",
       "      <th>Max HR</th>\n",
       "      <th>Exercise angina</th>\n",
       "      <th>ST depression</th>\n",
       "      <th>Slope of ST</th>\n",
       "      <th>Number of vessels fluro</th>\n",
       "      <th>Thallium</th>\n",
       "      <th>Heart Disease</th>\n",
       "    </tr>\n",
       "  </thead>\n",
       "  <tbody>\n",
       "    <tr>\n",
       "      <th>0</th>\n",
       "      <td>70</td>\n",
       "      <td>1</td>\n",
       "      <td>4</td>\n",
       "      <td>130</td>\n",
       "      <td>322</td>\n",
       "      <td>0</td>\n",
       "      <td>2</td>\n",
       "      <td>109</td>\n",
       "      <td>0</td>\n",
       "      <td>2.4</td>\n",
       "      <td>2</td>\n",
       "      <td>3</td>\n",
       "      <td>3</td>\n",
       "      <td>Presence</td>\n",
       "    </tr>\n",
       "    <tr>\n",
       "      <th>1</th>\n",
       "      <td>67</td>\n",
       "      <td>0</td>\n",
       "      <td>3</td>\n",
       "      <td>115</td>\n",
       "      <td>564</td>\n",
       "      <td>0</td>\n",
       "      <td>2</td>\n",
       "      <td>160</td>\n",
       "      <td>0</td>\n",
       "      <td>1.6</td>\n",
       "      <td>2</td>\n",
       "      <td>0</td>\n",
       "      <td>7</td>\n",
       "      <td>Absence</td>\n",
       "    </tr>\n",
       "    <tr>\n",
       "      <th>2</th>\n",
       "      <td>57</td>\n",
       "      <td>1</td>\n",
       "      <td>2</td>\n",
       "      <td>124</td>\n",
       "      <td>261</td>\n",
       "      <td>0</td>\n",
       "      <td>0</td>\n",
       "      <td>141</td>\n",
       "      <td>0</td>\n",
       "      <td>0.3</td>\n",
       "      <td>1</td>\n",
       "      <td>0</td>\n",
       "      <td>7</td>\n",
       "      <td>Presence</td>\n",
       "    </tr>\n",
       "    <tr>\n",
       "      <th>3</th>\n",
       "      <td>64</td>\n",
       "      <td>1</td>\n",
       "      <td>4</td>\n",
       "      <td>128</td>\n",
       "      <td>263</td>\n",
       "      <td>0</td>\n",
       "      <td>0</td>\n",
       "      <td>105</td>\n",
       "      <td>1</td>\n",
       "      <td>0.2</td>\n",
       "      <td>2</td>\n",
       "      <td>1</td>\n",
       "      <td>7</td>\n",
       "      <td>Absence</td>\n",
       "    </tr>\n",
       "    <tr>\n",
       "      <th>4</th>\n",
       "      <td>74</td>\n",
       "      <td>0</td>\n",
       "      <td>2</td>\n",
       "      <td>120</td>\n",
       "      <td>269</td>\n",
       "      <td>0</td>\n",
       "      <td>2</td>\n",
       "      <td>121</td>\n",
       "      <td>1</td>\n",
       "      <td>0.2</td>\n",
       "      <td>1</td>\n",
       "      <td>1</td>\n",
       "      <td>3</td>\n",
       "      <td>Absence</td>\n",
       "    </tr>\n",
       "  </tbody>\n",
       "</table>\n",
       "</div>"
      ],
      "text/plain": [
       "   Age  Sex  Chest pain type   BP  Cholesterol  FBS over 120  EKG results  \\\n",
       "0   70    1                4  130          322             0            2   \n",
       "1   67    0                3  115          564             0            2   \n",
       "2   57    1                2  124          261             0            0   \n",
       "3   64    1                4  128          263             0            0   \n",
       "4   74    0                2  120          269             0            2   \n",
       "\n",
       "   Max HR  Exercise angina  ST depression  Slope of ST  \\\n",
       "0     109                0            2.4            2   \n",
       "1     160                0            1.6            2   \n",
       "2     141                0            0.3            1   \n",
       "3     105                1            0.2            2   \n",
       "4     121                1            0.2            1   \n",
       "\n",
       "   Number of vessels fluro  Thallium Heart Disease  \n",
       "0                        3         3      Presence  \n",
       "1                        0         7       Absence  \n",
       "2                        0         7      Presence  \n",
       "3                        1         7       Absence  \n",
       "4                        1         3       Absence  "
      ]
     },
     "execution_count": 3,
     "metadata": {},
     "output_type": "execute_result"
    }
   ],
   "source": [
    "df_1 = pd.read_csv(\"data/proj15/Heart_Disease_Prediction.csv\")\n",
    "df_1.head()"
   ]
  },
  {
   "cell_type": "code",
   "execution_count": 4,
   "id": "16b78ad2",
   "metadata": {},
   "outputs": [
    {
     "data": {
      "text/plain": [
       "<BarContainer object of 270 artists>"
      ]
     },
     "execution_count": 4,
     "metadata": {},
     "output_type": "execute_result"
    },
    {
     "data": {
      "image/png": "[encoded data removed]",
      "text/plain": [
       "<Figure size 640x480 with 1 Axes>"
      ]
     },
     "metadata": {},
     "output_type": "display_data"
    }
   ],
   "source": [
    "plt.bar(df_1[\"Heart Disease\"], df_1[\"Age\"])"
   ]
  },
  {
   "cell_type": "markdown",
   "id": "459ec9bc",
   "metadata": {},
   "source": [
    "## Cleaning the data"
   ]
  },
  {
   "cell_type": "code",
   "execution_count": 5,
   "id": "98528d34",
   "metadata": {},
   "outputs": [
    {
     "data": {
      "text/plain": [
       "Age                        0\n",
       "Sex                        0\n",
       "Chest pain type            0\n",
       "BP                         0\n",
       "Cholesterol                0\n",
       "FBS over 120               0\n",
       "EKG results                0\n",
       "Max HR                     0\n",
       "Exercise angina            0\n",
       "ST depression              0\n",
       "Slope of ST                0\n",
       "Number of vessels fluro    0\n",
       "Thallium                   0\n",
       "Heart Disease              0\n",
       "dtype: int64"
      ]
     },
     "execution_count": 5,
     "metadata": {},
     "output_type": "execute_result"
    }
   ],
   "source": [
    "df_1.isna().sum()"
   ]
  },
  {
   "cell_type": "code",
   "execution_count": 6,
   "id": "5e73e28b",
   "metadata": {},
   "outputs": [
    {
     "data": {
      "text/plain": [
       "0      Presence\n",
       "1       Absence\n",
       "2      Presence\n",
       "3       Absence\n",
       "4       Absence\n",
       "         ...   \n",
       "265     Absence\n",
       "266     Absence\n",
       "267     Absence\n",
       "268     Absence\n",
       "269    Presence\n",
       "Name: Heart Disease, Length: 270, dtype: object"
      ]
     },
     "execution_count": 6,
     "metadata": {},
     "output_type": "execute_result"
    }
   ],
   "source": [
    "df_1[\"Heart Disease\"]"
   ]
  },
  {
   "cell_type": "code",
   "execution_count": 7,
   "id": "98beefd6",
   "metadata": {},
   "outputs": [
    {
     "data": {
      "text/plain": [
       "0      1\n",
       "1      0\n",
       "2      1\n",
       "3      0\n",
       "4      0\n",
       "      ..\n",
       "265    0\n",
       "266    0\n",
       "267    0\n",
       "268    0\n",
       "269    1\n",
       "Name: Heart Disease, Length: 270, dtype: int64"
      ]
     },
     "execution_count": 7,
     "metadata": {},
     "output_type": "execute_result"
    }
   ],
   "source": [
    "from sklearn.preprocessing import LabelEncoder\n",
    "\n",
    "le = LabelEncoder()\n",
    "\n",
    "df_1[\"Heart Disease\"] = le.fit_transform(df_1[\"Heart Disease\"])\n",
    "df_1[\"Heart Disease\"]"
   ]
  },
  {
   "cell_type": "markdown",
   "id": "806f40b8",
   "metadata": {},
   "source": [
    "## Preparing the data to train"
   ]
  },
  {
   "cell_type": "code",
   "execution_count": 8,
   "id": "cf2bb9e4",
   "metadata": {},
   "outputs": [],
   "source": [
    "X = df_1.drop(\"Heart Disease\", axis=1)\n",
    "y = df_1[\"Heart Disease\"]"
   ]
  },
  {
   "cell_type": "code",
   "execution_count": 9,
   "id": "801894ae",
   "metadata": {},
   "outputs": [],
   "source": [
    "from sklearn.model_selection import train_test_split\n",
    "\n",
    "X_train, X_test, y_train, y_test = train_test_split(X, y, test_size=0.2)"
   ]
  },
  {
   "cell_type": "markdown",
   "id": "bd61fe38",
   "metadata": {},
   "source": [
    "## Making the model"
   ]
  },
  {
   "cell_type": "code",
   "execution_count": 10,
   "id": "dd60a4d7",
   "metadata": {},
   "outputs": [
    {
     "data": {
      "text/plain": [
       "0.6666666666666666"
      ]
     },
     "execution_count": 10,
     "metadata": {},
     "output_type": "execute_result"
    }
   ],
   "source": [
    "from sklearn.neighbors import KNeighborsClassifier\n",
    "\n",
    "knNeigh = KNeighborsClassifier()\n",
    "\n",
    "knNeigh.fit(X_train, y_train)\n",
    "\n",
    "knNeigh.score(X_test, y_test)"
   ]
  },
  {
   "cell_type": "code",
   "execution_count": 11,
   "id": "64112ef6",
   "metadata": {},
   "outputs": [
    {
     "data": {
      "text/plain": [
       "0.8333333333333334"
      ]
     },
     "execution_count": 11,
     "metadata": {},
     "output_type": "execute_result"
    }
   ],
   "source": [
    "from sklearn.ensemble import RandomForestClassifier\n",
    "\n",
    "rf = RandomForestClassifier()\n",
    "rf.fit(X_train, y_train)\n",
    "rf.score(X_test, y_test)"
   ]
  },
  {
   "cell_type": "markdown",
   "id": "04442e75",
   "metadata": {},
   "source": [
    "# Using Neural Networks"
   ]
  },
  {
   "cell_type": "code",
   "execution_count": 13,
   "id": "3f60b2a8",
   "metadata": {},
   "outputs": [],
   "source": [
    "import tensorflow as tf\n",
    "import pandas as pd\n",
    "from sklearn.model_selection import train_test_split\n",
    "from sklearn.preprocessing import LabelEncoder"
   ]
  },
  {
   "cell_type": "code",
   "execution_count": 14,
   "id": "93bc71f1",
   "metadata": {},
   "outputs": [
    {
     "data": {
      "text/html": [
       "<div>\n",
       "<style scoped>\n",
       "    .dataframe tbody tr th:only-of-type {\n",
       "        vertical-align: middle;\n",
       "    }\n",
       "\n",
       "    .dataframe tbody tr th {\n",
       "        vertical-align: top;\n",
       "    }\n",
       "\n",
       "    .dataframe thead th {\n",
       "        text-align: right;\n",
       "    }\n",
       "</style>\n",
       "<table border=\"1\" class=\"dataframe\">\n",
       "  <thead>\n",
       "    <tr style=\"text-align: right;\">\n",
       "      <th></th>\n",
       "      <th>Age</th>\n",
       "      <th>Sex</th>\n",
       "      <th>Chest pain type</th>\n",
       "      <th>BP</th>\n",
       "      <th>Cholesterol</th>\n",
       "      <th>FBS over 120</th>\n",
       "      <th>EKG results</th>\n",
       "      <th>Max HR</th>\n",
       "      <th>Exercise angina</th>\n",
       "      <th>ST depression</th>\n",
       "      <th>Slope of ST</th>\n",
       "      <th>Number of vessels fluro</th>\n",
       "      <th>Thallium</th>\n",
       "      <th>Heart Disease</th>\n",
       "    </tr>\n",
       "  </thead>\n",
       "  <tbody>\n",
       "    <tr>\n",
       "      <th>0</th>\n",
       "      <td>70</td>\n",
       "      <td>1</td>\n",
       "      <td>4</td>\n",
       "      <td>130</td>\n",
       "      <td>322</td>\n",
       "      <td>0</td>\n",
       "      <td>2</td>\n",
       "      <td>109</td>\n",
       "      <td>0</td>\n",
       "      <td>2.4</td>\n",
       "      <td>2</td>\n",
       "      <td>3</td>\n",
       "      <td>3</td>\n",
       "      <td>Presence</td>\n",
       "    </tr>\n",
       "    <tr>\n",
       "      <th>1</th>\n",
       "      <td>67</td>\n",
       "      <td>0</td>\n",
       "      <td>3</td>\n",
       "      <td>115</td>\n",
       "      <td>564</td>\n",
       "      <td>0</td>\n",
       "      <td>2</td>\n",
       "      <td>160</td>\n",
       "      <td>0</td>\n",
       "      <td>1.6</td>\n",
       "      <td>2</td>\n",
       "      <td>0</td>\n",
       "      <td>7</td>\n",
       "      <td>Absence</td>\n",
       "    </tr>\n",
       "    <tr>\n",
       "      <th>2</th>\n",
       "      <td>57</td>\n",
       "      <td>1</td>\n",
       "      <td>2</td>\n",
       "      <td>124</td>\n",
       "      <td>261</td>\n",
       "      <td>0</td>\n",
       "      <td>0</td>\n",
       "      <td>141</td>\n",
       "      <td>0</td>\n",
       "      <td>0.3</td>\n",
       "      <td>1</td>\n",
       "      <td>0</td>\n",
       "      <td>7</td>\n",
       "      <td>Presence</td>\n",
       "    </tr>\n",
       "    <tr>\n",
       "      <th>3</th>\n",
       "      <td>64</td>\n",
       "      <td>1</td>\n",
       "      <td>4</td>\n",
       "      <td>128</td>\n",
       "      <td>263</td>\n",
       "      <td>0</td>\n",
       "      <td>0</td>\n",
       "      <td>105</td>\n",
       "      <td>1</td>\n",
       "      <td>0.2</td>\n",
       "      <td>2</td>\n",
       "      <td>1</td>\n",
       "      <td>7</td>\n",
       "      <td>Absence</td>\n",
       "    </tr>\n",
       "    <tr>\n",
       "      <th>4</th>\n",
       "      <td>74</td>\n",
       "      <td>0</td>\n",
       "      <td>2</td>\n",
       "      <td>120</td>\n",
       "      <td>269</td>\n",
       "      <td>0</td>\n",
       "      <td>2</td>\n",
       "      <td>121</td>\n",
       "      <td>1</td>\n",
       "      <td>0.2</td>\n",
       "      <td>1</td>\n",
       "      <td>1</td>\n",
       "      <td>3</td>\n",
       "      <td>Absence</td>\n",
       "    </tr>\n",
       "  </tbody>\n",
       "</table>\n",
       "</div>"
      ],
      "text/plain": [
       "   Age  Sex  Chest pain type   BP  Cholesterol  FBS over 120  EKG results  \\\n",
       "0   70    1                4  130          322             0            2   \n",
       "1   67    0                3  115          564             0            2   \n",
       "2   57    1                2  124          261             0            0   \n",
       "3   64    1                4  128          263             0            0   \n",
       "4   74    0                2  120          269             0            2   \n",
       "\n",
       "   Max HR  Exercise angina  ST depression  Slope of ST  \\\n",
       "0     109                0            2.4            2   \n",
       "1     160                0            1.6            2   \n",
       "2     141                0            0.3            1   \n",
       "3     105                1            0.2            2   \n",
       "4     121                1            0.2            1   \n",
       "\n",
       "   Number of vessels fluro  Thallium Heart Disease  \n",
       "0                        3         3      Presence  \n",
       "1                        0         7       Absence  \n",
       "2                        0         7      Presence  \n",
       "3                        1         7       Absence  \n",
       "4                        1         3       Absence  "
      ]
     },
     "execution_count": 14,
     "metadata": {},
     "output_type": "execute_result"
    }
   ],
   "source": [
    "df_2 = pd.read_csv(\"data/proj15/Heart_Disease_Prediction.csv\")\n",
    "df_2.head()"
   ]
  },
  {
   "cell_type": "code",
   "execution_count": 15,
   "id": "641c2c24",
   "metadata": {},
   "outputs": [],
   "source": [
    "le2 = LabelEncoder()\n",
    "df_2[\"Heart Disease\"] = le2.fit_transform(df_2[\"Heart Disease\"])"
   ]
  },
  {
   "cell_type": "code",
   "execution_count": 16,
   "id": "de06b5c3",
   "metadata": {},
   "outputs": [],
   "source": [
    "X = df_2.drop(\"Heart Disease\", axis=1)\n",
    "y = df_2[\"Heart Disease\"]\n",
    "X_train, X_test, y_train, y_test = train_test_split(X, y, test_size=0.2)"
   ]
  },
  {
   "cell_type": "code",
   "execution_count": 52,
   "id": "09d3b149",
   "metadata": {},
   "outputs": [],
   "source": [
    "annModel = tf.keras.models.Sequential()"
   ]
  },
  {
   "cell_type": "code",
   "execution_count": 53,
   "id": "3db7f66e",
   "metadata": {},
   "outputs": [],
   "source": [
    "annModel.add(tf.keras.layers.Dense(units=13, activation='relu'))\n",
    "annModel.add(tf.keras.layers.Dense(units=13, activation='relu'))\n",
    "annModel.add(tf.keras.layers.Dense(units=1, activation='sigmoid'))\n",
    "\n",
    "annModel.compile(optimizer='adam', loss='binary_crossentropy', metrics=['accuracy'])"
   ]
  },
  {
   "cell_type": "code",
   "execution_count": 54,
   "id": "a91ac9b9",
   "metadata": {},
   "outputs": [
    {
     "name": "stdout",
     "output_type": "stream",
     "text": [
      "Epoch 1/100\n",
      "7/7 [==============================] - 0s 3ms/step - loss: 31.2638 - accuracy: 0.4491\n",
      "Epoch 2/100\n",
      "7/7 [==============================] - 0s 2ms/step - loss: 23.4654 - accuracy: 0.4491\n",
      "Epoch 3/100\n",
      "7/7 [==============================] - 0s 1ms/step - loss: 15.7096 - accuracy: 0.4491\n",
      "Epoch 4/100\n",
      "7/7 [==============================] - 0s 2ms/step - loss: 8.2768 - accuracy: 0.4537\n",
      "Epoch 5/100\n",
      "7/7 [==============================] - 0s 3ms/step - loss: 2.7772 - accuracy: 0.5000\n",
      "Epoch 6/100\n",
      "7/7 [==============================] - 0s 3ms/step - loss: 3.4206 - accuracy: 0.5509\n",
      "Epoch 7/100\n",
      "7/7 [==============================] - 0s 3ms/step - loss: 3.2069 - accuracy: 0.5324\n",
      "Epoch 8/100\n",
      "7/7 [==============================] - 0s 3ms/step - loss: 2.3370 - accuracy: 0.4954\n",
      "Epoch 9/100\n",
      "7/7 [==============================] - 0s 3ms/step - loss: 2.3091 - accuracy: 0.4583\n",
      "Epoch 10/100\n",
      "7/7 [==============================] - 0s 3ms/step - loss: 2.0105 - accuracy: 0.5000\n",
      "Epoch 11/100\n",
      "7/7 [==============================] - 0s 3ms/step - loss: 1.8713 - accuracy: 0.5556\n",
      "Epoch 12/100\n",
      "7/7 [==============================] - 0s 6ms/step - loss: 1.5520 - accuracy: 0.5741\n",
      "Epoch 13/100\n",
      "7/7 [==============================] - 0s 3ms/step - loss: 1.5387 - accuracy: 0.5463\n",
      "Epoch 14/100\n",
      "7/7 [==============================] - 0s 3ms/step - loss: 1.4181 - accuracy: 0.6157\n",
      "Epoch 15/100\n",
      "7/7 [==============================] - 0s 3ms/step - loss: 1.3892 - accuracy: 0.5880\n",
      "Epoch 16/100\n",
      "7/7 [==============================] - 0s 4ms/step - loss: 1.4571 - accuracy: 0.6204\n",
      "Epoch 17/100\n",
      "7/7 [==============================] - 0s 4ms/step - loss: 1.0775 - accuracy: 0.6759\n",
      "Epoch 18/100\n",
      "7/7 [==============================] - 0s 3ms/step - loss: 1.1927 - accuracy: 0.6065\n",
      "Epoch 19/100\n",
      "7/7 [==============================] - 0s 3ms/step - loss: 1.0650 - accuracy: 0.6759\n",
      "Epoch 20/100\n",
      "7/7 [==============================] - 0s 4ms/step - loss: 1.0203 - accuracy: 0.6620\n",
      "Epoch 21/100\n",
      "7/7 [==============================] - 0s 3ms/step - loss: 0.9954 - accuracy: 0.7037\n",
      "Epoch 22/100\n",
      "7/7 [==============================] - 0s 5ms/step - loss: 0.9573 - accuracy: 0.6944\n",
      "Epoch 23/100\n",
      "7/7 [==============================] - 0s 3ms/step - loss: 0.9460 - accuracy: 0.6991\n",
      "Epoch 24/100\n",
      "7/7 [==============================] - 0s 3ms/step - loss: 0.9235 - accuracy: 0.6944\n",
      "Epoch 25/100\n",
      "7/7 [==============================] - 0s 3ms/step - loss: 0.8863 - accuracy: 0.6991\n",
      "Epoch 26/100\n",
      "7/7 [==============================] - 0s 3ms/step - loss: 0.8651 - accuracy: 0.7037\n",
      "Epoch 27/100\n",
      "7/7 [==============================] - 0s 4ms/step - loss: 0.8619 - accuracy: 0.6852\n",
      "Epoch 28/100\n",
      "7/7 [==============================] - 0s 2ms/step - loss: 0.8359 - accuracy: 0.7037\n",
      "Epoch 29/100\n",
      "7/7 [==============================] - 0s 2ms/step - loss: 0.7940 - accuracy: 0.6991\n",
      "Epoch 30/100\n",
      "7/7 [==============================] - 0s 3ms/step - loss: 0.7965 - accuracy: 0.7037\n",
      "Epoch 31/100\n",
      "7/7 [==============================] - 0s 3ms/step - loss: 0.7559 - accuracy: 0.7269\n",
      "Epoch 32/100\n",
      "7/7 [==============================] - 0s 4ms/step - loss: 0.7382 - accuracy: 0.7083\n",
      "Epoch 33/100\n",
      "7/7 [==============================] - 0s 3ms/step - loss: 0.7196 - accuracy: 0.7176\n",
      "Epoch 34/100\n",
      "7/7 [==============================] - 0s 3ms/step - loss: 0.7201 - accuracy: 0.7130\n",
      "Epoch 35/100\n",
      "7/7 [==============================] - 0s 3ms/step - loss: 0.6984 - accuracy: 0.7130\n",
      "Epoch 36/100\n",
      "7/7 [==============================] - 0s 3ms/step - loss: 0.6683 - accuracy: 0.7361\n",
      "Epoch 37/100\n",
      "7/7 [==============================] - 0s 2ms/step - loss: 0.6556 - accuracy: 0.7361\n",
      "Epoch 38/100\n",
      "7/7 [==============================] - 0s 4ms/step - loss: 0.6346 - accuracy: 0.7407\n",
      "Epoch 39/100\n",
      "7/7 [==============================] - 0s 4ms/step - loss: 0.6674 - accuracy: 0.7130\n",
      "Epoch 40/100\n",
      "7/7 [==============================] - 0s 3ms/step - loss: 0.7236 - accuracy: 0.6898\n",
      "Epoch 41/100\n",
      "7/7 [==============================] - 0s 3ms/step - loss: 0.6315 - accuracy: 0.7315\n",
      "Epoch 42/100\n",
      "7/7 [==============================] - 0s 4ms/step - loss: 0.6425 - accuracy: 0.7407\n",
      "Epoch 43/100\n",
      "7/7 [==============================] - 0s 3ms/step - loss: 0.5792 - accuracy: 0.7315\n",
      "Epoch 44/100\n",
      "7/7 [==============================] - 0s 3ms/step - loss: 0.5809 - accuracy: 0.7361\n",
      "Epoch 45/100\n",
      "7/7 [==============================] - 0s 6ms/step - loss: 0.5504 - accuracy: 0.7685\n",
      "Epoch 46/100\n",
      "7/7 [==============================] - 0s 3ms/step - loss: 0.5594 - accuracy: 0.7593\n",
      "Epoch 47/100\n",
      "7/7 [==============================] - 0s 2ms/step - loss: 0.5630 - accuracy: 0.7500\n",
      "Epoch 48/100\n",
      "7/7 [==============================] - 0s 3ms/step - loss: 0.5317 - accuracy: 0.7593\n",
      "Epoch 49/100\n",
      "7/7 [==============================] - 0s 3ms/step - loss: 0.5070 - accuracy: 0.7778\n",
      "Epoch 50/100\n",
      "7/7 [==============================] - 0s 2ms/step - loss: 0.5352 - accuracy: 0.7500\n",
      "Epoch 51/100\n",
      "7/7 [==============================] - 0s 2ms/step - loss: 0.5414 - accuracy: 0.7407\n",
      "Epoch 52/100\n",
      "7/7 [==============================] - 0s 3ms/step - loss: 0.5137 - accuracy: 0.7593\n",
      "Epoch 53/100\n",
      "7/7 [==============================] - 0s 3ms/step - loss: 0.5121 - accuracy: 0.7731\n",
      "Epoch 54/100\n",
      "7/7 [==============================] - 0s 3ms/step - loss: 0.4877 - accuracy: 0.7778\n",
      "Epoch 55/100\n",
      "7/7 [==============================] - 0s 3ms/step - loss: 0.4875 - accuracy: 0.7685\n",
      "Epoch 56/100\n",
      "7/7 [==============================] - 0s 6ms/step - loss: 0.5026 - accuracy: 0.7500\n",
      "Epoch 57/100\n",
      "7/7 [==============================] - 0s 6ms/step - loss: 0.4768 - accuracy: 0.7685\n",
      "Epoch 58/100\n",
      "7/7 [==============================] - 0s 7ms/step - loss: 0.4721 - accuracy: 0.7731\n",
      "Epoch 59/100\n",
      "7/7 [==============================] - 0s 7ms/step - loss: 0.4695 - accuracy: 0.7778\n",
      "Epoch 60/100\n",
      "7/7 [==============================] - 0s 6ms/step - loss: 0.4630 - accuracy: 0.7824\n",
      "Epoch 61/100\n",
      "7/7 [==============================] - 0s 5ms/step - loss: 0.4765 - accuracy: 0.7685\n",
      "Epoch 62/100\n",
      "7/7 [==============================] - 0s 4ms/step - loss: 0.4636 - accuracy: 0.7778\n",
      "Epoch 63/100\n",
      "7/7 [==============================] - 0s 3ms/step - loss: 0.4614 - accuracy: 0.7824\n",
      "Epoch 64/100\n",
      "7/7 [==============================] - 0s 3ms/step - loss: 0.4838 - accuracy: 0.7731\n",
      "Epoch 65/100\n",
      "7/7 [==============================] - 0s 2ms/step - loss: 0.5270 - accuracy: 0.7407\n",
      "Epoch 66/100\n",
      "7/7 [==============================] - 0s 12ms/step - loss: 0.4626 - accuracy: 0.7870\n",
      "Epoch 67/100\n",
      "7/7 [==============================] - 0s 2ms/step - loss: 0.4817 - accuracy: 0.7778\n",
      "Epoch 68/100\n",
      "7/7 [==============================] - 0s 4ms/step - loss: 0.5319 - accuracy: 0.7639\n",
      "Epoch 69/100\n",
      "7/7 [==============================] - 0s 2ms/step - loss: 0.4865 - accuracy: 0.7639\n",
      "Epoch 70/100\n",
      "7/7 [==============================] - 0s 2ms/step - loss: 0.5034 - accuracy: 0.7870\n",
      "Epoch 71/100\n",
      "7/7 [==============================] - 0s 3ms/step - loss: 0.4825 - accuracy: 0.7593\n",
      "Epoch 72/100\n",
      "7/7 [==============================] - 0s 3ms/step - loss: 0.4794 - accuracy: 0.8102\n",
      "Epoch 73/100\n",
      "7/7 [==============================] - 0s 2ms/step - loss: 0.4497 - accuracy: 0.7917\n",
      "Epoch 74/100\n",
      "7/7 [==============================] - 0s 3ms/step - loss: 0.4359 - accuracy: 0.8009\n",
      "Epoch 75/100\n",
      "7/7 [==============================] - 0s 2ms/step - loss: 0.4396 - accuracy: 0.8009\n",
      "Epoch 76/100\n",
      "7/7 [==============================] - 0s 2ms/step - loss: 0.4359 - accuracy: 0.8102\n",
      "Epoch 77/100\n",
      "7/7 [==============================] - 0s 2ms/step - loss: 0.4243 - accuracy: 0.7963\n",
      "Epoch 78/100\n",
      "7/7 [==============================] - 0s 3ms/step - loss: 0.4411 - accuracy: 0.7963\n",
      "Epoch 79/100\n",
      "7/7 [==============================] - 0s 3ms/step - loss: 0.4551 - accuracy: 0.7963\n",
      "Epoch 80/100\n",
      "7/7 [==============================] - 0s 3ms/step - loss: 0.4323 - accuracy: 0.7917\n",
      "Epoch 81/100\n",
      "7/7 [==============================] - 0s 3ms/step - loss: 0.4569 - accuracy: 0.7870\n",
      "Epoch 82/100\n",
      "7/7 [==============================] - 0s 6ms/step - loss: 0.4489 - accuracy: 0.8056\n",
      "Epoch 83/100\n",
      "7/7 [==============================] - 0s 3ms/step - loss: 0.4459 - accuracy: 0.8102\n",
      "Epoch 84/100\n"
     ]
    },
    {
     "name": "stdout",
     "output_type": "stream",
     "text": [
      "7/7 [==============================] - 0s 2ms/step - loss: 0.4380 - accuracy: 0.8194\n",
      "Epoch 85/100\n",
      "7/7 [==============================] - 0s 2ms/step - loss: 0.4163 - accuracy: 0.7917\n",
      "Epoch 86/100\n",
      "7/7 [==============================] - 0s 3ms/step - loss: 0.4286 - accuracy: 0.8009\n",
      "Epoch 87/100\n",
      "7/7 [==============================] - 0s 2ms/step - loss: 0.4179 - accuracy: 0.8241\n",
      "Epoch 88/100\n",
      "7/7 [==============================] - 0s 2ms/step - loss: 0.4428 - accuracy: 0.7963\n",
      "Epoch 89/100\n",
      "7/7 [==============================] - 0s 3ms/step - loss: 0.4406 - accuracy: 0.7731\n",
      "Epoch 90/100\n",
      "7/7 [==============================] - 0s 2ms/step - loss: 0.4447 - accuracy: 0.7870\n",
      "Epoch 91/100\n",
      "7/7 [==============================] - 0s 3ms/step - loss: 0.4171 - accuracy: 0.8056\n",
      "Epoch 92/100\n",
      "7/7 [==============================] - 0s 3ms/step - loss: 0.4125 - accuracy: 0.8148\n",
      "Epoch 93/100\n",
      "7/7 [==============================] - 0s 3ms/step - loss: 0.4125 - accuracy: 0.8287\n",
      "Epoch 94/100\n",
      "7/7 [==============================] - 0s 5ms/step - loss: 0.4133 - accuracy: 0.8056\n",
      "Epoch 95/100\n",
      "7/7 [==============================] - 0s 5ms/step - loss: 0.4069 - accuracy: 0.8287\n",
      "Epoch 96/100\n",
      "7/7 [==============================] - 0s 5ms/step - loss: 0.4108 - accuracy: 0.8148\n",
      "Epoch 97/100\n",
      "7/7 [==============================] - 0s 4ms/step - loss: 0.4222 - accuracy: 0.8241\n",
      "Epoch 98/100\n",
      "7/7 [==============================] - 0s 5ms/step - loss: 0.4218 - accuracy: 0.8056\n",
      "Epoch 99/100\n",
      "7/7 [==============================] - 0s 4ms/step - loss: 0.4077 - accuracy: 0.8241\n",
      "Epoch 100/100\n",
      "7/7 [==============================] - 0s 2ms/step - loss: 0.4085 - accuracy: 0.8241\n"
     ]
    },
    {
     "data": {
      "text/plain": [
       "<keras.callbacks.History at 0x7ff348b3aa90>"
      ]
     },
     "execution_count": 54,
     "metadata": {},
     "output_type": "execute_result"
    }
   ],
   "source": [
    "annModel.fit(X_train, y_train, batch_size=32, epochs=100)"
   ]
  },
  {
   "cell_type": "code",
   "execution_count": null,
   "id": "065f8c21",
   "metadata": {},
   "outputs": [],
   "source": []
  }
 ],
 "metadata": {
  "kernelspec": {
   "display_name": "Python 3 (ipykernel)",
   "language": "python",
   "name": "python3"
  },
  "language_info": {
   "codemirror_mode": {
    "name": "ipython",
    "version": 3
   },
   "file_extension": ".py",
   "mimetype": "text/x-python",
   "name": "python",
   "nbconvert_exporter": "python",
   "pygments_lexer": "ipython3",
   "version": "3.9.15"
  }
 },
 "nbformat": 4,
 "nbformat_minor": 5
}
