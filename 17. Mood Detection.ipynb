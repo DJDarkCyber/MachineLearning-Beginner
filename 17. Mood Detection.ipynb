{
 "cells": [
  {
   "cell_type": "markdown",
   "id": "5386a818",
   "metadata": {},
   "source": [
    "# Mood detection using Keras"
   ]
  },
  {
   "cell_type": "code",
   "execution_count": 59,
   "id": "b26d1aa1",
   "metadata": {},
   "outputs": [],
   "source": [
    "happy = \"data/proj17/dataset/Happy/\"\n",
    "neutral = \"data/proj17/dataset/Nuetral/\"\n",
    "sad = \"data/proj17/dataset/Sad/\""
   ]
  },
  {
   "cell_type": "code",
   "execution_count": 60,
   "id": "1704a5b2",
   "metadata": {},
   "outputs": [],
   "source": [
    "list_class = [happy, neutral, sad]"
   ]
  },
  {
   "cell_type": "code",
   "execution_count": 63,
   "id": "95e7daf1",
   "metadata": {},
   "outputs": [
    {
     "name": "stdout",
     "output_type": "stream",
     "text": [
      "data/proj17/dataset/Happy/\n",
      "data/proj17/dataset/Nuetral/\n",
      "data/proj17/dataset/Sad/\n"
     ]
    }
   ],
   "source": [
    "import os\n",
    "import cv2\n",
    "all_img = []\n",
    "for c in list_class:\n",
    "  print(c)\n",
    "  for filename in os.listdir(c):\n",
    "    img=cv2.imread(os.path.join(c,filename))\n",
    "    if img is not None:\n",
    "      gray=cv2.cvtColor(img,cv2.COLOR_BGR2GRAY)\n",
    "      resize_img=cv2.resize(gray,(100,100))\n",
    "      all_img.append(resize_img)"
   ]
  },
  {
   "cell_type": "code",
   "execution_count": 64,
   "id": "4faa5df4",
   "metadata": {},
   "outputs": [],
   "source": [
    "import numpy as np\n",
    "Images=np.array(all_img)"
   ]
  },
  {
   "cell_type": "code",
   "execution_count": 65,
   "id": "db9e56e5",
   "metadata": {},
   "outputs": [],
   "source": [
    "Image_pd=Images.reshape(90,100*100)"
   ]
  },
  {
   "cell_type": "code",
   "execution_count": 67,
   "id": "3cf90bdb",
   "metadata": {},
   "outputs": [],
   "source": [
    "import pandas as pd\n",
    "Image_pd=pd.DataFrame(Image_pd)"
   ]
  },
  {
   "cell_type": "code",
   "execution_count": 68,
   "id": "9dff8422",
   "metadata": {},
   "outputs": [],
   "source": [
    "DATA=Image_pd"
   ]
  },
  {
   "cell_type": "code",
   "execution_count": 69,
   "id": "0737b741",
   "metadata": {},
   "outputs": [],
   "source": [
    "Y=pd.DataFrame(np.ones(90))\n",
    "Y.iloc[0:30,:]=Y.iloc[0:30,:]*0\n",
    "Y.iloc[30:60,:]=Y.iloc[30:60,:]*1\n",
    "Y.iloc[60:,:]=Y.iloc[60:,:]*2"
   ]
  },
  {
   "cell_type": "code",
   "execution_count": 70,
   "id": "438fa704",
   "metadata": {},
   "outputs": [],
   "source": [
    "Y_TRAIN=pd.DataFrame(Y)"
   ]
  },
  {
   "cell_type": "code",
   "execution_count": 72,
   "id": "dad68aec",
   "metadata": {},
   "outputs": [],
   "source": [
    "HAPPY=DATA.iloc[0:30,]\n",
    "SAD=DATA.iloc[30:60,]\n",
    "NUETRAL=DATA.iloc[60:,]"
   ]
  },
  {
   "cell_type": "code",
   "execution_count": 73,
   "id": "272b5329",
   "metadata": {},
   "outputs": [],
   "source": [
    "from sklearn.decomposition import PCA\n",
    "HAPPY_pca = PCA(n_components=10)\n",
    "HAPPY_pca.fit(HAPPY)\n",
    "trans_happy = HAPPY_pca.transform(HAPPY)\n",
    "\n",
    "\n",
    "SAD_pca = PCA(n_components=10)\n",
    "SAD_pca.fit(SAD)\n",
    "trans_sad = SAD_pca.transform(SAD)\n",
    "\n",
    "\n",
    "NUETRAL_pca = PCA(n_components=10)\n",
    "NUETRAL_pca.fit(NUETRAL)\n",
    "trans_nuetral = NUETRAL_pca.transform(NUETRAL)"
   ]
  },
  {
   "cell_type": "code",
   "execution_count": 74,
   "id": "80d94731",
   "metadata": {},
   "outputs": [
    {
     "name": "stdout",
     "output_type": "stream",
     "text": [
      "Happy Images : 0.8189356026306167\n",
      "Sad Images  : 0.838661199600014\n",
      "Nuetral Images : 0.8659022581378666\n"
     ]
    }
   ],
   "source": [
    "print(f\"Happy Images : {sum(HAPPY_pca.explained_variance_ratio_)}\")\n",
    "print(f\"Sad Images  : {sum(SAD_pca.explained_variance_ratio_)}\")\n",
    "print(f\"Nuetral Images : {sum(NUETRAL_pca.explained_variance_ratio_)}\")"
   ]
  },
  {
   "cell_type": "code",
   "execution_count": 75,
   "id": "b27267f9",
   "metadata": {},
   "outputs": [],
   "source": [
    "HAPPY_IMAGES = HAPPY_pca.inverse_transform(trans_happy)\n",
    "SAD_IMAGES = SAD_pca.inverse_transform(trans_sad)\n",
    "NUETRAL_IMAGES = NUETRAL_pca.inverse_transform(trans_nuetral)\n"
   ]
  },
  {
   "cell_type": "code",
   "execution_count": 76,
   "id": "660b47ac",
   "metadata": {},
   "outputs": [],
   "source": [
    "NEW_DATA=pd.concat([pd.DataFrame(HAPPY_IMAGES),pd.DataFrame(SAD_IMAGES),pd.DataFrame(NUETRAL_IMAGES)],axis=0)"
   ]
  },
  {
   "cell_type": "code",
   "execution_count": 77,
   "id": "9f96c854",
   "metadata": {},
   "outputs": [],
   "source": [
    "from sklearn.model_selection import train_test_split\n",
    "X_train, X_test, y_train, y_test = train_test_split(NEW_DATA, Y_TRAIN, test_size=0.30, random_state=42)"
   ]
  },
  {
   "cell_type": "code",
   "execution_count": 79,
   "id": "45482fe6",
   "metadata": {},
   "outputs": [],
   "source": [
    "from keras import models\n",
    "from keras import layers\n",
    "\n",
    "NN1=models.Sequential()\n",
    "NN1.add(layers.Dense(728,activation=\"relu\",input_shape=(100*100,)))\n",
    "\n",
    "NN1.add(layers.Dense(128,activation=\"relu\"))\n",
    "\n",
    "NN1.add(layers.Dense(64,activation=\"relu\"))\n",
    "\n",
    "NN1.add(layers.Dense(32,activation=\"relu\"))\n",
    "NN1.add(layers.Dense(32,activation=\"relu\"))\n",
    "NN1.add(layers.Dense(32,activation=\"relu\"))\n",
    "NN1.add(layers.Dense(132,activation=\"relu\"))\n",
    "\n",
    "NN1.add(layers.Dense(3,activation=\"softmax\"))\n",
    "NN1.compile(optimizer='adam',loss='sparse_categorical_crossentropy',metrics=['accuracy'])\n",
    "\n",
    "\n"
   ]
  },
  {
   "cell_type": "code",
   "execution_count": 80,
   "id": "6a4a1264",
   "metadata": {},
   "outputs": [
    {
     "name": "stdout",
     "output_type": "stream",
     "text": [
      "Epoch 1/100\n",
      "2/2 [==============================] - 1s 56ms/step - loss: 37.5780 - accuracy: 0.3175\n",
      "Epoch 2/100\n",
      "2/2 [==============================] - 0s 42ms/step - loss: 117.1578 - accuracy: 0.3333\n",
      "Epoch 3/100\n",
      "2/2 [==============================] - 0s 33ms/step - loss: 236.5971 - accuracy: 0.3333\n",
      "Epoch 4/100\n",
      "2/2 [==============================] - 0s 61ms/step - loss: 106.5457 - accuracy: 0.3333\n",
      "Epoch 5/100\n",
      "2/2 [==============================] - 0s 89ms/step - loss: 173.8736 - accuracy: 0.3333\n",
      "Epoch 6/100\n",
      "2/2 [==============================] - 0s 47ms/step - loss: 150.6510 - accuracy: 0.3492\n",
      "Epoch 7/100\n",
      "2/2 [==============================] - 0s 55ms/step - loss: 91.0083 - accuracy: 0.3651\n",
      "Epoch 8/100\n",
      "2/2 [==============================] - 0s 56ms/step - loss: 74.5181 - accuracy: 0.3810\n",
      "Epoch 9/100\n",
      "2/2 [==============================] - 0s 40ms/step - loss: 104.2347 - accuracy: 0.3492\n",
      "Epoch 10/100\n",
      "2/2 [==============================] - 0s 56ms/step - loss: 137.6345 - accuracy: 0.3333\n",
      "Epoch 11/100\n",
      "2/2 [==============================] - 0s 46ms/step - loss: 74.7907 - accuracy: 0.3333\n",
      "Epoch 12/100\n",
      "2/2 [==============================] - 0s 53ms/step - loss: 63.8480 - accuracy: 0.3333\n",
      "Epoch 13/100\n",
      "2/2 [==============================] - 0s 66ms/step - loss: 115.1230 - accuracy: 0.3333\n",
      "Epoch 14/100\n",
      "2/2 [==============================] - 0s 40ms/step - loss: 79.9057 - accuracy: 0.3333\n",
      "Epoch 15/100\n",
      "2/2 [==============================] - 0s 48ms/step - loss: 23.7430 - accuracy: 0.4286\n",
      "Epoch 16/100\n",
      "2/2 [==============================] - 0s 54ms/step - loss: 44.8469 - accuracy: 0.3016\n",
      "Epoch 17/100\n",
      "2/2 [==============================] - 0s 45ms/step - loss: 16.9146 - accuracy: 0.5079\n",
      "Epoch 18/100\n",
      "2/2 [==============================] - 0s 58ms/step - loss: 15.6160 - accuracy: 0.2857\n",
      "Epoch 19/100\n",
      "2/2 [==============================] - 0s 61ms/step - loss: 8.1583 - accuracy: 0.3175\n",
      "Epoch 20/100\n",
      "2/2 [==============================] - 0s 67ms/step - loss: 6.0199 - accuracy: 0.4603\n",
      "Epoch 21/100\n",
      "2/2 [==============================] - 0s 54ms/step - loss: 9.7909 - accuracy: 0.2540\n",
      "Epoch 22/100\n",
      "2/2 [==============================] - 0s 53ms/step - loss: 5.8429 - accuracy: 0.4286\n",
      "Epoch 23/100\n",
      "2/2 [==============================] - 0s 48ms/step - loss: 12.9354 - accuracy: 0.3333\n",
      "Epoch 24/100\n",
      "2/2 [==============================] - 0s 55ms/step - loss: 8.4601 - accuracy: 0.3968\n",
      "Epoch 25/100\n",
      "2/2 [==============================] - 0s 54ms/step - loss: 4.7230 - accuracy: 0.4603\n",
      "Epoch 26/100\n",
      "2/2 [==============================] - 0s 66ms/step - loss: 5.6820 - accuracy: 0.3968\n",
      "Epoch 27/100\n",
      "2/2 [==============================] - 0s 43ms/step - loss: 4.7217 - accuracy: 0.4127\n",
      "Epoch 28/100\n",
      "2/2 [==============================] - 0s 45ms/step - loss: 5.2455 - accuracy: 0.3968\n",
      "Epoch 29/100\n",
      "2/2 [==============================] - 0s 44ms/step - loss: 6.2236 - accuracy: 0.4444\n",
      "Epoch 30/100\n",
      "2/2 [==============================] - 0s 42ms/step - loss: 4.8507 - accuracy: 0.4127\n",
      "Epoch 31/100\n",
      "2/2 [==============================] - 0s 49ms/step - loss: 6.3986 - accuracy: 0.3968\n",
      "Epoch 32/100\n",
      "2/2 [==============================] - 0s 60ms/step - loss: 3.7283 - accuracy: 0.5556\n",
      "Epoch 33/100\n",
      "2/2 [==============================] - 0s 49ms/step - loss: 5.2865 - accuracy: 0.4762\n",
      "Epoch 34/100\n",
      "2/2 [==============================] - 0s 36ms/step - loss: 3.2489 - accuracy: 0.4921\n",
      "Epoch 35/100\n",
      "2/2 [==============================] - 0s 38ms/step - loss: 3.1691 - accuracy: 0.5079\n",
      "Epoch 36/100\n",
      "2/2 [==============================] - 0s 43ms/step - loss: 5.1267 - accuracy: 0.5238\n",
      "Epoch 37/100\n",
      "2/2 [==============================] - 0s 42ms/step - loss: 3.0589 - accuracy: 0.5079\n",
      "Epoch 38/100\n",
      "2/2 [==============================] - 0s 36ms/step - loss: 3.8894 - accuracy: 0.4444\n",
      "Epoch 39/100\n",
      "2/2 [==============================] - 0s 56ms/step - loss: 4.3958 - accuracy: 0.5238\n",
      "Epoch 40/100\n",
      "2/2 [==============================] - 0s 46ms/step - loss: 3.1861 - accuracy: 0.5556\n",
      "Epoch 41/100\n",
      "2/2 [==============================] - 0s 74ms/step - loss: 9.1710 - accuracy: 0.4444\n",
      "Epoch 42/100\n",
      "2/2 [==============================] - 0s 54ms/step - loss: 7.0513 - accuracy: 0.4286\n",
      "Epoch 43/100\n",
      "2/2 [==============================] - 0s 54ms/step - loss: 10.9086 - accuracy: 0.4921\n",
      "Epoch 44/100\n",
      "2/2 [==============================] - 0s 54ms/step - loss: 4.1592 - accuracy: 0.4762\n",
      "Epoch 45/100\n",
      "2/2 [==============================] - 0s 49ms/step - loss: 5.6967 - accuracy: 0.4127\n",
      "Epoch 46/100\n",
      "2/2 [==============================] - 0s 46ms/step - loss: 5.5612 - accuracy: 0.5079\n",
      "Epoch 47/100\n",
      "2/2 [==============================] - 0s 39ms/step - loss: 2.9652 - accuracy: 0.6190\n",
      "Epoch 48/100\n",
      "2/2 [==============================] - 0s 41ms/step - loss: 6.5569 - accuracy: 0.3333\n",
      "Epoch 49/100\n",
      "2/2 [==============================] - 0s 44ms/step - loss: 4.8675 - accuracy: 0.4921\n",
      "Epoch 50/100\n",
      "2/2 [==============================] - 0s 43ms/step - loss: 9.0399 - accuracy: 0.4444\n",
      "Epoch 51/100\n",
      "2/2 [==============================] - 0s 49ms/step - loss: 4.7578 - accuracy: 0.5556\n",
      "Epoch 52/100\n",
      "2/2 [==============================] - 0s 37ms/step - loss: 4.9807 - accuracy: 0.4127\n",
      "Epoch 53/100\n",
      "2/2 [==============================] - 0s 49ms/step - loss: 2.7479 - accuracy: 0.6032\n",
      "Epoch 54/100\n",
      "2/2 [==============================] - 0s 34ms/step - loss: 2.0662 - accuracy: 0.5873\n",
      "Epoch 55/100\n",
      "2/2 [==============================] - 0s 36ms/step - loss: 1.1573 - accuracy: 0.7778\n",
      "Epoch 56/100\n",
      "2/2 [==============================] - 0s 39ms/step - loss: 0.8337 - accuracy: 0.7302\n",
      "Epoch 57/100\n",
      "2/2 [==============================] - 0s 50ms/step - loss: 1.0160 - accuracy: 0.8254\n",
      "Epoch 58/100\n",
      "2/2 [==============================] - 0s 61ms/step - loss: 1.2427 - accuracy: 0.6984\n",
      "Epoch 59/100\n",
      "2/2 [==============================] - 0s 55ms/step - loss: 0.8460 - accuracy: 0.7460\n",
      "Epoch 60/100\n",
      "2/2 [==============================] - 0s 47ms/step - loss: 1.0756 - accuracy: 0.7302\n",
      "Epoch 61/100\n",
      "2/2 [==============================] - 0s 57ms/step - loss: 1.4733 - accuracy: 0.7143\n",
      "Epoch 62/100\n",
      "2/2 [==============================] - 0s 38ms/step - loss: 1.5048 - accuracy: 0.7302\n",
      "Epoch 63/100\n",
      "2/2 [==============================] - 0s 35ms/step - loss: 1.2242 - accuracy: 0.7460\n",
      "Epoch 64/100\n",
      "2/2 [==============================] - 0s 34ms/step - loss: 1.3438 - accuracy: 0.6349\n",
      "Epoch 65/100\n",
      "2/2 [==============================] - 0s 34ms/step - loss: 0.8644 - accuracy: 0.7619\n",
      "Epoch 66/100\n",
      "2/2 [==============================] - 0s 38ms/step - loss: 1.5774 - accuracy: 0.6825\n",
      "Epoch 67/100\n",
      "2/2 [==============================] - 0s 61ms/step - loss: 0.9224 - accuracy: 0.7460\n",
      "Epoch 68/100\n",
      "2/2 [==============================] - 0s 48ms/step - loss: 1.0472 - accuracy: 0.7937\n",
      "Epoch 69/100\n",
      "2/2 [==============================] - 0s 37ms/step - loss: 0.5183 - accuracy: 0.8095\n",
      "Epoch 70/100\n",
      "2/2 [==============================] - 0s 34ms/step - loss: 0.4945 - accuracy: 0.8095\n",
      "Epoch 71/100\n",
      "2/2 [==============================] - 0s 47ms/step - loss: 0.2797 - accuracy: 0.9048\n",
      "Epoch 72/100\n",
      "2/2 [==============================] - 0s 58ms/step - loss: 0.2967 - accuracy: 0.9206\n",
      "Epoch 73/100\n",
      "2/2 [==============================] - 0s 49ms/step - loss: 0.5611 - accuracy: 0.7937\n",
      "Epoch 74/100\n",
      "2/2 [==============================] - 0s 37ms/step - loss: 0.7789 - accuracy: 0.8254\n",
      "Epoch 75/100\n",
      "2/2 [==============================] - 0s 37ms/step - loss: 0.2971 - accuracy: 0.8889\n",
      "Epoch 76/100\n",
      "2/2 [==============================] - 0s 60ms/step - loss: 0.4071 - accuracy: 0.8413\n",
      "Epoch 77/100\n",
      "2/2 [==============================] - 0s 41ms/step - loss: 0.3613 - accuracy: 0.8730\n",
      "Epoch 78/100\n",
      "2/2 [==============================] - 0s 43ms/step - loss: 0.1812 - accuracy: 0.9524\n",
      "Epoch 79/100\n",
      "2/2 [==============================] - 0s 44ms/step - loss: 0.1370 - accuracy: 0.9524\n",
      "Epoch 80/100\n",
      "2/2 [==============================] - 0s 49ms/step - loss: 0.1268 - accuracy: 0.9524\n",
      "Epoch 81/100\n",
      "2/2 [==============================] - 0s 44ms/step - loss: 0.1241 - accuracy: 0.9524\n",
      "Epoch 82/100\n",
      "2/2 [==============================] - 0s 39ms/step - loss: 0.0921 - accuracy: 0.9841\n",
      "Epoch 83/100\n"
     ]
    },
    {
     "name": "stdout",
     "output_type": "stream",
     "text": [
      "2/2 [==============================] - 0s 55ms/step - loss: 0.0632 - accuracy: 1.0000\n",
      "Epoch 84/100\n",
      "2/2 [==============================] - 0s 46ms/step - loss: 0.0856 - accuracy: 0.9683\n",
      "Epoch 85/100\n",
      "2/2 [==============================] - 0s 41ms/step - loss: 0.0420 - accuracy: 1.0000\n",
      "Epoch 86/100\n",
      "2/2 [==============================] - 0s 42ms/step - loss: 0.0733 - accuracy: 0.9841\n",
      "Epoch 87/100\n",
      "2/2 [==============================] - 0s 61ms/step - loss: 0.0343 - accuracy: 1.0000\n",
      "Epoch 88/100\n",
      "2/2 [==============================] - 0s 59ms/step - loss: 0.0601 - accuracy: 1.0000\n",
      "Epoch 89/100\n",
      "2/2 [==============================] - 0s 40ms/step - loss: 0.0396 - accuracy: 1.0000\n",
      "Epoch 90/100\n",
      "2/2 [==============================] - 0s 39ms/step - loss: 0.0340 - accuracy: 1.0000\n",
      "Epoch 91/100\n",
      "2/2 [==============================] - 0s 44ms/step - loss: 0.0477 - accuracy: 0.9841\n",
      "Epoch 92/100\n",
      "2/2 [==============================] - 0s 52ms/step - loss: 0.0326 - accuracy: 1.0000\n",
      "Epoch 93/100\n",
      "2/2 [==============================] - 0s 39ms/step - loss: 0.0496 - accuracy: 1.0000\n",
      "Epoch 94/100\n",
      "2/2 [==============================] - 0s 42ms/step - loss: 0.0310 - accuracy: 1.0000\n",
      "Epoch 95/100\n",
      "2/2 [==============================] - 0s 32ms/step - loss: 0.0379 - accuracy: 0.9841\n",
      "Epoch 96/100\n",
      "2/2 [==============================] - 0s 33ms/step - loss: 0.0298 - accuracy: 1.0000\n",
      "Epoch 97/100\n",
      "2/2 [==============================] - 0s 49ms/step - loss: 0.0249 - accuracy: 1.0000\n",
      "Epoch 98/100\n",
      "2/2 [==============================] - 0s 49ms/step - loss: 0.0339 - accuracy: 1.0000\n",
      "Epoch 99/100\n",
      "2/2 [==============================] - 0s 45ms/step - loss: 0.0240 - accuracy: 1.0000\n",
      "Epoch 100/100\n",
      "2/2 [==============================] - 0s 37ms/step - loss: 0.0215 - accuracy: 1.0000\n"
     ]
    },
    {
     "data": {
      "text/plain": [
       "<keras.callbacks.History at 0x7f2d20064fa0>"
      ]
     },
     "execution_count": 80,
     "metadata": {},
     "output_type": "execute_result"
    }
   ],
   "source": [
    " NN1.fit(X_train,y_train,epochs=100,batch_size=32)"
   ]
  },
  {
   "cell_type": "code",
   "execution_count": null,
   "id": "d6701b05",
   "metadata": {},
   "outputs": [],
   "source": []
  }
 ],
 "metadata": {
  "kernelspec": {
   "display_name": "Python 3 (ipykernel)",
   "language": "python",
   "name": "python3"
  },
  "language_info": {
   "codemirror_mode": {
    "name": "ipython",
    "version": 3
   },
   "file_extension": ".py",
   "mimetype": "text/x-python",
   "name": "python",
   "nbconvert_exporter": "python",
   "pygments_lexer": "ipython3",
   "version": "3.9.15"
  }
 },
 "nbformat": 4,
 "nbformat_minor": 5
}
