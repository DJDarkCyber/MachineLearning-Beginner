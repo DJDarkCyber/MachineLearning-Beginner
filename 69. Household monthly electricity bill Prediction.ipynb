{
 "cells": [
  {
   "cell_type": "markdown",
   "id": "65491c2f",
   "metadata": {},
   "source": [
    "# Household monthly electricity bill prediction\n",
    "\n",
    "## Importing required libraries"
   ]
  },
  {
   "cell_type": "code",
   "execution_count": 1,
   "id": "5bae52f2",
   "metadata": {},
   "outputs": [],
   "source": [
    "import pandas as pd\n",
    "import numpy as np\n",
    "from sklearn.model_selection import train_test_split\n",
    "from sklearn.ensemble import RandomForestRegressor\n",
    "from xgboost import XGBRegressor"
   ]
  },
  {
   "cell_type": "markdown",
   "id": "6a1bfe73",
   "metadata": {},
   "source": [
    "## Getting datasets"
   ]
  },
  {
   "cell_type": "code",
   "execution_count": 2,
   "id": "110339f5",
   "metadata": {},
   "outputs": [
    {
     "data": {
      "text/html": [
       "<div>\n",
       "<style scoped>\n",
       "    .dataframe tbody tr th:only-of-type {\n",
       "        vertical-align: middle;\n",
       "    }\n",
       "\n",
       "    .dataframe tbody tr th {\n",
       "        vertical-align: top;\n",
       "    }\n",
       "\n",
       "    .dataframe thead th {\n",
       "        text-align: right;\n",
       "    }\n",
       "</style>\n",
       "<table border=\"1\" class=\"dataframe\">\n",
       "  <thead>\n",
       "    <tr style=\"text-align: right;\">\n",
       "      <th></th>\n",
       "      <th>num_rooms</th>\n",
       "      <th>num_people</th>\n",
       "      <th>housearea</th>\n",
       "      <th>is_ac</th>\n",
       "      <th>is_tv</th>\n",
       "      <th>is_flat</th>\n",
       "      <th>ave_monthly_income</th>\n",
       "      <th>num_children</th>\n",
       "      <th>is_urban</th>\n",
       "      <th>amount_paid</th>\n",
       "    </tr>\n",
       "  </thead>\n",
       "  <tbody>\n",
       "    <tr>\n",
       "      <th>0</th>\n",
       "      <td>3</td>\n",
       "      <td>3</td>\n",
       "      <td>742.57</td>\n",
       "      <td>1</td>\n",
       "      <td>1</td>\n",
       "      <td>1</td>\n",
       "      <td>9675.93</td>\n",
       "      <td>2</td>\n",
       "      <td>0</td>\n",
       "      <td>560.481447</td>\n",
       "    </tr>\n",
       "    <tr>\n",
       "      <th>1</th>\n",
       "      <td>1</td>\n",
       "      <td>5</td>\n",
       "      <td>952.99</td>\n",
       "      <td>0</td>\n",
       "      <td>1</td>\n",
       "      <td>0</td>\n",
       "      <td>35064.79</td>\n",
       "      <td>1</td>\n",
       "      <td>1</td>\n",
       "      <td>633.283679</td>\n",
       "    </tr>\n",
       "    <tr>\n",
       "      <th>2</th>\n",
       "      <td>3</td>\n",
       "      <td>1</td>\n",
       "      <td>761.44</td>\n",
       "      <td>1</td>\n",
       "      <td>1</td>\n",
       "      <td>1</td>\n",
       "      <td>22292.44</td>\n",
       "      <td>0</td>\n",
       "      <td>0</td>\n",
       "      <td>511.879157</td>\n",
       "    </tr>\n",
       "    <tr>\n",
       "      <th>3</th>\n",
       "      <td>0</td>\n",
       "      <td>5</td>\n",
       "      <td>861.32</td>\n",
       "      <td>1</td>\n",
       "      <td>1</td>\n",
       "      <td>0</td>\n",
       "      <td>12139.08</td>\n",
       "      <td>0</td>\n",
       "      <td>0</td>\n",
       "      <td>332.992035</td>\n",
       "    </tr>\n",
       "    <tr>\n",
       "      <th>4</th>\n",
       "      <td>1</td>\n",
       "      <td>8</td>\n",
       "      <td>731.61</td>\n",
       "      <td>0</td>\n",
       "      <td>1</td>\n",
       "      <td>0</td>\n",
       "      <td>17230.10</td>\n",
       "      <td>2</td>\n",
       "      <td>1</td>\n",
       "      <td>658.285625</td>\n",
       "    </tr>\n",
       "  </tbody>\n",
       "</table>\n",
       "</div>"
      ],
      "text/plain": [
       "   num_rooms  num_people  housearea  ...  num_children  is_urban  amount_paid\n",
       "0          3           3     742.57  ...             2         0   560.481447\n",
       "1          1           5     952.99  ...             1         1   633.283679\n",
       "2          3           1     761.44  ...             0         0   511.879157\n",
       "3          0           5     861.32  ...             0         0   332.992035\n",
       "4          1           8     731.61  ...             2         1   658.285625\n",
       "\n",
       "[5 rows x 10 columns]"
      ]
     },
     "execution_count": 2,
     "metadata": {},
     "output_type": "execute_result"
    }
   ],
   "source": [
    "df = pd.read_csv(\"data/proj69/Household energy bill data.csv\")\n",
    "df.head()"
   ]
  },
  {
   "cell_type": "markdown",
   "id": "6f7fbf48",
   "metadata": {},
   "source": [
    "## Cleaning dataset"
   ]
  },
  {
   "cell_type": "code",
   "execution_count": 3,
   "id": "fe7cddec",
   "metadata": {},
   "outputs": [
    {
     "data": {
      "text/plain": [
       "num_rooms             0\n",
       "num_people            0\n",
       "housearea             0\n",
       "is_ac                 0\n",
       "is_tv                 0\n",
       "is_flat               0\n",
       "ave_monthly_income    0\n",
       "num_children          0\n",
       "is_urban              0\n",
       "amount_paid           0\n",
       "dtype: int64"
      ]
     },
     "execution_count": 3,
     "metadata": {},
     "output_type": "execute_result"
    }
   ],
   "source": [
    "df.isna().sum()"
   ]
  },
  {
   "cell_type": "markdown",
   "id": "5b1f70bf",
   "metadata": {},
   "source": [
    "## Pre-Processing dataset"
   ]
  },
  {
   "cell_type": "code",
   "execution_count": 4,
   "id": "a2afaf7b",
   "metadata": {},
   "outputs": [],
   "source": [
    "X = df.drop(\"amount_paid\", axis=1)\n",
    "y = df[\"amount_paid\"]\n",
    "\n",
    "X_train, X_test, y_train, y_test = train_test_split(X, y, test_size=0.2)"
   ]
  },
  {
   "cell_type": "markdown",
   "id": "cfaca5a7",
   "metadata": {},
   "source": [
    "## Training model"
   ]
  },
  {
   "cell_type": "code",
   "execution_count": 7,
   "id": "963cbbaf",
   "metadata": {},
   "outputs": [
    {
     "data": {
      "text/plain": [
       "0.8501362272429082"
      ]
     },
     "execution_count": 7,
     "metadata": {},
     "output_type": "execute_result"
    }
   ],
   "source": [
    "rreg = RandomForestRegressor()\n",
    "rreg.fit(X_train.values, y_train.values)\n",
    "rreg.score(X_test.values, y_test.values)"
   ]
  },
  {
   "cell_type": "code",
   "execution_count": 8,
   "id": "79b72f29",
   "metadata": {},
   "outputs": [
    {
     "data": {
      "text/plain": [
       "0.8136263845607594"
      ]
     },
     "execution_count": 8,
     "metadata": {},
     "output_type": "execute_result"
    }
   ],
   "source": [
    "xreg = XGBRegressor()\n",
    "xreg.fit(X_train.values, y_train.values)\n",
    "xreg.score(X_test.values, y_test.values)"
   ]
  },
  {
   "cell_type": "markdown",
   "id": "2714b812",
   "metadata": {},
   "source": [
    "## Making Prediction"
   ]
  },
  {
   "cell_type": "code",
   "execution_count": 9,
   "id": "03bcd88e",
   "metadata": {},
   "outputs": [
    {
     "data": {
      "text/plain": [
       "array([254.13096898])"
      ]
     },
     "execution_count": 9,
     "metadata": {},
     "output_type": "execute_result"
    }
   ],
   "source": [
    "rreg.predict([[3, 1, 400, 0, 0, 1, 0, 0, 0]])"
   ]
  },
  {
   "cell_type": "code",
   "execution_count": null,
   "id": "c71ae969",
   "metadata": {},
   "outputs": [],
   "source": []
  }
 ],
 "metadata": {
  "kernelspec": {
   "display_name": "Python 3 (ipykernel)",
   "language": "python",
   "name": "python3"
  },
  "language_info": {
   "codemirror_mode": {
    "name": "ipython",
    "version": 3
   },
   "file_extension": ".py",
   "mimetype": "text/x-python",
   "name": "python",
   "nbconvert_exporter": "python",
   "pygments_lexer": "ipython3",
   "version": "3.10.4"
  }
 },
 "nbformat": 4,
 "nbformat_minor": 5
}
