{
 "cells": [
  {
   "cell_type": "code",
   "execution_count": 2,
   "id": "fc3fbfc9",
   "metadata": {},
   "outputs": [],
   "source": [
    "import pandas as pd\n",
    "import numpy as np\n",
    "import tensorflow as tf"
   ]
  },
  {
   "cell_type": "markdown",
   "id": "28cd86ca",
   "metadata": {},
   "source": [
    "# Using SKLEARN"
   ]
  },
  {
   "cell_type": "code",
   "execution_count": 3,
   "id": "513493a8",
   "metadata": {},
   "outputs": [
    {
     "data": {
      "text/html": [
       "<div>\n",
       "<style scoped>\n",
       "    .dataframe tbody tr th:only-of-type {\n",
       "        vertical-align: middle;\n",
       "    }\n",
       "\n",
       "    .dataframe tbody tr th {\n",
       "        vertical-align: top;\n",
       "    }\n",
       "\n",
       "    .dataframe thead th {\n",
       "        text-align: right;\n",
       "    }\n",
       "</style>\n",
       "<table border=\"1\" class=\"dataframe\">\n",
       "  <thead>\n",
       "    <tr style=\"text-align: right;\">\n",
       "      <th></th>\n",
       "      <th>Survey_id</th>\n",
       "      <th>Ville_id</th>\n",
       "      <th>sex</th>\n",
       "      <th>Age</th>\n",
       "      <th>Married</th>\n",
       "      <th>Number_children</th>\n",
       "      <th>education_level</th>\n",
       "      <th>total_members</th>\n",
       "      <th>gained_asset</th>\n",
       "      <th>durable_asset</th>\n",
       "      <th>...</th>\n",
       "      <th>incoming_salary</th>\n",
       "      <th>incoming_own_farm</th>\n",
       "      <th>incoming_business</th>\n",
       "      <th>incoming_no_business</th>\n",
       "      <th>incoming_agricultural</th>\n",
       "      <th>farm_expenses</th>\n",
       "      <th>labor_primary</th>\n",
       "      <th>lasting_investment</th>\n",
       "      <th>no_lasting_investmen</th>\n",
       "      <th>depressed</th>\n",
       "    </tr>\n",
       "  </thead>\n",
       "  <tbody>\n",
       "    <tr>\n",
       "      <th>0</th>\n",
       "      <td>926</td>\n",
       "      <td>91</td>\n",
       "      <td>1</td>\n",
       "      <td>28</td>\n",
       "      <td>1</td>\n",
       "      <td>4</td>\n",
       "      <td>10</td>\n",
       "      <td>5</td>\n",
       "      <td>28912201</td>\n",
       "      <td>22861940</td>\n",
       "      <td>...</td>\n",
       "      <td>0</td>\n",
       "      <td>0</td>\n",
       "      <td>0</td>\n",
       "      <td>0</td>\n",
       "      <td>30028818</td>\n",
       "      <td>31363432</td>\n",
       "      <td>0</td>\n",
       "      <td>28411718</td>\n",
       "      <td>28292707.0</td>\n",
       "      <td>0</td>\n",
       "    </tr>\n",
       "    <tr>\n",
       "      <th>1</th>\n",
       "      <td>747</td>\n",
       "      <td>57</td>\n",
       "      <td>1</td>\n",
       "      <td>23</td>\n",
       "      <td>1</td>\n",
       "      <td>3</td>\n",
       "      <td>8</td>\n",
       "      <td>5</td>\n",
       "      <td>28912201</td>\n",
       "      <td>22861940</td>\n",
       "      <td>...</td>\n",
       "      <td>0</td>\n",
       "      <td>0</td>\n",
       "      <td>0</td>\n",
       "      <td>0</td>\n",
       "      <td>30028818</td>\n",
       "      <td>31363432</td>\n",
       "      <td>0</td>\n",
       "      <td>28411718</td>\n",
       "      <td>28292707.0</td>\n",
       "      <td>1</td>\n",
       "    </tr>\n",
       "    <tr>\n",
       "      <th>2</th>\n",
       "      <td>1190</td>\n",
       "      <td>115</td>\n",
       "      <td>1</td>\n",
       "      <td>22</td>\n",
       "      <td>1</td>\n",
       "      <td>3</td>\n",
       "      <td>9</td>\n",
       "      <td>5</td>\n",
       "      <td>28912201</td>\n",
       "      <td>22861940</td>\n",
       "      <td>...</td>\n",
       "      <td>0</td>\n",
       "      <td>0</td>\n",
       "      <td>0</td>\n",
       "      <td>0</td>\n",
       "      <td>30028818</td>\n",
       "      <td>31363432</td>\n",
       "      <td>0</td>\n",
       "      <td>28411718</td>\n",
       "      <td>28292707.0</td>\n",
       "      <td>0</td>\n",
       "    </tr>\n",
       "    <tr>\n",
       "      <th>3</th>\n",
       "      <td>1065</td>\n",
       "      <td>97</td>\n",
       "      <td>1</td>\n",
       "      <td>27</td>\n",
       "      <td>1</td>\n",
       "      <td>2</td>\n",
       "      <td>10</td>\n",
       "      <td>4</td>\n",
       "      <td>52667108</td>\n",
       "      <td>19698904</td>\n",
       "      <td>...</td>\n",
       "      <td>0</td>\n",
       "      <td>1</td>\n",
       "      <td>0</td>\n",
       "      <td>1</td>\n",
       "      <td>22288055</td>\n",
       "      <td>18751329</td>\n",
       "      <td>0</td>\n",
       "      <td>7781123</td>\n",
       "      <td>69219765.0</td>\n",
       "      <td>0</td>\n",
       "    </tr>\n",
       "    <tr>\n",
       "      <th>4</th>\n",
       "      <td>806</td>\n",
       "      <td>42</td>\n",
       "      <td>0</td>\n",
       "      <td>59</td>\n",
       "      <td>0</td>\n",
       "      <td>4</td>\n",
       "      <td>10</td>\n",
       "      <td>6</td>\n",
       "      <td>82606287</td>\n",
       "      <td>17352654</td>\n",
       "      <td>...</td>\n",
       "      <td>1</td>\n",
       "      <td>0</td>\n",
       "      <td>0</td>\n",
       "      <td>0</td>\n",
       "      <td>53384566</td>\n",
       "      <td>20731006</td>\n",
       "      <td>1</td>\n",
       "      <td>20100562</td>\n",
       "      <td>43419447.0</td>\n",
       "      <td>0</td>\n",
       "    </tr>\n",
       "  </tbody>\n",
       "</table>\n",
       "<p>5 rows × 23 columns</p>\n",
       "</div>"
      ],
      "text/plain": [
       "   Survey_id  Ville_id  sex  Age  Married  Number_children  education_level  \\\n",
       "0        926        91    1   28        1                4               10   \n",
       "1        747        57    1   23        1                3                8   \n",
       "2       1190       115    1   22        1                3                9   \n",
       "3       1065        97    1   27        1                2               10   \n",
       "4        806        42    0   59        0                4               10   \n",
       "\n",
       "   total_members  gained_asset  durable_asset  ...  incoming_salary  \\\n",
       "0              5      28912201       22861940  ...                0   \n",
       "1              5      28912201       22861940  ...                0   \n",
       "2              5      28912201       22861940  ...                0   \n",
       "3              4      52667108       19698904  ...                0   \n",
       "4              6      82606287       17352654  ...                1   \n",
       "\n",
       "   incoming_own_farm  incoming_business  incoming_no_business  \\\n",
       "0                  0                  0                     0   \n",
       "1                  0                  0                     0   \n",
       "2                  0                  0                     0   \n",
       "3                  1                  0                     1   \n",
       "4                  0                  0                     0   \n",
       "\n",
       "   incoming_agricultural  farm_expenses  labor_primary  lasting_investment  \\\n",
       "0               30028818       31363432              0            28411718   \n",
       "1               30028818       31363432              0            28411718   \n",
       "2               30028818       31363432              0            28411718   \n",
       "3               22288055       18751329              0             7781123   \n",
       "4               53384566       20731006              1            20100562   \n",
       "\n",
       "   no_lasting_investmen  depressed  \n",
       "0            28292707.0          0  \n",
       "1            28292707.0          1  \n",
       "2            28292707.0          0  \n",
       "3            69219765.0          0  \n",
       "4            43419447.0          0  \n",
       "\n",
       "[5 rows x 23 columns]"
      ]
     },
     "execution_count": 3,
     "metadata": {},
     "output_type": "execute_result"
    }
   ],
   "source": [
    "df_1 = pd.read_csv(\"data/proj14/b_depressed.csv\")\n",
    "df_1.head()"
   ]
  },
  {
   "cell_type": "markdown",
   "id": "8970c5c4",
   "metadata": {},
   "source": [
    "## Data Cleaning"
   ]
  },
  {
   "cell_type": "code",
   "execution_count": 4,
   "id": "01299e05",
   "metadata": {},
   "outputs": [
    {
     "data": {
      "text/plain": [
       "Survey_id                 0\n",
       "Ville_id                  0\n",
       "sex                       0\n",
       "Age                       0\n",
       "Married                   0\n",
       "Number_children           0\n",
       "education_level           0\n",
       "total_members             0\n",
       "gained_asset              0\n",
       "durable_asset             0\n",
       "save_asset                0\n",
       "living_expenses           0\n",
       "other_expenses            0\n",
       "incoming_salary           0\n",
       "incoming_own_farm         0\n",
       "incoming_business         0\n",
       "incoming_no_business      0\n",
       "incoming_agricultural     0\n",
       "farm_expenses             0\n",
       "labor_primary             0\n",
       "lasting_investment        0\n",
       "no_lasting_investmen     20\n",
       "depressed                 0\n",
       "dtype: int64"
      ]
     },
     "execution_count": 4,
     "metadata": {},
     "output_type": "execute_result"
    }
   ],
   "source": [
    "df_1.isna().sum()"
   ]
  },
  {
   "cell_type": "code",
   "execution_count": 5,
   "id": "5dde489f",
   "metadata": {},
   "outputs": [
    {
     "data": {
      "text/plain": [
       "0    28292707.0\n",
       "1    28292707.0\n",
       "2    28292707.0\n",
       "3    69219765.0\n",
       "4    43419447.0\n",
       "5    76629095.0\n",
       "6    55608922.0\n",
       "7    54600174.0\n",
       "8    15117619.0\n",
       "9    28292707.0\n",
       "Name: no_lasting_investmen, dtype: float64"
      ]
     },
     "execution_count": 5,
     "metadata": {},
     "output_type": "execute_result"
    }
   ],
   "source": [
    "df_1[\"no_lasting_investmen\"][:10]"
   ]
  },
  {
   "cell_type": "code",
   "execution_count": 7,
   "id": "afe2f5de",
   "metadata": {},
   "outputs": [],
   "source": [
    "df_1[\"no_lasting_investmen\"].fillna(np.mean(df_1[\"no_lasting_investmen\"]), inplace=True)"
   ]
  },
  {
   "cell_type": "code",
   "execution_count": 8,
   "id": "94cd155d",
   "metadata": {},
   "outputs": [
    {
     "data": {
      "text/plain": [
       "Survey_id                0\n",
       "Ville_id                 0\n",
       "sex                      0\n",
       "Age                      0\n",
       "Married                  0\n",
       "Number_children          0\n",
       "education_level          0\n",
       "total_members            0\n",
       "gained_asset             0\n",
       "durable_asset            0\n",
       "save_asset               0\n",
       "living_expenses          0\n",
       "other_expenses           0\n",
       "incoming_salary          0\n",
       "incoming_own_farm        0\n",
       "incoming_business        0\n",
       "incoming_no_business     0\n",
       "incoming_agricultural    0\n",
       "farm_expenses            0\n",
       "labor_primary            0\n",
       "lasting_investment       0\n",
       "no_lasting_investmen     0\n",
       "depressed                0\n",
       "dtype: int64"
      ]
     },
     "execution_count": 8,
     "metadata": {},
     "output_type": "execute_result"
    }
   ],
   "source": [
    "df_1.isna().sum()"
   ]
  },
  {
   "cell_type": "code",
   "execution_count": 10,
   "id": "48c2ab04",
   "metadata": {},
   "outputs": [],
   "source": [
    "df_1.drop([\"Survey_id\", \"Ville_id\"], inplace=True, axis=1)"
   ]
  },
  {
   "cell_type": "code",
   "execution_count": 11,
   "id": "8b8315e5",
   "metadata": {},
   "outputs": [
    {
     "data": {
      "text/plain": [
       "1    1312\n",
       "0     117\n",
       "Name: sex, dtype: int64"
      ]
     },
     "execution_count": 11,
     "metadata": {},
     "output_type": "execute_result"
    }
   ],
   "source": [
    "df_1[\"sex\"].value_counts()"
   ]
  },
  {
   "cell_type": "code",
   "execution_count": 12,
   "id": "61e31388",
   "metadata": {},
   "outputs": [
    {
     "data": {
      "text/plain": [
       "1    1104\n",
       "0     325\n",
       "Name: Married, dtype: int64"
      ]
     },
     "execution_count": 12,
     "metadata": {},
     "output_type": "execute_result"
    }
   ],
   "source": [
    "df_1[\"Married\"].value_counts()"
   ]
  },
  {
   "cell_type": "code",
   "execution_count": 13,
   "id": "68c967cc",
   "metadata": {},
   "outputs": [
    {
     "data": {
      "text/plain": [
       "0    1191\n",
       "1     238\n",
       "Name: depressed, dtype: int64"
      ]
     },
     "execution_count": 13,
     "metadata": {},
     "output_type": "execute_result"
    }
   ],
   "source": [
    "df_1[\"depressed\"].value_counts()"
   ]
  },
  {
   "cell_type": "markdown",
   "id": "73940e14",
   "metadata": {},
   "source": [
    "## Splitting The Dataset"
   ]
  },
  {
   "cell_type": "code",
   "execution_count": 15,
   "id": "e55b05df",
   "metadata": {},
   "outputs": [
    {
     "data": {
      "text/plain": [
       "(1143, 1143, 286, 286)"
      ]
     },
     "execution_count": 15,
     "metadata": {},
     "output_type": "execute_result"
    }
   ],
   "source": [
    "from sklearn.model_selection import train_test_split\n",
    "\n",
    "X = df_1.drop(\"depressed\", axis=1)\n",
    "y = df_1[\"depressed\"]\n",
    "\n",
    "X_train, X_test, y_train, y_test = train_test_split(X, y, test_size=0.2)\n",
    "len(X_train), len(y_train), len(X_test), len(y_test)"
   ]
  },
  {
   "cell_type": "markdown",
   "id": "5141105d",
   "metadata": {},
   "source": [
    "## Training the Model "
   ]
  },
  {
   "cell_type": "code",
   "execution_count": 17,
   "id": "6083d12d",
   "metadata": {},
   "outputs": [
    {
     "data": {
      "text/plain": [
       "0.8111888111888111"
      ]
     },
     "execution_count": 17,
     "metadata": {},
     "output_type": "execute_result"
    }
   ],
   "source": [
    "from sklearn.ensemble import RandomForestClassifier\n",
    "\n",
    "clf = RandomForestClassifier()\n",
    "clf.fit(X_train, y_train)\n",
    "\n",
    "clf.score(X_test, y_test)"
   ]
  },
  {
   "cell_type": "markdown",
   "id": "6af3f135",
   "metadata": {},
   "source": [
    "# Using Tensorflow Keras"
   ]
  },
  {
   "cell_type": "code",
   "execution_count": 18,
   "id": "04a6dbf3",
   "metadata": {},
   "outputs": [],
   "source": [
    "import numpy as np\n",
    "import tensorflow as tf\n",
    "import pandas as pd"
   ]
  },
  {
   "cell_type": "code",
   "execution_count": 19,
   "id": "d4b3d1ac",
   "metadata": {},
   "outputs": [
    {
     "data": {
      "text/plain": [
       "'2.10.0'"
      ]
     },
     "execution_count": 19,
     "metadata": {},
     "output_type": "execute_result"
    }
   ],
   "source": [
    "tf.__version__"
   ]
  },
  {
   "cell_type": "markdown",
   "id": "21791a03",
   "metadata": {},
   "source": [
    "## Data Selecting"
   ]
  },
  {
   "cell_type": "code",
   "execution_count": 20,
   "id": "79121603",
   "metadata": {},
   "outputs": [
    {
     "data": {
      "text/html": [
       "<div>\n",
       "<style scoped>\n",
       "    .dataframe tbody tr th:only-of-type {\n",
       "        vertical-align: middle;\n",
       "    }\n",
       "\n",
       "    .dataframe tbody tr th {\n",
       "        vertical-align: top;\n",
       "    }\n",
       "\n",
       "    .dataframe thead th {\n",
       "        text-align: right;\n",
       "    }\n",
       "</style>\n",
       "<table border=\"1\" class=\"dataframe\">\n",
       "  <thead>\n",
       "    <tr style=\"text-align: right;\">\n",
       "      <th></th>\n",
       "      <th>Survey_id</th>\n",
       "      <th>Ville_id</th>\n",
       "      <th>sex</th>\n",
       "      <th>Age</th>\n",
       "      <th>Married</th>\n",
       "      <th>Number_children</th>\n",
       "      <th>education_level</th>\n",
       "      <th>total_members</th>\n",
       "      <th>gained_asset</th>\n",
       "      <th>durable_asset</th>\n",
       "      <th>...</th>\n",
       "      <th>incoming_salary</th>\n",
       "      <th>incoming_own_farm</th>\n",
       "      <th>incoming_business</th>\n",
       "      <th>incoming_no_business</th>\n",
       "      <th>incoming_agricultural</th>\n",
       "      <th>farm_expenses</th>\n",
       "      <th>labor_primary</th>\n",
       "      <th>lasting_investment</th>\n",
       "      <th>no_lasting_investmen</th>\n",
       "      <th>depressed</th>\n",
       "    </tr>\n",
       "  </thead>\n",
       "  <tbody>\n",
       "    <tr>\n",
       "      <th>0</th>\n",
       "      <td>926</td>\n",
       "      <td>91</td>\n",
       "      <td>1</td>\n",
       "      <td>28</td>\n",
       "      <td>1</td>\n",
       "      <td>4</td>\n",
       "      <td>10</td>\n",
       "      <td>5</td>\n",
       "      <td>28912201</td>\n",
       "      <td>22861940</td>\n",
       "      <td>...</td>\n",
       "      <td>0</td>\n",
       "      <td>0</td>\n",
       "      <td>0</td>\n",
       "      <td>0</td>\n",
       "      <td>30028818</td>\n",
       "      <td>31363432</td>\n",
       "      <td>0</td>\n",
       "      <td>28411718</td>\n",
       "      <td>28292707.0</td>\n",
       "      <td>0</td>\n",
       "    </tr>\n",
       "    <tr>\n",
       "      <th>1</th>\n",
       "      <td>747</td>\n",
       "      <td>57</td>\n",
       "      <td>1</td>\n",
       "      <td>23</td>\n",
       "      <td>1</td>\n",
       "      <td>3</td>\n",
       "      <td>8</td>\n",
       "      <td>5</td>\n",
       "      <td>28912201</td>\n",
       "      <td>22861940</td>\n",
       "      <td>...</td>\n",
       "      <td>0</td>\n",
       "      <td>0</td>\n",
       "      <td>0</td>\n",
       "      <td>0</td>\n",
       "      <td>30028818</td>\n",
       "      <td>31363432</td>\n",
       "      <td>0</td>\n",
       "      <td>28411718</td>\n",
       "      <td>28292707.0</td>\n",
       "      <td>1</td>\n",
       "    </tr>\n",
       "    <tr>\n",
       "      <th>2</th>\n",
       "      <td>1190</td>\n",
       "      <td>115</td>\n",
       "      <td>1</td>\n",
       "      <td>22</td>\n",
       "      <td>1</td>\n",
       "      <td>3</td>\n",
       "      <td>9</td>\n",
       "      <td>5</td>\n",
       "      <td>28912201</td>\n",
       "      <td>22861940</td>\n",
       "      <td>...</td>\n",
       "      <td>0</td>\n",
       "      <td>0</td>\n",
       "      <td>0</td>\n",
       "      <td>0</td>\n",
       "      <td>30028818</td>\n",
       "      <td>31363432</td>\n",
       "      <td>0</td>\n",
       "      <td>28411718</td>\n",
       "      <td>28292707.0</td>\n",
       "      <td>0</td>\n",
       "    </tr>\n",
       "    <tr>\n",
       "      <th>3</th>\n",
       "      <td>1065</td>\n",
       "      <td>97</td>\n",
       "      <td>1</td>\n",
       "      <td>27</td>\n",
       "      <td>1</td>\n",
       "      <td>2</td>\n",
       "      <td>10</td>\n",
       "      <td>4</td>\n",
       "      <td>52667108</td>\n",
       "      <td>19698904</td>\n",
       "      <td>...</td>\n",
       "      <td>0</td>\n",
       "      <td>1</td>\n",
       "      <td>0</td>\n",
       "      <td>1</td>\n",
       "      <td>22288055</td>\n",
       "      <td>18751329</td>\n",
       "      <td>0</td>\n",
       "      <td>7781123</td>\n",
       "      <td>69219765.0</td>\n",
       "      <td>0</td>\n",
       "    </tr>\n",
       "    <tr>\n",
       "      <th>4</th>\n",
       "      <td>806</td>\n",
       "      <td>42</td>\n",
       "      <td>0</td>\n",
       "      <td>59</td>\n",
       "      <td>0</td>\n",
       "      <td>4</td>\n",
       "      <td>10</td>\n",
       "      <td>6</td>\n",
       "      <td>82606287</td>\n",
       "      <td>17352654</td>\n",
       "      <td>...</td>\n",
       "      <td>1</td>\n",
       "      <td>0</td>\n",
       "      <td>0</td>\n",
       "      <td>0</td>\n",
       "      <td>53384566</td>\n",
       "      <td>20731006</td>\n",
       "      <td>1</td>\n",
       "      <td>20100562</td>\n",
       "      <td>43419447.0</td>\n",
       "      <td>0</td>\n",
       "    </tr>\n",
       "  </tbody>\n",
       "</table>\n",
       "<p>5 rows × 23 columns</p>\n",
       "</div>"
      ],
      "text/plain": [
       "   Survey_id  Ville_id  sex  Age  Married  Number_children  education_level  \\\n",
       "0        926        91    1   28        1                4               10   \n",
       "1        747        57    1   23        1                3                8   \n",
       "2       1190       115    1   22        1                3                9   \n",
       "3       1065        97    1   27        1                2               10   \n",
       "4        806        42    0   59        0                4               10   \n",
       "\n",
       "   total_members  gained_asset  durable_asset  ...  incoming_salary  \\\n",
       "0              5      28912201       22861940  ...                0   \n",
       "1              5      28912201       22861940  ...                0   \n",
       "2              5      28912201       22861940  ...                0   \n",
       "3              4      52667108       19698904  ...                0   \n",
       "4              6      82606287       17352654  ...                1   \n",
       "\n",
       "   incoming_own_farm  incoming_business  incoming_no_business  \\\n",
       "0                  0                  0                     0   \n",
       "1                  0                  0                     0   \n",
       "2                  0                  0                     0   \n",
       "3                  1                  0                     1   \n",
       "4                  0                  0                     0   \n",
       "\n",
       "   incoming_agricultural  farm_expenses  labor_primary  lasting_investment  \\\n",
       "0               30028818       31363432              0            28411718   \n",
       "1               30028818       31363432              0            28411718   \n",
       "2               30028818       31363432              0            28411718   \n",
       "3               22288055       18751329              0             7781123   \n",
       "4               53384566       20731006              1            20100562   \n",
       "\n",
       "   no_lasting_investmen  depressed  \n",
       "0            28292707.0          0  \n",
       "1            28292707.0          1  \n",
       "2            28292707.0          0  \n",
       "3            69219765.0          0  \n",
       "4            43419447.0          0  \n",
       "\n",
       "[5 rows x 23 columns]"
      ]
     },
     "execution_count": 20,
     "metadata": {},
     "output_type": "execute_result"
    }
   ],
   "source": [
    "df_2 = pd.read_csv(\"data/proj14/b_depressed.csv\")\n",
    "df_2.head()"
   ]
  },
  {
   "cell_type": "code",
   "execution_count": 21,
   "id": "e3cdc207",
   "metadata": {},
   "outputs": [
    {
     "data": {
      "text/plain": [
       "Survey_id                 0\n",
       "Ville_id                  0\n",
       "sex                       0\n",
       "Age                       0\n",
       "Married                   0\n",
       "Number_children           0\n",
       "education_level           0\n",
       "total_members             0\n",
       "gained_asset              0\n",
       "durable_asset             0\n",
       "save_asset                0\n",
       "living_expenses           0\n",
       "other_expenses            0\n",
       "incoming_salary           0\n",
       "incoming_own_farm         0\n",
       "incoming_business         0\n",
       "incoming_no_business      0\n",
       "incoming_agricultural     0\n",
       "farm_expenses             0\n",
       "labor_primary             0\n",
       "lasting_investment        0\n",
       "no_lasting_investmen     20\n",
       "depressed                 0\n",
       "dtype: int64"
      ]
     },
     "execution_count": 21,
     "metadata": {},
     "output_type": "execute_result"
    }
   ],
   "source": [
    "df_2.isna().sum()"
   ]
  },
  {
   "cell_type": "code",
   "execution_count": 23,
   "id": "9104bbac",
   "metadata": {},
   "outputs": [],
   "source": [
    "df_2[\"no_lasting_investmen\"].fillna(np.mean(df_2[\"no_lasting_investmen\"]), inplace=True)"
   ]
  },
  {
   "cell_type": "code",
   "execution_count": 25,
   "id": "871c2ac1",
   "metadata": {},
   "outputs": [],
   "source": [
    "df_2.drop([\"Survey_id\", \"Ville_id\"], inplace=True, axis=1)"
   ]
  },
  {
   "cell_type": "code",
   "execution_count": 26,
   "id": "0f09a522",
   "metadata": {},
   "outputs": [],
   "source": [
    "X = df_2.iloc[:, :-1].values\n",
    "y = df_2.iloc[:, -1]"
   ]
  },
  {
   "cell_type": "code",
   "execution_count": 29,
   "id": "b45f963e",
   "metadata": {},
   "outputs": [],
   "source": [
    "from sklearn.model_selection import train_test_split\n",
    "\n",
    "X_train, X_test, y_train, y_test = train_test_split(X, y, test_size=0.2)"
   ]
  },
  {
   "cell_type": "markdown",
   "id": "9a207b47",
   "metadata": {},
   "source": [
    "## Bulding ANN"
   ]
  },
  {
   "cell_type": "code",
   "execution_count": 45,
   "id": "1d2a7750",
   "metadata": {},
   "outputs": [],
   "source": [
    "ann = tf.keras.models.Sequential()\n",
    "ann.add(tf.keras.layers.Dense(units=128, input_dim = 20, activation='relu'))\n",
    "ann.add(tf.keras.layers.Dense(units=64, activation='relu'))\n",
    "ann.add(tf.keras.layers.Dense(units=8, activation='relu'))\n",
    "ann.add(tf.keras.layers.Dense(units=1, activation='sigmoid'))\n",
    "\n",
    "ann.compile(optimizer='adam', loss='binary_crossentropy', metrics=['accuracy'])"
   ]
  },
  {
   "cell_type": "code",
   "execution_count": 46,
   "id": "061da915",
   "metadata": {},
   "outputs": [
    {
     "name": "stdout",
     "output_type": "stream",
     "text": [
      "Epoch 1/100\n",
      "36/36 [==============================] - 0s 2ms/step - loss: 117443.2188 - accuracy: 0.7043\n",
      "Epoch 2/100\n",
      "36/36 [==============================] - 0s 4ms/step - loss: 132.0130 - accuracy: 0.8355\n",
      "Epoch 3/100\n",
      "36/36 [==============================] - 0s 3ms/step - loss: 5.7533 - accuracy: 0.8355\n",
      "Epoch 4/100\n",
      "36/36 [==============================] - 0s 2ms/step - loss: 0.6548 - accuracy: 0.8355\n",
      "Epoch 5/100\n",
      "36/36 [==============================] - 0s 3ms/step - loss: 0.6445 - accuracy: 0.8355\n",
      "Epoch 6/100\n",
      "36/36 [==============================] - 0s 3ms/step - loss: 0.6347 - accuracy: 0.8355\n",
      "Epoch 7/100\n",
      "36/36 [==============================] - 0s 3ms/step - loss: 0.6253 - accuracy: 0.8355\n",
      "Epoch 8/100\n",
      "36/36 [==============================] - 0s 4ms/step - loss: 0.6163 - accuracy: 0.8355\n",
      "Epoch 9/100\n",
      "36/36 [==============================] - 0s 4ms/step - loss: 0.6077 - accuracy: 0.8355\n",
      "Epoch 10/100\n",
      "36/36 [==============================] - 0s 3ms/step - loss: 0.5995 - accuracy: 0.8355\n",
      "Epoch 11/100\n",
      "36/36 [==============================] - 0s 3ms/step - loss: 0.5918 - accuracy: 0.8355\n",
      "Epoch 12/100\n",
      "36/36 [==============================] - 0s 4ms/step - loss: 0.5842 - accuracy: 0.8355\n",
      "Epoch 13/100\n",
      "36/36 [==============================] - 0s 3ms/step - loss: 0.5770 - accuracy: 0.8355\n",
      "Epoch 14/100\n",
      "36/36 [==============================] - 0s 3ms/step - loss: 0.5703 - accuracy: 0.8355\n",
      "Epoch 15/100\n",
      "36/36 [==============================] - 0s 2ms/step - loss: 0.5638 - accuracy: 0.8355\n",
      "Epoch 16/100\n",
      "36/36 [==============================] - 0s 3ms/step - loss: 0.5575 - accuracy: 0.8355\n",
      "Epoch 17/100\n",
      "36/36 [==============================] - 0s 3ms/step - loss: 0.5515 - accuracy: 0.8355\n",
      "Epoch 18/100\n",
      "36/36 [==============================] - 0s 2ms/step - loss: 0.5459 - accuracy: 0.8355\n",
      "Epoch 19/100\n",
      "36/36 [==============================] - 0s 3ms/step - loss: 0.5405 - accuracy: 0.8355\n",
      "Epoch 20/100\n",
      "36/36 [==============================] - 0s 3ms/step - loss: 0.5353 - accuracy: 0.8355\n",
      "Epoch 21/100\n",
      "36/36 [==============================] - 0s 2ms/step - loss: 0.5305 - accuracy: 0.8355\n",
      "Epoch 22/100\n",
      "36/36 [==============================] - 0s 2ms/step - loss: 0.5259 - accuracy: 0.8355\n",
      "Epoch 23/100\n",
      "36/36 [==============================] - 0s 3ms/step - loss: 0.5214 - accuracy: 0.8355\n",
      "Epoch 24/100\n",
      "36/36 [==============================] - 0s 6ms/step - loss: 0.5172 - accuracy: 0.8355\n",
      "Epoch 25/100\n",
      "36/36 [==============================] - 0s 5ms/step - loss: 0.5132 - accuracy: 0.8355\n",
      "Epoch 26/100\n",
      "36/36 [==============================] - 0s 3ms/step - loss: 0.5095 - accuracy: 0.8355\n",
      "Epoch 27/100\n",
      "36/36 [==============================] - 0s 2ms/step - loss: 0.5058 - accuracy: 0.8355\n",
      "Epoch 28/100\n",
      "36/36 [==============================] - 0s 3ms/step - loss: 0.5024 - accuracy: 0.8355\n",
      "Epoch 29/100\n",
      "36/36 [==============================] - 0s 5ms/step - loss: 0.4991 - accuracy: 0.8355\n",
      "Epoch 30/100\n",
      "36/36 [==============================] - 0s 2ms/step - loss: 0.4961 - accuracy: 0.8355\n",
      "Epoch 31/100\n",
      "36/36 [==============================] - 0s 3ms/step - loss: 0.4931 - accuracy: 0.8355\n",
      "Epoch 32/100\n",
      "36/36 [==============================] - 0s 2ms/step - loss: 0.4904 - accuracy: 0.8355\n",
      "Epoch 33/100\n",
      "36/36 [==============================] - 0s 4ms/step - loss: 0.4877 - accuracy: 0.8355\n",
      "Epoch 34/100\n",
      "36/36 [==============================] - 0s 3ms/step - loss: 0.4852 - accuracy: 0.8355\n",
      "Epoch 35/100\n",
      "36/36 [==============================] - 0s 3ms/step - loss: 0.4828 - accuracy: 0.8355\n",
      "Epoch 36/100\n",
      "36/36 [==============================] - 0s 3ms/step - loss: 0.4806 - accuracy: 0.8355\n",
      "Epoch 37/100\n",
      "36/36 [==============================] - 0s 7ms/step - loss: 0.4785 - accuracy: 0.8355\n",
      "Epoch 38/100\n",
      "36/36 [==============================] - 0s 6ms/step - loss: 0.4764 - accuracy: 0.8355\n",
      "Epoch 39/100\n",
      "36/36 [==============================] - 0s 7ms/step - loss: 0.4746 - accuracy: 0.8355\n",
      "Epoch 40/100\n",
      "36/36 [==============================] - 0s 5ms/step - loss: 0.4728 - accuracy: 0.8355\n",
      "Epoch 41/100\n",
      "36/36 [==============================] - 0s 2ms/step - loss: 0.4711 - accuracy: 0.8355\n",
      "Epoch 42/100\n",
      "36/36 [==============================] - 0s 3ms/step - loss: 0.4695 - accuracy: 0.8355\n",
      "Epoch 43/100\n",
      "36/36 [==============================] - 0s 2ms/step - loss: 0.4680 - accuracy: 0.8355\n",
      "Epoch 44/100\n",
      "36/36 [==============================] - 0s 3ms/step - loss: 0.4666 - accuracy: 0.8355\n",
      "Epoch 45/100\n",
      "36/36 [==============================] - 0s 4ms/step - loss: 0.4652 - accuracy: 0.8355\n",
      "Epoch 46/100\n",
      "36/36 [==============================] - 0s 4ms/step - loss: 0.4640 - accuracy: 0.8355\n",
      "Epoch 47/100\n",
      "36/36 [==============================] - 0s 3ms/step - loss: 0.4628 - accuracy: 0.8355\n",
      "Epoch 48/100\n",
      "36/36 [==============================] - 0s 2ms/step - loss: 0.4617 - accuracy: 0.8355\n",
      "Epoch 49/100\n",
      "36/36 [==============================] - 0s 3ms/step - loss: 0.4606 - accuracy: 0.8355\n",
      "Epoch 50/100\n",
      "36/36 [==============================] - 0s 4ms/step - loss: 0.4596 - accuracy: 0.8355\n",
      "Epoch 51/100\n",
      "36/36 [==============================] - 0s 4ms/step - loss: 0.4587 - accuracy: 0.8355\n",
      "Epoch 52/100\n",
      "36/36 [==============================] - 0s 4ms/step - loss: 0.4579 - accuracy: 0.8355\n",
      "Epoch 53/100\n",
      "36/36 [==============================] - 0s 3ms/step - loss: 0.4570 - accuracy: 0.8355\n",
      "Epoch 54/100\n",
      "36/36 [==============================] - 0s 3ms/step - loss: 0.4563 - accuracy: 0.8355\n",
      "Epoch 55/100\n",
      "36/36 [==============================] - 0s 3ms/step - loss: 0.4555 - accuracy: 0.8355\n",
      "Epoch 56/100\n",
      "36/36 [==============================] - 0s 3ms/step - loss: 0.4548 - accuracy: 0.8355\n",
      "Epoch 57/100\n",
      "36/36 [==============================] - 0s 2ms/step - loss: 0.4543 - accuracy: 0.8355\n",
      "Epoch 58/100\n",
      "36/36 [==============================] - 0s 2ms/step - loss: 0.4536 - accuracy: 0.8355\n",
      "Epoch 59/100\n",
      "36/36 [==============================] - 0s 3ms/step - loss: 0.4531 - accuracy: 0.8355\n",
      "Epoch 60/100\n",
      "36/36 [==============================] - 0s 2ms/step - loss: 0.4526 - accuracy: 0.8355\n",
      "Epoch 61/100\n",
      "36/36 [==============================] - 0s 3ms/step - loss: 0.4521 - accuracy: 0.8355\n",
      "Epoch 62/100\n",
      "36/36 [==============================] - 0s 3ms/step - loss: 0.4517 - accuracy: 0.8355\n",
      "Epoch 63/100\n",
      "36/36 [==============================] - 0s 3ms/step - loss: 0.4513 - accuracy: 0.8355\n",
      "Epoch 64/100\n",
      "36/36 [==============================] - 0s 3ms/step - loss: 0.4509 - accuracy: 0.8355\n",
      "Epoch 65/100\n",
      "36/36 [==============================] - 0s 4ms/step - loss: 0.4505 - accuracy: 0.8355\n",
      "Epoch 66/100\n",
      "36/36 [==============================] - 0s 4ms/step - loss: 0.4502 - accuracy: 0.8355\n",
      "Epoch 67/100\n",
      "36/36 [==============================] - 0s 4ms/step - loss: 0.4499 - accuracy: 0.8355\n",
      "Epoch 68/100\n",
      "36/36 [==============================] - 0s 2ms/step - loss: 0.4496 - accuracy: 0.8355\n",
      "Epoch 69/100\n",
      "36/36 [==============================] - 0s 2ms/step - loss: 0.4493 - accuracy: 0.8355\n",
      "Epoch 70/100\n",
      "36/36 [==============================] - 0s 2ms/step - loss: 0.4491 - accuracy: 0.8355\n",
      "Epoch 71/100\n",
      "36/36 [==============================] - 0s 4ms/step - loss: 0.4489 - accuracy: 0.8355\n",
      "Epoch 72/100\n",
      "36/36 [==============================] - 0s 7ms/step - loss: 0.4487 - accuracy: 0.8355\n",
      "Epoch 73/100\n",
      "36/36 [==============================] - 0s 2ms/step - loss: 0.4485 - accuracy: 0.8355\n",
      "Epoch 74/100\n",
      "36/36 [==============================] - 0s 3ms/step - loss: 0.4483 - accuracy: 0.8355\n",
      "Epoch 75/100\n",
      "36/36 [==============================] - 0s 6ms/step - loss: 0.4481 - accuracy: 0.8355\n",
      "Epoch 76/100\n",
      "36/36 [==============================] - 0s 3ms/step - loss: 0.4480 - accuracy: 0.8355\n",
      "Epoch 77/100\n",
      "36/36 [==============================] - 0s 3ms/step - loss: 0.4479 - accuracy: 0.8355\n",
      "Epoch 78/100\n",
      "36/36 [==============================] - 0s 3ms/step - loss: 0.4477 - accuracy: 0.8355\n",
      "Epoch 79/100\n",
      "36/36 [==============================] - 0s 3ms/step - loss: 0.4476 - accuracy: 0.8355\n",
      "Epoch 80/100\n",
      "36/36 [==============================] - 0s 3ms/step - loss: 0.4475 - accuracy: 0.8355\n",
      "Epoch 81/100\n",
      "36/36 [==============================] - 0s 2ms/step - loss: 0.4474 - accuracy: 0.8355\n",
      "Epoch 82/100\n"
     ]
    },
    {
     "name": "stdout",
     "output_type": "stream",
     "text": [
      "36/36 [==============================] - 0s 4ms/step - loss: 0.4473 - accuracy: 0.8355\n",
      "Epoch 83/100\n",
      "36/36 [==============================] - 0s 4ms/step - loss: 0.4472 - accuracy: 0.8355\n",
      "Epoch 84/100\n",
      "36/36 [==============================] - 0s 2ms/step - loss: 0.4472 - accuracy: 0.8355\n",
      "Epoch 85/100\n",
      "36/36 [==============================] - 0s 3ms/step - loss: 0.4471 - accuracy: 0.8355\n",
      "Epoch 86/100\n",
      "36/36 [==============================] - 0s 2ms/step - loss: 0.4470 - accuracy: 0.8355\n",
      "Epoch 87/100\n",
      "36/36 [==============================] - 0s 2ms/step - loss: 0.4469 - accuracy: 0.8355\n",
      "Epoch 88/100\n",
      "36/36 [==============================] - 0s 2ms/step - loss: 0.4469 - accuracy: 0.8355\n",
      "Epoch 89/100\n",
      "36/36 [==============================] - 0s 3ms/step - loss: 0.4468 - accuracy: 0.8355\n",
      "Epoch 90/100\n",
      "36/36 [==============================] - 0s 2ms/step - loss: 0.4468 - accuracy: 0.8355\n",
      "Epoch 91/100\n",
      "36/36 [==============================] - 0s 2ms/step - loss: 0.4468 - accuracy: 0.8355\n",
      "Epoch 92/100\n",
      "36/36 [==============================] - 0s 2ms/step - loss: 0.4467 - accuracy: 0.8355\n",
      "Epoch 93/100\n",
      "36/36 [==============================] - 0s 2ms/step - loss: 0.4467 - accuracy: 0.8355\n",
      "Epoch 94/100\n",
      "36/36 [==============================] - 0s 3ms/step - loss: 0.4467 - accuracy: 0.8355\n",
      "Epoch 95/100\n",
      "36/36 [==============================] - 0s 2ms/step - loss: 0.4466 - accuracy: 0.8355\n",
      "Epoch 96/100\n",
      "36/36 [==============================] - 0s 2ms/step - loss: 0.4466 - accuracy: 0.8355\n",
      "Epoch 97/100\n",
      "36/36 [==============================] - 0s 1ms/step - loss: 0.4466 - accuracy: 0.8355\n",
      "Epoch 98/100\n",
      "36/36 [==============================] - 0s 6ms/step - loss: 0.4466 - accuracy: 0.8355\n",
      "Epoch 99/100\n",
      "36/36 [==============================] - 0s 6ms/step - loss: 0.4466 - accuracy: 0.8355\n",
      "Epoch 100/100\n",
      "36/36 [==============================] - 0s 5ms/step - loss: 0.4466 - accuracy: 0.8355\n"
     ]
    },
    {
     "data": {
      "text/plain": [
       "<keras.callbacks.History at 0x7fd9a9778340>"
      ]
     },
     "execution_count": 46,
     "metadata": {},
     "output_type": "execute_result"
    }
   ],
   "source": [
    "ann.fit(X_train, y_train, batch_size=32, epochs=100)"
   ]
  },
  {
   "cell_type": "code",
   "execution_count": 54,
   "id": "8e1d87ab",
   "metadata": {},
   "outputs": [
    {
     "name": "stdout",
     "output_type": "stream",
     "text": [
      "1/1 [==============================] - 0s 28ms/step\n"
     ]
    },
    {
     "data": {
      "text/plain": [
       "array([[False]])"
      ]
     },
     "execution_count": 54,
     "metadata": {},
     "output_type": "execute_result"
    }
   ],
   "source": [
    "ann.predict([[1, 22, 1, 3, 3, 5, 33454223.0, 22861440, 23399979, 26695283, 28209066, 1, 0, 1, 0, 3000012, 2034214, 1, 2033321, 302213]]) > 0.5"
   ]
  },
  {
   "cell_type": "code",
   "execution_count": 52,
   "id": "8b5d48d6",
   "metadata": {},
   "outputs": [
    {
     "data": {
      "text/html": [
       "<div>\n",
       "<style scoped>\n",
       "    .dataframe tbody tr th:only-of-type {\n",
       "        vertical-align: middle;\n",
       "    }\n",
       "\n",
       "    .dataframe tbody tr th {\n",
       "        vertical-align: top;\n",
       "    }\n",
       "\n",
       "    .dataframe thead th {\n",
       "        text-align: right;\n",
       "    }\n",
       "</style>\n",
       "<table border=\"1\" class=\"dataframe\">\n",
       "  <thead>\n",
       "    <tr style=\"text-align: right;\">\n",
       "      <th></th>\n",
       "      <th>0</th>\n",
       "      <th>1</th>\n",
       "      <th>2</th>\n",
       "      <th>3</th>\n",
       "      <th>4</th>\n",
       "    </tr>\n",
       "  </thead>\n",
       "  <tbody>\n",
       "    <tr>\n",
       "      <th>sex</th>\n",
       "      <td>1.0</td>\n",
       "      <td>1.0</td>\n",
       "      <td>1.0</td>\n",
       "      <td>1.0</td>\n",
       "      <td>0.0</td>\n",
       "    </tr>\n",
       "    <tr>\n",
       "      <th>Age</th>\n",
       "      <td>28.0</td>\n",
       "      <td>23.0</td>\n",
       "      <td>22.0</td>\n",
       "      <td>27.0</td>\n",
       "      <td>59.0</td>\n",
       "    </tr>\n",
       "    <tr>\n",
       "      <th>Married</th>\n",
       "      <td>1.0</td>\n",
       "      <td>1.0</td>\n",
       "      <td>1.0</td>\n",
       "      <td>1.0</td>\n",
       "      <td>0.0</td>\n",
       "    </tr>\n",
       "    <tr>\n",
       "      <th>Number_children</th>\n",
       "      <td>4.0</td>\n",
       "      <td>3.0</td>\n",
       "      <td>3.0</td>\n",
       "      <td>2.0</td>\n",
       "      <td>4.0</td>\n",
       "    </tr>\n",
       "    <tr>\n",
       "      <th>education_level</th>\n",
       "      <td>10.0</td>\n",
       "      <td>8.0</td>\n",
       "      <td>9.0</td>\n",
       "      <td>10.0</td>\n",
       "      <td>10.0</td>\n",
       "    </tr>\n",
       "    <tr>\n",
       "      <th>total_members</th>\n",
       "      <td>5.0</td>\n",
       "      <td>5.0</td>\n",
       "      <td>5.0</td>\n",
       "      <td>4.0</td>\n",
       "      <td>6.0</td>\n",
       "    </tr>\n",
       "    <tr>\n",
       "      <th>gained_asset</th>\n",
       "      <td>28912201.0</td>\n",
       "      <td>28912201.0</td>\n",
       "      <td>28912201.0</td>\n",
       "      <td>52667108.0</td>\n",
       "      <td>82606287.0</td>\n",
       "    </tr>\n",
       "    <tr>\n",
       "      <th>durable_asset</th>\n",
       "      <td>22861940.0</td>\n",
       "      <td>22861940.0</td>\n",
       "      <td>22861940.0</td>\n",
       "      <td>19698904.0</td>\n",
       "      <td>17352654.0</td>\n",
       "    </tr>\n",
       "    <tr>\n",
       "      <th>save_asset</th>\n",
       "      <td>23399979.0</td>\n",
       "      <td>23399979.0</td>\n",
       "      <td>23399979.0</td>\n",
       "      <td>49647648.0</td>\n",
       "      <td>23399979.0</td>\n",
       "    </tr>\n",
       "    <tr>\n",
       "      <th>living_expenses</th>\n",
       "      <td>26692283.0</td>\n",
       "      <td>26692283.0</td>\n",
       "      <td>26692283.0</td>\n",
       "      <td>397715.0</td>\n",
       "      <td>80877619.0</td>\n",
       "    </tr>\n",
       "    <tr>\n",
       "      <th>other_expenses</th>\n",
       "      <td>28203066.0</td>\n",
       "      <td>28203066.0</td>\n",
       "      <td>28203066.0</td>\n",
       "      <td>44042267.0</td>\n",
       "      <td>74503502.0</td>\n",
       "    </tr>\n",
       "    <tr>\n",
       "      <th>incoming_salary</th>\n",
       "      <td>0.0</td>\n",
       "      <td>0.0</td>\n",
       "      <td>0.0</td>\n",
       "      <td>0.0</td>\n",
       "      <td>1.0</td>\n",
       "    </tr>\n",
       "    <tr>\n",
       "      <th>incoming_own_farm</th>\n",
       "      <td>0.0</td>\n",
       "      <td>0.0</td>\n",
       "      <td>0.0</td>\n",
       "      <td>1.0</td>\n",
       "      <td>0.0</td>\n",
       "    </tr>\n",
       "    <tr>\n",
       "      <th>incoming_business</th>\n",
       "      <td>0.0</td>\n",
       "      <td>0.0</td>\n",
       "      <td>0.0</td>\n",
       "      <td>0.0</td>\n",
       "      <td>0.0</td>\n",
       "    </tr>\n",
       "    <tr>\n",
       "      <th>incoming_no_business</th>\n",
       "      <td>0.0</td>\n",
       "      <td>0.0</td>\n",
       "      <td>0.0</td>\n",
       "      <td>1.0</td>\n",
       "      <td>0.0</td>\n",
       "    </tr>\n",
       "    <tr>\n",
       "      <th>incoming_agricultural</th>\n",
       "      <td>30028818.0</td>\n",
       "      <td>30028818.0</td>\n",
       "      <td>30028818.0</td>\n",
       "      <td>22288055.0</td>\n",
       "      <td>53384566.0</td>\n",
       "    </tr>\n",
       "    <tr>\n",
       "      <th>farm_expenses</th>\n",
       "      <td>31363432.0</td>\n",
       "      <td>31363432.0</td>\n",
       "      <td>31363432.0</td>\n",
       "      <td>18751329.0</td>\n",
       "      <td>20731006.0</td>\n",
       "    </tr>\n",
       "    <tr>\n",
       "      <th>labor_primary</th>\n",
       "      <td>0.0</td>\n",
       "      <td>0.0</td>\n",
       "      <td>0.0</td>\n",
       "      <td>0.0</td>\n",
       "      <td>1.0</td>\n",
       "    </tr>\n",
       "    <tr>\n",
       "      <th>lasting_investment</th>\n",
       "      <td>28411718.0</td>\n",
       "      <td>28411718.0</td>\n",
       "      <td>28411718.0</td>\n",
       "      <td>7781123.0</td>\n",
       "      <td>20100562.0</td>\n",
       "    </tr>\n",
       "    <tr>\n",
       "      <th>no_lasting_investmen</th>\n",
       "      <td>28292707.0</td>\n",
       "      <td>28292707.0</td>\n",
       "      <td>28292707.0</td>\n",
       "      <td>69219765.0</td>\n",
       "      <td>43419447.0</td>\n",
       "    </tr>\n",
       "    <tr>\n",
       "      <th>depressed</th>\n",
       "      <td>0.0</td>\n",
       "      <td>1.0</td>\n",
       "      <td>0.0</td>\n",
       "      <td>0.0</td>\n",
       "      <td>0.0</td>\n",
       "    </tr>\n",
       "  </tbody>\n",
       "</table>\n",
       "</div>"
      ],
      "text/plain": [
       "                                0           1           2           3  \\\n",
       "sex                           1.0         1.0         1.0         1.0   \n",
       "Age                          28.0        23.0        22.0        27.0   \n",
       "Married                       1.0         1.0         1.0         1.0   \n",
       "Number_children               4.0         3.0         3.0         2.0   \n",
       "education_level              10.0         8.0         9.0        10.0   \n",
       "total_members                 5.0         5.0         5.0         4.0   \n",
       "gained_asset           28912201.0  28912201.0  28912201.0  52667108.0   \n",
       "durable_asset          22861940.0  22861940.0  22861940.0  19698904.0   \n",
       "save_asset             23399979.0  23399979.0  23399979.0  49647648.0   \n",
       "living_expenses        26692283.0  26692283.0  26692283.0    397715.0   \n",
       "other_expenses         28203066.0  28203066.0  28203066.0  44042267.0   \n",
       "incoming_salary               0.0         0.0         0.0         0.0   \n",
       "incoming_own_farm             0.0         0.0         0.0         1.0   \n",
       "incoming_business             0.0         0.0         0.0         0.0   \n",
       "incoming_no_business          0.0         0.0         0.0         1.0   \n",
       "incoming_agricultural  30028818.0  30028818.0  30028818.0  22288055.0   \n",
       "farm_expenses          31363432.0  31363432.0  31363432.0  18751329.0   \n",
       "labor_primary                 0.0         0.0         0.0         0.0   \n",
       "lasting_investment     28411718.0  28411718.0  28411718.0   7781123.0   \n",
       "no_lasting_investmen   28292707.0  28292707.0  28292707.0  69219765.0   \n",
       "depressed                     0.0         1.0         0.0         0.0   \n",
       "\n",
       "                                4  \n",
       "sex                           0.0  \n",
       "Age                          59.0  \n",
       "Married                       0.0  \n",
       "Number_children               4.0  \n",
       "education_level              10.0  \n",
       "total_members                 6.0  \n",
       "gained_asset           82606287.0  \n",
       "durable_asset          17352654.0  \n",
       "save_asset             23399979.0  \n",
       "living_expenses        80877619.0  \n",
       "other_expenses         74503502.0  \n",
       "incoming_salary               1.0  \n",
       "incoming_own_farm             0.0  \n",
       "incoming_business             0.0  \n",
       "incoming_no_business          0.0  \n",
       "incoming_agricultural  53384566.0  \n",
       "farm_expenses          20731006.0  \n",
       "labor_primary                 1.0  \n",
       "lasting_investment     20100562.0  \n",
       "no_lasting_investmen   43419447.0  \n",
       "depressed                     0.0  "
      ]
     },
     "execution_count": 52,
     "metadata": {},
     "output_type": "execute_result"
    }
   ],
   "source": [
    "df_2.head().T"
   ]
  },
  {
   "cell_type": "code",
   "execution_count": 55,
   "id": "03bd9801",
   "metadata": {},
   "outputs": [
    {
     "name": "stdout",
     "output_type": "stream",
     "text": [
      "9/9 [==============================] - 0s 6ms/step\n"
     ]
    },
    {
     "data": {
      "text/plain": [
       "array([[236,   0],\n",
       "       [ 50,   0]])"
      ]
     },
     "execution_count": 55,
     "metadata": {},
     "output_type": "execute_result"
    }
   ],
   "source": [
    "y_pred = ann.predict(X_test)\n",
    "y_pred = (y_pred > 0.5)\n",
    "from sklearn.metrics import confusion_matrix, accuracy_score\n",
    "\n",
    "cm = confusion_matrix(y_test, y_pred)\n",
    "cm"
   ]
  },
  {
   "cell_type": "code",
   "execution_count": 56,
   "id": "ce6fafc8",
   "metadata": {},
   "outputs": [
    {
     "data": {
      "text/plain": [
       "0.8251748251748252"
      ]
     },
     "execution_count": 56,
     "metadata": {},
     "output_type": "execute_result"
    }
   ],
   "source": [
    "accuracy_score(y_test, y_pred)"
   ]
  },
  {
   "cell_type": "code",
   "execution_count": null,
   "id": "23064483",
   "metadata": {},
   "outputs": [],
   "source": []
  }
 ],
 "metadata": {
  "kernelspec": {
   "display_name": "Python 3 (ipykernel)",
   "language": "python",
   "name": "python3"
  },
  "language_info": {
   "codemirror_mode": {
    "name": "ipython",
    "version": 3
   },
   "file_extension": ".py",
   "mimetype": "text/x-python",
   "name": "python",
   "nbconvert_exporter": "python",
   "pygments_lexer": "ipython3",
   "version": "3.9.15"
  }
 },
 "nbformat": 4,
 "nbformat_minor": 5
}
